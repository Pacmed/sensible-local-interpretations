{
 "cells": [
  {
   "cell_type": "code",
   "execution_count": 1,
   "metadata": {},
   "outputs": [],
   "source": [
    "%load_ext autoreload\n",
    "%autoreload 2\n",
    "\n",
    "from tqdm import tqdm\n",
    "import matplotlib.pyplot as plt\n",
    "import numpy as np\n",
    "import pickle as pkl\n",
    "from os.path import join as oj\n",
    "from copy import deepcopy\n",
    "import pandas as pd\n",
    "from numpy import array as arr\n",
    "import time\n",
    "sys.path.append('../src')\n",
    "import utils\n",
    "\n",
    "# sklearn models\n",
    "from sklearn.calibration import calibration_curve\n",
    "from sklearn.linear_model import LogisticRegression\n",
    "from sklearn.ensemble import RandomForestClassifier, RandomForestRegressor\n",
    "from sklearn.tree import export_graphviz, DecisionTreeClassifier, DecisionTreeRegressor\n",
    "from sklearn.tree import plot_tree\n",
    "\n",
    "import torch\n",
    "from torch import nn\n",
    "\n",
    "cred = (234/255, 51/255, 86/255)\n",
    "cblue = (57/255, 138/255, 242/255)\n",
    "out_dir = '../results/sim_linear'\n",
    "os.makedirs(out_dir, exist_ok=True)"
   ]
  },
  {
   "cell_type": "markdown",
   "metadata": {},
   "source": [
    "# rulefit\n",
    "- must be installed with: `pip install git+git://github.com/christophM/rulefit.git`\n",
    "- some docs: `https://github.com/christophM/rulefit`\n",
    "- original paper: `http://statweb.stanford.edu/~jhf/ftp/RuleFit.pdf`"
   ]
  },
  {
   "cell_type": "code",
   "execution_count": null,
   "metadata": {},
   "outputs": [],
   "source": [
    "import numpy as np\n",
    "import pandas as pd\n",
    "\n",
    "from rulefit import RuleFit\n",
    "\n",
    "boston_data = pd.read_csv(\"boston.csv\", index_col=0)\n",
    "\n",
    "y = boston_data.medv.values\n",
    "X = boston_data.drop(\"medv\", axis=1)\n",
    "features = X.columns\n",
    "X = X.values\n",
    "\n",
    "rf = RuleFit()\n",
    "rf.fit(X, y, feature_names=features)\n",
    "\n",
    "preds = rf.predict(X)\n",
    "print(f'train mse: {np.mean(np.square(preds-y)):0.2f}')"
   ]
  },
  {
   "cell_type": "markdown",
   "metadata": {},
   "source": [
    "*inspect the rules*\n",
    "- rule is how the feature is constructed\n",
    "- coef is its weight in the final linear model\n",
    "- support is how many points it applies to"
   ]
  },
  {
   "cell_type": "code",
   "execution_count": null,
   "metadata": {},
   "outputs": [],
   "source": [
    "rules = rf.get_rules()\n",
    "\n",
    "rules = rules[rules.coef != 0].sort_values(\"support\", ascending=False)\n",
    "\n",
    "print(rules[['rule', 'coef', 'support']]) #.sort_values('coef'))"
   ]
  },
  {
   "cell_type": "markdown",
   "metadata": {},
   "source": [
    "# scalable bayesian rule lists\n",
    "- docs at `https://github.com/myaooo/pysbrl`\n",
    "- requires installing some `c` packages (ex. instructions [here](https://coral.ise.lehigh.edu/jild13/2016/07/11/hello/))"
   ]
  },
  {
   "cell_type": "code",
   "execution_count": null,
   "metadata": {},
   "outputs": [],
   "source": []
  },
  {
   "cell_type": "markdown",
   "metadata": {},
   "source": [
    "# optimal classification tree\n",
    "- docs here: `https://github.com/pan5431333/pyoptree`\n",
    "- note: this implementation is still unstable"
   ]
  },
  {
   "cell_type": "code",
   "execution_count": null,
   "metadata": {},
   "outputs": [],
   "source": [
    "import pandas as pd\n",
    "from pyoptree.optree import OptimalHyperTreeModel, OptimalTreeModel\n",
    "\n",
    "data = pd.DataFrame({\n",
    "        \"index\": ['A', 'C', 'D', 'E', 'F'],\n",
    "        \"x1\": [1, 2, 2, 2, 3],\n",
    "        \"x2\": [1, 2, 1, 0, 1],\n",
    "        \"y\": [1, 1, -1, -1, -1]\n",
    "    })\n",
    "test_data = pd.DataFrame({\n",
    "    \"index\": ['A', 'B', 'C', 'D', 'E', 'F', 'G'],\n",
    "    \"x1\": [1, 1, 2, 2, 2, 3, 3],\n",
    "    \"x2\": [1, 2, 2, 1, 0, 1, 0],\n",
    "    \"y\": [1, 1, 1, -1, -1, -1, -1]\n",
    "})\n",
    "model = OptimalHyperTreeModel([\"x1\", \"x2\"], \"y\", tree_depth=2, N_min=1, alpha=0.1, solver_name=\"cplex\")\n",
    "model.train(data)\n",
    "\n",
    "print(model.predict(test_data))"
   ]
  }
 ],
 "metadata": {
  "kernelspec": {
   "display_name": "Python 3",
   "language": "python",
   "name": "python3"
  },
  "language_info": {
   "codemirror_mode": {
    "name": "ipython",
    "version": 3
   },
   "file_extension": ".py",
   "mimetype": "text/x-python",
   "name": "python",
   "nbconvert_exporter": "python",
   "pygments_lexer": "ipython3",
   "version": "3.7.0"
  }
 },
 "nbformat": 4,
 "nbformat_minor": 2
}
