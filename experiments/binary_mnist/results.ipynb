{
 "cells": [
  {
   "cell_type": "code",
   "execution_count": 1,
   "metadata": {},
   "outputs": [],
   "source": [
    "import sys\n",
    "sys.path.append('../..')"
   ]
  },
  {
   "cell_type": "code",
   "execution_count": 2,
   "metadata": {},
   "outputs": [],
   "source": [
    "from src.models import MLP\n",
    "from torchvision.datasets import MNIST\n",
    "from typing import Union\n",
    "import pandas as pd\n",
    "import numpy as np\n",
    "import torch\n",
    "from torch.optim import Adam, SGD\n",
    "from torch.utils.data import DataLoader, TensorDataset\n",
    "from tqdm.auto import tqdm\n",
    "import matplotlib.pyplot as plt\n",
    "from src.utils import make_performance_uncertainty_plot\n",
    "from sklearn.metrics import roc_auc_score"
   ]
  },
  {
   "cell_type": "code",
   "execution_count": 3,
   "metadata": {},
   "outputs": [
    {
     "data": {
      "text/plain": [
       "<torch._C.Generator at 0x126c72250>"
      ]
     },
     "execution_count": 3,
     "metadata": {},
     "output_type": "execute_result"
    }
   ],
   "source": [
    "torch.manual_seed(42)"
   ]
  },
  {
   "cell_type": "code",
   "execution_count": 4,
   "metadata": {},
   "outputs": [],
   "source": [
    "mnist_train = MNIST('../../data/', download=True)\n",
    "mnist_test = MNIST('../../data/', download=True)"
   ]
  },
  {
   "cell_type": "code",
   "execution_count": 5,
   "metadata": {},
   "outputs": [
    {
     "data": {
      "text/plain": [
       "torch.Size([5923, 28, 28])"
      ]
     },
     "execution_count": 5,
     "metadata": {},
     "output_type": "execute_result"
    }
   ],
   "source": [
    "mnist_train.data[mnist_train.targets == 0].shape"
   ]
  },
  {
   "cell_type": "code",
   "execution_count": 6,
   "metadata": {},
   "outputs": [],
   "source": [
    "# Select (arbitrarily) 0 (negative) and 1 (positive) as binary classification problem.\n",
    "binary_mnist_train_data = mnist_train.data[(mnist_train.targets == 0) | (mnist_train.targets == 1)]\n",
    "binary_mnist_test_data = mnist_test.data[(mnist_test.targets == 0) | (mnist_test.targets == 1)]\n",
    "\n",
    "binary_mnist_train_targets = mnist_train.targets[(mnist_train.targets == 0) | (mnist_train.targets == 1)]\n",
    "binary_mnist_test_targets = mnist_test.targets[(mnist_test.targets == 0) | (mnist_test.targets == 1)]"
   ]
  },
  {
   "cell_type": "code",
   "execution_count": 7,
   "metadata": {},
   "outputs": [],
   "source": [
    "model_canonical = MLP(28 * 28, 1, class_weights=[1, 1])\n",
    "# Overconfident model, predicts 1 more often.\n",
    "model_confident = MLP(28 * 28, 1, class_weights=[1, 2])\n",
    "# Shy model, predicts 0 more often.\n",
    "model_diffident = MLP(28 * 28, 1, class_weights=[1, 0.5])"
   ]
  },
  {
   "cell_type": "code",
   "execution_count": 8,
   "metadata": {},
   "outputs": [],
   "source": [
    "def get_dataloader_from_tensors(X: torch.Tensor, y: torch.Tensor, batch_size: int,\n",
    "                                shuffle: bool = True) -> DataLoader:\n",
    "    \"\"\"Obtain a dataloader for training/testing from input Tensors.\n",
    "\n",
    "    Parameters\n",
    "    ----------\n",
    "    X: torch.Tensor\n",
    "        data\n",
    "    y: torch.Tensor\n",
    "        labels\n",
    "    batch_size: int\n",
    "        batch_size\n",
    "    shuffle: optional, bool\n",
    "        Whether or not to shuffle the data first.\n",
    "\n",
    "    Returns\n",
    "    -------\n",
    "    DataLoader\n",
    "    \"\"\"\n",
    "\n",
    "    dataset = TensorDataset(X, y)\n",
    "    loader = DataLoader(dataset, batch_size, shuffle)\n",
    "\n",
    "    return loader\n",
    "\n",
    "\n",
    "def _convert_to_tensor(X: Union[pd.Series, pd.DataFrame, np.ndarray]) -> torch.Tensor:\n",
    "    \"\"\"Convert pandas instance or numpy array to torch.Tensor\n",
    "\n",
    "    Parameters\n",
    "    ----------\n",
    "    X: Input dataframe or series.\n",
    "\n",
    "    Returns\n",
    "    -------\n",
    "    torch.Tensor\n",
    "        Converted to torch.Tensor\n",
    "    \"\"\"\n",
    "    \n",
    "    if not isinstance(X, torch.Tensor):\n",
    "        # Convert dataframes to numpy arrays.\n",
    "        if isinstance(X, (pd.DataFrame, pd.Series)):\n",
    "            X = X.values\n",
    "\n",
    "        # Convert arrays to Tensors.\n",
    "        X = torch.from_numpy(X)\n",
    "    \n",
    "    X = X.float()\n",
    "        \n",
    "    return X\n",
    "\n",
    "def fit(model,\n",
    "        X: Union[np.ndarray, pd.DataFrame],\n",
    "        y: Union[np.ndarray, pd.Series],\n",
    "        epochs: int = 256,\n",
    "        lr: float = 1e-3,\n",
    "        batch_size: int = 128,\n",
    "        val_batch_size: int = 512,\n",
    "        validate: bool = False,\n",
    "        X_val: Union[np.ndarray, pd.DataFrame] = None,\n",
    "        y_val: Union[np.ndarray, pd.Series] = None,\n",
    "        verbose: bool = True,\n",
    "        tensorboard: bool = False,\n",
    "        early_stopping_patience: int = None):\n",
    "    \"\"\"Fit the BNN to a dataset.\n",
    "\n",
    "    Parameters\n",
    "    ----------\n",
    "    X: Union[np.ndarray, pd.DataFrame]\n",
    "        Training data.\n",
    "    y: Union[np.ndarray, pd.Series]\n",
    "        Training labels.\n",
    "    lr: float\n",
    "        Learning rate.\n",
    "    alpha: float\n",
    "        The size of the prediction loss compared to the KL-loss.\n",
    "    validate: bool\n",
    "        Whether or not to run validation to monitor performance.\n",
    "    X_val: Union[np.ndarray, pd.DataFrame],  optional\n",
    "        Validation data\n",
    "    y_val: Union[np.ndarray, pd.DataFrame], optional\n",
    "        Validation labels\n",
    "    verbose: bool\n",
    "        Print performance metrics?\n",
    "\n",
    "    Returns\n",
    "    -------\n",
    "    BNNClassifier\n",
    "    \"\"\"\n",
    "\n",
    "    if early_stopping_patience is not None and not validate:\n",
    "        raise ValueError(\"Provide validation data to early stop on!\")\n",
    "\n",
    "    # Convert inputs to tensors.\n",
    "    X, y = _convert_to_tensor(X), _convert_to_tensor(y)\n",
    "\n",
    "    X = X.reshape(X.shape[0], -1)\n",
    "\n",
    "    if validate:\n",
    "        if X_val is None or y_val is None:\n",
    "            raise ValueError(\"No validation data provided!\")\n",
    "\n",
    "        X_val, y_val = _convert_to_tensor(X_val), _convert_to_tensor(y_val)\n",
    "        X_val = X_val.reshape(X_val.shape[0], -1)\n",
    "\n",
    "    if model.n_classes > 1:\n",
    "        y, y_val = y.long(), y_val.long()\n",
    "\n",
    "    # Get the optimizer. (Note: can't get SGD to converge on MNIST?)\n",
    "    optimizer = Adam(model.parameters(), lr=lr)\n",
    "\n",
    "    # Initialize dataloader.\n",
    "    train_loader = get_dataloader_from_tensors(X, y, batch_size)\n",
    "\n",
    "    if validate:\n",
    "        test_loader = get_dataloader_from_tensors(X_val, y_val, val_batch_size)\n",
    "\n",
    "    if tensorboard:\n",
    "        writer = SummaryWriter(model.tensorboard_logdir)\n",
    "    else:\n",
    "        writer = None\n",
    "\n",
    "    if early_stopping_patience is not None:\n",
    "        best_loss = 1e9  # Large number placeholder\n",
    "        patience = 0\n",
    "\n",
    "    # Train\n",
    "    for epoch in tqdm(range(epochs), position=0):\n",
    "        model.fit(optimizer, epoch, train_loader, writer=writer)\n",
    "\n",
    "        if validate:\n",
    "            performance_dict = model.validate(epoch,\n",
    "                                                 train_loader, test_loader, writer=writer, verbose=verbose)\n",
    "\n",
    "            if early_stopping_patience is not None:\n",
    "\n",
    "                if round(performance_dict['loss'], 2) <= round(best_loss, 2):\n",
    "                    best_loss = performance_dict['loss']\n",
    "                    patience = 0\n",
    "                    best_parameters = model.state_dict()\n",
    "                    torch.save(best_parameters, 'tmp.pth')\n",
    "\n",
    "                else:\n",
    "                    patience += 1\n",
    "\n",
    "                if patience == early_stopping_patience:\n",
    "                    print(\"Loading saved parameters..\")\n",
    "                    model.eval()\n",
    "                    model.load_state_dict(torch.load('tmp.pth'))\n",
    "                    os.remove('tmp.pth')\n",
    "                    break\n",
    "\n",
    "    return model\n"
   ]
  },
  {
   "cell_type": "code",
   "execution_count": 9,
   "metadata": {
    "scrolled": false
   },
   "outputs": [
    {
     "data": {
      "application/vnd.jupyter.widget-view+json": {
       "model_id": "2587625f128548ac971e7397cf2f0abd",
       "version_major": 2,
       "version_minor": 0
      },
      "text/plain": [
       "HBox(children=(IntProgress(value=0, max=1), HTML(value='')))"
      ]
     },
     "metadata": {},
     "output_type": "display_data"
    },
    {
     "data": {
      "application/vnd.jupyter.widget-view+json": {
       "model_id": "e63334da83364ab493e5d61c99411f7a",
       "version_major": 2,
       "version_minor": 0
      },
      "text/plain": [
       "HBox(children=(IntProgress(value=0, max=99), HTML(value='')))"
      ]
     },
     "metadata": {},
     "output_type": "display_data"
    },
    {
     "data": {
      "application/vnd.jupyter.widget-view+json": {
       "model_id": "7ee06546d2dd47a99c06ec29205d1ac3",
       "version_major": 2,
       "version_minor": 0
      },
      "text/plain": [
       "HBox(children=(IntProgress(value=0, max=25), HTML(value='')))"
      ]
     },
     "metadata": {},
     "output_type": "display_data"
    },
    {
     "name": "stdout",
     "output_type": "stream",
     "text": [
      "Epoch: 0 | Total Loss: 2.6145 | \n",
      "\n"
     ]
    },
    {
     "data": {
      "text/plain": [
       "MLP(\n",
       "  (f): Sequential(\n",
       "    (0): Linear(in_features=784, out_features=32, bias=True)\n",
       "    (1): ReLU()\n",
       "    (2): Dropout(p=0.1)\n",
       "    (3): Linear(in_features=32, out_features=32, bias=True)\n",
       "    (4): ReLU()\n",
       "    (5): Dropout(p=0.1)\n",
       "    (6): Linear(in_features=32, out_features=1, bias=True)\n",
       "  )\n",
       "  (nll): BCEWithLogitsLoss()\n",
       ")"
      ]
     },
     "execution_count": 9,
     "metadata": {},
     "output_type": "execute_result"
    }
   ],
   "source": [
    "fit(model_canonical, \n",
    "    binary_mnist_train_data, \n",
    "    binary_mnist_train_targets, \n",
    "    validate=True,\n",
    "    lr=1e-3,\n",
    "    X_val=binary_mnist_test_data,\n",
    "    y_val=binary_mnist_test_targets,\n",
    "    early_stopping_patience=8,\n",
    "    epochs=1)"
   ]
  },
  {
   "cell_type": "code",
   "execution_count": 10,
   "metadata": {},
   "outputs": [
    {
     "data": {
      "application/vnd.jupyter.widget-view+json": {
       "model_id": "80286054a3a24d3fb0fca56e67e9d012",
       "version_major": 2,
       "version_minor": 0
      },
      "text/plain": [
       "HBox(children=(IntProgress(value=0, max=1), HTML(value='')))"
      ]
     },
     "metadata": {},
     "output_type": "display_data"
    },
    {
     "data": {
      "application/vnd.jupyter.widget-view+json": {
       "model_id": "69a6f7c8ca084538a003fcfcc69fac48",
       "version_major": 2,
       "version_minor": 0
      },
      "text/plain": [
       "HBox(children=(IntProgress(value=0, max=99), HTML(value='')))"
      ]
     },
     "metadata": {},
     "output_type": "display_data"
    },
    {
     "data": {
      "application/vnd.jupyter.widget-view+json": {
       "model_id": "75a3ab876da74b0b9ce28eb81eef0456",
       "version_major": 2,
       "version_minor": 0
      },
      "text/plain": [
       "HBox(children=(IntProgress(value=0, max=25), HTML(value='')))"
      ]
     },
     "metadata": {},
     "output_type": "display_data"
    },
    {
     "name": "stdout",
     "output_type": "stream",
     "text": [
      "Epoch: 0 | Total Loss: 3.0506 | \n",
      "\n"
     ]
    },
    {
     "data": {
      "text/plain": [
       "MLP(\n",
       "  (f): Sequential(\n",
       "    (0): Linear(in_features=784, out_features=32, bias=True)\n",
       "    (1): ReLU()\n",
       "    (2): Dropout(p=0.1)\n",
       "    (3): Linear(in_features=32, out_features=32, bias=True)\n",
       "    (4): ReLU()\n",
       "    (5): Dropout(p=0.1)\n",
       "    (6): Linear(in_features=32, out_features=1, bias=True)\n",
       "  )\n",
       "  (nll): BCEWithLogitsLoss()\n",
       ")"
      ]
     },
     "execution_count": 10,
     "metadata": {},
     "output_type": "execute_result"
    }
   ],
   "source": [
    "fit(model_confident, \n",
    "    binary_mnist_train_data, \n",
    "    binary_mnist_train_targets, \n",
    "    validate=True,\n",
    "    lr=1e-3,\n",
    "    X_val=binary_mnist_test_data,\n",
    "    y_val=binary_mnist_test_targets,\n",
    "    early_stopping_patience=8,\n",
    "    epochs=1)"
   ]
  },
  {
   "cell_type": "code",
   "execution_count": 11,
   "metadata": {},
   "outputs": [
    {
     "data": {
      "application/vnd.jupyter.widget-view+json": {
       "model_id": "b4a3e8d77c7f4abeb6ae054bf88b2b50",
       "version_major": 2,
       "version_minor": 0
      },
      "text/plain": [
       "HBox(children=(IntProgress(value=0, max=1), HTML(value='')))"
      ]
     },
     "metadata": {},
     "output_type": "display_data"
    },
    {
     "data": {
      "application/vnd.jupyter.widget-view+json": {
       "model_id": "ed214017cb464b2ea71ee2970d0eb392",
       "version_major": 2,
       "version_minor": 0
      },
      "text/plain": [
       "HBox(children=(IntProgress(value=0, max=99), HTML(value='')))"
      ]
     },
     "metadata": {},
     "output_type": "display_data"
    },
    {
     "data": {
      "application/vnd.jupyter.widget-view+json": {
       "model_id": "9b256f18055349b4931e6a561a74da55",
       "version_major": 2,
       "version_minor": 0
      },
      "text/plain": [
       "HBox(children=(IntProgress(value=0, max=25), HTML(value='')))"
      ]
     },
     "metadata": {},
     "output_type": "display_data"
    },
    {
     "name": "stdout",
     "output_type": "stream",
     "text": [
      "Epoch: 0 | Total Loss: 2.0765 | \n",
      "\n"
     ]
    },
    {
     "data": {
      "text/plain": [
       "MLP(\n",
       "  (f): Sequential(\n",
       "    (0): Linear(in_features=784, out_features=32, bias=True)\n",
       "    (1): ReLU()\n",
       "    (2): Dropout(p=0.1)\n",
       "    (3): Linear(in_features=32, out_features=32, bias=True)\n",
       "    (4): ReLU()\n",
       "    (5): Dropout(p=0.1)\n",
       "    (6): Linear(in_features=32, out_features=1, bias=True)\n",
       "  )\n",
       "  (nll): BCEWithLogitsLoss()\n",
       ")"
      ]
     },
     "execution_count": 11,
     "metadata": {},
     "output_type": "execute_result"
    }
   ],
   "source": [
    "fit(model_diffident, \n",
    "    binary_mnist_train_data, \n",
    "    binary_mnist_train_targets, \n",
    "    validate=True,\n",
    "    lr=1e-3,\n",
    "    X_val=binary_mnist_test_data,\n",
    "    y_val=binary_mnist_test_targets,\n",
    "    early_stopping_patience=8,\n",
    "    epochs=1)"
   ]
  },
  {
   "cell_type": "code",
   "execution_count": 12,
   "metadata": {},
   "outputs": [],
   "source": [
    "with torch.no_grad():\n",
    "    predictions_canonical = torch.sigmoid(model_canonical(binary_mnist_test_data.float())).squeeze()\n",
    "\n",
    "\n",
    "    predictions_confident = torch.sigmoid(model_confident(binary_mnist_test_data.float())).squeeze()\n",
    "\n",
    "    predictions_diffident = torch.sigmoid(model_diffident(binary_mnist_test_data.float())).squeeze()"
   ]
  },
  {
   "cell_type": "code",
   "execution_count": 13,
   "metadata": {},
   "outputs": [],
   "source": [
    "# should these be absolute values?\n",
    "\n",
    "uncertainties_logit = torch.log((predictions_confident - predictions_diffident) \n",
    "                          / (1 - predictions_confident - predictions_diffident))\n",
    "\n",
    "uncertainties_probit = predictions_confident - predictions_diffident"
   ]
  },
  {
   "cell_type": "code",
   "execution_count": 14,
   "metadata": {},
   "outputs": [
    {
     "data": {
      "text/plain": [
       "<matplotlib.collections.PathCollection at 0x1a380940f0>"
      ]
     },
     "execution_count": 14,
     "metadata": {},
     "output_type": "execute_result"
    },
    {
     "data": {
      "image/png": "[encoded data removed]",
      "text/plain": [
       "<Figure size 432x288 with 1 Axes>"
      ]
     },
     "metadata": {
      "needs_background": "light"
     },
     "output_type": "display_data"
    }
   ],
   "source": [
    "plt.scatter(predictions_canonical.squeeze().numpy(), uncertainties_probit.squeeze().numpy(), marker='.')"
   ]
  },
  {
   "cell_type": "code",
   "execution_count": 15,
   "metadata": {},
   "outputs": [
    {
     "data": {
      "text/plain": [
       "<matplotlib.collections.PathCollection at 0x10d05f940>"
      ]
     },
     "execution_count": 15,
     "metadata": {},
     "output_type": "execute_result"
    },
    {
     "data": {
      "image/png": "[encoded data removed]",
      "text/plain": [
       "<Figure size 432x288 with 1 Axes>"
      ]
     },
     "metadata": {
      "needs_background": "light"
     },
     "output_type": "display_data"
    }
   ],
   "source": [
    "plt.scatter(predictions_canonical.squeeze().numpy(), uncertainties_logit.squeeze().numpy(), marker='.')"
   ]
  },
  {
   "cell_type": "code",
   "execution_count": 16,
   "metadata": {},
   "outputs": [
    {
     "data": {
      "image/png": "[encoded data removed]",
      "text/plain": [
       "<Figure size 432x288 with 1 Axes>"
      ]
     },
     "metadata": {
      "needs_background": "light"
     },
     "output_type": "display_data"
    }
   ],
   "source": [
    "fig = make_performance_uncertainty_plot(binary_mnist_test_targets.numpy(), predictions_canonical.numpy(), uncertainties_probit.numpy(),\n",
    "                                  y_axis_label='Loss', performance_fn_args={'reduction': 'sum'})"
   ]
  },
  {
   "cell_type": "code",
   "execution_count": 17,
   "metadata": {},
   "outputs": [
    {
     "data": {
      "image/png": "[encoded data removed]",
      "text/plain": [
       "<Figure size 432x288 with 1 Axes>"
      ]
     },
     "metadata": {
      "needs_background": "light"
     },
     "output_type": "display_data"
    }
   ],
   "source": [
    "fig = make_performance_uncertainty_plot(binary_mnist_test_targets.numpy(), predictions_canonical.numpy(), uncertainties_logit.numpy(),\n",
    "                                  y_axis_label='Loss', performance_fn_args={'reduction': 'sum'})"
   ]
  },
  {
   "cell_type": "code",
   "execution_count": 18,
   "metadata": {},
   "outputs": [
    {
     "data": {
      "image/png": "[encoded data removed]",
      "text/plain": [
       "<Figure size 432x288 with 1 Axes>"
      ]
     },
     "metadata": {
      "needs_background": "light"
     },
     "output_type": "display_data"
    }
   ],
   "source": [
    "fig = make_performance_uncertainty_plot(binary_mnist_test_targets.numpy(), predictions_canonical.numpy(), uncertainties_probit.numpy(),\n",
    "                                  y_axis_label='AUC', performance_fn=roc_auc_score)"
   ]
  },
  {
   "cell_type": "code",
   "execution_count": 19,
   "metadata": {},
   "outputs": [
    {
     "data": {
      "image/png": "[encoded data removed]",
      "text/plain": [
       "<Figure size 432x288 with 1 Axes>"
      ]
     },
     "metadata": {
      "needs_background": "light"
     },
     "output_type": "display_data"
    }
   ],
   "source": [
    "fig = make_performance_uncertainty_plot(binary_mnist_test_targets.numpy(), predictions_canonical.numpy(), uncertainties_logit.numpy(),\n",
    "                                  y_axis_label='AUC', performance_fn=roc_auc_score)"
   ]
  },
  {
   "cell_type": "code",
   "execution_count": null,
   "metadata": {},
   "outputs": [],
   "source": []
  }
 ],
 "metadata": {
  "kernelspec": {
   "display_name": "Python 3",
   "language": "python",
   "name": "python3"
  },
  "language_info": {
   "codemirror_mode": {
    "name": "ipython",
    "version": 3
   },
   "file_extension": ".py",
   "mimetype": "text/x-python",
   "name": "python",
   "nbconvert_exporter": "python",
   "pygments_lexer": "ipython3",
   "version": "3.7.0"
  }
 },
 "nbformat": 4,
 "nbformat_minor": 2
}
