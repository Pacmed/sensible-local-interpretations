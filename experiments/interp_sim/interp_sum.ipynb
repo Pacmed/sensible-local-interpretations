{
 "cells": [
  {
   "cell_type": "code",
   "execution_count": 1,
   "metadata": {},
   "outputs": [
    {
     "name": "stderr",
     "output_type": "stream",
     "text": [
      "Using TensorFlow backend.\n"
     ]
    }
   ],
   "source": [
    "%load_ext autoreload\n",
    "%autoreload 2\n",
    "\n",
    "from tqdm import tqdm\n",
    "import matplotlib.pyplot as plt\n",
    "import numpy as np\n",
    "import pickle as pkl\n",
    "from os.path import join as oj\n",
    "from copy import deepcopy\n",
    "import pandas as pd\n",
    "import numpy.random as npr\n",
    "import time\n",
    "sys.path.append('../../src')\n",
    "sys.path.append('../../interp')\n",
    "import utils, lcp, train\n",
    "from scipy.stats import ttest_ind\n",
    "\n",
    "\n",
    "# sklearn models\n",
    "from sklearn.model_selection import train_test_split\n",
    "from sklearn.calibration import calibration_curve\n",
    "from sklearn.linear_model import LogisticRegression\n",
    "from sklearn.ensemble import RandomForestClassifier, RandomForestRegressor\n",
    "from sklearn.tree import export_graphviz, DecisionTreeClassifier, DecisionTreeRegressor\n",
    "from sklearn.tree import plot_tree\n",
    "from sklearn.metrics import auc\n",
    "\n",
    "\n",
    "cred = (234/255, 51/255, 86/255)\n",
    "cblue = (57/255, 138/255, 242/255)\n",
    "out_dir = '../../results/interp_sim'\n",
    "os.makedirs(out_dir, exist_ok=True)"
   ]
  },
  {
   "cell_type": "markdown",
   "metadata": {},
   "source": [
    "# generate data"
   ]
  },
  {
   "cell_type": "code",
   "execution_count": 2,
   "metadata": {},
   "outputs": [],
   "source": [
    "def gen_data(n=10, d=100, norm_beta=1, beta=None, var_eps=0.1, \n",
    "             s=None, seed=1, shift_type='None', shift_val=0.1):\n",
    "    '''Generate data\n",
    "    n : int\n",
    "        number of samples\n",
    "    d : int\n",
    "        dimension\n",
    "    norm_beta: float\n",
    "        norm of beta\n",
    "    var_eps: float\n",
    "        variance of epsilon\n",
    "        snr = norm_beta^2 / var_eps\n",
    "    '''\n",
    "    npr.seed(seed=seed)\n",
    "    \n",
    "    # x\n",
    "    x = npr.randn(n, d)\n",
    "    if 'shift' in shift_type:\n",
    "        x += shift_val\n",
    "    elif 'scale' in shift_type:\n",
    "        S2 = np.cumsum(np.ones(d))\n",
    "        S2 /= np.sum(S2)\n",
    "        S2 = np.diag(np.sqrt(S2 * d))\n",
    "        x = x @ S2\n",
    "    elif 'spike' in shift_type:\n",
    "        v = np.ones(d)\n",
    "        v /= npl.norm(v)\n",
    "        S = np.eye(d) + (np.sqrt(shift_val) - 1) * np.outer(v, v)\n",
    "        x = x @ S\n",
    "    elif shift_type == 'lap':\n",
    "        x = npr.laplace(size=(n, d))\n",
    "    \n",
    "    # beta\n",
    "    if s == None:\n",
    "        s = d\n",
    "    if beta is None:\n",
    "        beta = np.zeros(d)\n",
    "        beta[:s] = npr.randn(s)\n",
    "        beta[:s] /= npl.norm(beta[:s])\n",
    "        if norm_beta == 'd':\n",
    "            norm_beta = d\n",
    "        beta[:s] *= norm_beta\n",
    "    \n",
    "    var_mult = 0 if var_eps == 0 else np.sqrt(var_eps)\n",
    "    eps = var_mult * npr.randn(n)\n",
    "    y = x @ beta + eps\n",
    "\n",
    "    return x, y, beta"
   ]
  },
  {
   "cell_type": "code",
   "execution_count": 8,
   "metadata": {},
   "outputs": [],
   "source": [
    "n = 100\n",
    "d = 10\n",
    "beta = np.zeros(d)\n",
    "beta[0] = 1\n",
    "X, y, _ = gen_data(n=n, d=d, beta=beta, var_eps=0.1, \n",
    "             s=None, seed=1, shift_type='None', shift_val=0.1)"
   ]
  },
  {
   "cell_type": "code",
   "execution_count": 9,
   "metadata": {},
   "outputs": [
    {
     "data": {
      "text/html": [
       "[<matplotlib.lines.Line2D object at 0x7f4bb4eaabe0>]"
      ],
      "text/plain": [
       "[<matplotlib.lines.Line2D at 0x7f4bb4eaabe0>]"
      ]
     },
     "execution_count": 9,
     "metadata": {},
     "output_type": "execute_result"
    },
    {
     "data": {
      "image/png": "[encoded data removed]",
      "text/plain": [
       "<Figure size 432x288 with 1 Axes>"
      ]
     },
     "metadata": {
      "needs_background": "light"
     },
     "output_type": "display_data"
    }
   ],
   "source": [
    "plt.plot(x[:, 0], y, 'o') "
   ]
  },
  {
   "cell_type": "markdown",
   "metadata": {},
   "source": [
    "# fit a model to it"
   ]
  },
  {
   "cell_type": "code",
   "execution_count": 10,
   "metadata": {},
   "outputs": [],
   "source": [
    "X_train, X_test, y_train, y_test = train_test_split(X, y) # defaults to 0.75: 0.25 split"
   ]
  },
  {
   "cell_type": "code",
   "execution_count": 11,
   "metadata": {},
   "outputs": [],
   "source": [
    "m = train.regress(X, y, model_type='linear')"
   ]
  },
  {
   "cell_type": "code",
   "execution_count": 45,
   "metadata": {},
   "outputs": [],
   "source": [
    "import shap, lime, lcp\n",
    "def get_scores(m, X_train, x):\n",
    "    '''Get scores using shap, lime, and lcp\n",
    "    '''\n",
    "    feature_names = [f'x{i}' for i in range(X_train.shape[1])]\n",
    "    \n",
    "    explainer_s = shap.KernelExplainer(m.predict, X_train, link=\"logit\")\n",
    "    shap_values = explainer_s.shap_values(x) #, nsamples=100)\n",
    "    \n",
    "    explainer_l = lime.lime_tabular.LimeTabularExplainer(X, feature_names=feature_names, \n",
    "                                                         mode='regression')\n",
    "    lime_explanation = explainer_l.explain_instance(x, m.predict, \n",
    "                                                    num_features=x.size) #, top_labels=1)\n",
    "    lime_values = [l[1] for l in lime_explanation.as_list()]\n",
    "    \n",
    "    explainer = lcp.Explainer(X_train, mode='regression')\n",
    "    vals = explainer.explain_instance(x, m.predict, return_table=False)['contribution']\n",
    "    "
   ]
  },
  {
   "cell_type": "code",
   "execution_count": 47,
   "metadata": {},
   "outputs": [
    {
     "name": "stderr",
     "output_type": "stream",
     "text": [
      "/accounts/projects/vision/.local/lib/python3.7/site-packages/shap/common.py:202: RuntimeWarning: invalid value encountered in log\n",
      "  return np.log(x/(1-x))\n",
      "/accounts/projects/vision/.local/lib/python3.7/site-packages/shap/explainers/kernel.py:545: UserWarning: l1_reg=\"auto\" is deprecated and in the next version (v0.29) the behavior will change from a conditional use of AIC to simply \"num_features(10)\"!\n",
      "  \"l1_reg=\\\"auto\\\" is deprecated and in the next version (v0.29) the behavior will change from a \" \\\n"
     ]
    }
   ],
   "source": [
    "get_scores(m, X_train, X_test[0])"
   ]
  }
 ],
 "metadata": {
  "kernelspec": {
   "display_name": "Python 3",
   "language": "python",
   "name": "python3"
  },
  "language_info": {
   "codemirror_mode": {
    "name": "ipython",
    "version": 3
   },
   "file_extension": ".py",
   "mimetype": "text/x-python",
   "name": "python",
   "nbconvert_exporter": "python",
   "pygments_lexer": "ipython3",
   "version": "3.7.0"
  }
 },
 "nbformat": 4,
 "nbformat_minor": 4
}
