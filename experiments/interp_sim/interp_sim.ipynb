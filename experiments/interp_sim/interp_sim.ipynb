{
 "cells": [
  {
   "cell_type": "code",
   "execution_count": 17,
   "metadata": {},
   "outputs": [
    {
     "name": "stdout",
     "output_type": "stream",
     "text": [
      "The autoreload extension is already loaded. To reload it, use:\n",
      "  %reload_ext autoreload\n"
     ]
    }
   ],
   "source": [
    "%load_ext autoreload\n",
    "%autoreload 2\n",
    "\n",
    "from tqdm import tqdm\n",
    "import matplotlib.pyplot as plt\n",
    "import numpy as np\n",
    "import pickle as pkl\n",
    "from os.path import join as oj\n",
    "from copy import deepcopy\n",
    "import pandas as pd\n",
    "import numpy.random as npr\n",
    "import time\n",
    "sys.path.append('../../src')\n",
    "sys.path.append('../../interp')\n",
    "import utils, lcp, train\n",
    "from scipy.stats import ttest_ind, spearmanr\n",
    "from typing import Dict\n",
    "from compare_stats import compare_stats\n",
    "import gen_data\n",
    "\n",
    "# sklearn models\n",
    "from sklearn.model_selection import train_test_split\n",
    "from sklearn.calibration import calibration_curve\n",
    "from sklearn.linear_model import LogisticRegression\n",
    "from sklearn.ensemble import RandomForestClassifier, RandomForestRegressor\n",
    "from sklearn.tree import export_graphviz, DecisionTreeClassifier, DecisionTreeRegressor\n",
    "from sklearn.tree import plot_tree\n",
    "from sklearn.metrics import auc\n",
    "from all_scores import get_scores\n",
    "\n",
    "cred = (234/255, 51/255, 86/255)\n",
    "cblue = (57/255, 138/255, 242/255)\n",
    "out_dir = '../../results/interp_sim'\n",
    "os.makedirs(out_dir, exist_ok=True)"
   ]
  },
  {
   "cell_type": "markdown",
   "metadata": {},
   "source": [
    "# generate data"
   ]
  },
  {
   "cell_type": "code",
   "execution_count": 18,
   "metadata": {},
   "outputs": [],
   "source": [
    "n = 100\n",
    "d = 10\n",
    "\n",
    "beta = np.zeros(d)\n",
    "beta[0] = 1\n",
    "beta[1] = 2\n",
    "# beta[important_vars] = 1\n",
    "X, y, _ = gen_data.gen_data(n=n, d=d, beta=beta, var_eps=0.5, \n",
    "             s=None, seed=1, shift_type='None', shift_val=0.1)\n",
    "X_train, X_test, y_train, y_test = train_test_split(X, y) # defaults to 0.75: 0.25 split"
   ]
  },
  {
   "cell_type": "markdown",
   "metadata": {},
   "source": [
    "# fit a model to it"
   ]
  },
  {
   "cell_type": "code",
   "execution_count": 20,
   "metadata": {},
   "outputs": [],
   "source": [
    "m = train.regress(X, y, model_type='linear')"
   ]
  },
  {
   "cell_type": "code",
   "execution_count": 21,
   "metadata": {},
   "outputs": [
    {
     "name": "stderr",
     "output_type": "stream",
     "text": [
      "/accounts/projects/vision/.local/lib/python3.7/site-packages/shap/explainers/kernel.py:545: UserWarning: l1_reg=\"auto\" is deprecated and in the next version (v0.29) the behavior will change from a conditional use of AIC to simply \"num_features(10)\"!\n",
      "  \"l1_reg=\\\"auto\\\" is deprecated and in the next version (v0.29) the behavior will change from a \" \\\n"
     ]
    }
   ],
   "source": [
    "scores = get_scores(m, X_train, X_test[0])"
   ]
  },
  {
   "cell_type": "code",
   "execution_count": 22,
   "metadata": {},
   "outputs": [
    {
     "data": {
      "text/html": [
       "<style  type=\"text/css\" >\n",
       "    #T_d70ca3f6_b397_11e9_a8ab_002590e83e0arow0_col0 {\n",
       "            background-color:  #e5e419;\n",
       "            color:  #000000;\n",
       "        }    #T_d70ca3f6_b397_11e9_a8ab_002590e83e0arow0_col1 {\n",
       "            background-color:  #fde725;\n",
       "            color:  #000000;\n",
       "        }    #T_d70ca3f6_b397_11e9_a8ab_002590e83e0arow0_col2 {\n",
       "            background-color:  #8ed645;\n",
       "            color:  #000000;\n",
       "        }    #T_d70ca3f6_b397_11e9_a8ab_002590e83e0arow0_col3 {\n",
       "            background-color:  #20938c;\n",
       "            color:  #000000;\n",
       "        }    #T_d70ca3f6_b397_11e9_a8ab_002590e83e0arow1_col0 {\n",
       "            background-color:  #fde725;\n",
       "            color:  #000000;\n",
       "        }    #T_d70ca3f6_b397_11e9_a8ab_002590e83e0arow1_col1 {\n",
       "            background-color:  #1fa188;\n",
       "            color:  #000000;\n",
       "        }    #T_d70ca3f6_b397_11e9_a8ab_002590e83e0arow1_col2 {\n",
       "            background-color:  #fde725;\n",
       "            color:  #000000;\n",
       "        }    #T_d70ca3f6_b397_11e9_a8ab_002590e83e0arow1_col3 {\n",
       "            background-color:  #fde725;\n",
       "            color:  #000000;\n",
       "        }    #T_d70ca3f6_b397_11e9_a8ab_002590e83e0arow2_col0 {\n",
       "            background-color:  #48186a;\n",
       "            color:  #f1f1f1;\n",
       "        }    #T_d70ca3f6_b397_11e9_a8ab_002590e83e0arow2_col1 {\n",
       "            background-color:  #481b6d;\n",
       "            color:  #f1f1f1;\n",
       "        }    #T_d70ca3f6_b397_11e9_a8ab_002590e83e0arow2_col2 {\n",
       "            background-color:  #481467;\n",
       "            color:  #f1f1f1;\n",
       "        }    #T_d70ca3f6_b397_11e9_a8ab_002590e83e0arow2_col3 {\n",
       "            background-color:  #46075a;\n",
       "            color:  #f1f1f1;\n",
       "        }    #T_d70ca3f6_b397_11e9_a8ab_002590e83e0arow3_col0 {\n",
       "            background-color:  #481668;\n",
       "            color:  #f1f1f1;\n",
       "        }    #T_d70ca3f6_b397_11e9_a8ab_002590e83e0arow3_col1 {\n",
       "            background-color:  #440154;\n",
       "            color:  #f1f1f1;\n",
       "        }    #T_d70ca3f6_b397_11e9_a8ab_002590e83e0arow3_col2 {\n",
       "            background-color:  #481769;\n",
       "            color:  #f1f1f1;\n",
       "        }    #T_d70ca3f6_b397_11e9_a8ab_002590e83e0arow3_col3 {\n",
       "            background-color:  #440154;\n",
       "            color:  #f1f1f1;\n",
       "        }    #T_d70ca3f6_b397_11e9_a8ab_002590e83e0arow4_col0 {\n",
       "            background-color:  #471164;\n",
       "            color:  #f1f1f1;\n",
       "        }    #T_d70ca3f6_b397_11e9_a8ab_002590e83e0arow4_col1 {\n",
       "            background-color:  #481769;\n",
       "            color:  #f1f1f1;\n",
       "        }    #T_d70ca3f6_b397_11e9_a8ab_002590e83e0arow4_col2 {\n",
       "            background-color:  #471063;\n",
       "            color:  #f1f1f1;\n",
       "        }    #T_d70ca3f6_b397_11e9_a8ab_002590e83e0arow4_col3 {\n",
       "            background-color:  #470e61;\n",
       "            color:  #f1f1f1;\n",
       "        }    #T_d70ca3f6_b397_11e9_a8ab_002590e83e0arow5_col0 {\n",
       "            background-color:  #440154;\n",
       "            color:  #f1f1f1;\n",
       "        }    #T_d70ca3f6_b397_11e9_a8ab_002590e83e0arow5_col1 {\n",
       "            background-color:  #481668;\n",
       "            color:  #f1f1f1;\n",
       "        }    #T_d70ca3f6_b397_11e9_a8ab_002590e83e0arow5_col2 {\n",
       "            background-color:  #440154;\n",
       "            color:  #f1f1f1;\n",
       "        }    #T_d70ca3f6_b397_11e9_a8ab_002590e83e0arow5_col3 {\n",
       "            background-color:  #481769;\n",
       "            color:  #f1f1f1;\n",
       "        }    #T_d70ca3f6_b397_11e9_a8ab_002590e83e0arow6_col0 {\n",
       "            background-color:  #481f70;\n",
       "            color:  #f1f1f1;\n",
       "        }    #T_d70ca3f6_b397_11e9_a8ab_002590e83e0arow6_col1 {\n",
       "            background-color:  #471365;\n",
       "            color:  #f1f1f1;\n",
       "        }    #T_d70ca3f6_b397_11e9_a8ab_002590e83e0arow6_col2 {\n",
       "            background-color:  #481b6d;\n",
       "            color:  #f1f1f1;\n",
       "        }    #T_d70ca3f6_b397_11e9_a8ab_002590e83e0arow6_col3 {\n",
       "            background-color:  #481a6c;\n",
       "            color:  #f1f1f1;\n",
       "        }    #T_d70ca3f6_b397_11e9_a8ab_002590e83e0arow7_col0 {\n",
       "            background-color:  #481a6c;\n",
       "            color:  #f1f1f1;\n",
       "        }    #T_d70ca3f6_b397_11e9_a8ab_002590e83e0arow7_col1 {\n",
       "            background-color:  #46075a;\n",
       "            color:  #f1f1f1;\n",
       "        }    #T_d70ca3f6_b397_11e9_a8ab_002590e83e0arow7_col2 {\n",
       "            background-color:  #481a6c;\n",
       "            color:  #f1f1f1;\n",
       "        }    #T_d70ca3f6_b397_11e9_a8ab_002590e83e0arow7_col3 {\n",
       "            background-color:  #481467;\n",
       "            color:  #f1f1f1;\n",
       "        }    #T_d70ca3f6_b397_11e9_a8ab_002590e83e0arow8_col0 {\n",
       "            background-color:  #481668;\n",
       "            color:  #f1f1f1;\n",
       "        }    #T_d70ca3f6_b397_11e9_a8ab_002590e83e0arow8_col1 {\n",
       "            background-color:  #471164;\n",
       "            color:  #f1f1f1;\n",
       "        }    #T_d70ca3f6_b397_11e9_a8ab_002590e83e0arow8_col2 {\n",
       "            background-color:  #481467;\n",
       "            color:  #f1f1f1;\n",
       "        }    #T_d70ca3f6_b397_11e9_a8ab_002590e83e0arow8_col3 {\n",
       "            background-color:  #471164;\n",
       "            color:  #f1f1f1;\n",
       "        }    #T_d70ca3f6_b397_11e9_a8ab_002590e83e0arow9_col0 {\n",
       "            background-color:  #48186a;\n",
       "            color:  #f1f1f1;\n",
       "        }    #T_d70ca3f6_b397_11e9_a8ab_002590e83e0arow9_col1 {\n",
       "            background-color:  #460a5d;\n",
       "            color:  #f1f1f1;\n",
       "        }    #T_d70ca3f6_b397_11e9_a8ab_002590e83e0arow9_col2 {\n",
       "            background-color:  #471365;\n",
       "            color:  #f1f1f1;\n",
       "        }    #T_d70ca3f6_b397_11e9_a8ab_002590e83e0arow9_col3 {\n",
       "            background-color:  #440256;\n",
       "            color:  #f1f1f1;\n",
       "        }</style><table id=\"T_d70ca3f6_b397_11e9_a8ab_002590e83e0a\" ><thead>    <tr>        <th class=\"blank level0\" ></th>        <th class=\"col_heading level0 col0\" >shap</th>        <th class=\"col_heading level0 col1\" >lime</th>        <th class=\"col_heading level0 col2\" >ice-contrib</th>        <th class=\"col_heading level0 col3\" >ice-sensitivity</th>    </tr></thead><tbody>\n",
       "                <tr>\n",
       "                        <th id=\"T_d70ca3f6_b397_11e9_a8ab_002590e83e0alevel0_row0\" class=\"row_heading level0 row0\" >0</th>\n",
       "                        <td id=\"T_d70ca3f6_b397_11e9_a8ab_002590e83e0arow0_col0\" class=\"data row0 col0\" >1.69235</td>\n",
       "                        <td id=\"T_d70ca3f6_b397_11e9_a8ab_002590e83e0arow0_col1\" class=\"data row0 col1\" >3.49755</td>\n",
       "                        <td id=\"T_d70ca3f6_b397_11e9_a8ab_002590e83e0arow0_col2\" class=\"data row0 col2\" >1.72624</td>\n",
       "                        <td id=\"T_d70ca3f6_b397_11e9_a8ab_002590e83e0arow0_col3\" class=\"data row0 col3\" >1.0513</td>\n",
       "            </tr>\n",
       "            <tr>\n",
       "                        <th id=\"T_d70ca3f6_b397_11e9_a8ab_002590e83e0alevel0_row1\" class=\"row_heading level0 row1\" >1</th>\n",
       "                        <td id=\"T_d70ca3f6_b397_11e9_a8ab_002590e83e0arow1_col0\" class=\"data row1 col0\" >1.767</td>\n",
       "                        <td id=\"T_d70ca3f6_b397_11e9_a8ab_002590e83e0arow1_col1\" class=\"data row1 col1\" >1.9359</td>\n",
       "                        <td id=\"T_d70ca3f6_b397_11e9_a8ab_002590e83e0arow1_col2\" class=\"data row1 col2\" >2.09622</td>\n",
       "                        <td id=\"T_d70ca3f6_b397_11e9_a8ab_002590e83e0arow1_col3\" class=\"data row1 col3\" >2.12779</td>\n",
       "            </tr>\n",
       "            <tr>\n",
       "                        <th id=\"T_d70ca3f6_b397_11e9_a8ab_002590e83e0alevel0_row2\" class=\"row_heading level0 row2\" >2</th>\n",
       "                        <td id=\"T_d70ca3f6_b397_11e9_a8ab_002590e83e0arow2_col0\" class=\"data row2 col0\" >0.0364153</td>\n",
       "                        <td id=\"T_d70ca3f6_b397_11e9_a8ab_002590e83e0arow2_col1\" class=\"data row2 col1\" >0.140931</td>\n",
       "                        <td id=\"T_d70ca3f6_b397_11e9_a8ab_002590e83e0arow2_col2\" class=\"data row2 col2\" >0.0242961</td>\n",
       "                        <td id=\"T_d70ca3f6_b397_11e9_a8ab_002590e83e0arow2_col3\" class=\"data row2 col3\" >-0.0393479</td>\n",
       "            </tr>\n",
       "            <tr>\n",
       "                        <th id=\"T_d70ca3f6_b397_11e9_a8ab_002590e83e0alevel0_row3\" class=\"row_heading level0 row3\" >3</th>\n",
       "                        <td id=\"T_d70ca3f6_b397_11e9_a8ab_002590e83e0arow3_col0\" class=\"data row3 col0\" >0.019868</td>\n",
       "                        <td id=\"T_d70ca3f6_b397_11e9_a8ab_002590e83e0arow3_col1\" class=\"data row3 col1\" >-0.116486</td>\n",
       "                        <td id=\"T_d70ca3f6_b397_11e9_a8ab_002590e83e0arow3_col2\" class=\"data row3 col2\" >0.0412768</td>\n",
       "                        <td id=\"T_d70ca3f6_b397_11e9_a8ab_002590e83e0arow3_col3\" class=\"data row3 col3\" >-0.0773394</td>\n",
       "            </tr>\n",
       "            <tr>\n",
       "                        <th id=\"T_d70ca3f6_b397_11e9_a8ab_002590e83e0alevel0_row4\" class=\"row_heading level0 row4\" >4</th>\n",
       "                        <td id=\"T_d70ca3f6_b397_11e9_a8ab_002590e83e0arow4_col0\" class=\"data row4 col0\" >-0.000135681</td>\n",
       "                        <td id=\"T_d70ca3f6_b397_11e9_a8ab_002590e83e0arow4_col1\" class=\"data row4 col1\" >0.108711</td>\n",
       "                        <td id=\"T_d70ca3f6_b397_11e9_a8ab_002590e83e0arow4_col2\" class=\"data row4 col2\" >-0.000284177</td>\n",
       "                        <td id=\"T_d70ca3f6_b397_11e9_a8ab_002590e83e0arow4_col3\" class=\"data row4 col3\" >0.000530738</td>\n",
       "            </tr>\n",
       "            <tr>\n",
       "                        <th id=\"T_d70ca3f6_b397_11e9_a8ab_002590e83e0alevel0_row5\" class=\"row_heading level0 row5\" >5</th>\n",
       "                        <td id=\"T_d70ca3f6_b397_11e9_a8ab_002590e83e0arow5_col0\" class=\"data row5 col0\" >-0.0841483</td>\n",
       "                        <td id=\"T_d70ca3f6_b397_11e9_a8ab_002590e83e0arow5_col1\" class=\"data row5 col1\" >0.0862501</td>\n",
       "                        <td id=\"T_d70ca3f6_b397_11e9_a8ab_002590e83e0arow5_col2\" class=\"data row5 col2\" >-0.0919703</td>\n",
       "                        <td id=\"T_d70ca3f6_b397_11e9_a8ab_002590e83e0arow5_col3\" class=\"data row5 col3\" >0.0561334</td>\n",
       "            </tr>\n",
       "            <tr>\n",
       "                        <th id=\"T_d70ca3f6_b397_11e9_a8ab_002590e83e0alevel0_row6\" class=\"row_heading level0 row6\" >6</th>\n",
       "                        <td id=\"T_d70ca3f6_b397_11e9_a8ab_002590e83e0arow6_col0\" class=\"data row6 col0\" >0.0689147</td>\n",
       "                        <td id=\"T_d70ca3f6_b397_11e9_a8ab_002590e83e0arow6_col1\" class=\"data row6 col1\" >0.0539938</td>\n",
       "                        <td id=\"T_d70ca3f6_b397_11e9_a8ab_002590e83e0arow6_col2\" class=\"data row6 col2\" >0.0699242</td>\n",
       "                        <td id=\"T_d70ca3f6_b397_11e9_a8ab_002590e83e0arow6_col3\" class=\"data row6 col3\" >0.0748994</td>\n",
       "            </tr>\n",
       "            <tr>\n",
       "                        <th id=\"T_d70ca3f6_b397_11e9_a8ab_002590e83e0alevel0_row7\" class=\"row_heading level0 row7\" >7</th>\n",
       "                        <td id=\"T_d70ca3f6_b397_11e9_a8ab_002590e83e0arow7_col0\" class=\"data row7 col0\" >0.0415624</td>\n",
       "                        <td id=\"T_d70ca3f6_b397_11e9_a8ab_002590e83e0arow7_col1\" class=\"data row7 col1\" >-0.0465102</td>\n",
       "                        <td id=\"T_d70ca3f6_b397_11e9_a8ab_002590e83e0arow7_col2\" class=\"data row7 col2\" >0.0609753</td>\n",
       "                        <td id=\"T_d70ca3f6_b397_11e9_a8ab_002590e83e0arow7_col3\" class=\"data row7 col3\" >0.0430812</td>\n",
       "            </tr>\n",
       "            <tr>\n",
       "                        <th id=\"T_d70ca3f6_b397_11e9_a8ab_002590e83e0alevel0_row8\" class=\"row_heading level0 row8\" >8</th>\n",
       "                        <td id=\"T_d70ca3f6_b397_11e9_a8ab_002590e83e0arow8_col0\" class=\"data row8 col0\" >0.0197551</td>\n",
       "                        <td id=\"T_d70ca3f6_b397_11e9_a8ab_002590e83e0arow8_col1\" class=\"data row8 col1\" >0.0388597</td>\n",
       "                        <td id=\"T_d70ca3f6_b397_11e9_a8ab_002590e83e0arow8_col2\" class=\"data row8 col2\" >0.0234699</td>\n",
       "                        <td id=\"T_d70ca3f6_b397_11e9_a8ab_002590e83e0arow8_col3\" class=\"data row8 col3\" >0.0216637</td>\n",
       "            </tr>\n",
       "            <tr>\n",
       "                        <th id=\"T_d70ca3f6_b397_11e9_a8ab_002590e83e0alevel0_row9\" class=\"row_heading level0 row9\" >9</th>\n",
       "                        <td id=\"T_d70ca3f6_b397_11e9_a8ab_002590e83e0arow9_col0\" class=\"data row9 col0\" >0.0319245</td>\n",
       "                        <td id=\"T_d70ca3f6_b397_11e9_a8ab_002590e83e0arow9_col1\" class=\"data row9 col1\" >-0.0294201</td>\n",
       "                        <td id=\"T_d70ca3f6_b397_11e9_a8ab_002590e83e0arow9_col2\" class=\"data row9 col2\" >0.0166922</td>\n",
       "                        <td id=\"T_d70ca3f6_b397_11e9_a8ab_002590e83e0arow9_col3\" class=\"data row9 col3\" >-0.0656815</td>\n",
       "            </tr>\n",
       "    </tbody></table>"
      ],
      "text/plain": [
       "<pandas.io.formats.style.Styler at 0x7f13953c2f60>"
      ]
     },
     "execution_count": 22,
     "metadata": {},
     "output_type": "execute_result"
    }
   ],
   "source": [
    "pd.DataFrame(scores).style.background_gradient(cmap='viridis')"
   ]
  },
  {
   "cell_type": "code",
   "execution_count": 24,
   "metadata": {},
   "outputs": [],
   "source": [
    "ds = compare_stats(beta, scores)\n"
   ]
  },
  {
   "cell_type": "code",
   "execution_count": 40,
   "metadata": {},
   "outputs": [
    {
     "data": {
      "text/plain": [
       "\"\\n>>> reform\\n{('A', 'a'): [1, 2, 3, 4, 5],\\n ('A', 'b'): [6, 7, 8, 9, 1],\\n ('B', 'a'): [2, 3, 4, 5, 6],\\n ('B', 'b'): [7, 8, 9, 1, 2]}\\n>>> pandas.DataFrame(reform)\\n   A     B   \\n\""
      ]
     },
     "execution_count": 40,
     "metadata": {},
     "output_type": "execute_result"
    }
   ],
   "source": [
    "ind_tuples = [(outerKey, innerKey) for outerKey, innerDict in sorted(ds.items()) for innerKey, values in sorted(innerDict.items())]\n",
    "ind = pd.MultiIndex.from_tuples(ind_tuples, names=['score', 'metric'])\n",
    "vals = np.array([values for outerKey, innerDict in sorted(ds.items()) for innerKey, values in sorted(innerDict.items())])\n",
    "vals = vals.reshape(-1, vals.size)"
   ]
  },
  {
   "cell_type": "code",
   "execution_count": 52,
   "metadata": {},
   "outputs": [],
   "source": [
    "tab = pd.DataFrame(vals, columns=ind, index=['dset1'])"
   ]
  },
  {
   "cell_type": "code",
   "execution_count": 53,
   "metadata": {},
   "outputs": [
    {
     "data": {
      "text/html": [
       "<div>\n",
       "<style scoped>\n",
       "    .dataframe tbody tr th:only-of-type {\n",
       "        vertical-align: middle;\n",
       "    }\n",
       "\n",
       "    .dataframe tbody tr th {\n",
       "        vertical-align: top;\n",
       "    }\n",
       "\n",
       "    .dataframe thead tr th {\n",
       "        text-align: left;\n",
       "    }\n",
       "</style>\n",
       "<table border=\"1\" class=\"dataframe\">\n",
       "  <thead>\n",
       "    <tr>\n",
       "      <th>score</th>\n",
       "      <th colspan=\"3\" halign=\"left\">ice-contrib</th>\n",
       "      <th colspan=\"3\" halign=\"left\">ice-sensitivity</th>\n",
       "      <th colspan=\"3\" halign=\"left\">lime</th>\n",
       "      <th colspan=\"3\" halign=\"left\">shap</th>\n",
       "    </tr>\n",
       "    <tr>\n",
       "      <th>metric</th>\n",
       "      <th>frac_correct_signs</th>\n",
       "      <th>frac_intersect</th>\n",
       "      <th>rank_corr</th>\n",
       "      <th>frac_correct_signs</th>\n",
       "      <th>frac_intersect</th>\n",
       "      <th>rank_corr</th>\n",
       "      <th>frac_correct_signs</th>\n",
       "      <th>frac_intersect</th>\n",
       "      <th>rank_corr</th>\n",
       "      <th>frac_correct_signs</th>\n",
       "      <th>frac_intersect</th>\n",
       "      <th>rank_corr</th>\n",
       "    </tr>\n",
       "  </thead>\n",
       "  <tbody>\n",
       "    <tr>\n",
       "      <th>dset1</th>\n",
       "      <td>1.0</td>\n",
       "      <td>1.0</td>\n",
       "      <td>1.0</td>\n",
       "      <td>1.0</td>\n",
       "      <td>1.0</td>\n",
       "      <td>1.0</td>\n",
       "      <td>1.0</td>\n",
       "      <td>1.0</td>\n",
       "      <td>-1.0</td>\n",
       "      <td>1.0</td>\n",
       "      <td>1.0</td>\n",
       "      <td>1.0</td>\n",
       "    </tr>\n",
       "  </tbody>\n",
       "</table>\n",
       "</div>"
      ],
      "text/plain": [
       "score         ice-contrib                             ice-sensitivity  \\\n",
       "metric frac_correct_signs frac_intersect rank_corr frac_correct_signs   \n",
       "dset1                 1.0            1.0       1.0                1.0   \n",
       "\n",
       "score                                         lime                           \\\n",
       "metric frac_intersect rank_corr frac_correct_signs frac_intersect rank_corr   \n",
       "dset1             1.0       1.0                1.0            1.0      -1.0   \n",
       "\n",
       "score                shap                           \n",
       "metric frac_correct_signs frac_intersect rank_corr  \n",
       "dset1                 1.0            1.0       1.0  "
      ]
     },
     "execution_count": 53,
     "metadata": {},
     "output_type": "execute_result"
    }
   ],
   "source": [
    "tab"
   ]
  },
  {
   "cell_type": "code",
   "execution_count": 67,
   "metadata": {},
   "outputs": [],
   "source": [
    "s = tab.transpose().to_latex(multicolumn_format='c')\n",
    "s = s.replace('\\\\toprule', '').replace('\\\\bottomrule', '')\n",
    "print(s)"
   ]
  }
 ],
 "metadata": {
  "kernelspec": {
   "display_name": "Python 3",
   "language": "python",
   "name": "python3"
  },
  "language_info": {
   "codemirror_mode": {
    "name": "ipython",
    "version": 3
   },
   "file_extension": ".py",
   "mimetype": "text/x-python",
   "name": "python",
   "nbconvert_exporter": "python",
   "pygments_lexer": "ipython3",
   "version": "3.7.0"
  }
 },
 "nbformat": 4,
 "nbformat_minor": 4
}
