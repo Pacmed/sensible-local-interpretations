{
 "cells": [
  {
   "cell_type": "code",
   "execution_count": 68,
   "metadata": {},
   "outputs": [],
   "source": [
    "import pandas as pd\n",
    "import pickle as pkl\n",
    "import numpy as np\n",
    "from tqdm import tqdm\n",
    "import matplotlib.pyplot as plt\n",
    "from scipy.stats import spearmanr\n",
    "\n",
    "from pytorch_transformers import BertTokenizer, BertForMaskedLM, BertForSequenceClassification, BertConfig\n",
    "from util import *"
   ]
  },
  {
   "cell_type": "markdown",
   "metadata": {},
   "source": [
    "# get gt based on sst labels"
   ]
  },
  {
   "cell_type": "code",
   "execution_count": 118,
   "metadata": {},
   "outputs": [],
   "source": [
    "sents_arr = np.loadtxt('data/sentiment_labels.txt', dtype=str, delimiter='|')\n",
    "id_to_sent = {sents_arr[i, 0]: float(sents_arr[i, 1]) for i in range(1, sents_arr.shape[0])}\n",
    "\n",
    "phrases = open('data/dictionary.txt', 'r').read().split('\\n') #[:10000]\n",
    "phrase_to_id = {}\n",
    "for line in phrases:\n",
    "    try:\n",
    "        s, phrase_id = line.split('|')\n",
    "        if all([c.isalpha() for c in s]):\n",
    "            phrase_to_id[s.lower()] = phrase_id\n",
    "    except:\n",
    "        pass\n",
    "    \n",
    "phrase_to_sent = {\n",
    "    phrase: id_to_sent[phrase_to_id[phrase]] for phrase in phrase_to_id if phrase_to_id[phrase] in id_to_sent\n",
    "}"
   ]
  },
  {
   "cell_type": "code",
   "execution_count": 169,
   "metadata": {},
   "outputs": [
    {
     "name": "stdout",
     "output_type": "stream",
     "text": [
      "num points 293\n"
     ]
    }
   ],
   "source": [
    "scores_lime = pkl.load(open('scores_lime_0.pkl', 'rb'))\n",
    "scores_lime = {'lime': scores_lime['lime']}\n",
    "\n",
    "scores = pkl.load(open('scores_31.pkl', 'rb'))\n",
    "ks = list(set(scores['iid'].keys()).intersection(set(phrase_to_sent.keys())))\n",
    "results = {\n",
    "    key: [np.mean(scores[key][k]) for k in ks] for key in scores.keys()\n",
    "}\n",
    "results['word'] = ks\n",
    "results['gt'] = [2 * (phrase_to_sent[k] - 0.5) for k in ks]\n",
    "r = pd.DataFrame(results)\n",
    "print('num points', r.shape[0])"
   ]
  },
  {
   "cell_type": "code",
   "execution_count": 177,
   "metadata": {},
   "outputs": [
    {
     "data": {
      "image/png": "[encoded data removed]",
      "text/plain": [
       "<Figure size 432x288 with 1 Axes>"
      ]
     },
     "metadata": {
      "needs_background": "light"
     },
     "output_type": "display_data"
    }
   ],
   "source": [
    "r = pd.DataFrame(results)\n",
    "r = r[np.abs(r[\"gt\"]) > 0.2]\n",
    "\n",
    "for key in ['iid', 'conditional', 'remove']:\n",
    "    plt.plot(r['gt'], r[key], 'o', alpha=0.5)\n",
    "plt.xlabel('Groundtruth sentiment\\n(positive values are positive sentiment)')\n",
    "plt.ylabel('Average calculated sentiment')\n",
    "plt.legend()\n",
    "# plt.xlim((-1, 1))\n",
    "# plt.ylim((-1, 1))\n",
    "plt.show()"
   ]
  },
  {
   "cell_type": "code",
   "execution_count": 179,
   "metadata": {},
   "outputs": [
    {
     "name": "stdout",
     "output_type": "stream",
     "text": [
      "spearman\n",
      "iid: 0.10, remove: 0.06 cond: 0.01\n",
      "pearson\n",
      "iid: 0.10, remove: 0.03 cond: -0.00\n"
     ]
    }
   ],
   "source": [
    "r = pd.DataFrame(results)\n",
    "r = r[np.abs(r[\"gt\"]) > 0.1]\n",
    "\n",
    "print('spearman')\n",
    "print(f'iid: {spearmanr(r[\"gt\"], r[\"iid\"])[0]:0.2f}, \\\n",
    "remove: {spearmanr(r[\"gt\"], r[\"remove\"])[0]:0.2f} \\\n",
    "cond: {spearmanr(r[\"gt\"], r[\"conditional\"])[0]:0.2f}')\n",
    "\n",
    "print('pearson')\n",
    "print(f'iid: {np.corrcoef(r[\"gt\"], r[\"iid\"])[0, 1]:0.2f}, \\\n",
    "remove: {np.corrcoef(r[\"gt\"], r[\"remove\"])[0, 1]:0.2f} \\\n",
    "cond: {np.corrcoef(r[\"gt\"], r[\"conditional\"])[0, 1]:0.2f}')"
   ]
  }
 ],
 "metadata": {
  "kernelspec": {
   "display_name": "Python 3",
   "language": "python",
   "name": "python3"
  },
  "language_info": {
   "codemirror_mode": {
    "name": "ipython",
    "version": 3
   },
   "file_extension": ".py",
   "mimetype": "text/x-python",
   "name": "python",
   "nbconvert_exporter": "python",
   "pygments_lexer": "ipython3",
   "version": "3.7.0"
  }
 },
 "nbformat": 4,
 "nbformat_minor": 4
}
