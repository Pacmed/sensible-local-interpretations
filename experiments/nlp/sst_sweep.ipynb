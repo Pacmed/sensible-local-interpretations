{
 "cells": [
  {
   "cell_type": "code",
   "execution_count": 68,
   "metadata": {},
   "outputs": [],
   "source": [
    "import pandas as pd\n",
    "import pickle as pkl\n",
    "import numpy as np\n",
    "from tqdm import tqdm\n",
    "import matplotlib.pyplot as plt\n",
    "from scipy.stats import spearmanr\n",
    "\n",
    "from pytorch_transformers import BertTokenizer, BertForMaskedLM, BertForSequenceClassification, BertConfig\n",
    "from util import *"
   ]
  },
  {
   "cell_type": "markdown",
   "metadata": {},
   "source": [
    "# get gt based on sst labels"
   ]
  },
  {
   "cell_type": "code",
   "execution_count": 2,
   "metadata": {},
   "outputs": [],
   "source": [
    "sents_arr = np.loadtxt('data/sentiment_labels.txt', dtype=str, delimiter='|')\n",
    "id_to_sent = {sents_arr[i, 0]: float(sents_arr[i, 1]) for i in range(1, sents_arr.shape[0])}\n",
    "\n",
    "phrases = open('data/dictionary.txt', 'r').read().split('\\n') #[:10000]\n",
    "phrase_to_id = {}\n",
    "for line in phrases:\n",
    "    try:\n",
    "        s, phrase_id = line.split('|')\n",
    "        if all([c.isalpha() for c in s]):\n",
    "            phrase_to_id[s.lower()] = phrase_id\n",
    "    except:\n",
    "        pass\n",
    "    \n",
    "phrase_to_sent = {\n",
    "    phrase: id_to_sent[phrase_to_id[phrase]] for phrase in phrase_to_id if phrase_to_id[phrase] in id_to_sent\n",
    "}"
   ]
  },
  {
   "cell_type": "code",
   "execution_count": 69,
   "metadata": {},
   "outputs": [],
   "source": [
    "scores = pkl.load(open('scores_0.pkl', 'rb'))\n",
    "ks = list(set(scores['iid'].keys()).intersection(set(phrase_to_sent.keys())))\n",
    "results['word'] = ks\n",
    "\n",
    "results = {\n",
    "    key: [np.mean(scores[key][k]) for k in ks] for key in scores.keys()\n",
    "}"
   ]
  },
  {
   "cell_type": "code",
   "execution_count": 78,
   "metadata": {},
   "outputs": [],
   "source": [
    "r = pd.DataFrame.from_dict(results)"
   ]
  },
  {
   "cell_type": "code",
   "execution_count": 80,
   "metadata": {},
   "outputs": [
    {
     "data": {
      "text/html": [
       "<div>\n",
       "<style scoped>\n",
       "    .dataframe tbody tr th:only-of-type {\n",
       "        vertical-align: middle;\n",
       "    }\n",
       "\n",
       "    .dataframe tbody tr th {\n",
       "        vertical-align: top;\n",
       "    }\n",
       "\n",
       "    .dataframe thead th {\n",
       "        text-align: right;\n",
       "    }\n",
       "</style>\n",
       "<table border=\"1\" class=\"dataframe\">\n",
       "  <thead>\n",
       "    <tr style=\"text-align: right;\">\n",
       "      <th></th>\n",
       "      <th>iid</th>\n",
       "      <th>conditional</th>\n",
       "      <th>remove</th>\n",
       "    </tr>\n",
       "  </thead>\n",
       "  <tbody>\n",
       "    <tr>\n",
       "      <th>0</th>\n",
       "      <td>-0.009029</td>\n",
       "      <td>-0.003179</td>\n",
       "      <td>0.000144</td>\n",
       "    </tr>\n",
       "    <tr>\n",
       "      <th>1</th>\n",
       "      <td>-0.000795</td>\n",
       "      <td>-0.003416</td>\n",
       "      <td>-0.000791</td>\n",
       "    </tr>\n",
       "    <tr>\n",
       "      <th>2</th>\n",
       "      <td>-0.000529</td>\n",
       "      <td>-0.000439</td>\n",
       "      <td>0.000102</td>\n",
       "    </tr>\n",
       "    <tr>\n",
       "      <th>3</th>\n",
       "      <td>-0.027911</td>\n",
       "      <td>-0.003067</td>\n",
       "      <td>-0.004284</td>\n",
       "    </tr>\n",
       "    <tr>\n",
       "      <th>4</th>\n",
       "      <td>-0.004628</td>\n",
       "      <td>-0.002920</td>\n",
       "      <td>-0.002530</td>\n",
       "    </tr>\n",
       "    <tr>\n",
       "      <th>5</th>\n",
       "      <td>-0.008319</td>\n",
       "      <td>-0.007937</td>\n",
       "      <td>-0.003152</td>\n",
       "    </tr>\n",
       "  </tbody>\n",
       "</table>\n",
       "</div>"
      ],
      "text/plain": [
       "        iid  conditional    remove\n",
       "0 -0.009029    -0.003179  0.000144\n",
       "1 -0.000795    -0.003416 -0.000791\n",
       "2 -0.000529    -0.000439  0.000102\n",
       "3 -0.027911    -0.003067 -0.004284\n",
       "4 -0.004628    -0.002920 -0.002530\n",
       "5 -0.008319    -0.007937 -0.003152"
      ]
     },
     "execution_count": 80,
     "metadata": {},
     "output_type": "execute_result"
    }
   ],
   "source": [
    "r"
   ]
  },
  {
   "cell_type": "code",
   "execution_count": 73,
   "metadata": {},
   "outputs": [
    {
     "data": {
      "text/plain": [
       "[<matplotlib.lines.Line2D at 0x7f0122b7c208>]"
      ]
     },
     "execution_count": 73,
     "metadata": {},
     "output_type": "execute_result"
    },
    {
     "data": {
      "image/png": "[encoded data removed]",
      "text/plain": [
       "<Figure size 432x288 with 1 Axes>"
      ]
     },
     "metadata": {
      "needs_background": "light"
     },
     "output_type": "display_data"
    }
   ],
   "source": [
    "plt.plot(results['gt'], results['contrib-iid'], 'o', label='iid')\n",
    "plt.plot(results['gt'], results['contrib-cond'], 'o', label='conditional')\n",
    "plt.plot(results['gt'], results['contrib-cond'], 'o', label='conditional')"
   ]
  },
  {
   "cell_type": "code",
   "execution_count": null,
   "metadata": {},
   "outputs": [],
   "source": [
    "print(f'{spearmanr(s})"
   ]
  }
 ],
 "metadata": {
  "kernelspec": {
   "display_name": "Python 3",
   "language": "python",
   "name": "python3"
  },
  "language_info": {
   "codemirror_mode": {
    "name": "ipython",
    "version": 3
   },
   "file_extension": ".py",
   "mimetype": "text/x-python",
   "name": "python",
   "nbconvert_exporter": "python",
   "pygments_lexer": "ipython3",
   "version": "3.7.0"
  }
 },
 "nbformat": 4,
 "nbformat_minor": 4
}
