{
 "cells": [
  {
   "cell_type": "code",
   "execution_count": 53,
   "metadata": {},
   "outputs": [],
   "source": [
    "import pandas as pd\n",
    "import pickle as pkl\n",
    "import numpy as np\n",
    "from tqdm import tqdm\n",
    "\n",
    "from pytorch_transformers import BertTokenizer, BertForMaskedLM, BertForSequenceClassification, BertConfig\n",
    "from util import *"
   ]
  },
  {
   "cell_type": "markdown",
   "metadata": {},
   "source": [
    "# get gt based on sst labels"
   ]
  },
  {
   "cell_type": "code",
   "execution_count": 25,
   "metadata": {},
   "outputs": [],
   "source": [
    "sents_arr = np.loadtxt('data/sentiment_labels.txt', dtype=str, delimiter='|')\n",
    "id_to_sent = {sents_arr[i, 0]: float(sents_arr[i, 1]) for i in range(1, sents_arr.shape[0])}\n",
    "\n",
    "phrases = open('data/dictionary.txt', 'r').read().split('\\n') #[:10000]\n",
    "phrase_to_id = {}\n",
    "for line in phrases:\n",
    "    try:\n",
    "        s, phrase_id = line.split('|')\n",
    "        if all([c.isalpha() for c in s]):\n",
    "            phrase_to_id[s.lower()] = phrase_id\n",
    "    except:\n",
    "        pass\n",
    "    \n",
    "phrase_to_sent = {\n",
    "    phrase: id_to_sent[phrase_to_id[phrase]] for phrase in phrase_to_id if phrase_to_id[phrase] in id_to_sent\n",
    "}"
   ]
  },
  {
   "cell_type": "code",
   "execution_count": null,
   "metadata": {},
   "outputs": [],
   "source": [
    "scores = pkl.loads\n",
    "final_scores_iid = [np.mean(scores_iid[k]) for k in scores_iid]"
   ]
  }
 ],
 "metadata": {
  "kernelspec": {
   "display_name": "Python 3",
   "language": "python",
   "name": "python3"
  },
  "language_info": {
   "codemirror_mode": {
    "name": "ipython",
    "version": 3
   },
   "file_extension": ".py",
   "mimetype": "text/x-python",
   "name": "python",
   "nbconvert_exporter": "python",
   "pygments_lexer": "ipython3",
   "version": "3.7.0"
  }
 },
 "nbformat": 4,
 "nbformat_minor": 4
}
