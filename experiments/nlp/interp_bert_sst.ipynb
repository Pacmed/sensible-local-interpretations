{
 "cells": [
  {
   "cell_type": "code",
   "execution_count": 3,
   "metadata": {},
   "outputs": [
    {
     "name": "stdout",
     "output_type": "stream",
     "text": [
      "The autoreload extension is already loaded. To reload it, use:\n",
      "  %reload_ext autoreload\n"
     ]
    }
   ],
   "source": [
    "%load_ext autoreload\n",
    "%autoreload 2\n",
    "\n",
    "from tqdm import tqdm\n",
    "import matplotlib.pyplot as plt\n",
    "import numpy as np\n",
    "import pickle as pkl\n",
    "from os.path import join as oj\n",
    "from copy import deepcopy\n",
    "import pandas as pd\n",
    "import numpy.random as npr\n",
    "import seaborn as sns\n",
    "import time\n",
    "sys.path.append('../../src')\n",
    "sys.path.append('../../interp')\n",
    "import utils, lcp, train\n",
    "from scipy.stats import ttest_ind, spearmanr\n",
    "from typing import Dict\n",
    "\n",
    "# sklearn models\n",
    "from sklearn.model_selection import train_test_split\n",
    "from sklearn import metrics\n",
    "from all_scores import get_scores\n",
    "\n",
    "cred = (234 / 255, 51 / 255, 86 / 255)\n",
    "cblue = (57 / 255, 138 / 255, 242 / 255)\n",
    "out_dir = '../../results/nlp'\n",
    "os.makedirs(out_dir, exist_ok=True)"
   ]
  },
  {
   "cell_type": "markdown",
   "metadata": {},
   "source": [
    "# import the trained model"
   ]
  },
  {
   "cell_type": "code",
   "execution_count": null,
   "metadata": {},
   "outputs": [],
   "source": [
    "k"
   ]
  }
 ],
 "metadata": {
  "kernelspec": {
   "display_name": "Python 3",
   "language": "python",
   "name": "python3"
  },
  "language_info": {
   "codemirror_mode": {
    "name": "ipython",
    "version": 3
   },
   "file_extension": ".py",
   "mimetype": "text/x-python",
   "name": "python",
   "nbconvert_exporter": "python",
   "pygments_lexer": "ipython3",
   "version": "3.7.0"
  }
 },
 "nbformat": 4,
 "nbformat_minor": 4
}
