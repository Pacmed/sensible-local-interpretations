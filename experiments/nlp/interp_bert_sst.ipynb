{
 "cells": [
  {
   "cell_type": "code",
   "execution_count": 47,
   "metadata": {},
   "outputs": [
    {
     "name": "stdout",
     "output_type": "stream",
     "text": [
      "The autoreload extension is already loaded. To reload it, use:\n",
      "  %reload_ext autoreload\n"
     ]
    }
   ],
   "source": [
    "%load_ext autoreload\n",
    "%autoreload 2\n",
    "import numpy as np\n",
    "out_dir = '../../results/nlp'\n",
    "os.makedirs(out_dir, exist_ok=True)\n",
    "\n",
    "import torch\n",
    "from pytorch_transformers import BertTokenizer, BertForMaskedLM, BertForSequenceClassification, BertConfig"
   ]
  },
  {
   "cell_type": "code",
   "execution_count": 35,
   "metadata": {},
   "outputs": [],
   "source": [
    "def pred(s: str, tokenizer, model):\n",
    "    '''Predict for a string given tokenizer and model (returns class 1)\n",
    "    '''\n",
    "    with torch.no_grad():\n",
    "        print('encoded', tokenizer.convert_ids_to_tokens(tokenizer.encode(s)))\n",
    "        input_ids = torch.tensor(tokenizer.encode(s)).unsqueeze(0)  # Batch size 1\n",
    "        pred = model(input_ids)[0].detach().softmax(dim=1).numpy().flatten()\n",
    "    return pred"
   ]
  },
  {
   "cell_type": "code",
   "execution_count": 82,
   "metadata": {},
   "outputs": [],
   "source": [
    "mdir = 'bert-base-uncased' # '/scratch/users/vision/chandan/pacmed/glue/SST-2-middle/'\n",
    "config = BertConfig.from_pretrained(mdir)\n",
    "tokenizer = BertTokenizer.from_pretrained(mdir)\n",
    "clf = BertForSequenceClassification(config).eval()\n",
    "masked_predictor = BertForMaskedLM.from_pretrained(mdir).eval()"
   ]
  },
  {
   "cell_type": "code",
   "execution_count": 73,
   "metadata": {},
   "outputs": [],
   "source": [
    "text = 'amazing, wonderful, great movie'\n",
    "text = 'terrible awful movie'\n",
    "text = 'The actors are terrible.'"
   ]
  },
  {
   "cell_type": "code",
   "execution_count": 74,
   "metadata": {},
   "outputs": [
    {
     "name": "stdout",
     "output_type": "stream",
     "text": [
      "encoded ['the', 'actors', 'are', 'terrible', '.']\n"
     ]
    },
    {
     "data": {
      "text/plain": [
       "array([0.5856249, 0.4143751], dtype=float32)"
      ]
     },
     "execution_count": 74,
     "metadata": {},
     "output_type": "execute_result"
    }
   ],
   "source": [
    "pred(text, tokenizer, clf)"
   ]
  },
  {
   "cell_type": "code",
   "execution_count": 83,
   "metadata": {},
   "outputs": [
    {
     "name": "stdout",
     "output_type": "stream",
     "text": [
      "['[CLS]', 'this', 'great', 'movie', 'was', 'very', '[MASK]', '.', '[SEP]', 'i', 'thoroughly', 'enjoyed', 'it', '[SEP]']\n",
      "entertaining\t10.70\n",
      "good\t10.58\n",
      "popular\t9.66\n",
      "successful\t9.62\n",
      "exciting\t9.60\n",
      "enjoyable\t9.29\n",
      "funny\t9.28\n",
      "interesting\t9.02\n",
      "satisfying\t8.63\n",
      "beautiful\t8.33\n",
      "special\t8.33\n",
      "fun\t8.22\n",
      "impressive\t8.04\n",
      "important\t7.74\n",
      "wonderful\t7.55\n",
      "emotional\t7.52\n",
      "moving\t7.49\n",
      "effective\t7.47\n",
      "engaging\t7.40\n",
      "original\t7.39\n"
     ]
    }
   ],
   "source": [
    "def predict_masked(masked_predictor, tokenizer,\n",
    "                   text=\"[CLS] This great movie was very good . [SEP] I thoroughly enjoyed it [SEP]\",\n",
    "                   masked_index=6):\n",
    "    tokenized_text = tokenizer.tokenize(text)\n",
    "\n",
    "    # Mask a token that we will try to predict back with `BertForMaskedLM`\n",
    "    tokenized_text[masked_index] = '[MASK]'\n",
    "    print(tokenized_text)\n",
    "    assert tokenized_text == ['[CLS]', 'this', 'great', 'movie', 'was', 'very', '[MASK]', '.', \n",
    "                              '[SEP]', 'i', 'thoroughly', 'enjoyed', 'it', '[SEP]']\n",
    "\n",
    "    # Convert token to vocabulary indices\n",
    "    indexed_tokens = tokenizer.convert_tokens_to_ids(tokenized_text)\n",
    "    segment_ids = np.zeros(len(tokenized_text))\n",
    "    segment_ids[7:] = 1\n",
    "\n",
    "    # Convert inputs to PyTorch tensors\n",
    "    tokens_tensor = torch.tensor([indexed_tokens])\n",
    "    segments_tensors = torch.tensor([segments_ids])\n",
    "\n",
    "    # If you have a GPU, put everything on cuda\n",
    "    tokens_tensor = tokens_tensor.to('cuda')\n",
    "    segments_tensors = segments_tensors.to('cuda')\n",
    "    masked_predictor.to('cuda')\n",
    "\n",
    "    # Predict all tokens\n",
    "    with torch.no_grad():\n",
    "        outputs = masked_predictor(tokens_tensor, token_type_ids=segments_tensors)\n",
    "        predictions = outputs[0]\n",
    "\n",
    "    preds_masked = predictions[0, masked_index].detach().cpu().numpy()\n",
    "    inds_max = np.argsort(preds_masked)[::-1]\n",
    "    return inds_max, preds_masked\n",
    "\n",
    "text = \"[CLS] This great movie was very good . [SEP] I thoroughly enjoyed it [SEP]\"\n",
    "inds_max, preds_masked = predict_masked(masked_predictor,\n",
    "                                        tokenizer,\n",
    "                                        text=text,\n",
    "                                        masked_index=6)\n",
    "for ind in inds_max[:20]:\n",
    "    print(f'{tokenizer.convert_ids_to_tokens([ind])[0]}\\t{preds_masked[ind]:0.2f}')\n",
    "\n",
    "# tokenizer.convert_ids_to_tokens(inds_max[::-1])[:10]\n"
   ]
  }
 ],
 "metadata": {
  "kernelspec": {
   "display_name": "Python 3",
   "language": "python",
   "name": "python3"
  },
  "language_info": {
   "codemirror_mode": {
    "name": "ipython",
    "version": 3
   },
   "file_extension": ".py",
   "mimetype": "text/x-python",
   "name": "python",
   "nbconvert_exporter": "python",
   "pygments_lexer": "ipython3",
   "version": "3.7.0"
  }
 },
 "nbformat": 4,
 "nbformat_minor": 4
}
