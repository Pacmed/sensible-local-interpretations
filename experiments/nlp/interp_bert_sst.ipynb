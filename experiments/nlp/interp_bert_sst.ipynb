{
 "cells": [
  {
   "cell_type": "code",
   "execution_count": 77,
   "metadata": {},
   "outputs": [
    {
     "name": "stdout",
     "output_type": "stream",
     "text": [
      "The autoreload extension is already loaded. To reload it, use:\n",
      "  %reload_ext autoreload\n"
     ]
    }
   ],
   "source": [
    "%load_ext autoreload\n",
    "%autoreload 2\n",
    "import numpy as np\n",
    "from os.path import join as oj\n",
    "out_dir = '../../results/nlp'\n",
    "os.makedirs(out_dir, exist_ok=True)\n",
    "from tqdm import tqdm\n",
    "import matplotlib.pyplot as plt\n",
    "import torch\n",
    "from pytorch_transformers import BertTokenizer, BertForMaskedLM, BertForSequenceClassification, BertConfig"
   ]
  },
  {
   "cell_type": "code",
   "execution_count": 2,
   "metadata": {},
   "outputs": [],
   "source": [
    "from util import *\n",
    "device = 'cpu'"
   ]
  },
  {
   "cell_type": "code",
   "execution_count": 3,
   "metadata": {},
   "outputs": [],
   "source": [
    "default = 'bert-base-uncased'\n",
    "mdir = '/scratch/users/vision/chandan/pacmed/glue/SST-2-3epoch' # '/scratch/users/vision/chandan/pacmed/glue/SST-2-middle/'\n",
    "\n",
    "t = 'This great movie was very'\n",
    "fill = 'good'"
   ]
  },
  {
   "cell_type": "code",
   "execution_count": 4,
   "metadata": {},
   "outputs": [],
   "source": [
    "tokenizer = BertTokenizer.from_pretrained(mdir)\n",
    "clf = BertForSequenceClassification.from_pretrained(mdir).eval().to(device)\n",
    "masked_predictor = BertForMaskedLM.from_pretrained(default).eval().to(device)"
   ]
  },
  {
   "cell_type": "markdown",
   "metadata": {},
   "source": [
    "**look at an individual prediction**"
   ]
  },
  {
   "cell_type": "code",
   "execution_count": 5,
   "metadata": {},
   "outputs": [
    {
     "data": {
      "text/plain": [
       "0.0007611739"
      ]
     },
     "execution_count": 5,
     "metadata": {},
     "output_type": "execute_result"
    }
   ],
   "source": [
    "text = 'worst movie' #'amazing, wonderful, great, beautiful, gorgeous, incredible, best movie actress'\n",
    "pred(text, tokenizer, clf)"
   ]
  },
  {
   "cell_type": "markdown",
   "metadata": {},
   "source": [
    "**predicted masked token**"
   ]
  },
  {
   "cell_type": "code",
   "execution_count": 6,
   "metadata": {},
   "outputs": [
    {
     "name": "stdout",
     "output_type": "stream",
     "text": [
      "entertaining\t0.16\n",
      "good\t0.14\n",
      "popular\t0.06\n",
      "successful\t0.05\n",
      "exciting\t0.05\n",
      "enjoyable\t0.04\n",
      "funny\t0.04\n",
      "interesting\t0.03\n",
      "satisfying\t0.02\n",
      "beautiful\t0.02\n",
      "special\t0.02\n",
      "fun\t0.01\n",
      "impressive\t0.01\n",
      "important\t0.01\n",
      "wonderful\t0.01\n",
      "emotional\t0.01\n",
      "moving\t0.01\n",
      "effective\t0.01\n",
      "engaging\t0.01\n",
      "original\t0.01\n"
     ]
    }
   ],
   "source": [
    "text = f\"[CLS] {t} {fill} . [SEP] I thoroughly enjoyed it [SEP]\"\n",
    "inds_max, preds_masked = predict_masked(masked_predictor,\n",
    "                                        tokenizer,\n",
    "                                        text=text,\n",
    "                                        masked_index=6)\n",
    "\n",
    "for ind in inds_max[:20]:\n",
    "    print(f'{tokenizer.convert_ids_to_tokens([ind])[0]}\\t{preds_masked[ind]:0.2f}')"
   ]
  },
  {
   "cell_type": "markdown",
   "metadata": {},
   "source": [
    "**calculate predictions varying the masked token**"
   ]
  },
  {
   "cell_type": "code",
   "execution_count": null,
   "metadata": {},
   "outputs": [],
   "source": [
    "n = 30522 # 30522\n",
    "vals = np.zeros(n)\n",
    "weights = np.zeros(n)\n",
    "is_rand = np.random.choice(range(30522), size=n, replace=False)\n",
    "\n",
    "for j in tqdm(range(n)):\n",
    "    i = is_rand[j] # generate a random index\n",
    "    sampled_word = inds_max[i]\n",
    "    \n",
    "    s = f'{t} {tokenizer.convert_ids_to_tokens([sampled_word])[0]}'\n",
    "    vals[j] = pred(s, tokenizer, clf)\n",
    "    weights[j] = preds_masked[sampled_word]\n",
    "    \n",
    "ave = np.mean(vals)\n",
    "ave_weighted = np.average(vals, weights=weights)\n",
    "pred_good = pred(f'{t} good', tokenizer, clf)\n",
    "pred_bad = pred(f'{t} bad', tokenizer, clf)"
   ]
  },
  {
   "cell_type": "code",
   "execution_count": 235,
   "metadata": {},
   "outputs": [
    {
     "name": "stdout",
     "output_type": "stream",
     "text": [
      "ave=0.813 ave_weighted=0.944 pred_good=0.997 pred_bad=0.003\n"
     ]
    }
   ],
   "source": [
    "print(f'ave={ave:0.3f} ave_weighted={ave_weighted:0.3f} pred_good={pred_good:0.3f} pred_bad={pred_bad:.3f}')"
   ]
  },
  {
   "cell_type": "markdown",
   "metadata": {},
   "source": [
    "**make into a fig**"
   ]
  },
  {
   "cell_type": "code",
   "execution_count": 43,
   "metadata": {},
   "outputs": [
    {
     "name": "stderr",
     "output_type": "stream",
     "text": [
      "100%|██████████| 10/10 [00:00<00:00, 10.44it/s]\n"
     ]
    }
   ],
   "source": [
    "n = 10\n",
    "vals = np.zeros(n)\n",
    "weights = np.zeros(n)\n",
    "\n",
    "for i in tqdm(range(n)):\n",
    "    sampled_word = inds_max[i]\n",
    "    s = f'{t} {tokenizer.convert_ids_to_tokens([sampled_word])[0]}'\n",
    "    vals[i] = pred(s, tokenizer, clf)\n",
    "    weights[i] = preds_masked[sampled_word]\n",
    "    \n",
    "words = tokenizer.convert_ids_to_tokens(inds_max[:n])"
   ]
  },
  {
   "cell_type": "code",
   "execution_count": 74,
   "metadata": {},
   "outputs": [],
   "source": [
    "v = vals[::-1]\n",
    "w = words[::-1]\n",
    "probs = weights[::-1]\n",
    "\n",
    "labs = [f'{w[i]}\\n({probs[i]:0.2f})' for i in range(probs.size)]"
   ]
  },
  {
   "cell_type": "code",
   "execution_count": 82,
   "metadata": {},
   "outputs": [
    {
     "data": {
      "image/png": "[encoded data removed]",
      "text/plain": [
       "<Figure size 432x144 with 1 Axes>"
      ]
     },
     "metadata": {
      "needs_background": "light"
     },
     "output_type": "display_data"
    }
   ],
   "source": [
    "import matplotlib.pyplot as plt\n",
    "fig = plt.figure(figsize=(6, 2))\n",
    "ax = fig.gca()\n",
    "# ax = plt.subplot(111)\n",
    "plt.plot(v, '-o', color='black')\n",
    "plt.xticks(range(n), w)\n",
    "ax.set_xticklabels(labs, rotation=60)\n",
    "plt.xlabel('Fill word\\n(probability of appearance in parentheses)')\n",
    "plt.ylabel('Predicted probability\\nfor positive class')\n",
    "plt.axhline(0.944, color='gray', alpha=0.5, linestyle='--')\n",
    "plt.tight_layout()\n",
    "plt.savefig(oj(out_dir, 'fig_nlp.pdf'))\n",
    "plt.show()"
   ]
  },
  {
   "cell_type": "code",
   "execution_count": null,
   "metadata": {},
   "outputs": [],
   "source": []
  }
 ],
 "metadata": {
  "kernelspec": {
   "display_name": "Python 3",
   "language": "python",
   "name": "python3"
  },
  "language_info": {
   "codemirror_mode": {
    "name": "ipython",
    "version": 3
   },
   "file_extension": ".py",
   "mimetype": "text/x-python",
   "name": "python",
   "nbconvert_exporter": "python",
   "pygments_lexer": "ipython3",
   "version": "3.7.0"
  }
 },
 "nbformat": 4,
 "nbformat_minor": 4
}
