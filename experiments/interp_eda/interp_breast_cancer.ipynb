{
 "cells": [
  {
   "cell_type": "code",
   "execution_count": 1,
   "metadata": {},
   "outputs": [
    {
     "name": "stderr",
     "output_type": "stream",
     "text": [
      "Using TensorFlow backend.\n"
     ]
    }
   ],
   "source": [
    "%load_ext autoreload\n",
    "%autoreload 2\n",
    "\n",
    "import matplotlib.pyplot as plt\n",
    "import numpy as np\n",
    "import random\n",
    "from os.path import join as oj\n",
    "from copy import deepcopy\n",
    "import pandas as pd\n",
    "import sli\n",
    "sys.path.append('../../sli')\n",
    "import train\n",
    "from sklearn import datasets\n",
    "from sklearn.linear_model import LogisticRegression\n",
    "from sklearn.model_selection import train_test_split\n",
    "from train import train_models\n",
    "out_dir = '../../results/interp'"
   ]
  },
  {
   "cell_type": "markdown",
   "metadata": {},
   "source": [
    "# train 3 models"
   ]
  },
  {
   "cell_type": "code",
   "execution_count": 2,
   "metadata": {},
   "outputs": [],
   "source": [
    "np.random.seed(13)\n",
    "data = datasets.load_breast_cancer()\n",
    "data['target_names'] = data['target_names'][::-1] # want class 1 to be \"malignant\", class 0 to be \"benign\"\n",
    "X = data['data']\n",
    "y = 1 - data['target'] # want class 1 to be \"malignant\", class 0 to be \"benign\"\n",
    "X_train, X_test, y_train, y_test = train_test_split(X, y) # defaults to 0.75: 0.25 splitx`"
   ]
  },
  {
   "cell_type": "code",
   "execution_count": 3,
   "metadata": {},
   "outputs": [
    {
     "name": "stderr",
     "output_type": "stream",
     "text": [
      "/accounts/projects/vision/.local/lib/python3.7/site-packages/sklearn/linear_model/logistic.py:947: ConvergenceWarning: lbfgs failed to converge. Increase the number of iterations.\n",
      "  \"of iterations.\", ConvergenceWarning)\n",
      "/accounts/projects/vision/.local/lib/python3.7/site-packages/sklearn/linear_model/logistic.py:947: ConvergenceWarning: lbfgs failed to converge. Increase the number of iterations.\n",
      "  \"of iterations.\", ConvergenceWarning)\n",
      "/accounts/projects/vision/.local/lib/python3.7/site-packages/sklearn/linear_model/logistic.py:947: ConvergenceWarning: lbfgs failed to converge. Increase the number of iterations.\n",
      "  \"of iterations.\", ConvergenceWarning)\n"
     ]
    }
   ],
   "source": [
    "# class_weights = [0.5, 1, 2]\n",
    "class_weights = [0.2, 1, 5]\n",
    "models = train_models(X_train, y_train, class_weights, model_type='logistic')\n",
    "# models = train_models(X_train, y_train, class_weights, model_type='logistic')"
   ]
  },
  {
   "cell_type": "markdown",
   "metadata": {},
   "source": [
    "# model importances"
   ]
  },
  {
   "cell_type": "code",
   "execution_count": 4,
   "metadata": {},
   "outputs": [],
   "source": [
    "np.random.seed(13)\n",
    "x = X_test[0].reshape(1, -1)\n",
    "class_num = 1\n",
    "feature_names = data['feature_names']\n",
    "target_name = data['target_names'][1]\n",
    "strategy = 'independent' # gaussian_kde"
   ]
  },
  {
   "cell_type": "markdown",
   "metadata": {},
   "source": [
    "**get feature importances**"
   ]
  },
  {
   "cell_type": "code",
   "execution_count": 5,
   "metadata": {},
   "outputs": [
    {
     "data": {
      "text/html": [
       "<style  type=\"text/css\" >\n",
       "    #T_b33c0950_bab1_11e9_a8ab_002590e83e0arow0_col0 {\n",
       "            color:  black;\n",
       "            background-color:  #da3b46;\n",
       "        }    #T_b33c0950_bab1_11e9_a8ab_002590e83e0arow0_col1 {\n",
       "            color:  black;\n",
       "            background-color:  #e6eef5;\n",
       "        }    #T_b33c0950_bab1_11e9_a8ab_002590e83e0arow1_col0 {\n",
       "            color:  black;\n",
       "            background-color:  #de505a;\n",
       "        }    #T_b33c0950_bab1_11e9_a8ab_002590e83e0arow1_col1 {\n",
       "            color:  black;\n",
       "            background-color:  #f2f2f2;\n",
       "        }    #T_b33c0950_bab1_11e9_a8ab_002590e83e0arow2_col0 {\n",
       "            color:  black;\n",
       "            background-color:  #e47179;\n",
       "        }    #T_b33c0950_bab1_11e9_a8ab_002590e83e0arow2_col1 {\n",
       "            color:  black;\n",
       "            background-color:  #dbe7ef;\n",
       "        }    #T_b33c0950_bab1_11e9_a8ab_002590e83e0arow3_col0 {\n",
       "            color:  black;\n",
       "            background-color:  #eb979d;\n",
       "        }    #T_b33c0950_bab1_11e9_a8ab_002590e83e0arow3_col1 {\n",
       "            color:  black;\n",
       "            background-color:  #f2f2f2;\n",
       "        }    #T_b33c0950_bab1_11e9_a8ab_002590e83e0arow4_col0 {\n",
       "            color:  black;\n",
       "            background-color:  #f1b7bc;\n",
       "        }    #T_b33c0950_bab1_11e9_a8ab_002590e83e0arow4_col1 {\n",
       "            color:  black;\n",
       "            background-color:  #dbe7ef;\n",
       "        }    #T_b33c0950_bab1_11e9_a8ab_002590e83e0arow5_col0 {\n",
       "            color:  black;\n",
       "            background-color:  #dce7f0;\n",
       "        }    #T_b33c0950_bab1_11e9_a8ab_002590e83e0arow5_col1 {\n",
       "            color:  black;\n",
       "            background-color:  #f9e0e2;\n",
       "        }    #T_b33c0950_bab1_11e9_a8ab_002590e83e0arow6_col0 {\n",
       "            color:  black;\n",
       "            background-color:  #f9dfe1;\n",
       "        }    #T_b33c0950_bab1_11e9_a8ab_002590e83e0arow6_col1 {\n",
       "            color:  black;\n",
       "            background-color:  #da3d49;\n",
       "        }    #T_b33c0950_bab1_11e9_a8ab_002590e83e0arow7_col0 {\n",
       "            color:  black;\n",
       "            background-color:  #fae5e7;\n",
       "        }    #T_b33c0950_bab1_11e9_a8ab_002590e83e0arow7_col1 {\n",
       "            color:  black;\n",
       "            background-color:  #da3b46;\n",
       "        }    #T_b33c0950_bab1_11e9_a8ab_002590e83e0arow8_col0 {\n",
       "            color:  black;\n",
       "            background-color:  #eaf1f7;\n",
       "        }    #T_b33c0950_bab1_11e9_a8ab_002590e83e0arow8_col1 {\n",
       "            color:  black;\n",
       "            background-color:  #f1b5b9;\n",
       "        }    #T_b33c0950_bab1_11e9_a8ab_002590e83e0arow9_col0 {\n",
       "            color:  black;\n",
       "            background-color:  #f2f2f2;\n",
       "        }    #T_b33c0950_bab1_11e9_a8ab_002590e83e0arow9_col1 {\n",
       "            color:  black;\n",
       "            background-color:  #7ba4c3;\n",
       "        }    #T_b33c0950_bab1_11e9_a8ab_002590e83e0arow10_col0 {\n",
       "            color:  black;\n",
       "            background-color:  #f2f2f2;\n",
       "        }    #T_b33c0950_bab1_11e9_a8ab_002590e83e0arow10_col1 {\n",
       "            color:  black;\n",
       "            background-color:  #f2f2f2;\n",
       "        }    #T_b33c0950_bab1_11e9_a8ab_002590e83e0arow11_col0 {\n",
       "            color:  black;\n",
       "            background-color:  #f2f2f2;\n",
       "        }    #T_b33c0950_bab1_11e9_a8ab_002590e83e0arow11_col1 {\n",
       "            color:  black;\n",
       "            background-color:  #fae7e8;\n",
       "        }    #T_b33c0950_bab1_11e9_a8ab_002590e83e0arow12_col0 {\n",
       "            color:  black;\n",
       "            background-color:  #f2f2f2;\n",
       "        }    #T_b33c0950_bab1_11e9_a8ab_002590e83e0arow12_col1 {\n",
       "            color:  black;\n",
       "            background-color:  #91b4cd;\n",
       "        }    #T_b33c0950_bab1_11e9_a8ab_002590e83e0arow13_col0 {\n",
       "            color:  black;\n",
       "            background-color:  #f2f2f2;\n",
       "        }    #T_b33c0950_bab1_11e9_a8ab_002590e83e0arow13_col1 {\n",
       "            color:  black;\n",
       "            background-color:  #c7d9e6;\n",
       "        }    #T_b33c0950_bab1_11e9_a8ab_002590e83e0arow14_col0 {\n",
       "            color:  black;\n",
       "            background-color:  #f2f2f2;\n",
       "        }    #T_b33c0950_bab1_11e9_a8ab_002590e83e0arow14_col1 {\n",
       "            color:  black;\n",
       "            background-color:  #f2f2f2;\n",
       "        }    #T_b33c0950_bab1_11e9_a8ab_002590e83e0arow15_col0 {\n",
       "            color:  black;\n",
       "            background-color:  #f2f2f2;\n",
       "        }    #T_b33c0950_bab1_11e9_a8ab_002590e83e0arow15_col1 {\n",
       "            color:  black;\n",
       "            background-color:  #d4e2ec;\n",
       "        }    #T_b33c0950_bab1_11e9_a8ab_002590e83e0arow16_col0 {\n",
       "            color:  black;\n",
       "            background-color:  #f2f2f2;\n",
       "        }    #T_b33c0950_bab1_11e9_a8ab_002590e83e0arow16_col1 {\n",
       "            color:  black;\n",
       "            background-color:  #eaf1f7;\n",
       "        }    #T_b33c0950_bab1_11e9_a8ab_002590e83e0arow17_col0 {\n",
       "            color:  black;\n",
       "            background-color:  #f2f2f2;\n",
       "        }    #T_b33c0950_bab1_11e9_a8ab_002590e83e0arow17_col1 {\n",
       "            color:  black;\n",
       "            background-color:  #d5e3ed;\n",
       "        }    #T_b33c0950_bab1_11e9_a8ab_002590e83e0arow18_col0 {\n",
       "            color:  black;\n",
       "            background-color:  #f2f2f2;\n",
       "        }    #T_b33c0950_bab1_11e9_a8ab_002590e83e0arow18_col1 {\n",
       "            color:  black;\n",
       "            background-color:  #e2ecf3;\n",
       "        }    #T_b33c0950_bab1_11e9_a8ab_002590e83e0arow19_col0 {\n",
       "            color:  black;\n",
       "            background-color:  #f2f2f2;\n",
       "        }    #T_b33c0950_bab1_11e9_a8ab_002590e83e0arow19_col1 {\n",
       "            color:  black;\n",
       "            background-color:  #d4e2ec;\n",
       "        }    #T_b33c0950_bab1_11e9_a8ab_002590e83e0arow20_col0 {\n",
       "            color:  black;\n",
       "            background-color:  #f2f2f2;\n",
       "        }    #T_b33c0950_bab1_11e9_a8ab_002590e83e0arow20_col1 {\n",
       "            color:  black;\n",
       "            background-color:  #edf3f8;\n",
       "        }    #T_b33c0950_bab1_11e9_a8ab_002590e83e0arow21_col0 {\n",
       "            color:  black;\n",
       "            background-color:  #f2f2f2;\n",
       "        }    #T_b33c0950_bab1_11e9_a8ab_002590e83e0arow21_col1 {\n",
       "            color:  black;\n",
       "            background-color:  #eaf1f7;\n",
       "        }    #T_b33c0950_bab1_11e9_a8ab_002590e83e0arow22_col0 {\n",
       "            color:  black;\n",
       "            background-color:  #f2f2f2;\n",
       "        }    #T_b33c0950_bab1_11e9_a8ab_002590e83e0arow22_col1 {\n",
       "            color:  black;\n",
       "            background-color:  #f2f2f2;\n",
       "        }    #T_b33c0950_bab1_11e9_a8ab_002590e83e0arow23_col0 {\n",
       "            color:  black;\n",
       "            background-color:  #f2f2f2;\n",
       "        }    #T_b33c0950_bab1_11e9_a8ab_002590e83e0arow23_col1 {\n",
       "            color:  black;\n",
       "            background-color:  #eaf1f7;\n",
       "        }    #T_b33c0950_bab1_11e9_a8ab_002590e83e0arow24_col0 {\n",
       "            color:  black;\n",
       "            background-color:  #f2f2f2;\n",
       "        }    #T_b33c0950_bab1_11e9_a8ab_002590e83e0arow24_col1 {\n",
       "            color:  black;\n",
       "            background-color:  #eaf1f7;\n",
       "        }    #T_b33c0950_bab1_11e9_a8ab_002590e83e0arow25_col0 {\n",
       "            color:  black;\n",
       "            background-color:  #f2f2f2;\n",
       "        }    #T_b33c0950_bab1_11e9_a8ab_002590e83e0arow25_col1 {\n",
       "            color:  black;\n",
       "            background-color:  #f2f2f2;\n",
       "        }    #T_b33c0950_bab1_11e9_a8ab_002590e83e0arow26_col0 {\n",
       "            color:  black;\n",
       "            background-color:  #f2f2f2;\n",
       "        }    #T_b33c0950_bab1_11e9_a8ab_002590e83e0arow26_col1 {\n",
       "            color:  black;\n",
       "            background-color:  #f2f2f2;\n",
       "        }    #T_b33c0950_bab1_11e9_a8ab_002590e83e0arow27_col0 {\n",
       "            color:  black;\n",
       "            background-color:  #f2f2f2;\n",
       "        }    #T_b33c0950_bab1_11e9_a8ab_002590e83e0arow27_col1 {\n",
       "            color:  black;\n",
       "            background-color:  #f2f2f2;\n",
       "        }    #T_b33c0950_bab1_11e9_a8ab_002590e83e0arow28_col0 {\n",
       "            color:  black;\n",
       "            background-color:  #f2f2f2;\n",
       "        }    #T_b33c0950_bab1_11e9_a8ab_002590e83e0arow28_col1 {\n",
       "            color:  black;\n",
       "            background-color:  #f2f2f2;\n",
       "        }    #T_b33c0950_bab1_11e9_a8ab_002590e83e0arow29_col0 {\n",
       "            color:  black;\n",
       "            background-color:  #f2f2f2;\n",
       "        }    #T_b33c0950_bab1_11e9_a8ab_002590e83e0arow29_col1 {\n",
       "            color:  black;\n",
       "            background-color:  #f2f2f2;\n",
       "        }</style><table id=\"T_b33c0950_bab1_11e9_a8ab_002590e83e0a\" ><thead>    <tr>        <th class=\"blank level0\" ></th>        <th class=\"col_heading level0 col0\" >contribution</th>        <th class=\"col_heading level0 col1\" >sensitivity</th>    </tr></thead><tbody>\n",
       "                <tr>\n",
       "                        <th id=\"T_b33c0950_bab1_11e9_a8ab_002590e83e0alevel0_row0\" class=\"row_heading level0 row0\" >area error</th>\n",
       "                        <td id=\"T_b33c0950_bab1_11e9_a8ab_002590e83e0arow0_col0\" class=\"data row0 col0\" >-0.771</td>\n",
       "                        <td id=\"T_b33c0950_bab1_11e9_a8ab_002590e83e0arow0_col1\" class=\"data row0 col1\" >0.017</td>\n",
       "            </tr>\n",
       "            <tr>\n",
       "                        <th id=\"T_b33c0950_bab1_11e9_a8ab_002590e83e0alevel0_row1\" class=\"row_heading level0 row1\" >worst area</th>\n",
       "                        <td id=\"T_b33c0950_bab1_11e9_a8ab_002590e83e0arow1_col0\" class=\"data row1 col0\" >-0.68</td>\n",
       "                        <td id=\"T_b33c0950_bab1_11e9_a8ab_002590e83e0arow1_col1\" class=\"data row1 col1\" >0.003</td>\n",
       "            </tr>\n",
       "            <tr>\n",
       "                        <th id=\"T_b33c0950_bab1_11e9_a8ab_002590e83e0alevel0_row2\" class=\"row_heading level0 row2\" >worst perimeter</th>\n",
       "                        <td id=\"T_b33c0950_bab1_11e9_a8ab_002590e83e0arow2_col0\" class=\"data row2 col0\" >-0.537</td>\n",
       "                        <td id=\"T_b33c0950_bab1_11e9_a8ab_002590e83e0arow2_col1\" class=\"data row2 col1\" >0.03</td>\n",
       "            </tr>\n",
       "            <tr>\n",
       "                        <th id=\"T_b33c0950_bab1_11e9_a8ab_002590e83e0alevel0_row3\" class=\"row_heading level0 row3\" >mean area</th>\n",
       "                        <td id=\"T_b33c0950_bab1_11e9_a8ab_002590e83e0arow3_col0\" class=\"data row3 col0\" >-0.381</td>\n",
       "                        <td id=\"T_b33c0950_bab1_11e9_a8ab_002590e83e0arow3_col1\" class=\"data row3 col1\" >0</td>\n",
       "            </tr>\n",
       "            <tr>\n",
       "                        <th id=\"T_b33c0950_bab1_11e9_a8ab_002590e83e0alevel0_row4\" class=\"row_heading level0 row4\" >worst texture</th>\n",
       "                        <td id=\"T_b33c0950_bab1_11e9_a8ab_002590e83e0arow4_col0\" class=\"data row4 col0\" >-0.242</td>\n",
       "                        <td id=\"T_b33c0950_bab1_11e9_a8ab_002590e83e0arow4_col1\" class=\"data row4 col1\" >0.031</td>\n",
       "            </tr>\n",
       "            <tr>\n",
       "                        <th id=\"T_b33c0950_bab1_11e9_a8ab_002590e83e0alevel0_row5\" class=\"row_heading level0 row5\" >perimeter error</th>\n",
       "                        <td id=\"T_b33c0950_bab1_11e9_a8ab_002590e83e0arow5_col0\" class=\"data row5 col0\" >0.103</td>\n",
       "                        <td id=\"T_b33c0950_bab1_11e9_a8ab_002590e83e0arow5_col1\" class=\"data row5 col1\" >-0.021</td>\n",
       "            </tr>\n",
       "            <tr>\n",
       "                        <th id=\"T_b33c0950_bab1_11e9_a8ab_002590e83e0alevel0_row6\" class=\"row_heading level0 row6\" >mean radius</th>\n",
       "                        <td id=\"T_b33c0950_bab1_11e9_a8ab_002590e83e0arow6_col0\" class=\"data row6 col0\" >-0.082</td>\n",
       "                        <td id=\"T_b33c0950_bab1_11e9_a8ab_002590e83e0arow6_col1\" class=\"data row6 col1\" >-0.208</td>\n",
       "            </tr>\n",
       "            <tr>\n",
       "                        <th id=\"T_b33c0950_bab1_11e9_a8ab_002590e83e0alevel0_row7\" class=\"row_heading level0 row7\" >worst radius</th>\n",
       "                        <td id=\"T_b33c0950_bab1_11e9_a8ab_002590e83e0arow7_col0\" class=\"data row7 col0\" >-0.053</td>\n",
       "                        <td id=\"T_b33c0950_bab1_11e9_a8ab_002590e83e0arow7_col1\" class=\"data row7 col1\" >-0.212</td>\n",
       "            </tr>\n",
       "            <tr>\n",
       "                        <th id=\"T_b33c0950_bab1_11e9_a8ab_002590e83e0alevel0_row8\" class=\"row_heading level0 row8\" >texture error</th>\n",
       "                        <td id=\"T_b33c0950_bab1_11e9_a8ab_002590e83e0arow8_col0\" class=\"data row8 col0\" >0.046</td>\n",
       "                        <td id=\"T_b33c0950_bab1_11e9_a8ab_002590e83e0arow8_col1\" class=\"data row8 col1\" >-0.071</td>\n",
       "            </tr>\n",
       "            <tr>\n",
       "                        <th id=\"T_b33c0950_bab1_11e9_a8ab_002590e83e0alevel0_row9\" class=\"row_heading level0 row9\" >worst concavity</th>\n",
       "                        <td id=\"T_b33c0950_bab1_11e9_a8ab_002590e83e0arow9_col0\" class=\"data row9 col0\" >-0.024</td>\n",
       "                        <td id=\"T_b33c0950_bab1_11e9_a8ab_002590e83e0arow9_col1\" class=\"data row9 col1\" >0.144</td>\n",
       "            </tr>\n",
       "            <tr>\n",
       "                        <th id=\"T_b33c0950_bab1_11e9_a8ab_002590e83e0alevel0_row10\" class=\"row_heading level0 row10\" >mean texture</th>\n",
       "                        <td id=\"T_b33c0950_bab1_11e9_a8ab_002590e83e0arow10_col0\" class=\"data row10 col0\" >0.019</td>\n",
       "                        <td id=\"T_b33c0950_bab1_11e9_a8ab_002590e83e0arow10_col1\" class=\"data row10 col1\" >-0.003</td>\n",
       "            </tr>\n",
       "            <tr>\n",
       "                        <th id=\"T_b33c0950_bab1_11e9_a8ab_002590e83e0alevel0_row11\" class=\"row_heading level0 row11\" >mean perimeter</th>\n",
       "                        <td id=\"T_b33c0950_bab1_11e9_a8ab_002590e83e0arow11_col0\" class=\"data row11 col0\" >-0.019</td>\n",
       "                        <td id=\"T_b33c0950_bab1_11e9_a8ab_002590e83e0arow11_col1\" class=\"data row11 col1\" >-0.012</td>\n",
       "            </tr>\n",
       "            <tr>\n",
       "                        <th id=\"T_b33c0950_bab1_11e9_a8ab_002590e83e0alevel0_row12\" class=\"row_heading level0 row12\" >worst compactness</th>\n",
       "                        <td id=\"T_b33c0950_bab1_11e9_a8ab_002590e83e0arow12_col0\" class=\"data row12 col0\" >-0.016</td>\n",
       "                        <td id=\"T_b33c0950_bab1_11e9_a8ab_002590e83e0arow12_col1\" class=\"data row12 col1\" >0.116</td>\n",
       "            </tr>\n",
       "            <tr>\n",
       "                        <th id=\"T_b33c0950_bab1_11e9_a8ab_002590e83e0alevel0_row13\" class=\"row_heading level0 row13\" >mean concavity</th>\n",
       "                        <td id=\"T_b33c0950_bab1_11e9_a8ab_002590e83e0arow13_col0\" class=\"data row13 col0\" >-0.006</td>\n",
       "                        <td id=\"T_b33c0950_bab1_11e9_a8ab_002590e83e0arow13_col1\" class=\"data row13 col1\" >0.054</td>\n",
       "            </tr>\n",
       "            <tr>\n",
       "                        <th id=\"T_b33c0950_bab1_11e9_a8ab_002590e83e0alevel0_row14\" class=\"row_heading level0 row14\" >radius error</th>\n",
       "                        <td id=\"T_b33c0950_bab1_11e9_a8ab_002590e83e0arow14_col0\" class=\"data row14 col0\" >0.006</td>\n",
       "                        <td id=\"T_b33c0950_bab1_11e9_a8ab_002590e83e0arow14_col1\" class=\"data row14 col1\" >-0.005</td>\n",
       "            </tr>\n",
       "            <tr>\n",
       "                        <th id=\"T_b33c0950_bab1_11e9_a8ab_002590e83e0alevel0_row15\" class=\"row_heading level0 row15\" >worst symmetry</th>\n",
       "                        <td id=\"T_b33c0950_bab1_11e9_a8ab_002590e83e0arow15_col0\" class=\"data row15 col0\" >-0.002</td>\n",
       "                        <td id=\"T_b33c0950_bab1_11e9_a8ab_002590e83e0arow15_col1\" class=\"data row15 col1\" >0.039</td>\n",
       "            </tr>\n",
       "            <tr>\n",
       "                        <th id=\"T_b33c0950_bab1_11e9_a8ab_002590e83e0alevel0_row16\" class=\"row_heading level0 row16\" >concavity error</th>\n",
       "                        <td id=\"T_b33c0950_bab1_11e9_a8ab_002590e83e0arow16_col0\" class=\"data row16 col0\" >-0.002</td>\n",
       "                        <td id=\"T_b33c0950_bab1_11e9_a8ab_002590e83e0arow16_col1\" class=\"data row16 col1\" >0.012</td>\n",
       "            </tr>\n",
       "            <tr>\n",
       "                        <th id=\"T_b33c0950_bab1_11e9_a8ab_002590e83e0alevel0_row17\" class=\"row_heading level0 row17\" >mean compactness</th>\n",
       "                        <td id=\"T_b33c0950_bab1_11e9_a8ab_002590e83e0arow17_col0\" class=\"data row17 col0\" >-0.001</td>\n",
       "                        <td id=\"T_b33c0950_bab1_11e9_a8ab_002590e83e0arow17_col1\" class=\"data row17 col1\" >0.038</td>\n",
       "            </tr>\n",
       "            <tr>\n",
       "                        <th id=\"T_b33c0950_bab1_11e9_a8ab_002590e83e0alevel0_row18\" class=\"row_heading level0 row18\" >mean concave points</th>\n",
       "                        <td id=\"T_b33c0950_bab1_11e9_a8ab_002590e83e0arow18_col0\" class=\"data row18 col0\" >-0.001</td>\n",
       "                        <td id=\"T_b33c0950_bab1_11e9_a8ab_002590e83e0arow18_col1\" class=\"data row18 col1\" >0.022</td>\n",
       "            </tr>\n",
       "            <tr>\n",
       "                        <th id=\"T_b33c0950_bab1_11e9_a8ab_002590e83e0alevel0_row19\" class=\"row_heading level0 row19\" >worst concave points</th>\n",
       "                        <td id=\"T_b33c0950_bab1_11e9_a8ab_002590e83e0arow19_col0\" class=\"data row19 col0\" >0.001</td>\n",
       "                        <td id=\"T_b33c0950_bab1_11e9_a8ab_002590e83e0arow19_col1\" class=\"data row19 col1\" >0.039</td>\n",
       "            </tr>\n",
       "            <tr>\n",
       "                        <th id=\"T_b33c0950_bab1_11e9_a8ab_002590e83e0alevel0_row20\" class=\"row_heading level0 row20\" >compactness error</th>\n",
       "                        <td id=\"T_b33c0950_bab1_11e9_a8ab_002590e83e0arow20_col0\" class=\"data row20 col0\" >-0</td>\n",
       "                        <td id=\"T_b33c0950_bab1_11e9_a8ab_002590e83e0arow20_col1\" class=\"data row20 col1\" >0.009</td>\n",
       "            </tr>\n",
       "            <tr>\n",
       "                        <th id=\"T_b33c0950_bab1_11e9_a8ab_002590e83e0alevel0_row21\" class=\"row_heading level0 row21\" >worst fractal dimension</th>\n",
       "                        <td id=\"T_b33c0950_bab1_11e9_a8ab_002590e83e0arow21_col0\" class=\"data row21 col0\" >-0</td>\n",
       "                        <td id=\"T_b33c0950_bab1_11e9_a8ab_002590e83e0arow21_col1\" class=\"data row21 col1\" >0.012</td>\n",
       "            </tr>\n",
       "            <tr>\n",
       "                        <th id=\"T_b33c0950_bab1_11e9_a8ab_002590e83e0alevel0_row22\" class=\"row_heading level0 row22\" >symmetry error</th>\n",
       "                        <td id=\"T_b33c0950_bab1_11e9_a8ab_002590e83e0arow22_col0\" class=\"data row22 col0\" >-0</td>\n",
       "                        <td id=\"T_b33c0950_bab1_11e9_a8ab_002590e83e0arow22_col1\" class=\"data row22 col1\" >0.004</td>\n",
       "            </tr>\n",
       "            <tr>\n",
       "                        <th id=\"T_b33c0950_bab1_11e9_a8ab_002590e83e0alevel0_row23\" class=\"row_heading level0 row23\" >worst smoothness</th>\n",
       "                        <td id=\"T_b33c0950_bab1_11e9_a8ab_002590e83e0arow23_col0\" class=\"data row23 col0\" >-0</td>\n",
       "                        <td id=\"T_b33c0950_bab1_11e9_a8ab_002590e83e0arow23_col1\" class=\"data row23 col1\" >0.013</td>\n",
       "            </tr>\n",
       "            <tr>\n",
       "                        <th id=\"T_b33c0950_bab1_11e9_a8ab_002590e83e0alevel0_row24\" class=\"row_heading level0 row24\" >mean symmetry</th>\n",
       "                        <td id=\"T_b33c0950_bab1_11e9_a8ab_002590e83e0arow24_col0\" class=\"data row24 col0\" >0</td>\n",
       "                        <td id=\"T_b33c0950_bab1_11e9_a8ab_002590e83e0arow24_col1\" class=\"data row24 col1\" >0.012</td>\n",
       "            </tr>\n",
       "            <tr>\n",
       "                        <th id=\"T_b33c0950_bab1_11e9_a8ab_002590e83e0alevel0_row25\" class=\"row_heading level0 row25\" >mean smoothness</th>\n",
       "                        <td id=\"T_b33c0950_bab1_11e9_a8ab_002590e83e0arow25_col0\" class=\"data row25 col0\" >-0</td>\n",
       "                        <td id=\"T_b33c0950_bab1_11e9_a8ab_002590e83e0arow25_col1\" class=\"data row25 col1\" >0.008</td>\n",
       "            </tr>\n",
       "            <tr>\n",
       "                        <th id=\"T_b33c0950_bab1_11e9_a8ab_002590e83e0alevel0_row26\" class=\"row_heading level0 row26\" >concave points error</th>\n",
       "                        <td id=\"T_b33c0950_bab1_11e9_a8ab_002590e83e0arow26_col0\" class=\"data row26 col0\" >-0</td>\n",
       "                        <td id=\"T_b33c0950_bab1_11e9_a8ab_002590e83e0arow26_col1\" class=\"data row26 col1\" >0.003</td>\n",
       "            </tr>\n",
       "            <tr>\n",
       "                        <th id=\"T_b33c0950_bab1_11e9_a8ab_002590e83e0alevel0_row27\" class=\"row_heading level0 row27\" >mean fractal dimension</th>\n",
       "                        <td id=\"T_b33c0950_bab1_11e9_a8ab_002590e83e0arow27_col0\" class=\"data row27 col0\" >-0</td>\n",
       "                        <td id=\"T_b33c0950_bab1_11e9_a8ab_002590e83e0arow27_col1\" class=\"data row27 col1\" >0.002</td>\n",
       "            </tr>\n",
       "            <tr>\n",
       "                        <th id=\"T_b33c0950_bab1_11e9_a8ab_002590e83e0alevel0_row28\" class=\"row_heading level0 row28\" >fractal dimension error</th>\n",
       "                        <td id=\"T_b33c0950_bab1_11e9_a8ab_002590e83e0arow28_col0\" class=\"data row28 col0\" >-0</td>\n",
       "                        <td id=\"T_b33c0950_bab1_11e9_a8ab_002590e83e0arow28_col1\" class=\"data row28 col1\" >0.001</td>\n",
       "            </tr>\n",
       "            <tr>\n",
       "                        <th id=\"T_b33c0950_bab1_11e9_a8ab_002590e83e0alevel0_row29\" class=\"row_heading level0 row29\" >smoothness error</th>\n",
       "                        <td id=\"T_b33c0950_bab1_11e9_a8ab_002590e83e0arow29_col0\" class=\"data row29 col0\" >-0</td>\n",
       "                        <td id=\"T_b33c0950_bab1_11e9_a8ab_002590e83e0arow29_col1\" class=\"data row29 col1\" >0.001</td>\n",
       "            </tr>\n",
       "    </tbody></table>"
      ],
      "text/plain": [
       "<pandas.io.formats.style.Styler at 0x7fadf41d0ac8>"
      ]
     },
     "execution_count": 5,
     "metadata": {},
     "output_type": "execute_result"
    }
   ],
   "source": [
    "explainer = sli.Explainer(X_train, feature_names=feature_names, strategy=strategy, target_name=target_name)\n",
    "explainer.explain_instance(x, models[1].predict_proba, class_num, return_table=True)"
   ]
  },
  {
   "cell_type": "markdown",
   "metadata": {},
   "source": [
    "**visualize a particular feature locally**"
   ]
  },
  {
   "cell_type": "code",
   "execution_count": 6,
   "metadata": {},
   "outputs": [
    {
     "name": "stdout",
     "output_type": "stream",
     "text": [
      "contribution: -0.771, sensitivity pos: 0.017\n"
     ]
    },
    {
     "data": {
      "image/png": "[encoded data removed]",
      "text/plain": [
       "<Figure size 432x288 with 1 Axes>"
      ]
     },
     "metadata": {
      "needs_background": "light"
     },
     "output_type": "display_data"
    }
   ],
   "source": [
    "feature_name = 'area error' # area error\n",
    "fig = plt.figure()\n",
    "expl_dicts = []\n",
    "for i in range(3):\n",
    "    expl_dicts.append(explainer.explain_instance_feature(x, models[i].predict_proba, \n",
    "                                                         feature_name=feature_name, class_num=class_num))\n",
    "\n",
    "print(f'contribution: {expl_dicts[1][\"contribution\"]:0.3f}, sensitivity pos: {expl_dicts[1][\"sensitivity_pos\"]:0.3f}')\n",
    "\n",
    "explainer.viz_expl_feature(expl_dicts[1], [expl_dicts[0], expl_dicts[2]])\n"
   ]
  },
  {
   "cell_type": "markdown",
   "metadata": {},
   "source": [
    "**visualize all features interactively**"
   ]
  },
  {
   "cell_type": "code",
   "execution_count": 7,
   "metadata": {},
   "outputs": [],
   "source": [
    "explainer.calc_percentiles(models[1].predict_proba, models[0].predict_proba, \n",
    "                           models[2].predict_proba)"
   ]
  },
  {
   "cell_type": "code",
   "execution_count": 8,
   "metadata": {},
   "outputs": [],
   "source": [
    "expl_dicts = []\n",
    "for i in range(3):\n",
    "    expl_dicts.append(explainer.explain_instance(x, models[i].predict_proba, class_num, return_table=False))\n",
    "explainer.viz_expl(expl_dicts[1], [expl_dicts[0], expl_dicts[2]], \n",
    "                   point_id='', filename=oj(out_dir, 'out_breast_cancer.html'), \n",
    "                   show_stds=True)"
   ]
  },
  {
   "cell_type": "markdown",
   "metadata": {},
   "source": [
    "# uncertainty plots"
   ]
  },
  {
   "cell_type": "code",
   "execution_count": 67,
   "metadata": {},
   "outputs": [],
   "source": [
    "from metrics import get_metrics"
   ]
  },
  {
   "cell_type": "code",
   "execution_count": null,
   "metadata": {},
   "outputs": [],
   "source": [
    "metrics_train = get_metrics(models[0].predict_proba(X_train)[:, 1], \n",
    "                            models[1].predict_proba(X_train)[:, 1], models[2].predict_proba(X_train)[:, 1], \n",
    "                            y_train, suffix='train')\n",
    "metrics_test = get_metrics(models[0].predict_proba(X_test)[:, 1], \n",
    "                           models[1].predict_proba(X_test)[:, 1], models[2].predict_proba(X_test)[:, 1], \n",
    "                           y_test, suffix='test')"
   ]
  },
  {
   "cell_type": "code",
   "execution_count": 69,
   "metadata": {},
   "outputs": [
    {
     "name": "stdout",
     "output_type": "stream",
     "text": [
      "dict_keys(['cw_flipped_diff_test', 'cw_flipped_diff_p_test', 'cw_loss_percentages_test', 'cw_loss_performances_test', 'cw_loss_auc_test', 'cw_auc_percentages_test', 'cw_auc_performances_test', 'cw_auc_auc_test', 'cw_calibration_pred_test', 'cw_calibration_true_test', 'cw_calibration_rmse_test', 'cw_ranks_test', 'cw_uncertainty_test', 'pe_flipped_diff_test', 'pe_flipped_diff_p_test', 'pe_loss_percentages_test', 'pe_loss_performances_test', 'pe_loss_auc_test', 'pe_auc_percentages_test', 'pe_auc_performances_test', 'pe_auc_auc_test', 'pe_calibration_pred_test', 'pe_calibration_true_test', 'pe_calibration_rmse_test', 'pe_ranks_test', 'pe_uncertainty_test', 'preds'])\n"
     ]
    },
    {
     "data": {
      "image/png": "[encoded data removed]",
      "text/plain": [
       "<Figure size 648x216 with 3 Axes>"
      ]
     },
     "metadata": {
      "needs_background": "light"
     },
     "output_type": "display_data"
    }
   ],
   "source": [
    "R, C = 1, 3\n",
    "r = metrics_test\n",
    "# print(r.keys())\n",
    "plt.figure(figsize=(C * 3, R * 3))\n",
    "\n",
    "plt.subplot(R, C, 1)\n",
    "plt.plot(r['cw_auc_percentages_test'], r['cw_auc_performances_test'])\n",
    "plt.xlabel('Percent of uncertain data')\n",
    "plt.ylabel('AUC')\n",
    "\n",
    "plt.subplot(R, C, 2)\n",
    "plt.plot(r['cw_calibration_pred_test'], r['cw_calibration_true_test'], 'o-')\n",
    "plt.xlabel('Predicted probability')\n",
    "plt.ylabel('True probability')\n",
    "\n",
    "plt.subplot(R, C, 3)\n",
    "plt.plot(r['preds'], r['cw_uncertainty_test'], 'o', alpha=0.5)\n",
    "plt.xlabel('Predicted probability')\n",
    "plt.ylabel('Uncertainty')\n",
    "\n",
    "plt.tight_layout()\n",
    "plt.savefig(oj(out_dir, 'fig_breast_cancer_uncertainty.pdf'))"
   ]
  }
 ],
 "metadata": {
  "kernelspec": {
   "display_name": "Python 3",
   "language": "python",
   "name": "python3"
  },
  "language_info": {
   "codemirror_mode": {
    "name": "ipython",
    "version": 3
   },
   "file_extension": ".py",
   "mimetype": "text/x-python",
   "name": "python",
   "nbconvert_exporter": "python",
   "pygments_lexer": "ipython3",
   "version": "3.7.0"
  }
 },
 "nbformat": 4,
 "nbformat_minor": 4
}
