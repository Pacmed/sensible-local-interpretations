{
 "cells": [
  {
   "cell_type": "code",
   "execution_count": 230,
   "metadata": {},
   "outputs": [],
   "source": [
    "import torch\n",
    "from torch import nn\n",
    "import pandas as pd\n",
    "import numpy as np\n",
    "from pacmagic_deeplearning.modeling.classifiers.bayesian.train_utils import make_performance_uncertainty_plot, cross_entropy\n"
   ]
  },
  {
   "cell_type": "code",
   "execution_count": 231,
   "metadata": {},
   "outputs": [],
   "source": [
    "X_train = pd.read_csv('../../data/MIMIC/X_train_processed.csv')\n",
    "y_train = pd.read_csv('../../data/MIMIC/y_train.csv')\n",
    "\n",
    "X_test = pd.read_csv('../../data/MIMIC/X_test_processed.csv')\n",
    "y_test = pd.read_csv('../../data/MIMIC/y_test.csv')"
   ]
  },
  {
   "cell_type": "code",
   "execution_count": 232,
   "metadata": {},
   "outputs": [],
   "source": [
    "q_lower = np.linspace(0, y_train.mean(), 5)\n",
    "q_upper = np.linspace(y_train.mean(), 1, 5)"
   ]
  },
  {
   "cell_type": "code",
   "execution_count": 233,
   "metadata": {},
   "outputs": [],
   "source": [
    "quantiles = np.concatenate((q_lower, q_upper))"
   ]
  },
  {
   "cell_type": "code",
   "execution_count": 234,
   "metadata": {},
   "outputs": [],
   "source": [
    "quantiles = np.insert(quantiles, 3, 0.5)"
   ]
  },
  {
   "cell_type": "code",
   "execution_count": 235,
   "metadata": {},
   "outputs": [],
   "source": [
    "# quantiles = [y_train.mean() - .05, y_train.mean(), y_train.mean() + 0.05]"
   ]
  },
  {
   "cell_type": "code",
   "execution_count": 236,
   "metadata": {},
   "outputs": [],
   "source": [
    "quantiles = np.linspace(0, 1, 11)"
   ]
  },
  {
   "cell_type": "code",
   "execution_count": 237,
   "metadata": {},
   "outputs": [
    {
     "data": {
      "text/plain": [
       "array([0. , 0.1, 0.2, 0.3, 0.4, 0.5, 0.6, 0.7, 0.8, 0.9, 1. ])"
      ]
     },
     "execution_count": 237,
     "metadata": {},
     "output_type": "execute_result"
    }
   ],
   "source": [
    "quantiles"
   ]
  },
  {
   "cell_type": "code",
   "execution_count": 238,
   "metadata": {},
   "outputs": [],
   "source": [
    "def get_weight_tensor_from_class_weights(y, class_weights: list):\n",
    "    weights = torch.empty_like(y).float()\n",
    "    \n",
    "    for i, weight in enumerate(class_weights):\n",
    "        weights[y == i] = weight.item()\n",
    "    \n",
    "    return weights\n",
    "        "
   ]
  },
  {
   "cell_type": "code",
   "execution_count": 239,
   "metadata": {},
   "outputs": [],
   "source": [
    "class Canonical(nn.Module):\n",
    "    def __init__(self):\n",
    "        super(Canonical, self).__init__()\n",
    "        self.z = nn.Linear(44, 64)\n",
    "        self.bn = nn.BatchNorm1d(64)\n",
    "        self.quantile_preds = nn.ModuleList([nn.Linear(64, 1) for _ in range(1)])\n",
    "        \n",
    "    def forward(self, x):\n",
    "        z = self.bn(self.z(x))\n",
    "        \n",
    "        return [self.quantile_preds[i](z) for i in range(len(self.quantile_preds))]"
   ]
  },
  {
   "cell_type": "code",
   "execution_count": 240,
   "metadata": {},
   "outputs": [],
   "source": [
    "class NN(nn.Module):\n",
    "    def __init__(self):\n",
    "        super(NN, self).__init__()\n",
    "        self.z = nn.Linear(44, 64)\n",
    "        self.bn = nn.BatchNorm1d(64)\n",
    "        self.quantile_preds = nn.ModuleList([nn.Linear(64, 1) for _ in range(len(quantiles))])\n",
    "        \n",
    "    def forward(self, x):\n",
    "        z = self.bn(self.z(x))\n",
    "        \n",
    "        return [self.quantile_preds[i](z) for i in range(len(self.quantile_preds))]"
   ]
  },
  {
   "cell_type": "code",
   "execution_count": 241,
   "metadata": {},
   "outputs": [],
   "source": [
    "canonical = Canonical()"
   ]
  },
  {
   "cell_type": "code",
   "execution_count": 242,
   "metadata": {},
   "outputs": [],
   "source": [
    "optimizer = SGD(canonical.parameters(), lr=5e-1, momentum=0.9, nesterov=True)\n",
    "optimizer = torch.optim.Adam(canonical.parameters(), lr=1e-2)"
   ]
  },
  {
   "cell_type": "code",
   "execution_count": 243,
   "metadata": {},
   "outputs": [
    {
     "name": "stdout",
     "output_type": "stream",
     "text": [
      "0.30709177255630493\n",
      "0.17015808820724487\n",
      "0.09221139550209045\n",
      "0.09034936130046844\n",
      "0.09021566063165665\n",
      "0.08739610761404037\n",
      "0.08621843159198761\n",
      "0.08606377243995667\n",
      "0.08593201637268066\n",
      "0.08595214784145355\n",
      "0.0860113650560379\n",
      "0.08600518107414246\n",
      "0.08599139004945755\n",
      "0.08598771691322327\n",
      "0.08599290996789932\n",
      "0.08599577099084854\n",
      "0.08599328994750977\n"
     ]
    }
   ],
   "source": [
    "best_val_loss = np.inf\n",
    "patience = 0\n",
    "\n",
    "for epoch_idx in range(10000):\n",
    "    outputs = canonical(data)\n",
    "    losses = [torch.nn.functional.binary_cross_entropy_with_logits(\n",
    "        outputs[i], \n",
    "        target, \n",
    "        weight=get_weight_tensor_from_class_weights(target, np.array([0.5, 0.5]))\n",
    "    ) for i in range(len(outputs))]\n",
    "    \n",
    "    loss = sum(losses)\n",
    "    \n",
    "    optimizer.zero_grad()\n",
    "    loss.backward()\n",
    "    optimizer.step()\n",
    "    if epoch_idx % 10 == 0:\n",
    "        outputs_val = canonical(data_val)\n",
    "        losses_val = [torch.nn.functional.binary_cross_entropy_with_logits(\n",
    "        outputs_val[i], \n",
    "        target_val, \n",
    "        weight=get_weight_tensor_from_class_weights(target_val, np.array([0.5, 0.5]))\n",
    "        ) for i in range(len(outputs))]\n",
    "    \n",
    "        loss_val = sum(losses_val) \n",
    "        \n",
    "        print(loss_val.item())\n",
    "            \n",
    "        if loss_val.item() < best_val_loss:\n",
    "            best_val_loss = loss_val.item()\n",
    "        else:\n",
    "            patience += 1\n",
    "            \n",
    "            if patience == 8:\n",
    "                break"
   ]
  },
  {
   "cell_type": "code",
   "execution_count": 244,
   "metadata": {},
   "outputs": [],
   "source": [
    "data = torch.from_numpy(X_train.values).float()\n",
    "target = torch.from_numpy(y_train.values).float()"
   ]
  },
  {
   "cell_type": "code",
   "execution_count": 245,
   "metadata": {},
   "outputs": [],
   "source": [
    "data_val = torch.from_numpy(X_test.values).float()\n",
    "target_val = torch.from_numpy(y_test.values).float()"
   ]
  },
  {
   "cell_type": "code",
   "execution_count": 246,
   "metadata": {},
   "outputs": [],
   "source": [
    "model = NN()"
   ]
  },
  {
   "cell_type": "code",
   "execution_count": 247,
   "metadata": {},
   "outputs": [],
   "source": [
    "model.z = canonical.z"
   ]
  },
  {
   "cell_type": "code",
   "execution_count": 248,
   "metadata": {},
   "outputs": [],
   "source": [
    "model.z.weight.requires_grad = False\n",
    "model.z.bias.requires_grad = False"
   ]
  },
  {
   "cell_type": "code",
   "execution_count": 249,
   "metadata": {},
   "outputs": [],
   "source": [
    "from torch.optim import SGD\n",
    "\n",
    "optimizer = SGD(model.parameters(), lr=5e-1, momentum=0.9, nesterov=True)\n",
    "optimizer = torch.optim.Adam(model.parameters(), lr=1e-2)"
   ]
  },
  {
   "cell_type": "code",
   "execution_count": 250,
   "metadata": {
    "scrolled": true
   },
   "outputs": [
    {
     "name": "stdout",
     "output_type": "stream",
     "text": [
      "3.780406951904297\n",
      "2.3394455909729004\n",
      "0.9494673013687134\n",
      "0.7427178025245667\n",
      "0.688396692276001\n",
      "0.6695437431335449\n",
      "0.6583784222602844\n",
      "0.6515651345252991\n",
      "0.6496391892433167\n",
      "0.6487367749214172\n",
      "0.6473656892776489\n",
      "0.6464085578918457\n",
      "0.6457938551902771\n",
      "0.6453506946563721\n",
      "0.644997775554657\n",
      "0.6446378231048584\n",
      "0.6443440318107605\n",
      "0.6440882682800293\n",
      "0.6438761353492737\n",
      "0.6436855792999268\n",
      "0.6435173153877258\n",
      "0.6433658003807068\n",
      "0.6432316899299622\n",
      "0.6431119441986084\n",
      "0.6430047154426575\n",
      "0.64290851354599\n",
      "0.6428223252296448\n",
      "0.6427448391914368\n",
      "0.6426751017570496\n",
      "0.6426125764846802\n",
      "0.6425563097000122\n",
      "0.6425058245658875\n",
      "0.6424606442451477\n",
      "0.6424199938774109\n",
      "0.642383873462677\n",
      "0.6423514485359192\n",
      "0.6423225402832031\n",
      "0.6422968506813049\n",
      "0.6422739624977112\n",
      "0.6422537565231323\n",
      "0.6422358751296997\n",
      "0.6422199606895447\n",
      "0.6422061324119568\n",
      "0.6421938538551331\n",
      "0.6421831250190735\n",
      "0.642173707485199\n",
      "0.6421655416488647\n",
      "0.6421584486961365\n",
      "0.6421521902084351\n",
      "0.6421469449996948\n",
      "0.6421424150466919\n",
      "0.6421383619308472\n",
      "0.6421350836753845\n",
      "0.6421321630477905\n",
      "0.64212965965271\n",
      "0.6421276330947876\n",
      "0.6421257257461548\n",
      "0.6421241164207458\n",
      "0.642122745513916\n",
      "0.6421215534210205\n",
      "0.6421204209327698\n",
      "0.6421195268630981\n",
      "0.642118513584137\n",
      "0.6421176195144653\n",
      "0.6421168446540833\n",
      "0.6421158313751221\n",
      "0.6421148777008057\n",
      "0.642113983631134\n",
      "0.6421130299568176\n",
      "0.6421118974685669\n",
      "0.6421108245849609\n",
      "0.6421096324920654\n",
      "0.6421084403991699\n",
      "0.6421071290969849\n",
      "0.6421056389808655\n",
      "0.6421040892601013\n",
      "0.6421025395393372\n",
      "0.6421006917953491\n",
      "0.6420989632606506\n",
      "0.642096996307373\n",
      "0.6420950293540955\n",
      "0.6420928835868835\n",
      "0.6420907378196716\n",
      "0.6420883536338806\n",
      "0.6420860290527344\n",
      "0.6420835852622986\n",
      "0.6420809626579285\n",
      "0.6420783996582031\n",
      "0.6420757174491882\n",
      "0.6420729160308838\n",
      "0.6420701146125793\n",
      "0.6420671343803406\n",
      "0.6420641541481018\n",
      "0.6420612931251526\n",
      "0.6420581340789795\n",
      "0.6420550346374512\n",
      "0.6420518755912781\n",
      "0.6420486569404602\n",
      "0.6420453786849976\n",
      "0.6420420408248901\n",
      "0.6420387625694275\n",
      "0.6420354247093201\n",
      "0.6420320272445679\n",
      "0.6420285701751709\n",
      "0.6420251131057739\n",
      "0.642021656036377\n",
      "0.64201819896698\n",
      "0.6420146226882935\n",
      "0.6420111060142517\n",
      "0.64200758934021\n",
      "0.6420040726661682\n",
      "0.6420005559921265\n",
      "0.6419970393180847\n",
      "0.641993522644043\n",
      "0.6419898867607117\n",
      "0.6419864296913147\n",
      "0.6419828534126282\n",
      "0.6419792771339417\n",
      "0.6419757008552551\n",
      "0.6419723033905029\n",
      "0.6419687271118164\n",
      "0.6419652104377747\n",
      "0.6419618129730225\n",
      "0.6419583559036255\n",
      "0.6419548392295837\n",
      "0.6419514417648315\n",
      "0.6419479250907898\n",
      "0.6419445872306824\n",
      "0.6419411301612854\n",
      "0.6419377326965332\n",
      "0.6419344544410706\n",
      "0.6419310569763184\n",
      "0.6419277191162109\n",
      "0.6419244408607483\n",
      "0.6419211626052856\n",
      "0.6419179439544678\n",
      "0.6419146060943604\n",
      "0.6419114470481873\n",
      "0.6419082283973694\n",
      "0.6419051289558411\n",
      "0.641901969909668\n",
      "0.6418987512588501\n",
      "0.6418957710266113\n",
      "0.6418927907943726\n",
      "0.6418898105621338\n",
      "0.6418867111206055\n",
      "0.6418838500976562\n",
      "0.6418808102607727\n",
      "0.6418778300285339\n",
      "0.6418749094009399\n",
      "0.6418721079826355\n",
      "0.6418692469596863\n",
      "0.6418665051460266\n",
      "0.6418637037277222\n",
      "0.6418609023094177\n",
      "0.6418581008911133\n",
      "0.6418554186820984\n",
      "0.6418527960777283\n",
      "0.6418501138687134\n",
      "0.6418473720550537\n",
      "0.6418448090553284\n",
      "0.6418423056602478\n",
      "0.6418398022651672\n",
      "0.6418372392654419\n",
      "0.6418347358703613\n",
      "0.641832172870636\n",
      "0.641829788684845\n",
      "0.641827404499054\n",
      "0.6418249607086182\n",
      "0.6418226361274719\n",
      "0.6418203115463257\n",
      "0.6418178677558899\n",
      "0.6418156027793884\n",
      "0.641813337802887\n",
      "0.6418111324310303\n",
      "0.6418088674545288\n",
      "0.6418066024780273\n",
      "0.6418043971061707\n",
      "0.6418023109436035\n",
      "0.6418001055717468\n",
      "0.6417979598045349\n",
      "0.6417959928512573\n",
      "0.6417939066886902\n",
      "0.6417917609214783\n",
      "0.6417897939682007\n",
      "0.6417877674102783\n",
      "0.641785740852356\n",
      "0.6417838335037231\n",
      "0.6417819261550903\n",
      "0.641779899597168\n",
      "0.6417779922485352\n",
      "0.6417760848999023\n",
      "0.6417742967605591\n",
      "0.641772449016571\n",
      "0.6417705416679382\n",
      "0.6417686939239502\n",
      "0.6417669653892517\n",
      "0.6417651772499084\n",
      "0.6417633295059204\n",
      "0.6417616009712219\n",
      "0.6417598128318787\n",
      "0.641758143901825\n",
      "0.6417563557624817\n",
      "0.6417547464370728\n",
      "0.641753077507019\n",
      "0.6417514085769653\n",
      "0.6417497992515564\n",
      "0.6417481303215027\n",
      "0.6417465806007385\n",
      "0.64174485206604\n",
      "0.6417433619499207\n",
      "0.6417416930198669\n",
      "0.6417401432991028\n",
      "0.6417385935783386\n",
      "0.6417370438575745\n",
      "0.6417354941368103\n",
      "0.6417339444160461\n",
      "0.6417324542999268\n",
      "0.6417310237884521\n",
      "0.641729474067688\n",
      "0.6417280435562134\n",
      "0.641726553440094\n",
      "0.6417251229286194\n",
      "0.6417236924171448\n",
      "0.6417222619056702\n",
      "0.6417207717895508\n",
      "0.641719400882721\n",
      "0.6417180895805359\n",
      "0.6417166590690613\n",
      "0.6417152881622314\n",
      "0.6417137980461121\n",
      "0.641712486743927\n",
      "0.6417111158370972\n",
      "0.6417097449302673\n",
      "0.6417084336280823\n",
      "0.6417071223258972\n",
      "0.6417058110237122\n",
      "0.6417044997215271\n",
      "0.6417031288146973\n",
      "0.6417018175125122\n",
      "0.6417004466056824\n",
      "0.6416991949081421\n",
      "0.641697883605957\n",
      "0.6416966319084167\n",
      "0.6416954398155212\n",
      "0.6416941285133362\n",
      "0.6416928768157959\n",
      "0.6416916847229004\n",
      "0.6416903734207153\n",
      "0.6416890621185303\n",
      "0.6416879892349243\n",
      "0.641686737537384\n",
      "0.6416854858398438\n",
      "0.6416842937469482\n",
      "0.6416829824447632\n",
      "0.6416819095611572\n",
      "0.6416806578636169\n",
      "0.6416794657707214\n",
      "0.6416782736778259\n",
      "0.6416770815849304\n",
      "0.6416758894920349\n",
      "0.6416746973991394\n",
      "0.6416735649108887\n",
      "0.6416724324226379\n",
      "0.6416712999343872\n",
      "0.6416701674461365\n",
      "0.641668975353241\n",
      "0.6416678428649902\n",
      "0.6416667103767395\n",
      "0.6416655778884888\n",
      "0.641664445400238\n",
      "0.6416633725166321\n",
      "0.6416621804237366\n",
      "0.6416611075401306\n",
      "0.6416599750518799\n",
      "0.6416589021682739\n",
      "0.641657829284668\n",
      "0.6416566371917725\n",
      "0.6416556239128113\n",
      "0.6416544318199158\n",
      "0.6416534781455994\n",
      "0.6416524052619934\n",
      "0.6416513323783875\n",
      "0.6416502594947815\n",
      "0.6416491866111755\n",
      "0.6416481733322144\n",
      "0.6416471600532532\n",
      "0.6416460871696472\n",
      "0.6416451334953308\n",
      "0.6416440010070801\n",
      "0.6416431069374084\n",
      "0.6416419744491577\n",
      "0.6416410803794861\n",
      "0.6416400074958801\n",
      "0.641638994216919\n",
      "0.641637921333313\n",
      "0.6416369080543518\n",
      "0.6416358947753906\n",
      "0.641635000705719\n",
      "0.6416340470314026\n",
      "0.6416329741477966\n",
      "0.6416320204734802\n",
      "0.6416310667991638\n",
      "0.6416301131248474\n",
      "0.6416290998458862\n",
      "0.6416282653808594\n",
      "0.641627311706543\n",
      "0.6416262984275818\n",
      "0.6416254639625549\n",
      "0.6416244506835938\n",
      "0.6416235566139221\n",
      "0.6416226625442505\n",
      "0.6416216492652893\n",
      "0.6416208148002625\n",
      "0.6416199207305908\n",
      "0.6416189670562744\n",
      "0.6416181325912476\n",
      "0.6416171193122864\n",
      "0.6416164040565491\n",
      "0.6416153907775879\n",
      "0.641614556312561\n",
      "0.6416137218475342\n",
      "0.6416127681732178\n",
      "0.6416119337081909\n",
      "0.6416109800338745\n",
      "0.6416102051734924\n",
      "0.6416093707084656\n",
      "0.6416085958480835\n",
      "0.6416077613830566\n",
      "0.6416069269180298\n",
      "0.6416060328483582\n",
      "0.6416053175926208\n",
      "0.6416044235229492\n",
      "0.6416037082672119\n",
      "0.6416028738021851\n",
      "0.6416021585464478\n",
      "0.6416013240814209\n",
      "0.641600489616394\n",
      "0.6415997743606567\n",
      "0.6415989995002747\n",
      "0.6415981650352478\n",
      "0.6415974497795105\n",
      "0.6415967345237732\n",
      "0.6415959000587463\n",
      "0.6415951251983643\n",
      "0.641594409942627\n",
      "0.6415936946868896\n",
      "0.6415929198265076\n",
      "0.641592264175415\n",
      "0.6415915489196777\n",
      "0.6415907144546509\n",
      "0.6415901780128479\n",
      "0.641589343547821\n",
      "0.6415887475013733\n",
      "0.6415880918502808\n",
      "0.6415873169898987\n",
      "0.6415865421295166\n",
      "0.6415860056877136\n",
      "0.6415852308273315\n",
      "0.6415846347808838\n",
      "0.6415839791297913\n",
      "0.6415833830833435\n",
      "0.6415827870368958\n",
      "0.6415820717811584\n",
      "0.6415815353393555\n",
      "0.6415808200836182\n",
      "0.6415801644325256\n",
      "0.6415795087814331\n",
      "0.6415789723396301\n",
      "0.6415783762931824\n",
      "0.6415777802467346\n",
      "0.6415771842002869\n",
      "0.6415765285491943\n",
      "0.6415759325027466\n",
      "0.6415753960609436\n",
      "0.6415748000144958\n",
      "0.6415742039680481\n",
      "0.6415736675262451\n",
      "0.6415731310844421\n",
      "0.6415725946426392\n",
      "0.6415719389915466\n",
      "0.6415714621543884\n",
      "0.6415708661079407\n",
      "0.6415704488754272\n",
      "0.6415697932243347\n",
      "0.6415693163871765\n",
      "0.6415687799453735\n",
      "0.6415683031082153\n",
      "0.6415677666664124\n",
      "0.6415672898292542\n",
      "0.6415667533874512\n",
      "0.6415663361549377\n",
      "0.6415657997131348\n",
      "0.6415653824806213\n",
      "0.6415648460388184\n",
      "0.6415643692016602\n",
      "0.6415639519691467\n",
      "0.6415634751319885\n",
      "0.6415628790855408\n",
      "0.6415624618530273\n",
      "0.6415619850158691\n",
      "0.6415615677833557\n",
      "0.6415611505508423\n",
      "0.6415607333183289\n",
      "0.6415602564811707\n",
      "0.6415598392486572\n",
      "0.6415594220161438\n",
      "0.6415589451789856\n",
      "0.6415584683418274\n",
      "0.6415582299232483\n",
      "0.6415577530860901\n",
      "0.6415572762489319\n",
      "0.6415568590164185\n",
      "0.6415565013885498\n",
      "0.6415561437606812\n",
      "0.6415558457374573\n",
      "0.6415553689002991\n",
      "0.6415550112724304\n",
      "0.641554594039917\n",
      "0.6415542364120483\n",
      "0.6415539383888245\n",
      "0.6415535807609558\n",
      "0.6415531635284424\n",
      "0.6415528059005737\n",
      "0.6415524482727051\n",
      "0.641552209854126\n",
      "0.6415518522262573\n",
      "0.6415514945983887\n",
      "0.6415511965751648\n",
      "0.6415507793426514\n",
      "0.6415504813194275\n",
      "0.6415501236915588\n",
      "0.6415498852729797\n",
      "0.6415495872497559\n"
     ]
    },
    {
     "name": "stdout",
     "output_type": "stream",
     "text": [
      "0.641549289226532\n",
      "0.6415489912033081\n",
      "0.6415486335754395\n",
      "0.6415483355522156\n",
      "0.6415480971336365\n",
      "0.6415477991104126\n",
      "0.641547441482544\n",
      "0.6415470838546753\n",
      "0.641546905040741\n",
      "0.6415465474128723\n",
      "0.641546368598938\n",
      "0.6415460705757141\n",
      "0.6415457725524902\n",
      "0.6415455341339111\n",
      "0.6415452361106873\n",
      "0.6415449380874634\n",
      "0.6415446996688843\n",
      "0.6415444612503052\n",
      "0.6415442228317261\n",
      "0.641543984413147\n",
      "0.6415437459945679\n",
      "0.641543447971344\n",
      "0.6415432691574097\n",
      "0.6415429711341858\n",
      "0.6415428519248962\n",
      "0.6415426135063171\n",
      "0.641542375087738\n",
      "0.6415421962738037\n",
      "0.6415418982505798\n",
      "0.6415416598320007\n",
      "0.6415414810180664\n",
      "0.6415412425994873\n",
      "0.641541063785553\n",
      "0.6415408253669739\n",
      "0.6415407061576843\n",
      "0.6415404081344604\n",
      "0.6415402293205261\n",
      "0.641539990901947\n",
      "0.6415397524833679\n",
      "0.6415396332740784\n",
      "0.6415393948554993\n",
      "0.6415392756462097\n",
      "0.6415390372276306\n",
      "0.6415389180183411\n",
      "0.641538679599762\n",
      "0.6415385603904724\n",
      "0.6415383815765381\n",
      "0.6415382027626038\n",
      "0.6415380239486694\n",
      "0.6415377855300903\n",
      "0.6415376663208008\n",
      "0.641537606716156\n",
      "0.6415374279022217\n",
      "0.6415374875068665\n",
      "0.6415401101112366\n",
      "0.6415799260139465\n",
      "0.6415260434150696\n",
      "0.6415855288505554\n",
      "0.6415179371833801\n",
      "0.6415301561355591\n",
      "0.641546368598938\n",
      "0.6415295600891113\n",
      "0.6415397524833679\n"
     ]
    }
   ],
   "source": [
    "best_val_loss = np.inf\n",
    "patience = 0\n",
    "\n",
    "for epoch_idx in range(10000):\n",
    "    outputs = model(data)\n",
    "    losses = [torch.nn.functional.binary_cross_entropy_with_logits(\n",
    "        outputs[i], \n",
    "        target, \n",
    "        weight=get_weight_tensor_from_class_weights(target, [quantiles[i], 1 - quantiles[i]])\n",
    "    ) for i in range(len(outputs))]\n",
    "    \n",
    "    loss = sum(losses)\n",
    "    \n",
    "    optimizer.zero_grad()\n",
    "    loss.backward()\n",
    "    optimizer.step()\n",
    "    if epoch_idx % 10 == 0:\n",
    "        outputs_val = model(data_val)\n",
    "        losses_val = [torch.nn.functional.binary_cross_entropy_with_logits(\n",
    "        outputs_val[i], \n",
    "        target_val, \n",
    "        weight=get_weight_tensor_from_class_weights(target_val, [quantiles[i], 1 - quantiles[i]])\n",
    "        ) for i in range(len(outputs))]\n",
    "    \n",
    "        loss_val = sum(losses_val) \n",
    "        \n",
    "        print(loss_val.item())\n",
    "                    \n",
    "        if loss_val.item() < best_val_loss:\n",
    "            best_val_loss = loss_val.item()\n",
    "        else:\n",
    "            patience += 1\n",
    "            \n",
    "            if patience == 8:\n",
    "                break"
   ]
  },
  {
   "cell_type": "code",
   "execution_count": 251,
   "metadata": {},
   "outputs": [],
   "source": [
    "\n",
    "from typing import List, Tuple\n",
    "\n",
    "import matplotlib.pyplot as plt\n",
    "import numpy as np\n",
    "import pandas as pd\n",
    "import seaborn as sns\n",
    "from matplotlib.figure import Figure\n",
    "from matplotlib.lines import Line2D\n",
    "from sklearn.metrics import roc_curve, auc\n",
    "from sklearn.model_selection import learning_curve\n",
    "\n",
    "from pacmagic.general_utils.constants import *\n",
    "from pacmagic.modeling.survival_models.kaplan_meier import get_and_fit_kaplan_meier\n",
    "from pacmagic.visualizing.visualization_settings import *\n",
    "from pacmagic.visualizing.visualization_utils import set_default_style\n",
    "\n",
    "# Calibration curve\n",
    "COLOR_TRAIN_ROC = 'b'\n",
    "STD_AUC_FIELD = 'std_auc'\n",
    "MEAN_FPR_FIELD = 'mean_fpr'\n",
    "MEAN_TPR_FIELD = 'mean_tpr'\n",
    "COLOR_TEST_ROC = 'orange'\n",
    "LINE_WIDTH = 2\n",
    "COLOR_PREDICTIONS = 'green'\n",
    "PREDICTED_DIST_BINS = 40\n",
    "\n",
    "LABEL_PERFECTLY_CALIBRATED = 'Perfectly calibrated'\n",
    "LABEL_PREDICTIONS = 'Predictions'\n",
    "LABEL_CI = 'Confidence Interval'\n",
    "\n",
    "Y_PROB_COL = 'y_prob'\n",
    "Y_TRUE_COL = 'y_true'\n",
    "Y_CI_UPPER_COL = 'y_ci_upper'\n",
    "Y_CI_LOWER_COL = 'y_ci_lower'\n",
    "GROUP_COL = 'group'\n",
    "\n",
    "set_default_style()\n",
    "\n",
    "LEGEND_LOCATION_BEST = 'best'\n",
    "HAZARD_PLOT_X_LABEL = 'time $t$'\n",
    "HAZARD_PLOT_Y_LABEL = 'Est. probability of survival at t'\n",
    "STEP_PLACEMENT = 'post'\n",
    "\n",
    "ACTUAL_END_SCATTER_SIZE = 80\n",
    "ORDER_IN_FRONT = 1\n",
    "\n",
    "MARKER_CENSORING = 'o'\n",
    "MARKER_EVENT = 'D'\n",
    "SURVIVAL_MARKERSIZE = 10\n",
    "SURVIVAL_MARKERFACECOLOR = 'grey'\n",
    "SURVIVAL_LEGEND_COLOR = 'w'\n",
    "\n",
    "def plot_calibration_curve(y_true, y_prob,\n",
    "                           y_min: float = 0,\n",
    "                           y_max: float = 1,\n",
    "                           n_bins: int = 5,\n",
    "                           n_std: int = 4,\n",
    "                           y_std=None,\n",
    "                           n: int = None,\n",
    "                           z: float = 1.645,\n",
    "                           ) -> Figure:\n",
    "    \"\"\"Plot the calibration curve. This curve shows if predicted probabilities and observed\n",
    "    frequencies are inline. For example, if well calibrated 100 observations with y_pred = 0.1\n",
    "    should contain 10 observation with y_true = 1\n",
    "\n",
    "    Parameters\n",
    "    ----------\n",
    "    y_true : array-like\n",
    "        Target value of y.\n",
    "    y_prob : array-like\n",
    "        Predicted probability values of y.\n",
    "    y_min : float, optional\n",
    "        Minimum value of the value axis.\n",
    "    y_max : float, optional\n",
    "        Maximum value of the value axis, y_pred > y_max will be maximized to y_max.\n",
    "    n_bins : int, optional\n",
    "        Number of bins of the histograms.\n",
    "    n_std : int, optional\n",
    "        Number of standard deviations to include.\n",
    "    y_std: array-like, optional\n",
    "        If you have a Bayesian standard deviation around your predictions\n",
    "    n: int, optional\n",
    "        Number of samples taken (in Bayesian Case)\n",
    "    z: float, optional\n",
    "        Z value for confidence interval.\n",
    "\n",
    "    Returns\n",
    "    -------\n",
    "    type: matplotlib.figure.Figure\n",
    "        A plot\n",
    "\n",
    "    \"\"\"\n",
    "\n",
    "    # Make dataframe with y_true and y_pred\n",
    "    df_plot = pd.DataFrame(y_prob)\n",
    "    df_plot.columns = [Y_PROB_COL]\n",
    "    df_plot[Y_TRUE_COL] = y_true\n",
    "    if y_std is not None:\n",
    "        df_plot[Y_CI_UPPER_COL] = y_prob + z * (y_std / n ** 0.5)\n",
    "        df_plot[Y_CI_LOWER_COL] = y_prob - z * (y_std / n ** 0.5)\n",
    "\n",
    "    # Initialize plot\n",
    "#     # Make histogram of predicted probabilities\n",
    "#     x = df_plot[Y_PROB_COL].values\n",
    "#     x = np.maximum(np.minimum(x, y_max), y_min)\n",
    "#     ax1.hist(x, bins=n_bins, color=SKYBLUE_COLOR)\n",
    "\n",
    "    # Overlay the calibration curve\n",
    "    mean = df_plot[Y_PROB_COL].mean()\n",
    "    std = df_plot[Y_PROB_COL].std()\n",
    "\n",
    "    # Make bins for the calibration\n",
    "    df_plot[GROUP_COL] = df_plot[Y_PROB_COL].apply(lambda a: np.round((a - mean) / std))\n",
    "    df_plot[GROUP_COL] = np.minimum(np.maximum(df_plot[GROUP_COL], -n_std), n_std)\n",
    "    df_plot[GROUP_COL] = df_plot[GROUP_COL].apply(lambda a: mean + std * a)\n",
    "    df_plot[GROUP_COL] = np.maximum(np.minimum(df_plot[GROUP_COL], y_max), y_min)\n",
    "\n",
    "    \n",
    "    df_agg = df_plot.groupby(GROUP_COL)[Y_TRUE_COL, Y_PROB_COL].mean().reset_index()\n",
    "\n",
    "    y_u = None\n",
    "    y_l = None\n",
    "\n",
    "    x = df_agg[Y_PROB_COL]\n",
    "    y = df_agg[Y_TRUE_COL]\n",
    "\n",
    "    # Plot the calibration curve\n",
    "    return x, y\n",
    "#     plt.plot(x, x, DOT_LINE_STYLE, color=COLOR_NEUTRAL, label=LABEL_PERFECTLY_CALIBRATED)\n",
    "    \n",
    "    return fig\n"
   ]
  },
  {
   "cell_type": "code",
   "execution_count": 252,
   "metadata": {},
   "outputs": [],
   "source": [
    "outputs = [torch.sigmoid(output) for output in outputs]"
   ]
  },
  {
   "cell_type": "code",
   "execution_count": 253,
   "metadata": {},
   "outputs": [],
   "source": [
    "plots = []\n",
    "\n",
    "for output in outputs:\n",
    "    plots.append(plot_calibration_curve(y_train, output.detach().numpy()))"
   ]
  },
  {
   "cell_type": "code",
   "execution_count": 254,
   "metadata": {},
   "outputs": [
    {
     "data": {
      "image/png": "[encoded data removed]",
      "text/plain": [
       "<Figure size 432x288 with 1 Axes>"
      ]
     },
     "metadata": {},
     "output_type": "display_data"
    }
   ],
   "source": [
    "for plot in plots:\n",
    "    plt.plot(plot[0], plot[1])\n",
    "    plt.plot(plot[0], plot[0])\n",
    "    \n",
    "plt.show()"
   ]
  },
  {
   "cell_type": "code",
   "execution_count": 255,
   "metadata": {},
   "outputs": [],
   "source": [
    "from pacmagic.visualizing.model_plots import plot_calibration_curve"
   ]
  },
  {
   "cell_type": "code",
   "execution_count": 256,
   "metadata": {},
   "outputs": [
    {
     "data": {
      "image/png": "[encoded data removed]",
      "text/plain": [
       "<Figure size 1296x864 with 2 Axes>"
      ]
     },
     "metadata": {},
     "output_type": "display_data"
    }
   ],
   "source": [
    "plot_calibration_curve(y_train, outputs[1].detach().numpy())"
   ]
  },
  {
   "cell_type": "code",
   "execution_count": 257,
   "metadata": {},
   "outputs": [],
   "source": [
    "outputs_val = torch.stack([torch.sigmoid(output_val.squeeze()) for output_val in outputs_val], dim=1).detach().numpy().round(3)"
   ]
  },
  {
   "cell_type": "code",
   "execution_count": 258,
   "metadata": {},
   "outputs": [
    {
     "data": {
      "text/plain": [
       "0.27900001406669617"
      ]
     },
     "execution_count": 258,
     "metadata": {},
     "output_type": "execute_result"
    }
   ],
   "source": [
    "# optimal cutoff point\n",
    "cutoff = np.percentile(outputs_val[:, 5], 100 * (1-y_train.values.mean()))\n",
    "cutoff"
   ]
  },
  {
   "cell_type": "code",
   "execution_count": 259,
   "metadata": {},
   "outputs": [],
   "source": [
    "preds = (outputs_val > cutoff)"
   ]
  },
  {
   "cell_type": "code",
   "execution_count": 260,
   "metadata": {},
   "outputs": [
    {
     "data": {
      "text/plain": [
       "array([0.087782  , 0.74000447, 0.85459013, 0.90373018, 0.92204601,\n",
       "       0.93343757, 0.93902167, 0.94237212, 0.93969176, 0.93343757,\n",
       "       0.912218  ])"
      ]
     },
     "execution_count": 260,
     "metadata": {},
     "output_type": "execute_result"
    }
   ],
   "source": [
    "(preds == np.repeat(y_test.values, 11, axis=1)).mean(axis=0)"
   ]
  },
  {
   "cell_type": "code",
   "execution_count": 261,
   "metadata": {},
   "outputs": [],
   "source": [
    "preds_50 = preds[:, 5]"
   ]
  },
  {
   "cell_type": "code",
   "execution_count": 262,
   "metadata": {},
   "outputs": [
    {
     "data": {
      "text/plain": [
       "0.9334375698012062"
      ]
     },
     "execution_count": 262,
     "metadata": {},
     "output_type": "execute_result"
    }
   ],
   "source": [
    "(preds_50.squeeze() == y_test.values.squeeze()).mean()"
   ]
  },
  {
   "cell_type": "code",
   "execution_count": 263,
   "metadata": {},
   "outputs": [
    {
     "data": {
      "text/plain": [
       "array([0. , 0.1, 0.2, 0.3, 0.4, 0.5, 0.6, 0.7, 0.8, 0.9, 1. ])"
      ]
     },
     "execution_count": 263,
     "metadata": {},
     "output_type": "execute_result"
    }
   ],
   "source": [
    "quantiles"
   ]
  },
  {
   "cell_type": "code",
   "execution_count": 264,
   "metadata": {
    "scrolled": true
   },
   "outputs": [
    {
     "data": {
      "text/plain": [
       "1.0"
      ]
     },
     "execution_count": 264,
     "metadata": {},
     "output_type": "execute_result"
    }
   ],
   "source": [
    "(preds == np.repeat(y_test.values, 11, axis=1)).any(axis=1).mean()"
   ]
  },
  {
   "cell_type": "code",
   "execution_count": 265,
   "metadata": {},
   "outputs": [
    {
     "data": {
      "text/plain": [
       "0.9890551708733527"
      ]
     },
     "execution_count": 265,
     "metadata": {},
     "output_type": "execute_result"
    }
   ],
   "source": [
    "(preds[:, 1: 10] == np.repeat(y_test.values, 9, axis=1)).any(axis=1).mean()"
   ]
  },
  {
   "cell_type": "code",
   "execution_count": 266,
   "metadata": {},
   "outputs": [
    {
     "data": {
      "text/plain": [
       "(0.3285682376591467, 0.02389993299084208)"
      ]
     },
     "execution_count": 266,
     "metadata": {},
     "output_type": "execute_result"
    }
   ],
   "source": [
    "preds[:, 1].mean(), preds[:, 9].mean()"
   ]
  },
  {
   "cell_type": "code",
   "execution_count": 267,
   "metadata": {},
   "outputs": [
    {
     "data": {
      "text/plain": [
       "0.9778869778869779"
      ]
     },
     "execution_count": 267,
     "metadata": {},
     "output_type": "execute_result"
    }
   ],
   "source": [
    "(preds[:, 2 : 9] == np.repeat(y_test.values, 7, axis=1)).any(axis=1).mean()"
   ]
  },
  {
   "cell_type": "code",
   "execution_count": 268,
   "metadata": {},
   "outputs": [
    {
     "data": {
      "text/plain": [
       "(0.19968729059638152, 0.03819522001340183)"
      ]
     },
     "execution_count": 268,
     "metadata": {},
     "output_type": "execute_result"
    }
   ],
   "source": [
    "preds[:, 2].mean(), preds[:, 8].mean()"
   ]
  },
  {
   "cell_type": "code",
   "execution_count": 269,
   "metadata": {
    "scrolled": false
   },
   "outputs": [
    {
     "data": {
      "text/plain": [
       "0.9656019656019657"
      ]
     },
     "execution_count": 269,
     "metadata": {},
     "output_type": "execute_result"
    }
   ],
   "source": [
    "(preds[:, 3:  8] == np.repeat(y_test.values, 5, axis=1)).any(axis=1).mean()"
   ]
  },
  {
   "cell_type": "code",
   "execution_count": 270,
   "metadata": {},
   "outputs": [
    {
     "data": {
      "text/plain": [
       "(0.1380388653115926, 0.052937234755416576)"
      ]
     },
     "execution_count": 270,
     "metadata": {},
     "output_type": "execute_result"
    }
   ],
   "source": [
    "preds[:, 3].mean(), preds[:, 7].mean()"
   ]
  },
  {
   "cell_type": "code",
   "execution_count": 271,
   "metadata": {},
   "outputs": [
    {
     "data": {
      "text/plain": [
       "0.9510833147196783"
      ]
     },
     "execution_count": 271,
     "metadata": {},
     "output_type": "execute_result"
    }
   ],
   "source": [
    "(preds[:, 4 : 7] == np.repeat(y_test.values, 3, axis=1)).any(axis=1).mean()"
   ]
  },
  {
   "cell_type": "code",
   "execution_count": 272,
   "metadata": {},
   "outputs": [
    {
     "data": {
      "text/plain": [
       "(0.10587446951083315, 0.06477551932097386)"
      ]
     },
     "execution_count": 272,
     "metadata": {},
     "output_type": "execute_result"
    }
   ],
   "source": [
    "preds[:, 4].mean(), preds[:, 6].mean()"
   ]
  },
  {
   "cell_type": "code",
   "execution_count": 273,
   "metadata": {
    "scrolled": true
   },
   "outputs": [
    {
     "data": {
      "text/plain": [
       "0.9334375698012062"
      ]
     },
     "execution_count": 273,
     "metadata": {},
     "output_type": "execute_result"
    }
   ],
   "source": [
    "(preds[:, 5:6] == np.repeat(y_test.values, 2, axis=1)).any(axis=1).mean()"
   ]
  },
  {
   "cell_type": "code",
   "execution_count": 274,
   "metadata": {
    "scrolled": true
   },
   "outputs": [
    {
     "data": {
      "text/plain": [
       "(0.08376144739781104, 0.08376144739781104)"
      ]
     },
     "execution_count": 274,
     "metadata": {},
     "output_type": "execute_result"
    }
   ],
   "source": [
    "preds[:, 5].mean(), preds[:, 5].mean()"
   ]
  },
  {
   "cell_type": "code",
   "execution_count": 275,
   "metadata": {
    "scrolled": true
   },
   "outputs": [
    {
     "data": {
      "text/plain": [
       "0.9334375698012062"
      ]
     },
     "execution_count": 275,
     "metadata": {},
     "output_type": "execute_result"
    }
   ],
   "source": [
    "(preds_50.squeeze() == y_test.values.squeeze()).mean()"
   ]
  },
  {
   "cell_type": "code",
   "execution_count": 276,
   "metadata": {},
   "outputs": [],
   "source": [
    "uncertainties = []"
   ]
  },
  {
   "cell_type": "code",
   "execution_count": 277,
   "metadata": {},
   "outputs": [],
   "source": [
    "uncertainties = outputs_val[:, 4] - outputs_val[:, 6]"
   ]
  },
  {
   "cell_type": "code",
   "execution_count": 278,
   "metadata": {},
   "outputs": [
    {
     "data": {
      "text/plain": [
       "array([[ True,  True,  True, ...,  True,  True,  True],\n",
       "       [ True,  True,  True, ...,  True,  True,  True],\n",
       "       [ True,  True,  True, ...,  True,  True,  True],\n",
       "       ...,\n",
       "       [ True,  True,  True, ...,  True,  True,  True],\n",
       "       [ True,  True,  True, ...,  True,  True,  True],\n",
       "       [ True,  True,  True, ...,  True,  True,  True]])"
      ]
     },
     "execution_count": 278,
     "metadata": {},
     "output_type": "execute_result"
    }
   ],
   "source": [
    "preds_50 == y_test.values"
   ]
  },
  {
   "cell_type": "code",
   "execution_count": 279,
   "metadata": {},
   "outputs": [
    {
     "data": {
      "text/plain": [
       "array([0.006, 0.016, 0.095, ..., 0.018, 0.047, 0.045], dtype=float32)"
      ]
     },
     "execution_count": 279,
     "metadata": {},
     "output_type": "execute_result"
    }
   ],
   "source": [
    "outputs_val[:, 5][preds_50 == y_test.squeeze().values]"
   ]
  },
  {
   "cell_type": "code",
   "execution_count": 280,
   "metadata": {
    "scrolled": true
   },
   "outputs": [
    {
     "data": {
      "text/plain": [
       "(0.12457718, 0.031504426)"
      ]
     },
     "execution_count": 280,
     "metadata": {},
     "output_type": "execute_result"
    },
    {
     "data": {
      "image/png": "[encoded data removed]",
      "text/plain": [
       "<Figure size 432x288 with 1 Axes>"
      ]
     },
     "metadata": {},
     "output_type": "display_data"
    }
   ],
   "source": [
    "plt.scatter(outputs_val[:, 5][preds_50 == y_test.squeeze().values], uncertainties[preds_50 == y_test.squeeze().values], marker='.')\n",
    "\n",
    "\n",
    "plt.scatter(outputs_val[:, 5][preds_50 != y_test.squeeze().values], uncertainties[preds_50 != y_test.squeeze().values], marker='.')\n",
    "\n",
    "\n",
    "uncertainties[preds_50 != y_test.squeeze().values].mean(), uncertainties[preds_50 == y_test.squeeze().values].mean()\n"
   ]
  },
  {
   "cell_type": "code",
   "execution_count": 281,
   "metadata": {},
   "outputs": [],
   "source": [
    "y_true = y_test.values.squeeze(-1)\n",
    "y_prob = outputs_val[:, 5]\n",
    "y_unc = uncertainties"
   ]
  },
  {
   "cell_type": "code",
   "execution_count": 282,
   "metadata": {},
   "outputs": [
    {
     "data": {
      "image/png": "[encoded data removed]",
      "text/plain": [
       "<Figure size 432x288 with 1 Axes>"
      ]
     },
     "execution_count": 282,
     "metadata": {},
     "output_type": "execute_result"
    },
    {
     "data": {
      "image/png": "[encoded data removed]",
      "text/plain": [
       "<Figure size 432x288 with 1 Axes>"
      ]
     },
     "metadata": {},
     "output_type": "display_data"
    }
   ],
   "source": [
    "make_performance_uncertainty_plot(y_true, y_prob, y_unc, 'Loss', performance_fn_args={'reduction': 'sum'})"
   ]
  },
  {
   "cell_type": "code",
   "execution_count": 283,
   "metadata": {},
   "outputs": [
    {
     "data": {
      "image/png": "[encoded data removed]",
      "text/plain": [
       "<Figure size 432x288 with 1 Axes>"
      ]
     },
     "execution_count": 283,
     "metadata": {},
     "output_type": "execute_result"
    },
    {
     "data": {
      "image/png": "[encoded data removed]",
      "text/plain": [
       "<Figure size 432x288 with 1 Axes>"
      ]
     },
     "metadata": {},
     "output_type": "display_data"
    }
   ],
   "source": [
    "make_performance_uncertainty_plot(y_true, y_prob, y_unc, 'Loss', performance_fn_args={'reduction': 'mean'})"
   ]
  },
  {
   "cell_type": "code",
   "execution_count": 284,
   "metadata": {},
   "outputs": [],
   "source": [
    "from sklearn.metrics import roc_auc_score, accuracy_score"
   ]
  },
  {
   "cell_type": "code",
   "execution_count": 285,
   "metadata": {},
   "outputs": [],
   "source": [
    "def asymmetric_entropy(p, w):\n",
    "    return (p * (1 - p)) / ((-2 * w + 1) * p + w ** 2)\n"
   ]
  },
  {
   "cell_type": "code",
   "execution_count": 286,
   "metadata": {},
   "outputs": [],
   "source": [
    "uncertainties = asymmetric_entropy(outputs_val[:, 5], y_train.values.mean())"
   ]
  },
  {
   "cell_type": "code",
   "execution_count": 287,
   "metadata": {},
   "outputs": [
    {
     "data": {
      "image/png": "[encoded data removed]",
      "text/plain": [
       "<Figure size 432x288 with 1 Axes>"
      ]
     },
     "execution_count": 287,
     "metadata": {},
     "output_type": "execute_result"
    },
    {
     "data": {
      "image/png": "[encoded data removed]",
      "text/plain": [
       "<Figure size 432x288 with 1 Axes>"
      ]
     },
     "metadata": {},
     "output_type": "display_data"
    }
   ],
   "source": [
    "make_performance_uncertainty_plot(y_true, y_prob, uncertainties, 'Loss', performance_fn_args={'reduction': 'sum'})"
   ]
  },
  {
   "cell_type": "code",
   "execution_count": 288,
   "metadata": {},
   "outputs": [
    {
     "data": {
      "text/plain": [
       "1109.6616156327073"
      ]
     },
     "execution_count": 288,
     "metadata": {},
     "output_type": "execute_result"
    }
   ],
   "source": [
    "cross_entropy(y_true, y_prob, reduction='sum')"
   ]
  },
  {
   "cell_type": "code",
   "execution_count": 289,
   "metadata": {},
   "outputs": [],
   "source": [
    "# loss at 50%\n",
    "y_50 = y_true[y_unc.argsort()[:int(0.5 * len(y_unc))]]\n",
    "y_prob_50 = y_prob[y_unc.argsort()[:int(0.5 * len(y_unc))]]"
   ]
  },
  {
   "cell_type": "code",
   "execution_count": 290,
   "metadata": {},
   "outputs": [
    {
     "data": {
      "text/plain": [
       "172.057600148255"
      ]
     },
     "execution_count": 290,
     "metadata": {},
     "output_type": "execute_result"
    }
   ],
   "source": [
    "cross_entropy(y_50, y_prob_50, reduction='sum')"
   ]
  },
  {
   "cell_type": "code",
   "execution_count": null,
   "metadata": {},
   "outputs": [],
   "source": []
  },
  {
   "cell_type": "code",
   "execution_count": null,
   "metadata": {},
   "outputs": [],
   "source": []
  }
 ],
 "metadata": {
  "kernelspec": {
   "display_name": "Python 3",
   "language": "python",
   "name": "python3"
  }
 },
 "nbformat": 4,
 "nbformat_minor": 2
}
