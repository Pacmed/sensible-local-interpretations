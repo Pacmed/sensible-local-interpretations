{
 "cells": [
  {
   "cell_type": "code",
   "execution_count": 1,
   "metadata": {},
   "outputs": [],
   "source": [
    "import torch\n",
    "from torch import nn\n",
    "import pandas as pd\n",
    "import numpy as np\n",
    "# from pacmagic_deeplearning.modeling.classifiers.bayesian.train_utils import make_performance_uncertainty_plot, cross_entropy\n",
    "from utils import make_performance_uncertainty_plot, cross_entropy, plot_calibration_curve\n",
    "\n",
    "from torch.optim import SGD\n",
    "import matplotlib.pyplot as plt\n",
    "import seaborn as sns\n",
    "\n",
    "# from pacmagic.visualizing.model_plots import plot_calibration_curve\n",
    "from utils import MCDropout, train"
   ]
  },
  {
   "cell_type": "code",
   "execution_count": 2,
   "metadata": {},
   "outputs": [],
   "source": [
    "X_train = pd.read_csv('../../data/MIMIC/X_train_processed.csv')\n",
    "y_train = pd.read_csv('../../data/MIMIC/y_train.csv')\n",
    "\n",
    "X_test = pd.read_csv('../../data/MIMIC/X_test_processed.csv')\n",
    "y_test = pd.read_csv('../../data/MIMIC/y_test.csv')"
   ]
  },
  {
   "cell_type": "code",
   "execution_count": 3,
   "metadata": {},
   "outputs": [],
   "source": [
    "quantile = [0.5]\n",
    "\n",
    "model = MCDropout(X_train.shape[1], 1, (64,), class_weights=[quantile[0], 1 - quantile[0]])"
   ]
  },
  {
   "cell_type": "code",
   "execution_count": 4,
   "metadata": {},
   "outputs": [],
   "source": [
    "data = torch.from_numpy(X_train.values).float()\n",
    "target = torch.from_numpy(y_train.values).float()"
   ]
  },
  {
   "cell_type": "code",
   "execution_count": 5,
   "metadata": {},
   "outputs": [],
   "source": [
    "data_val = torch.from_numpy(X_test.values).float()\n",
    "target_val = torch.from_numpy(y_test.values).float()"
   ]
  },
  {
   "cell_type": "code",
   "execution_count": 6,
   "metadata": {},
   "outputs": [],
   "source": [
    "# optimizer = SGD(model.parameters(), lr=5e-1, momentum=0.9, nesterov=True)\n",
    "optimizer = torch.optim.Adam(model.parameters(), lr=1e-2)"
   ]
  },
  {
   "cell_type": "code",
   "execution_count": 7,
   "metadata": {},
   "outputs": [
    {
     "name": "stdout",
     "output_type": "stream",
     "text": [
      "Validation loss: 0.28, Train loss: 0.33\n",
      "Validation loss: 0.17, Train loss: 0.17\n",
      "Validation loss: 0.14, Train loss: 0.14\n",
      "Validation loss: 0.13, Train loss: 0.13\n",
      "Validation loss: 0.12, Train loss: 0.12\n",
      "Validation loss: 0.11, Train loss: 0.11\n",
      "Validation loss: 0.11, Train loss: 0.11\n",
      "Validation loss: 0.10, Train loss: 0.10\n",
      "Validation loss: 0.10, Train loss: 0.10\n",
      "Validation loss: 0.10, Train loss: 0.09\n",
      "Validation loss: 0.09, Train loss: 0.09\n",
      "Validation loss: 0.09, Train loss: 0.09\n",
      "Validation loss: 0.09, Train loss: 0.09\n",
      "Validation loss: 0.09, Train loss: 0.09\n",
      "Validation loss: 0.09, Train loss: 0.09\n",
      "Validation loss: 0.09, Train loss: 0.09\n",
      "Validation loss: 0.09, Train loss: 0.09\n",
      "Validation loss: 0.09, Train loss: 0.09\n",
      "Validation loss: 0.09, Train loss: 0.09\n",
      "Validation loss: 0.09, Train loss: 0.09\n",
      "Validation loss: 0.09, Train loss: 0.09\n",
      "Validation loss: 0.09, Train loss: 0.09\n",
      "Validation loss: 0.09, Train loss: 0.09\n",
      "Validation loss: 0.09, Train loss: 0.09\n",
      "Validation loss: 0.09, Train loss: 0.09\n",
      "Validation loss: 0.09, Train loss: 0.09\n",
      "Validation loss: 0.09, Train loss: 0.09\n",
      "Validation loss: 0.09, Train loss: 0.09\n",
      "Validation loss: 0.09, Train loss: 0.09\n",
      "Validation loss: 0.09, Train loss: 0.09\n",
      "Validation loss: 0.09, Train loss: 0.09\n",
      "Validation loss: 0.09, Train loss: 0.09\n",
      "Validation loss: 0.09, Train loss: 0.08\n",
      "Validation loss: 0.09, Train loss: 0.08\n",
      "Validation loss: 0.09, Train loss: 0.08\n",
      "Validation loss: 0.09, Train loss: 0.08\n",
      "Validation loss: 0.09, Train loss: 0.08\n",
      "Validation loss: 0.09, Train loss: 0.08\n",
      "Validation loss: 0.09, Train loss: 0.08\n",
      "Validation loss: 0.08, Train loss: 0.08\n",
      "Validation loss: 0.08, Train loss: 0.08\n",
      "Validation loss: 0.08, Train loss: 0.08\n",
      "Validation loss: 0.08, Train loss: 0.08\n",
      "Validation loss: 0.08, Train loss: 0.08\n",
      "Validation loss: 0.08, Train loss: 0.08\n",
      "Validation loss: 0.08, Train loss: 0.08\n",
      "Validation loss: 0.08, Train loss: 0.08\n",
      "Validation loss: 0.08, Train loss: 0.08\n",
      "Validation loss: 0.08, Train loss: 0.08\n",
      "Validation loss: 0.08, Train loss: 0.08\n",
      "Validation loss: 0.08, Train loss: 0.08\n",
      "Validation loss: 0.08, Train loss: 0.08\n",
      "Validation loss: 0.08, Train loss: 0.08\n",
      "Validation loss: 0.08, Train loss: 0.08\n",
      "Validation loss: 0.08, Train loss: 0.08\n",
      "Validation loss: 0.08, Train loss: 0.08\n",
      "Validation loss: 0.08, Train loss: 0.08\n",
      "Validation loss: 0.08, Train loss: 0.08\n",
      "Validation loss: 0.08, Train loss: 0.08\n",
      "Validation loss: 0.08, Train loss: 0.08\n",
      "Validation loss: 0.08, Train loss: 0.08\n",
      "Validation loss: 0.08, Train loss: 0.08\n",
      "Validation loss: 0.08, Train loss: 0.08\n",
      "Validation loss: 0.08, Train loss: 0.08\n",
      "Validation loss: 0.08, Train loss: 0.08\n",
      "Validation loss: 0.08, Train loss: 0.08\n",
      "Validation loss: 0.08, Train loss: 0.08\n",
      "Validation loss: 0.08, Train loss: 0.08\n",
      "Validation loss: 0.08, Train loss: 0.08\n",
      "Validation loss: 0.08, Train loss: 0.08\n",
      "Validation loss: 0.08, Train loss: 0.08\n",
      "Validation loss: 0.08, Train loss: 0.08\n",
      "Validation loss: 0.08, Train loss: 0.08\n",
      "Validation loss: 0.08, Train loss: 0.08\n",
      "Validation loss: 0.08, Train loss: 0.08\n",
      "Validation loss: 0.08, Train loss: 0.08\n",
      "Validation loss: 0.08, Train loss: 0.08\n",
      "Validation loss: 0.08, Train loss: 0.08\n",
      "Validation loss: 0.08, Train loss: 0.08\n",
      "Validation loss: 0.08, Train loss: 0.08\n",
      "Validation loss: 0.08, Train loss: 0.08\n",
      "Validation loss: 0.08, Train loss: 0.08\n",
      "Validation loss: 0.08, Train loss: 0.08\n",
      "Validation loss: 0.08, Train loss: 0.08\n",
      "Validation loss: 0.08, Train loss: 0.08\n",
      "Validation loss: 0.08, Train loss: 0.08\n",
      "Validation loss: 0.08, Train loss: 0.08\n",
      "Validation loss: 0.08, Train loss: 0.08\n",
      "Validation loss: 0.08, Train loss: 0.08\n",
      "Validation loss: 0.08, Train loss: 0.08\n",
      "Validation loss: 0.08, Train loss: 0.08\n",
      "Validation loss: 0.08, Train loss: 0.08\n",
      "Validation loss: 0.08, Train loss: 0.08\n",
      "Validation loss: 0.08, Train loss: 0.08\n",
      "Validation loss: 0.08, Train loss: 0.08\n",
      "Validation loss: 0.08, Train loss: 0.08\n",
      "Validation loss: 0.08, Train loss: 0.08\n",
      "Validation loss: 0.08, Train loss: 0.08\n",
      "Validation loss: 0.08, Train loss: 0.07\n",
      "Validation loss: 0.08, Train loss: 0.07\n",
      "Validation loss: 0.08, Train loss: 0.08\n",
      "Validation loss: 0.08, Train loss: 0.07\n",
      "Validation loss: 0.08, Train loss: 0.07\n",
      "Validation loss: 0.08, Train loss: 0.07\n",
      "Validation loss: 0.08, Train loss: 0.07\n",
      "Validation loss: 0.08, Train loss: 0.07\n",
      "Validation loss: 0.08, Train loss: 0.07\n",
      "Validation loss: 0.08, Train loss: 0.07\n",
      "Validation loss: 0.08, Train loss: 0.07\n",
      "Validation loss: 0.08, Train loss: 0.07\n",
      "Validation loss: 0.08, Train loss: 0.07\n",
      "Validation loss: 0.08, Train loss: 0.07\n",
      "Validation loss: 0.08, Train loss: 0.07\n",
      "Validation loss: 0.08, Train loss: 0.07\n",
      "Validation loss: 0.08, Train loss: 0.07\n"
     ]
    },
    {
     "data": {
      "text/plain": [
       "MCDropout(\n",
       "  (f): Sequential(\n",
       "    (0): Linear(in_features=44, out_features=64, bias=True)\n",
       "    (1): ReLU()\n",
       "    (2): Dropout(p=0.1)\n",
       "    (3): Linear(in_features=64, out_features=1, bias=True)\n",
       "  )\n",
       "  (nll): BCEWithLogitsLoss()\n",
       ")"
      ]
     },
     "execution_count": 7,
     "metadata": {},
     "output_type": "execute_result"
    }
   ],
   "source": [
    "train(model, data, target, data_val, target_val, optimizer, quantile)"
   ]
  },
  {
   "cell_type": "code",
   "execution_count": 8,
   "metadata": {},
   "outputs": [],
   "source": [
    "with torch.no_grad():\n",
    "    model.train()\n",
    "    outputs = torch.sigmoid(torch.stack([model(data_val)[0] for _ in range(512)])).squeeze(-1)"
   ]
  },
  {
   "cell_type": "code",
   "execution_count": 9,
   "metadata": {},
   "outputs": [],
   "source": [
    "probs = outputs.mean(0).numpy()\n",
    "stds = outputs.std(0).numpy()"
   ]
  },
  {
   "cell_type": "code",
   "execution_count": 10,
   "metadata": {},
   "outputs": [
    {
     "data": {
      "text/plain": [
       "torch.Size([512, 4477])"
      ]
     },
     "execution_count": 10,
     "metadata": {},
     "output_type": "execute_result"
    }
   ],
   "source": [
    "outputs.shape"
   ]
  },
  {
   "cell_type": "code",
   "execution_count": 11,
   "metadata": {},
   "outputs": [
    {
     "data": {
      "text/plain": [
       "(4477,)"
      ]
     },
     "execution_count": 11,
     "metadata": {},
     "output_type": "execute_result"
    }
   ],
   "source": [
    "stds.shape"
   ]
  },
  {
   "cell_type": "code",
   "execution_count": 12,
   "metadata": {},
   "outputs": [
    {
     "data": {
      "text/plain": [
       "tensor(0.2498)"
      ]
     },
     "execution_count": 12,
     "metadata": {},
     "output_type": "execute_result"
    }
   ],
   "source": [
    "outputs[:, stds.argmax()].std()"
   ]
  },
  {
   "cell_type": "code",
   "execution_count": 13,
   "metadata": {},
   "outputs": [],
   "source": [
    "cutoff = np.percentile(probs, 100 * (1-y_train.values.mean()))\n",
    "\n",
    "preds = probs > cutoff"
   ]
  },
  {
   "cell_type": "code",
   "execution_count": 14,
   "metadata": {},
   "outputs": [
    {
     "data": {
      "text/plain": [
       "<matplotlib.collections.PathCollection at 0x7fe184c79b70>"
      ]
     },
     "execution_count": 14,
     "metadata": {},
     "output_type": "execute_result"
    },
    {
     "data": {
      "image/png": "[encoded data removed]",
      "text/plain": [
       "<Figure size 432x288 with 1 Axes>"
      ]
     },
     "metadata": {
      "needs_background": "light"
     },
     "output_type": "display_data"
    }
   ],
   "source": [
    "plt.scatter(probs[preds == y_test.squeeze().values], stds[preds == y_test.squeeze().values], marker='.')\n",
    "plt.scatter(probs[preds != y_test.squeeze().values], stds[preds != y_test.squeeze().values], marker='.')"
   ]
  },
  {
   "cell_type": "code",
   "execution_count": 15,
   "metadata": {},
   "outputs": [],
   "source": [
    "y_true = y_test.squeeze().values"
   ]
  },
  {
   "cell_type": "code",
   "execution_count": 16,
   "metadata": {},
   "outputs": [
    {
     "data": {
      "image/png": "[encoded data removed]",
      "text/plain": [
       "<Figure size 432x288 with 1 Axes>"
      ]
     },
     "execution_count": 16,
     "metadata": {},
     "output_type": "execute_result"
    },
    {
     "data": {
      "image/png": "[encoded data removed]",
      "text/plain": [
       "<Figure size 432x288 with 1 Axes>"
      ]
     },
     "metadata": {
      "needs_background": "light"
     },
     "output_type": "display_data"
    }
   ],
   "source": [
    "make_performance_uncertainty_plot(y_true, probs, stds, 'Loss', performance_fn_args={'reduction': 'sum'})"
   ]
  },
  {
   "cell_type": "code",
   "execution_count": 17,
   "metadata": {},
   "outputs": [
    {
     "data": {
      "text/plain": [
       "(0    0.028664\n",
       " 1    0.269401\n",
       " 2    0.458503\n",
       " 3    0.647574\n",
       " 4    0.888722\n",
       " Name: y_prob, dtype: float32, 0    0.025726\n",
       " 1    0.268722\n",
       " 2    0.405660\n",
       " 3    0.716216\n",
       " 4    0.937500\n",
       " Name: y_true, dtype: float64)"
      ]
     },
     "execution_count": 17,
     "metadata": {},
     "output_type": "execute_result"
    }
   ],
   "source": [
    "plot_calibration_curve(y_true, probs)"
   ]
  },
  {
   "cell_type": "code",
   "execution_count": 18,
   "metadata": {},
   "outputs": [
    {
     "data": {
      "text/plain": [
       "1005.0505223132059"
      ]
     },
     "execution_count": 18,
     "metadata": {},
     "output_type": "execute_result"
    }
   ],
   "source": [
    "# loss at 100%\n",
    "cross_entropy(y_true, probs, reduction='sum')"
   ]
  },
  {
   "cell_type": "code",
   "execution_count": 19,
   "metadata": {},
   "outputs": [],
   "source": [
    "# loss at 50%\n",
    "\n",
    "y_50 = y_true[stds.argsort()[:int(0.5 * len(stds))]]\n",
    "y_prob_50 = probs[stds.argsort()[:int(0.5 * len(stds))]]"
   ]
  },
  {
   "cell_type": "code",
   "execution_count": 20,
   "metadata": {},
   "outputs": [
    {
     "data": {
      "text/plain": [
       "169.35822363266197"
      ]
     },
     "execution_count": 20,
     "metadata": {},
     "output_type": "execute_result"
    }
   ],
   "source": [
    "cross_entropy(y_50, y_prob_50, reduction='sum')"
   ]
  },
  {
   "cell_type": "code",
   "execution_count": null,
   "metadata": {},
   "outputs": [],
   "source": []
  }
 ],
 "metadata": {
  "kernelspec": {
   "display_name": "Python 3",
   "language": "python",
   "name": "python3"
  },
  "language_info": {
   "codemirror_mode": {
    "name": "ipython",
    "version": 3
   },
   "file_extension": ".py",
   "mimetype": "text/x-python",
   "name": "python",
   "nbconvert_exporter": "python",
   "pygments_lexer": "ipython3",
   "version": "3.7.0"
  }
 },
 "nbformat": 4,
 "nbformat_minor": 4
}
