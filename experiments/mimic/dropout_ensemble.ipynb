{
 "cells": [
  {
   "cell_type": "code",
   "execution_count": 5,
   "metadata": {},
   "outputs": [],
   "source": [
    "import torch\n",
    "from torch import nn\n",
    "import pandas as pd\n",
    "import numpy as np\n",
    "from pacmagic_deeplearning.modeling.classifiers.bayesian.train_utils import make_performance_uncertainty_plot, cross_entropy\n",
    "from torch.optim import SGD\n",
    "import matplotlib.pyplot as plt\n",
    "import seaborn as sns\n",
    "from pacmagic.visualizing.model_plots import plot_calibration_curve"
   ]
  },
  {
   "cell_type": "code",
   "execution_count": 6,
   "metadata": {},
   "outputs": [],
   "source": [
    "class MCDropout(nn.Module):\n",
    "    \"\"\"Simple MLP with dropout option.\n",
    "\n",
    "    Parameters\n",
    "    ----------\n",
    "    in_dim: int\n",
    "        Number of features in\n",
    "    n_classes: int\n",
    "        Number of classes\n",
    "    p: float\n",
    "        Dropout probability.\n",
    "    \"\"\"\n",
    "\n",
    "    def __init__(self,\n",
    "                 in_dim: int,\n",
    "                 n_classes: int,\n",
    "                 hidden_dims: tuple = (32, 32),\n",
    "                 p: float = 0.1,\n",
    "                 class_weights: list = None):\n",
    "        super(MCDropout, self).__init__()\n",
    "        self.dropout_p: float = p\n",
    "\n",
    "        self.architecture: list = [in_dim] + [dim for dim in hidden_dims] + [n_classes]\n",
    "\n",
    "        self.layers: list = []\n",
    "\n",
    "        # Add linear combinations to the forward function. So iterating up to the n-1th layer and\n",
    "        # adding combinations up to the nth layer.\n",
    "        for i in range(len(self.architecture) - 1):\n",
    "            self.layers.append(nn.Linear(self.architecture[i], self.architecture[i + 1]))\n",
    "\n",
    "            # Don't add these in the final linear combination.\n",
    "            if i < len(self.architecture) - 2:\n",
    "                self.layers.append(nn.ReLU())\n",
    "                self.layers.append(nn.Dropout(p=self.dropout_p))\n",
    "\n",
    "        self.f: nn.Sequential = nn.Sequential(*self.layers)\n",
    "        self.n_classes: int = n_classes\n",
    "        self.in_dim: int = in_dim\n",
    "        self.n_samples = 512\n",
    "\n",
    "        weight_tensor = None  # Placeholder\n",
    "        if self.n_classes == 1:\n",
    "            if class_weights is not None:\n",
    "                weight_tensor = torch.Tensor([class_weights[1]])\n",
    "            self.nll = nn.BCEWithLogitsLoss(pos_weight=weight_tensor, reduction='sum')\n",
    "\n",
    "        else:\n",
    "            if class_weights is not None:\n",
    "                weight_tensor = torch.Tensor(class_weights)\n",
    "            self.nll = nn.CrossEntropyLoss(weight=weight_tensor, reduction='sum')\n",
    "\n",
    "    def forward(self, input_tensor: torch.Tensor) -> torch.Tensor:\n",
    "        \"\"\"Pytorch forward funcion.\n",
    "\n",
    "        Parameters\n",
    "        ----------\n",
    "        input_tensor: torch.Tensor\n",
    "            input tensor.\n",
    "\n",
    "        Returns\n",
    "        -------\n",
    "        output_tensor: torch.Tensor\n",
    "            output tensor.\n",
    "        \"\"\"\n",
    "        if len(input_tensor.shape) > 2:\n",
    "            x: torch.Tensor = input_tensor.view(-1, self.in_dim)\n",
    "        else:\n",
    "            x = input_tensor\n",
    "        output_tensor: torch.Tensor = self.f(x)\n",
    "        return output_tensor\n"
   ]
  },
  {
   "cell_type": "code",
   "execution_count": 7,
   "metadata": {},
   "outputs": [],
   "source": [
    "X_train = pd.read_csv('../../data/MIMIC/X_train_processed.csv')\n",
    "y_train = pd.read_csv('../../data/MIMIC/y_train.csv')\n",
    "\n",
    "X_test = pd.read_csv('../../data/MIMIC/X_test_processed.csv')\n",
    "y_test = pd.read_csv('../../data/MIMIC/y_test.csv')"
   ]
  },
  {
   "cell_type": "code",
   "execution_count": 8,
   "metadata": {},
   "outputs": [],
   "source": [
    "models = nn.ModuleList([MCDropout(X_train.shape[1], 1, (64,)) for _ in range(8)])"
   ]
  },
  {
   "cell_type": "code",
   "execution_count": 9,
   "metadata": {},
   "outputs": [],
   "source": [
    "data = torch.from_numpy(X_train.values).float()\n",
    "target = torch.from_numpy(y_train.values).float()"
   ]
  },
  {
   "cell_type": "code",
   "execution_count": 10,
   "metadata": {},
   "outputs": [],
   "source": [
    "data_val = torch.from_numpy(X_test.values).float()\n",
    "target_val = torch.from_numpy(y_test.values).float()"
   ]
  },
  {
   "cell_type": "code",
   "execution_count": 12,
   "metadata": {},
   "outputs": [],
   "source": [
    "# optimizer = SGD(model.parameters(), lr=5e-1, momentum=0.9, nesterov=True)\n",
    "optimizer = torch.optim.Adam(models.parameters(), lr=1e-2)"
   ]
  },
  {
   "cell_type": "code",
   "execution_count": 16,
   "metadata": {
    "scrolled": true
   },
   "outputs": [
    {
     "name": "stdout",
     "output_type": "stream",
     "text": [
      "16994.9375\n",
      "12179.259765625\n",
      "10544.6240234375\n",
      "9768.263671875\n",
      "9062.22265625\n",
      "8612.802734375\n",
      "8266.5087890625\n",
      "7942.57275390625\n",
      "7632.365234375\n",
      "7363.83349609375\n",
      "7156.1337890625\n",
      "7006.09375\n",
      "6901.013671875\n",
      "6828.33642578125\n",
      "6775.70166015625\n",
      "6736.427734375\n",
      "6705.943359375\n",
      "6680.1533203125\n",
      "6658.1845703125\n",
      "6637.46142578125\n",
      "6617.94140625\n",
      "6600.2333984375\n",
      "6583.28173828125\n",
      "6565.08837890625\n",
      "6548.46484375\n",
      "6532.0654296875\n",
      "6515.39599609375\n",
      "6499.66845703125\n",
      "6482.4775390625\n",
      "6466.3359375\n",
      "6449.71875\n",
      "6432.80712890625\n",
      "6416.84765625\n",
      "6400.8740234375\n",
      "6384.619140625\n",
      "6369.71826171875\n",
      "6353.15966796875\n",
      "6337.5263671875\n",
      "6322.2333984375\n",
      "6306.49853515625\n",
      "6289.44580078125\n",
      "6274.1201171875\n",
      "6256.9892578125\n",
      "6241.318359375\n",
      "6224.623046875\n",
      "6208.75537109375\n",
      "6193.6015625\n",
      "6179.8798828125\n",
      "6164.18701171875\n",
      "6149.98388671875\n",
      "6134.48583984375\n",
      "6120.3310546875\n",
      "6105.14306640625\n",
      "6092.15478515625\n",
      "6078.90869140625\n",
      "6064.70556640625\n",
      "6052.708984375\n",
      "6040.841796875\n",
      "6029.966796875\n",
      "6017.27685546875\n",
      "6007.48583984375\n",
      "5996.10693359375\n",
      "5985.1650390625\n",
      "5974.69873046875\n",
      "5964.517578125\n",
      "5957.587890625\n",
      "5945.5234375\n",
      "5933.78857421875\n",
      "5922.86376953125\n",
      "5914.353515625\n",
      "5905.42578125\n",
      "5896.6630859375\n",
      "5887.55615234375\n",
      "5878.328125\n",
      "5871.84912109375\n",
      "5869.08935546875\n",
      "5860.8125\n",
      "5853.806640625\n",
      "5849.48974609375\n",
      "5843.173828125\n",
      "5839.7880859375\n",
      "5833.62451171875\n",
      "5829.9833984375\n",
      "5827.0888671875\n",
      "5824.6884765625\n",
      "5821.5087890625\n",
      "5818.63623046875\n",
      "5814.11376953125\n",
      "5810.64501953125\n",
      "5807.8203125\n",
      "5803.59228515625\n",
      "5799.4130859375\n",
      "5799.62109375\n",
      "5794.84130859375\n",
      "5792.77880859375\n",
      "5791.78125\n",
      "5788.8916015625\n",
      "5786.64306640625\n",
      "5786.02294921875\n",
      "5781.51806640625\n",
      "5777.6962890625\n",
      "5776.83349609375\n",
      "5774.43701171875\n",
      "5771.0048828125\n",
      "5769.02978515625\n",
      "5767.2568359375\n",
      "5768.3759765625\n",
      "5766.3974609375\n",
      "5766.5625\n",
      "5763.53955078125\n",
      "5757.9208984375\n",
      "5758.10546875\n",
      "5761.0107421875\n",
      "5758.10498046875\n",
      "5753.65234375\n",
      "5749.88525390625\n",
      "5750.41015625\n",
      "5748.93359375\n",
      "5746.62744140625\n",
      "5744.7998046875\n",
      "5741.669921875\n",
      "5747.94921875\n"
     ]
    }
   ],
   "source": [
    "best_val_loss = np.inf\n",
    "patience = 0\n",
    "\n",
    "for epoch_idx in range(10000):\n",
    "    \n",
    "    models.train()\n",
    "    outputs = [model(data) for model in models]\n",
    "    loss = [models[i].nll(outputs[i], target) for i in range(len(outputs))]\n",
    "    \n",
    "    loss = sum(loss)\n",
    "    optimizer.zero_grad()\n",
    "    loss.backward()\n",
    "    optimizer.step()\n",
    "    if epoch_idx % 10 == 0:\n",
    "        \n",
    "        models.eval()\n",
    "        outputs_val = [model(data_val) for model in models]\n",
    "        loss_val = [models[i].nll(outputs_val[i], target_val) for i in range(len(outputs))]\n",
    "        loss_val = sum(loss_val)\n",
    "        print(loss_val.item())\n",
    "            \n",
    "        if loss_val.item() < best_val_loss:\n",
    "            best_val_loss = loss_val.item()\n",
    "        else:\n",
    "            patience += 1\n",
    "            \n",
    "            if patience == 8:\n",
    "                break"
   ]
  },
  {
   "cell_type": "code",
   "execution_count": 17,
   "metadata": {},
   "outputs": [],
   "source": [
    "with torch.no_grad():\n",
    "    models.train()\n",
    "    outputs = torch.sigmoid(torch.stack([models[i](data_val) for i in range(len(models))for _ in range(64)])).squeeze(-1)"
   ]
  },
  {
   "cell_type": "code",
   "execution_count": 19,
   "metadata": {},
   "outputs": [],
   "source": [
    "probs = outputs.mean(0).numpy()\n",
    "stds = outputs.std(0).numpy()"
   ]
  },
  {
   "cell_type": "code",
   "execution_count": 20,
   "metadata": {},
   "outputs": [],
   "source": [
    "cutoff = np.percentile(probs, 100 * (1-y_train.values.mean()))\n",
    "\n",
    "preds = probs > cutoff"
   ]
  },
  {
   "cell_type": "code",
   "execution_count": 21,
   "metadata": {},
   "outputs": [
    {
     "data": {
      "text/plain": [
       "<matplotlib.collections.PathCollection at 0x1a28bd7b00>"
      ]
     },
     "execution_count": 21,
     "metadata": {},
     "output_type": "execute_result"
    },
    {
     "data": {
      "image/png": "[encoded data removed]",
      "text/plain": [
       "<Figure size 432x288 with 1 Axes>"
      ]
     },
     "metadata": {
      "needs_background": "light"
     },
     "output_type": "display_data"
    }
   ],
   "source": [
    "plt.scatter(probs[preds == y_test.squeeze().values], stds[preds == y_test.squeeze().values], marker='.')\n",
    "plt.scatter(probs[preds != y_test.squeeze().values], stds[preds != y_test.squeeze().values], marker='.')"
   ]
  },
  {
   "cell_type": "code",
   "execution_count": 22,
   "metadata": {},
   "outputs": [],
   "source": [
    "y_true = y_test.squeeze().values"
   ]
  },
  {
   "cell_type": "code",
   "execution_count": 23,
   "metadata": {},
   "outputs": [
    {
     "data": {
      "image/png": "[encoded data removed]",
      "text/plain": [
       "<Figure size 432x288 with 1 Axes>"
      ]
     },
     "execution_count": 23,
     "metadata": {},
     "output_type": "execute_result"
    },
    {
     "data": {
      "image/png": "[encoded data removed]",
      "text/plain": [
       "<Figure size 432x288 with 1 Axes>"
      ]
     },
     "metadata": {
      "needs_background": "light"
     },
     "output_type": "display_data"
    }
   ],
   "source": [
    "make_performance_uncertainty_plot(y_true, probs, stds, 'Loss', performance_fn_args={'reduction': 'sum'})"
   ]
  },
  {
   "cell_type": "code",
   "execution_count": 24,
   "metadata": {},
   "outputs": [
    {
     "data": {
      "image/png": "[encoded data removed]",
      "text/plain": [
       "<Figure size 1296x864 with 2 Axes>"
      ]
     },
     "metadata": {
      "needs_background": "light"
     },
     "output_type": "display_data"
    }
   ],
   "source": [
    "plot_calibration_curve(y_true, probs)"
   ]
  },
  {
   "cell_type": "code",
   "execution_count": 67,
   "metadata": {},
   "outputs": [
    {
     "data": {
      "text/plain": [
       "1023.4894186058082"
      ]
     },
     "execution_count": 67,
     "metadata": {},
     "output_type": "execute_result"
    }
   ],
   "source": [
    "# loss at 100%\n",
    "cross_entropy(y_true, probs, reduction='sum')"
   ]
  },
  {
   "cell_type": "code",
   "execution_count": 68,
   "metadata": {},
   "outputs": [
    {
     "data": {
      "text/plain": [
       "160.0619855914265"
      ]
     },
     "execution_count": 68,
     "metadata": {},
     "output_type": "execute_result"
    }
   ],
   "source": [
    "# loss at 50%\n",
    "\n",
    "y_50 = y_true[stds.argsort()[:int(0.5 * len(stds))]]\n",
    "y_prob_50 = probs[stds.argsort()[:int(0.5 * len(stds))]]\n",
    "\n",
    "cross_entropy(y_50, y_prob_50, reduction='sum')"
   ]
  },
  {
   "cell_type": "code",
   "execution_count": 97,
   "metadata": {},
   "outputs": [],
   "source": [
    "conf_intervals = np.clip(np.array([probs - 5 * stds,\n",
    "           probs - 4 * stds,\n",
    "           probs - 3 * stds,\n",
    "           probs - 2 * stds,\n",
    "           probs - 1 * stds,\n",
    "           probs - 0 * stds,\n",
    "           probs + 1 * stds,\n",
    "           probs + 2 * stds,\n",
    "           probs + 3 * stds,\n",
    "           probs + 4 * stds,\n",
    "           probs + 5 * stds]), 0, 1).T"
   ]
  },
  {
   "cell_type": "code",
   "execution_count": 123,
   "metadata": {},
   "outputs": [],
   "source": [
    "pred_intervals = np.array([probs - 5 * stds,\n",
    "           probs - 4 * stds,\n",
    "           probs - 3 * stds,\n",
    "           probs - 2 * stds,\n",
    "           probs - 1 * stds,\n",
    "           probs - 0 * stds,\n",
    "           probs + 1 * stds,\n",
    "           probs + 2 * stds,\n",
    "           probs + 3 * stds,\n",
    "           probs + 4 * stds,\n",
    "           probs + 5 * stds]) > cutoff\n",
    "pred_intervals = pred_intervals.T.astype(int)"
   ]
  },
  {
   "cell_type": "code",
   "execution_count": 124,
   "metadata": {},
   "outputs": [
    {
     "data": {
      "text/plain": [
       "0.9816841635023453"
      ]
     },
     "execution_count": 124,
     "metadata": {},
     "output_type": "execute_result"
    }
   ],
   "source": [
    "(pred_intervals[:, 0:11] == np.repeat(y_true[:, None], 11, axis=1)).any(axis=1).mean()"
   ]
  },
  {
   "cell_type": "code",
   "execution_count": 125,
   "metadata": {},
   "outputs": [
    {
     "data": {
      "text/plain": [
       "(0.011278678, 0.17960562)"
      ]
     },
     "execution_count": 125,
     "metadata": {},
     "output_type": "execute_result"
    }
   ],
   "source": [
    "conf_intervals[:, 0].mean(), conf_intervals[:, 10].mean()"
   ]
  },
  {
   "cell_type": "code",
   "execution_count": 126,
   "metadata": {},
   "outputs": [
    {
     "data": {
      "text/plain": [
       "0.9785570694661604"
      ]
     },
     "execution_count": 126,
     "metadata": {},
     "output_type": "execute_result"
    }
   ],
   "source": [
    "(pred_intervals[:, 1:10] == np.repeat(y_true[:, None], 9, axis=1)).any(axis=1).mean()"
   ]
  },
  {
   "cell_type": "code",
   "execution_count": 127,
   "metadata": {},
   "outputs": [
    {
     "data": {
      "text/plain": [
       "(0.01754354, 0.16337594)"
      ]
     },
     "execution_count": 127,
     "metadata": {},
     "output_type": "execute_result"
    }
   ],
   "source": [
    "conf_intervals[:, 1].mean(), conf_intervals[:, 9].mean()"
   ]
  },
  {
   "cell_type": "code",
   "execution_count": 128,
   "metadata": {},
   "outputs": [
    {
     "data": {
      "text/plain": [
       "0.9740897922716104"
      ]
     },
     "execution_count": 128,
     "metadata": {},
     "output_type": "execute_result"
    }
   ],
   "source": [
    "(pred_intervals[:, 2:9] == np.repeat(y_true[:, None], 7, axis=1)).any(axis=1).mean()"
   ]
  },
  {
   "cell_type": "code",
   "execution_count": 129,
   "metadata": {},
   "outputs": [
    {
     "data": {
      "text/plain": [
       "(0.026988378, 0.14621815)"
      ]
     },
     "execution_count": 129,
     "metadata": {},
     "output_type": "execute_result"
    }
   ],
   "source": [
    "conf_intervals[:, 2].mean(), conf_intervals[:, 8].mean()"
   ]
  },
  {
   "cell_type": "code",
   "execution_count": 130,
   "metadata": {
    "scrolled": false
   },
   "outputs": [
    {
     "data": {
      "text/plain": [
       "0.9673888764797856"
      ]
     },
     "execution_count": 130,
     "metadata": {},
     "output_type": "execute_result"
    }
   ],
   "source": [
    "(pred_intervals[:, 3:8] == np.repeat(y_true[:, None], 5, axis=1)).any(axis=1).mean()"
   ]
  },
  {
   "cell_type": "code",
   "execution_count": 131,
   "metadata": {},
   "outputs": [
    {
     "data": {
      "text/plain": [
       "(0.041973505, 0.12783447)"
      ]
     },
     "execution_count": 131,
     "metadata": {},
     "output_type": "execute_result"
    }
   ],
   "source": [
    "conf_intervals[:, 3].mean(), conf_intervals[:, 7].mean()"
   ]
  },
  {
   "cell_type": "code",
   "execution_count": 132,
   "metadata": {
    "scrolled": true
   },
   "outputs": [
    {
     "data": {
      "text/plain": [
       "0.9582309582309583"
      ]
     },
     "execution_count": 132,
     "metadata": {},
     "output_type": "execute_result"
    }
   ],
   "source": [
    "(pred_intervals[:, 4:7] == np.repeat(y_true[:, None], 3, axis=1)).any(axis=1).mean()"
   ]
  },
  {
   "cell_type": "code",
   "execution_count": 133,
   "metadata": {},
   "outputs": [
    {
     "data": {
      "text/plain": [
       "(0.06277596, 0.107613884)"
      ]
     },
     "execution_count": 133,
     "metadata": {},
     "output_type": "execute_result"
    }
   ],
   "source": [
    "conf_intervals[:, 4].mean(), conf_intervals[:, 6].mean()"
   ]
  },
  {
   "cell_type": "code",
   "execution_count": 134,
   "metadata": {},
   "outputs": [
    {
     "data": {
      "text/plain": [
       "0.9385749385749386"
      ]
     },
     "execution_count": 134,
     "metadata": {},
     "output_type": "execute_result"
    }
   ],
   "source": [
    "(pred_intervals[:, 5:6] == np.repeat(y_true[:, None], 1, axis=1)).any(axis=1).mean()"
   ]
  },
  {
   "cell_type": "code",
   "execution_count": 135,
   "metadata": {},
   "outputs": [
    {
     "data": {
      "text/plain": [
       "(0.08543231, 0.08543231)"
      ]
     },
     "execution_count": 135,
     "metadata": {},
     "output_type": "execute_result"
    }
   ],
   "source": [
    "conf_intervals[:, 5].mean(), conf_intervals[:, 5].mean()"
   ]
  },
  {
   "cell_type": "code",
   "execution_count": null,
   "metadata": {},
   "outputs": [],
   "source": []
  }
 ],
 "metadata": {
  "kernelspec": {
   "display_name": "Python 3",
   "language": "python",
   "name": "python3"
  },
  "language_info": {
   "codemirror_mode": {
    "name": "ipython",
    "version": 3
   },
   "file_extension": ".py",
   "mimetype": "text/x-python",
   "name": "python",
   "nbconvert_exporter": "python",
   "pygments_lexer": "ipython3",
   "version": "3.7.3"
  }
 },
 "nbformat": 4,
 "nbformat_minor": 2
}
