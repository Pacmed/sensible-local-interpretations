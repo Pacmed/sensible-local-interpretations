{
 "cells": [
  {
   "cell_type": "code",
   "execution_count": 1,
   "metadata": {
    "pycharm": {
     "is_executing": false
    }
   },
   "outputs": [
    {
     "name": "stderr",
     "output_type": "stream",
     "text": [
      "WARNING:root:This caffe2 python run does not have GPU support. Will run in CPU only mode.\n"
     ]
    },
    {
     "data": {
      "text/plain": [
       "<torch._C.Generator at 0x1223f11d0>"
      ]
     },
     "execution_count": 1,
     "metadata": {},
     "output_type": "execute_result"
    },
    {
     "name": "stdout",
     "output_type": "stream",
     "text": [
      "\u001b[32m2019-07-06 23:27:20:\u001b[0m \u001b[34mmatplotlib.pyplot\u001b[0m - switch_backend - \u001b[1;30mDEBUG\u001b[0m - \u001b[32mLoaded backend module://ipykernel.pylab.backend_inline version unknown.\u001b[0m\n"
     ]
    }
   ],
   "source": [
    "import torch\n",
    "\n",
    "import pandas as pd\n",
    "\n",
    "import sys\n",
    "\n",
    "sys.path.append('..')\n",
    "\n",
    "import matplotlib.pyplot as plt\n",
    "\n",
    "from sklearn.linear_model import LogisticRegression\n",
    "import numpy as np\n",
    "import copy\n",
    "\n",
    "%matplotlib inline\n",
    "\n",
    "%load_ext autoreload\n",
    "%autoreload 2\n",
    "\n",
    "from pacmagic_deeplearning.modeling.classifiers.bayesian.bnn_classifier import BNNClassifier\n",
    "from pacmagic_deeplearning.modeling.classifiers.bayesian.train_utils import make_performance_uncertainty_plot\n",
    "\n",
    "from sklearn.neural_network import MLPClassifier\n",
    "from sklearn.metrics import roc_auc_score\n",
    "from torch import nn\n",
    "import seaborn as sns\n",
    "\n",
    "torch.manual_seed(42)"
   ]
  },
  {
   "cell_type": "code",
   "execution_count": 2,
   "metadata": {},
   "outputs": [],
   "source": [
    "# X_train_raw, X_test_raw = (pd.read_csv('../data/processed/mimic/X_train_raw.csv'),\n",
    "#                           pd.read_csv('../data/processed/mimic/X_test_raw.csv'))\n",
    "\n",
    "X_train_processed, X_test_processed = (pd.read_csv('../../data/MIMIC/X_train_processed.csv'),\n",
    "                          pd.read_csv('../../data/MIMIC/X_test_processed.csv'))\n",
    "\n",
    "# X_raw = pd.concat((X_train_raw, X_test_raw))\n",
    "X_processed = pd.concat((X_train_processed, X_test_processed))\n",
    "\n",
    "\n",
    "y_train = pd.read_csv('../../data/MIMIC/y_train.csv', squeeze=True)\n",
    "y_test = pd.read_csv('../../data/MIMIC/y_test.csv', squeeze=True)"
   ]
  },
  {
   "cell_type": "code",
   "execution_count": 3,
   "metadata": {},
   "outputs": [],
   "source": [
    "outputs = []"
   ]
  },
  {
   "cell_type": "code",
   "execution_count": 6,
   "metadata": {},
   "outputs": [],
   "source": [
    "bnn = BNNClassifier(hidden_dims=[64], epochs=256, verbose=True, batch_size=256, early_stopping_patience=16, class_weights=[1, 1 / y_train.mean().item()])"
   ]
  },
  {
   "cell_type": "code",
   "execution_count": 7,
   "metadata": {
    "scrolled": true
   },
   "outputs": [
    {
     "name": "stdout",
     "output_type": "stream",
     "text": [
      "DropoutEnsemble(\n",
      "  (networks): ModuleList(\n",
      "    (0): DropoutNet(\n",
      "      (f): Sequential(\n",
      "        (0): Linear(in_features=44, out_features=64, bias=True)\n",
      "        (1): ReLU()\n",
      "        (2): Dropout(p=0.1)\n",
      "        (3): Linear(in_features=64, out_features=1, bias=True)\n",
      "      )\n",
      "      (nll): BCEWithLogitsLoss()\n",
      "    )\n",
      "    (1): DropoutNet(\n",
      "      (f): Sequential(\n",
      "        (0): Linear(in_features=44, out_features=64, bias=True)\n",
      "        (1): ReLU()\n",
      "        (2): Dropout(p=0.1)\n",
      "        (3): Linear(in_features=64, out_features=1, bias=True)\n",
      "      )\n",
      "      (nll): BCEWithLogitsLoss()\n",
      "    )\n",
      "    (2): DropoutNet(\n",
      "      (f): Sequential(\n",
      "        (0): Linear(in_features=44, out_features=64, bias=True)\n",
      "        (1): ReLU()\n",
      "        (2): Dropout(p=0.1)\n",
      "        (3): Linear(in_features=64, out_features=1, bias=True)\n",
      "      )\n",
      "      (nll): BCEWithLogitsLoss()\n",
      "    )\n",
      "    (3): DropoutNet(\n",
      "      (f): Sequential(\n",
      "        (0): Linear(in_features=44, out_features=64, bias=True)\n",
      "        (1): ReLU()\n",
      "        (2): Dropout(p=0.1)\n",
      "        (3): Linear(in_features=64, out_features=1, bias=True)\n",
      "      )\n",
      "      (nll): BCEWithLogitsLoss()\n",
      "    )\n",
      "    (4): DropoutNet(\n",
      "      (f): Sequential(\n",
      "        (0): Linear(in_features=44, out_features=64, bias=True)\n",
      "        (1): ReLU()\n",
      "        (2): Dropout(p=0.1)\n",
      "        (3): Linear(in_features=64, out_features=1, bias=True)\n",
      "      )\n",
      "      (nll): BCEWithLogitsLoss()\n",
      "    )\n",
      "    (5): DropoutNet(\n",
      "      (f): Sequential(\n",
      "        (0): Linear(in_features=44, out_features=64, bias=True)\n",
      "        (1): ReLU()\n",
      "        (2): Dropout(p=0.1)\n",
      "        (3): Linear(in_features=64, out_features=1, bias=True)\n",
      "      )\n",
      "      (nll): BCEWithLogitsLoss()\n",
      "    )\n",
      "    (6): DropoutNet(\n",
      "      (f): Sequential(\n",
      "        (0): Linear(in_features=44, out_features=64, bias=True)\n",
      "        (1): ReLU()\n",
      "        (2): Dropout(p=0.1)\n",
      "        (3): Linear(in_features=64, out_features=1, bias=True)\n",
      "      )\n",
      "      (nll): BCEWithLogitsLoss()\n",
      "    )\n",
      "    (7): DropoutNet(\n",
      "      (f): Sequential(\n",
      "        (0): Linear(in_features=44, out_features=64, bias=True)\n",
      "        (1): ReLU()\n",
      "        (2): Dropout(p=0.1)\n",
      "        (3): Linear(in_features=64, out_features=1, bias=True)\n",
      "      )\n",
      "      (nll): BCEWithLogitsLoss()\n",
      "    )\n",
      "  )\n",
      "  (nll): BCEWithLogitsLoss()\n",
      ")\n"
     ]
    },
    {
     "data": {
      "application/vnd.jupyter.widget-view+json": {
       "model_id": "329f44e5fc35439d8dae3e6277fff06b",
       "version_major": 2,
       "version_minor": 0
      },
      "text/plain": [
       "HBox(children=(IntProgress(value=0, max=256), HTML(value='')))"
      ]
     },
     "metadata": {},
     "output_type": "display_data"
    },
    {
     "data": {
      "application/vnd.jupyter.widget-view+json": {
       "model_id": "b85a65f2c0b24b378fbdaccb2d203516",
       "version_major": 2,
       "version_minor": 0
      },
      "text/plain": [
       "HBox(children=(IntProgress(value=0, max=158), HTML(value='')))"
      ]
     },
     "metadata": {},
     "output_type": "display_data"
    },
    {
     "data": {
      "application/vnd.jupyter.widget-view+json": {
       "model_id": "28404662ca1b426abe7621eefe4fbed7",
       "version_major": 2,
       "version_minor": 0
      },
      "text/plain": [
       "HBox(children=(IntProgress(value=0, max=9), HTML(value='')))"
      ]
     },
     "metadata": {},
     "output_type": "display_data"
    },
    {
     "name": "stdout",
     "output_type": "stream",
     "text": [
      "Epoch: 0 | Total Loss: 499.7 | Uncertainty Ratio: 2.8\n"
     ]
    },
    {
     "data": {
      "application/vnd.jupyter.widget-view+json": {
       "model_id": "8e9ecf08719e45f69bbbcf9fd8aeb1fb",
       "version_major": 2,
       "version_minor": 0
      },
      "text/plain": [
       "HBox(children=(IntProgress(value=0, max=158), HTML(value='')))"
      ]
     },
     "metadata": {},
     "output_type": "display_data"
    },
    {
     "data": {
      "application/vnd.jupyter.widget-view+json": {
       "model_id": "cabba652efb24eeb9489b87447505bb6",
       "version_major": 2,
       "version_minor": 0
      },
      "text/plain": [
       "HBox(children=(IntProgress(value=0, max=9), HTML(value='')))"
      ]
     },
     "metadata": {},
     "output_type": "display_data"
    },
    {
     "name": "stdout",
     "output_type": "stream",
     "text": [
      "Epoch: 1 | Total Loss: 439.26 | Uncertainty Ratio: 2.12\n"
     ]
    },
    {
     "data": {
      "application/vnd.jupyter.widget-view+json": {
       "model_id": "f9d58a077bf4428a80cfd7a68733761c",
       "version_major": 2,
       "version_minor": 0
      },
      "text/plain": [
       "HBox(children=(IntProgress(value=0, max=158), HTML(value='')))"
      ]
     },
     "metadata": {},
     "output_type": "display_data"
    },
    {
     "data": {
      "application/vnd.jupyter.widget-view+json": {
       "model_id": "38b56036e9f346b49e799d3064983e51",
       "version_major": 2,
       "version_minor": 0
      },
      "text/plain": [
       "HBox(children=(IntProgress(value=0, max=9), HTML(value='')))"
      ]
     },
     "metadata": {},
     "output_type": "display_data"
    },
    {
     "name": "stdout",
     "output_type": "stream",
     "text": [
      "Epoch: 2 | Total Loss: 419.84 | Uncertainty Ratio: 1.92\n"
     ]
    },
    {
     "data": {
      "application/vnd.jupyter.widget-view+json": {
       "model_id": "7c03ca5606c4458599ab52121193c861",
       "version_major": 2,
       "version_minor": 0
      },
      "text/plain": [
       "HBox(children=(IntProgress(value=0, max=158), HTML(value='')))"
      ]
     },
     "metadata": {},
     "output_type": "display_data"
    },
    {
     "data": {
      "application/vnd.jupyter.widget-view+json": {
       "model_id": "ca83413b2db3489187348171cd5942c8",
       "version_major": 2,
       "version_minor": 0
      },
      "text/plain": [
       "HBox(children=(IntProgress(value=0, max=9), HTML(value='')))"
      ]
     },
     "metadata": {},
     "output_type": "display_data"
    },
    {
     "name": "stdout",
     "output_type": "stream",
     "text": [
      "Epoch: 3 | Total Loss: 414.35 | Uncertainty Ratio: 2.07\n"
     ]
    },
    {
     "data": {
      "application/vnd.jupyter.widget-view+json": {
       "model_id": "5ff5ca9ba64d490986ff9d6ee9051446",
       "version_major": 2,
       "version_minor": 0
      },
      "text/plain": [
       "HBox(children=(IntProgress(value=0, max=158), HTML(value='')))"
      ]
     },
     "metadata": {},
     "output_type": "display_data"
    },
    {
     "data": {
      "application/vnd.jupyter.widget-view+json": {
       "model_id": "c2a2075db3004c5d935d69f6638b0a5a",
       "version_major": 2,
       "version_minor": 0
      },
      "text/plain": [
       "HBox(children=(IntProgress(value=0, max=9), HTML(value='')))"
      ]
     },
     "metadata": {},
     "output_type": "display_data"
    },
    {
     "name": "stdout",
     "output_type": "stream",
     "text": [
      "Epoch: 4 | Total Loss: 406.6 | Uncertainty Ratio: 1.85\n"
     ]
    },
    {
     "data": {
      "application/vnd.jupyter.widget-view+json": {
       "model_id": "39824dbaf8074e8c9bbf6d4f986aa4be",
       "version_major": 2,
       "version_minor": 0
      },
      "text/plain": [
       "HBox(children=(IntProgress(value=0, max=158), HTML(value='')))"
      ]
     },
     "metadata": {},
     "output_type": "display_data"
    },
    {
     "data": {
      "application/vnd.jupyter.widget-view+json": {
       "model_id": "21d71f0a494e46a7be564be0a2db0aba",
       "version_major": 2,
       "version_minor": 0
      },
      "text/plain": [
       "HBox(children=(IntProgress(value=0, max=9), HTML(value='')))"
      ]
     },
     "metadata": {},
     "output_type": "display_data"
    },
    {
     "name": "stdout",
     "output_type": "stream",
     "text": [
      "Epoch: 5 | Total Loss: 403.25 | Uncertainty Ratio: 2.01\n"
     ]
    },
    {
     "data": {
      "application/vnd.jupyter.widget-view+json": {
       "model_id": "25b4321215674d61b9b8772150e4f12d",
       "version_major": 2,
       "version_minor": 0
      },
      "text/plain": [
       "HBox(children=(IntProgress(value=0, max=158), HTML(value='')))"
      ]
     },
     "metadata": {},
     "output_type": "display_data"
    },
    {
     "data": {
      "application/vnd.jupyter.widget-view+json": {
       "model_id": "9a5a9580962647a5bd1153e1c52c2997",
       "version_major": 2,
       "version_minor": 0
      },
      "text/plain": [
       "HBox(children=(IntProgress(value=0, max=9), HTML(value='')))"
      ]
     },
     "metadata": {},
     "output_type": "display_data"
    },
    {
     "name": "stdout",
     "output_type": "stream",
     "text": [
      "Epoch: 6 | Total Loss: 400.93 | Uncertainty Ratio: 2.04\n"
     ]
    },
    {
     "data": {
      "application/vnd.jupyter.widget-view+json": {
       "model_id": "79148bf3283c4e4d9edaf7c2138337cd",
       "version_major": 2,
       "version_minor": 0
      },
      "text/plain": [
       "HBox(children=(IntProgress(value=0, max=158), HTML(value='')))"
      ]
     },
     "metadata": {},
     "output_type": "display_data"
    },
    {
     "data": {
      "application/vnd.jupyter.widget-view+json": {
       "model_id": "16a28065e551443f961bad944a599c6e",
       "version_major": 2,
       "version_minor": 0
      },
      "text/plain": [
       "HBox(children=(IntProgress(value=0, max=9), HTML(value='')))"
      ]
     },
     "metadata": {},
     "output_type": "display_data"
    },
    {
     "name": "stdout",
     "output_type": "stream",
     "text": [
      "Epoch: 7 | Total Loss: 397.64 | Uncertainty Ratio: 2.0\n"
     ]
    },
    {
     "data": {
      "application/vnd.jupyter.widget-view+json": {
       "model_id": "7d84537a4740455d9266866e2c75c3df",
       "version_major": 2,
       "version_minor": 0
      },
      "text/plain": [
       "HBox(children=(IntProgress(value=0, max=158), HTML(value='')))"
      ]
     },
     "metadata": {},
     "output_type": "display_data"
    },
    {
     "data": {
      "application/vnd.jupyter.widget-view+json": {
       "model_id": "b0ffb7b041424e4f822e2197e31a332b",
       "version_major": 2,
       "version_minor": 0
      },
      "text/plain": [
       "HBox(children=(IntProgress(value=0, max=9), HTML(value='')))"
      ]
     },
     "metadata": {},
     "output_type": "display_data"
    },
    {
     "name": "stdout",
     "output_type": "stream",
     "text": [
      "Epoch: 8 | Total Loss: 395.77 | Uncertainty Ratio: 1.98\n"
     ]
    },
    {
     "data": {
      "application/vnd.jupyter.widget-view+json": {
       "model_id": "b0f01e149f5b40478380dda9184473bb",
       "version_major": 2,
       "version_minor": 0
      },
      "text/plain": [
       "HBox(children=(IntProgress(value=0, max=158), HTML(value='')))"
      ]
     },
     "metadata": {},
     "output_type": "display_data"
    },
    {
     "data": {
      "application/vnd.jupyter.widget-view+json": {
       "model_id": "cf9043162e134b5ca7e727c49e79ac02",
       "version_major": 2,
       "version_minor": 0
      },
      "text/plain": [
       "HBox(children=(IntProgress(value=0, max=9), HTML(value='')))"
      ]
     },
     "metadata": {},
     "output_type": "display_data"
    },
    {
     "name": "stdout",
     "output_type": "stream",
     "text": [
      "Epoch: 9 | Total Loss: 401.38 | Uncertainty Ratio: 2.15\n"
     ]
    },
    {
     "data": {
      "application/vnd.jupyter.widget-view+json": {
       "model_id": "12dad45142a240a0955e4b6fb0fc8c9f",
       "version_major": 2,
       "version_minor": 0
      },
      "text/plain": [
       "HBox(children=(IntProgress(value=0, max=158), HTML(value='')))"
      ]
     },
     "metadata": {},
     "output_type": "display_data"
    },
    {
     "data": {
      "application/vnd.jupyter.widget-view+json": {
       "model_id": "7a5f8619f2f8497caaa90426b0b955c8",
       "version_major": 2,
       "version_minor": 0
      },
      "text/plain": [
       "HBox(children=(IntProgress(value=0, max=9), HTML(value='')))"
      ]
     },
     "metadata": {},
     "output_type": "display_data"
    },
    {
     "name": "stdout",
     "output_type": "stream",
     "text": [
      "Epoch: 10 | Total Loss: 391.71 | Uncertainty Ratio: 2.07\n"
     ]
    },
    {
     "data": {
      "application/vnd.jupyter.widget-view+json": {
       "model_id": "acfab4d0e5164a6a842f442bb4e85fe5",
       "version_major": 2,
       "version_minor": 0
      },
      "text/plain": [
       "HBox(children=(IntProgress(value=0, max=158), HTML(value='')))"
      ]
     },
     "metadata": {},
     "output_type": "display_data"
    },
    {
     "data": {
      "application/vnd.jupyter.widget-view+json": {
       "model_id": "42868d22867f4908b7f71e55b4388c42",
       "version_major": 2,
       "version_minor": 0
      },
      "text/plain": [
       "HBox(children=(IntProgress(value=0, max=9), HTML(value='')))"
      ]
     },
     "metadata": {},
     "output_type": "display_data"
    },
    {
     "name": "stdout",
     "output_type": "stream",
     "text": [
      "Epoch: 11 | Total Loss: 395.65 | Uncertainty Ratio: 2.07\n"
     ]
    },
    {
     "data": {
      "application/vnd.jupyter.widget-view+json": {
       "model_id": "e44e994b963646509e78ab56996f984a",
       "version_major": 2,
       "version_minor": 0
      },
      "text/plain": [
       "HBox(children=(IntProgress(value=0, max=158), HTML(value='')))"
      ]
     },
     "metadata": {},
     "output_type": "display_data"
    },
    {
     "data": {
      "application/vnd.jupyter.widget-view+json": {
       "model_id": "46014739049d494ca19747bae791df10",
       "version_major": 2,
       "version_minor": 0
      },
      "text/plain": [
       "HBox(children=(IntProgress(value=0, max=9), HTML(value='')))"
      ]
     },
     "metadata": {},
     "output_type": "display_data"
    },
    {
     "name": "stdout",
     "output_type": "stream",
     "text": [
      "Epoch: 12 | Total Loss: 389.72 | Uncertainty Ratio: 2.27\n"
     ]
    },
    {
     "data": {
      "application/vnd.jupyter.widget-view+json": {
       "model_id": "64917c3cb2a446f1a8f0503413db5a59",
       "version_major": 2,
       "version_minor": 0
      },
      "text/plain": [
       "HBox(children=(IntProgress(value=0, max=158), HTML(value='')))"
      ]
     },
     "metadata": {},
     "output_type": "display_data"
    },
    {
     "data": {
      "application/vnd.jupyter.widget-view+json": {
       "model_id": "fecdee61233f4e3382135005ee17a506",
       "version_major": 2,
       "version_minor": 0
      },
      "text/plain": [
       "HBox(children=(IntProgress(value=0, max=9), HTML(value='')))"
      ]
     },
     "metadata": {},
     "output_type": "display_data"
    },
    {
     "name": "stdout",
     "output_type": "stream",
     "text": [
      "Epoch: 13 | Total Loss: 386.54 | Uncertainty Ratio: 2.27\n"
     ]
    },
    {
     "data": {
      "application/vnd.jupyter.widget-view+json": {
       "model_id": "467c43a91a1540a2a3b8f8ede5b06d6b",
       "version_major": 2,
       "version_minor": 0
      },
      "text/plain": [
       "HBox(children=(IntProgress(value=0, max=158), HTML(value='')))"
      ]
     },
     "metadata": {},
     "output_type": "display_data"
    },
    {
     "data": {
      "application/vnd.jupyter.widget-view+json": {
       "model_id": "16f1388d62d840d58d9420cf200a6a0a",
       "version_major": 2,
       "version_minor": 0
      },
      "text/plain": [
       "HBox(children=(IntProgress(value=0, max=9), HTML(value='')))"
      ]
     },
     "metadata": {},
     "output_type": "display_data"
    },
    {
     "name": "stdout",
     "output_type": "stream",
     "text": [
      "Epoch: 14 | Total Loss: 385.21 | Uncertainty Ratio: 2.27\n"
     ]
    },
    {
     "data": {
      "application/vnd.jupyter.widget-view+json": {
       "model_id": "26aa4975d5744b74addd2966305afda0",
       "version_major": 2,
       "version_minor": 0
      },
      "text/plain": [
       "HBox(children=(IntProgress(value=0, max=158), HTML(value='')))"
      ]
     },
     "metadata": {},
     "output_type": "display_data"
    },
    {
     "data": {
      "application/vnd.jupyter.widget-view+json": {
       "model_id": "e3d56c2b333245069ade922b4e656bc3",
       "version_major": 2,
       "version_minor": 0
      },
      "text/plain": [
       "HBox(children=(IntProgress(value=0, max=9), HTML(value='')))"
      ]
     },
     "metadata": {},
     "output_type": "display_data"
    },
    {
     "name": "stdout",
     "output_type": "stream",
     "text": [
      "Epoch: 15 | Total Loss: 383.48 | Uncertainty Ratio: 2.29\n"
     ]
    },
    {
     "data": {
      "application/vnd.jupyter.widget-view+json": {
       "model_id": "514bc776d0aa43bbb71da8767e8106c2",
       "version_major": 2,
       "version_minor": 0
      },
      "text/plain": [
       "HBox(children=(IntProgress(value=0, max=158), HTML(value='')))"
      ]
     },
     "metadata": {},
     "output_type": "display_data"
    },
    {
     "data": {
      "application/vnd.jupyter.widget-view+json": {
       "model_id": "03cb4b2e4c244fc2bd2a5b735db6ad96",
       "version_major": 2,
       "version_minor": 0
      },
      "text/plain": [
       "HBox(children=(IntProgress(value=0, max=9), HTML(value='')))"
      ]
     },
     "metadata": {},
     "output_type": "display_data"
    },
    {
     "name": "stdout",
     "output_type": "stream",
     "text": [
      "Epoch: 16 | Total Loss: 380.95 | Uncertainty Ratio: 2.36\n"
     ]
    },
    {
     "data": {
      "application/vnd.jupyter.widget-view+json": {
       "model_id": "e43369d3775c4cfe85ecd8c73c42f1a1",
       "version_major": 2,
       "version_minor": 0
      },
      "text/plain": [
       "HBox(children=(IntProgress(value=0, max=158), HTML(value='')))"
      ]
     },
     "metadata": {},
     "output_type": "display_data"
    },
    {
     "data": {
      "application/vnd.jupyter.widget-view+json": {
       "model_id": "2d34cba489204849bee0bfe8f0827eaa",
       "version_major": 2,
       "version_minor": 0
      },
      "text/plain": [
       "HBox(children=(IntProgress(value=0, max=9), HTML(value='')))"
      ]
     },
     "metadata": {},
     "output_type": "display_data"
    },
    {
     "name": "stdout",
     "output_type": "stream",
     "text": [
      "Epoch: 17 | Total Loss: 379.84 | Uncertainty Ratio: 2.35\n"
     ]
    },
    {
     "data": {
      "application/vnd.jupyter.widget-view+json": {
       "model_id": "3c19ed80f12d4351a0576cc312f9a9c7",
       "version_major": 2,
       "version_minor": 0
      },
      "text/plain": [
       "HBox(children=(IntProgress(value=0, max=158), HTML(value='')))"
      ]
     },
     "metadata": {},
     "output_type": "display_data"
    },
    {
     "data": {
      "application/vnd.jupyter.widget-view+json": {
       "model_id": "4741f311ac1144eab2d85a87cb76ae38",
       "version_major": 2,
       "version_minor": 0
      },
      "text/plain": [
       "HBox(children=(IntProgress(value=0, max=9), HTML(value='')))"
      ]
     },
     "metadata": {},
     "output_type": "display_data"
    },
    {
     "name": "stdout",
     "output_type": "stream",
     "text": [
      "Epoch: 18 | Total Loss: 380.2 | Uncertainty Ratio: 2.43\n"
     ]
    },
    {
     "data": {
      "application/vnd.jupyter.widget-view+json": {
       "model_id": "d0eecc554c8147d9b2f37aa777c9f0f0",
       "version_major": 2,
       "version_minor": 0
      },
      "text/plain": [
       "HBox(children=(IntProgress(value=0, max=158), HTML(value='')))"
      ]
     },
     "metadata": {},
     "output_type": "display_data"
    },
    {
     "data": {
      "application/vnd.jupyter.widget-view+json": {
       "model_id": "85925c61c9204f4b9ec95ebd4de6999b",
       "version_major": 2,
       "version_minor": 0
      },
      "text/plain": [
       "HBox(children=(IntProgress(value=0, max=9), HTML(value='')))"
      ]
     },
     "metadata": {},
     "output_type": "display_data"
    },
    {
     "name": "stdout",
     "output_type": "stream",
     "text": [
      "Epoch: 19 | Total Loss: 382.94 | Uncertainty Ratio: 2.48\n"
     ]
    },
    {
     "data": {
      "application/vnd.jupyter.widget-view+json": {
       "model_id": "564268c0f02a45eeadc7f5c4cb23dd50",
       "version_major": 2,
       "version_minor": 0
      },
      "text/plain": [
       "HBox(children=(IntProgress(value=0, max=158), HTML(value='')))"
      ]
     },
     "metadata": {},
     "output_type": "display_data"
    },
    {
     "data": {
      "application/vnd.jupyter.widget-view+json": {
       "model_id": "9cc85066ef5c43a5bacefcd2a27ed41b",
       "version_major": 2,
       "version_minor": 0
      },
      "text/plain": [
       "HBox(children=(IntProgress(value=0, max=9), HTML(value='')))"
      ]
     },
     "metadata": {},
     "output_type": "display_data"
    },
    {
     "name": "stdout",
     "output_type": "stream",
     "text": [
      "Epoch: 20 | Total Loss: 376.44 | Uncertainty Ratio: 2.53\n"
     ]
    },
    {
     "data": {
      "application/vnd.jupyter.widget-view+json": {
       "model_id": "63f200b2096549feb14d93b81515a409",
       "version_major": 2,
       "version_minor": 0
      },
      "text/plain": [
       "HBox(children=(IntProgress(value=0, max=158), HTML(value='')))"
      ]
     },
     "metadata": {},
     "output_type": "display_data"
    },
    {
     "data": {
      "application/vnd.jupyter.widget-view+json": {
       "model_id": "db74b35d94a844079dfb7108243649f9",
       "version_major": 2,
       "version_minor": 0
      },
      "text/plain": [
       "HBox(children=(IntProgress(value=0, max=9), HTML(value='')))"
      ]
     },
     "metadata": {},
     "output_type": "display_data"
    },
    {
     "name": "stdout",
     "output_type": "stream",
     "text": [
      "Epoch: 21 | Total Loss: 377.27 | Uncertainty Ratio: 2.58\n"
     ]
    },
    {
     "data": {
      "application/vnd.jupyter.widget-view+json": {
       "model_id": "47580e8c499a4c8c86cf0039a893478e",
       "version_major": 2,
       "version_minor": 0
      },
      "text/plain": [
       "HBox(children=(IntProgress(value=0, max=158), HTML(value='')))"
      ]
     },
     "metadata": {},
     "output_type": "display_data"
    },
    {
     "data": {
      "application/vnd.jupyter.widget-view+json": {
       "model_id": "609293436c364801bcbe94828bb3dd79",
       "version_major": 2,
       "version_minor": 0
      },
      "text/plain": [
       "HBox(children=(IntProgress(value=0, max=9), HTML(value='')))"
      ]
     },
     "metadata": {},
     "output_type": "display_data"
    },
    {
     "name": "stdout",
     "output_type": "stream",
     "text": [
      "Epoch: 22 | Total Loss: 374.67 | Uncertainty Ratio: 2.4\n"
     ]
    },
    {
     "data": {
      "application/vnd.jupyter.widget-view+json": {
       "model_id": "bd4319f11f074573b2e18ee8e9305e91",
       "version_major": 2,
       "version_minor": 0
      },
      "text/plain": [
       "HBox(children=(IntProgress(value=0, max=158), HTML(value='')))"
      ]
     },
     "metadata": {},
     "output_type": "display_data"
    },
    {
     "data": {
      "application/vnd.jupyter.widget-view+json": {
       "model_id": "d6be610658b949c39f0680a1030b0d0b",
       "version_major": 2,
       "version_minor": 0
      },
      "text/plain": [
       "HBox(children=(IntProgress(value=0, max=9), HTML(value='')))"
      ]
     },
     "metadata": {},
     "output_type": "display_data"
    },
    {
     "name": "stdout",
     "output_type": "stream",
     "text": [
      "Epoch: 23 | Total Loss: 371.95 | Uncertainty Ratio: 2.34\n"
     ]
    },
    {
     "data": {
      "application/vnd.jupyter.widget-view+json": {
       "model_id": "0734871c9c37454a922febe8499a60f9",
       "version_major": 2,
       "version_minor": 0
      },
      "text/plain": [
       "HBox(children=(IntProgress(value=0, max=158), HTML(value='')))"
      ]
     },
     "metadata": {},
     "output_type": "display_data"
    },
    {
     "data": {
      "application/vnd.jupyter.widget-view+json": {
       "model_id": "8f8d8598b1974b2eb5dd16590fcf3dba",
       "version_major": 2,
       "version_minor": 0
      },
      "text/plain": [
       "HBox(children=(IntProgress(value=0, max=9), HTML(value='')))"
      ]
     },
     "metadata": {},
     "output_type": "display_data"
    },
    {
     "name": "stdout",
     "output_type": "stream",
     "text": [
      "Epoch: 24 | Total Loss: 369.67 | Uncertainty Ratio: 2.48\n"
     ]
    },
    {
     "data": {
      "application/vnd.jupyter.widget-view+json": {
       "model_id": "f29ea111ec444dbca5db7573e05a8c31",
       "version_major": 2,
       "version_minor": 0
      },
      "text/plain": [
       "HBox(children=(IntProgress(value=0, max=158), HTML(value='')))"
      ]
     },
     "metadata": {},
     "output_type": "display_data"
    },
    {
     "data": {
      "application/vnd.jupyter.widget-view+json": {
       "model_id": "3f2a1b3320b94084a72933feeeffe8d1",
       "version_major": 2,
       "version_minor": 0
      },
      "text/plain": [
       "HBox(children=(IntProgress(value=0, max=9), HTML(value='')))"
      ]
     },
     "metadata": {},
     "output_type": "display_data"
    },
    {
     "name": "stdout",
     "output_type": "stream",
     "text": [
      "Epoch: 25 | Total Loss: 370.08 | Uncertainty Ratio: 2.48\n"
     ]
    },
    {
     "data": {
      "application/vnd.jupyter.widget-view+json": {
       "model_id": "b701b10b3f8c45e1be5d466dac4cd1ed",
       "version_major": 2,
       "version_minor": 0
      },
      "text/plain": [
       "HBox(children=(IntProgress(value=0, max=158), HTML(value='')))"
      ]
     },
     "metadata": {},
     "output_type": "display_data"
    },
    {
     "data": {
      "application/vnd.jupyter.widget-view+json": {
       "model_id": "3b559c0aa47b4ce8b076b84cd23511b3",
       "version_major": 2,
       "version_minor": 0
      },
      "text/plain": [
       "HBox(children=(IntProgress(value=0, max=9), HTML(value='')))"
      ]
     },
     "metadata": {},
     "output_type": "display_data"
    },
    {
     "name": "stdout",
     "output_type": "stream",
     "text": [
      "Epoch: 26 | Total Loss: 369.26 | Uncertainty Ratio: 2.68\n"
     ]
    },
    {
     "data": {
      "application/vnd.jupyter.widget-view+json": {
       "model_id": "a14d3a5a288d458aac888704d7a75230",
       "version_major": 2,
       "version_minor": 0
      },
      "text/plain": [
       "HBox(children=(IntProgress(value=0, max=158), HTML(value='')))"
      ]
     },
     "metadata": {},
     "output_type": "display_data"
    },
    {
     "data": {
      "application/vnd.jupyter.widget-view+json": {
       "model_id": "9e0e0ea0e3594684a3584c14e18214b1",
       "version_major": 2,
       "version_minor": 0
      },
      "text/plain": [
       "HBox(children=(IntProgress(value=0, max=9), HTML(value='')))"
      ]
     },
     "metadata": {},
     "output_type": "display_data"
    },
    {
     "name": "stdout",
     "output_type": "stream",
     "text": [
      "Epoch: 27 | Total Loss: 366.86 | Uncertainty Ratio: 2.34\n"
     ]
    },
    {
     "data": {
      "application/vnd.jupyter.widget-view+json": {
       "model_id": "49ec95ffc2c940ccbe8c98463d929603",
       "version_major": 2,
       "version_minor": 0
      },
      "text/plain": [
       "HBox(children=(IntProgress(value=0, max=158), HTML(value='')))"
      ]
     },
     "metadata": {},
     "output_type": "display_data"
    },
    {
     "data": {
      "application/vnd.jupyter.widget-view+json": {
       "model_id": "4ccfa979b91840918a5153e296580d3b",
       "version_major": 2,
       "version_minor": 0
      },
      "text/plain": [
       "HBox(children=(IntProgress(value=0, max=9), HTML(value='')))"
      ]
     },
     "metadata": {},
     "output_type": "display_data"
    },
    {
     "name": "stdout",
     "output_type": "stream",
     "text": [
      "Epoch: 28 | Total Loss: 366.51 | Uncertainty Ratio: 2.58\n"
     ]
    },
    {
     "data": {
      "application/vnd.jupyter.widget-view+json": {
       "model_id": "ee479c010bbf482985146188d3c10cf8",
       "version_major": 2,
       "version_minor": 0
      },
      "text/plain": [
       "HBox(children=(IntProgress(value=0, max=158), HTML(value='')))"
      ]
     },
     "metadata": {},
     "output_type": "display_data"
    },
    {
     "data": {
      "application/vnd.jupyter.widget-view+json": {
       "model_id": "d8d39563580642329e2bf27466a7c7de",
       "version_major": 2,
       "version_minor": 0
      },
      "text/plain": [
       "HBox(children=(IntProgress(value=0, max=9), HTML(value='')))"
      ]
     },
     "metadata": {},
     "output_type": "display_data"
    },
    {
     "name": "stdout",
     "output_type": "stream",
     "text": [
      "Epoch: 29 | Total Loss: 366.4 | Uncertainty Ratio: 2.51\n"
     ]
    },
    {
     "data": {
      "application/vnd.jupyter.widget-view+json": {
       "model_id": "f8b1bfbb0e624479ac8d67204b7f8d10",
       "version_major": 2,
       "version_minor": 0
      },
      "text/plain": [
       "HBox(children=(IntProgress(value=0, max=158), HTML(value='')))"
      ]
     },
     "metadata": {},
     "output_type": "display_data"
    },
    {
     "data": {
      "application/vnd.jupyter.widget-view+json": {
       "model_id": "538fe217e44e42ff9eab8792089e2c8c",
       "version_major": 2,
       "version_minor": 0
      },
      "text/plain": [
       "HBox(children=(IntProgress(value=0, max=9), HTML(value='')))"
      ]
     },
     "metadata": {},
     "output_type": "display_data"
    },
    {
     "name": "stdout",
     "output_type": "stream",
     "text": [
      "Epoch: 30 | Total Loss: 364.37 | Uncertainty Ratio: 2.46\n"
     ]
    },
    {
     "data": {
      "application/vnd.jupyter.widget-view+json": {
       "model_id": "39b6141d181e45d18e836deef07efa8e",
       "version_major": 2,
       "version_minor": 0
      },
      "text/plain": [
       "HBox(children=(IntProgress(value=0, max=158), HTML(value='')))"
      ]
     },
     "metadata": {},
     "output_type": "display_data"
    },
    {
     "data": {
      "application/vnd.jupyter.widget-view+json": {
       "model_id": "8b144fc3d9c542138289beac82c16239",
       "version_major": 2,
       "version_minor": 0
      },
      "text/plain": [
       "HBox(children=(IntProgress(value=0, max=9), HTML(value='')))"
      ]
     },
     "metadata": {},
     "output_type": "display_data"
    },
    {
     "name": "stdout",
     "output_type": "stream",
     "text": [
      "Epoch: 31 | Total Loss: 364.32 | Uncertainty Ratio: 2.42\n"
     ]
    },
    {
     "data": {
      "application/vnd.jupyter.widget-view+json": {
       "model_id": "6356b9b007a04d3886f978e19ab437e7",
       "version_major": 2,
       "version_minor": 0
      },
      "text/plain": [
       "HBox(children=(IntProgress(value=0, max=158), HTML(value='')))"
      ]
     },
     "metadata": {},
     "output_type": "display_data"
    },
    {
     "data": {
      "application/vnd.jupyter.widget-view+json": {
       "model_id": "14915f20a1d34bd7a9f93a7d47204ebc",
       "version_major": 2,
       "version_minor": 0
      },
      "text/plain": [
       "HBox(children=(IntProgress(value=0, max=9), HTML(value='')))"
      ]
     },
     "metadata": {},
     "output_type": "display_data"
    },
    {
     "name": "stdout",
     "output_type": "stream",
     "text": [
      "Epoch: 32 | Total Loss: 362.61 | Uncertainty Ratio: 2.39\n"
     ]
    },
    {
     "data": {
      "application/vnd.jupyter.widget-view+json": {
       "model_id": "ac1c554f9830426e98610748ac3324dd",
       "version_major": 2,
       "version_minor": 0
      },
      "text/plain": [
       "HBox(children=(IntProgress(value=0, max=158), HTML(value='')))"
      ]
     },
     "metadata": {},
     "output_type": "display_data"
    },
    {
     "data": {
      "application/vnd.jupyter.widget-view+json": {
       "model_id": "364c265a33d54321ba755388d2ba4f74",
       "version_major": 2,
       "version_minor": 0
      },
      "text/plain": [
       "HBox(children=(IntProgress(value=0, max=9), HTML(value='')))"
      ]
     },
     "metadata": {},
     "output_type": "display_data"
    },
    {
     "name": "stdout",
     "output_type": "stream",
     "text": [
      "Epoch: 33 | Total Loss: 360.95 | Uncertainty Ratio: 2.38\n"
     ]
    },
    {
     "data": {
      "application/vnd.jupyter.widget-view+json": {
       "model_id": "ec7f1d04a4f0418fb08d3f7ca01e4fff",
       "version_major": 2,
       "version_minor": 0
      },
      "text/plain": [
       "HBox(children=(IntProgress(value=0, max=158), HTML(value='')))"
      ]
     },
     "metadata": {},
     "output_type": "display_data"
    },
    {
     "data": {
      "application/vnd.jupyter.widget-view+json": {
       "model_id": "5c71c26f8b1c48a9a7562b977fee5a56",
       "version_major": 2,
       "version_minor": 0
      },
      "text/plain": [
       "HBox(children=(IntProgress(value=0, max=9), HTML(value='')))"
      ]
     },
     "metadata": {},
     "output_type": "display_data"
    },
    {
     "name": "stdout",
     "output_type": "stream",
     "text": [
      "Epoch: 34 | Total Loss: 363.17 | Uncertainty Ratio: 2.74\n"
     ]
    },
    {
     "data": {
      "application/vnd.jupyter.widget-view+json": {
       "model_id": "ba84a8262d20415c837ce38b0aaf0d09",
       "version_major": 2,
       "version_minor": 0
      },
      "text/plain": [
       "HBox(children=(IntProgress(value=0, max=158), HTML(value='')))"
      ]
     },
     "metadata": {},
     "output_type": "display_data"
    },
    {
     "data": {
      "application/vnd.jupyter.widget-view+json": {
       "model_id": "e61b37ab77164a6195f4d5c4db954456",
       "version_major": 2,
       "version_minor": 0
      },
      "text/plain": [
       "HBox(children=(IntProgress(value=0, max=9), HTML(value='')))"
      ]
     },
     "metadata": {},
     "output_type": "display_data"
    },
    {
     "name": "stdout",
     "output_type": "stream",
     "text": [
      "Epoch: 35 | Total Loss: 363.47 | Uncertainty Ratio: 2.49\n"
     ]
    },
    {
     "data": {
      "application/vnd.jupyter.widget-view+json": {
       "model_id": "03914678e0bc4c25919ee6a090a70b27",
       "version_major": 2,
       "version_minor": 0
      },
      "text/plain": [
       "HBox(children=(IntProgress(value=0, max=158), HTML(value='')))"
      ]
     },
     "metadata": {},
     "output_type": "display_data"
    },
    {
     "data": {
      "application/vnd.jupyter.widget-view+json": {
       "model_id": "0a82bb4d4ab34356ac1373c7c33d4605",
       "version_major": 2,
       "version_minor": 0
      },
      "text/plain": [
       "HBox(children=(IntProgress(value=0, max=9), HTML(value='')))"
      ]
     },
     "metadata": {},
     "output_type": "display_data"
    },
    {
     "name": "stdout",
     "output_type": "stream",
     "text": [
      "Epoch: 36 | Total Loss: 356.31 | Uncertainty Ratio: 2.51\n"
     ]
    },
    {
     "data": {
      "application/vnd.jupyter.widget-view+json": {
       "model_id": "e08a7ae167d7414d93660a03e1747463",
       "version_major": 2,
       "version_minor": 0
      },
      "text/plain": [
       "HBox(children=(IntProgress(value=0, max=158), HTML(value='')))"
      ]
     },
     "metadata": {},
     "output_type": "display_data"
    },
    {
     "data": {
      "application/vnd.jupyter.widget-view+json": {
       "model_id": "5b40b5b9b4fa4f2c80e96b0da8577a6f",
       "version_major": 2,
       "version_minor": 0
      },
      "text/plain": [
       "HBox(children=(IntProgress(value=0, max=9), HTML(value='')))"
      ]
     },
     "metadata": {},
     "output_type": "display_data"
    },
    {
     "name": "stdout",
     "output_type": "stream",
     "text": [
      "Epoch: 37 | Total Loss: 364.7 | Uncertainty Ratio: 2.73\n"
     ]
    },
    {
     "data": {
      "application/vnd.jupyter.widget-view+json": {
       "model_id": "85e3cdf9c19649128cd91c4d6b924b28",
       "version_major": 2,
       "version_minor": 0
      },
      "text/plain": [
       "HBox(children=(IntProgress(value=0, max=158), HTML(value='')))"
      ]
     },
     "metadata": {},
     "output_type": "display_data"
    },
    {
     "data": {
      "application/vnd.jupyter.widget-view+json": {
       "model_id": "24269e22a4364181a656d91dc0c8212f",
       "version_major": 2,
       "version_minor": 0
      },
      "text/plain": [
       "HBox(children=(IntProgress(value=0, max=9), HTML(value='')))"
      ]
     },
     "metadata": {},
     "output_type": "display_data"
    },
    {
     "name": "stdout",
     "output_type": "stream",
     "text": [
      "Epoch: 38 | Total Loss: 355.94 | Uncertainty Ratio: 2.47\n"
     ]
    },
    {
     "data": {
      "application/vnd.jupyter.widget-view+json": {
       "model_id": "40edacbfe90f42b49bcaac97d11b6a45",
       "version_major": 2,
       "version_minor": 0
      },
      "text/plain": [
       "HBox(children=(IntProgress(value=0, max=158), HTML(value='')))"
      ]
     },
     "metadata": {},
     "output_type": "display_data"
    },
    {
     "data": {
      "application/vnd.jupyter.widget-view+json": {
       "model_id": "6d62acf385734783b21031d369054cfd",
       "version_major": 2,
       "version_minor": 0
      },
      "text/plain": [
       "HBox(children=(IntProgress(value=0, max=9), HTML(value='')))"
      ]
     },
     "metadata": {},
     "output_type": "display_data"
    },
    {
     "name": "stdout",
     "output_type": "stream",
     "text": [
      "Epoch: 39 | Total Loss: 356.83 | Uncertainty Ratio: 2.46\n"
     ]
    },
    {
     "data": {
      "application/vnd.jupyter.widget-view+json": {
       "model_id": "0cbe1efd6980451a99efd4a292c3a05a",
       "version_major": 2,
       "version_minor": 0
      },
      "text/plain": [
       "HBox(children=(IntProgress(value=0, max=158), HTML(value='')))"
      ]
     },
     "metadata": {},
     "output_type": "display_data"
    },
    {
     "data": {
      "application/vnd.jupyter.widget-view+json": {
       "model_id": "ea618c0b83d741b48c25fbef47e3484a",
       "version_major": 2,
       "version_minor": 0
      },
      "text/plain": [
       "HBox(children=(IntProgress(value=0, max=9), HTML(value='')))"
      ]
     },
     "metadata": {},
     "output_type": "display_data"
    },
    {
     "name": "stdout",
     "output_type": "stream",
     "text": [
      "Epoch: 40 | Total Loss: 354.82 | Uncertainty Ratio: 2.33\n"
     ]
    },
    {
     "data": {
      "application/vnd.jupyter.widget-view+json": {
       "model_id": "83f34bfc1b59470ca93e842910cc7900",
       "version_major": 2,
       "version_minor": 0
      },
      "text/plain": [
       "HBox(children=(IntProgress(value=0, max=158), HTML(value='')))"
      ]
     },
     "metadata": {},
     "output_type": "display_data"
    },
    {
     "data": {
      "application/vnd.jupyter.widget-view+json": {
       "model_id": "501704a74a2548fbbad06cc3778a4dd1",
       "version_major": 2,
       "version_minor": 0
      },
      "text/plain": [
       "HBox(children=(IntProgress(value=0, max=9), HTML(value='')))"
      ]
     },
     "metadata": {},
     "output_type": "display_data"
    },
    {
     "name": "stdout",
     "output_type": "stream",
     "text": [
      "Epoch: 41 | Total Loss: 354.22 | Uncertainty Ratio: 2.54\n"
     ]
    },
    {
     "data": {
      "application/vnd.jupyter.widget-view+json": {
       "model_id": "3dfd218e3a8e4f2db600c29d6012e0db",
       "version_major": 2,
       "version_minor": 0
      },
      "text/plain": [
       "HBox(children=(IntProgress(value=0, max=158), HTML(value='')))"
      ]
     },
     "metadata": {},
     "output_type": "display_data"
    },
    {
     "data": {
      "application/vnd.jupyter.widget-view+json": {
       "model_id": "2c4f3414c19f4258ba25b6531fcdc149",
       "version_major": 2,
       "version_minor": 0
      },
      "text/plain": [
       "HBox(children=(IntProgress(value=0, max=9), HTML(value='')))"
      ]
     },
     "metadata": {},
     "output_type": "display_data"
    },
    {
     "name": "stdout",
     "output_type": "stream",
     "text": [
      "Epoch: 42 | Total Loss: 351.59 | Uncertainty Ratio: 2.44\n"
     ]
    },
    {
     "data": {
      "application/vnd.jupyter.widget-view+json": {
       "model_id": "292c3338b587487cb26079c3945f7f3d",
       "version_major": 2,
       "version_minor": 0
      },
      "text/plain": [
       "HBox(children=(IntProgress(value=0, max=158), HTML(value='')))"
      ]
     },
     "metadata": {},
     "output_type": "display_data"
    },
    {
     "data": {
      "application/vnd.jupyter.widget-view+json": {
       "model_id": "0756dd92f00d4f3c99bd007a0fa3f92f",
       "version_major": 2,
       "version_minor": 0
      },
      "text/plain": [
       "HBox(children=(IntProgress(value=0, max=9), HTML(value='')))"
      ]
     },
     "metadata": {},
     "output_type": "display_data"
    },
    {
     "name": "stdout",
     "output_type": "stream",
     "text": [
      "Epoch: 43 | Total Loss: 354.63 | Uncertainty Ratio: 2.57\n"
     ]
    },
    {
     "data": {
      "application/vnd.jupyter.widget-view+json": {
       "model_id": "2e69bc55fc9345189fb3b4605609f912",
       "version_major": 2,
       "version_minor": 0
      },
      "text/plain": [
       "HBox(children=(IntProgress(value=0, max=158), HTML(value='')))"
      ]
     },
     "metadata": {},
     "output_type": "display_data"
    },
    {
     "data": {
      "application/vnd.jupyter.widget-view+json": {
       "model_id": "726884501e1449b48a2db87ab580230a",
       "version_major": 2,
       "version_minor": 0
      },
      "text/plain": [
       "HBox(children=(IntProgress(value=0, max=9), HTML(value='')))"
      ]
     },
     "metadata": {},
     "output_type": "display_data"
    },
    {
     "name": "stdout",
     "output_type": "stream",
     "text": [
      "Epoch: 44 | Total Loss: 353.05 | Uncertainty Ratio: 2.58\n"
     ]
    },
    {
     "data": {
      "application/vnd.jupyter.widget-view+json": {
       "model_id": "1091d06f91874a529a802967b5779b82",
       "version_major": 2,
       "version_minor": 0
      },
      "text/plain": [
       "HBox(children=(IntProgress(value=0, max=158), HTML(value='')))"
      ]
     },
     "metadata": {},
     "output_type": "display_data"
    },
    {
     "data": {
      "application/vnd.jupyter.widget-view+json": {
       "model_id": "c3e85452fd5b4ed18566638ac31460aa",
       "version_major": 2,
       "version_minor": 0
      },
      "text/plain": [
       "HBox(children=(IntProgress(value=0, max=9), HTML(value='')))"
      ]
     },
     "metadata": {},
     "output_type": "display_data"
    },
    {
     "name": "stdout",
     "output_type": "stream",
     "text": [
      "Epoch: 45 | Total Loss: 351.91 | Uncertainty Ratio: 2.65\n"
     ]
    },
    {
     "data": {
      "application/vnd.jupyter.widget-view+json": {
       "model_id": "1b53b06fce26442cbbd8e1fb33716655",
       "version_major": 2,
       "version_minor": 0
      },
      "text/plain": [
       "HBox(children=(IntProgress(value=0, max=158), HTML(value='')))"
      ]
     },
     "metadata": {},
     "output_type": "display_data"
    },
    {
     "data": {
      "application/vnd.jupyter.widget-view+json": {
       "model_id": "fb8d4293217c4d6ea0f32e5b47b0880d",
       "version_major": 2,
       "version_minor": 0
      },
      "text/plain": [
       "HBox(children=(IntProgress(value=0, max=9), HTML(value='')))"
      ]
     },
     "metadata": {},
     "output_type": "display_data"
    },
    {
     "name": "stdout",
     "output_type": "stream",
     "text": [
      "Epoch: 46 | Total Loss: 353.51 | Uncertainty Ratio: 2.34\n"
     ]
    },
    {
     "data": {
      "application/vnd.jupyter.widget-view+json": {
       "model_id": "e3fd362a9f7c4b1d87179deda4cdc1ae",
       "version_major": 2,
       "version_minor": 0
      },
      "text/plain": [
       "HBox(children=(IntProgress(value=0, max=158), HTML(value='')))"
      ]
     },
     "metadata": {},
     "output_type": "display_data"
    },
    {
     "data": {
      "application/vnd.jupyter.widget-view+json": {
       "model_id": "b88eb153756b4471bcb833ebc42fb424",
       "version_major": 2,
       "version_minor": 0
      },
      "text/plain": [
       "HBox(children=(IntProgress(value=0, max=9), HTML(value='')))"
      ]
     },
     "metadata": {},
     "output_type": "display_data"
    },
    {
     "name": "stdout",
     "output_type": "stream",
     "text": [
      "Epoch: 47 | Total Loss: 350.06 | Uncertainty Ratio: 2.54\n"
     ]
    },
    {
     "data": {
      "application/vnd.jupyter.widget-view+json": {
       "model_id": "2330cd40690c43feaac6ea0d7228fbe3",
       "version_major": 2,
       "version_minor": 0
      },
      "text/plain": [
       "HBox(children=(IntProgress(value=0, max=158), HTML(value='')))"
      ]
     },
     "metadata": {},
     "output_type": "display_data"
    },
    {
     "data": {
      "application/vnd.jupyter.widget-view+json": {
       "model_id": "e32f7ce5812a4f05b45bd43087622f34",
       "version_major": 2,
       "version_minor": 0
      },
      "text/plain": [
       "HBox(children=(IntProgress(value=0, max=9), HTML(value='')))"
      ]
     },
     "metadata": {},
     "output_type": "display_data"
    },
    {
     "name": "stdout",
     "output_type": "stream",
     "text": [
      "Epoch: 48 | Total Loss: 351.13 | Uncertainty Ratio: 2.54\n"
     ]
    },
    {
     "data": {
      "application/vnd.jupyter.widget-view+json": {
       "model_id": "2aef07bee3db412a8f0dc37369b81e2d",
       "version_major": 2,
       "version_minor": 0
      },
      "text/plain": [
       "HBox(children=(IntProgress(value=0, max=158), HTML(value='')))"
      ]
     },
     "metadata": {},
     "output_type": "display_data"
    },
    {
     "data": {
      "application/vnd.jupyter.widget-view+json": {
       "model_id": "16b0070907d14c59bf607ee2f4ad51fb",
       "version_major": 2,
       "version_minor": 0
      },
      "text/plain": [
       "HBox(children=(IntProgress(value=0, max=9), HTML(value='')))"
      ]
     },
     "metadata": {},
     "output_type": "display_data"
    },
    {
     "name": "stdout",
     "output_type": "stream",
     "text": [
      "Epoch: 49 | Total Loss: 349.89 | Uncertainty Ratio: 2.52\n"
     ]
    },
    {
     "data": {
      "application/vnd.jupyter.widget-view+json": {
       "model_id": "8320009115af49d39a2ca2b2da0adc9f",
       "version_major": 2,
       "version_minor": 0
      },
      "text/plain": [
       "HBox(children=(IntProgress(value=0, max=158), HTML(value='')))"
      ]
     },
     "metadata": {},
     "output_type": "display_data"
    },
    {
     "data": {
      "application/vnd.jupyter.widget-view+json": {
       "model_id": "7e8f1e99c4c34778973e08610fbc6bb7",
       "version_major": 2,
       "version_minor": 0
      },
      "text/plain": [
       "HBox(children=(IntProgress(value=0, max=9), HTML(value='')))"
      ]
     },
     "metadata": {},
     "output_type": "display_data"
    },
    {
     "name": "stdout",
     "output_type": "stream",
     "text": [
      "Epoch: 50 | Total Loss: 349.46 | Uncertainty Ratio: 2.51\n"
     ]
    },
    {
     "data": {
      "application/vnd.jupyter.widget-view+json": {
       "model_id": "df7b96ff5be945949843b0c239084fcb",
       "version_major": 2,
       "version_minor": 0
      },
      "text/plain": [
       "HBox(children=(IntProgress(value=0, max=158), HTML(value='')))"
      ]
     },
     "metadata": {},
     "output_type": "display_data"
    },
    {
     "data": {
      "application/vnd.jupyter.widget-view+json": {
       "model_id": "a2febe751ea342a492159f4fcf08f92b",
       "version_major": 2,
       "version_minor": 0
      },
      "text/plain": [
       "HBox(children=(IntProgress(value=0, max=9), HTML(value='')))"
      ]
     },
     "metadata": {},
     "output_type": "display_data"
    },
    {
     "name": "stdout",
     "output_type": "stream",
     "text": [
      "Epoch: 51 | Total Loss: 348.05 | Uncertainty Ratio: 2.57\n"
     ]
    },
    {
     "data": {
      "application/vnd.jupyter.widget-view+json": {
       "model_id": "3333c336e24342a588107dfa9dc0e81c",
       "version_major": 2,
       "version_minor": 0
      },
      "text/plain": [
       "HBox(children=(IntProgress(value=0, max=158), HTML(value='')))"
      ]
     },
     "metadata": {},
     "output_type": "display_data"
    },
    {
     "data": {
      "application/vnd.jupyter.widget-view+json": {
       "model_id": "ad01b1ff885e4f62ba9a8c37056eb58b",
       "version_major": 2,
       "version_minor": 0
      },
      "text/plain": [
       "HBox(children=(IntProgress(value=0, max=9), HTML(value='')))"
      ]
     },
     "metadata": {},
     "output_type": "display_data"
    },
    {
     "name": "stdout",
     "output_type": "stream",
     "text": [
      "Epoch: 52 | Total Loss: 347.52 | Uncertainty Ratio: 2.64\n"
     ]
    },
    {
     "data": {
      "application/vnd.jupyter.widget-view+json": {
       "model_id": "bad9cbb618dc48d99fa9e45748079f7c",
       "version_major": 2,
       "version_minor": 0
      },
      "text/plain": [
       "HBox(children=(IntProgress(value=0, max=158), HTML(value='')))"
      ]
     },
     "metadata": {},
     "output_type": "display_data"
    },
    {
     "data": {
      "application/vnd.jupyter.widget-view+json": {
       "model_id": "baf9e0d59c8943389e5b06a0d58c0e9c",
       "version_major": 2,
       "version_minor": 0
      },
      "text/plain": [
       "HBox(children=(IntProgress(value=0, max=9), HTML(value='')))"
      ]
     },
     "metadata": {},
     "output_type": "display_data"
    },
    {
     "name": "stdout",
     "output_type": "stream",
     "text": [
      "Epoch: 53 | Total Loss: 347.84 | Uncertainty Ratio: 2.62\n"
     ]
    },
    {
     "data": {
      "application/vnd.jupyter.widget-view+json": {
       "model_id": "77cd54ae5c7f414097f34cfb9176460b",
       "version_major": 2,
       "version_minor": 0
      },
      "text/plain": [
       "HBox(children=(IntProgress(value=0, max=158), HTML(value='')))"
      ]
     },
     "metadata": {},
     "output_type": "display_data"
    },
    {
     "data": {
      "application/vnd.jupyter.widget-view+json": {
       "model_id": "52c3adca61cf4c58b6e366c40436413f",
       "version_major": 2,
       "version_minor": 0
      },
      "text/plain": [
       "HBox(children=(IntProgress(value=0, max=9), HTML(value='')))"
      ]
     },
     "metadata": {},
     "output_type": "display_data"
    },
    {
     "name": "stdout",
     "output_type": "stream",
     "text": [
      "Epoch: 54 | Total Loss: 344.55 | Uncertainty Ratio: 2.5\n"
     ]
    },
    {
     "data": {
      "application/vnd.jupyter.widget-view+json": {
       "model_id": "931a492d557c438bb1f4cf68610574f1",
       "version_major": 2,
       "version_minor": 0
      },
      "text/plain": [
       "HBox(children=(IntProgress(value=0, max=158), HTML(value='')))"
      ]
     },
     "metadata": {},
     "output_type": "display_data"
    },
    {
     "data": {
      "application/vnd.jupyter.widget-view+json": {
       "model_id": "e613caf49dbc418f83395e00e9fd836e",
       "version_major": 2,
       "version_minor": 0
      },
      "text/plain": [
       "HBox(children=(IntProgress(value=0, max=9), HTML(value='')))"
      ]
     },
     "metadata": {},
     "output_type": "display_data"
    },
    {
     "name": "stdout",
     "output_type": "stream",
     "text": [
      "Epoch: 55 | Total Loss: 344.17 | Uncertainty Ratio: 2.38\n"
     ]
    },
    {
     "data": {
      "application/vnd.jupyter.widget-view+json": {
       "model_id": "c2cc421ba295478eb04de7b0f9fb663f",
       "version_major": 2,
       "version_minor": 0
      },
      "text/plain": [
       "HBox(children=(IntProgress(value=0, max=158), HTML(value='')))"
      ]
     },
     "metadata": {},
     "output_type": "display_data"
    },
    {
     "data": {
      "application/vnd.jupyter.widget-view+json": {
       "model_id": "ef66b8e787cb41ea8dad13387541598d",
       "version_major": 2,
       "version_minor": 0
      },
      "text/plain": [
       "HBox(children=(IntProgress(value=0, max=9), HTML(value='')))"
      ]
     },
     "metadata": {},
     "output_type": "display_data"
    },
    {
     "name": "stdout",
     "output_type": "stream",
     "text": [
      "Epoch: 56 | Total Loss: 345.51 | Uncertainty Ratio: 2.69\n"
     ]
    },
    {
     "data": {
      "application/vnd.jupyter.widget-view+json": {
       "model_id": "6f21b74c9b7d4cbfadcbe9d8f30a02e4",
       "version_major": 2,
       "version_minor": 0
      },
      "text/plain": [
       "HBox(children=(IntProgress(value=0, max=158), HTML(value='')))"
      ]
     },
     "metadata": {},
     "output_type": "display_data"
    },
    {
     "data": {
      "application/vnd.jupyter.widget-view+json": {
       "model_id": "51acd41762d94a629a4ef0dcc0f53397",
       "version_major": 2,
       "version_minor": 0
      },
      "text/plain": [
       "HBox(children=(IntProgress(value=0, max=9), HTML(value='')))"
      ]
     },
     "metadata": {},
     "output_type": "display_data"
    },
    {
     "name": "stdout",
     "output_type": "stream",
     "text": [
      "Epoch: 57 | Total Loss: 349.79 | Uncertainty Ratio: 2.45\n"
     ]
    },
    {
     "data": {
      "application/vnd.jupyter.widget-view+json": {
       "model_id": "e6d5a0509586487c83aa2fd45cf6af10",
       "version_major": 2,
       "version_minor": 0
      },
      "text/plain": [
       "HBox(children=(IntProgress(value=0, max=158), HTML(value='')))"
      ]
     },
     "metadata": {},
     "output_type": "display_data"
    },
    {
     "data": {
      "application/vnd.jupyter.widget-view+json": {
       "model_id": "ca4622c4dd66401789ae2fbcbcfb310a",
       "version_major": 2,
       "version_minor": 0
      },
      "text/plain": [
       "HBox(children=(IntProgress(value=0, max=9), HTML(value='')))"
      ]
     },
     "metadata": {},
     "output_type": "display_data"
    },
    {
     "name": "stdout",
     "output_type": "stream",
     "text": [
      "Epoch: 58 | Total Loss: 348.96 | Uncertainty Ratio: 2.28\n"
     ]
    },
    {
     "data": {
      "application/vnd.jupyter.widget-view+json": {
       "model_id": "fc9c97f703504c9eaf13b5da740aacb2",
       "version_major": 2,
       "version_minor": 0
      },
      "text/plain": [
       "HBox(children=(IntProgress(value=0, max=158), HTML(value='')))"
      ]
     },
     "metadata": {},
     "output_type": "display_data"
    },
    {
     "data": {
      "application/vnd.jupyter.widget-view+json": {
       "model_id": "955286e508ea407e8fa7474a1b9af2c3",
       "version_major": 2,
       "version_minor": 0
      },
      "text/plain": [
       "HBox(children=(IntProgress(value=0, max=9), HTML(value='')))"
      ]
     },
     "metadata": {},
     "output_type": "display_data"
    },
    {
     "name": "stdout",
     "output_type": "stream",
     "text": [
      "Epoch: 59 | Total Loss: 353.12 | Uncertainty Ratio: 2.27\n"
     ]
    },
    {
     "data": {
      "application/vnd.jupyter.widget-view+json": {
       "model_id": "a199706575934ff99ea192a94a49e0f1",
       "version_major": 2,
       "version_minor": 0
      },
      "text/plain": [
       "HBox(children=(IntProgress(value=0, max=158), HTML(value='')))"
      ]
     },
     "metadata": {},
     "output_type": "display_data"
    },
    {
     "data": {
      "application/vnd.jupyter.widget-view+json": {
       "model_id": "2e991af38d2a4f3ca639f92cd0b54c94",
       "version_major": 2,
       "version_minor": 0
      },
      "text/plain": [
       "HBox(children=(IntProgress(value=0, max=9), HTML(value='')))"
      ]
     },
     "metadata": {},
     "output_type": "display_data"
    },
    {
     "name": "stdout",
     "output_type": "stream",
     "text": [
      "Epoch: 60 | Total Loss: 343.74 | Uncertainty Ratio: 2.51\n"
     ]
    },
    {
     "data": {
      "application/vnd.jupyter.widget-view+json": {
       "model_id": "a043da1d4592459bb8effc409393dbcb",
       "version_major": 2,
       "version_minor": 0
      },
      "text/plain": [
       "HBox(children=(IntProgress(value=0, max=158), HTML(value='')))"
      ]
     },
     "metadata": {},
     "output_type": "display_data"
    },
    {
     "data": {
      "application/vnd.jupyter.widget-view+json": {
       "model_id": "f655300efb7648adb0e9c2eed6ff582b",
       "version_major": 2,
       "version_minor": 0
      },
      "text/plain": [
       "HBox(children=(IntProgress(value=0, max=9), HTML(value='')))"
      ]
     },
     "metadata": {},
     "output_type": "display_data"
    },
    {
     "name": "stdout",
     "output_type": "stream",
     "text": [
      "Epoch: 61 | Total Loss: 340.97 | Uncertainty Ratio: 2.41\n"
     ]
    },
    {
     "data": {
      "application/vnd.jupyter.widget-view+json": {
       "model_id": "e5a31458876b43768b7d0a3e140fe908",
       "version_major": 2,
       "version_minor": 0
      },
      "text/plain": [
       "HBox(children=(IntProgress(value=0, max=158), HTML(value='')))"
      ]
     },
     "metadata": {},
     "output_type": "display_data"
    },
    {
     "data": {
      "application/vnd.jupyter.widget-view+json": {
       "model_id": "5cd37b38f59745d09f5517e8b3ed2809",
       "version_major": 2,
       "version_minor": 0
      },
      "text/plain": [
       "HBox(children=(IntProgress(value=0, max=9), HTML(value='')))"
      ]
     },
     "metadata": {},
     "output_type": "display_data"
    },
    {
     "name": "stdout",
     "output_type": "stream",
     "text": [
      "Epoch: 62 | Total Loss: 343.34 | Uncertainty Ratio: 2.67\n"
     ]
    },
    {
     "data": {
      "application/vnd.jupyter.widget-view+json": {
       "model_id": "dca16e12f7bf4db49b1d9f9fbf8d30c4",
       "version_major": 2,
       "version_minor": 0
      },
      "text/plain": [
       "HBox(children=(IntProgress(value=0, max=158), HTML(value='')))"
      ]
     },
     "metadata": {},
     "output_type": "display_data"
    },
    {
     "data": {
      "application/vnd.jupyter.widget-view+json": {
       "model_id": "a125ca19dfb440c28ee47f1b0b82324e",
       "version_major": 2,
       "version_minor": 0
      },
      "text/plain": [
       "HBox(children=(IntProgress(value=0, max=9), HTML(value='')))"
      ]
     },
     "metadata": {},
     "output_type": "display_data"
    },
    {
     "name": "stdout",
     "output_type": "stream",
     "text": [
      "Epoch: 63 | Total Loss: 344.04 | Uncertainty Ratio: 2.58\n"
     ]
    },
    {
     "data": {
      "application/vnd.jupyter.widget-view+json": {
       "model_id": "8afc1e3a09db4da4bdeacda7158a8c0d",
       "version_major": 2,
       "version_minor": 0
      },
      "text/plain": [
       "HBox(children=(IntProgress(value=0, max=158), HTML(value='')))"
      ]
     },
     "metadata": {},
     "output_type": "display_data"
    },
    {
     "data": {
      "application/vnd.jupyter.widget-view+json": {
       "model_id": "3014727113a14f5fbce9a41c2820cda5",
       "version_major": 2,
       "version_minor": 0
      },
      "text/plain": [
       "HBox(children=(IntProgress(value=0, max=9), HTML(value='')))"
      ]
     },
     "metadata": {},
     "output_type": "display_data"
    },
    {
     "name": "stdout",
     "output_type": "stream",
     "text": [
      "Epoch: 64 | Total Loss: 340.89 | Uncertainty Ratio: 2.59\n"
     ]
    },
    {
     "data": {
      "application/vnd.jupyter.widget-view+json": {
       "model_id": "5d5e9e6213794c90b6d3eae704b90b3e",
       "version_major": 2,
       "version_minor": 0
      },
      "text/plain": [
       "HBox(children=(IntProgress(value=0, max=158), HTML(value='')))"
      ]
     },
     "metadata": {},
     "output_type": "display_data"
    },
    {
     "data": {
      "application/vnd.jupyter.widget-view+json": {
       "model_id": "f7da4a88fc50454191fe020db56fcc55",
       "version_major": 2,
       "version_minor": 0
      },
      "text/plain": [
       "HBox(children=(IntProgress(value=0, max=9), HTML(value='')))"
      ]
     },
     "metadata": {},
     "output_type": "display_data"
    },
    {
     "name": "stdout",
     "output_type": "stream",
     "text": [
      "Epoch: 65 | Total Loss: 349.02 | Uncertainty Ratio: 2.62\n"
     ]
    },
    {
     "data": {
      "application/vnd.jupyter.widget-view+json": {
       "model_id": "ee1c849fb10d4f20bdd312921ec0d541",
       "version_major": 2,
       "version_minor": 0
      },
      "text/plain": [
       "HBox(children=(IntProgress(value=0, max=158), HTML(value='')))"
      ]
     },
     "metadata": {},
     "output_type": "display_data"
    },
    {
     "data": {
      "application/vnd.jupyter.widget-view+json": {
       "model_id": "0b952aa05424458aa6ddaa8f3727c781",
       "version_major": 2,
       "version_minor": 0
      },
      "text/plain": [
       "HBox(children=(IntProgress(value=0, max=9), HTML(value='')))"
      ]
     },
     "metadata": {},
     "output_type": "display_data"
    },
    {
     "name": "stdout",
     "output_type": "stream",
     "text": [
      "Epoch: 66 | Total Loss: 339.43 | Uncertainty Ratio: 2.48\n"
     ]
    },
    {
     "data": {
      "application/vnd.jupyter.widget-view+json": {
       "model_id": "fcb5028a2f2e4a779fb386c11116ec44",
       "version_major": 2,
       "version_minor": 0
      },
      "text/plain": [
       "HBox(children=(IntProgress(value=0, max=158), HTML(value='')))"
      ]
     },
     "metadata": {},
     "output_type": "display_data"
    },
    {
     "data": {
      "application/vnd.jupyter.widget-view+json": {
       "model_id": "d329d6c45cd2441ea7dddc5ca844eb3f",
       "version_major": 2,
       "version_minor": 0
      },
      "text/plain": [
       "HBox(children=(IntProgress(value=0, max=9), HTML(value='')))"
      ]
     },
     "metadata": {},
     "output_type": "display_data"
    },
    {
     "name": "stdout",
     "output_type": "stream",
     "text": [
      "Epoch: 67 | Total Loss: 343.79 | Uncertainty Ratio: 2.59\n"
     ]
    },
    {
     "data": {
      "application/vnd.jupyter.widget-view+json": {
       "model_id": "fcb4907616d84e95ab6adfc3fa5e2d1b",
       "version_major": 2,
       "version_minor": 0
      },
      "text/plain": [
       "HBox(children=(IntProgress(value=0, max=158), HTML(value='')))"
      ]
     },
     "metadata": {},
     "output_type": "display_data"
    },
    {
     "data": {
      "application/vnd.jupyter.widget-view+json": {
       "model_id": "a5d5cded09e14ed1ab7b38930dc4d1e2",
       "version_major": 2,
       "version_minor": 0
      },
      "text/plain": [
       "HBox(children=(IntProgress(value=0, max=9), HTML(value='')))"
      ]
     },
     "metadata": {},
     "output_type": "display_data"
    },
    {
     "name": "stdout",
     "output_type": "stream",
     "text": [
      "Epoch: 68 | Total Loss: 339.96 | Uncertainty Ratio: 2.48\n"
     ]
    },
    {
     "data": {
      "application/vnd.jupyter.widget-view+json": {
       "model_id": "cc8fe522be6542299a31a8f79108cbf2",
       "version_major": 2,
       "version_minor": 0
      },
      "text/plain": [
       "HBox(children=(IntProgress(value=0, max=158), HTML(value='')))"
      ]
     },
     "metadata": {},
     "output_type": "display_data"
    },
    {
     "data": {
      "application/vnd.jupyter.widget-view+json": {
       "model_id": "b26f24451119458bbcb99ad34deb42ff",
       "version_major": 2,
       "version_minor": 0
      },
      "text/plain": [
       "HBox(children=(IntProgress(value=0, max=9), HTML(value='')))"
      ]
     },
     "metadata": {},
     "output_type": "display_data"
    },
    {
     "name": "stdout",
     "output_type": "stream",
     "text": [
      "Epoch: 69 | Total Loss: 341.71 | Uncertainty Ratio: 2.41\n"
     ]
    },
    {
     "data": {
      "application/vnd.jupyter.widget-view+json": {
       "model_id": "978dc0672632408e869e1fb0b062c2f8",
       "version_major": 2,
       "version_minor": 0
      },
      "text/plain": [
       "HBox(children=(IntProgress(value=0, max=158), HTML(value='')))"
      ]
     },
     "metadata": {},
     "output_type": "display_data"
    },
    {
     "data": {
      "application/vnd.jupyter.widget-view+json": {
       "model_id": "56a0770f029441be98d07d564bbe5042",
       "version_major": 2,
       "version_minor": 0
      },
      "text/plain": [
       "HBox(children=(IntProgress(value=0, max=9), HTML(value='')))"
      ]
     },
     "metadata": {},
     "output_type": "display_data"
    },
    {
     "name": "stdout",
     "output_type": "stream",
     "text": [
      "Epoch: 70 | Total Loss: 336.74 | Uncertainty Ratio: 2.38\n"
     ]
    },
    {
     "data": {
      "application/vnd.jupyter.widget-view+json": {
       "model_id": "05da69dc123d4bbaafab0cb22d3b8ec3",
       "version_major": 2,
       "version_minor": 0
      },
      "text/plain": [
       "HBox(children=(IntProgress(value=0, max=158), HTML(value='')))"
      ]
     },
     "metadata": {},
     "output_type": "display_data"
    },
    {
     "data": {
      "application/vnd.jupyter.widget-view+json": {
       "model_id": "37ee25d729aa4442818d504d9813e565",
       "version_major": 2,
       "version_minor": 0
      },
      "text/plain": [
       "HBox(children=(IntProgress(value=0, max=9), HTML(value='')))"
      ]
     },
     "metadata": {},
     "output_type": "display_data"
    },
    {
     "name": "stdout",
     "output_type": "stream",
     "text": [
      "Epoch: 71 | Total Loss: 340.73 | Uncertainty Ratio: 2.42\n"
     ]
    },
    {
     "data": {
      "application/vnd.jupyter.widget-view+json": {
       "model_id": "b344ee9bdcd946068ce65ff19a78777b",
       "version_major": 2,
       "version_minor": 0
      },
      "text/plain": [
       "HBox(children=(IntProgress(value=0, max=158), HTML(value='')))"
      ]
     },
     "metadata": {},
     "output_type": "display_data"
    },
    {
     "data": {
      "application/vnd.jupyter.widget-view+json": {
       "model_id": "b5f363d5e94e45f18eb20c6748025b3e",
       "version_major": 2,
       "version_minor": 0
      },
      "text/plain": [
       "HBox(children=(IntProgress(value=0, max=9), HTML(value='')))"
      ]
     },
     "metadata": {},
     "output_type": "display_data"
    },
    {
     "name": "stdout",
     "output_type": "stream",
     "text": [
      "Epoch: 72 | Total Loss: 338.12 | Uncertainty Ratio: 2.37\n"
     ]
    },
    {
     "data": {
      "application/vnd.jupyter.widget-view+json": {
       "model_id": "93c0f7761e094b6da8eed6add27cca07",
       "version_major": 2,
       "version_minor": 0
      },
      "text/plain": [
       "HBox(children=(IntProgress(value=0, max=158), HTML(value='')))"
      ]
     },
     "metadata": {},
     "output_type": "display_data"
    },
    {
     "data": {
      "application/vnd.jupyter.widget-view+json": {
       "model_id": "3d4476ef852a4ef0b4f3413a82658fdc",
       "version_major": 2,
       "version_minor": 0
      },
      "text/plain": [
       "HBox(children=(IntProgress(value=0, max=9), HTML(value='')))"
      ]
     },
     "metadata": {},
     "output_type": "display_data"
    },
    {
     "name": "stdout",
     "output_type": "stream",
     "text": [
      "Epoch: 73 | Total Loss: 336.67 | Uncertainty Ratio: 2.55\n"
     ]
    },
    {
     "data": {
      "application/vnd.jupyter.widget-view+json": {
       "model_id": "67b84d9b68ef4ba3b9b893b29d5587b3",
       "version_major": 2,
       "version_minor": 0
      },
      "text/plain": [
       "HBox(children=(IntProgress(value=0, max=158), HTML(value='')))"
      ]
     },
     "metadata": {},
     "output_type": "display_data"
    },
    {
     "data": {
      "application/vnd.jupyter.widget-view+json": {
       "model_id": "b4393ae3d2444b3c8469330ff8989f7f",
       "version_major": 2,
       "version_minor": 0
      },
      "text/plain": [
       "HBox(children=(IntProgress(value=0, max=9), HTML(value='')))"
      ]
     },
     "metadata": {},
     "output_type": "display_data"
    },
    {
     "name": "stdout",
     "output_type": "stream",
     "text": [
      "Epoch: 74 | Total Loss: 338.58 | Uncertainty Ratio: 2.5\n"
     ]
    },
    {
     "data": {
      "application/vnd.jupyter.widget-view+json": {
       "model_id": "306745a47e4849458b40f73eaa6802bb",
       "version_major": 2,
       "version_minor": 0
      },
      "text/plain": [
       "HBox(children=(IntProgress(value=0, max=158), HTML(value='')))"
      ]
     },
     "metadata": {},
     "output_type": "display_data"
    },
    {
     "data": {
      "application/vnd.jupyter.widget-view+json": {
       "model_id": "37dd5dcd06414335aff3a88717c62aef",
       "version_major": 2,
       "version_minor": 0
      },
      "text/plain": [
       "HBox(children=(IntProgress(value=0, max=9), HTML(value='')))"
      ]
     },
     "metadata": {},
     "output_type": "display_data"
    },
    {
     "name": "stdout",
     "output_type": "stream",
     "text": [
      "Epoch: 75 | Total Loss: 336.65 | Uncertainty Ratio: 2.49\n"
     ]
    },
    {
     "data": {
      "application/vnd.jupyter.widget-view+json": {
       "model_id": "6f66bbe88ae84172bb500a233624b777",
       "version_major": 2,
       "version_minor": 0
      },
      "text/plain": [
       "HBox(children=(IntProgress(value=0, max=158), HTML(value='')))"
      ]
     },
     "metadata": {},
     "output_type": "display_data"
    },
    {
     "data": {
      "application/vnd.jupyter.widget-view+json": {
       "model_id": "a8671f310185467d8d2606d5c331c1e6",
       "version_major": 2,
       "version_minor": 0
      },
      "text/plain": [
       "HBox(children=(IntProgress(value=0, max=9), HTML(value='')))"
      ]
     },
     "metadata": {},
     "output_type": "display_data"
    },
    {
     "name": "stdout",
     "output_type": "stream",
     "text": [
      "Epoch: 76 | Total Loss: 342.79 | Uncertainty Ratio: 2.74\n"
     ]
    },
    {
     "data": {
      "application/vnd.jupyter.widget-view+json": {
       "model_id": "1f3847bd45954b9e95866708c7427f5f",
       "version_major": 2,
       "version_minor": 0
      },
      "text/plain": [
       "HBox(children=(IntProgress(value=0, max=158), HTML(value='')))"
      ]
     },
     "metadata": {},
     "output_type": "display_data"
    },
    {
     "data": {
      "application/vnd.jupyter.widget-view+json": {
       "model_id": "20aa2d2119034f5f975a0138eec296bd",
       "version_major": 2,
       "version_minor": 0
      },
      "text/plain": [
       "HBox(children=(IntProgress(value=0, max=9), HTML(value='')))"
      ]
     },
     "metadata": {},
     "output_type": "display_data"
    },
    {
     "name": "stdout",
     "output_type": "stream",
     "text": [
      "Epoch: 77 | Total Loss: 336.37 | Uncertainty Ratio: 2.42\n"
     ]
    },
    {
     "data": {
      "application/vnd.jupyter.widget-view+json": {
       "model_id": "4f071a483b344e62a393ea1c5a6e5318",
       "version_major": 2,
       "version_minor": 0
      },
      "text/plain": [
       "HBox(children=(IntProgress(value=0, max=158), HTML(value='')))"
      ]
     },
     "metadata": {},
     "output_type": "display_data"
    },
    {
     "data": {
      "application/vnd.jupyter.widget-view+json": {
       "model_id": "235aaec328014731b75fe9278e219181",
       "version_major": 2,
       "version_minor": 0
      },
      "text/plain": [
       "HBox(children=(IntProgress(value=0, max=9), HTML(value='')))"
      ]
     },
     "metadata": {},
     "output_type": "display_data"
    },
    {
     "name": "stdout",
     "output_type": "stream",
     "text": [
      "Epoch: 78 | Total Loss: 336.53 | Uncertainty Ratio: 2.37\n"
     ]
    },
    {
     "data": {
      "application/vnd.jupyter.widget-view+json": {
       "model_id": "742beba65d594b7a8a29bcde393bddac",
       "version_major": 2,
       "version_minor": 0
      },
      "text/plain": [
       "HBox(children=(IntProgress(value=0, max=158), HTML(value='')))"
      ]
     },
     "metadata": {},
     "output_type": "display_data"
    },
    {
     "data": {
      "application/vnd.jupyter.widget-view+json": {
       "model_id": "4c1f8ed047a646ba9896662195df0911",
       "version_major": 2,
       "version_minor": 0
      },
      "text/plain": [
       "HBox(children=(IntProgress(value=0, max=9), HTML(value='')))"
      ]
     },
     "metadata": {},
     "output_type": "display_data"
    },
    {
     "name": "stdout",
     "output_type": "stream",
     "text": [
      "Epoch: 79 | Total Loss: 336.73 | Uncertainty Ratio: 2.37\n"
     ]
    },
    {
     "data": {
      "application/vnd.jupyter.widget-view+json": {
       "model_id": "04ee7088ce624a5e938b6d33e4248749",
       "version_major": 2,
       "version_minor": 0
      },
      "text/plain": [
       "HBox(children=(IntProgress(value=0, max=158), HTML(value='')))"
      ]
     },
     "metadata": {},
     "output_type": "display_data"
    },
    {
     "data": {
      "application/vnd.jupyter.widget-view+json": {
       "model_id": "196bf5cbbc5b4b2fa6a68afa1e6ab19e",
       "version_major": 2,
       "version_minor": 0
      },
      "text/plain": [
       "HBox(children=(IntProgress(value=0, max=9), HTML(value='')))"
      ]
     },
     "metadata": {},
     "output_type": "display_data"
    },
    {
     "name": "stdout",
     "output_type": "stream",
     "text": [
      "Epoch: 80 | Total Loss: 337.68 | Uncertainty Ratio: 2.48\n"
     ]
    },
    {
     "data": {
      "application/vnd.jupyter.widget-view+json": {
       "model_id": "7d509cd576474151ace38a6fab4fb353",
       "version_major": 2,
       "version_minor": 0
      },
      "text/plain": [
       "HBox(children=(IntProgress(value=0, max=158), HTML(value='')))"
      ]
     },
     "metadata": {},
     "output_type": "display_data"
    },
    {
     "data": {
      "application/vnd.jupyter.widget-view+json": {
       "model_id": "df84a2bd17b045bb85731c233f6ef7da",
       "version_major": 2,
       "version_minor": 0
      },
      "text/plain": [
       "HBox(children=(IntProgress(value=0, max=9), HTML(value='')))"
      ]
     },
     "metadata": {},
     "output_type": "display_data"
    },
    {
     "name": "stdout",
     "output_type": "stream",
     "text": [
      "Epoch: 81 | Total Loss: 345.33 | Uncertainty Ratio: 2.79\n"
     ]
    },
    {
     "data": {
      "application/vnd.jupyter.widget-view+json": {
       "model_id": "8d6fba11387f492fb956396709027568",
       "version_major": 2,
       "version_minor": 0
      },
      "text/plain": [
       "HBox(children=(IntProgress(value=0, max=158), HTML(value='')))"
      ]
     },
     "metadata": {},
     "output_type": "display_data"
    },
    {
     "data": {
      "application/vnd.jupyter.widget-view+json": {
       "model_id": "abc6c0d4d17a43a2a91bfd5e91e6a267",
       "version_major": 2,
       "version_minor": 0
      },
      "text/plain": [
       "HBox(children=(IntProgress(value=0, max=9), HTML(value='')))"
      ]
     },
     "metadata": {},
     "output_type": "display_data"
    },
    {
     "name": "stdout",
     "output_type": "stream",
     "text": [
      "Epoch: 82 | Total Loss: 336.26 | Uncertainty Ratio: 2.44\n"
     ]
    },
    {
     "data": {
      "application/vnd.jupyter.widget-view+json": {
       "model_id": "b48602b7171749acb155beae66a92f70",
       "version_major": 2,
       "version_minor": 0
      },
      "text/plain": [
       "HBox(children=(IntProgress(value=0, max=158), HTML(value='')))"
      ]
     },
     "metadata": {},
     "output_type": "display_data"
    },
    {
     "data": {
      "application/vnd.jupyter.widget-view+json": {
       "model_id": "5d7140cc6c2c46ef807e665f7a3c1bfc",
       "version_major": 2,
       "version_minor": 0
      },
      "text/plain": [
       "HBox(children=(IntProgress(value=0, max=9), HTML(value='')))"
      ]
     },
     "metadata": {},
     "output_type": "display_data"
    },
    {
     "name": "stdout",
     "output_type": "stream",
     "text": [
      "Epoch: 83 | Total Loss: 337.23 | Uncertainty Ratio: 2.27\n"
     ]
    },
    {
     "data": {
      "application/vnd.jupyter.widget-view+json": {
       "model_id": "58345dabff4c43c28f042957ceefa152",
       "version_major": 2,
       "version_minor": 0
      },
      "text/plain": [
       "HBox(children=(IntProgress(value=0, max=158), HTML(value='')))"
      ]
     },
     "metadata": {},
     "output_type": "display_data"
    },
    {
     "data": {
      "application/vnd.jupyter.widget-view+json": {
       "model_id": "1819a0b6da6e4ca282f9e9e857f5de46",
       "version_major": 2,
       "version_minor": 0
      },
      "text/plain": [
       "HBox(children=(IntProgress(value=0, max=9), HTML(value='')))"
      ]
     },
     "metadata": {},
     "output_type": "display_data"
    },
    {
     "name": "stdout",
     "output_type": "stream",
     "text": [
      "Epoch: 84 | Total Loss: 336.15 | Uncertainty Ratio: 2.5\n"
     ]
    },
    {
     "data": {
      "application/vnd.jupyter.widget-view+json": {
       "model_id": "66c3572f95bb415d9f0d19734587f90c",
       "version_major": 2,
       "version_minor": 0
      },
      "text/plain": [
       "HBox(children=(IntProgress(value=0, max=158), HTML(value='')))"
      ]
     },
     "metadata": {},
     "output_type": "display_data"
    },
    {
     "data": {
      "application/vnd.jupyter.widget-view+json": {
       "model_id": "0aa48a44203d4b85ae2802bf7f4836ee",
       "version_major": 2,
       "version_minor": 0
      },
      "text/plain": [
       "HBox(children=(IntProgress(value=0, max=9), HTML(value='')))"
      ]
     },
     "metadata": {},
     "output_type": "display_data"
    },
    {
     "name": "stdout",
     "output_type": "stream",
     "text": [
      "Epoch: 85 | Total Loss: 334.17 | Uncertainty Ratio: 2.45\n"
     ]
    },
    {
     "data": {
      "application/vnd.jupyter.widget-view+json": {
       "model_id": "fee9cb82bc034d92820ed1397ff7546a",
       "version_major": 2,
       "version_minor": 0
      },
      "text/plain": [
       "HBox(children=(IntProgress(value=0, max=158), HTML(value='')))"
      ]
     },
     "metadata": {},
     "output_type": "display_data"
    },
    {
     "data": {
      "application/vnd.jupyter.widget-view+json": {
       "model_id": "9f35fde585af4cafa0dc7a6f83de00e8",
       "version_major": 2,
       "version_minor": 0
      },
      "text/plain": [
       "HBox(children=(IntProgress(value=0, max=9), HTML(value='')))"
      ]
     },
     "metadata": {},
     "output_type": "display_data"
    },
    {
     "name": "stdout",
     "output_type": "stream",
     "text": [
      "Epoch: 86 | Total Loss: 335.1 | Uncertainty Ratio: 2.43\n"
     ]
    },
    {
     "data": {
      "application/vnd.jupyter.widget-view+json": {
       "model_id": "4c17cb4d8e36479ab256cecf04c193c6",
       "version_major": 2,
       "version_minor": 0
      },
      "text/plain": [
       "HBox(children=(IntProgress(value=0, max=158), HTML(value='')))"
      ]
     },
     "metadata": {},
     "output_type": "display_data"
    },
    {
     "data": {
      "application/vnd.jupyter.widget-view+json": {
       "model_id": "c04b2c37ac6b449fa01c5b0a545e05dd",
       "version_major": 2,
       "version_minor": 0
      },
      "text/plain": [
       "HBox(children=(IntProgress(value=0, max=9), HTML(value='')))"
      ]
     },
     "metadata": {},
     "output_type": "display_data"
    },
    {
     "name": "stdout",
     "output_type": "stream",
     "text": [
      "Epoch: 87 | Total Loss: 334.08 | Uncertainty Ratio: 2.37\n"
     ]
    },
    {
     "data": {
      "application/vnd.jupyter.widget-view+json": {
       "model_id": "dd58bfa74e25416c91649362b65ebd2b",
       "version_major": 2,
       "version_minor": 0
      },
      "text/plain": [
       "HBox(children=(IntProgress(value=0, max=158), HTML(value='')))"
      ]
     },
     "metadata": {},
     "output_type": "display_data"
    },
    {
     "data": {
      "application/vnd.jupyter.widget-view+json": {
       "model_id": "e3fd2e84de3045f898e4476fe77119ab",
       "version_major": 2,
       "version_minor": 0
      },
      "text/plain": [
       "HBox(children=(IntProgress(value=0, max=9), HTML(value='')))"
      ]
     },
     "metadata": {},
     "output_type": "display_data"
    },
    {
     "name": "stdout",
     "output_type": "stream",
     "text": [
      "Epoch: 88 | Total Loss: 339.13 | Uncertainty Ratio: 2.63\n"
     ]
    },
    {
     "data": {
      "application/vnd.jupyter.widget-view+json": {
       "model_id": "a6405f37fed440c1a664a6b411485bc6",
       "version_major": 2,
       "version_minor": 0
      },
      "text/plain": [
       "HBox(children=(IntProgress(value=0, max=158), HTML(value='')))"
      ]
     },
     "metadata": {},
     "output_type": "display_data"
    },
    {
     "data": {
      "application/vnd.jupyter.widget-view+json": {
       "model_id": "79b108dd39b34aa8b28f70406f5ed7ec",
       "version_major": 2,
       "version_minor": 0
      },
      "text/plain": [
       "HBox(children=(IntProgress(value=0, max=9), HTML(value='')))"
      ]
     },
     "metadata": {},
     "output_type": "display_data"
    },
    {
     "name": "stdout",
     "output_type": "stream",
     "text": [
      "Epoch: 89 | Total Loss: 332.86 | Uncertainty Ratio: 2.37\n"
     ]
    },
    {
     "data": {
      "application/vnd.jupyter.widget-view+json": {
       "model_id": "df53f3557bad45c9980417b2cf202186",
       "version_major": 2,
       "version_minor": 0
      },
      "text/plain": [
       "HBox(children=(IntProgress(value=0, max=158), HTML(value='')))"
      ]
     },
     "metadata": {},
     "output_type": "display_data"
    },
    {
     "data": {
      "application/vnd.jupyter.widget-view+json": {
       "model_id": "8b4c2fb844d24e8cb923aa6718cf2543",
       "version_major": 2,
       "version_minor": 0
      },
      "text/plain": [
       "HBox(children=(IntProgress(value=0, max=9), HTML(value='')))"
      ]
     },
     "metadata": {},
     "output_type": "display_data"
    },
    {
     "name": "stdout",
     "output_type": "stream",
     "text": [
      "Epoch: 90 | Total Loss: 332.14 | Uncertainty Ratio: 2.43\n"
     ]
    },
    {
     "data": {
      "application/vnd.jupyter.widget-view+json": {
       "model_id": "4aeb53b55cd34b80a8001d58f67ce2f8",
       "version_major": 2,
       "version_minor": 0
      },
      "text/plain": [
       "HBox(children=(IntProgress(value=0, max=158), HTML(value='')))"
      ]
     },
     "metadata": {},
     "output_type": "display_data"
    },
    {
     "data": {
      "application/vnd.jupyter.widget-view+json": {
       "model_id": "03df5d643ab6478e8bea6ef87892a428",
       "version_major": 2,
       "version_minor": 0
      },
      "text/plain": [
       "HBox(children=(IntProgress(value=0, max=9), HTML(value='')))"
      ]
     },
     "metadata": {},
     "output_type": "display_data"
    },
    {
     "name": "stdout",
     "output_type": "stream",
     "text": [
      "Epoch: 91 | Total Loss: 331.7 | Uncertainty Ratio: 2.33\n"
     ]
    },
    {
     "data": {
      "application/vnd.jupyter.widget-view+json": {
       "model_id": "58e90b51fb3b45e89555666a703f2200",
       "version_major": 2,
       "version_minor": 0
      },
      "text/plain": [
       "HBox(children=(IntProgress(value=0, max=158), HTML(value='')))"
      ]
     },
     "metadata": {},
     "output_type": "display_data"
    },
    {
     "data": {
      "application/vnd.jupyter.widget-view+json": {
       "model_id": "ef8f1a38324845529ed9151ddf5d0f0f",
       "version_major": 2,
       "version_minor": 0
      },
      "text/plain": [
       "HBox(children=(IntProgress(value=0, max=9), HTML(value='')))"
      ]
     },
     "metadata": {},
     "output_type": "display_data"
    },
    {
     "name": "stdout",
     "output_type": "stream",
     "text": [
      "Epoch: 92 | Total Loss: 331.75 | Uncertainty Ratio: 2.32\n"
     ]
    },
    {
     "data": {
      "application/vnd.jupyter.widget-view+json": {
       "model_id": "865518e80fc842bc8d030c164483e275",
       "version_major": 2,
       "version_minor": 0
      },
      "text/plain": [
       "HBox(children=(IntProgress(value=0, max=158), HTML(value='')))"
      ]
     },
     "metadata": {},
     "output_type": "display_data"
    },
    {
     "data": {
      "application/vnd.jupyter.widget-view+json": {
       "model_id": "d5c2121186af4e7c9df75abcef08f17f",
       "version_major": 2,
       "version_minor": 0
      },
      "text/plain": [
       "HBox(children=(IntProgress(value=0, max=9), HTML(value='')))"
      ]
     },
     "metadata": {},
     "output_type": "display_data"
    },
    {
     "name": "stdout",
     "output_type": "stream",
     "text": [
      "Epoch: 93 | Total Loss: 331.53 | Uncertainty Ratio: 2.45\n"
     ]
    },
    {
     "data": {
      "application/vnd.jupyter.widget-view+json": {
       "model_id": "9e76bb14753d4040855338cd4b8384bd",
       "version_major": 2,
       "version_minor": 0
      },
      "text/plain": [
       "HBox(children=(IntProgress(value=0, max=158), HTML(value='')))"
      ]
     },
     "metadata": {},
     "output_type": "display_data"
    },
    {
     "data": {
      "application/vnd.jupyter.widget-view+json": {
       "model_id": "0fbb4d22964544008b6991ca937c2ea7",
       "version_major": 2,
       "version_minor": 0
      },
      "text/plain": [
       "HBox(children=(IntProgress(value=0, max=9), HTML(value='')))"
      ]
     },
     "metadata": {},
     "output_type": "display_data"
    },
    {
     "name": "stdout",
     "output_type": "stream",
     "text": [
      "Epoch: 94 | Total Loss: 332.1 | Uncertainty Ratio: 2.38\n"
     ]
    },
    {
     "data": {
      "application/vnd.jupyter.widget-view+json": {
       "model_id": "1a6f47a70b2f4d3ab2dff4ba60b45855",
       "version_major": 2,
       "version_minor": 0
      },
      "text/plain": [
       "HBox(children=(IntProgress(value=0, max=158), HTML(value='')))"
      ]
     },
     "metadata": {},
     "output_type": "display_data"
    },
    {
     "data": {
      "application/vnd.jupyter.widget-view+json": {
       "model_id": "6423e47a16734dd583341e683061508a",
       "version_major": 2,
       "version_minor": 0
      },
      "text/plain": [
       "HBox(children=(IntProgress(value=0, max=9), HTML(value='')))"
      ]
     },
     "metadata": {},
     "output_type": "display_data"
    },
    {
     "name": "stdout",
     "output_type": "stream",
     "text": [
      "Epoch: 95 | Total Loss: 335.05 | Uncertainty Ratio: 2.5\n"
     ]
    },
    {
     "data": {
      "application/vnd.jupyter.widget-view+json": {
       "model_id": "677755b4890f411ea8c2b84fdcceccb0",
       "version_major": 2,
       "version_minor": 0
      },
      "text/plain": [
       "HBox(children=(IntProgress(value=0, max=158), HTML(value='')))"
      ]
     },
     "metadata": {},
     "output_type": "display_data"
    },
    {
     "data": {
      "application/vnd.jupyter.widget-view+json": {
       "model_id": "8dc3b5c96fd94df6940dbc2267f154e2",
       "version_major": 2,
       "version_minor": 0
      },
      "text/plain": [
       "HBox(children=(IntProgress(value=0, max=9), HTML(value='')))"
      ]
     },
     "metadata": {},
     "output_type": "display_data"
    },
    {
     "name": "stdout",
     "output_type": "stream",
     "text": [
      "Epoch: 96 | Total Loss: 330.85 | Uncertainty Ratio: 2.37\n"
     ]
    },
    {
     "data": {
      "application/vnd.jupyter.widget-view+json": {
       "model_id": "d7c3e62a444a42e283f33646cd178829",
       "version_major": 2,
       "version_minor": 0
      },
      "text/plain": [
       "HBox(children=(IntProgress(value=0, max=158), HTML(value='')))"
      ]
     },
     "metadata": {},
     "output_type": "display_data"
    },
    {
     "data": {
      "application/vnd.jupyter.widget-view+json": {
       "model_id": "10d4943355bd42d28a81e60f1499e872",
       "version_major": 2,
       "version_minor": 0
      },
      "text/plain": [
       "HBox(children=(IntProgress(value=0, max=9), HTML(value='')))"
      ]
     },
     "metadata": {},
     "output_type": "display_data"
    },
    {
     "name": "stdout",
     "output_type": "stream",
     "text": [
      "Epoch: 97 | Total Loss: 331.92 | Uncertainty Ratio: 2.34\n"
     ]
    },
    {
     "data": {
      "application/vnd.jupyter.widget-view+json": {
       "model_id": "30974861065d4847a0e01baca15fb569",
       "version_major": 2,
       "version_minor": 0
      },
      "text/plain": [
       "HBox(children=(IntProgress(value=0, max=158), HTML(value='')))"
      ]
     },
     "metadata": {},
     "output_type": "display_data"
    },
    {
     "data": {
      "application/vnd.jupyter.widget-view+json": {
       "model_id": "7cf55369cbad450bbd32b4c51d8aca65",
       "version_major": 2,
       "version_minor": 0
      },
      "text/plain": [
       "HBox(children=(IntProgress(value=0, max=9), HTML(value='')))"
      ]
     },
     "metadata": {},
     "output_type": "display_data"
    },
    {
     "name": "stdout",
     "output_type": "stream",
     "text": [
      "Epoch: 98 | Total Loss: 332.5 | Uncertainty Ratio: 2.17\n"
     ]
    },
    {
     "data": {
      "application/vnd.jupyter.widget-view+json": {
       "model_id": "10f3f473b36847d09e3c075edefc5994",
       "version_major": 2,
       "version_minor": 0
      },
      "text/plain": [
       "HBox(children=(IntProgress(value=0, max=158), HTML(value='')))"
      ]
     },
     "metadata": {},
     "output_type": "display_data"
    },
    {
     "data": {
      "application/vnd.jupyter.widget-view+json": {
       "model_id": "38f0dee1b74a4ca5998f2e3121c808d8",
       "version_major": 2,
       "version_minor": 0
      },
      "text/plain": [
       "HBox(children=(IntProgress(value=0, max=9), HTML(value='')))"
      ]
     },
     "metadata": {},
     "output_type": "display_data"
    },
    {
     "name": "stdout",
     "output_type": "stream",
     "text": [
      "Epoch: 99 | Total Loss: 332.14 | Uncertainty Ratio: 2.33\n"
     ]
    },
    {
     "data": {
      "application/vnd.jupyter.widget-view+json": {
       "model_id": "02a0fee0b1dd4cf6b9cca25f12a6d72d",
       "version_major": 2,
       "version_minor": 0
      },
      "text/plain": [
       "HBox(children=(IntProgress(value=0, max=158), HTML(value='')))"
      ]
     },
     "metadata": {},
     "output_type": "display_data"
    },
    {
     "data": {
      "application/vnd.jupyter.widget-view+json": {
       "model_id": "9b8317506fde4feca33f1e2c931610b2",
       "version_major": 2,
       "version_minor": 0
      },
      "text/plain": [
       "HBox(children=(IntProgress(value=0, max=9), HTML(value='')))"
      ]
     },
     "metadata": {},
     "output_type": "display_data"
    },
    {
     "name": "stdout",
     "output_type": "stream",
     "text": [
      "Epoch: 100 | Total Loss: 333.66 | Uncertainty Ratio: 2.44\n"
     ]
    },
    {
     "data": {
      "application/vnd.jupyter.widget-view+json": {
       "model_id": "d7eba354c2364f558e929fa9d4b38d1f",
       "version_major": 2,
       "version_minor": 0
      },
      "text/plain": [
       "HBox(children=(IntProgress(value=0, max=158), HTML(value='')))"
      ]
     },
     "metadata": {},
     "output_type": "display_data"
    },
    {
     "data": {
      "application/vnd.jupyter.widget-view+json": {
       "model_id": "a398b892b1a148babec70fd8671d368d",
       "version_major": 2,
       "version_minor": 0
      },
      "text/plain": [
       "HBox(children=(IntProgress(value=0, max=9), HTML(value='')))"
      ]
     },
     "metadata": {},
     "output_type": "display_data"
    },
    {
     "name": "stdout",
     "output_type": "stream",
     "text": [
      "Epoch: 101 | Total Loss: 330.06 | Uncertainty Ratio: 2.28\n"
     ]
    },
    {
     "data": {
      "application/vnd.jupyter.widget-view+json": {
       "model_id": "e7957889d9a64ea08e227a0cf2d4be56",
       "version_major": 2,
       "version_minor": 0
      },
      "text/plain": [
       "HBox(children=(IntProgress(value=0, max=158), HTML(value='')))"
      ]
     },
     "metadata": {},
     "output_type": "display_data"
    },
    {
     "data": {
      "application/vnd.jupyter.widget-view+json": {
       "model_id": "75e520f6e97d486699602ccfcbba99b5",
       "version_major": 2,
       "version_minor": 0
      },
      "text/plain": [
       "HBox(children=(IntProgress(value=0, max=9), HTML(value='')))"
      ]
     },
     "metadata": {},
     "output_type": "display_data"
    },
    {
     "name": "stdout",
     "output_type": "stream",
     "text": [
      "Epoch: 102 | Total Loss: 331.01 | Uncertainty Ratio: 2.33\n"
     ]
    },
    {
     "data": {
      "application/vnd.jupyter.widget-view+json": {
       "model_id": "f65ec6b40b7c4d488bfea41d9ad67f29",
       "version_major": 2,
       "version_minor": 0
      },
      "text/plain": [
       "HBox(children=(IntProgress(value=0, max=158), HTML(value='')))"
      ]
     },
     "metadata": {},
     "output_type": "display_data"
    },
    {
     "data": {
      "application/vnd.jupyter.widget-view+json": {
       "model_id": "785c0a3f396144b69d1395201230d5a4",
       "version_major": 2,
       "version_minor": 0
      },
      "text/plain": [
       "HBox(children=(IntProgress(value=0, max=9), HTML(value='')))"
      ]
     },
     "metadata": {},
     "output_type": "display_data"
    },
    {
     "name": "stdout",
     "output_type": "stream",
     "text": [
      "Epoch: 103 | Total Loss: 330.7 | Uncertainty Ratio: 2.39\n"
     ]
    },
    {
     "data": {
      "application/vnd.jupyter.widget-view+json": {
       "model_id": "8f621815f5c94bdabc5c7f48bd384604",
       "version_major": 2,
       "version_minor": 0
      },
      "text/plain": [
       "HBox(children=(IntProgress(value=0, max=158), HTML(value='')))"
      ]
     },
     "metadata": {},
     "output_type": "display_data"
    },
    {
     "data": {
      "application/vnd.jupyter.widget-view+json": {
       "model_id": "ff10d5cf0ae34333a9ddef9ef36ec583",
       "version_major": 2,
       "version_minor": 0
      },
      "text/plain": [
       "HBox(children=(IntProgress(value=0, max=9), HTML(value='')))"
      ]
     },
     "metadata": {},
     "output_type": "display_data"
    },
    {
     "name": "stdout",
     "output_type": "stream",
     "text": [
      "Epoch: 104 | Total Loss: 332.94 | Uncertainty Ratio: 2.59\n"
     ]
    },
    {
     "data": {
      "application/vnd.jupyter.widget-view+json": {
       "model_id": "6becb6f53f5a4bacac343da3b2cc50f7",
       "version_major": 2,
       "version_minor": 0
      },
      "text/plain": [
       "HBox(children=(IntProgress(value=0, max=158), HTML(value='')))"
      ]
     },
     "metadata": {},
     "output_type": "display_data"
    },
    {
     "data": {
      "application/vnd.jupyter.widget-view+json": {
       "model_id": "312d46678cf3486198af072a747d4e68",
       "version_major": 2,
       "version_minor": 0
      },
      "text/plain": [
       "HBox(children=(IntProgress(value=0, max=9), HTML(value='')))"
      ]
     },
     "metadata": {},
     "output_type": "display_data"
    },
    {
     "name": "stdout",
     "output_type": "stream",
     "text": [
      "Epoch: 105 | Total Loss: 331.11 | Uncertainty Ratio: 2.68\n"
     ]
    },
    {
     "data": {
      "application/vnd.jupyter.widget-view+json": {
       "model_id": "99737ab40a8642c099208076ed0a9354",
       "version_major": 2,
       "version_minor": 0
      },
      "text/plain": [
       "HBox(children=(IntProgress(value=0, max=158), HTML(value='')))"
      ]
     },
     "metadata": {},
     "output_type": "display_data"
    },
    {
     "data": {
      "application/vnd.jupyter.widget-view+json": {
       "model_id": "c1a6f4d47c9a446186b50a6f4d4ac481",
       "version_major": 2,
       "version_minor": 0
      },
      "text/plain": [
       "HBox(children=(IntProgress(value=0, max=9), HTML(value='')))"
      ]
     },
     "metadata": {},
     "output_type": "display_data"
    },
    {
     "name": "stdout",
     "output_type": "stream",
     "text": [
      "Epoch: 106 | Total Loss: 328.71 | Uncertainty Ratio: 2.43\n"
     ]
    },
    {
     "data": {
      "application/vnd.jupyter.widget-view+json": {
       "model_id": "342357a1dd314ade8f5ccd5ef0e114e6",
       "version_major": 2,
       "version_minor": 0
      },
      "text/plain": [
       "HBox(children=(IntProgress(value=0, max=158), HTML(value='')))"
      ]
     },
     "metadata": {},
     "output_type": "display_data"
    },
    {
     "data": {
      "application/vnd.jupyter.widget-view+json": {
       "model_id": "df08584646cc4e9dbe32eab071f2e2b4",
       "version_major": 2,
       "version_minor": 0
      },
      "text/plain": [
       "HBox(children=(IntProgress(value=0, max=9), HTML(value='')))"
      ]
     },
     "metadata": {},
     "output_type": "display_data"
    },
    {
     "name": "stdout",
     "output_type": "stream",
     "text": [
      "Epoch: 107 | Total Loss: 332.99 | Uncertainty Ratio: 2.59\n"
     ]
    },
    {
     "data": {
      "application/vnd.jupyter.widget-view+json": {
       "model_id": "b21b1ecfde6e4d0a8b9276235fd63f11",
       "version_major": 2,
       "version_minor": 0
      },
      "text/plain": [
       "HBox(children=(IntProgress(value=0, max=158), HTML(value='')))"
      ]
     },
     "metadata": {},
     "output_type": "display_data"
    },
    {
     "data": {
      "application/vnd.jupyter.widget-view+json": {
       "model_id": "080eb34e0b454df8a1db45ddc5ceff33",
       "version_major": 2,
       "version_minor": 0
      },
      "text/plain": [
       "HBox(children=(IntProgress(value=0, max=9), HTML(value='')))"
      ]
     },
     "metadata": {},
     "output_type": "display_data"
    },
    {
     "name": "stdout",
     "output_type": "stream",
     "text": [
      "Epoch: 108 | Total Loss: 326.79 | Uncertainty Ratio: 2.18\n"
     ]
    },
    {
     "data": {
      "application/vnd.jupyter.widget-view+json": {
       "model_id": "1c0cfc7df9144eb7a4e355fd94f846ae",
       "version_major": 2,
       "version_minor": 0
      },
      "text/plain": [
       "HBox(children=(IntProgress(value=0, max=158), HTML(value='')))"
      ]
     },
     "metadata": {},
     "output_type": "display_data"
    },
    {
     "data": {
      "application/vnd.jupyter.widget-view+json": {
       "model_id": "356a0f451ff444558b0972fe78d50d04",
       "version_major": 2,
       "version_minor": 0
      },
      "text/plain": [
       "HBox(children=(IntProgress(value=0, max=9), HTML(value='')))"
      ]
     },
     "metadata": {},
     "output_type": "display_data"
    },
    {
     "name": "stdout",
     "output_type": "stream",
     "text": [
      "Epoch: 109 | Total Loss: 329.38 | Uncertainty Ratio: 2.54\n"
     ]
    },
    {
     "data": {
      "application/vnd.jupyter.widget-view+json": {
       "model_id": "7170d75abb274f0cbd1cf3be2785e0c3",
       "version_major": 2,
       "version_minor": 0
      },
      "text/plain": [
       "HBox(children=(IntProgress(value=0, max=158), HTML(value='')))"
      ]
     },
     "metadata": {},
     "output_type": "display_data"
    },
    {
     "data": {
      "application/vnd.jupyter.widget-view+json": {
       "model_id": "aad010ad24eb4903ba4cd9d87a17ca66",
       "version_major": 2,
       "version_minor": 0
      },
      "text/plain": [
       "HBox(children=(IntProgress(value=0, max=9), HTML(value='')))"
      ]
     },
     "metadata": {},
     "output_type": "display_data"
    },
    {
     "name": "stdout",
     "output_type": "stream",
     "text": [
      "Epoch: 110 | Total Loss: 328.88 | Uncertainty Ratio: 2.29\n"
     ]
    },
    {
     "data": {
      "application/vnd.jupyter.widget-view+json": {
       "model_id": "d570e8d4cb4941f4b943fe92e46f565d",
       "version_major": 2,
       "version_minor": 0
      },
      "text/plain": [
       "HBox(children=(IntProgress(value=0, max=158), HTML(value='')))"
      ]
     },
     "metadata": {},
     "output_type": "display_data"
    },
    {
     "data": {
      "application/vnd.jupyter.widget-view+json": {
       "model_id": "02e39c6ad616453b9d03a27bda51409e",
       "version_major": 2,
       "version_minor": 0
      },
      "text/plain": [
       "HBox(children=(IntProgress(value=0, max=9), HTML(value='')))"
      ]
     },
     "metadata": {},
     "output_type": "display_data"
    },
    {
     "name": "stdout",
     "output_type": "stream",
     "text": [
      "Epoch: 111 | Total Loss: 328.66 | Uncertainty Ratio: 2.47\n"
     ]
    },
    {
     "data": {
      "application/vnd.jupyter.widget-view+json": {
       "model_id": "e5e9c7cdbe7d4228a88baa8e308edbde",
       "version_major": 2,
       "version_minor": 0
      },
      "text/plain": [
       "HBox(children=(IntProgress(value=0, max=158), HTML(value='')))"
      ]
     },
     "metadata": {},
     "output_type": "display_data"
    },
    {
     "data": {
      "application/vnd.jupyter.widget-view+json": {
       "model_id": "0f7fa9cc51e0476d844ee7eaee8555de",
       "version_major": 2,
       "version_minor": 0
      },
      "text/plain": [
       "HBox(children=(IntProgress(value=0, max=9), HTML(value='')))"
      ]
     },
     "metadata": {},
     "output_type": "display_data"
    },
    {
     "name": "stdout",
     "output_type": "stream",
     "text": [
      "Epoch: 112 | Total Loss: 328.08 | Uncertainty Ratio: 2.32\n"
     ]
    },
    {
     "data": {
      "application/vnd.jupyter.widget-view+json": {
       "model_id": "de23f4d9361e4c9aa46b3ba4dc76993d",
       "version_major": 2,
       "version_minor": 0
      },
      "text/plain": [
       "HBox(children=(IntProgress(value=0, max=158), HTML(value='')))"
      ]
     },
     "metadata": {},
     "output_type": "display_data"
    },
    {
     "data": {
      "application/vnd.jupyter.widget-view+json": {
       "model_id": "8e53208cb82a48928a346702d25d6aa8",
       "version_major": 2,
       "version_minor": 0
      },
      "text/plain": [
       "HBox(children=(IntProgress(value=0, max=9), HTML(value='')))"
      ]
     },
     "metadata": {},
     "output_type": "display_data"
    },
    {
     "name": "stdout",
     "output_type": "stream",
     "text": [
      "Epoch: 113 | Total Loss: 329.89 | Uncertainty Ratio: 2.16\n"
     ]
    },
    {
     "data": {
      "application/vnd.jupyter.widget-view+json": {
       "model_id": "98cb3df10c224bc29038eaf73f999f1d",
       "version_major": 2,
       "version_minor": 0
      },
      "text/plain": [
       "HBox(children=(IntProgress(value=0, max=158), HTML(value='')))"
      ]
     },
     "metadata": {},
     "output_type": "display_data"
    },
    {
     "data": {
      "application/vnd.jupyter.widget-view+json": {
       "model_id": "da6f00c21ede4fe58078c01e7bd1d45b",
       "version_major": 2,
       "version_minor": 0
      },
      "text/plain": [
       "HBox(children=(IntProgress(value=0, max=9), HTML(value='')))"
      ]
     },
     "metadata": {},
     "output_type": "display_data"
    },
    {
     "name": "stdout",
     "output_type": "stream",
     "text": [
      "Epoch: 114 | Total Loss: 328.16 | Uncertainty Ratio: 2.26\n"
     ]
    },
    {
     "data": {
      "application/vnd.jupyter.widget-view+json": {
       "model_id": "e1602579d2e142e7b62dfdba7c5e27a4",
       "version_major": 2,
       "version_minor": 0
      },
      "text/plain": [
       "HBox(children=(IntProgress(value=0, max=158), HTML(value='')))"
      ]
     },
     "metadata": {},
     "output_type": "display_data"
    },
    {
     "data": {
      "application/vnd.jupyter.widget-view+json": {
       "model_id": "acd645d7323542dc94486f66b121474f",
       "version_major": 2,
       "version_minor": 0
      },
      "text/plain": [
       "HBox(children=(IntProgress(value=0, max=9), HTML(value='')))"
      ]
     },
     "metadata": {},
     "output_type": "display_data"
    },
    {
     "name": "stdout",
     "output_type": "stream",
     "text": [
      "Epoch: 115 | Total Loss: 328.78 | Uncertainty Ratio: 2.39\n"
     ]
    },
    {
     "data": {
      "application/vnd.jupyter.widget-view+json": {
       "model_id": "e6190920ef13449d9e248b9818ee838f",
       "version_major": 2,
       "version_minor": 0
      },
      "text/plain": [
       "HBox(children=(IntProgress(value=0, max=158), HTML(value='')))"
      ]
     },
     "metadata": {},
     "output_type": "display_data"
    },
    {
     "data": {
      "application/vnd.jupyter.widget-view+json": {
       "model_id": "a20afd70afcb4c24a912820b67ea2385",
       "version_major": 2,
       "version_minor": 0
      },
      "text/plain": [
       "HBox(children=(IntProgress(value=0, max=9), HTML(value='')))"
      ]
     },
     "metadata": {},
     "output_type": "display_data"
    },
    {
     "name": "stdout",
     "output_type": "stream",
     "text": [
      "Epoch: 116 | Total Loss: 326.49 | Uncertainty Ratio: 2.19\n"
     ]
    },
    {
     "data": {
      "application/vnd.jupyter.widget-view+json": {
       "model_id": "16424a65f8b747d78512df5bbf51d16e",
       "version_major": 2,
       "version_minor": 0
      },
      "text/plain": [
       "HBox(children=(IntProgress(value=0, max=158), HTML(value='')))"
      ]
     },
     "metadata": {},
     "output_type": "display_data"
    },
    {
     "data": {
      "application/vnd.jupyter.widget-view+json": {
       "model_id": "2100d6a11f8b465db56a98093f5dd58f",
       "version_major": 2,
       "version_minor": 0
      },
      "text/plain": [
       "HBox(children=(IntProgress(value=0, max=9), HTML(value='')))"
      ]
     },
     "metadata": {},
     "output_type": "display_data"
    },
    {
     "name": "stdout",
     "output_type": "stream",
     "text": [
      "Epoch: 117 | Total Loss: 326.63 | Uncertainty Ratio: 2.26\n"
     ]
    },
    {
     "data": {
      "application/vnd.jupyter.widget-view+json": {
       "model_id": "d6892a408b144bc6b6086c2b6b156206",
       "version_major": 2,
       "version_minor": 0
      },
      "text/plain": [
       "HBox(children=(IntProgress(value=0, max=158), HTML(value='')))"
      ]
     },
     "metadata": {},
     "output_type": "display_data"
    },
    {
     "data": {
      "application/vnd.jupyter.widget-view+json": {
       "model_id": "796c20fda99a4b48a2f4d3458faf30a9",
       "version_major": 2,
       "version_minor": 0
      },
      "text/plain": [
       "HBox(children=(IntProgress(value=0, max=9), HTML(value='')))"
      ]
     },
     "metadata": {},
     "output_type": "display_data"
    },
    {
     "name": "stdout",
     "output_type": "stream",
     "text": [
      "Epoch: 118 | Total Loss: 328.87 | Uncertainty Ratio: 2.48\n"
     ]
    },
    {
     "data": {
      "application/vnd.jupyter.widget-view+json": {
       "model_id": "599d399531554ae6bb3604af721d89da",
       "version_major": 2,
       "version_minor": 0
      },
      "text/plain": [
       "HBox(children=(IntProgress(value=0, max=158), HTML(value='')))"
      ]
     },
     "metadata": {},
     "output_type": "display_data"
    },
    {
     "data": {
      "application/vnd.jupyter.widget-view+json": {
       "model_id": "b3800f1f80bd463dbd9d0a45db3f10dc",
       "version_major": 2,
       "version_minor": 0
      },
      "text/plain": [
       "HBox(children=(IntProgress(value=0, max=9), HTML(value='')))"
      ]
     },
     "metadata": {},
     "output_type": "display_data"
    },
    {
     "name": "stdout",
     "output_type": "stream",
     "text": [
      "Epoch: 119 | Total Loss: 331.54 | Uncertainty Ratio: 2.53\n"
     ]
    },
    {
     "data": {
      "application/vnd.jupyter.widget-view+json": {
       "model_id": "ee6d82573c7b468a8d804110804230d4",
       "version_major": 2,
       "version_minor": 0
      },
      "text/plain": [
       "HBox(children=(IntProgress(value=0, max=158), HTML(value='')))"
      ]
     },
     "metadata": {},
     "output_type": "display_data"
    },
    {
     "data": {
      "application/vnd.jupyter.widget-view+json": {
       "model_id": "da973f36db55431f8f85048f6d655afb",
       "version_major": 2,
       "version_minor": 0
      },
      "text/plain": [
       "HBox(children=(IntProgress(value=0, max=9), HTML(value='')))"
      ]
     },
     "metadata": {},
     "output_type": "display_data"
    },
    {
     "name": "stdout",
     "output_type": "stream",
     "text": [
      "Epoch: 120 | Total Loss: 325.55 | Uncertainty Ratio: 2.23\n"
     ]
    },
    {
     "data": {
      "application/vnd.jupyter.widget-view+json": {
       "model_id": "9f0e697f72e04e5cb5109154b18e43fd",
       "version_major": 2,
       "version_minor": 0
      },
      "text/plain": [
       "HBox(children=(IntProgress(value=0, max=158), HTML(value='')))"
      ]
     },
     "metadata": {},
     "output_type": "display_data"
    },
    {
     "data": {
      "application/vnd.jupyter.widget-view+json": {
       "model_id": "1f13d7f4b3ab4772be7fdd7d1cb72cc1",
       "version_major": 2,
       "version_minor": 0
      },
      "text/plain": [
       "HBox(children=(IntProgress(value=0, max=9), HTML(value='')))"
      ]
     },
     "metadata": {},
     "output_type": "display_data"
    },
    {
     "name": "stdout",
     "output_type": "stream",
     "text": [
      "Epoch: 121 | Total Loss: 328.83 | Uncertainty Ratio: 2.38\n"
     ]
    },
    {
     "data": {
      "application/vnd.jupyter.widget-view+json": {
       "model_id": "650df781048641baa25f28d2f8378170",
       "version_major": 2,
       "version_minor": 0
      },
      "text/plain": [
       "HBox(children=(IntProgress(value=0, max=158), HTML(value='')))"
      ]
     },
     "metadata": {},
     "output_type": "display_data"
    },
    {
     "data": {
      "application/vnd.jupyter.widget-view+json": {
       "model_id": "42898f66a92941d9b75fee8c47ef2e0f",
       "version_major": 2,
       "version_minor": 0
      },
      "text/plain": [
       "HBox(children=(IntProgress(value=0, max=9), HTML(value='')))"
      ]
     },
     "metadata": {},
     "output_type": "display_data"
    },
    {
     "name": "stdout",
     "output_type": "stream",
     "text": [
      "Epoch: 122 | Total Loss: 329.18 | Uncertainty Ratio: 2.43\n"
     ]
    },
    {
     "data": {
      "application/vnd.jupyter.widget-view+json": {
       "model_id": "d3795ba8807a43e7b912f5bcc2c163f7",
       "version_major": 2,
       "version_minor": 0
      },
      "text/plain": [
       "HBox(children=(IntProgress(value=0, max=158), HTML(value='')))"
      ]
     },
     "metadata": {},
     "output_type": "display_data"
    },
    {
     "data": {
      "application/vnd.jupyter.widget-view+json": {
       "model_id": "ed047e3ae5464a7b89af89793bb53d5e",
       "version_major": 2,
       "version_minor": 0
      },
      "text/plain": [
       "HBox(children=(IntProgress(value=0, max=9), HTML(value='')))"
      ]
     },
     "metadata": {},
     "output_type": "display_data"
    },
    {
     "name": "stdout",
     "output_type": "stream",
     "text": [
      "Epoch: 123 | Total Loss: 333.32 | Uncertainty Ratio: 2.52\n"
     ]
    },
    {
     "data": {
      "application/vnd.jupyter.widget-view+json": {
       "model_id": "32c9d2e3db00477a872b22226ac76af1",
       "version_major": 2,
       "version_minor": 0
      },
      "text/plain": [
       "HBox(children=(IntProgress(value=0, max=158), HTML(value='')))"
      ]
     },
     "metadata": {},
     "output_type": "display_data"
    },
    {
     "data": {
      "application/vnd.jupyter.widget-view+json": {
       "model_id": "13bc79ea370b4342aa6cb6c81ae5e77e",
       "version_major": 2,
       "version_minor": 0
      },
      "text/plain": [
       "HBox(children=(IntProgress(value=0, max=9), HTML(value='')))"
      ]
     },
     "metadata": {},
     "output_type": "display_data"
    },
    {
     "name": "stdout",
     "output_type": "stream",
     "text": [
      "Epoch: 124 | Total Loss: 322.51 | Uncertainty Ratio: 2.1\n"
     ]
    },
    {
     "data": {
      "application/vnd.jupyter.widget-view+json": {
       "model_id": "d3dc4bff02fe4dd8b35290872a616e70",
       "version_major": 2,
       "version_minor": 0
      },
      "text/plain": [
       "HBox(children=(IntProgress(value=0, max=158), HTML(value='')))"
      ]
     },
     "metadata": {},
     "output_type": "display_data"
    },
    {
     "data": {
      "application/vnd.jupyter.widget-view+json": {
       "model_id": "f8f708ffa4784826aa9293cb6e3b3111",
       "version_major": 2,
       "version_minor": 0
      },
      "text/plain": [
       "HBox(children=(IntProgress(value=0, max=9), HTML(value='')))"
      ]
     },
     "metadata": {},
     "output_type": "display_data"
    },
    {
     "name": "stdout",
     "output_type": "stream",
     "text": [
      "Epoch: 125 | Total Loss: 327.01 | Uncertainty Ratio: 2.27\n"
     ]
    },
    {
     "data": {
      "application/vnd.jupyter.widget-view+json": {
       "model_id": "81cb467e1c7242fe86e0acf0e469d0ba",
       "version_major": 2,
       "version_minor": 0
      },
      "text/plain": [
       "HBox(children=(IntProgress(value=0, max=158), HTML(value='')))"
      ]
     },
     "metadata": {},
     "output_type": "display_data"
    },
    {
     "data": {
      "application/vnd.jupyter.widget-view+json": {
       "model_id": "dd7e2c99ca4e4aec990295116ef2847c",
       "version_major": 2,
       "version_minor": 0
      },
      "text/plain": [
       "HBox(children=(IntProgress(value=0, max=9), HTML(value='')))"
      ]
     },
     "metadata": {},
     "output_type": "display_data"
    },
    {
     "name": "stdout",
     "output_type": "stream",
     "text": [
      "Epoch: 126 | Total Loss: 323.46 | Uncertainty Ratio: 2.44\n"
     ]
    },
    {
     "data": {
      "application/vnd.jupyter.widget-view+json": {
       "model_id": "a98f627195244e29b38739c1cade9266",
       "version_major": 2,
       "version_minor": 0
      },
      "text/plain": [
       "HBox(children=(IntProgress(value=0, max=158), HTML(value='')))"
      ]
     },
     "metadata": {},
     "output_type": "display_data"
    },
    {
     "data": {
      "application/vnd.jupyter.widget-view+json": {
       "model_id": "b5a06263a0414c19afcda721946707c2",
       "version_major": 2,
       "version_minor": 0
      },
      "text/plain": [
       "HBox(children=(IntProgress(value=0, max=9), HTML(value='')))"
      ]
     },
     "metadata": {},
     "output_type": "display_data"
    },
    {
     "name": "stdout",
     "output_type": "stream",
     "text": [
      "Epoch: 127 | Total Loss: 328.55 | Uncertainty Ratio: 2.39\n"
     ]
    },
    {
     "data": {
      "application/vnd.jupyter.widget-view+json": {
       "model_id": "c352808ba8734b75994e2b499a76cd45",
       "version_major": 2,
       "version_minor": 0
      },
      "text/plain": [
       "HBox(children=(IntProgress(value=0, max=158), HTML(value='')))"
      ]
     },
     "metadata": {},
     "output_type": "display_data"
    },
    {
     "data": {
      "application/vnd.jupyter.widget-view+json": {
       "model_id": "8f3918418fcf44f08ec8d0922199b958",
       "version_major": 2,
       "version_minor": 0
      },
      "text/plain": [
       "HBox(children=(IntProgress(value=0, max=9), HTML(value='')))"
      ]
     },
     "metadata": {},
     "output_type": "display_data"
    },
    {
     "name": "stdout",
     "output_type": "stream",
     "text": [
      "Epoch: 128 | Total Loss: 322.87 | Uncertainty Ratio: 2.28\n"
     ]
    },
    {
     "data": {
      "application/vnd.jupyter.widget-view+json": {
       "model_id": "9066f8f6feec442b8011a2b2bc10911a",
       "version_major": 2,
       "version_minor": 0
      },
      "text/plain": [
       "HBox(children=(IntProgress(value=0, max=158), HTML(value='')))"
      ]
     },
     "metadata": {},
     "output_type": "display_data"
    },
    {
     "data": {
      "application/vnd.jupyter.widget-view+json": {
       "model_id": "56b72f68faa34fe3adf743411e90ee7c",
       "version_major": 2,
       "version_minor": 0
      },
      "text/plain": [
       "HBox(children=(IntProgress(value=0, max=9), HTML(value='')))"
      ]
     },
     "metadata": {},
     "output_type": "display_data"
    },
    {
     "name": "stdout",
     "output_type": "stream",
     "text": [
      "Epoch: 129 | Total Loss: 329.59 | Uncertainty Ratio: 2.23\n"
     ]
    },
    {
     "data": {
      "application/vnd.jupyter.widget-view+json": {
       "model_id": "c1aeaca48b0b4df58a3dd7426d2342d8",
       "version_major": 2,
       "version_minor": 0
      },
      "text/plain": [
       "HBox(children=(IntProgress(value=0, max=158), HTML(value='')))"
      ]
     },
     "metadata": {},
     "output_type": "display_data"
    },
    {
     "data": {
      "application/vnd.jupyter.widget-view+json": {
       "model_id": "7f005ff0af8a4b809f6d19d6a510ccd0",
       "version_major": 2,
       "version_minor": 0
      },
      "text/plain": [
       "HBox(children=(IntProgress(value=0, max=9), HTML(value='')))"
      ]
     },
     "metadata": {},
     "output_type": "display_data"
    },
    {
     "name": "stdout",
     "output_type": "stream",
     "text": [
      "Epoch: 130 | Total Loss: 325.45 | Uncertainty Ratio: 2.17\n"
     ]
    },
    {
     "data": {
      "application/vnd.jupyter.widget-view+json": {
       "model_id": "2c91a223deef4813b735de2da40dd2c4",
       "version_major": 2,
       "version_minor": 0
      },
      "text/plain": [
       "HBox(children=(IntProgress(value=0, max=158), HTML(value='')))"
      ]
     },
     "metadata": {},
     "output_type": "display_data"
    },
    {
     "data": {
      "application/vnd.jupyter.widget-view+json": {
       "model_id": "21a67afc74c74fd39ea0d01af779b708",
       "version_major": 2,
       "version_minor": 0
      },
      "text/plain": [
       "HBox(children=(IntProgress(value=0, max=9), HTML(value='')))"
      ]
     },
     "metadata": {},
     "output_type": "display_data"
    },
    {
     "name": "stdout",
     "output_type": "stream",
     "text": [
      "Epoch: 131 | Total Loss: 328.13 | Uncertainty Ratio: 2.27\n"
     ]
    },
    {
     "data": {
      "application/vnd.jupyter.widget-view+json": {
       "model_id": "02d85dc3166f4046a30ff80c6d456da3",
       "version_major": 2,
       "version_minor": 0
      },
      "text/plain": [
       "HBox(children=(IntProgress(value=0, max=158), HTML(value='')))"
      ]
     },
     "metadata": {},
     "output_type": "display_data"
    },
    {
     "data": {
      "application/vnd.jupyter.widget-view+json": {
       "model_id": "98d3b0de95d14b089951d6fb0a46d10f",
       "version_major": 2,
       "version_minor": 0
      },
      "text/plain": [
       "HBox(children=(IntProgress(value=0, max=9), HTML(value='')))"
      ]
     },
     "metadata": {},
     "output_type": "display_data"
    },
    {
     "name": "stdout",
     "output_type": "stream",
     "text": [
      "Epoch: 132 | Total Loss: 325.16 | Uncertainty Ratio: 2.16\n"
     ]
    },
    {
     "data": {
      "application/vnd.jupyter.widget-view+json": {
       "model_id": "d0299d0f295741b99f9ac19b42feabcb",
       "version_major": 2,
       "version_minor": 0
      },
      "text/plain": [
       "HBox(children=(IntProgress(value=0, max=158), HTML(value='')))"
      ]
     },
     "metadata": {},
     "output_type": "display_data"
    },
    {
     "data": {
      "application/vnd.jupyter.widget-view+json": {
       "model_id": "73f579d27d0b4d28929dbc8cd171a64e",
       "version_major": 2,
       "version_minor": 0
      },
      "text/plain": [
       "HBox(children=(IntProgress(value=0, max=9), HTML(value='')))"
      ]
     },
     "metadata": {},
     "output_type": "display_data"
    },
    {
     "name": "stdout",
     "output_type": "stream",
     "text": [
      "Epoch: 133 | Total Loss: 321.05 | Uncertainty Ratio: 2.13\n"
     ]
    },
    {
     "data": {
      "application/vnd.jupyter.widget-view+json": {
       "model_id": "74363e3c1dac43fb9d234de876a0a76b",
       "version_major": 2,
       "version_minor": 0
      },
      "text/plain": [
       "HBox(children=(IntProgress(value=0, max=158), HTML(value='')))"
      ]
     },
     "metadata": {},
     "output_type": "display_data"
    },
    {
     "data": {
      "application/vnd.jupyter.widget-view+json": {
       "model_id": "62986fb12de7486e8786732025a2272d",
       "version_major": 2,
       "version_minor": 0
      },
      "text/plain": [
       "HBox(children=(IntProgress(value=0, max=9), HTML(value='')))"
      ]
     },
     "metadata": {},
     "output_type": "display_data"
    },
    {
     "name": "stdout",
     "output_type": "stream",
     "text": [
      "Epoch: 134 | Total Loss: 324.5 | Uncertainty Ratio: 2.44\n"
     ]
    },
    {
     "data": {
      "application/vnd.jupyter.widget-view+json": {
       "model_id": "348d74628c844471b4285b80d77aa7da",
       "version_major": 2,
       "version_minor": 0
      },
      "text/plain": [
       "HBox(children=(IntProgress(value=0, max=158), HTML(value='')))"
      ]
     },
     "metadata": {},
     "output_type": "display_data"
    },
    {
     "data": {
      "application/vnd.jupyter.widget-view+json": {
       "model_id": "ca1938b2c82c4f8998112712bfc51a07",
       "version_major": 2,
       "version_minor": 0
      },
      "text/plain": [
       "HBox(children=(IntProgress(value=0, max=9), HTML(value='')))"
      ]
     },
     "metadata": {},
     "output_type": "display_data"
    },
    {
     "name": "stdout",
     "output_type": "stream",
     "text": [
      "Epoch: 135 | Total Loss: 322.93 | Uncertainty Ratio: 2.31\n"
     ]
    },
    {
     "data": {
      "application/vnd.jupyter.widget-view+json": {
       "model_id": "ddf1761282d346268d4d15523a507971",
       "version_major": 2,
       "version_minor": 0
      },
      "text/plain": [
       "HBox(children=(IntProgress(value=0, max=158), HTML(value='')))"
      ]
     },
     "metadata": {},
     "output_type": "display_data"
    },
    {
     "data": {
      "application/vnd.jupyter.widget-view+json": {
       "model_id": "9fb1f15ce33d4c1d90b3528b1c79d166",
       "version_major": 2,
       "version_minor": 0
      },
      "text/plain": [
       "HBox(children=(IntProgress(value=0, max=9), HTML(value='')))"
      ]
     },
     "metadata": {},
     "output_type": "display_data"
    },
    {
     "name": "stdout",
     "output_type": "stream",
     "text": [
      "Epoch: 136 | Total Loss: 326.19 | Uncertainty Ratio: 2.29\n"
     ]
    },
    {
     "data": {
      "application/vnd.jupyter.widget-view+json": {
       "model_id": "3d824ae5d85345b1bdde2be07ff23f1e",
       "version_major": 2,
       "version_minor": 0
      },
      "text/plain": [
       "HBox(children=(IntProgress(value=0, max=158), HTML(value='')))"
      ]
     },
     "metadata": {},
     "output_type": "display_data"
    },
    {
     "data": {
      "application/vnd.jupyter.widget-view+json": {
       "model_id": "01bb141121e843ee8fe57a13961438aa",
       "version_major": 2,
       "version_minor": 0
      },
      "text/plain": [
       "HBox(children=(IntProgress(value=0, max=9), HTML(value='')))"
      ]
     },
     "metadata": {},
     "output_type": "display_data"
    },
    {
     "name": "stdout",
     "output_type": "stream",
     "text": [
      "Epoch: 137 | Total Loss: 322.62 | Uncertainty Ratio: 2.21\n"
     ]
    },
    {
     "data": {
      "application/vnd.jupyter.widget-view+json": {
       "model_id": "66e25b89562f4f1a9c59334b4476a18b",
       "version_major": 2,
       "version_minor": 0
      },
      "text/plain": [
       "HBox(children=(IntProgress(value=0, max=158), HTML(value='')))"
      ]
     },
     "metadata": {},
     "output_type": "display_data"
    },
    {
     "data": {
      "application/vnd.jupyter.widget-view+json": {
       "model_id": "03c2363216a84369990259735b36d3b4",
       "version_major": 2,
       "version_minor": 0
      },
      "text/plain": [
       "HBox(children=(IntProgress(value=0, max=9), HTML(value='')))"
      ]
     },
     "metadata": {},
     "output_type": "display_data"
    },
    {
     "name": "stdout",
     "output_type": "stream",
     "text": [
      "Epoch: 138 | Total Loss: 330.01 | Uncertainty Ratio: 2.46\n"
     ]
    },
    {
     "data": {
      "application/vnd.jupyter.widget-view+json": {
       "model_id": "1695eebe0eaa468a9640493b77ab5d78",
       "version_major": 2,
       "version_minor": 0
      },
      "text/plain": [
       "HBox(children=(IntProgress(value=0, max=158), HTML(value='')))"
      ]
     },
     "metadata": {},
     "output_type": "display_data"
    },
    {
     "data": {
      "application/vnd.jupyter.widget-view+json": {
       "model_id": "210570b1c8e54d70b93c1831086b66fb",
       "version_major": 2,
       "version_minor": 0
      },
      "text/plain": [
       "HBox(children=(IntProgress(value=0, max=9), HTML(value='')))"
      ]
     },
     "metadata": {},
     "output_type": "display_data"
    },
    {
     "name": "stdout",
     "output_type": "stream",
     "text": [
      "Epoch: 139 | Total Loss: 328.79 | Uncertainty Ratio: 2.49\n"
     ]
    },
    {
     "data": {
      "application/vnd.jupyter.widget-view+json": {
       "model_id": "45146d56e9a3470ca6db2df802b5ba9b",
       "version_major": 2,
       "version_minor": 0
      },
      "text/plain": [
       "HBox(children=(IntProgress(value=0, max=158), HTML(value='')))"
      ]
     },
     "metadata": {},
     "output_type": "display_data"
    },
    {
     "data": {
      "application/vnd.jupyter.widget-view+json": {
       "model_id": "10af5c91770d4258b03c80a3fcb31025",
       "version_major": 2,
       "version_minor": 0
      },
      "text/plain": [
       "HBox(children=(IntProgress(value=0, max=9), HTML(value='')))"
      ]
     },
     "metadata": {},
     "output_type": "display_data"
    },
    {
     "name": "stdout",
     "output_type": "stream",
     "text": [
      "Epoch: 140 | Total Loss: 324.73 | Uncertainty Ratio: 2.15\n"
     ]
    },
    {
     "data": {
      "application/vnd.jupyter.widget-view+json": {
       "model_id": "ccf1263708594cbab16847f45045bafe",
       "version_major": 2,
       "version_minor": 0
      },
      "text/plain": [
       "HBox(children=(IntProgress(value=0, max=158), HTML(value='')))"
      ]
     },
     "metadata": {},
     "output_type": "display_data"
    },
    {
     "data": {
      "application/vnd.jupyter.widget-view+json": {
       "model_id": "38c119a6f324414cae0f8f1f7baa8fac",
       "version_major": 2,
       "version_minor": 0
      },
      "text/plain": [
       "HBox(children=(IntProgress(value=0, max=9), HTML(value='')))"
      ]
     },
     "metadata": {},
     "output_type": "display_data"
    },
    {
     "name": "stdout",
     "output_type": "stream",
     "text": [
      "Epoch: 141 | Total Loss: 326.64 | Uncertainty Ratio: 2.42\n"
     ]
    },
    {
     "data": {
      "application/vnd.jupyter.widget-view+json": {
       "model_id": "db84e20ac33f4c1dbc7c2db2aaa387fc",
       "version_major": 2,
       "version_minor": 0
      },
      "text/plain": [
       "HBox(children=(IntProgress(value=0, max=158), HTML(value='')))"
      ]
     },
     "metadata": {},
     "output_type": "display_data"
    },
    {
     "data": {
      "application/vnd.jupyter.widget-view+json": {
       "model_id": "ff78ccc326cd41c0bd2d93fd1c89eab4",
       "version_major": 2,
       "version_minor": 0
      },
      "text/plain": [
       "HBox(children=(IntProgress(value=0, max=9), HTML(value='')))"
      ]
     },
     "metadata": {},
     "output_type": "display_data"
    },
    {
     "name": "stdout",
     "output_type": "stream",
     "text": [
      "Epoch: 142 | Total Loss: 326.43 | Uncertainty Ratio: 2.36\n"
     ]
    },
    {
     "data": {
      "application/vnd.jupyter.widget-view+json": {
       "model_id": "2deb0531a21640fd8fb7d780919ca497",
       "version_major": 2,
       "version_minor": 0
      },
      "text/plain": [
       "HBox(children=(IntProgress(value=0, max=158), HTML(value='')))"
      ]
     },
     "metadata": {},
     "output_type": "display_data"
    },
    {
     "data": {
      "application/vnd.jupyter.widget-view+json": {
       "model_id": "ce6e2137a5cd41b38c9f6e62dccc02b7",
       "version_major": 2,
       "version_minor": 0
      },
      "text/plain": [
       "HBox(children=(IntProgress(value=0, max=9), HTML(value='')))"
      ]
     },
     "metadata": {},
     "output_type": "display_data"
    },
    {
     "name": "stdout",
     "output_type": "stream",
     "text": [
      "Epoch: 143 | Total Loss: 320.17 | Uncertainty Ratio: 2.3\n"
     ]
    },
    {
     "data": {
      "application/vnd.jupyter.widget-view+json": {
       "model_id": "4263c216fd254134a790338a59ed9add",
       "version_major": 2,
       "version_minor": 0
      },
      "text/plain": [
       "HBox(children=(IntProgress(value=0, max=158), HTML(value='')))"
      ]
     },
     "metadata": {},
     "output_type": "display_data"
    },
    {
     "data": {
      "application/vnd.jupyter.widget-view+json": {
       "model_id": "d5a5fa935b384f47bb5e700d5a65180f",
       "version_major": 2,
       "version_minor": 0
      },
      "text/plain": [
       "HBox(children=(IntProgress(value=0, max=9), HTML(value='')))"
      ]
     },
     "metadata": {},
     "output_type": "display_data"
    },
    {
     "name": "stdout",
     "output_type": "stream",
     "text": [
      "Epoch: 144 | Total Loss: 326.3 | Uncertainty Ratio: 2.34\n"
     ]
    },
    {
     "data": {
      "application/vnd.jupyter.widget-view+json": {
       "model_id": "ade695aefb67409ca7416804dedfb5ee",
       "version_major": 2,
       "version_minor": 0
      },
      "text/plain": [
       "HBox(children=(IntProgress(value=0, max=158), HTML(value='')))"
      ]
     },
     "metadata": {},
     "output_type": "display_data"
    },
    {
     "data": {
      "application/vnd.jupyter.widget-view+json": {
       "model_id": "024f0d048a90470e87a67a493381891b",
       "version_major": 2,
       "version_minor": 0
      },
      "text/plain": [
       "HBox(children=(IntProgress(value=0, max=9), HTML(value='')))"
      ]
     },
     "metadata": {},
     "output_type": "display_data"
    },
    {
     "name": "stdout",
     "output_type": "stream",
     "text": [
      "Epoch: 145 | Total Loss: 323.95 | Uncertainty Ratio: 2.25\n"
     ]
    },
    {
     "data": {
      "application/vnd.jupyter.widget-view+json": {
       "model_id": "0633db94e2ed40fcb83fb037b393e1e0",
       "version_major": 2,
       "version_minor": 0
      },
      "text/plain": [
       "HBox(children=(IntProgress(value=0, max=158), HTML(value='')))"
      ]
     },
     "metadata": {},
     "output_type": "display_data"
    },
    {
     "data": {
      "application/vnd.jupyter.widget-view+json": {
       "model_id": "13e43939192947f7a04365bd09fd2ae3",
       "version_major": 2,
       "version_minor": 0
      },
      "text/plain": [
       "HBox(children=(IntProgress(value=0, max=9), HTML(value='')))"
      ]
     },
     "metadata": {},
     "output_type": "display_data"
    },
    {
     "name": "stdout",
     "output_type": "stream",
     "text": [
      "Epoch: 146 | Total Loss: 327.0 | Uncertainty Ratio: 2.32\n"
     ]
    },
    {
     "data": {
      "application/vnd.jupyter.widget-view+json": {
       "model_id": "99418c8d012a4743b76e01ff1eab3fc1",
       "version_major": 2,
       "version_minor": 0
      },
      "text/plain": [
       "HBox(children=(IntProgress(value=0, max=158), HTML(value='')))"
      ]
     },
     "metadata": {},
     "output_type": "display_data"
    },
    {
     "data": {
      "application/vnd.jupyter.widget-view+json": {
       "model_id": "2e6f5985ab0749799722e4dd65706d0d",
       "version_major": 2,
       "version_minor": 0
      },
      "text/plain": [
       "HBox(children=(IntProgress(value=0, max=9), HTML(value='')))"
      ]
     },
     "metadata": {},
     "output_type": "display_data"
    },
    {
     "name": "stdout",
     "output_type": "stream",
     "text": [
      "Epoch: 147 | Total Loss: 323.62 | Uncertainty Ratio: 2.3\n"
     ]
    },
    {
     "data": {
      "application/vnd.jupyter.widget-view+json": {
       "model_id": "816c112183b04ba2a5c004aa246ec55e",
       "version_major": 2,
       "version_minor": 0
      },
      "text/plain": [
       "HBox(children=(IntProgress(value=0, max=158), HTML(value='')))"
      ]
     },
     "metadata": {},
     "output_type": "display_data"
    },
    {
     "data": {
      "application/vnd.jupyter.widget-view+json": {
       "model_id": "42f8fb001b6b41b6b4a48b34dc71d031",
       "version_major": 2,
       "version_minor": 0
      },
      "text/plain": [
       "HBox(children=(IntProgress(value=0, max=9), HTML(value='')))"
      ]
     },
     "metadata": {},
     "output_type": "display_data"
    },
    {
     "name": "stdout",
     "output_type": "stream",
     "text": [
      "Epoch: 148 | Total Loss: 328.86 | Uncertainty Ratio: 2.29\n"
     ]
    },
    {
     "data": {
      "application/vnd.jupyter.widget-view+json": {
       "model_id": "baa5f7d42a234c31becb40dfddf55c68",
       "version_major": 2,
       "version_minor": 0
      },
      "text/plain": [
       "HBox(children=(IntProgress(value=0, max=158), HTML(value='')))"
      ]
     },
     "metadata": {},
     "output_type": "display_data"
    },
    {
     "data": {
      "application/vnd.jupyter.widget-view+json": {
       "model_id": "b319a8f80e3a4784a85e91f834b8e906",
       "version_major": 2,
       "version_minor": 0
      },
      "text/plain": [
       "HBox(children=(IntProgress(value=0, max=9), HTML(value='')))"
      ]
     },
     "metadata": {},
     "output_type": "display_data"
    },
    {
     "name": "stdout",
     "output_type": "stream",
     "text": [
      "Epoch: 149 | Total Loss: 318.29 | Uncertainty Ratio: 2.13\n"
     ]
    },
    {
     "data": {
      "application/vnd.jupyter.widget-view+json": {
       "model_id": "0746bc25a94847bebe502fa8b7d09fae",
       "version_major": 2,
       "version_minor": 0
      },
      "text/plain": [
       "HBox(children=(IntProgress(value=0, max=158), HTML(value='')))"
      ]
     },
     "metadata": {},
     "output_type": "display_data"
    },
    {
     "data": {
      "application/vnd.jupyter.widget-view+json": {
       "model_id": "33d42ff8e9ad45198af43484c964b30a",
       "version_major": 2,
       "version_minor": 0
      },
      "text/plain": [
       "HBox(children=(IntProgress(value=0, max=9), HTML(value='')))"
      ]
     },
     "metadata": {},
     "output_type": "display_data"
    },
    {
     "name": "stdout",
     "output_type": "stream",
     "text": [
      "Epoch: 150 | Total Loss: 321.21 | Uncertainty Ratio: 2.1\n"
     ]
    },
    {
     "data": {
      "application/vnd.jupyter.widget-view+json": {
       "model_id": "a0305951193a4d0db28ae23357ec7709",
       "version_major": 2,
       "version_minor": 0
      },
      "text/plain": [
       "HBox(children=(IntProgress(value=0, max=158), HTML(value='')))"
      ]
     },
     "metadata": {},
     "output_type": "display_data"
    },
    {
     "data": {
      "application/vnd.jupyter.widget-view+json": {
       "model_id": "530a77bedd0b459098d537b0970d9f04",
       "version_major": 2,
       "version_minor": 0
      },
      "text/plain": [
       "HBox(children=(IntProgress(value=0, max=9), HTML(value='')))"
      ]
     },
     "metadata": {},
     "output_type": "display_data"
    },
    {
     "name": "stdout",
     "output_type": "stream",
     "text": [
      "Epoch: 151 | Total Loss: 318.85 | Uncertainty Ratio: 2.27\n"
     ]
    },
    {
     "data": {
      "application/vnd.jupyter.widget-view+json": {
       "model_id": "fde6a73b796b4a86a381fcf40d348d75",
       "version_major": 2,
       "version_minor": 0
      },
      "text/plain": [
       "HBox(children=(IntProgress(value=0, max=158), HTML(value='')))"
      ]
     },
     "metadata": {},
     "output_type": "display_data"
    },
    {
     "data": {
      "application/vnd.jupyter.widget-view+json": {
       "model_id": "1b1da05ed194461aa87a4bcaad06f653",
       "version_major": 2,
       "version_minor": 0
      },
      "text/plain": [
       "HBox(children=(IntProgress(value=0, max=9), HTML(value='')))"
      ]
     },
     "metadata": {},
     "output_type": "display_data"
    },
    {
     "name": "stdout",
     "output_type": "stream",
     "text": [
      "Epoch: 152 | Total Loss: 331.64 | Uncertainty Ratio: 2.4\n"
     ]
    },
    {
     "data": {
      "application/vnd.jupyter.widget-view+json": {
       "model_id": "fc886ffb370c4f1d8e70e0541151e805",
       "version_major": 2,
       "version_minor": 0
      },
      "text/plain": [
       "HBox(children=(IntProgress(value=0, max=158), HTML(value='')))"
      ]
     },
     "metadata": {},
     "output_type": "display_data"
    },
    {
     "data": {
      "application/vnd.jupyter.widget-view+json": {
       "model_id": "d2f17da44f954ffbb864cf34933648b9",
       "version_major": 2,
       "version_minor": 0
      },
      "text/plain": [
       "HBox(children=(IntProgress(value=0, max=9), HTML(value='')))"
      ]
     },
     "metadata": {},
     "output_type": "display_data"
    },
    {
     "name": "stdout",
     "output_type": "stream",
     "text": [
      "Epoch: 153 | Total Loss: 322.64 | Uncertainty Ratio: 2.19\n"
     ]
    },
    {
     "data": {
      "application/vnd.jupyter.widget-view+json": {
       "model_id": "08a9ee575a954ce79f60a780fbd86454",
       "version_major": 2,
       "version_minor": 0
      },
      "text/plain": [
       "HBox(children=(IntProgress(value=0, max=158), HTML(value='')))"
      ]
     },
     "metadata": {},
     "output_type": "display_data"
    },
    {
     "data": {
      "application/vnd.jupyter.widget-view+json": {
       "model_id": "5f582bd05f5e4605ba78c33b570498b5",
       "version_major": 2,
       "version_minor": 0
      },
      "text/plain": [
       "HBox(children=(IntProgress(value=0, max=9), HTML(value='')))"
      ]
     },
     "metadata": {},
     "output_type": "display_data"
    },
    {
     "name": "stdout",
     "output_type": "stream",
     "text": [
      "Epoch: 154 | Total Loss: 319.64 | Uncertainty Ratio: 2.13\n"
     ]
    },
    {
     "data": {
      "application/vnd.jupyter.widget-view+json": {
       "model_id": "99e084a32c6445b5be154150a63751fd",
       "version_major": 2,
       "version_minor": 0
      },
      "text/plain": [
       "HBox(children=(IntProgress(value=0, max=158), HTML(value='')))"
      ]
     },
     "metadata": {},
     "output_type": "display_data"
    },
    {
     "data": {
      "application/vnd.jupyter.widget-view+json": {
       "model_id": "b6a887d691b744db985a970bab9b7468",
       "version_major": 2,
       "version_minor": 0
      },
      "text/plain": [
       "HBox(children=(IntProgress(value=0, max=9), HTML(value='')))"
      ]
     },
     "metadata": {},
     "output_type": "display_data"
    },
    {
     "name": "stdout",
     "output_type": "stream",
     "text": [
      "Epoch: 155 | Total Loss: 321.39 | Uncertainty Ratio: 2.37\n"
     ]
    },
    {
     "data": {
      "application/vnd.jupyter.widget-view+json": {
       "model_id": "e0d18f74ea41448dbef39d37c8424d8e",
       "version_major": 2,
       "version_minor": 0
      },
      "text/plain": [
       "HBox(children=(IntProgress(value=0, max=158), HTML(value='')))"
      ]
     },
     "metadata": {},
     "output_type": "display_data"
    },
    {
     "data": {
      "application/vnd.jupyter.widget-view+json": {
       "model_id": "b41cc3c0e8584d06b6fbbf1dc4e72227",
       "version_major": 2,
       "version_minor": 0
      },
      "text/plain": [
       "HBox(children=(IntProgress(value=0, max=9), HTML(value='')))"
      ]
     },
     "metadata": {},
     "output_type": "display_data"
    },
    {
     "name": "stdout",
     "output_type": "stream",
     "text": [
      "Epoch: 156 | Total Loss: 321.41 | Uncertainty Ratio: 2.23\n"
     ]
    },
    {
     "data": {
      "application/vnd.jupyter.widget-view+json": {
       "model_id": "ebeb7855ef3046cd98ad8b6bafdcc06f",
       "version_major": 2,
       "version_minor": 0
      },
      "text/plain": [
       "HBox(children=(IntProgress(value=0, max=158), HTML(value='')))"
      ]
     },
     "metadata": {},
     "output_type": "display_data"
    },
    {
     "data": {
      "application/vnd.jupyter.widget-view+json": {
       "model_id": "3ec8d176b7d5420a800f63fa2afc48e9",
       "version_major": 2,
       "version_minor": 0
      },
      "text/plain": [
       "HBox(children=(IntProgress(value=0, max=9), HTML(value='')))"
      ]
     },
     "metadata": {},
     "output_type": "display_data"
    },
    {
     "name": "stdout",
     "output_type": "stream",
     "text": [
      "Epoch: 157 | Total Loss: 322.87 | Uncertainty Ratio: 2.27\n"
     ]
    },
    {
     "data": {
      "application/vnd.jupyter.widget-view+json": {
       "model_id": "147687218e044a1bbf8d646225fc3421",
       "version_major": 2,
       "version_minor": 0
      },
      "text/plain": [
       "HBox(children=(IntProgress(value=0, max=158), HTML(value='')))"
      ]
     },
     "metadata": {},
     "output_type": "display_data"
    },
    {
     "data": {
      "application/vnd.jupyter.widget-view+json": {
       "model_id": "3c8e9de2ca4f47738f031f52e8033b15",
       "version_major": 2,
       "version_minor": 0
      },
      "text/plain": [
       "HBox(children=(IntProgress(value=0, max=9), HTML(value='')))"
      ]
     },
     "metadata": {},
     "output_type": "display_data"
    },
    {
     "name": "stdout",
     "output_type": "stream",
     "text": [
      "Epoch: 158 | Total Loss: 320.44 | Uncertainty Ratio: 2.08\n"
     ]
    },
    {
     "data": {
      "application/vnd.jupyter.widget-view+json": {
       "model_id": "c274c55a55634c6085037f1293a591ae",
       "version_major": 2,
       "version_minor": 0
      },
      "text/plain": [
       "HBox(children=(IntProgress(value=0, max=158), HTML(value='')))"
      ]
     },
     "metadata": {},
     "output_type": "display_data"
    },
    {
     "data": {
      "application/vnd.jupyter.widget-view+json": {
       "model_id": "13f75a18cc574eaca57f404f07ad929f",
       "version_major": 2,
       "version_minor": 0
      },
      "text/plain": [
       "HBox(children=(IntProgress(value=0, max=9), HTML(value='')))"
      ]
     },
     "metadata": {},
     "output_type": "display_data"
    },
    {
     "name": "stdout",
     "output_type": "stream",
     "text": [
      "Epoch: 159 | Total Loss: 322.79 | Uncertainty Ratio: 2.33\n"
     ]
    },
    {
     "data": {
      "application/vnd.jupyter.widget-view+json": {
       "model_id": "d656b419aca846ea9beafa2acc49c655",
       "version_major": 2,
       "version_minor": 0
      },
      "text/plain": [
       "HBox(children=(IntProgress(value=0, max=158), HTML(value='')))"
      ]
     },
     "metadata": {},
     "output_type": "display_data"
    },
    {
     "data": {
      "application/vnd.jupyter.widget-view+json": {
       "model_id": "ded0957b572a4d47bad4660c1542e22f",
       "version_major": 2,
       "version_minor": 0
      },
      "text/plain": [
       "HBox(children=(IntProgress(value=0, max=9), HTML(value='')))"
      ]
     },
     "metadata": {},
     "output_type": "display_data"
    },
    {
     "name": "stdout",
     "output_type": "stream",
     "text": [
      "Epoch: 160 | Total Loss: 320.25 | Uncertainty Ratio: 2.17\n"
     ]
    },
    {
     "data": {
      "application/vnd.jupyter.widget-view+json": {
       "model_id": "bdf7d6f06c274f9ea02b0ee6c8c52bad",
       "version_major": 2,
       "version_minor": 0
      },
      "text/plain": [
       "HBox(children=(IntProgress(value=0, max=158), HTML(value='')))"
      ]
     },
     "metadata": {},
     "output_type": "display_data"
    },
    {
     "data": {
      "application/vnd.jupyter.widget-view+json": {
       "model_id": "2c17b7d59e8a47f39d336c7f1d5c0fa8",
       "version_major": 2,
       "version_minor": 0
      },
      "text/plain": [
       "HBox(children=(IntProgress(value=0, max=9), HTML(value='')))"
      ]
     },
     "metadata": {},
     "output_type": "display_data"
    },
    {
     "name": "stdout",
     "output_type": "stream",
     "text": [
      "Epoch: 161 | Total Loss: 333.38 | Uncertainty Ratio: 2.29\n"
     ]
    },
    {
     "data": {
      "application/vnd.jupyter.widget-view+json": {
       "model_id": "51c38c2cc4f9427a86119779ccdda5d3",
       "version_major": 2,
       "version_minor": 0
      },
      "text/plain": [
       "HBox(children=(IntProgress(value=0, max=158), HTML(value='')))"
      ]
     },
     "metadata": {},
     "output_type": "display_data"
    },
    {
     "data": {
      "application/vnd.jupyter.widget-view+json": {
       "model_id": "9d03d7c01b2444ed9417cf086b1e8463",
       "version_major": 2,
       "version_minor": 0
      },
      "text/plain": [
       "HBox(children=(IntProgress(value=0, max=9), HTML(value='')))"
      ]
     },
     "metadata": {},
     "output_type": "display_data"
    },
    {
     "name": "stdout",
     "output_type": "stream",
     "text": [
      "Epoch: 162 | Total Loss: 327.08 | Uncertainty Ratio: 2.38\n"
     ]
    },
    {
     "data": {
      "application/vnd.jupyter.widget-view+json": {
       "model_id": "225c33c2023f42acadf607f1d1f19a21",
       "version_major": 2,
       "version_minor": 0
      },
      "text/plain": [
       "HBox(children=(IntProgress(value=0, max=158), HTML(value='')))"
      ]
     },
     "metadata": {},
     "output_type": "display_data"
    },
    {
     "data": {
      "application/vnd.jupyter.widget-view+json": {
       "model_id": "0ac236dfa423488cb33f92179930865b",
       "version_major": 2,
       "version_minor": 0
      },
      "text/plain": [
       "HBox(children=(IntProgress(value=0, max=9), HTML(value='')))"
      ]
     },
     "metadata": {},
     "output_type": "display_data"
    },
    {
     "name": "stdout",
     "output_type": "stream",
     "text": [
      "Epoch: 163 | Total Loss: 319.18 | Uncertainty Ratio: 2.31\n"
     ]
    },
    {
     "data": {
      "application/vnd.jupyter.widget-view+json": {
       "model_id": "50071175c1db49b5a8ea46decd80fb8a",
       "version_major": 2,
       "version_minor": 0
      },
      "text/plain": [
       "HBox(children=(IntProgress(value=0, max=158), HTML(value='')))"
      ]
     },
     "metadata": {},
     "output_type": "display_data"
    },
    {
     "data": {
      "application/vnd.jupyter.widget-view+json": {
       "model_id": "79dc503bb0504306915224429c20992f",
       "version_major": 2,
       "version_minor": 0
      },
      "text/plain": [
       "HBox(children=(IntProgress(value=0, max=9), HTML(value='')))"
      ]
     },
     "metadata": {},
     "output_type": "display_data"
    },
    {
     "name": "stdout",
     "output_type": "stream",
     "text": [
      "Epoch: 164 | Total Loss: 319.87 | Uncertainty Ratio: 2.11\n"
     ]
    },
    {
     "data": {
      "application/vnd.jupyter.widget-view+json": {
       "model_id": "ef289be3d4cf498c9f0c47df3e922943",
       "version_major": 2,
       "version_minor": 0
      },
      "text/plain": [
       "HBox(children=(IntProgress(value=0, max=158), HTML(value='')))"
      ]
     },
     "metadata": {},
     "output_type": "display_data"
    },
    {
     "data": {
      "application/vnd.jupyter.widget-view+json": {
       "model_id": "2f3fadffebeb4e24900c0b468225a5d4",
       "version_major": 2,
       "version_minor": 0
      },
      "text/plain": [
       "HBox(children=(IntProgress(value=0, max=9), HTML(value='')))"
      ]
     },
     "metadata": {},
     "output_type": "display_data"
    },
    {
     "name": "stdout",
     "output_type": "stream",
     "text": [
      "Epoch: 165 | Total Loss: 320.85 | Uncertainty Ratio: 2.0\n",
      "Loading saved parameters..\n"
     ]
    },
    {
     "data": {
      "text/plain": [
       "DropoutEnsemble(\n",
       "  (networks): ModuleList(\n",
       "    (0): DropoutNet(\n",
       "      (f): Sequential(\n",
       "        (0): Linear(in_features=44, out_features=64, bias=True)\n",
       "        (1): ReLU()\n",
       "        (2): Dropout(p=0.1)\n",
       "        (3): Linear(in_features=64, out_features=1, bias=True)\n",
       "      )\n",
       "      (nll): BCEWithLogitsLoss()\n",
       "    )\n",
       "    (1): DropoutNet(\n",
       "      (f): Sequential(\n",
       "        (0): Linear(in_features=44, out_features=64, bias=True)\n",
       "        (1): ReLU()\n",
       "        (2): Dropout(p=0.1)\n",
       "        (3): Linear(in_features=64, out_features=1, bias=True)\n",
       "      )\n",
       "      (nll): BCEWithLogitsLoss()\n",
       "    )\n",
       "    (2): DropoutNet(\n",
       "      (f): Sequential(\n",
       "        (0): Linear(in_features=44, out_features=64, bias=True)\n",
       "        (1): ReLU()\n",
       "        (2): Dropout(p=0.1)\n",
       "        (3): Linear(in_features=64, out_features=1, bias=True)\n",
       "      )\n",
       "      (nll): BCEWithLogitsLoss()\n",
       "    )\n",
       "    (3): DropoutNet(\n",
       "      (f): Sequential(\n",
       "        (0): Linear(in_features=44, out_features=64, bias=True)\n",
       "        (1): ReLU()\n",
       "        (2): Dropout(p=0.1)\n",
       "        (3): Linear(in_features=64, out_features=1, bias=True)\n",
       "      )\n",
       "      (nll): BCEWithLogitsLoss()\n",
       "    )\n",
       "    (4): DropoutNet(\n",
       "      (f): Sequential(\n",
       "        (0): Linear(in_features=44, out_features=64, bias=True)\n",
       "        (1): ReLU()\n",
       "        (2): Dropout(p=0.1)\n",
       "        (3): Linear(in_features=64, out_features=1, bias=True)\n",
       "      )\n",
       "      (nll): BCEWithLogitsLoss()\n",
       "    )\n",
       "    (5): DropoutNet(\n",
       "      (f): Sequential(\n",
       "        (0): Linear(in_features=44, out_features=64, bias=True)\n",
       "        (1): ReLU()\n",
       "        (2): Dropout(p=0.1)\n",
       "        (3): Linear(in_features=64, out_features=1, bias=True)\n",
       "      )\n",
       "      (nll): BCEWithLogitsLoss()\n",
       "    )\n",
       "    (6): DropoutNet(\n",
       "      (f): Sequential(\n",
       "        (0): Linear(in_features=44, out_features=64, bias=True)\n",
       "        (1): ReLU()\n",
       "        (2): Dropout(p=0.1)\n",
       "        (3): Linear(in_features=64, out_features=1, bias=True)\n",
       "      )\n",
       "      (nll): BCEWithLogitsLoss()\n",
       "    )\n",
       "    (7): DropoutNet(\n",
       "      (f): Sequential(\n",
       "        (0): Linear(in_features=44, out_features=64, bias=True)\n",
       "        (1): ReLU()\n",
       "        (2): Dropout(p=0.1)\n",
       "        (3): Linear(in_features=64, out_features=1, bias=True)\n",
       "      )\n",
       "      (nll): BCEWithLogitsLoss()\n",
       "    )\n",
       "  )\n",
       "  (nll): BCEWithLogitsLoss()\n",
       ")"
      ]
     },
     "execution_count": 7,
     "metadata": {},
     "output_type": "execute_result"
    }
   ],
   "source": [
    "bnn.fit(X_train_processed, y_train, validate=True, X_val=X_test_processed, y_val = y_test)"
   ]
  },
  {
   "cell_type": "code",
   "execution_count": 11,
   "metadata": {
    "scrolled": true
   },
   "outputs": [
    {
     "name": "stdout",
     "output_type": "stream",
     "text": [
      "\u001b[32m2019-07-06 23:35:58:\u001b[0m \u001b[34mpacmagic_deeplearning.modeling.classifiers.bayesian.bnn_classifier\u001b[0m - get_raw_outputs - \u001b[1;30mINFO\u001b[0m - Forwarding with 64 samples.\n"
     ]
    }
   ],
   "source": [
    "uncs = bnn.get_uncertainties(X_test_processed)"
   ]
  },
  {
   "cell_type": "code",
   "execution_count": 10,
   "metadata": {},
   "outputs": [
    {
     "name": "stdout",
     "output_type": "stream",
     "text": [
      "\u001b[32m2019-07-06 23:35:57:\u001b[0m \u001b[34mpacmagic_deeplearning.modeling.classifiers.bayesian.bnn_classifier\u001b[0m - get_raw_outputs - \u001b[1;30mINFO\u001b[0m - Forwarding with 64 samples.\n"
     ]
    }
   ],
   "source": [
    "preds = bnn.predict_proba(X_test_processed)[:, 1]"
   ]
  },
  {
   "cell_type": "code",
   "execution_count": 12,
   "metadata": {},
   "outputs": [
    {
     "name": "stderr",
     "output_type": "stream",
     "text": [
      "/Users/david/miniconda3/envs/py37/lib/python3.7/site-packages/numpy/core/fromnumeric.py:56: FutureWarning: Series.nonzero() is deprecated and will be removed in a future version.Use Series.to_numpy().nonzero() instead\n",
      "  return getattr(obj, method)(*args, **kwds)\n"
     ]
    },
    {
     "name": "stdout",
     "output_type": "stream",
     "text": [
      "\u001b[32m2019-07-06 23:37:27:\u001b[0m \u001b[34mmatplotlib.font_manager\u001b[0m - _findfont_cached - \u001b[1;30mDEBUG\u001b[0m - \u001b[32mfindfont: Matching :family=sans-serif:style=normal:variant=normal:weight=normal:stretch=normal:size=10.0.\u001b[0m\n",
      "\u001b[32m2019-07-06 23:37:27:\u001b[0m \u001b[34mmatplotlib.font_manager\u001b[0m - _findfont_cached - \u001b[1;30mDEBUG\u001b[0m - \u001b[32mfindfont: score(<Font 'STIXGeneral' (STIXGeneralBol.ttf) normal normal bold normal>) = 10.335\u001b[0m\n",
      "\u001b[32m2019-07-06 23:37:27:\u001b[0m \u001b[34mmatplotlib.font_manager\u001b[0m - _findfont_cached - \u001b[1;30mDEBUG\u001b[0m - \u001b[32mfindfont: score(<Font 'DejaVu Serif Display' (DejaVuSerifDisplay.ttf) normal normal 400 normal>) = 10.05\u001b[0m\n",
      "\u001b[32m2019-07-06 23:37:27:\u001b[0m \u001b[34mmatplotlib.font_manager\u001b[0m - _findfont_cached - \u001b[1;30mDEBUG\u001b[0m - \u001b[32mfindfont: score(<Font 'DejaVu Sans Display' (DejaVuSansDisplay.ttf) normal normal 400 normal>) = 10.05\u001b[0m\n",
      "\u001b[32m2019-07-06 23:37:27:\u001b[0m \u001b[34mmatplotlib.font_manager\u001b[0m - _findfont_cached - \u001b[1;30mDEBUG\u001b[0m - \u001b[32mfindfont: score(<Font 'cmsy10' (cmsy10.ttf) normal normal 400 normal>) = 10.05\u001b[0m\n",
      "\u001b[32m2019-07-06 23:37:27:\u001b[0m \u001b[34mmatplotlib.font_manager\u001b[0m - _findfont_cached - \u001b[1;30mDEBUG\u001b[0m - \u001b[32mfindfont: score(<Font 'cmtt10' (cmtt10.ttf) normal normal 400 normal>) = 10.05\u001b[0m\n",
      "\u001b[32m2019-07-06 23:37:27:\u001b[0m \u001b[34mmatplotlib.font_manager\u001b[0m - _findfont_cached - \u001b[1;30mDEBUG\u001b[0m - \u001b[32mfindfont: score(<Font 'STIXSizeFourSym' (STIXSizFourSymBol.ttf) normal normal bold normal>) = 10.335\u001b[0m\n",
      "\u001b[32m2019-07-06 23:37:27:\u001b[0m \u001b[34mmatplotlib.font_manager\u001b[0m - _findfont_cached - \u001b[1;30mDEBUG\u001b[0m - \u001b[32mfindfont: score(<Font 'STIXNonUnicode' (STIXNonUniBol.ttf) normal normal bold normal>) = 10.335\u001b[0m\n",
      "\u001b[32m2019-07-06 23:37:27:\u001b[0m \u001b[34mmatplotlib.font_manager\u001b[0m - _findfont_cached - \u001b[1;30mDEBUG\u001b[0m - \u001b[32mfindfont: score(<Font 'STIXSizeOneSym' (STIXSizOneSymReg.ttf) normal normal regular normal>) = 10.05\u001b[0m\n",
      "\u001b[32m2019-07-06 23:37:27:\u001b[0m \u001b[34mmatplotlib.font_manager\u001b[0m - _findfont_cached - \u001b[1;30mDEBUG\u001b[0m - \u001b[32mfindfont: score(<Font 'STIXGeneral' (STIXGeneralBolIta.ttf) italic normal bold normal>) = 11.335\u001b[0m\n",
      "\u001b[32m2019-07-06 23:37:27:\u001b[0m \u001b[34mmatplotlib.font_manager\u001b[0m - _findfont_cached - \u001b[1;30mDEBUG\u001b[0m - \u001b[32mfindfont: score(<Font 'DejaVu Serif' (DejaVuSerif-Italic.ttf) italic normal 400 normal>) = 11.05\u001b[0m\n",
      "\u001b[32m2019-07-06 23:37:27:\u001b[0m \u001b[34mmatplotlib.font_manager\u001b[0m - _findfont_cached - \u001b[1;30mDEBUG\u001b[0m - \u001b[32mfindfont: score(<Font 'STIXGeneral' (STIXGeneralItalic.ttf) italic normal 400 normal>) = 11.05\u001b[0m\n",
      "\u001b[32m2019-07-06 23:37:27:\u001b[0m \u001b[34mmatplotlib.font_manager\u001b[0m - _findfont_cached - \u001b[1;30mDEBUG\u001b[0m - \u001b[32mfindfont: score(<Font 'DejaVu Sans Mono' (DejaVuSansMono.ttf) normal normal 400 normal>) = 10.05\u001b[0m\n",
      "\u001b[32m2019-07-06 23:37:27:\u001b[0m \u001b[34mmatplotlib.font_manager\u001b[0m - _findfont_cached - \u001b[1;30mDEBUG\u001b[0m - \u001b[32mfindfont: score(<Font 'STIXSizeTwoSym' (STIXSizTwoSymReg.ttf) normal normal regular normal>) = 10.05\u001b[0m\n",
      "\u001b[32m2019-07-06 23:37:27:\u001b[0m \u001b[34mmatplotlib.font_manager\u001b[0m - _findfont_cached - \u001b[1;30mDEBUG\u001b[0m - \u001b[32mfindfont: score(<Font 'DejaVu Sans' (DejaVuSans-Oblique.ttf) oblique normal 400 normal>) = 1.05\u001b[0m\n",
      "\u001b[32m2019-07-06 23:37:27:\u001b[0m \u001b[34mmatplotlib.font_manager\u001b[0m - _findfont_cached - \u001b[1;30mDEBUG\u001b[0m - \u001b[32mfindfont: score(<Font 'DejaVu Sans' (DejaVuSans-BoldOblique.ttf) oblique normal bold normal>) = 1.335\u001b[0m\n",
      "\u001b[32m2019-07-06 23:37:27:\u001b[0m \u001b[34mmatplotlib.font_manager\u001b[0m - _findfont_cached - \u001b[1;30mDEBUG\u001b[0m - \u001b[32mfindfont: score(<Font 'STIXNonUnicode' (STIXNonUniBolIta.ttf) italic normal bold normal>) = 11.335\u001b[0m\n",
      "\u001b[32m2019-07-06 23:37:27:\u001b[0m \u001b[34mmatplotlib.font_manager\u001b[0m - _findfont_cached - \u001b[1;30mDEBUG\u001b[0m - \u001b[32mfindfont: score(<Font 'cmss10' (cmss10.ttf) normal normal 400 normal>) = 10.05\u001b[0m\n",
      "\u001b[32m2019-07-06 23:37:27:\u001b[0m \u001b[34mmatplotlib.font_manager\u001b[0m - _findfont_cached - \u001b[1;30mDEBUG\u001b[0m - \u001b[32mfindfont: score(<Font 'DejaVu Sans Mono' (DejaVuSansMono-BoldOblique.ttf) oblique normal bold normal>) = 11.335\u001b[0m\n",
      "\u001b[32m2019-07-06 23:37:27:\u001b[0m \u001b[34mmatplotlib.font_manager\u001b[0m - _findfont_cached - \u001b[1;30mDEBUG\u001b[0m - \u001b[32mfindfont: score(<Font 'DejaVu Sans Mono' (DejaVuSansMono-Bold.ttf) normal normal bold normal>) = 10.335\u001b[0m\n",
      "\u001b[32m2019-07-06 23:37:27:\u001b[0m \u001b[34mmatplotlib.font_manager\u001b[0m - _findfont_cached - \u001b[1;30mDEBUG\u001b[0m - \u001b[32mfindfont: score(<Font 'DejaVu Sans' (DejaVuSans.ttf) normal normal 400 normal>) = 0.05\u001b[0m\n",
      "\u001b[32m2019-07-06 23:37:27:\u001b[0m \u001b[34mmatplotlib.font_manager\u001b[0m - _findfont_cached - \u001b[1;30mDEBUG\u001b[0m - \u001b[32mfindfont: score(<Font 'DejaVu Sans' (DejaVuSans-Bold.ttf) normal normal bold normal>) = 0.33499999999999996\u001b[0m\n",
      "\u001b[32m2019-07-06 23:37:27:\u001b[0m \u001b[34mmatplotlib.font_manager\u001b[0m - _findfont_cached - \u001b[1;30mDEBUG\u001b[0m - \u001b[32mfindfont: score(<Font 'cmr10' (cmr10.ttf) normal normal 400 normal>) = 10.05\u001b[0m\n",
      "\u001b[32m2019-07-06 23:37:27:\u001b[0m \u001b[34mmatplotlib.font_manager\u001b[0m - _findfont_cached - \u001b[1;30mDEBUG\u001b[0m - \u001b[32mfindfont: score(<Font 'DejaVu Serif' (DejaVuSerif-Bold.ttf) normal normal bold normal>) = 10.335\u001b[0m\n",
      "\u001b[32m2019-07-06 23:37:27:\u001b[0m \u001b[34mmatplotlib.font_manager\u001b[0m - _findfont_cached - \u001b[1;30mDEBUG\u001b[0m - \u001b[32mfindfont: score(<Font 'STIXSizeOneSym' (STIXSizOneSymBol.ttf) normal normal bold normal>) = 10.335\u001b[0m\n",
      "\u001b[32m2019-07-06 23:37:27:\u001b[0m \u001b[34mmatplotlib.font_manager\u001b[0m - _findfont_cached - \u001b[1;30mDEBUG\u001b[0m - \u001b[32mfindfont: score(<Font 'STIXSizeThreeSym' (STIXSizThreeSymReg.ttf) normal normal regular normal>) = 10.05\u001b[0m\n",
      "\u001b[32m2019-07-06 23:37:27:\u001b[0m \u001b[34mmatplotlib.font_manager\u001b[0m - _findfont_cached - \u001b[1;30mDEBUG\u001b[0m - \u001b[32mfindfont: score(<Font 'cmb10' (cmb10.ttf) normal normal 400 normal>) = 10.05\u001b[0m\n",
      "\u001b[32m2019-07-06 23:37:27:\u001b[0m \u001b[34mmatplotlib.font_manager\u001b[0m - _findfont_cached - \u001b[1;30mDEBUG\u001b[0m - \u001b[32mfindfont: score(<Font 'cmex10' (cmex10.ttf) normal normal 400 normal>) = 10.05\u001b[0m\n",
      "\u001b[32m2019-07-06 23:37:27:\u001b[0m \u001b[34mmatplotlib.font_manager\u001b[0m - _findfont_cached - \u001b[1;30mDEBUG\u001b[0m - \u001b[32mfindfont: score(<Font 'cmmi10' (cmmi10.ttf) normal normal 400 normal>) = 10.05\u001b[0m\n",
      "\u001b[32m2019-07-06 23:37:27:\u001b[0m \u001b[34mmatplotlib.font_manager\u001b[0m - _findfont_cached - \u001b[1;30mDEBUG\u001b[0m - \u001b[32mfindfont: score(<Font 'DejaVu Sans Mono' (DejaVuSansMono-Oblique.ttf) oblique normal 400 normal>) = 11.05\u001b[0m\n",
      "\u001b[32m2019-07-06 23:37:27:\u001b[0m \u001b[34mmatplotlib.font_manager\u001b[0m - _findfont_cached - \u001b[1;30mDEBUG\u001b[0m - \u001b[32mfindfont: score(<Font 'STIXNonUnicode' (STIXNonUni.ttf) normal normal regular normal>) = 10.05\u001b[0m\n",
      "\u001b[32m2019-07-06 23:37:27:\u001b[0m \u001b[34mmatplotlib.font_manager\u001b[0m - _findfont_cached - \u001b[1;30mDEBUG\u001b[0m - \u001b[32mfindfont: score(<Font 'STIXSizeFourSym' (STIXSizFourSymReg.ttf) normal normal regular normal>) = 10.05\u001b[0m\n",
      "\u001b[32m2019-07-06 23:37:27:\u001b[0m \u001b[34mmatplotlib.font_manager\u001b[0m - _findfont_cached - \u001b[1;30mDEBUG\u001b[0m - \u001b[32mfindfont: score(<Font 'STIXSizeThreeSym' (STIXSizThreeSymBol.ttf) normal normal bold normal>) = 10.335\u001b[0m\n",
      "\u001b[32m2019-07-06 23:37:27:\u001b[0m \u001b[34mmatplotlib.font_manager\u001b[0m - _findfont_cached - \u001b[1;30mDEBUG\u001b[0m - \u001b[32mfindfont: score(<Font 'STIXSizeFiveSym' (STIXSizFiveSymReg.ttf) normal normal regular normal>) = 10.05\u001b[0m\n",
      "\u001b[32m2019-07-06 23:37:27:\u001b[0m \u001b[34mmatplotlib.font_manager\u001b[0m - _findfont_cached - \u001b[1;30mDEBUG\u001b[0m - \u001b[32mfindfont: score(<Font 'STIXNonUnicode' (STIXNonUniIta.ttf) italic normal 400 normal>) = 11.05\u001b[0m\n",
      "\u001b[32m2019-07-06 23:37:27:\u001b[0m \u001b[34mmatplotlib.font_manager\u001b[0m - _findfont_cached - \u001b[1;30mDEBUG\u001b[0m - \u001b[32mfindfont: score(<Font 'DejaVu Serif' (DejaVuSerif-BoldItalic.ttf) italic normal bold normal>) = 11.335\u001b[0m\n",
      "\u001b[32m2019-07-06 23:37:27:\u001b[0m \u001b[34mmatplotlib.font_manager\u001b[0m - _findfont_cached - \u001b[1;30mDEBUG\u001b[0m - \u001b[32mfindfont: score(<Font 'STIXSizeTwoSym' (STIXSizTwoSymBol.ttf) normal normal bold normal>) = 10.335\u001b[0m\n",
      "\u001b[32m2019-07-06 23:37:27:\u001b[0m \u001b[34mmatplotlib.font_manager\u001b[0m - _findfont_cached - \u001b[1;30mDEBUG\u001b[0m - \u001b[32mfindfont: score(<Font 'STIXGeneral' (STIXGeneral.ttf) normal normal regular normal>) = 10.05\u001b[0m\n",
      "\u001b[32m2019-07-06 23:37:27:\u001b[0m \u001b[34mmatplotlib.font_manager\u001b[0m - _findfont_cached - \u001b[1;30mDEBUG\u001b[0m - \u001b[32mfindfont: score(<Font 'DejaVu Serif' (DejaVuSerif.ttf) normal normal 400 normal>) = 10.05\u001b[0m\n",
      "\u001b[32m2019-07-06 23:37:27:\u001b[0m \u001b[34mmatplotlib.font_manager\u001b[0m - _findfont_cached - \u001b[1;30mDEBUG\u001b[0m - \u001b[32mfindfont: score(<Font 'STIXIntegralsUpSm' (STIXIntUpSmBol.otf) normal normal bold normal>) = 10.335\u001b[0m\n"
     ]
    },
    {
     "name": "stdout",
     "output_type": "stream",
     "text": [
      "\u001b[32m2019-07-06 23:37:27:\u001b[0m \u001b[34mmatplotlib.font_manager\u001b[0m - _findfont_cached - \u001b[1;30mDEBUG\u001b[0m - \u001b[32mfindfont: score(<Font 'Luxi Serif' (luxirr.ttf) normal normal regular normal>) = 10.05\u001b[0m\n",
      "\u001b[32m2019-07-06 23:37:27:\u001b[0m \u001b[34mmatplotlib.font_manager\u001b[0m - _findfont_cached - \u001b[1;30mDEBUG\u001b[0m - \u001b[32mfindfont: score(<Font 'Gurmukhi MN' (Gurmukhi MN.ttc) normal normal 400 normal>) = 10.05\u001b[0m\n",
      "\u001b[32m2019-07-06 23:37:27:\u001b[0m \u001b[34mmatplotlib.font_manager\u001b[0m - _findfont_cached - \u001b[1;30mDEBUG\u001b[0m - \u001b[32mfindfont: score(<Font 'Luxi Mono' (luximr.ttf) normal normal regular normal>) = 10.05\u001b[0m\n",
      "\u001b[32m2019-07-06 23:37:27:\u001b[0m \u001b[34mmatplotlib.font_manager\u001b[0m - _findfont_cached - \u001b[1;30mDEBUG\u001b[0m - \u001b[32mfindfont: score(<Font 'LingWai SC' (LingWaiSC-Medium.otf) normal normal medium normal>) = 10.145\u001b[0m\n",
      "\u001b[32m2019-07-06 23:37:27:\u001b[0m \u001b[34mmatplotlib.font_manager\u001b[0m - _findfont_cached - \u001b[1;30mDEBUG\u001b[0m - \u001b[32mfindfont: score(<Font 'Sinhala Sangam MN' (Sinhala Sangam MN.ttc) normal normal 400 normal>) = 10.05\u001b[0m\n",
      "\u001b[32m2019-07-06 23:37:27:\u001b[0m \u001b[34mmatplotlib.font_manager\u001b[0m - _findfont_cached - \u001b[1;30mDEBUG\u001b[0m - \u001b[32mfindfont: score(<Font 'Montserrat ExtraBold' (Montserrat-ExtraBold.ttf) normal normal bold normal>) = 10.335\u001b[0m\n",
      "\u001b[32m2019-07-06 23:37:27:\u001b[0m \u001b[34mmatplotlib.font_manager\u001b[0m - _findfont_cached - \u001b[1;30mDEBUG\u001b[0m - \u001b[32mfindfont: score(<Font 'Bitstream Vera Sans Mono' (VeraMono.ttf) normal normal 400 normal>) = 10.05\u001b[0m\n",
      "\u001b[32m2019-07-06 23:37:27:\u001b[0m \u001b[34mmatplotlib.font_manager\u001b[0m - _findfont_cached - \u001b[1;30mDEBUG\u001b[0m - \u001b[32mfindfont: score(<Font 'Montserrat Light' (Montserrat-LightItalic.ttf) italic normal light normal>) = 11.24\u001b[0m\n",
      "\u001b[32m2019-07-06 23:37:27:\u001b[0m \u001b[34mmatplotlib.font_manager\u001b[0m - _findfont_cached - \u001b[1;30mDEBUG\u001b[0m - \u001b[32mfindfont: score(<Font 'Montserrat ExtraLight' (Montserrat-ExtraLight.ttf) normal normal light normal>) = 10.24\u001b[0m\n",
      "\u001b[32m2019-07-06 23:37:27:\u001b[0m \u001b[34mmatplotlib.font_manager\u001b[0m - _findfont_cached - \u001b[1;30mDEBUG\u001b[0m - \u001b[32mfindfont: score(<Font '.SF NS Display Condensed' (SFNSDisplayCondensed-Medium.otf) normal normal medium condensed>) = 10.344999999999999\u001b[0m\n",
      "\u001b[32m2019-07-06 23:37:27:\u001b[0m \u001b[34mmatplotlib.font_manager\u001b[0m - _findfont_cached - \u001b[1;30mDEBUG\u001b[0m - \u001b[32mfindfont: score(<Font 'Plantagenet Cherokee' (PlantagenetCherokee.ttf) normal normal 400 normal>) = 10.05\u001b[0m\n",
      "\u001b[32m2019-07-06 23:37:27:\u001b[0m \u001b[34mmatplotlib.font_manager\u001b[0m - _findfont_cached - \u001b[1;30mDEBUG\u001b[0m - \u001b[32mfindfont: score(<Font 'Chalkboard' (Chalkboard.ttc) normal normal 400 normal>) = 10.05\u001b[0m\n",
      "\u001b[32m2019-07-06 23:37:27:\u001b[0m \u001b[34mmatplotlib.font_manager\u001b[0m - _findfont_cached - \u001b[1;30mDEBUG\u001b[0m - \u001b[32mfindfont: score(<Font 'Myanmar MN' (Myanmar MN.ttc) normal normal 400 normal>) = 10.05\u001b[0m\n",
      "\u001b[32m2019-07-06 23:37:27:\u001b[0m \u001b[34mmatplotlib.font_manager\u001b[0m - _findfont_cached - \u001b[1;30mDEBUG\u001b[0m - \u001b[32mfindfont: score(<Font 'Menlo' (Menlo.ttc) normal normal regular normal>) = 10.05\u001b[0m\n",
      "\u001b[32m2019-07-06 23:37:27:\u001b[0m \u001b[34mmatplotlib.font_manager\u001b[0m - _findfont_cached - \u001b[1;30mDEBUG\u001b[0m - \u001b[32mfindfont: score(<Font 'Luxi Sans' (luxisbi.ttf) oblique normal bold normal>) = 11.335\u001b[0m\n",
      "\u001b[32m2019-07-06 23:37:27:\u001b[0m \u001b[34mmatplotlib.font_manager\u001b[0m - _findfont_cached - \u001b[1;30mDEBUG\u001b[0m - \u001b[32mfindfont: score(<Font 'Bitstream Vera Sans Mono' (VeraMoBI.ttf) oblique normal bold normal>) = 11.335\u001b[0m\n",
      "\u001b[32m2019-07-06 23:37:27:\u001b[0m \u001b[34mmatplotlib.font_manager\u001b[0m - _findfont_cached - \u001b[1;30mDEBUG\u001b[0m - \u001b[32mfindfont: score(<Font '.SF Compact Text' (SFCompactText-RegularItalic.otf) italic normal 400 normal>) = 11.05\u001b[0m\n",
      "\u001b[32m2019-07-06 23:37:27:\u001b[0m \u001b[34mmatplotlib.font_manager\u001b[0m - _findfont_cached - \u001b[1;30mDEBUG\u001b[0m - \u001b[32mfindfont: score(<Font 'Farah' (Farah.ttc) normal normal regular normal>) = 10.05\u001b[0m\n",
      "\u001b[32m2019-07-06 23:37:27:\u001b[0m \u001b[34mmatplotlib.font_manager\u001b[0m - _findfont_cached - \u001b[1;30mDEBUG\u001b[0m - \u001b[32mfindfont: score(<Font 'Heiti TC' (STHeiti Light.ttc) normal normal light normal>) = 10.24\u001b[0m\n",
      "\u001b[32m2019-07-06 23:37:27:\u001b[0m \u001b[34mmatplotlib.font_manager\u001b[0m - _findfont_cached - \u001b[1;30mDEBUG\u001b[0m - \u001b[32mfindfont: score(<Font 'Impact' (Impact.ttf) normal normal 400 normal>) = 10.05\u001b[0m\n",
      "\u001b[32m2019-07-06 23:37:27:\u001b[0m \u001b[34mmatplotlib.font_manager\u001b[0m - _findfont_cached - \u001b[1;30mDEBUG\u001b[0m - \u001b[32mfindfont: score(<Font 'Serto Mardin' (SyrCOMMardin.otf) normal normal 400 normal>) = 10.05\u001b[0m\n",
      "\u001b[32m2019-07-06 23:37:27:\u001b[0m \u001b[34mmatplotlib.font_manager\u001b[0m - _findfont_cached - \u001b[1;30mDEBUG\u001b[0m - \u001b[32mfindfont: score(<Font 'AppleGothic' (AppleGothic.ttf) normal normal regular normal>) = 10.05\u001b[0m\n",
      "\u001b[32m2019-07-06 23:37:27:\u001b[0m \u001b[34mmatplotlib.font_manager\u001b[0m - _findfont_cached - \u001b[1;30mDEBUG\u001b[0m - \u001b[32mfindfont: score(<Font 'Bitstream Vera Serif' (VeraSe.ttf) normal normal 400 normal>) = 10.05\u001b[0m\n",
      "\u001b[32m2019-07-06 23:37:27:\u001b[0m \u001b[34mmatplotlib.font_manager\u001b[0m - _findfont_cached - \u001b[1;30mDEBUG\u001b[0m - \u001b[32mfindfont: score(<Font 'Diwan Kufi' (Diwan Kufi.ttc) normal normal regular normal>) = 10.05\u001b[0m\n",
      "\u001b[32m2019-07-06 23:37:27:\u001b[0m \u001b[34mmatplotlib.font_manager\u001b[0m - _findfont_cached - \u001b[1;30mDEBUG\u001b[0m - \u001b[32mfindfont: score(<Font 'Myanmar Sangam MN' (Myanmar Sangam MN.ttc) normal normal 400 normal>) = 10.05\u001b[0m\n",
      "\u001b[32m2019-07-06 23:37:27:\u001b[0m \u001b[34mmatplotlib.font_manager\u001b[0m - _findfont_cached - \u001b[1;30mDEBUG\u001b[0m - \u001b[32mfindfont: score(<Font 'Roboto Medium' (Roboto-Medium.ttf) normal normal medium normal>) = 10.145\u001b[0m\n",
      "\u001b[32m2019-07-06 23:37:27:\u001b[0m \u001b[34mmatplotlib.font_manager\u001b[0m - _findfont_cached - \u001b[1;30mDEBUG\u001b[0m - \u001b[32mfindfont: score(<Font 'Apple Braille' (Apple Braille.ttf) normal normal 400 normal>) = 10.05\u001b[0m\n",
      "\u001b[32m2019-07-06 23:37:27:\u001b[0m \u001b[34mmatplotlib.font_manager\u001b[0m - _findfont_cached - \u001b[1;30mDEBUG\u001b[0m - \u001b[32mfindfont: score(<Font 'STIXIntegralsUpSm' (STIXIntUpSmReg.otf) normal normal regular normal>) = 10.05\u001b[0m\n",
      "\u001b[32m2019-07-06 23:37:27:\u001b[0m \u001b[34mmatplotlib.font_manager\u001b[0m - _findfont_cached - \u001b[1;30mDEBUG\u001b[0m - \u001b[32mfindfont: score(<Font 'STIXIntegralsUp' (STIXIntUpReg.otf) normal normal regular normal>) = 10.05\u001b[0m\n",
      "\u001b[32m2019-07-06 23:37:27:\u001b[0m \u001b[34mmatplotlib.font_manager\u001b[0m - _findfont_cached - \u001b[1;30mDEBUG\u001b[0m - \u001b[32mfindfont: score(<Font 'Serto Malankara' (SyrCOMMalankara.otf) normal normal 400 normal>) = 10.05\u001b[0m\n",
      "\u001b[32m2019-07-06 23:37:27:\u001b[0m \u001b[34mmatplotlib.font_manager\u001b[0m - _findfont_cached - \u001b[1;30mDEBUG\u001b[0m - \u001b[32mfindfont: score(<Font 'Al Nile' (Al Nile.ttc) normal normal 400 normal>) = 10.05\u001b[0m\n",
      "\u001b[32m2019-07-06 23:37:27:\u001b[0m \u001b[34mmatplotlib.font_manager\u001b[0m - _findfont_cached - \u001b[1;30mDEBUG\u001b[0m - \u001b[32mfindfont: score(<Font 'STIXNonUnicode' (STIXNonUniIta.otf) italic normal 400 normal>) = 11.05\u001b[0m\n",
      "\u001b[32m2019-07-06 23:37:27:\u001b[0m \u001b[34mmatplotlib.font_manager\u001b[0m - _findfont_cached - \u001b[1;30mDEBUG\u001b[0m - \u001b[32mfindfont: score(<Font '.SF NS Display Condensed' (SFNSDisplayCondensed-Regular.otf) normal normal regular condensed>) = 10.25\u001b[0m\n",
      "\u001b[32m2019-07-06 23:37:27:\u001b[0m \u001b[34mmatplotlib.font_manager\u001b[0m - _findfont_cached - \u001b[1;30mDEBUG\u001b[0m - \u001b[32mfindfont: score(<Font '.SF Compact Rounded' (SFCompactRounded-Semibold.otf) normal normal semibold normal>) = 10.24\u001b[0m\n",
      "\u001b[32m2019-07-06 23:37:27:\u001b[0m \u001b[34mmatplotlib.font_manager\u001b[0m - _findfont_cached - \u001b[1;30mDEBUG\u001b[0m - \u001b[32mfindfont: score(<Font 'Weibei SC' (WeibeiSC-Bold.otf) normal normal bold normal>) = 10.335\u001b[0m\n",
      "\u001b[32m2019-07-06 23:37:27:\u001b[0m \u001b[34mmatplotlib.font_manager\u001b[0m - _findfont_cached - \u001b[1;30mDEBUG\u001b[0m - \u001b[32mfindfont: score(<Font 'Waseem' (Waseem.ttc) normal normal regular normal>) = 10.05\u001b[0m\n",
      "\u001b[32m2019-07-06 23:37:27:\u001b[0m \u001b[34mmatplotlib.font_manager\u001b[0m - _findfont_cached - \u001b[1;30mDEBUG\u001b[0m - \u001b[32mfindfont: score(<Font 'Sukhumvit Set' (SukhumvitSet.ttc) normal normal 400 normal>) = 10.05\u001b[0m\n",
      "\u001b[32m2019-07-06 23:37:27:\u001b[0m \u001b[34mmatplotlib.font_manager\u001b[0m - _findfont_cached - \u001b[1;30mDEBUG\u001b[0m - \u001b[32mfindfont: score(<Font 'PingFang HK' (PingFang.ttc) normal normal regular normal>) = 10.05\u001b[0m\n",
      "\u001b[32m2019-07-06 23:37:27:\u001b[0m \u001b[34mmatplotlib.font_manager\u001b[0m - _findfont_cached - \u001b[1;30mDEBUG\u001b[0m - \u001b[32mfindfont: score(<Font 'Noteworthy' (Noteworthy.ttc) normal normal light normal>) = 10.24\u001b[0m\n",
      "\u001b[32m2019-07-06 23:37:27:\u001b[0m \u001b[34mmatplotlib.font_manager\u001b[0m - _findfont_cached - \u001b[1;30mDEBUG\u001b[0m - \u001b[32mfindfont: score(<Font 'STIXSizeFourSym' (STIXSizFourSymReg.otf) normal normal regular normal>) = 10.05\u001b[0m\n"
     ]
    },
    {
     "name": "stdout",
     "output_type": "stream",
     "text": [
      "\u001b[32m2019-07-06 23:37:27:\u001b[0m \u001b[34mmatplotlib.font_manager\u001b[0m - _findfont_cached - \u001b[1;30mDEBUG\u001b[0m - \u001b[32mfindfont: score(<Font 'PCMyungjo' (PCmyoungjo.ttf) normal normal regular normal>) = 10.05\u001b[0m\n",
      "\u001b[32m2019-07-06 23:37:27:\u001b[0m \u001b[34mmatplotlib.font_manager\u001b[0m - _findfont_cached - \u001b[1;30mDEBUG\u001b[0m - \u001b[32mfindfont: score(<Font 'Trebuchet MS' (Trebuchet MS Italic.ttf) italic normal 400 normal>) = 11.05\u001b[0m\n",
      "\u001b[32m2019-07-06 23:37:27:\u001b[0m \u001b[34mmatplotlib.font_manager\u001b[0m - _findfont_cached - \u001b[1;30mDEBUG\u001b[0m - \u001b[32mfindfont: score(<Font '.SF Compact Rounded' (SFCompactRounded-Regular.otf) normal normal regular normal>) = 10.05\u001b[0m\n",
      "\u001b[32m2019-07-06 23:37:27:\u001b[0m \u001b[34mmatplotlib.font_manager\u001b[0m - _findfont_cached - \u001b[1;30mDEBUG\u001b[0m - \u001b[32mfindfont: score(<Font 'Telugu Sangam MN' (Telugu Sangam MN.ttc) normal normal 400 normal>) = 10.05\u001b[0m\n",
      "\u001b[32m2019-07-06 23:37:27:\u001b[0m \u001b[34mmatplotlib.font_manager\u001b[0m - _findfont_cached - \u001b[1;30mDEBUG\u001b[0m - \u001b[32mfindfont: score(<Font 'Apple SD Gothic Neo' (AppleSDGothicNeo.ttc) normal normal regular normal>) = 10.05\u001b[0m\n",
      "\u001b[32m2019-07-06 23:37:27:\u001b[0m \u001b[34mmatplotlib.font_manager\u001b[0m - _findfont_cached - \u001b[1;30mDEBUG\u001b[0m - \u001b[32mfindfont: score(<Font '.SF Compact Text' (SFCompactText-LightItalic.otf) italic normal light normal>) = 11.24\u001b[0m\n",
      "\u001b[32m2019-07-06 23:37:27:\u001b[0m \u001b[34mmatplotlib.font_manager\u001b[0m - _findfont_cached - \u001b[1;30mDEBUG\u001b[0m - \u001b[32mfindfont: score(<Font 'Mishafi Gold' (Mishafi Gold.ttf) normal normal regular normal>) = 10.05\u001b[0m\n",
      "\u001b[32m2019-07-06 23:37:27:\u001b[0m \u001b[34mmatplotlib.font_manager\u001b[0m - _findfont_cached - \u001b[1;30mDEBUG\u001b[0m - \u001b[32mfindfont: score(<Font '.SF Compact Text' (SFCompactText-Medium.otf) normal normal medium normal>) = 10.145\u001b[0m\n",
      "\u001b[32m2019-07-06 23:37:27:\u001b[0m \u001b[34mmatplotlib.font_manager\u001b[0m - _findfont_cached - \u001b[1;30mDEBUG\u001b[0m - \u001b[32mfindfont: score(<Font 'Kai' (Kai.ttf) normal normal regular normal>) = 10.05\u001b[0m\n",
      "\u001b[32m2019-07-06 23:37:27:\u001b[0m \u001b[34mmatplotlib.font_manager\u001b[0m - _findfont_cached - \u001b[1;30mDEBUG\u001b[0m - \u001b[32mfindfont: score(<Font 'Wingdings 3' (Wingdings 3.ttf) normal normal 400 normal>) = 10.05\u001b[0m\n",
      "\u001b[32m2019-07-06 23:37:27:\u001b[0m \u001b[34mmatplotlib.font_manager\u001b[0m - _findfont_cached - \u001b[1;30mDEBUG\u001b[0m - \u001b[32mfindfont: score(<Font '.SF Compact Display' (SFCompactDisplay-Regular.otf) normal normal regular normal>) = 10.05\u001b[0m\n",
      "\u001b[32m2019-07-06 23:37:27:\u001b[0m \u001b[34mmatplotlib.font_manager\u001b[0m - _findfont_cached - \u001b[1;30mDEBUG\u001b[0m - \u001b[32mfindfont: score(<Font 'Futura' (Futura.ttc) normal normal medium normal>) = 10.145\u001b[0m\n",
      "\u001b[32m2019-07-06 23:37:27:\u001b[0m \u001b[34mmatplotlib.font_manager\u001b[0m - _findfont_cached - \u001b[1;30mDEBUG\u001b[0m - \u001b[32mfindfont: score(<Font 'LiHei Pro' (LiHeiPro.ttf) normal normal 400 normal>) = 10.05\u001b[0m\n",
      "\u001b[32m2019-07-06 23:37:27:\u001b[0m \u001b[34mmatplotlib.font_manager\u001b[0m - _findfont_cached - \u001b[1;30mDEBUG\u001b[0m - \u001b[32mfindfont: score(<Font 'STIXIntegralsSm' (STIXIntSmBol.otf) normal normal bold normal>) = 10.335\u001b[0m\n",
      "\u001b[32m2019-07-06 23:37:27:\u001b[0m \u001b[34mmatplotlib.font_manager\u001b[0m - _findfont_cached - \u001b[1;30mDEBUG\u001b[0m - \u001b[32mfindfont: score(<Font 'Estrangelo Nisibin' (SyrCOMNisibin.otf) normal normal 400 normal>) = 10.05\u001b[0m\n",
      "\u001b[32m2019-07-06 23:37:27:\u001b[0m \u001b[34mmatplotlib.font_manager\u001b[0m - _findfont_cached - \u001b[1;30mDEBUG\u001b[0m - \u001b[32mfindfont: score(<Font 'Hiragino Mincho ProN' (ヒラギノ明朝 ProN.ttc) normal normal 400 normal>) = 10.05\u001b[0m\n",
      "\u001b[32m2019-07-06 23:37:27:\u001b[0m \u001b[34mmatplotlib.font_manager\u001b[0m - _findfont_cached - \u001b[1;30mDEBUG\u001b[0m - \u001b[32mfindfont: score(<Font 'Hiragino Sans' (ヒラギノ角ゴシック W3.ttc) normal normal 400 normal>) = 10.05\u001b[0m\n",
      "\u001b[32m2019-07-06 23:37:27:\u001b[0m \u001b[34mmatplotlib.font_manager\u001b[0m - _findfont_cached - \u001b[1;30mDEBUG\u001b[0m - \u001b[32mfindfont: score(<Font 'Arial' (Arial.ttf) normal normal 400 normal>) = 6.413636363636363\u001b[0m\n",
      "\u001b[32m2019-07-06 23:37:27:\u001b[0m \u001b[34mmatplotlib.font_manager\u001b[0m - _findfont_cached - \u001b[1;30mDEBUG\u001b[0m - \u001b[32mfindfont: score(<Font 'Farisi' (Farisi.ttf) normal normal regular normal>) = 10.05\u001b[0m\n",
      "\u001b[32m2019-07-06 23:37:27:\u001b[0m \u001b[34mmatplotlib.font_manager\u001b[0m - _findfont_cached - \u001b[1;30mDEBUG\u001b[0m - \u001b[32mfindfont: score(<Font '.SF NS Text Condensed' (SFNSTextCondensed-Light.otf) normal normal light condensed>) = 10.44\u001b[0m\n",
      "\u001b[32m2019-07-06 23:37:27:\u001b[0m \u001b[34mmatplotlib.font_manager\u001b[0m - _findfont_cached - \u001b[1;30mDEBUG\u001b[0m - \u001b[32mfindfont: score(<Font 'DIN Alternate' (DIN Alternate Bold.ttf) normal normal bold normal>) = 10.335\u001b[0m\n",
      "\u001b[32m2019-07-06 23:37:27:\u001b[0m \u001b[34mmatplotlib.font_manager\u001b[0m - _findfont_cached - \u001b[1;30mDEBUG\u001b[0m - \u001b[32mfindfont: score(<Font '.SF NS Text Condensed' (SFNSTextCondensed-Bold.otf) normal normal bold condensed>) = 10.535\u001b[0m\n",
      "\u001b[32m2019-07-06 23:37:27:\u001b[0m \u001b[34mmatplotlib.font_manager\u001b[0m - _findfont_cached - \u001b[1;30mDEBUG\u001b[0m - \u001b[32mfindfont: score(<Font '.LastResort' (LastResort.otf) normal normal 400 normal>) = 10.05\u001b[0m\n",
      "\u001b[32m2019-07-06 23:37:27:\u001b[0m \u001b[34mmatplotlib.font_manager\u001b[0m - _findfont_cached - \u001b[1;30mDEBUG\u001b[0m - \u001b[32mfindfont: score(<Font 'Bitstream Vera Sans' (VeraIt.ttf) oblique normal 400 normal>) = 1.9590909090909092\u001b[0m\n",
      "\u001b[32m2019-07-06 23:37:27:\u001b[0m \u001b[34mmatplotlib.font_manager\u001b[0m - _findfont_cached - \u001b[1;30mDEBUG\u001b[0m - \u001b[32mfindfont: score(<Font 'STFangsong' (STFANGSO.ttf) normal normal 400 normal>) = 10.05\u001b[0m\n",
      "\u001b[32m2019-07-06 23:37:27:\u001b[0m \u001b[34mmatplotlib.font_manager\u001b[0m - _findfont_cached - \u001b[1;30mDEBUG\u001b[0m - \u001b[32mfindfont: score(<Font 'Montserrat SemiBold' (Montserrat-SemiBoldItalic.ttf) italic normal semibold normal>) = 11.24\u001b[0m\n",
      "\u001b[32m2019-07-06 23:37:27:\u001b[0m \u001b[34mmatplotlib.font_manager\u001b[0m - _findfont_cached - \u001b[1;30mDEBUG\u001b[0m - \u001b[32mfindfont: score(<Font 'Nanum Brush Script' (NanumScript.ttc) normal normal 400 normal>) = 10.05\u001b[0m\n",
      "\u001b[32m2019-07-06 23:37:27:\u001b[0m \u001b[34mmatplotlib.font_manager\u001b[0m - _findfont_cached - \u001b[1;30mDEBUG\u001b[0m - \u001b[32mfindfont: score(<Font 'YuGothic' (YuGothic-Bold.otf) normal normal bold normal>) = 10.335\u001b[0m\n",
      "\u001b[32m2019-07-06 23:37:27:\u001b[0m \u001b[34mmatplotlib.font_manager\u001b[0m - _findfont_cached - \u001b[1;30mDEBUG\u001b[0m - \u001b[32mfindfont: score(<Font '.SF Compact Rounded' (SFCompactRounded-Ultralight.otf) normal normal ultralight normal>) = 10.335\u001b[0m\n",
      "\u001b[32m2019-07-06 23:37:27:\u001b[0m \u001b[34mmatplotlib.font_manager\u001b[0m - _findfont_cached - \u001b[1;30mDEBUG\u001b[0m - \u001b[32mfindfont: score(<Font 'Hiragino Maru Gothic Pro' (ヒラギノ丸ゴ ProN W4.ttc) normal normal 400 normal>) = 10.05\u001b[0m\n",
      "\u001b[32m2019-07-06 23:37:27:\u001b[0m \u001b[34mmatplotlib.font_manager\u001b[0m - _findfont_cached - \u001b[1;30mDEBUG\u001b[0m - \u001b[32mfindfont: score(<Font '.SF NS Display Condensed' (SFNSDisplayCondensed-Light.otf) normal normal light condensed>) = 10.44\u001b[0m\n",
      "\u001b[32m2019-07-06 23:37:27:\u001b[0m \u001b[34mmatplotlib.font_manager\u001b[0m - _findfont_cached - \u001b[1;30mDEBUG\u001b[0m - \u001b[32mfindfont: score(<Font 'Savoye LET' (Savoye LET.ttc) normal normal 400 normal>) = 10.05\u001b[0m\n",
      "\u001b[32m2019-07-06 23:37:27:\u001b[0m \u001b[34mmatplotlib.font_manager\u001b[0m - _findfont_cached - \u001b[1;30mDEBUG\u001b[0m - \u001b[32mfindfont: score(<Font 'Helvetica' (Helvetica.ttc) normal normal 400 normal>) = 7.322727272727273\u001b[0m\n",
      "\u001b[32m2019-07-06 23:37:27:\u001b[0m \u001b[34mmatplotlib.font_manager\u001b[0m - _findfont_cached - \u001b[1;30mDEBUG\u001b[0m - \u001b[32mfindfont: score(<Font 'Luxi Sans' (luxisr.ttf) normal normal regular normal>) = 10.05\u001b[0m\n",
      "\u001b[32m2019-07-06 23:37:27:\u001b[0m \u001b[34mmatplotlib.font_manager\u001b[0m - _findfont_cached - \u001b[1;30mDEBUG\u001b[0m - \u001b[32mfindfont: score(<Font 'Estrangelo Talada' (SyrCOMTalada.otf) normal normal 400 normal>) = 10.05\u001b[0m\n",
      "\u001b[32m2019-07-06 23:37:27:\u001b[0m \u001b[34mmatplotlib.font_manager\u001b[0m - _findfont_cached - \u001b[1;30mDEBUG\u001b[0m - \u001b[32mfindfont: score(<Font 'Montserrat Medium' (Montserrat-Medium.ttf) normal normal medium normal>) = 10.145\u001b[0m\n",
      "\u001b[32m2019-07-06 23:37:27:\u001b[0m \u001b[34mmatplotlib.font_manager\u001b[0m - _findfont_cached - \u001b[1;30mDEBUG\u001b[0m - \u001b[32mfindfont: score(<Font 'System Font' (SFNSDisplay-ThinG2.otf) normal normal 400 normal>) = 10.05\u001b[0m\n",
      "\u001b[32m2019-07-06 23:37:27:\u001b[0m \u001b[34mmatplotlib.font_manager\u001b[0m - _findfont_cached - \u001b[1;30mDEBUG\u001b[0m - \u001b[32mfindfont: score(<Font 'Avenir Next' (Avenir Next.ttc) normal normal bold normal>) = 10.335\u001b[0m\n",
      "\u001b[32m2019-07-06 23:37:27:\u001b[0m \u001b[34mmatplotlib.font_manager\u001b[0m - _findfont_cached - \u001b[1;30mDEBUG\u001b[0m - \u001b[32mfindfont: score(<Font 'Kohinoor Devanagari' (Kohinoor.ttc) normal normal regular normal>) = 10.05\u001b[0m\n"
     ]
    },
    {
     "name": "stdout",
     "output_type": "stream",
     "text": [
      "\u001b[32m2019-07-06 23:37:27:\u001b[0m \u001b[34mmatplotlib.font_manager\u001b[0m - _findfont_cached - \u001b[1;30mDEBUG\u001b[0m - \u001b[32mfindfont: score(<Font 'Geeza Pro' (GeezaPro.ttc) normal normal regular normal>) = 10.05\u001b[0m\n",
      "\u001b[32m2019-07-06 23:37:27:\u001b[0m \u001b[34mmatplotlib.font_manager\u001b[0m - _findfont_cached - \u001b[1;30mDEBUG\u001b[0m - \u001b[32mfindfont: score(<Font 'Sathu' (Sathu.ttf) normal normal 400 normal>) = 10.05\u001b[0m\n",
      "\u001b[32m2019-07-06 23:37:27:\u001b[0m \u001b[34mmatplotlib.font_manager\u001b[0m - _findfont_cached - \u001b[1;30mDEBUG\u001b[0m - \u001b[32mfindfont: score(<Font 'Comic Sans MS' (Comic Sans MS.ttf) normal normal 400 normal>) = 10.05\u001b[0m\n",
      "\u001b[32m2019-07-06 23:37:27:\u001b[0m \u001b[34mmatplotlib.font_manager\u001b[0m - _findfont_cached - \u001b[1;30mDEBUG\u001b[0m - \u001b[32mfindfont: score(<Font 'System Font' (SFNSDisplay-HeavyItalic.otf) italic normal heavy normal>) = 11.43\u001b[0m\n",
      "\u001b[32m2019-07-06 23:37:27:\u001b[0m \u001b[34mmatplotlib.font_manager\u001b[0m - _findfont_cached - \u001b[1;30mDEBUG\u001b[0m - \u001b[32mfindfont: score(<Font 'Avenir' (Avenir.ttc) normal normal book normal>) = 10.05\u001b[0m\n",
      "\u001b[32m2019-07-06 23:37:27:\u001b[0m \u001b[34mmatplotlib.font_manager\u001b[0m - _findfont_cached - \u001b[1;30mDEBUG\u001b[0m - \u001b[32mfindfont: score(<Font 'Songti SC' (Songti.ttc) normal normal black normal>) = 10.525\u001b[0m\n",
      "\u001b[32m2019-07-06 23:37:27:\u001b[0m \u001b[34mmatplotlib.font_manager\u001b[0m - _findfont_cached - \u001b[1;30mDEBUG\u001b[0m - \u001b[32mfindfont: score(<Font 'Al Tarikh' (Al Tarikh.ttc) normal normal regular normal>) = 10.05\u001b[0m\n",
      "\u001b[32m2019-07-06 23:37:27:\u001b[0m \u001b[34mmatplotlib.font_manager\u001b[0m - _findfont_cached - \u001b[1;30mDEBUG\u001b[0m - \u001b[32mfindfont: score(<Font '.SF Compact Text' (SFCompactText-SemiboldItalic.otf) italic normal semibold normal>) = 11.24\u001b[0m\n",
      "\u001b[32m2019-07-06 23:37:27:\u001b[0m \u001b[34mmatplotlib.font_manager\u001b[0m - _findfont_cached - \u001b[1;30mDEBUG\u001b[0m - \u001b[32mfindfont: score(<Font 'Phosphate' (Phosphate.ttc) normal normal 400 normal>) = 10.05\u001b[0m\n",
      "\u001b[32m2019-07-06 23:37:27:\u001b[0m \u001b[34mmatplotlib.font_manager\u001b[0m - _findfont_cached - \u001b[1;30mDEBUG\u001b[0m - \u001b[32mfindfont: score(<Font 'Bangla MN' (Bangla MN.ttc) normal normal 400 normal>) = 10.05\u001b[0m\n",
      "\u001b[32m2019-07-06 23:37:27:\u001b[0m \u001b[34mmatplotlib.font_manager\u001b[0m - _findfont_cached - \u001b[1;30mDEBUG\u001b[0m - \u001b[32mfindfont: score(<Font 'STIXIntegralsSm' (STIXIntSmReg.otf) normal normal regular normal>) = 10.05\u001b[0m\n",
      "\u001b[32m2019-07-06 23:37:27:\u001b[0m \u001b[34mmatplotlib.font_manager\u001b[0m - _findfont_cached - \u001b[1;30mDEBUG\u001b[0m - \u001b[32mfindfont: score(<Font 'Optima' (Optima.ttc) normal normal regular normal>) = 10.05\u001b[0m\n",
      "\u001b[32m2019-07-06 23:37:27:\u001b[0m \u001b[34mmatplotlib.font_manager\u001b[0m - _findfont_cached - \u001b[1;30mDEBUG\u001b[0m - \u001b[32mfindfont: score(<Font 'Roboto Black' (Roboto-BlackItalic.ttf) italic normal black normal>) = 11.525\u001b[0m\n",
      "\u001b[32m2019-07-06 23:37:27:\u001b[0m \u001b[34mmatplotlib.font_manager\u001b[0m - _findfont_cached - \u001b[1;30mDEBUG\u001b[0m - \u001b[32mfindfont: score(<Font 'Hannotate SC' (Hannotate.ttc) normal normal regular normal>) = 10.05\u001b[0m\n",
      "\u001b[32m2019-07-06 23:37:27:\u001b[0m \u001b[34mmatplotlib.font_manager\u001b[0m - _findfont_cached - \u001b[1;30mDEBUG\u001b[0m - \u001b[32mfindfont: score(<Font 'Lao Sangam MN' (Lao Sangam MN.ttf) normal normal 400 normal>) = 10.05\u001b[0m\n",
      "\u001b[32m2019-07-06 23:37:27:\u001b[0m \u001b[34mmatplotlib.font_manager\u001b[0m - _findfont_cached - \u001b[1;30mDEBUG\u001b[0m - \u001b[32mfindfont: score(<Font '.SF NS Symbols' (SFNSSymbols-Bold.otf) normal normal bold normal>) = 10.335\u001b[0m\n",
      "\u001b[32m2019-07-06 23:37:27:\u001b[0m \u001b[34mmatplotlib.font_manager\u001b[0m - _findfont_cached - \u001b[1;30mDEBUG\u001b[0m - \u001b[32mfindfont: score(<Font 'Khmer Sangam MN' (Khmer Sangam MN.ttf) normal normal 400 normal>) = 10.05\u001b[0m\n",
      "\u001b[32m2019-07-06 23:37:27:\u001b[0m \u001b[34mmatplotlib.font_manager\u001b[0m - _findfont_cached - \u001b[1;30mDEBUG\u001b[0m - \u001b[32mfindfont: score(<Font 'System Font' (SFNSDisplay-UltralightItalic.otf) italic normal ultralight normal>) = 11.335\u001b[0m\n",
      "\u001b[32m2019-07-06 23:37:27:\u001b[0m \u001b[34mmatplotlib.font_manager\u001b[0m - _findfont_cached - \u001b[1;30mDEBUG\u001b[0m - \u001b[32mfindfont: score(<Font 'System Font' (SFNSDisplay-SemiboldItalic.otf) italic normal semibold normal>) = 11.24\u001b[0m\n",
      "\u001b[32m2019-07-06 23:37:27:\u001b[0m \u001b[34mmatplotlib.font_manager\u001b[0m - _findfont_cached - \u001b[1;30mDEBUG\u001b[0m - \u001b[32mfindfont: score(<Font 'Montserrat' (Montserrat-Bold.ttf) normal normal bold normal>) = 10.335\u001b[0m\n",
      "\u001b[32m2019-07-06 23:37:27:\u001b[0m \u001b[34mmatplotlib.font_manager\u001b[0m - _findfont_cached - \u001b[1;30mDEBUG\u001b[0m - \u001b[32mfindfont: score(<Font 'STIXSizeTwoSym' (STIXSizTwoSymReg.otf) normal normal regular normal>) = 10.05\u001b[0m\n",
      "\u001b[32m2019-07-06 23:37:27:\u001b[0m \u001b[34mmatplotlib.font_manager\u001b[0m - _findfont_cached - \u001b[1;30mDEBUG\u001b[0m - \u001b[32mfindfont: score(<Font 'LingWai TC' (LingWaiTC-Medium.otf) normal normal medium normal>) = 10.145\u001b[0m\n",
      "\u001b[32m2019-07-06 23:37:27:\u001b[0m \u001b[34mmatplotlib.font_manager\u001b[0m - _findfont_cached - \u001b[1;30mDEBUG\u001b[0m - \u001b[32mfindfont: score(<Font 'STIXIntegralsUpD' (STIXIntUpDBol.otf) normal normal bold normal>) = 10.335\u001b[0m\n",
      "\u001b[32m2019-07-06 23:37:27:\u001b[0m \u001b[34mmatplotlib.font_manager\u001b[0m - _findfont_cached - \u001b[1;30mDEBUG\u001b[0m - \u001b[32mfindfont: score(<Font 'Tahoma' (Tahoma Bold.ttf) normal normal bold normal>) = 10.335\u001b[0m\n",
      "\u001b[32m2019-07-06 23:37:27:\u001b[0m \u001b[34mmatplotlib.font_manager\u001b[0m - _findfont_cached - \u001b[1;30mDEBUG\u001b[0m - \u001b[32mfindfont: score(<Font 'System Font' (SFNSDisplay-ThinG3.otf) normal normal 400 normal>) = 10.05\u001b[0m\n",
      "\u001b[32m2019-07-06 23:37:27:\u001b[0m \u001b[34mmatplotlib.font_manager\u001b[0m - _findfont_cached - \u001b[1;30mDEBUG\u001b[0m - \u001b[32mfindfont: score(<Font 'Goha-Tibeb Zemen' (GohaTibebZemen.otf) normal normal 400 normal>) = 10.05\u001b[0m\n",
      "\u001b[32m2019-07-06 23:37:27:\u001b[0m \u001b[34mmatplotlib.font_manager\u001b[0m - _findfont_cached - \u001b[1;30mDEBUG\u001b[0m - \u001b[32mfindfont: score(<Font 'Trebuchet MS' (Trebuchet MS Bold.ttf) normal normal bold normal>) = 10.335\u001b[0m\n",
      "\u001b[32m2019-07-06 23:37:27:\u001b[0m \u001b[34mmatplotlib.font_manager\u001b[0m - _findfont_cached - \u001b[1;30mDEBUG\u001b[0m - \u001b[32mfindfont: score(<Font '.SF NS Text Condensed' (SFNSTextCondensed-Semibold.otf) normal normal semibold condensed>) = 10.44\u001b[0m\n",
      "\u001b[32m2019-07-06 23:37:27:\u001b[0m \u001b[34mmatplotlib.font_manager\u001b[0m - _findfont_cached - \u001b[1;30mDEBUG\u001b[0m - \u001b[32mfindfont: score(<Font 'STIXSizeFiveSym' (STIXSizFiveSymReg.otf) normal normal regular normal>) = 10.05\u001b[0m\n",
      "\u001b[32m2019-07-06 23:37:27:\u001b[0m \u001b[34mmatplotlib.font_manager\u001b[0m - _findfont_cached - \u001b[1;30mDEBUG\u001b[0m - \u001b[32mfindfont: score(<Font 'Gurmukhi MT' (Gurmukhi.ttf) normal normal 400 normal>) = 10.05\u001b[0m\n",
      "\u001b[32m2019-07-06 23:37:27:\u001b[0m \u001b[34mmatplotlib.font_manager\u001b[0m - _findfont_cached - \u001b[1;30mDEBUG\u001b[0m - \u001b[32mfindfont: score(<Font 'Papyrus' (Papyrus.ttc) normal normal 400 condensed>) = 10.25\u001b[0m\n",
      "\u001b[32m2019-07-06 23:37:27:\u001b[0m \u001b[34mmatplotlib.font_manager\u001b[0m - _findfont_cached - \u001b[1;30mDEBUG\u001b[0m - \u001b[32mfindfont: score(<Font 'Devanagari MT' (DevanagariMT.ttc) normal normal 400 normal>) = 10.05\u001b[0m\n",
      "\u001b[32m2019-07-06 23:37:27:\u001b[0m \u001b[34mmatplotlib.font_manager\u001b[0m - _findfont_cached - \u001b[1;30mDEBUG\u001b[0m - \u001b[32mfindfont: score(<Font '.SF Compact Rounded' (SFCompactRounded-Light.otf) normal normal light normal>) = 10.24\u001b[0m\n",
      "\u001b[32m2019-07-06 23:37:27:\u001b[0m \u001b[34mmatplotlib.font_manager\u001b[0m - _findfont_cached - \u001b[1;30mDEBUG\u001b[0m - \u001b[32mfindfont: score(<Font 'Wawati SC' (WawaSC-Regular.otf) normal normal regular normal>) = 10.05\u001b[0m\n",
      "\u001b[32m2019-07-06 23:37:27:\u001b[0m \u001b[34mmatplotlib.font_manager\u001b[0m - _findfont_cached - \u001b[1;30mDEBUG\u001b[0m - \u001b[32mfindfont: score(<Font '.SF Compact Display' (SFCompactDisplay-Black.otf) normal normal black normal>) = 10.525\u001b[0m\n",
      "\u001b[32m2019-07-06 23:37:27:\u001b[0m \u001b[34mmatplotlib.font_manager\u001b[0m - _findfont_cached - \u001b[1;30mDEBUG\u001b[0m - \u001b[32mfindfont: score(<Font 'Bitstream Vera Sans Mono' (VeraMoBd.ttf) normal normal bold normal>) = 10.335\u001b[0m\n",
      "\u001b[32m2019-07-06 23:37:27:\u001b[0m \u001b[34mmatplotlib.font_manager\u001b[0m - _findfont_cached - \u001b[1;30mDEBUG\u001b[0m - \u001b[32mfindfont: score(<Font 'Times New Roman' (Times New Roman Bold.ttf) normal normal roman normal>) = 10.145\u001b[0m\n",
      "\u001b[32m2019-07-06 23:37:27:\u001b[0m \u001b[34mmatplotlib.font_manager\u001b[0m - _findfont_cached - \u001b[1;30mDEBUG\u001b[0m - \u001b[32mfindfont: score(<Font 'Marion' (Marion.ttc) normal normal regular normal>) = 10.05\u001b[0m\n",
      "\u001b[32m2019-07-06 23:37:27:\u001b[0m \u001b[34mmatplotlib.font_manager\u001b[0m - _findfont_cached - \u001b[1;30mDEBUG\u001b[0m - \u001b[32mfindfont: score(<Font 'Luxi Mono' (luximbi.ttf) oblique normal bold normal>) = 11.335\u001b[0m\n",
      "\u001b[32m2019-07-06 23:37:27:\u001b[0m \u001b[34mmatplotlib.font_manager\u001b[0m - _findfont_cached - \u001b[1;30mDEBUG\u001b[0m - \u001b[32mfindfont: score(<Font 'Cochin' (Cochin.ttc) normal normal 400 normal>) = 10.05\u001b[0m\n"
     ]
    },
    {
     "name": "stdout",
     "output_type": "stream",
     "text": [
      "\u001b[32m2019-07-06 23:37:27:\u001b[0m \u001b[34mmatplotlib.font_manager\u001b[0m - _findfont_cached - \u001b[1;30mDEBUG\u001b[0m - \u001b[32mfindfont: score(<Font '.SF Compact Rounded' (SFCompactRounded-Heavy.otf) normal normal heavy normal>) = 10.43\u001b[0m\n",
      "\u001b[32m2019-07-06 23:37:27:\u001b[0m \u001b[34mmatplotlib.font_manager\u001b[0m - _findfont_cached - \u001b[1;30mDEBUG\u001b[0m - \u001b[32mfindfont: score(<Font 'Montserrat ExtraLight' (Montserrat-ExtraLightItalic.ttf) italic normal light normal>) = 11.24\u001b[0m\n",
      "\u001b[32m2019-07-06 23:37:27:\u001b[0m \u001b[34mmatplotlib.font_manager\u001b[0m - _findfont_cached - \u001b[1;30mDEBUG\u001b[0m - \u001b[32mfindfont: score(<Font 'System Font' (SFNSText.ttf) normal normal 400 normal>) = 10.05\u001b[0m\n",
      "\u001b[32m2019-07-06 23:37:27:\u001b[0m \u001b[34mmatplotlib.font_manager\u001b[0m - _findfont_cached - \u001b[1;30mDEBUG\u001b[0m - \u001b[32mfindfont: score(<Font 'Chalkboard SE' (ChalkboardSE.ttc) normal normal light normal>) = 10.24\u001b[0m\n",
      "\u001b[32m2019-07-06 23:37:27:\u001b[0m \u001b[34mmatplotlib.font_manager\u001b[0m - _findfont_cached - \u001b[1;30mDEBUG\u001b[0m - \u001b[32mfindfont: score(<Font 'Serto Batnan' (SyrCOMBatnan.otf) normal normal 400 normal>) = 10.05\u001b[0m\n",
      "\u001b[32m2019-07-06 23:37:27:\u001b[0m \u001b[34mmatplotlib.font_manager\u001b[0m - _findfont_cached - \u001b[1;30mDEBUG\u001b[0m - \u001b[32mfindfont: score(<Font 'PT Serif' (PTSerif.ttc) normal normal 400 normal>) = 10.05\u001b[0m\n",
      "\u001b[32m2019-07-06 23:37:27:\u001b[0m \u001b[34mmatplotlib.font_manager\u001b[0m - _findfont_cached - \u001b[1;30mDEBUG\u001b[0m - \u001b[32mfindfont: score(<Font 'Iowan Old Style' (Iowan Old Style.ttc) normal normal roman normal>) = 10.145\u001b[0m\n",
      "\u001b[32m2019-07-06 23:37:27:\u001b[0m \u001b[34mmatplotlib.font_manager\u001b[0m - _findfont_cached - \u001b[1;30mDEBUG\u001b[0m - \u001b[32mfindfont: score(<Font 'Roboto' (Roboto-Regular.ttf) normal normal 400 normal>) = 10.05\u001b[0m\n",
      "\u001b[32m2019-07-06 23:37:27:\u001b[0m \u001b[34mmatplotlib.font_manager\u001b[0m - _findfont_cached - \u001b[1;30mDEBUG\u001b[0m - \u001b[32mfindfont: score(<Font 'Arial Narrow' (Arial Narrow Bold.ttf) normal normal bold condensed>) = 10.535\u001b[0m\n",
      "\u001b[32m2019-07-06 23:37:27:\u001b[0m \u001b[34mmatplotlib.font_manager\u001b[0m - _findfont_cached - \u001b[1;30mDEBUG\u001b[0m - \u001b[32mfindfont: score(<Font '.Keyboard' (Keyboard.ttf) normal normal 400 normal>) = 10.05\u001b[0m\n",
      "\u001b[32m2019-07-06 23:37:27:\u001b[0m \u001b[34mmatplotlib.font_manager\u001b[0m - _findfont_cached - \u001b[1;30mDEBUG\u001b[0m - \u001b[32mfindfont: score(<Font 'Gujarati MT' (GujaratiMT.ttc) normal normal 400 normal>) = 10.05\u001b[0m\n",
      "\u001b[32m2019-07-06 23:37:27:\u001b[0m \u001b[34mmatplotlib.font_manager\u001b[0m - _findfont_cached - \u001b[1;30mDEBUG\u001b[0m - \u001b[32mfindfont: score(<Font 'Superclarendon' (SuperClarendon.ttc) normal normal regular normal>) = 10.05\u001b[0m\n",
      "\u001b[32m2019-07-06 23:37:27:\u001b[0m \u001b[34mmatplotlib.font_manager\u001b[0m - _findfont_cached - \u001b[1;30mDEBUG\u001b[0m - \u001b[32mfindfont: score(<Font 'Montserrat' (Montserrat-Regular.ttf) normal normal regular normal>) = 10.05\u001b[0m\n",
      "\u001b[32m2019-07-06 23:37:27:\u001b[0m \u001b[34mmatplotlib.font_manager\u001b[0m - _findfont_cached - \u001b[1;30mDEBUG\u001b[0m - \u001b[32mfindfont: score(<Font 'Chalkduster' (Chalkduster.ttf) normal normal 400 normal>) = 10.05\u001b[0m\n",
      "\u001b[32m2019-07-06 23:37:27:\u001b[0m \u001b[34mmatplotlib.font_manager\u001b[0m - _findfont_cached - \u001b[1;30mDEBUG\u001b[0m - \u001b[32mfindfont: score(<Font '.SF Compact Text' (SFCompactText-Bold.otf) normal normal bold normal>) = 10.335\u001b[0m\n",
      "\u001b[32m2019-07-06 23:37:27:\u001b[0m \u001b[34mmatplotlib.font_manager\u001b[0m - _findfont_cached - \u001b[1;30mDEBUG\u001b[0m - \u001b[32mfindfont: score(<Font 'Times New Roman' (Times New Roman.ttf) normal normal roman normal>) = 10.145\u001b[0m\n",
      "\u001b[32m2019-07-06 23:37:27:\u001b[0m \u001b[34mmatplotlib.font_manager\u001b[0m - _findfont_cached - \u001b[1;30mDEBUG\u001b[0m - \u001b[32mfindfont: score(<Font 'STIXNonUnicode' (STIXNonUniBol.otf) normal normal bold normal>) = 10.335\u001b[0m\n",
      "\u001b[32m2019-07-06 23:37:27:\u001b[0m \u001b[34mmatplotlib.font_manager\u001b[0m - _findfont_cached - \u001b[1;30mDEBUG\u001b[0m - \u001b[32mfindfont: score(<Font 'YuGothic' (YuGothic-Medium.otf) normal normal medium normal>) = 10.145\u001b[0m\n",
      "\u001b[32m2019-07-06 23:37:27:\u001b[0m \u001b[34mmatplotlib.font_manager\u001b[0m - _findfont_cached - \u001b[1;30mDEBUG\u001b[0m - \u001b[32mfindfont: score(<Font 'Arial' (Arial Italic.ttf) italic normal 400 normal>) = 7.413636363636363\u001b[0m\n",
      "\u001b[32m2019-07-06 23:37:27:\u001b[0m \u001b[34mmatplotlib.font_manager\u001b[0m - _findfont_cached - \u001b[1;30mDEBUG\u001b[0m - \u001b[32mfindfont: score(<Font 'Montserrat Thin' (Montserrat-Thin.ttf) normal normal 400 normal>) = 10.05\u001b[0m\n",
      "\u001b[32m2019-07-06 23:37:27:\u001b[0m \u001b[34mmatplotlib.font_manager\u001b[0m - _findfont_cached - \u001b[1;30mDEBUG\u001b[0m - \u001b[32mfindfont: score(<Font 'System Font' (SFNSTextItalic.ttf) italic normal 400 normal>) = 11.05\u001b[0m\n",
      "\u001b[32m2019-07-06 23:37:27:\u001b[0m \u001b[34mmatplotlib.font_manager\u001b[0m - _findfont_cached - \u001b[1;30mDEBUG\u001b[0m - \u001b[32mfindfont: score(<Font '.SF NS Symbols' (SFNSSymbols-Semibold.otf) normal normal semibold normal>) = 10.24\u001b[0m\n",
      "\u001b[32m2019-07-06 23:37:27:\u001b[0m \u001b[34mmatplotlib.font_manager\u001b[0m - _findfont_cached - \u001b[1;30mDEBUG\u001b[0m - \u001b[32mfindfont: score(<Font 'HanziPen SC' (Hanzipen.ttc) normal normal regular normal>) = 10.05\u001b[0m\n",
      "\u001b[32m2019-07-06 23:37:27:\u001b[0m \u001b[34mmatplotlib.font_manager\u001b[0m - _findfont_cached - \u001b[1;30mDEBUG\u001b[0m - \u001b[32mfindfont: score(<Font 'Symbol' (Symbol.ttf) normal normal 400 normal>) = 10.05\u001b[0m\n",
      "\u001b[32m2019-07-06 23:37:27:\u001b[0m \u001b[34mmatplotlib.font_manager\u001b[0m - _findfont_cached - \u001b[1;30mDEBUG\u001b[0m - \u001b[32mfindfont: score(<Font 'Arial Unicode MS' (Arial Unicode.ttf) normal normal 400 normal>) = 10.05\u001b[0m\n",
      "\u001b[32m2019-07-06 23:37:27:\u001b[0m \u001b[34mmatplotlib.font_manager\u001b[0m - _findfont_cached - \u001b[1;30mDEBUG\u001b[0m - \u001b[32mfindfont: score(<Font 'STIXSizeFourSym' (STIXSizFourSymBol.otf) normal normal bold normal>) = 10.335\u001b[0m\n",
      "\u001b[32m2019-07-06 23:37:27:\u001b[0m \u001b[34mmatplotlib.font_manager\u001b[0m - _findfont_cached - \u001b[1;30mDEBUG\u001b[0m - \u001b[32mfindfont: score(<Font 'Bitstream Vera Sans' (Vera.ttf) normal normal 400 normal>) = 0.9590909090909092\u001b[0m\n",
      "\u001b[32m2019-07-06 23:37:27:\u001b[0m \u001b[34mmatplotlib.font_manager\u001b[0m - _findfont_cached - \u001b[1;30mDEBUG\u001b[0m - \u001b[32mfindfont: score(<Font 'Athelas' (Athelas.ttc) normal normal regular normal>) = 10.05\u001b[0m\n",
      "\u001b[32m2019-07-06 23:37:27:\u001b[0m \u001b[34mmatplotlib.font_manager\u001b[0m - _findfont_cached - \u001b[1;30mDEBUG\u001b[0m - \u001b[32mfindfont: score(<Font '.SF Compact Text' (SFCompactText-BoldItalic.otf) italic normal bold normal>) = 11.335\u001b[0m\n",
      "\u001b[32m2019-07-06 23:37:27:\u001b[0m \u001b[34mmatplotlib.font_manager\u001b[0m - _findfont_cached - \u001b[1;30mDEBUG\u001b[0m - \u001b[32mfindfont: score(<Font 'Luxi Mono' (luximri.ttf) oblique normal 400 normal>) = 11.05\u001b[0m\n",
      "\u001b[32m2019-07-06 23:37:27:\u001b[0m \u001b[34mmatplotlib.font_manager\u001b[0m - _findfont_cached - \u001b[1;30mDEBUG\u001b[0m - \u001b[32mfindfont: score(<Font 'Corsiva Hebrew' (Corsiva.ttc) normal normal 400 normal>) = 10.05\u001b[0m\n",
      "\u001b[32m2019-07-06 23:37:27:\u001b[0m \u001b[34mmatplotlib.font_manager\u001b[0m - _findfont_cached - \u001b[1;30mDEBUG\u001b[0m - \u001b[32mfindfont: score(<Font 'Montserrat Black' (Montserrat-Black.ttf) normal normal black normal>) = 10.525\u001b[0m\n",
      "\u001b[32m2019-07-06 23:37:27:\u001b[0m \u001b[34mmatplotlib.font_manager\u001b[0m - _findfont_cached - \u001b[1;30mDEBUG\u001b[0m - \u001b[32mfindfont: score(<Font 'Hoefler Text' (Hoefler Text Ornaments.ttf) normal normal 400 normal>) = 10.05\u001b[0m\n",
      "\u001b[32m2019-07-06 23:37:27:\u001b[0m \u001b[34mmatplotlib.font_manager\u001b[0m - _findfont_cached - \u001b[1;30mDEBUG\u001b[0m - \u001b[32mfindfont: score(<Font 'East Syriac Adiabene' (SyrCOMAdiabene.otf) normal normal 400 normal>) = 10.05\u001b[0m\n",
      "\u001b[32m2019-07-06 23:37:27:\u001b[0m \u001b[34mmatplotlib.font_manager\u001b[0m - _findfont_cached - \u001b[1;30mDEBUG\u001b[0m - \u001b[32mfindfont: score(<Font 'Noto Nastaliq Urdu' (NotoNastaliq.ttc) normal normal 400 normal>) = 10.05\u001b[0m\n",
      "\u001b[32m2019-07-06 23:37:27:\u001b[0m \u001b[34mmatplotlib.font_manager\u001b[0m - _findfont_cached - \u001b[1;30mDEBUG\u001b[0m - \u001b[32mfindfont: score(<Font 'Serto Jerusalem' (SyrCOMJerusalemItalic.otf) italic normal 400 normal>) = 11.05\u001b[0m\n",
      "\u001b[32m2019-07-06 23:37:27:\u001b[0m \u001b[34mmatplotlib.font_manager\u001b[0m - _findfont_cached - \u001b[1;30mDEBUG\u001b[0m - \u001b[32mfindfont: score(<Font '.SF NS Symbols' (SFNSSymbols-Heavy.otf) normal normal heavy normal>) = 10.43\u001b[0m\n",
      "\u001b[32m2019-07-06 23:37:27:\u001b[0m \u001b[34mmatplotlib.font_manager\u001b[0m - _findfont_cached - \u001b[1;30mDEBUG\u001b[0m - \u001b[32mfindfont: score(<Font 'Apple Braille' (Apple Braille Pinpoint 8 Dot.ttf) normal normal 400 normal>) = 10.05\u001b[0m\n",
      "\u001b[32m2019-07-06 23:37:27:\u001b[0m \u001b[34mmatplotlib.font_manager\u001b[0m - _findfont_cached - \u001b[1;30mDEBUG\u001b[0m - \u001b[32mfindfont: score(<Font 'ITF Devanagari' (ITFDevanagari.ttc) normal normal book normal>) = 10.05\u001b[0m\n",
      "\u001b[32m2019-07-06 23:37:27:\u001b[0m \u001b[34mmatplotlib.font_manager\u001b[0m - _findfont_cached - \u001b[1;30mDEBUG\u001b[0m - \u001b[32mfindfont: score(<Font 'Gujarati Sangam MN' (Gujarati Sangam MN.ttc) normal normal 400 normal>) = 10.05\u001b[0m\n"
     ]
    },
    {
     "name": "stdout",
     "output_type": "stream",
     "text": [
      "\u001b[32m2019-07-06 23:37:27:\u001b[0m \u001b[34mmatplotlib.font_manager\u001b[0m - _findfont_cached - \u001b[1;30mDEBUG\u001b[0m - \u001b[32mfindfont: score(<Font 'Nanum Myeongjo' (NanumMyeongjo.ttc) normal normal 400 normal>) = 10.05\u001b[0m\n",
      "\u001b[32m2019-07-06 23:37:27:\u001b[0m \u001b[34mmatplotlib.font_manager\u001b[0m - _findfont_cached - \u001b[1;30mDEBUG\u001b[0m - \u001b[32mfindfont: score(<Font 'Kailasa' (Kailasa.ttc) normal normal regular normal>) = 10.05\u001b[0m\n",
      "\u001b[32m2019-07-06 23:37:27:\u001b[0m \u001b[34mmatplotlib.font_manager\u001b[0m - _findfont_cached - \u001b[1;30mDEBUG\u001b[0m - \u001b[32mfindfont: score(<Font 'Bitstream Vera Serif' (VeraSeBd.ttf) normal normal bold normal>) = 10.335\u001b[0m\n",
      "\u001b[32m2019-07-06 23:37:27:\u001b[0m \u001b[34mmatplotlib.font_manager\u001b[0m - _findfont_cached - \u001b[1;30mDEBUG\u001b[0m - \u001b[32mfindfont: score(<Font '.SF Compact Text' (SFCompactText-MediumItalic.otf) italic normal medium normal>) = 11.145\u001b[0m\n",
      "\u001b[32m2019-07-06 23:37:28:\u001b[0m \u001b[34mmatplotlib.font_manager\u001b[0m - _findfont_cached - \u001b[1;30mDEBUG\u001b[0m - \u001b[32mfindfont: score(<Font 'Hiragino Sans' (ヒラギノ角ゴシック W5.ttc) normal normal 700 normal>) = 10.335\u001b[0m\n",
      "\u001b[32m2019-07-06 23:37:28:\u001b[0m \u001b[34mmatplotlib.font_manager\u001b[0m - _findfont_cached - \u001b[1;30mDEBUG\u001b[0m - \u001b[32mfindfont: score(<Font 'Times New Roman' (Times New Roman Bold Italic.ttf) italic normal roman normal>) = 11.145\u001b[0m\n",
      "\u001b[32m2019-07-06 23:37:28:\u001b[0m \u001b[34mmatplotlib.font_manager\u001b[0m - _findfont_cached - \u001b[1;30mDEBUG\u001b[0m - \u001b[32mfindfont: score(<Font 'Webdings' (Webdings.ttf) normal normal 400 normal>) = 10.05\u001b[0m\n",
      "\u001b[32m2019-07-06 23:37:28:\u001b[0m \u001b[34mmatplotlib.font_manager\u001b[0m - _findfont_cached - \u001b[1;30mDEBUG\u001b[0m - \u001b[32mfindfont: score(<Font '.SF Compact Rounded' (SFCompactRounded-Bold.otf) normal normal bold normal>) = 10.335\u001b[0m\n",
      "\u001b[32m2019-07-06 23:37:28:\u001b[0m \u001b[34mmatplotlib.font_manager\u001b[0m - _findfont_cached - \u001b[1;30mDEBUG\u001b[0m - \u001b[32mfindfont: score(<Font '.SF Compact Text' (SFCompactText-Regular.otf) normal normal regular normal>) = 10.05\u001b[0m\n",
      "\u001b[32m2019-07-06 23:37:28:\u001b[0m \u001b[34mmatplotlib.font_manager\u001b[0m - _findfont_cached - \u001b[1;30mDEBUG\u001b[0m - \u001b[32mfindfont: score(<Font 'Montserrat ExtraBold' (Montserrat-ExtraBoldItalic.ttf) italic normal bold normal>) = 11.335\u001b[0m\n",
      "\u001b[32m2019-07-06 23:37:28:\u001b[0m \u001b[34mmatplotlib.font_manager\u001b[0m - _findfont_cached - \u001b[1;30mDEBUG\u001b[0m - \u001b[32mfindfont: score(<Font 'Euphemia UCAS' (EuphemiaCAS.ttc) normal normal 400 normal>) = 10.05\u001b[0m\n",
      "\u001b[32m2019-07-06 23:37:28:\u001b[0m \u001b[34mmatplotlib.font_manager\u001b[0m - _findfont_cached - \u001b[1;30mDEBUG\u001b[0m - \u001b[32mfindfont: score(<Font 'Georgia' (Georgia Italic.ttf) italic normal 400 normal>) = 11.05\u001b[0m\n",
      "\u001b[32m2019-07-06 23:37:28:\u001b[0m \u001b[34mmatplotlib.font_manager\u001b[0m - _findfont_cached - \u001b[1;30mDEBUG\u001b[0m - \u001b[32mfindfont: score(<Font 'System Font' (SFNSDisplay.ttf) normal normal 400 normal>) = 10.05\u001b[0m\n",
      "\u001b[32m2019-07-06 23:37:28:\u001b[0m \u001b[34mmatplotlib.font_manager\u001b[0m - _findfont_cached - \u001b[1;30mDEBUG\u001b[0m - \u001b[32mfindfont: score(<Font '.SF NS Symbols' (SFNSSymbols-Medium.otf) normal normal medium normal>) = 10.145\u001b[0m\n",
      "\u001b[32m2019-07-06 23:37:28:\u001b[0m \u001b[34mmatplotlib.font_manager\u001b[0m - _findfont_cached - \u001b[1;30mDEBUG\u001b[0m - \u001b[32mfindfont: score(<Font 'System Font' (SFNSDisplay-ThinG1.otf) normal normal 400 normal>) = 10.05\u001b[0m\n",
      "\u001b[32m2019-07-06 23:37:28:\u001b[0m \u001b[34mmatplotlib.font_manager\u001b[0m - _findfont_cached - \u001b[1;30mDEBUG\u001b[0m - \u001b[32mfindfont: score(<Font 'Tamil Sangam MN' (Tamil Sangam MN.ttc) normal normal 400 normal>) = 10.05\u001b[0m\n",
      "\u001b[32m2019-07-06 23:37:28:\u001b[0m \u001b[34mmatplotlib.font_manager\u001b[0m - _findfont_cached - \u001b[1;30mDEBUG\u001b[0m - \u001b[32mfindfont: score(<Font 'Mishafi' (Mishafi.ttf) normal normal regular normal>) = 10.05\u001b[0m\n",
      "\u001b[32m2019-07-06 23:37:28:\u001b[0m \u001b[34mmatplotlib.font_manager\u001b[0m - _findfont_cached - \u001b[1;30mDEBUG\u001b[0m - \u001b[32mfindfont: score(<Font 'Toppan Bunkyu Midashi Gothic' (ToppanBunkyuMidashiGothicStdN-ExtraBold.otf) normal normal bold normal>) = 10.335\u001b[0m\n",
      "\u001b[32m2019-07-06 23:37:28:\u001b[0m \u001b[34mmatplotlib.font_manager\u001b[0m - _findfont_cached - \u001b[1;30mDEBUG\u001b[0m - \u001b[32mfindfont: score(<Font '.Arabic UI Text' (ArabicUIText.ttc) normal normal regular normal>) = 10.05\u001b[0m\n",
      "\u001b[32m2019-07-06 23:37:28:\u001b[0m \u001b[34mmatplotlib.font_manager\u001b[0m - _findfont_cached - \u001b[1;30mDEBUG\u001b[0m - \u001b[32mfindfont: score(<Font 'BiauKai' (BiauKai.ttf) normal normal 400 normal>) = 10.05\u001b[0m\n",
      "\u001b[32m2019-07-06 23:37:28:\u001b[0m \u001b[34mmatplotlib.font_manager\u001b[0m - _findfont_cached - \u001b[1;30mDEBUG\u001b[0m - \u001b[32mfindfont: score(<Font 'STIXGeneral' (STIXGeneralBol.otf) normal normal bold normal>) = 10.335\u001b[0m\n",
      "\u001b[32m2019-07-06 23:37:28:\u001b[0m \u001b[34mmatplotlib.font_manager\u001b[0m - _findfont_cached - \u001b[1;30mDEBUG\u001b[0m - \u001b[32mfindfont: score(<Font 'Arial Hebrew' (ArialHB.ttc) normal normal 400 normal>) = 10.05\u001b[0m\n",
      "\u001b[32m2019-07-06 23:37:28:\u001b[0m \u001b[34mmatplotlib.font_manager\u001b[0m - _findfont_cached - \u001b[1;30mDEBUG\u001b[0m - \u001b[32mfindfont: score(<Font 'STIXSizeTwoSym' (STIXSizTwoSymBol.otf) normal normal bold normal>) = 10.335\u001b[0m\n",
      "\u001b[32m2019-07-06 23:37:28:\u001b[0m \u001b[34mmatplotlib.font_manager\u001b[0m - _findfont_cached - \u001b[1;30mDEBUG\u001b[0m - \u001b[32mfindfont: score(<Font 'STIXVariants' (STIXVarBol.otf) normal normal bold normal>) = 10.335\u001b[0m\n",
      "\u001b[32m2019-07-06 23:37:28:\u001b[0m \u001b[34mmatplotlib.font_manager\u001b[0m - _findfont_cached - \u001b[1;30mDEBUG\u001b[0m - \u001b[32mfindfont: score(<Font 'DecoType Naskh' (DecoTypeNaskh.ttc) normal normal regular normal>) = 10.05\u001b[0m\n",
      "\u001b[32m2019-07-06 23:37:28:\u001b[0m \u001b[34mmatplotlib.font_manager\u001b[0m - _findfont_cached - \u001b[1;30mDEBUG\u001b[0m - \u001b[32mfindfont: score(<Font '.Arabic UI Display' (ArabicUIDisplay.ttc) normal normal black normal>) = 10.525\u001b[0m\n",
      "\u001b[32m2019-07-06 23:37:28:\u001b[0m \u001b[34mmatplotlib.font_manager\u001b[0m - _findfont_cached - \u001b[1;30mDEBUG\u001b[0m - \u001b[32mfindfont: score(<Font 'Al Bayan' (AlBayan.ttc) normal normal 400 normal>) = 10.05\u001b[0m\n",
      "\u001b[32m2019-07-06 23:37:28:\u001b[0m \u001b[34mmatplotlib.font_manager\u001b[0m - _findfont_cached - \u001b[1;30mDEBUG\u001b[0m - \u001b[32mfindfont: score(<Font 'STIXGeneral' (STIXGeneralItalic.otf) italic normal 400 normal>) = 11.05\u001b[0m\n",
      "\u001b[32m2019-07-06 23:37:28:\u001b[0m \u001b[34mmatplotlib.font_manager\u001b[0m - _findfont_cached - \u001b[1;30mDEBUG\u001b[0m - \u001b[32mfindfont: score(<Font 'Skia' (Skia.ttf) normal normal 400 normal>) = 10.05\u001b[0m\n",
      "\u001b[32m2019-07-06 23:37:28:\u001b[0m \u001b[34mmatplotlib.font_manager\u001b[0m - _findfont_cached - \u001b[1;30mDEBUG\u001b[0m - \u001b[32mfindfont: score(<Font 'Shree Devanagari 714' (Shree714.ttc) normal normal 400 normal>) = 10.05\u001b[0m\n",
      "\u001b[32m2019-07-06 23:37:28:\u001b[0m \u001b[34mmatplotlib.font_manager\u001b[0m - _findfont_cached - \u001b[1;30mDEBUG\u001b[0m - \u001b[32mfindfont: score(<Font '.SF NS Display Condensed' (SFNSDisplayCondensed-Thin.otf) normal normal 400 condensed>) = 10.25\u001b[0m\n",
      "\u001b[32m2019-07-06 23:37:28:\u001b[0m \u001b[34mmatplotlib.font_manager\u001b[0m - _findfont_cached - \u001b[1;30mDEBUG\u001b[0m - \u001b[32mfindfont: score(<Font 'Times New Roman' (Times New Roman Italic.ttf) italic normal roman normal>) = 11.145\u001b[0m\n",
      "\u001b[32m2019-07-06 23:37:28:\u001b[0m \u001b[34mmatplotlib.font_manager\u001b[0m - _findfont_cached - \u001b[1;30mDEBUG\u001b[0m - \u001b[32mfindfont: score(<Font 'Herculanum' (Herculanum.ttf) normal normal 400 normal>) = 10.05\u001b[0m\n",
      "\u001b[32m2019-07-06 23:37:28:\u001b[0m \u001b[34mmatplotlib.font_manager\u001b[0m - _findfont_cached - \u001b[1;30mDEBUG\u001b[0m - \u001b[32mfindfont: score(<Font '.SF Compact Display' (SFCompactDisplay-Heavy.otf) normal normal heavy normal>) = 10.43\u001b[0m\n",
      "\u001b[32m2019-07-06 23:37:28:\u001b[0m \u001b[34mmatplotlib.font_manager\u001b[0m - _findfont_cached - \u001b[1;30mDEBUG\u001b[0m - \u001b[32mfindfont: score(<Font 'Roboto Black' (Roboto-Black.ttf) normal normal black normal>) = 10.525\u001b[0m\n",
      "\u001b[32m2019-07-06 23:37:28:\u001b[0m \u001b[34mmatplotlib.font_manager\u001b[0m - _findfont_cached - \u001b[1;30mDEBUG\u001b[0m - \u001b[32mfindfont: score(<Font 'Krungthep' (Krungthep.ttf) normal normal 400 normal>) = 10.05\u001b[0m\n",
      "\u001b[32m2019-07-06 23:37:28:\u001b[0m \u001b[34mmatplotlib.font_manager\u001b[0m - _findfont_cached - \u001b[1;30mDEBUG\u001b[0m - \u001b[32mfindfont: score(<Font 'LiSong Pro' (LiSongPro.ttf) normal normal 400 normal>) = 10.05\u001b[0m\n",
      "\u001b[32m2019-07-06 23:37:28:\u001b[0m \u001b[34mmatplotlib.font_manager\u001b[0m - _findfont_cached - \u001b[1;30mDEBUG\u001b[0m - \u001b[32mfindfont: score(<Font 'Malayalam Sangam MN' (Malayalam Sangam MN.ttc) normal normal 400 normal>) = 10.05\u001b[0m\n",
      "\u001b[32m2019-07-06 23:37:28:\u001b[0m \u001b[34mmatplotlib.font_manager\u001b[0m - _findfont_cached - \u001b[1;30mDEBUG\u001b[0m - \u001b[32mfindfont: score(<Font 'STIXSizeOneSym' (STIXSizOneSymBol.otf) normal normal bold normal>) = 10.335\u001b[0m\n",
      "\u001b[32m2019-07-06 23:37:28:\u001b[0m \u001b[34mmatplotlib.font_manager\u001b[0m - _findfont_cached - \u001b[1;30mDEBUG\u001b[0m - \u001b[32mfindfont: score(<Font 'Osaka' (OsakaMono.ttf) normal normal 400 normal>) = 10.05\u001b[0m\n"
     ]
    },
    {
     "name": "stdout",
     "output_type": "stream",
     "text": [
      "\u001b[32m2019-07-06 23:37:28:\u001b[0m \u001b[34mmatplotlib.font_manager\u001b[0m - _findfont_cached - \u001b[1;30mDEBUG\u001b[0m - \u001b[32mfindfont: score(<Font 'Charter' (Charter.ttc) normal normal roman normal>) = 10.145\u001b[0m\n",
      "\u001b[32m2019-07-06 23:37:28:\u001b[0m \u001b[34mmatplotlib.font_manager\u001b[0m - _findfont_cached - \u001b[1;30mDEBUG\u001b[0m - \u001b[32mfindfont: score(<Font 'Hiragino Sans' (ヒラギノ角ゴシック W6.ttc) normal normal 700 normal>) = 10.335\u001b[0m\n",
      "\u001b[32m2019-07-06 23:37:28:\u001b[0m \u001b[34mmatplotlib.font_manager\u001b[0m - _findfont_cached - \u001b[1;30mDEBUG\u001b[0m - \u001b[32mfindfont: score(<Font '.SF Compact Rounded' (SFCompactRounded-Medium.otf) normal normal medium normal>) = 10.145\u001b[0m\n",
      "\u001b[32m2019-07-06 23:37:28:\u001b[0m \u001b[34mmatplotlib.font_manager\u001b[0m - _findfont_cached - \u001b[1;30mDEBUG\u001b[0m - \u001b[32mfindfont: score(<Font 'Damascus' (Damascus.ttc) normal normal regular normal>) = 10.05\u001b[0m\n",
      "\u001b[32m2019-07-06 23:37:28:\u001b[0m \u001b[34mmatplotlib.font_manager\u001b[0m - _findfont_cached - \u001b[1;30mDEBUG\u001b[0m - \u001b[32mfindfont: score(<Font 'Apple Chancery' (Apple Chancery.ttf) normal normal 400 normal>) = 10.05\u001b[0m\n",
      "\u001b[32m2019-07-06 23:37:28:\u001b[0m \u001b[34mmatplotlib.font_manager\u001b[0m - _findfont_cached - \u001b[1;30mDEBUG\u001b[0m - \u001b[32mfindfont: score(<Font 'YuKyokasho Yoko' (Kyokasho.ttc) normal normal medium normal>) = 10.145\u001b[0m\n",
      "\u001b[32m2019-07-06 23:37:28:\u001b[0m \u001b[34mmatplotlib.font_manager\u001b[0m - _findfont_cached - \u001b[1;30mDEBUG\u001b[0m - \u001b[32mfindfont: score(<Font 'Bitstream Vera Sans Mono' (VeraMoIt.ttf) oblique normal 400 normal>) = 11.05\u001b[0m\n",
      "\u001b[32m2019-07-06 23:37:28:\u001b[0m \u001b[34mmatplotlib.font_manager\u001b[0m - _findfont_cached - \u001b[1;30mDEBUG\u001b[0m - \u001b[32mfindfont: score(<Font 'System Font' (SFNSDisplay-ThinItalic.otf) italic normal 400 normal>) = 11.05\u001b[0m\n",
      "\u001b[32m2019-07-06 23:37:28:\u001b[0m \u001b[34mmatplotlib.font_manager\u001b[0m - _findfont_cached - \u001b[1;30mDEBUG\u001b[0m - \u001b[32mfindfont: score(<Font '.SF Compact Text' (SFCompactText-HeavyItalic.otf) italic normal heavy normal>) = 11.43\u001b[0m\n",
      "\u001b[32m2019-07-06 23:37:28:\u001b[0m \u001b[34mmatplotlib.font_manager\u001b[0m - _findfont_cached - \u001b[1;30mDEBUG\u001b[0m - \u001b[32mfindfont: score(<Font 'Silom' (Silom.ttf) normal normal 400 normal>) = 10.05\u001b[0m\n",
      "\u001b[32m2019-07-06 23:37:28:\u001b[0m \u001b[34mmatplotlib.font_manager\u001b[0m - _findfont_cached - \u001b[1;30mDEBUG\u001b[0m - \u001b[32mfindfont: score(<Font 'Bangla Sangam MN' (Bangla Sangam MN.ttc) normal normal 400 normal>) = 10.05\u001b[0m\n",
      "\u001b[32m2019-07-06 23:37:28:\u001b[0m \u001b[34mmatplotlib.font_manager\u001b[0m - _findfont_cached - \u001b[1;30mDEBUG\u001b[0m - \u001b[32mfindfont: score(<Font '.SF NS Display Condensed' (SFNSDisplayCondensed-Heavy.otf) normal normal heavy condensed>) = 10.629999999999999\u001b[0m\n",
      "\u001b[32m2019-07-06 23:37:28:\u001b[0m \u001b[34mmatplotlib.font_manager\u001b[0m - _findfont_cached - \u001b[1;30mDEBUG\u001b[0m - \u001b[32mfindfont: score(<Font 'Nanum Gothic' (NanumGothic.ttc) normal normal 400 normal>) = 10.05\u001b[0m\n",
      "\u001b[32m2019-07-06 23:37:28:\u001b[0m \u001b[34mmatplotlib.font_manager\u001b[0m - _findfont_cached - \u001b[1;30mDEBUG\u001b[0m - \u001b[32mfindfont: score(<Font 'Verdana' (Verdana.ttf) normal normal 400 normal>) = 3.6863636363636365\u001b[0m\n",
      "\u001b[32m2019-07-06 23:37:28:\u001b[0m \u001b[34mmatplotlib.font_manager\u001b[0m - _findfont_cached - \u001b[1;30mDEBUG\u001b[0m - \u001b[32mfindfont: score(<Font 'Courier New' (Courier New Bold Italic.ttf) italic normal bold normal>) = 11.335\u001b[0m\n",
      "\u001b[32m2019-07-06 23:37:28:\u001b[0m \u001b[34mmatplotlib.font_manager\u001b[0m - _findfont_cached - \u001b[1;30mDEBUG\u001b[0m - \u001b[32mfindfont: score(<Font 'Georgia' (Georgia.ttf) normal normal 400 normal>) = 10.05\u001b[0m\n",
      "\u001b[32m2019-07-06 23:37:28:\u001b[0m \u001b[34mmatplotlib.font_manager\u001b[0m - _findfont_cached - \u001b[1;30mDEBUG\u001b[0m - \u001b[32mfindfont: score(<Font 'Verdana' (Verdana Italic.ttf) italic normal 400 normal>) = 4.6863636363636365\u001b[0m\n",
      "\u001b[32m2019-07-06 23:37:28:\u001b[0m \u001b[34mmatplotlib.font_manager\u001b[0m - _findfont_cached - \u001b[1;30mDEBUG\u001b[0m - \u001b[32mfindfont: score(<Font '.SF NS Rounded' (SFNSRounded.ttf) normal normal 400 normal>) = 10.05\u001b[0m\n",
      "\u001b[32m2019-07-06 23:37:28:\u001b[0m \u001b[34mmatplotlib.font_manager\u001b[0m - _findfont_cached - \u001b[1;30mDEBUG\u001b[0m - \u001b[32mfindfont: score(<Font 'Comic Sans MS' (Comic Sans MS Bold.ttf) normal normal bold normal>) = 10.335\u001b[0m\n",
      "\u001b[32m2019-07-06 23:37:28:\u001b[0m \u001b[34mmatplotlib.font_manager\u001b[0m - _findfont_cached - \u001b[1;30mDEBUG\u001b[0m - \u001b[32mfindfont: score(<Font 'STIXNonUnicode' (STIXNonUni.otf) normal normal regular normal>) = 10.05\u001b[0m\n",
      "\u001b[32m2019-07-06 23:37:28:\u001b[0m \u001b[34mmatplotlib.font_manager\u001b[0m - _findfont_cached - \u001b[1;30mDEBUG\u001b[0m - \u001b[32mfindfont: score(<Font 'STIXIntegralsD' (STIXIntDBol.otf) normal normal bold normal>) = 10.335\u001b[0m\n",
      "\u001b[32m2019-07-06 23:37:28:\u001b[0m \u001b[34mmatplotlib.font_manager\u001b[0m - _findfont_cached - \u001b[1;30mDEBUG\u001b[0m - \u001b[32mfindfont: score(<Font 'Arial Narrow' (Arial Narrow Bold Italic.ttf) italic normal bold condensed>) = 11.535\u001b[0m\n",
      "\u001b[32m2019-07-06 23:37:28:\u001b[0m \u001b[34mmatplotlib.font_manager\u001b[0m - _findfont_cached - \u001b[1;30mDEBUG\u001b[0m - \u001b[32mfindfont: score(<Font '.SF Compact Display' (SFCompactDisplay-Ultralight.otf) normal normal ultralight normal>) = 10.335\u001b[0m\n",
      "\u001b[32m2019-07-06 23:37:28:\u001b[0m \u001b[34mmatplotlib.font_manager\u001b[0m - _findfont_cached - \u001b[1;30mDEBUG\u001b[0m - \u001b[32mfindfont: score(<Font 'Malayalam MN' (Malayalam MN.ttc) normal normal 400 normal>) = 10.05\u001b[0m\n",
      "\u001b[32m2019-07-06 23:37:28:\u001b[0m \u001b[34mmatplotlib.font_manager\u001b[0m - _findfont_cached - \u001b[1;30mDEBUG\u001b[0m - \u001b[32mfindfont: score(<Font 'Arial Black' (Arial Black.ttf) normal normal black normal>) = 10.525\u001b[0m\n",
      "\u001b[32m2019-07-06 23:37:28:\u001b[0m \u001b[34mmatplotlib.font_manager\u001b[0m - _findfont_cached - \u001b[1;30mDEBUG\u001b[0m - \u001b[32mfindfont: score(<Font 'Times' (Times.ttc) normal normal roman normal>) = 10.145\u001b[0m\n",
      "\u001b[32m2019-07-06 23:37:28:\u001b[0m \u001b[34mmatplotlib.font_manager\u001b[0m - _findfont_cached - \u001b[1;30mDEBUG\u001b[0m - \u001b[32mfindfont: score(<Font 'Montserrat Thin' (Montserrat-ThinItalic.ttf) italic normal 400 normal>) = 11.05\u001b[0m\n",
      "\u001b[32m2019-07-06 23:37:28:\u001b[0m \u001b[34mmatplotlib.font_manager\u001b[0m - _findfont_cached - \u001b[1;30mDEBUG\u001b[0m - \u001b[32mfindfont: score(<Font 'Arial Rounded MT Bold' (Arial Rounded Bold.ttf) normal normal bold normal>) = 10.335\u001b[0m\n",
      "\u001b[32m2019-07-06 23:37:28:\u001b[0m \u001b[34mmatplotlib.font_manager\u001b[0m - _findfont_cached - \u001b[1;30mDEBUG\u001b[0m - \u001b[32mfindfont: score(<Font '.SF NS Display Condensed' (SFNSDisplayCondensed-Bold.otf) normal normal bold condensed>) = 10.535\u001b[0m\n",
      "\u001b[32m2019-07-06 23:37:28:\u001b[0m \u001b[34mmatplotlib.font_manager\u001b[0m - _findfont_cached - \u001b[1;30mDEBUG\u001b[0m - \u001b[32mfindfont: score(<Font 'Kohinoor Telugu' (KohinoorTelugu.ttc) normal normal 400 normal>) = 10.05\u001b[0m\n",
      "\u001b[32m2019-07-06 23:37:28:\u001b[0m \u001b[34mmatplotlib.font_manager\u001b[0m - _findfont_cached - \u001b[1;30mDEBUG\u001b[0m - \u001b[32mfindfont: score(<Font 'Big Caslon' (BigCaslon.ttf) normal normal medium normal>) = 10.145\u001b[0m\n",
      "\u001b[32m2019-07-06 23:37:28:\u001b[0m \u001b[34mmatplotlib.font_manager\u001b[0m - _findfont_cached - \u001b[1;30mDEBUG\u001b[0m - \u001b[32mfindfont: score(<Font 'STIXGeneral' (STIXGeneral.otf) normal normal regular normal>) = 10.05\u001b[0m\n",
      "\u001b[32m2019-07-06 23:37:28:\u001b[0m \u001b[34mmatplotlib.font_manager\u001b[0m - _findfont_cached - \u001b[1;30mDEBUG\u001b[0m - \u001b[32mfindfont: score(<Font 'Bitstream Vera Sans' (VeraBI.ttf) oblique normal bold normal>) = 2.244090909090909\u001b[0m\n",
      "\u001b[32m2019-07-06 23:37:28:\u001b[0m \u001b[34mmatplotlib.font_manager\u001b[0m - _findfont_cached - \u001b[1;30mDEBUG\u001b[0m - \u001b[32mfindfont: score(<Font 'Serto Jerusalem' (SyrCOMJerusalemBold.otf) normal normal bold normal>) = 10.335\u001b[0m\n",
      "\u001b[32m2019-07-06 23:37:28:\u001b[0m \u001b[34mmatplotlib.font_manager\u001b[0m - _findfont_cached - \u001b[1;30mDEBUG\u001b[0m - \u001b[32mfindfont: score(<Font 'System Font' (SFNSDisplay-RegularItalic.otf) italic normal 400 normal>) = 11.05\u001b[0m\n",
      "\u001b[32m2019-07-06 23:37:28:\u001b[0m \u001b[34mmatplotlib.font_manager\u001b[0m - _findfont_cached - \u001b[1;30mDEBUG\u001b[0m - \u001b[32mfindfont: score(<Font 'Apple Braille' (Apple Braille Outline 8 Dot.ttf) normal normal 400 normal>) = 10.05\u001b[0m\n",
      "\u001b[32m2019-07-06 23:37:28:\u001b[0m \u001b[34mmatplotlib.font_manager\u001b[0m - _findfont_cached - \u001b[1;30mDEBUG\u001b[0m - \u001b[32mfindfont: score(<Font 'System Font' (SFNSDisplay-BlackItalic.otf) italic normal black normal>) = 11.525\u001b[0m\n",
      "\u001b[32m2019-07-06 23:37:28:\u001b[0m \u001b[34mmatplotlib.font_manager\u001b[0m - _findfont_cached - \u001b[1;30mDEBUG\u001b[0m - \u001b[32mfindfont: score(<Font 'Devanagari Sangam MN' (Devanagari Sangam MN.ttc) normal normal 400 normal>) = 10.05\u001b[0m\n",
      "\u001b[32m2019-07-06 23:37:28:\u001b[0m \u001b[34mmatplotlib.font_manager\u001b[0m - _findfont_cached - \u001b[1;30mDEBUG\u001b[0m - \u001b[32mfindfont: score(<Font 'Estrangelo Antioch' (SyrCOMAntioch.otf) normal normal 400 normal>) = 10.05\u001b[0m\n"
     ]
    },
    {
     "name": "stdout",
     "output_type": "stream",
     "text": [
      "\u001b[32m2019-07-06 23:37:28:\u001b[0m \u001b[34mmatplotlib.font_manager\u001b[0m - _findfont_cached - \u001b[1;30mDEBUG\u001b[0m - \u001b[32mfindfont: score(<Font 'Bodoni 72 Oldstyle' (Bodoni 72 OS.ttc) normal normal book normal>) = 10.05\u001b[0m\n",
      "\u001b[32m2019-07-06 23:37:28:\u001b[0m \u001b[34mmatplotlib.font_manager\u001b[0m - _findfont_cached - \u001b[1;30mDEBUG\u001b[0m - \u001b[32mfindfont: score(<Font 'Bodoni 72 Smallcaps' (Bodoni 72 Smallcaps Book.ttf) normal normal book normal>) = 10.05\u001b[0m\n",
      "\u001b[32m2019-07-06 23:37:28:\u001b[0m \u001b[34mmatplotlib.font_manager\u001b[0m - _findfont_cached - \u001b[1;30mDEBUG\u001b[0m - \u001b[32mfindfont: score(<Font 'Avenir Next Condensed' (Avenir Next Condensed.ttc) normal normal bold condensed>) = 10.535\u001b[0m\n",
      "\u001b[32m2019-07-06 23:37:28:\u001b[0m \u001b[34mmatplotlib.font_manager\u001b[0m - _findfont_cached - \u001b[1;30mDEBUG\u001b[0m - \u001b[32mfindfont: score(<Font 'Hiragino Sans' (ヒラギノ角ゴシック W7.ttc) normal normal 700 normal>) = 10.335\u001b[0m\n",
      "\u001b[32m2019-07-06 23:37:28:\u001b[0m \u001b[34mmatplotlib.font_manager\u001b[0m - _findfont_cached - \u001b[1;30mDEBUG\u001b[0m - \u001b[32mfindfont: score(<Font 'SignPainter' (SignPainter.ttc) normal normal 400 normal>) = 10.05\u001b[0m\n",
      "\u001b[32m2019-07-06 23:37:28:\u001b[0m \u001b[34mmatplotlib.font_manager\u001b[0m - _findfont_cached - \u001b[1;30mDEBUG\u001b[0m - \u001b[32mfindfont: score(<Font 'Montserrat Medium' (Montserrat-MediumItalic.ttf) italic normal medium normal>) = 11.145\u001b[0m\n",
      "\u001b[32m2019-07-06 23:37:28:\u001b[0m \u001b[34mmatplotlib.font_manager\u001b[0m - _findfont_cached - \u001b[1;30mDEBUG\u001b[0m - \u001b[32mfindfont: score(<Font 'Oriya MN' (Oriya MN.ttc) normal normal 400 normal>) = 10.05\u001b[0m\n",
      "\u001b[32m2019-07-06 23:37:28:\u001b[0m \u001b[34mmatplotlib.font_manager\u001b[0m - _findfont_cached - \u001b[1;30mDEBUG\u001b[0m - \u001b[32mfindfont: score(<Font 'System Font' (SFNSDisplay-MediumItalic.otf) italic normal medium normal>) = 11.145\u001b[0m\n",
      "\u001b[32m2019-07-06 23:37:28:\u001b[0m \u001b[34mmatplotlib.font_manager\u001b[0m - _findfont_cached - \u001b[1;30mDEBUG\u001b[0m - \u001b[32mfindfont: score(<Font 'Luxi Serif' (luxirb.ttf) normal normal bold normal>) = 10.335\u001b[0m\n",
      "\u001b[32m2019-07-06 23:37:28:\u001b[0m \u001b[34mmatplotlib.font_manager\u001b[0m - _findfont_cached - \u001b[1;30mDEBUG\u001b[0m - \u001b[32mfindfont: score(<Font 'Brush Script MT' (Brush Script.ttf) italic normal 400 normal>) = 11.05\u001b[0m\n",
      "\u001b[32m2019-07-06 23:37:28:\u001b[0m \u001b[34mmatplotlib.font_manager\u001b[0m - _findfont_cached - \u001b[1;30mDEBUG\u001b[0m - \u001b[32mfindfont: score(<Font 'Apple LiSung' (AppleLiSung-Light.ttf) normal normal light normal>) = 10.24\u001b[0m\n",
      "\u001b[32m2019-07-06 23:37:28:\u001b[0m \u001b[34mmatplotlib.font_manager\u001b[0m - _findfont_cached - \u001b[1;30mDEBUG\u001b[0m - \u001b[32mfindfont: score(<Font 'STIXIntegralsUp' (STIXIntUpBol.otf) normal normal bold normal>) = 10.335\u001b[0m\n",
      "\u001b[32m2019-07-06 23:37:28:\u001b[0m \u001b[34mmatplotlib.font_manager\u001b[0m - _findfont_cached - \u001b[1;30mDEBUG\u001b[0m - \u001b[32mfindfont: score(<Font '.SF Compact Display' (SFCompactDisplay-Semibold.otf) normal normal semibold normal>) = 10.24\u001b[0m\n",
      "\u001b[32m2019-07-06 23:37:28:\u001b[0m \u001b[34mmatplotlib.font_manager\u001b[0m - _findfont_cached - \u001b[1;30mDEBUG\u001b[0m - \u001b[32mfindfont: score(<Font '.SF Compact Display' (SFCompactDisplay-Medium.otf) normal normal medium normal>) = 10.145\u001b[0m\n",
      "\u001b[32m2019-07-06 23:37:28:\u001b[0m \u001b[34mmatplotlib.font_manager\u001b[0m - _findfont_cached - \u001b[1;30mDEBUG\u001b[0m - \u001b[32mfindfont: score(<Font 'STIXSizeThreeSym' (STIXSizThreeSymReg.otf) normal normal regular normal>) = 10.05\u001b[0m\n",
      "\u001b[32m2019-07-06 23:37:28:\u001b[0m \u001b[34mmatplotlib.font_manager\u001b[0m - _findfont_cached - \u001b[1;30mDEBUG\u001b[0m - \u001b[32mfindfont: score(<Font 'Sana' (Sana.ttc) normal normal regular normal>) = 10.05\u001b[0m\n",
      "\u001b[32m2019-07-06 23:37:28:\u001b[0m \u001b[34mmatplotlib.font_manager\u001b[0m - _findfont_cached - \u001b[1;30mDEBUG\u001b[0m - \u001b[32mfindfont: score(<Font 'Andale Mono' (Andale Mono.ttf) normal normal 400 normal>) = 10.05\u001b[0m\n",
      "\u001b[32m2019-07-06 23:37:28:\u001b[0m \u001b[34mmatplotlib.font_manager\u001b[0m - _findfont_cached - \u001b[1;30mDEBUG\u001b[0m - \u001b[32mfindfont: score(<Font 'HeadLineA' (HeadlineA.ttf) normal normal regular normal>) = 10.05\u001b[0m\n",
      "\u001b[32m2019-07-06 23:37:28:\u001b[0m \u001b[34mmatplotlib.font_manager\u001b[0m - _findfont_cached - \u001b[1;30mDEBUG\u001b[0m - \u001b[32mfindfont: score(<Font 'STIXSizeThreeSym' (STIXSizThreeSymBol.otf) normal normal bold normal>) = 10.335\u001b[0m\n",
      "\u001b[32m2019-07-06 23:37:28:\u001b[0m \u001b[34mmatplotlib.font_manager\u001b[0m - _findfont_cached - \u001b[1;30mDEBUG\u001b[0m - \u001b[32mfindfont: score(<Font 'Roboto Thin' (Roboto-Thin.ttf) normal normal 400 normal>) = 10.05\u001b[0m\n",
      "\u001b[32m2019-07-06 23:37:28:\u001b[0m \u001b[34mmatplotlib.font_manager\u001b[0m - _findfont_cached - \u001b[1;30mDEBUG\u001b[0m - \u001b[32mfindfont: score(<Font '.SF Compact Text' (SFCompactText-Light.otf) normal normal light normal>) = 10.24\u001b[0m\n",
      "\u001b[32m2019-07-06 23:37:28:\u001b[0m \u001b[34mmatplotlib.font_manager\u001b[0m - _findfont_cached - \u001b[1;30mDEBUG\u001b[0m - \u001b[32mfindfont: score(<Font 'Roboto Thin' (Roboto-ThinItalic.ttf) italic normal 400 normal>) = 11.05\u001b[0m\n",
      "\u001b[32m2019-07-06 23:37:28:\u001b[0m \u001b[34mmatplotlib.font_manager\u001b[0m - _findfont_cached - \u001b[1;30mDEBUG\u001b[0m - \u001b[32mfindfont: score(<Font 'STHeiti' (STXIHEI.ttf) normal normal 400 normal>) = 10.05\u001b[0m\n",
      "\u001b[32m2019-07-06 23:37:28:\u001b[0m \u001b[34mmatplotlib.font_manager\u001b[0m - _findfont_cached - \u001b[1;30mDEBUG\u001b[0m - \u001b[32mfindfont: score(<Font 'Arial' (Arial Bold.ttf) normal normal bold normal>) = 6.698636363636363\u001b[0m\n",
      "\u001b[32m2019-07-06 23:37:28:\u001b[0m \u001b[34mmatplotlib.font_manager\u001b[0m - _findfont_cached - \u001b[1;30mDEBUG\u001b[0m - \u001b[32mfindfont: score(<Font '.SF NS Symbols' (SFNSSymbols-Ultralight.otf) normal normal ultralight normal>) = 10.335\u001b[0m\n",
      "\u001b[32m2019-07-06 23:37:28:\u001b[0m \u001b[34mmatplotlib.font_manager\u001b[0m - _findfont_cached - \u001b[1;30mDEBUG\u001b[0m - \u001b[32mfindfont: score(<Font 'Didot' (Didot.ttc) normal normal 400 normal>) = 10.05\u001b[0m\n",
      "\u001b[32m2019-07-06 23:37:28:\u001b[0m \u001b[34mmatplotlib.font_manager\u001b[0m - _findfont_cached - \u001b[1;30mDEBUG\u001b[0m - \u001b[32mfindfont: score(<Font 'Arial Narrow' (Arial Narrow.ttf) normal normal 400 condensed>) = 10.25\u001b[0m\n",
      "\u001b[32m2019-07-06 23:37:28:\u001b[0m \u001b[34mmatplotlib.font_manager\u001b[0m - _findfont_cached - \u001b[1;30mDEBUG\u001b[0m - \u001b[32mfindfont: score(<Font 'Roboto' (Roboto-BoldItalic.ttf) italic normal bold normal>) = 11.335\u001b[0m\n",
      "\u001b[32m2019-07-06 23:37:28:\u001b[0m \u001b[34mmatplotlib.font_manager\u001b[0m - _findfont_cached - \u001b[1;30mDEBUG\u001b[0m - \u001b[32mfindfont: score(<Font 'Estrangelo Quenneshrin' (SyrCOMQenNeshrin.otf) normal normal 400 normal>) = 10.05\u001b[0m\n",
      "\u001b[32m2019-07-06 23:37:28:\u001b[0m \u001b[34mmatplotlib.font_manager\u001b[0m - _findfont_cached - \u001b[1;30mDEBUG\u001b[0m - \u001b[32mfindfont: score(<Font '.SF Compact Text' (SFCompactText-Heavy.otf) normal normal heavy normal>) = 10.43\u001b[0m\n",
      "\u001b[32m2019-07-06 23:37:28:\u001b[0m \u001b[34mmatplotlib.font_manager\u001b[0m - _findfont_cached - \u001b[1;30mDEBUG\u001b[0m - \u001b[32mfindfont: score(<Font 'Lantinghei SC' (Lantinghei.ttc) normal normal demibold normal>) = 10.24\u001b[0m\n",
      "\u001b[32m2019-07-06 23:37:28:\u001b[0m \u001b[34mmatplotlib.font_manager\u001b[0m - _findfont_cached - \u001b[1;30mDEBUG\u001b[0m - \u001b[32mfindfont: score(<Font 'Toppan Bunkyu Midashi Mincho' (ToppanBunkyuMidashiMinchoStdN-ExtraBold.otf) normal normal bold normal>) = 10.335\u001b[0m\n",
      "\u001b[32m2019-07-06 23:37:28:\u001b[0m \u001b[34mmatplotlib.font_manager\u001b[0m - _findfont_cached - \u001b[1;30mDEBUG\u001b[0m - \u001b[32mfindfont: score(<Font '.SF NS Symbols' (SFNSSymbols-Black.otf) normal normal black normal>) = 10.525\u001b[0m\n",
      "\u001b[32m2019-07-06 23:37:28:\u001b[0m \u001b[34mmatplotlib.font_manager\u001b[0m - _findfont_cached - \u001b[1;30mDEBUG\u001b[0m - \u001b[32mfindfont: score(<Font 'Hiragino Sans CNS' (Hiragino_Sans_CNS.ttc) normal normal 400 normal>) = 10.05\u001b[0m\n",
      "\u001b[32m2019-07-06 23:37:28:\u001b[0m \u001b[34mmatplotlib.font_manager\u001b[0m - _findfont_cached - \u001b[1;30mDEBUG\u001b[0m - \u001b[32mfindfont: score(<Font 'Osaka' (Osaka.ttf) normal normal 400 normal>) = 10.05\u001b[0m\n",
      "\u001b[32m2019-07-06 23:37:28:\u001b[0m \u001b[34mmatplotlib.font_manager\u001b[0m - _findfont_cached - \u001b[1;30mDEBUG\u001b[0m - \u001b[32mfindfont: score(<Font 'Thonburi' (Thonburi.ttc) normal normal 400 normal>) = 10.05\u001b[0m\n",
      "\u001b[32m2019-07-06 23:37:28:\u001b[0m \u001b[34mmatplotlib.font_manager\u001b[0m - _findfont_cached - \u001b[1;30mDEBUG\u001b[0m - \u001b[32mfindfont: score(<Font '.SF Compact Text' (SFCompactText-Semibold.otf) normal normal semibold normal>) = 10.24\u001b[0m\n",
      "\u001b[32m2019-07-06 23:37:28:\u001b[0m \u001b[34mmatplotlib.font_manager\u001b[0m - _findfont_cached - \u001b[1;30mDEBUG\u001b[0m - \u001b[32mfindfont: score(<Font '.SF Compact Display' (SFCompactDisplay-Light.otf) normal normal light normal>) = 10.24\u001b[0m\n",
      "\u001b[32m2019-07-06 23:37:28:\u001b[0m \u001b[34mmatplotlib.font_manager\u001b[0m - _findfont_cached - \u001b[1;30mDEBUG\u001b[0m - \u001b[32mfindfont: score(<Font 'Serto Urhoy' (SyrCOMUrhoyBold.otf) normal normal bold normal>) = 10.335\u001b[0m\n"
     ]
    },
    {
     "name": "stdout",
     "output_type": "stream",
     "text": [
      "\u001b[32m2019-07-06 23:37:28:\u001b[0m \u001b[34mmatplotlib.font_manager\u001b[0m - _findfont_cached - \u001b[1;30mDEBUG\u001b[0m - \u001b[32mfindfont: score(<Font '.SF NS Symbols' (SFNSSymbols-Regular.otf) normal normal regular normal>) = 10.05\u001b[0m\n",
      "\u001b[32m2019-07-06 23:37:28:\u001b[0m \u001b[34mmatplotlib.font_manager\u001b[0m - _findfont_cached - \u001b[1;30mDEBUG\u001b[0m - \u001b[32mfindfont: score(<Font 'STHeiti' (STHEITI.ttf) normal normal 400 normal>) = 10.05\u001b[0m\n",
      "\u001b[32m2019-07-06 23:37:28:\u001b[0m \u001b[34mmatplotlib.font_manager\u001b[0m - _findfont_cached - \u001b[1;30mDEBUG\u001b[0m - \u001b[32mfindfont: score(<Font 'Tsukushi B Round Gothic' (TsukushiBMaruGothic.ttc) normal normal regular normal>) = 10.05\u001b[0m\n",
      "\u001b[32m2019-07-06 23:37:28:\u001b[0m \u001b[34mmatplotlib.font_manager\u001b[0m - _findfont_cached - \u001b[1;30mDEBUG\u001b[0m - \u001b[32mfindfont: score(<Font 'Bodoni 72' (Bodoni 72.ttc) normal normal book normal>) = 10.05\u001b[0m\n",
      "\u001b[32m2019-07-06 23:37:28:\u001b[0m \u001b[34mmatplotlib.font_manager\u001b[0m - _findfont_cached - \u001b[1;30mDEBUG\u001b[0m - \u001b[32mfindfont: score(<Font 'Roboto Light' (Roboto-LightItalic.ttf) italic normal light normal>) = 11.24\u001b[0m\n",
      "\u001b[32m2019-07-06 23:37:28:\u001b[0m \u001b[34mmatplotlib.font_manager\u001b[0m - _findfont_cached - \u001b[1;30mDEBUG\u001b[0m - \u001b[32mfindfont: score(<Font '.SF NS Display Condensed' (SFNSDisplayCondensed-Semibold.otf) normal normal semibold condensed>) = 10.44\u001b[0m\n",
      "\u001b[32m2019-07-06 23:37:28:\u001b[0m \u001b[34mmatplotlib.font_manager\u001b[0m - _findfont_cached - \u001b[1;30mDEBUG\u001b[0m - \u001b[32mfindfont: score(<Font 'Ayuthaya' (Ayuthaya.ttf) normal normal 400 normal>) = 10.05\u001b[0m\n",
      "\u001b[32m2019-07-06 23:37:28:\u001b[0m \u001b[34mmatplotlib.font_manager\u001b[0m - _findfont_cached - \u001b[1;30mDEBUG\u001b[0m - \u001b[32mfindfont: score(<Font 'Trebuchet MS' (Trebuchet MS Bold Italic.ttf) italic normal bold normal>) = 11.335\u001b[0m\n",
      "\u001b[32m2019-07-06 23:37:28:\u001b[0m \u001b[34mmatplotlib.font_manager\u001b[0m - _findfont_cached - \u001b[1;30mDEBUG\u001b[0m - \u001b[32mfindfont: score(<Font 'Apple Braille' (Apple Braille Outline 6 Dot.ttf) normal normal 400 normal>) = 10.05\u001b[0m\n",
      "\u001b[32m2019-07-06 23:37:28:\u001b[0m \u001b[34mmatplotlib.font_manager\u001b[0m - _findfont_cached - \u001b[1;30mDEBUG\u001b[0m - \u001b[32mfindfont: score(<Font 'Serto Kharput' (SyrCOMKharput.otf) normal normal 400 normal>) = 10.05\u001b[0m\n",
      "\u001b[32m2019-07-06 23:37:28:\u001b[0m \u001b[34mmatplotlib.font_manager\u001b[0m - _findfont_cached - \u001b[1;30mDEBUG\u001b[0m - \u001b[32mfindfont: score(<Font 'Serto Urhoy' (SyrCOMUrhoy.otf) normal normal 400 normal>) = 10.05\u001b[0m\n",
      "\u001b[32m2019-07-06 23:37:28:\u001b[0m \u001b[34mmatplotlib.font_manager\u001b[0m - _findfont_cached - \u001b[1;30mDEBUG\u001b[0m - \u001b[32mfindfont: score(<Font 'System Font' (SFNSDisplay-LightItalic.otf) italic normal light normal>) = 11.24\u001b[0m\n",
      "\u001b[32m2019-07-06 23:37:28:\u001b[0m \u001b[34mmatplotlib.font_manager\u001b[0m - _findfont_cached - \u001b[1;30mDEBUG\u001b[0m - \u001b[32mfindfont: score(<Font 'Baskerville' (Baskerville.ttc) normal normal 400 normal>) = 10.05\u001b[0m\n",
      "\u001b[32m2019-07-06 23:37:28:\u001b[0m \u001b[34mmatplotlib.font_manager\u001b[0m - _findfont_cached - \u001b[1;30mDEBUG\u001b[0m - \u001b[32mfindfont: score(<Font 'Courier New' (Courier New Bold.ttf) normal normal bold normal>) = 10.335\u001b[0m\n",
      "\u001b[32m2019-07-06 23:37:28:\u001b[0m \u001b[34mmatplotlib.font_manager\u001b[0m - _findfont_cached - \u001b[1;30mDEBUG\u001b[0m - \u001b[32mfindfont: score(<Font 'STIXNonUnicode' (STIXNonUniBolIta.otf) italic normal bold normal>) = 11.335\u001b[0m\n",
      "\u001b[32m2019-07-06 23:37:28:\u001b[0m \u001b[34mmatplotlib.font_manager\u001b[0m - _findfont_cached - \u001b[1;30mDEBUG\u001b[0m - \u001b[32mfindfont: score(<Font 'Roboto Light' (Roboto-Light.ttf) normal normal light normal>) = 10.24\u001b[0m\n",
      "\u001b[32m2019-07-06 23:37:28:\u001b[0m \u001b[34mmatplotlib.font_manager\u001b[0m - _findfont_cached - \u001b[1;30mDEBUG\u001b[0m - \u001b[32mfindfont: score(<Font '.SF Compact Rounded' (SFCompactRounded-Black.otf) normal normal black normal>) = 10.525\u001b[0m\n",
      "\u001b[32m2019-07-06 23:37:28:\u001b[0m \u001b[34mmatplotlib.font_manager\u001b[0m - _findfont_cached - \u001b[1;30mDEBUG\u001b[0m - \u001b[32mfindfont: score(<Font '.SF NS Display Condensed' (SFNSDisplayCondensed-Black.otf) normal normal black condensed>) = 10.725\u001b[0m\n",
      "\u001b[32m2019-07-06 23:37:28:\u001b[0m \u001b[34mmatplotlib.font_manager\u001b[0m - _findfont_cached - \u001b[1;30mDEBUG\u001b[0m - \u001b[32mfindfont: score(<Font 'Courier New' (Courier New Italic.ttf) italic normal 400 normal>) = 11.05\u001b[0m\n",
      "\u001b[32m2019-07-06 23:37:28:\u001b[0m \u001b[34mmatplotlib.font_manager\u001b[0m - _findfont_cached - \u001b[1;30mDEBUG\u001b[0m - \u001b[32mfindfont: score(<Font 'Bradley Hand' (Bradley Hand Bold.ttf) normal normal bold normal>) = 10.335\u001b[0m\n",
      "\u001b[32m2019-07-06 23:37:28:\u001b[0m \u001b[34mmatplotlib.font_manager\u001b[0m - _findfont_cached - \u001b[1;30mDEBUG\u001b[0m - \u001b[32mfindfont: score(<Font 'Tahoma' (Tahoma.ttf) normal normal 400 normal>) = 10.05\u001b[0m\n",
      "\u001b[32m2019-07-06 23:37:28:\u001b[0m \u001b[34mmatplotlib.font_manager\u001b[0m - _findfont_cached - \u001b[1;30mDEBUG\u001b[0m - \u001b[32mfindfont: score(<Font 'Hei' (Hei.ttf) normal normal regular normal>) = 10.05\u001b[0m\n",
      "\u001b[32m2019-07-06 23:37:28:\u001b[0m \u001b[34mmatplotlib.font_manager\u001b[0m - _findfont_cached - \u001b[1;30mDEBUG\u001b[0m - \u001b[32mfindfont: score(<Font '.SF NS Symbols' (SFNSSymbols-Light.otf) normal normal light normal>) = 10.24\u001b[0m\n",
      "\u001b[32m2019-07-06 23:37:28:\u001b[0m \u001b[34mmatplotlib.font_manager\u001b[0m - _findfont_cached - \u001b[1;30mDEBUG\u001b[0m - \u001b[32mfindfont: score(<Font 'Kefa' (Kefa.ttc) normal normal regular normal>) = 10.05\u001b[0m\n",
      "\u001b[32m2019-07-06 23:37:28:\u001b[0m \u001b[34mmatplotlib.font_manager\u001b[0m - _findfont_cached - \u001b[1;30mDEBUG\u001b[0m - \u001b[32mfindfont: score(<Font 'Kannada Sangam MN' (Kannada Sangam MN.ttc) normal normal 400 normal>) = 10.05\u001b[0m\n",
      "\u001b[32m2019-07-06 23:37:28:\u001b[0m \u001b[34mmatplotlib.font_manager\u001b[0m - _findfont_cached - \u001b[1;30mDEBUG\u001b[0m - \u001b[32mfindfont: score(<Font 'Hiragino Sans' (ヒラギノ角ゴシック W2.ttc) normal normal 400 normal>) = 10.05\u001b[0m\n",
      "\u001b[32m2019-07-06 23:37:28:\u001b[0m \u001b[34mmatplotlib.font_manager\u001b[0m - _findfont_cached - \u001b[1;30mDEBUG\u001b[0m - \u001b[32mfindfont: score(<Font 'STIXVariants' (STIXVar.otf) normal normal regular normal>) = 10.05\u001b[0m\n",
      "\u001b[32m2019-07-06 23:37:28:\u001b[0m \u001b[34mmatplotlib.font_manager\u001b[0m - _findfont_cached - \u001b[1;30mDEBUG\u001b[0m - \u001b[32mfindfont: score(<Font 'Muna' (Muna.ttc) normal normal regular normal>) = 10.05\u001b[0m\n",
      "\u001b[32m2019-07-06 23:37:28:\u001b[0m \u001b[34mmatplotlib.font_manager\u001b[0m - _findfont_cached - \u001b[1;30mDEBUG\u001b[0m - \u001b[32mfindfont: score(<Font 'Estrangelo TurAbdin' (SyrCOMTurAbdin.otf) normal normal 400 normal>) = 10.05\u001b[0m\n",
      "\u001b[32m2019-07-06 23:37:28:\u001b[0m \u001b[34mmatplotlib.font_manager\u001b[0m - _findfont_cached - \u001b[1;30mDEBUG\u001b[0m - \u001b[32mfindfont: score(<Font 'Luxi Mono' (luximb.ttf) normal normal bold normal>) = 10.335\u001b[0m\n",
      "\u001b[32m2019-07-06 23:37:28:\u001b[0m \u001b[34mmatplotlib.font_manager\u001b[0m - _findfont_cached - \u001b[1;30mDEBUG\u001b[0m - \u001b[32mfindfont: score(<Font 'Luminari' (Luminari.ttf) normal normal 400 normal>) = 10.05\u001b[0m\n",
      "\u001b[32m2019-07-06 23:37:28:\u001b[0m \u001b[34mmatplotlib.font_manager\u001b[0m - _findfont_cached - \u001b[1;30mDEBUG\u001b[0m - \u001b[32mfindfont: score(<Font 'PT Serif Caption' (PTSerifCaption.ttc) normal normal 400 normal>) = 10.05\u001b[0m\n",
      "\u001b[32m2019-07-06 23:37:28:\u001b[0m \u001b[34mmatplotlib.font_manager\u001b[0m - _findfont_cached - \u001b[1;30mDEBUG\u001b[0m - \u001b[32mfindfont: score(<Font 'Serto Jerusalem Outline' (SyrCOMJerusalemOutline.otf) normal normal 400 normal>) = 10.05\u001b[0m\n",
      "\u001b[32m2019-07-06 23:37:28:\u001b[0m \u001b[34mmatplotlib.font_manager\u001b[0m - _findfont_cached - \u001b[1;30mDEBUG\u001b[0m - \u001b[32mfindfont: score(<Font 'Toppan Bunkyu Mincho' (ToppanBunkyuMinchoPr6N-Regular.otf) normal normal regular normal>) = 10.05\u001b[0m\n",
      "\u001b[32m2019-07-06 23:37:28:\u001b[0m \u001b[34mmatplotlib.font_manager\u001b[0m - _findfont_cached - \u001b[1;30mDEBUG\u001b[0m - \u001b[32mfindfont: score(<Font '.Helvetica Neue DeskInterface' (HelveticaNeueDeskInterface.ttc) normal normal regular normal>) = 10.05\u001b[0m\n",
      "\u001b[32m2019-07-06 23:37:28:\u001b[0m \u001b[34mmatplotlib.font_manager\u001b[0m - _findfont_cached - \u001b[1;30mDEBUG\u001b[0m - \u001b[32mfindfont: score(<Font 'Hiragino Sans' (ヒラギノ角ゴシック W8.ttc) normal normal 700 normal>) = 10.335\u001b[0m\n",
      "\u001b[32m2019-07-06 23:37:28:\u001b[0m \u001b[34mmatplotlib.font_manager\u001b[0m - _findfont_cached - \u001b[1;30mDEBUG\u001b[0m - \u001b[32mfindfont: score(<Font 'Tsukushi A Round Gothic' (TsukushiAMaruGothic.ttc) normal normal regular normal>) = 10.05\u001b[0m\n",
      "\u001b[32m2019-07-06 23:37:28:\u001b[0m \u001b[34mmatplotlib.font_manager\u001b[0m - _findfont_cached - \u001b[1;30mDEBUG\u001b[0m - \u001b[32mfindfont: score(<Font 'Libian SC' (Libian.ttc) normal normal regular normal>) = 10.05\u001b[0m\n",
      "\u001b[32m2019-07-06 23:37:28:\u001b[0m \u001b[34mmatplotlib.font_manager\u001b[0m - _findfont_cached - \u001b[1;30mDEBUG\u001b[0m - \u001b[32mfindfont: score(<Font 'Baghdad' (Baghdad.ttc) normal normal regular normal>) = 10.05\u001b[0m\n",
      "\u001b[32m2019-07-06 23:37:28:\u001b[0m \u001b[34mmatplotlib.font_manager\u001b[0m - _findfont_cached - \u001b[1;30mDEBUG\u001b[0m - \u001b[32mfindfont: score(<Font 'Klee' (Klee.ttc) normal normal demibold normal>) = 10.24\u001b[0m\n"
     ]
    },
    {
     "name": "stdout",
     "output_type": "stream",
     "text": [
      "\u001b[32m2019-07-06 23:37:28:\u001b[0m \u001b[34mmatplotlib.font_manager\u001b[0m - _findfont_cached - \u001b[1;30mDEBUG\u001b[0m - \u001b[32mfindfont: score(<Font 'Khmer MN' (Khmer MN.ttc) normal normal 400 normal>) = 10.05\u001b[0m\n",
      "\u001b[32m2019-07-06 23:37:28:\u001b[0m \u001b[34mmatplotlib.font_manager\u001b[0m - _findfont_cached - \u001b[1;30mDEBUG\u001b[0m - \u001b[32mfindfont: score(<Font 'Bodoni Ornaments' (Bodoni Ornaments.ttf) normal normal 400 normal>) = 10.05\u001b[0m\n",
      "\u001b[32m2019-07-06 23:37:28:\u001b[0m \u001b[34mmatplotlib.font_manager\u001b[0m - _findfont_cached - \u001b[1;30mDEBUG\u001b[0m - \u001b[32mfindfont: score(<Font 'AppleMyungjo' (AppleMyungjo.ttf) normal normal regular normal>) = 10.05\u001b[0m\n",
      "\u001b[32m2019-07-06 23:37:28:\u001b[0m \u001b[34mmatplotlib.font_manager\u001b[0m - _findfont_cached - \u001b[1;30mDEBUG\u001b[0m - \u001b[32mfindfont: score(<Font 'Microsoft Sans Serif' (Microsoft Sans Serif.ttf) normal normal 400 normal>) = 10.05\u001b[0m\n",
      "\u001b[32m2019-07-06 23:37:28:\u001b[0m \u001b[34mmatplotlib.font_manager\u001b[0m - _findfont_cached - \u001b[1;30mDEBUG\u001b[0m - \u001b[32mfindfont: score(<Font 'Luxi Serif' (luxirri.ttf) oblique normal 400 normal>) = 11.05\u001b[0m\n",
      "\u001b[32m2019-07-06 23:37:28:\u001b[0m \u001b[34mmatplotlib.font_manager\u001b[0m - _findfont_cached - \u001b[1;30mDEBUG\u001b[0m - \u001b[32mfindfont: score(<Font '.Aqua Kana' (AquaKana.ttc) normal normal 400 normal>) = 10.05\u001b[0m\n",
      "\u001b[32m2019-07-06 23:37:28:\u001b[0m \u001b[34mmatplotlib.font_manager\u001b[0m - _findfont_cached - \u001b[1;30mDEBUG\u001b[0m - \u001b[32mfindfont: score(<Font 'Baoli SC' (Baoli.ttc) normal normal regular normal>) = 10.05\u001b[0m\n",
      "\u001b[32m2019-07-06 23:37:28:\u001b[0m \u001b[34mmatplotlib.font_manager\u001b[0m - _findfont_cached - \u001b[1;30mDEBUG\u001b[0m - \u001b[32mfindfont: score(<Font 'Goha-Tibeb Zemen' (GohaTibebZemen.ttf) normal normal 400 normal>) = 10.05\u001b[0m\n",
      "\u001b[32m2019-07-06 23:37:28:\u001b[0m \u001b[34mmatplotlib.font_manager\u001b[0m - _findfont_cached - \u001b[1;30mDEBUG\u001b[0m - \u001b[32mfindfont: score(<Font 'Rockwell' (Rockwell.ttc) normal normal 400 normal>) = 10.05\u001b[0m\n",
      "\u001b[32m2019-07-06 23:37:28:\u001b[0m \u001b[34mmatplotlib.font_manager\u001b[0m - _findfont_cached - \u001b[1;30mDEBUG\u001b[0m - \u001b[32mfindfont: score(<Font 'Snell Roundhand' (SnellRoundhand.ttc) normal normal 400 normal>) = 10.05\u001b[0m\n",
      "\u001b[32m2019-07-06 23:37:28:\u001b[0m \u001b[34mmatplotlib.font_manager\u001b[0m - _findfont_cached - \u001b[1;30mDEBUG\u001b[0m - \u001b[32mfindfont: score(<Font 'Sinhala MN' (Sinhala MN.ttc) normal normal 400 normal>) = 10.05\u001b[0m\n",
      "\u001b[32m2019-07-06 23:37:28:\u001b[0m \u001b[34mmatplotlib.font_manager\u001b[0m - _findfont_cached - \u001b[1;30mDEBUG\u001b[0m - \u001b[32mfindfont: score(<Font 'Estrangelo Edessa' (SyrCOMEdessa.otf) normal normal 400 normal>) = 10.05\u001b[0m\n",
      "\u001b[32m2019-07-06 23:37:28:\u001b[0m \u001b[34mmatplotlib.font_manager\u001b[0m - _findfont_cached - \u001b[1;30mDEBUG\u001b[0m - \u001b[32mfindfont: score(<Font 'Gill Sans' (GillSans.ttc) normal normal 400 normal>) = 10.05\u001b[0m\n",
      "\u001b[32m2019-07-06 23:37:28:\u001b[0m \u001b[34mmatplotlib.font_manager\u001b[0m - _findfont_cached - \u001b[1;30mDEBUG\u001b[0m - \u001b[32mfindfont: score(<Font 'Courier New' (Courier New.ttf) normal normal 400 normal>) = 10.05\u001b[0m\n",
      "\u001b[32m2019-07-06 23:37:28:\u001b[0m \u001b[34mmatplotlib.font_manager\u001b[0m - _findfont_cached - \u001b[1;30mDEBUG\u001b[0m - \u001b[32mfindfont: score(<Font 'Wawati TC' (WawaTC-Regular.otf) normal normal regular normal>) = 10.05\u001b[0m\n",
      "\u001b[32m2019-07-06 23:37:28:\u001b[0m \u001b[34mmatplotlib.font_manager\u001b[0m - _findfont_cached - \u001b[1;30mDEBUG\u001b[0m - \u001b[32mfindfont: score(<Font 'STIXGeneral' (STIXGeneralBolIta.otf) italic normal bold normal>) = 11.335\u001b[0m\n",
      "\u001b[32m2019-07-06 23:37:28:\u001b[0m \u001b[34mmatplotlib.font_manager\u001b[0m - _findfont_cached - \u001b[1;30mDEBUG\u001b[0m - \u001b[32mfindfont: score(<Font 'Apple LiGothic' (AppleLiGothic-Medium.ttf) normal normal medium normal>) = 10.145\u001b[0m\n",
      "\u001b[32m2019-07-06 23:37:28:\u001b[0m \u001b[34mmatplotlib.font_manager\u001b[0m - _findfont_cached - \u001b[1;30mDEBUG\u001b[0m - \u001b[32mfindfont: score(<Font 'Yuanti SC' (Yuanti.ttc) normal normal regular normal>) = 10.05\u001b[0m\n",
      "\u001b[32m2019-07-06 23:37:28:\u001b[0m \u001b[34mmatplotlib.font_manager\u001b[0m - _findfont_cached - \u001b[1;30mDEBUG\u001b[0m - \u001b[32mfindfont: score(<Font 'Hiragino Sans GB' (Hiragino Sans GB.ttc) normal normal 400 normal>) = 10.05\u001b[0m\n",
      "\u001b[32m2019-07-06 23:37:28:\u001b[0m \u001b[34mmatplotlib.font_manager\u001b[0m - _findfont_cached - \u001b[1;30mDEBUG\u001b[0m - \u001b[32mfindfont: score(<Font 'Hiragino Sans' (ヒラギノ角ゴシック W0.ttc) normal normal 400 normal>) = 10.05\u001b[0m\n",
      "\u001b[32m2019-07-06 23:37:28:\u001b[0m \u001b[34mmatplotlib.font_manager\u001b[0m - _findfont_cached - \u001b[1;30mDEBUG\u001b[0m - \u001b[32mfindfont: score(<Font 'Trebuchet MS' (Trebuchet MS.ttf) normal normal 400 normal>) = 10.05\u001b[0m\n",
      "\u001b[32m2019-07-06 23:37:28:\u001b[0m \u001b[34mmatplotlib.font_manager\u001b[0m - _findfont_cached - \u001b[1;30mDEBUG\u001b[0m - \u001b[32mfindfont: score(<Font 'Bitstream Vera Sans' (VeraBd.ttf) normal normal bold normal>) = 1.2440909090909091\u001b[0m\n",
      "\u001b[32m2019-07-06 23:37:28:\u001b[0m \u001b[34mmatplotlib.font_manager\u001b[0m - _findfont_cached - \u001b[1;30mDEBUG\u001b[0m - \u001b[32mfindfont: score(<Font '.SF NS Text Condensed' (SFNSTextCondensed-Medium.otf) normal normal medium condensed>) = 10.344999999999999\u001b[0m\n",
      "\u001b[32m2019-07-06 23:37:28:\u001b[0m \u001b[34mmatplotlib.font_manager\u001b[0m - _findfont_cached - \u001b[1;30mDEBUG\u001b[0m - \u001b[32mfindfont: score(<Font '.SF Compact Rounded' (SFCompactRounded-Thin.otf) normal normal 400 normal>) = 10.05\u001b[0m\n",
      "\u001b[32m2019-07-06 23:37:28:\u001b[0m \u001b[34mmatplotlib.font_manager\u001b[0m - _findfont_cached - \u001b[1;30mDEBUG\u001b[0m - \u001b[32mfindfont: score(<Font 'Montserrat SemiBold' (Montserrat-SemiBold.ttf) normal normal semibold normal>) = 10.24\u001b[0m\n",
      "\u001b[32m2019-07-06 23:37:28:\u001b[0m \u001b[34mmatplotlib.font_manager\u001b[0m - _findfont_cached - \u001b[1;30mDEBUG\u001b[0m - \u001b[32mfindfont: score(<Font 'Hiragino Sans' (ヒラギノ角ゴシック W1.ttc) normal normal 400 normal>) = 10.05\u001b[0m\n",
      "\u001b[32m2019-07-06 23:37:28:\u001b[0m \u001b[34mmatplotlib.font_manager\u001b[0m - _findfont_cached - \u001b[1;30mDEBUG\u001b[0m - \u001b[32mfindfont: score(<Font 'Tamil MN' (Tamil MN.ttc) normal normal 400 normal>) = 10.05\u001b[0m\n",
      "\u001b[32m2019-07-06 23:37:28:\u001b[0m \u001b[34mmatplotlib.font_manager\u001b[0m - _findfont_cached - \u001b[1;30mDEBUG\u001b[0m - \u001b[32mfindfont: score(<Font '.SF NS Text Condensed' (SFNSTextCondensed-Regular.otf) normal normal regular condensed>) = 10.25\u001b[0m\n",
      "\u001b[32m2019-07-06 23:37:28:\u001b[0m \u001b[34mmatplotlib.font_manager\u001b[0m - _findfont_cached - \u001b[1;30mDEBUG\u001b[0m - \u001b[32mfindfont: score(<Font 'Raanana' (Raanana.ttc) normal normal 400 normal>) = 10.05\u001b[0m\n",
      "\u001b[32m2019-07-06 23:37:28:\u001b[0m \u001b[34mmatplotlib.font_manager\u001b[0m - _findfont_cached - \u001b[1;30mDEBUG\u001b[0m - \u001b[32mfindfont: score(<Font 'Zapfino' (Zapfino.ttf) normal normal 400 normal>) = 10.05\u001b[0m\n",
      "\u001b[32m2019-07-06 23:37:28:\u001b[0m \u001b[34mmatplotlib.font_manager\u001b[0m - _findfont_cached - \u001b[1;30mDEBUG\u001b[0m - \u001b[32mfindfont: score(<Font 'Heiti TC' (STHeiti Medium.ttc) normal normal medium normal>) = 10.145\u001b[0m\n",
      "\u001b[32m2019-07-06 23:37:28:\u001b[0m \u001b[34mmatplotlib.font_manager\u001b[0m - _findfont_cached - \u001b[1;30mDEBUG\u001b[0m - \u001b[32mfindfont: score(<Font 'Palatino' (Palatino.ttc) normal normal 400 normal>) = 10.05\u001b[0m\n",
      "\u001b[32m2019-07-06 23:37:28:\u001b[0m \u001b[34mmatplotlib.font_manager\u001b[0m - _findfont_cached - \u001b[1;30mDEBUG\u001b[0m - \u001b[32mfindfont: score(<Font 'Wingdings' (Wingdings.ttf) normal normal 400 normal>) = 10.05\u001b[0m\n",
      "\u001b[32m2019-07-06 23:37:28:\u001b[0m \u001b[34mmatplotlib.font_manager\u001b[0m - _findfont_cached - \u001b[1;30mDEBUG\u001b[0m - \u001b[32mfindfont: score(<Font 'Luxi Sans' (luxisb.ttf) normal normal bold normal>) = 10.335\u001b[0m\n",
      "\u001b[32m2019-07-06 23:37:28:\u001b[0m \u001b[34mmatplotlib.font_manager\u001b[0m - _findfont_cached - \u001b[1;30mDEBUG\u001b[0m - \u001b[32mfindfont: score(<Font 'Lucida Grande' (LucidaGrande.ttc) normal normal 400 normal>) = 2.777272727272727\u001b[0m\n",
      "\u001b[32m2019-07-06 23:37:28:\u001b[0m \u001b[34mmatplotlib.font_manager\u001b[0m - _findfont_cached - \u001b[1;30mDEBUG\u001b[0m - \u001b[32mfindfont: score(<Font '.SF NS Display Condensed' (SFNSDisplayCondensed-Ultralight.otf) normal normal ultralight condensed>) = 10.535\u001b[0m\n",
      "\u001b[32m2019-07-06 23:37:28:\u001b[0m \u001b[34mmatplotlib.font_manager\u001b[0m - _findfont_cached - \u001b[1;30mDEBUG\u001b[0m - \u001b[32mfindfont: score(<Font 'Gurmukhi Sangam MN' (Gurmukhi Sangam MN.ttc) normal normal 400 normal>) = 10.05\u001b[0m\n",
      "\u001b[32m2019-07-06 23:37:28:\u001b[0m \u001b[34mmatplotlib.font_manager\u001b[0m - _findfont_cached - \u001b[1;30mDEBUG\u001b[0m - \u001b[32mfindfont: score(<Font 'Roboto' (Roboto-Italic.ttf) italic normal 400 normal>) = 11.05\u001b[0m\n",
      "\u001b[32m2019-07-06 23:37:28:\u001b[0m \u001b[34mmatplotlib.font_manager\u001b[0m - _findfont_cached - \u001b[1;30mDEBUG\u001b[0m - \u001b[32mfindfont: score(<Font 'System Font' (SFNSDisplay-ThinG4.otf) normal normal 400 normal>) = 10.05\u001b[0m\n",
      "\u001b[32m2019-07-06 23:37:28:\u001b[0m \u001b[34mmatplotlib.font_manager\u001b[0m - _findfont_cached - \u001b[1;30mDEBUG\u001b[0m - \u001b[32mfindfont: score(<Font 'Diwan Thuluth' (Diwan Thuluth.ttf) normal normal regular normal>) = 10.05\u001b[0m\n"
     ]
    },
    {
     "name": "stdout",
     "output_type": "stream",
     "text": [
      "\u001b[32m2019-07-06 23:37:28:\u001b[0m \u001b[34mmatplotlib.font_manager\u001b[0m - _findfont_cached - \u001b[1;30mDEBUG\u001b[0m - \u001b[32mfindfont: score(<Font 'Arial Narrow' (Arial Narrow Italic.ttf) italic normal 400 condensed>) = 11.25\u001b[0m\n",
      "\u001b[32m2019-07-06 23:37:28:\u001b[0m \u001b[34mmatplotlib.font_manager\u001b[0m - _findfont_cached - \u001b[1;30mDEBUG\u001b[0m - \u001b[32mfindfont: score(<Font 'American Typewriter' (AmericanTypewriter.ttc) normal normal 400 normal>) = 10.05\u001b[0m\n",
      "\u001b[32m2019-07-06 23:37:28:\u001b[0m \u001b[34mmatplotlib.font_manager\u001b[0m - _findfont_cached - \u001b[1;30mDEBUG\u001b[0m - \u001b[32mfindfont: score(<Font 'Arial' (Arial Bold Italic.ttf) italic normal bold normal>) = 7.698636363636363\u001b[0m\n",
      "\u001b[32m2019-07-06 23:37:28:\u001b[0m \u001b[34mmatplotlib.font_manager\u001b[0m - _findfont_cached - \u001b[1;30mDEBUG\u001b[0m - \u001b[32mfindfont: score(<Font 'Hiragino Sans' (ヒラギノ角ゴシック W9.ttc) normal normal 700 normal>) = 10.335\u001b[0m\n",
      "\u001b[32m2019-07-06 23:37:28:\u001b[0m \u001b[34mmatplotlib.font_manager\u001b[0m - _findfont_cached - \u001b[1;30mDEBUG\u001b[0m - \u001b[32mfindfont: score(<Font 'New Peninim MT' (NewPeninimMT.ttc) normal normal 400 normal>) = 10.05\u001b[0m\n",
      "\u001b[32m2019-07-06 23:37:28:\u001b[0m \u001b[34mmatplotlib.font_manager\u001b[0m - _findfont_cached - \u001b[1;30mDEBUG\u001b[0m - \u001b[32mfindfont: score(<Font 'Kaiti SC' (Kaiti.ttc) normal normal regular normal>) = 10.05\u001b[0m\n",
      "\u001b[32m2019-07-06 23:37:28:\u001b[0m \u001b[34mmatplotlib.font_manager\u001b[0m - _findfont_cached - \u001b[1;30mDEBUG\u001b[0m - \u001b[32mfindfont: score(<Font 'Hoefler Text' (Hoefler Text.ttc) normal normal 400 normal>) = 10.05\u001b[0m\n",
      "\u001b[32m2019-07-06 23:37:28:\u001b[0m \u001b[34mmatplotlib.font_manager\u001b[0m - _findfont_cached - \u001b[1;30mDEBUG\u001b[0m - \u001b[32mfindfont: score(<Font 'Apple Symbols' (Apple Symbols.ttf) normal normal 400 normal>) = 10.05\u001b[0m\n",
      "\u001b[32m2019-07-06 23:37:28:\u001b[0m \u001b[34mmatplotlib.font_manager\u001b[0m - _findfont_cached - \u001b[1;30mDEBUG\u001b[0m - \u001b[32mfindfont: score(<Font '.SF NS Symbols' (SFNSSymbols-Thin.otf) normal normal 400 normal>) = 10.05\u001b[0m\n",
      "\u001b[32m2019-07-06 23:37:28:\u001b[0m \u001b[34mmatplotlib.font_manager\u001b[0m - _findfont_cached - \u001b[1;30mDEBUG\u001b[0m - \u001b[32mfindfont: score(<Font 'Copperplate' (Copperplate.ttc) normal normal 400 normal>) = 10.05\u001b[0m\n",
      "\u001b[32m2019-07-06 23:37:28:\u001b[0m \u001b[34mmatplotlib.font_manager\u001b[0m - _findfont_cached - \u001b[1;30mDEBUG\u001b[0m - \u001b[32mfindfont: score(<Font '.SF Compact Display' (SFCompactDisplay-Bold.otf) normal normal bold normal>) = 10.335\u001b[0m\n",
      "\u001b[32m2019-07-06 23:37:28:\u001b[0m \u001b[34mmatplotlib.font_manager\u001b[0m - _findfont_cached - \u001b[1;30mDEBUG\u001b[0m - \u001b[32mfindfont: score(<Font 'Seravek' (Seravek.ttc) normal normal 400 normal>) = 10.05\u001b[0m\n",
      "\u001b[32m2019-07-06 23:37:28:\u001b[0m \u001b[34mmatplotlib.font_manager\u001b[0m - _findfont_cached - \u001b[1;30mDEBUG\u001b[0m - \u001b[32mfindfont: score(<Font 'Kokonor' (Kokonor.ttf) normal normal regular normal>) = 10.05\u001b[0m\n",
      "\u001b[32m2019-07-06 23:37:28:\u001b[0m \u001b[34mmatplotlib.font_manager\u001b[0m - _findfont_cached - \u001b[1;30mDEBUG\u001b[0m - \u001b[32mfindfont: score(<Font 'Trattatello' (Trattatello.ttf) normal normal 400 normal>) = 10.05\u001b[0m\n",
      "\u001b[32m2019-07-06 23:37:28:\u001b[0m \u001b[34mmatplotlib.font_manager\u001b[0m - _findfont_cached - \u001b[1;30mDEBUG\u001b[0m - \u001b[32mfindfont: score(<Font 'STIXSizeOneSym' (STIXSizOneSymReg.otf) normal normal regular normal>) = 10.05\u001b[0m\n",
      "\u001b[32m2019-07-06 23:37:28:\u001b[0m \u001b[34mmatplotlib.font_manager\u001b[0m - _findfont_cached - \u001b[1;30mDEBUG\u001b[0m - \u001b[32mfindfont: score(<Font 'Georgia' (Georgia Bold.ttf) normal normal bold normal>) = 10.335\u001b[0m\n",
      "\u001b[32m2019-07-06 23:37:28:\u001b[0m \u001b[34mmatplotlib.font_manager\u001b[0m - _findfont_cached - \u001b[1;30mDEBUG\u001b[0m - \u001b[32mfindfont: score(<Font '.SF NS Text Condensed' (SFNSTextCondensed-Heavy.otf) normal normal heavy condensed>) = 10.629999999999999\u001b[0m\n",
      "\u001b[32m2019-07-06 23:37:28:\u001b[0m \u001b[34mmatplotlib.font_manager\u001b[0m - _findfont_cached - \u001b[1;30mDEBUG\u001b[0m - \u001b[32mfindfont: score(<Font 'Montserrat' (Montserrat-Italic.ttf) italic normal 400 normal>) = 11.05\u001b[0m\n",
      "\u001b[32m2019-07-06 23:37:28:\u001b[0m \u001b[34mmatplotlib.font_manager\u001b[0m - _findfont_cached - \u001b[1;30mDEBUG\u001b[0m - \u001b[32mfindfont: score(<Font 'Luxi Serif' (luxirbi.ttf) oblique normal bold normal>) = 11.335\u001b[0m\n",
      "\u001b[32m2019-07-06 23:37:28:\u001b[0m \u001b[34mmatplotlib.font_manager\u001b[0m - _findfont_cached - \u001b[1;30mDEBUG\u001b[0m - \u001b[32mfindfont: score(<Font 'Nadeem' (Nadeem.ttc) normal normal regular normal>) = 10.05\u001b[0m\n",
      "\u001b[32m2019-07-06 23:37:28:\u001b[0m \u001b[34mmatplotlib.font_manager\u001b[0m - _findfont_cached - \u001b[1;30mDEBUG\u001b[0m - \u001b[32mfindfont: score(<Font 'Weibei TC' (WeibeiTC-Bold.otf) normal normal bold normal>) = 10.335\u001b[0m\n",
      "\u001b[32m2019-07-06 23:37:28:\u001b[0m \u001b[34mmatplotlib.font_manager\u001b[0m - _findfont_cached - \u001b[1;30mDEBUG\u001b[0m - \u001b[32mfindfont: score(<Font 'Montserrat' (Montserrat-BoldItalic.ttf) italic normal bold normal>) = 11.335\u001b[0m\n",
      "\u001b[32m2019-07-06 23:37:28:\u001b[0m \u001b[34mmatplotlib.font_manager\u001b[0m - _findfont_cached - \u001b[1;30mDEBUG\u001b[0m - \u001b[32mfindfont: score(<Font 'Marker Felt' (MarkerFelt.ttc) normal normal 400 normal>) = 10.05\u001b[0m\n",
      "\u001b[32m2019-07-06 23:37:28:\u001b[0m \u001b[34mmatplotlib.font_manager\u001b[0m - _findfont_cached - \u001b[1;30mDEBUG\u001b[0m - \u001b[32mfindfont: score(<Font 'Helvetica Neue' (HelveticaNeue.ttc) normal normal 400 normal>) = 10.05\u001b[0m\n",
      "\u001b[32m2019-07-06 23:37:28:\u001b[0m \u001b[34mmatplotlib.font_manager\u001b[0m - _findfont_cached - \u001b[1;30mDEBUG\u001b[0m - \u001b[32mfindfont: score(<Font 'PT Mono' (PTMono.ttc) normal normal bold normal>) = 10.335\u001b[0m\n",
      "\u001b[32m2019-07-06 23:37:28:\u001b[0m \u001b[34mmatplotlib.font_manager\u001b[0m - _findfont_cached - \u001b[1;30mDEBUG\u001b[0m - \u001b[32mfindfont: score(<Font 'Verdana' (Verdana Bold.ttf) normal normal bold normal>) = 3.9713636363636367\u001b[0m\n",
      "\u001b[32m2019-07-06 23:37:28:\u001b[0m \u001b[34mmatplotlib.font_manager\u001b[0m - _findfont_cached - \u001b[1;30mDEBUG\u001b[0m - \u001b[32mfindfont: score(<Font 'PT Sans' (PTSans.ttc) normal normal 400 normal>) = 10.05\u001b[0m\n",
      "\u001b[32m2019-07-06 23:37:28:\u001b[0m \u001b[34mmatplotlib.font_manager\u001b[0m - _findfont_cached - \u001b[1;30mDEBUG\u001b[0m - \u001b[32mfindfont: score(<Font 'Kohinoor Bangla' (KohinoorBangla.ttc) normal normal 400 normal>) = 10.05\u001b[0m\n",
      "\u001b[32m2019-07-06 23:37:28:\u001b[0m \u001b[34mmatplotlib.font_manager\u001b[0m - _findfont_cached - \u001b[1;30mDEBUG\u001b[0m - \u001b[32mfindfont: score(<Font 'Wingdings 2' (Wingdings 2.ttf) normal normal 400 normal>) = 10.05\u001b[0m\n",
      "\u001b[32m2019-07-06 23:37:28:\u001b[0m \u001b[34mmatplotlib.font_manager\u001b[0m - _findfont_cached - \u001b[1;30mDEBUG\u001b[0m - \u001b[32mfindfont: score(<Font 'Montserrat Black' (Montserrat-BlackItalic.ttf) italic normal black normal>) = 11.525\u001b[0m\n",
      "\u001b[32m2019-07-06 23:37:28:\u001b[0m \u001b[34mmatplotlib.font_manager\u001b[0m - _findfont_cached - \u001b[1;30mDEBUG\u001b[0m - \u001b[32mfindfont: score(<Font 'Telugu MN' (Telugu MN.ttc) normal normal 400 normal>) = 10.05\u001b[0m\n",
      "\u001b[32m2019-07-06 23:37:28:\u001b[0m \u001b[34mmatplotlib.font_manager\u001b[0m - _findfont_cached - \u001b[1;30mDEBUG\u001b[0m - \u001b[32mfindfont: score(<Font 'Yuppy TC' (YuppyTC-Regular.otf) normal normal regular normal>) = 10.05\u001b[0m\n",
      "\u001b[32m2019-07-06 23:37:28:\u001b[0m \u001b[34mmatplotlib.font_manager\u001b[0m - _findfont_cached - \u001b[1;30mDEBUG\u001b[0m - \u001b[32mfindfont: score(<Font 'Estrangelo Midyat' (SyrCOMMidyat.otf) normal normal 400 normal>) = 10.05\u001b[0m\n",
      "\u001b[32m2019-07-06 23:37:28:\u001b[0m \u001b[34mmatplotlib.font_manager\u001b[0m - _findfont_cached - \u001b[1;30mDEBUG\u001b[0m - \u001b[32mfindfont: score(<Font 'Xingkai SC' (Xingkai.ttc) normal normal bold normal>) = 10.335\u001b[0m\n",
      "\u001b[32m2019-07-06 23:37:28:\u001b[0m \u001b[34mmatplotlib.font_manager\u001b[0m - _findfont_cached - \u001b[1;30mDEBUG\u001b[0m - \u001b[32mfindfont: score(<Font 'Hiragino Sans' (ヒラギノ角ゴシック W4.ttc) normal normal 400 normal>) = 10.05\u001b[0m\n",
      "\u001b[32m2019-07-06 23:37:28:\u001b[0m \u001b[34mmatplotlib.font_manager\u001b[0m - _findfont_cached - \u001b[1;30mDEBUG\u001b[0m - \u001b[32mfindfont: score(<Font 'Kannada MN' (Kannada MN.ttc) normal normal 400 normal>) = 10.05\u001b[0m\n",
      "\u001b[32m2019-07-06 23:37:28:\u001b[0m \u001b[34mmatplotlib.font_manager\u001b[0m - _findfont_cached - \u001b[1;30mDEBUG\u001b[0m - \u001b[32mfindfont: score(<Font 'Mshtakan' (Mshtakan.ttc) normal normal 400 normal>) = 10.05\u001b[0m\n",
      "\u001b[32m2019-07-06 23:37:28:\u001b[0m \u001b[34mmatplotlib.font_manager\u001b[0m - _findfont_cached - \u001b[1;30mDEBUG\u001b[0m - \u001b[32mfindfont: score(<Font 'Apple Braille' (Apple Braille Pinpoint 6 Dot.ttf) normal normal 400 normal>) = 10.05\u001b[0m\n",
      "\u001b[32m2019-07-06 23:37:28:\u001b[0m \u001b[34mmatplotlib.font_manager\u001b[0m - _findfont_cached - \u001b[1;30mDEBUG\u001b[0m - \u001b[32mfindfont: score(<Font 'InaiMathi' (InaiMathi-MN.ttc) normal normal 400 normal>) = 10.05\u001b[0m\n",
      "\u001b[32m2019-07-06 23:37:28:\u001b[0m \u001b[34mmatplotlib.font_manager\u001b[0m - _findfont_cached - \u001b[1;30mDEBUG\u001b[0m - \u001b[32mfindfont: score(<Font 'STIXIntegralsD' (STIXIntDReg.otf) normal normal regular normal>) = 10.05\u001b[0m\n"
     ]
    },
    {
     "name": "stdout",
     "output_type": "stream",
     "text": [
      "\u001b[32m2019-07-06 23:37:28:\u001b[0m \u001b[34mmatplotlib.font_manager\u001b[0m - _findfont_cached - \u001b[1;30mDEBUG\u001b[0m - \u001b[32mfindfont: score(<Font 'System Font' (SFNSDisplay-BoldItalic.otf) italic normal bold normal>) = 11.335\u001b[0m\n",
      "\u001b[32m2019-07-06 23:37:28:\u001b[0m \u001b[34mmatplotlib.font_manager\u001b[0m - _findfont_cached - \u001b[1;30mDEBUG\u001b[0m - \u001b[32mfindfont: score(<Font 'Montserrat Light' (Montserrat-Light.ttf) normal normal light normal>) = 10.24\u001b[0m\n",
      "\u001b[32m2019-07-06 23:37:28:\u001b[0m \u001b[34mmatplotlib.font_manager\u001b[0m - _findfont_cached - \u001b[1;30mDEBUG\u001b[0m - \u001b[32mfindfont: score(<Font 'STIXIntegralsUpD' (STIXIntUpDReg.otf) normal normal regular normal>) = 10.05\u001b[0m\n",
      "\u001b[32m2019-07-06 23:37:28:\u001b[0m \u001b[34mmatplotlib.font_manager\u001b[0m - _findfont_cached - \u001b[1;30mDEBUG\u001b[0m - \u001b[32mfindfont: score(<Font 'Oriya Sangam MN' (Oriya Sangam MN.ttc) normal normal 400 normal>) = 10.05\u001b[0m\n",
      "\u001b[32m2019-07-06 23:37:28:\u001b[0m \u001b[34mmatplotlib.font_manager\u001b[0m - _findfont_cached - \u001b[1;30mDEBUG\u001b[0m - \u001b[32mfindfont: score(<Font 'Luxi Sans' (luxisri.ttf) oblique normal 400 normal>) = 11.05\u001b[0m\n",
      "\u001b[32m2019-07-06 23:37:28:\u001b[0m \u001b[34mmatplotlib.font_manager\u001b[0m - _findfont_cached - \u001b[1;30mDEBUG\u001b[0m - \u001b[32mfindfont: score(<Font 'East Syriac Ctesiphon' (SyrCOMCtesiphon.otf) normal normal 400 normal>) = 10.05\u001b[0m\n",
      "\u001b[32m2019-07-06 23:37:28:\u001b[0m \u001b[34mmatplotlib.font_manager\u001b[0m - _findfont_cached - \u001b[1;30mDEBUG\u001b[0m - \u001b[32mfindfont: score(<Font 'Yuppy SC' (YuppySC-Regular.otf) normal normal regular normal>) = 10.05\u001b[0m\n",
      "\u001b[32m2019-07-06 23:37:28:\u001b[0m \u001b[34mmatplotlib.font_manager\u001b[0m - _findfont_cached - \u001b[1;30mDEBUG\u001b[0m - \u001b[32mfindfont: score(<Font 'Serto Batnan' (SyrCOMBatnanBold.otf) normal normal bold normal>) = 10.335\u001b[0m\n",
      "\u001b[32m2019-07-06 23:37:28:\u001b[0m \u001b[34mmatplotlib.font_manager\u001b[0m - _findfont_cached - \u001b[1;30mDEBUG\u001b[0m - \u001b[32mfindfont: score(<Font 'Verdana' (Verdana Bold Italic.ttf) italic normal bold normal>) = 4.971363636363637\u001b[0m\n",
      "\u001b[32m2019-07-06 23:37:28:\u001b[0m \u001b[34mmatplotlib.font_manager\u001b[0m - _findfont_cached - \u001b[1;30mDEBUG\u001b[0m - \u001b[32mfindfont: score(<Font 'Georgia' (Georgia Bold Italic.ttf) italic normal bold normal>) = 11.335\u001b[0m\n",
      "\u001b[32m2019-07-06 23:37:28:\u001b[0m \u001b[34mmatplotlib.font_manager\u001b[0m - _findfont_cached - \u001b[1;30mDEBUG\u001b[0m - \u001b[32mfindfont: score(<Font 'Serto Mardin' (SyrCOMMardinBold.otf) normal normal bold normal>) = 10.335\u001b[0m\n",
      "\u001b[32m2019-07-06 23:37:28:\u001b[0m \u001b[34mmatplotlib.font_manager\u001b[0m - _findfont_cached - \u001b[1;30mDEBUG\u001b[0m - \u001b[32mfindfont: score(<Font 'Zapf Dingbats' (ZapfDingbats.ttf) normal normal 400 normal>) = 10.05\u001b[0m\n",
      "\u001b[32m2019-07-06 23:37:28:\u001b[0m \u001b[34mmatplotlib.font_manager\u001b[0m - _findfont_cached - \u001b[1;30mDEBUG\u001b[0m - \u001b[32mfindfont: score(<Font 'GungSeo' (Gungseouche.ttf) normal normal regular normal>) = 10.05\u001b[0m\n",
      "\u001b[32m2019-07-06 23:37:28:\u001b[0m \u001b[34mmatplotlib.font_manager\u001b[0m - _findfont_cached - \u001b[1;30mDEBUG\u001b[0m - \u001b[32mfindfont: score(<Font 'Estrangelo Nisibin Outline' (SyrCOMNisibinOutline.otf) normal normal 400 normal>) = 10.05\u001b[0m\n",
      "\u001b[32m2019-07-06 23:37:28:\u001b[0m \u001b[34mmatplotlib.font_manager\u001b[0m - _findfont_cached - \u001b[1;30mDEBUG\u001b[0m - \u001b[32mfindfont: score(<Font 'PilGi' (Pilgiche.ttf) normal normal regular normal>) = 10.05\u001b[0m\n",
      "\u001b[32m2019-07-06 23:37:28:\u001b[0m \u001b[34mmatplotlib.font_manager\u001b[0m - _findfont_cached - \u001b[1;30mDEBUG\u001b[0m - \u001b[32mfindfont: score(<Font 'Roboto' (Roboto-Bold.ttf) normal normal bold normal>) = 10.335\u001b[0m\n",
      "\u001b[32m2019-07-06 23:37:28:\u001b[0m \u001b[34mmatplotlib.font_manager\u001b[0m - _findfont_cached - \u001b[1;30mDEBUG\u001b[0m - \u001b[32mfindfont: score(<Font 'Beirut' (Beirut.ttc) normal normal regular normal>) = 10.05\u001b[0m\n",
      "\u001b[32m2019-07-06 23:37:28:\u001b[0m \u001b[34mmatplotlib.font_manager\u001b[0m - _findfont_cached - \u001b[1;30mDEBUG\u001b[0m - \u001b[32mfindfont: score(<Font 'Lao MN' (Lao MN.ttc) normal normal 400 normal>) = 10.05\u001b[0m\n",
      "\u001b[32m2019-07-06 23:37:28:\u001b[0m \u001b[34mmatplotlib.font_manager\u001b[0m - _findfont_cached - \u001b[1;30mDEBUG\u001b[0m - \u001b[32mfindfont: score(<Font 'KufiStandardGK' (KufiStandardGK.ttc) normal normal regular normal>) = 10.05\u001b[0m\n",
      "\u001b[32m2019-07-06 23:37:28:\u001b[0m \u001b[34mmatplotlib.font_manager\u001b[0m - _findfont_cached - \u001b[1;30mDEBUG\u001b[0m - \u001b[32mfindfont: score(<Font '.SF Compact Display' (SFCompactDisplay-Thin.otf) normal normal 400 normal>) = 10.05\u001b[0m\n",
      "\u001b[32m2019-07-06 23:37:28:\u001b[0m \u001b[34mmatplotlib.font_manager\u001b[0m - _findfont_cached - \u001b[1;30mDEBUG\u001b[0m - \u001b[32mfindfont: score(<Font 'Serto Jerusalem' (SyrCOMJerusalem.otf) normal normal 400 normal>) = 10.05\u001b[0m\n",
      "\u001b[32m2019-07-06 23:37:28:\u001b[0m \u001b[34mmatplotlib.font_manager\u001b[0m - _findfont_cached - \u001b[1;30mDEBUG\u001b[0m - \u001b[32mfindfont: score(<Font 'Roboto Medium' (Roboto-MediumItalic.ttf) italic normal medium normal>) = 11.145\u001b[0m\n",
      "\u001b[32m2019-07-06 23:37:28:\u001b[0m \u001b[34mmatplotlib.font_manager\u001b[0m - _findfont_cached - \u001b[1;30mDEBUG\u001b[0m - \u001b[32mfindfont: score(<Font 'Toppan Bunkyu Gothic' (ToppanBunkyuGothicPr6N.ttc) normal normal demibold normal>) = 10.24\u001b[0m\n",
      "\u001b[32m2019-07-06 23:37:28:\u001b[0m \u001b[34mmatplotlib.font_manager\u001b[0m - _findfont_cached - \u001b[1;30mDEBUG\u001b[0m - \u001b[32mfindfont: score(<Font 'DIN Condensed' (DIN Condensed Bold.ttf) normal normal bold condensed>) = 10.535\u001b[0m\n",
      "\u001b[32m2019-07-06 23:37:28:\u001b[0m \u001b[34mmatplotlib.font_manager\u001b[0m - _findfont_cached - \u001b[1;30mDEBUG\u001b[0m - \u001b[32mfindfont: score(<Font 'YuMincho' (YuMincho.ttc) normal normal medium normal>) = 10.145\u001b[0m\n",
      "\u001b[32m2019-07-06 23:37:28:\u001b[0m \u001b[34mmatplotlib.font_manager\u001b[0m - _findfont_cached - \u001b[1;30mDEBUG\u001b[0m - \u001b[32mfindfont: Matching :family=sans-serif:style=normal:variant=normal:weight=normal:stretch=normal:size=10.0 to DejaVu Sans ('/Users/david/miniconda3/envs/py37/lib/python3.7/site-packages/matplotlib/mpl-data/fonts/ttf/DejaVuSans.ttf') with score of 0.050000.\u001b[0m\n"
     ]
    },
    {
     "data": {
      "image/png": "[encoded data removed]",
      "text/plain": [
       "<Figure size 432x288 with 1 Axes>"
      ]
     },
     "execution_count": 12,
     "metadata": {},
     "output_type": "execute_result"
    },
    {
     "data": {
      "image/png": "[encoded data removed]",
      "text/plain": [
       "<Figure size 432x288 with 1 Axes>"
      ]
     },
     "metadata": {
      "needs_background": "light"
     },
     "output_type": "display_data"
    }
   ],
   "source": [
    "make_performance_uncertainty_plot(y_test, preds, uncs, 'Loss', performance_fn_args={'reduction': 'sum'})"
   ]
  },
  {
   "cell_type": "code",
   "execution_count": 42,
   "metadata": {},
   "outputs": [],
   "source": [
    "bnn_confident = BNNClassifier(bnn_type='mc_dropout', hidden_dims=[128, 128], epochs=256, verbose=True, \n",
    "                              batch_size=256, early_stopping_patience=16, class_weights=[1, 3 / y_train.mean().item()])\n",
    "\n",
    "\n",
    "bnn_diffident = BNNClassifier(bnn_type='mc_dropout', hidden_dims=[128, 128], epochs=256, verbose=True, \n",
    "                              batch_size=256, early_stopping_patience=16, class_weights=[1, (1/3) / y_train.mean().item()])"
   ]
  },
  {
   "cell_type": "code",
   "execution_count": 43,
   "metadata": {
    "scrolled": false
   },
   "outputs": [
    {
     "name": "stdout",
     "output_type": "stream",
     "text": [
      "DropoutNet(\n",
      "  (f): Sequential(\n",
      "    (0): Linear(in_features=44, out_features=128, bias=True)\n",
      "    (1): ReLU()\n",
      "    (2): Dropout(p=0.1)\n",
      "    (3): Linear(in_features=128, out_features=128, bias=True)\n",
      "    (4): ReLU()\n",
      "    (5): Dropout(p=0.1)\n",
      "    (6): Linear(in_features=128, out_features=1, bias=True)\n",
      "  )\n",
      "  (nll): BCEWithLogitsLoss()\n",
      ")\n"
     ]
    },
    {
     "data": {
      "application/vnd.jupyter.widget-view+json": {
       "model_id": "45ee059a013349e1b56966ba1c6a0bac",
       "version_major": 2,
       "version_minor": 0
      },
      "text/plain": [
       "HBox(children=(IntProgress(value=0, max=256), HTML(value='')))"
      ]
     },
     "metadata": {},
     "output_type": "display_data"
    },
    {
     "data": {
      "application/vnd.jupyter.widget-view+json": {
       "model_id": "1debe99f66b54b23a0ca61917e0d3c46",
       "version_major": 2,
       "version_minor": 0
      },
      "text/plain": [
       "HBox(children=(IntProgress(value=0, max=158), HTML(value='')))"
      ]
     },
     "metadata": {},
     "output_type": "display_data"
    },
    {
     "data": {
      "application/vnd.jupyter.widget-view+json": {
       "model_id": "80d5546120a34464a9422de6080c4d14",
       "version_major": 2,
       "version_minor": 0
      },
      "text/plain": [
       "HBox(children=(IntProgress(value=0, max=9), HTML(value='')))"
      ]
     },
     "metadata": {},
     "output_type": "display_data"
    },
    {
     "name": "stdout",
     "output_type": "stream",
     "text": [
      "Epoch: 0 | Total Loss: 732.59 | Uncertainty Ratio: 0.61\n"
     ]
    },
    {
     "data": {
      "application/vnd.jupyter.widget-view+json": {
       "model_id": "c6729d1dab49449bbe9cecc14fef6700",
       "version_major": 2,
       "version_minor": 0
      },
      "text/plain": [
       "HBox(children=(IntProgress(value=0, max=158), HTML(value='')))"
      ]
     },
     "metadata": {},
     "output_type": "display_data"
    },
    {
     "data": {
      "application/vnd.jupyter.widget-view+json": {
       "model_id": "729bba1e9d0a4cbe8b4da8b1d946a132",
       "version_major": 2,
       "version_minor": 0
      },
      "text/plain": [
       "HBox(children=(IntProgress(value=0, max=9), HTML(value='')))"
      ]
     },
     "metadata": {},
     "output_type": "display_data"
    },
    {
     "name": "stdout",
     "output_type": "stream",
     "text": [
      "Epoch: 1 | Total Loss: 677.87 | Uncertainty Ratio: 0.59\n"
     ]
    },
    {
     "data": {
      "application/vnd.jupyter.widget-view+json": {
       "model_id": "45b08b0bd3834b97bf1c514cd7689d41",
       "version_major": 2,
       "version_minor": 0
      },
      "text/plain": [
       "HBox(children=(IntProgress(value=0, max=158), HTML(value='')))"
      ]
     },
     "metadata": {},
     "output_type": "display_data"
    },
    {
     "data": {
      "application/vnd.jupyter.widget-view+json": {
       "model_id": "1614e5be092441b895b17038672c0e5c",
       "version_major": 2,
       "version_minor": 0
      },
      "text/plain": [
       "HBox(children=(IntProgress(value=0, max=9), HTML(value='')))"
      ]
     },
     "metadata": {},
     "output_type": "display_data"
    },
    {
     "name": "stdout",
     "output_type": "stream",
     "text": [
      "Epoch: 2 | Total Loss: 695.31 | Uncertainty Ratio: 0.65\n"
     ]
    },
    {
     "data": {
      "application/vnd.jupyter.widget-view+json": {
       "model_id": "3d73636535f143b6a97f676ce46ebb55",
       "version_major": 2,
       "version_minor": 0
      },
      "text/plain": [
       "HBox(children=(IntProgress(value=0, max=158), HTML(value='')))"
      ]
     },
     "metadata": {},
     "output_type": "display_data"
    },
    {
     "data": {
      "application/vnd.jupyter.widget-view+json": {
       "model_id": "1c41b1e36cea467393b2246f3da1b1c4",
       "version_major": 2,
       "version_minor": 0
      },
      "text/plain": [
       "HBox(children=(IntProgress(value=0, max=9), HTML(value='')))"
      ]
     },
     "metadata": {},
     "output_type": "display_data"
    },
    {
     "name": "stdout",
     "output_type": "stream",
     "text": [
      "Epoch: 3 | Total Loss: 672.23 | Uncertainty Ratio: 0.64\n"
     ]
    },
    {
     "data": {
      "application/vnd.jupyter.widget-view+json": {
       "model_id": "8287601abdfd492e865091921dac5c22",
       "version_major": 2,
       "version_minor": 0
      },
      "text/plain": [
       "HBox(children=(IntProgress(value=0, max=158), HTML(value='')))"
      ]
     },
     "metadata": {},
     "output_type": "display_data"
    },
    {
     "data": {
      "application/vnd.jupyter.widget-view+json": {
       "model_id": "0e8209a42b814a81a4d5c96120db7c3d",
       "version_major": 2,
       "version_minor": 0
      },
      "text/plain": [
       "HBox(children=(IntProgress(value=0, max=9), HTML(value='')))"
      ]
     },
     "metadata": {},
     "output_type": "display_data"
    },
    {
     "name": "stdout",
     "output_type": "stream",
     "text": [
      "Epoch: 4 | Total Loss: 643.16 | Uncertainty Ratio: 0.6\n"
     ]
    },
    {
     "data": {
      "application/vnd.jupyter.widget-view+json": {
       "model_id": "dad7776a7720439fa3df6cdb70ed7900",
       "version_major": 2,
       "version_minor": 0
      },
      "text/plain": [
       "HBox(children=(IntProgress(value=0, max=158), HTML(value='')))"
      ]
     },
     "metadata": {},
     "output_type": "display_data"
    },
    {
     "data": {
      "application/vnd.jupyter.widget-view+json": {
       "model_id": "bc9a2b30f2a9499abe4b4c9d0199bcaa",
       "version_major": 2,
       "version_minor": 0
      },
      "text/plain": [
       "HBox(children=(IntProgress(value=0, max=9), HTML(value='')))"
      ]
     },
     "metadata": {},
     "output_type": "display_data"
    },
    {
     "name": "stdout",
     "output_type": "stream",
     "text": [
      "Epoch: 5 | Total Loss: 641.45 | Uncertainty Ratio: 0.67\n"
     ]
    },
    {
     "data": {
      "application/vnd.jupyter.widget-view+json": {
       "model_id": "6c250aff11db4b84a7f2e55532ec88fa",
       "version_major": 2,
       "version_minor": 0
      },
      "text/plain": [
       "HBox(children=(IntProgress(value=0, max=158), HTML(value='')))"
      ]
     },
     "metadata": {},
     "output_type": "display_data"
    },
    {
     "data": {
      "application/vnd.jupyter.widget-view+json": {
       "model_id": "53780c9cb4d04f87b92a26e739d818de",
       "version_major": 2,
       "version_minor": 0
      },
      "text/plain": [
       "HBox(children=(IntProgress(value=0, max=9), HTML(value='')))"
      ]
     },
     "metadata": {},
     "output_type": "display_data"
    },
    {
     "name": "stdout",
     "output_type": "stream",
     "text": [
      "Epoch: 6 | Total Loss: 645.3 | Uncertainty Ratio: 0.67\n"
     ]
    },
    {
     "data": {
      "application/vnd.jupyter.widget-view+json": {
       "model_id": "515805c21d8e4e4ead47a25f69ac411d",
       "version_major": 2,
       "version_minor": 0
      },
      "text/plain": [
       "HBox(children=(IntProgress(value=0, max=158), HTML(value='')))"
      ]
     },
     "metadata": {},
     "output_type": "display_data"
    },
    {
     "data": {
      "application/vnd.jupyter.widget-view+json": {
       "model_id": "d71500eecb444885804dafdd8e91d92c",
       "version_major": 2,
       "version_minor": 0
      },
      "text/plain": [
       "HBox(children=(IntProgress(value=0, max=9), HTML(value='')))"
      ]
     },
     "metadata": {},
     "output_type": "display_data"
    },
    {
     "name": "stdout",
     "output_type": "stream",
     "text": [
      "Epoch: 7 | Total Loss: 642.43 | Uncertainty Ratio: 0.62\n"
     ]
    },
    {
     "data": {
      "application/vnd.jupyter.widget-view+json": {
       "model_id": "2cc5c2dfc8af48559853a17d2cee4111",
       "version_major": 2,
       "version_minor": 0
      },
      "text/plain": [
       "HBox(children=(IntProgress(value=0, max=158), HTML(value='')))"
      ]
     },
     "metadata": {},
     "output_type": "display_data"
    },
    {
     "data": {
      "application/vnd.jupyter.widget-view+json": {
       "model_id": "da631f5e87e54b47a9969426371ee982",
       "version_major": 2,
       "version_minor": 0
      },
      "text/plain": [
       "HBox(children=(IntProgress(value=0, max=9), HTML(value='')))"
      ]
     },
     "metadata": {},
     "output_type": "display_data"
    },
    {
     "name": "stdout",
     "output_type": "stream",
     "text": [
      "Epoch: 8 | Total Loss: 649.96 | Uncertainty Ratio: 0.53\n"
     ]
    },
    {
     "data": {
      "application/vnd.jupyter.widget-view+json": {
       "model_id": "ff51e36bfd73443e87778b9f0b301341",
       "version_major": 2,
       "version_minor": 0
      },
      "text/plain": [
       "HBox(children=(IntProgress(value=0, max=158), HTML(value='')))"
      ]
     },
     "metadata": {},
     "output_type": "display_data"
    },
    {
     "data": {
      "application/vnd.jupyter.widget-view+json": {
       "model_id": "be861ea58ed649c6b661f6872631269b",
       "version_major": 2,
       "version_minor": 0
      },
      "text/plain": [
       "HBox(children=(IntProgress(value=0, max=9), HTML(value='')))"
      ]
     },
     "metadata": {},
     "output_type": "display_data"
    },
    {
     "name": "stdout",
     "output_type": "stream",
     "text": [
      "Epoch: 9 | Total Loss: 608.12 | Uncertainty Ratio: 0.58\n"
     ]
    },
    {
     "data": {
      "application/vnd.jupyter.widget-view+json": {
       "model_id": "11c6d3f21aa24af49a7b58a671468119",
       "version_major": 2,
       "version_minor": 0
      },
      "text/plain": [
       "HBox(children=(IntProgress(value=0, max=158), HTML(value='')))"
      ]
     },
     "metadata": {},
     "output_type": "display_data"
    },
    {
     "data": {
      "application/vnd.jupyter.widget-view+json": {
       "model_id": "aa00c8cc9fee419f954ee03358200dda",
       "version_major": 2,
       "version_minor": 0
      },
      "text/plain": [
       "HBox(children=(IntProgress(value=0, max=9), HTML(value='')))"
      ]
     },
     "metadata": {},
     "output_type": "display_data"
    },
    {
     "name": "stdout",
     "output_type": "stream",
     "text": [
      "Epoch: 10 | Total Loss: 606.73 | Uncertainty Ratio: 0.57\n"
     ]
    },
    {
     "data": {
      "application/vnd.jupyter.widget-view+json": {
       "model_id": "cc46976585914a39bf5f8bb957d39ad8",
       "version_major": 2,
       "version_minor": 0
      },
      "text/plain": [
       "HBox(children=(IntProgress(value=0, max=158), HTML(value='')))"
      ]
     },
     "metadata": {},
     "output_type": "display_data"
    },
    {
     "data": {
      "application/vnd.jupyter.widget-view+json": {
       "model_id": "bb1424dbe3a44e6684492426cbf86796",
       "version_major": 2,
       "version_minor": 0
      },
      "text/plain": [
       "HBox(children=(IntProgress(value=0, max=9), HTML(value='')))"
      ]
     },
     "metadata": {},
     "output_type": "display_data"
    },
    {
     "name": "stdout",
     "output_type": "stream",
     "text": [
      "Epoch: 11 | Total Loss: 603.55 | Uncertainty Ratio: 0.49\n"
     ]
    },
    {
     "data": {
      "application/vnd.jupyter.widget-view+json": {
       "model_id": "81670bda29994ce19f49edd343578d98",
       "version_major": 2,
       "version_minor": 0
      },
      "text/plain": [
       "HBox(children=(IntProgress(value=0, max=158), HTML(value='')))"
      ]
     },
     "metadata": {},
     "output_type": "display_data"
    },
    {
     "data": {
      "application/vnd.jupyter.widget-view+json": {
       "model_id": "1bfc6dd0073f465faab0c7d76c69ca2d",
       "version_major": 2,
       "version_minor": 0
      },
      "text/plain": [
       "HBox(children=(IntProgress(value=0, max=9), HTML(value='')))"
      ]
     },
     "metadata": {},
     "output_type": "display_data"
    },
    {
     "name": "stdout",
     "output_type": "stream",
     "text": [
      "Epoch: 12 | Total Loss: 608.81 | Uncertainty Ratio: 0.51\n"
     ]
    },
    {
     "data": {
      "application/vnd.jupyter.widget-view+json": {
       "model_id": "57b95253bc724b1b88c926c9891d152d",
       "version_major": 2,
       "version_minor": 0
      },
      "text/plain": [
       "HBox(children=(IntProgress(value=0, max=158), HTML(value='')))"
      ]
     },
     "metadata": {},
     "output_type": "display_data"
    },
    {
     "data": {
      "application/vnd.jupyter.widget-view+json": {
       "model_id": "0fe118d83bb24b22a2707804c2981ad9",
       "version_major": 2,
       "version_minor": 0
      },
      "text/plain": [
       "HBox(children=(IntProgress(value=0, max=9), HTML(value='')))"
      ]
     },
     "metadata": {},
     "output_type": "display_data"
    },
    {
     "name": "stdout",
     "output_type": "stream",
     "text": [
      "Epoch: 13 | Total Loss: 596.34 | Uncertainty Ratio: 0.51\n"
     ]
    },
    {
     "data": {
      "application/vnd.jupyter.widget-view+json": {
       "model_id": "57dceb8059884f739f1d3f0e94e1636a",
       "version_major": 2,
       "version_minor": 0
      },
      "text/plain": [
       "HBox(children=(IntProgress(value=0, max=158), HTML(value='')))"
      ]
     },
     "metadata": {},
     "output_type": "display_data"
    },
    {
     "data": {
      "application/vnd.jupyter.widget-view+json": {
       "model_id": "f497a63554fd4ef2b3e8d1baadab40ea",
       "version_major": 2,
       "version_minor": 0
      },
      "text/plain": [
       "HBox(children=(IntProgress(value=0, max=9), HTML(value='')))"
      ]
     },
     "metadata": {},
     "output_type": "display_data"
    },
    {
     "name": "stdout",
     "output_type": "stream",
     "text": [
      "Epoch: 14 | Total Loss: 588.95 | Uncertainty Ratio: 0.53\n"
     ]
    },
    {
     "data": {
      "application/vnd.jupyter.widget-view+json": {
       "model_id": "2171a3cacf77489fa84c385d9988538b",
       "version_major": 2,
       "version_minor": 0
      },
      "text/plain": [
       "HBox(children=(IntProgress(value=0, max=158), HTML(value='')))"
      ]
     },
     "metadata": {},
     "output_type": "display_data"
    },
    {
     "data": {
      "application/vnd.jupyter.widget-view+json": {
       "model_id": "991406a477b144c3afcaad711860284c",
       "version_major": 2,
       "version_minor": 0
      },
      "text/plain": [
       "HBox(children=(IntProgress(value=0, max=9), HTML(value='')))"
      ]
     },
     "metadata": {},
     "output_type": "display_data"
    },
    {
     "name": "stdout",
     "output_type": "stream",
     "text": [
      "Epoch: 15 | Total Loss: 595.7 | Uncertainty Ratio: 0.64\n"
     ]
    },
    {
     "data": {
      "application/vnd.jupyter.widget-view+json": {
       "model_id": "f336d3c1a0f74a108220a58f9cbb4d25",
       "version_major": 2,
       "version_minor": 0
      },
      "text/plain": [
       "HBox(children=(IntProgress(value=0, max=158), HTML(value='')))"
      ]
     },
     "metadata": {},
     "output_type": "display_data"
    },
    {
     "data": {
      "application/vnd.jupyter.widget-view+json": {
       "model_id": "2d2a42fa27394932a590e6a77b49a3cf",
       "version_major": 2,
       "version_minor": 0
      },
      "text/plain": [
       "HBox(children=(IntProgress(value=0, max=9), HTML(value='')))"
      ]
     },
     "metadata": {},
     "output_type": "display_data"
    },
    {
     "name": "stdout",
     "output_type": "stream",
     "text": [
      "Epoch: 16 | Total Loss: 588.26 | Uncertainty Ratio: 0.63\n"
     ]
    },
    {
     "data": {
      "application/vnd.jupyter.widget-view+json": {
       "model_id": "57cc61c3e6cf4739bbfa18d1123a326a",
       "version_major": 2,
       "version_minor": 0
      },
      "text/plain": [
       "HBox(children=(IntProgress(value=0, max=158), HTML(value='')))"
      ]
     },
     "metadata": {},
     "output_type": "display_data"
    },
    {
     "data": {
      "application/vnd.jupyter.widget-view+json": {
       "model_id": "d1a7f449a3d84bfa8c1edce81abb804a",
       "version_major": 2,
       "version_minor": 0
      },
      "text/plain": [
       "HBox(children=(IntProgress(value=0, max=9), HTML(value='')))"
      ]
     },
     "metadata": {},
     "output_type": "display_data"
    },
    {
     "name": "stdout",
     "output_type": "stream",
     "text": [
      "Epoch: 17 | Total Loss: 577.31 | Uncertainty Ratio: 0.63\n"
     ]
    },
    {
     "data": {
      "application/vnd.jupyter.widget-view+json": {
       "model_id": "9c07272e0e4b483abc1e48eaa11025d9",
       "version_major": 2,
       "version_minor": 0
      },
      "text/plain": [
       "HBox(children=(IntProgress(value=0, max=158), HTML(value='')))"
      ]
     },
     "metadata": {},
     "output_type": "display_data"
    },
    {
     "data": {
      "application/vnd.jupyter.widget-view+json": {
       "model_id": "f98c61b43e4343bfbdd079cc534f2770",
       "version_major": 2,
       "version_minor": 0
      },
      "text/plain": [
       "HBox(children=(IntProgress(value=0, max=9), HTML(value='')))"
      ]
     },
     "metadata": {},
     "output_type": "display_data"
    },
    {
     "name": "stdout",
     "output_type": "stream",
     "text": [
      "Epoch: 18 | Total Loss: 598.15 | Uncertainty Ratio: 0.58\n"
     ]
    },
    {
     "data": {
      "application/vnd.jupyter.widget-view+json": {
       "model_id": "6897a818f72a44c884e84aaa12e35678",
       "version_major": 2,
       "version_minor": 0
      },
      "text/plain": [
       "HBox(children=(IntProgress(value=0, max=158), HTML(value='')))"
      ]
     },
     "metadata": {},
     "output_type": "display_data"
    },
    {
     "data": {
      "application/vnd.jupyter.widget-view+json": {
       "model_id": "4bd647421d184b5f9867e0baaeb07727",
       "version_major": 2,
       "version_minor": 0
      },
      "text/plain": [
       "HBox(children=(IntProgress(value=0, max=9), HTML(value='')))"
      ]
     },
     "metadata": {},
     "output_type": "display_data"
    },
    {
     "name": "stdout",
     "output_type": "stream",
     "text": [
      "Epoch: 19 | Total Loss: 607.55 | Uncertainty Ratio: 0.77\n"
     ]
    },
    {
     "data": {
      "application/vnd.jupyter.widget-view+json": {
       "model_id": "abec3aeeb959461481af59cdd080dd50",
       "version_major": 2,
       "version_minor": 0
      },
      "text/plain": [
       "HBox(children=(IntProgress(value=0, max=158), HTML(value='')))"
      ]
     },
     "metadata": {},
     "output_type": "display_data"
    },
    {
     "data": {
      "application/vnd.jupyter.widget-view+json": {
       "model_id": "8a170665ce824044a1911dfd746c9e95",
       "version_major": 2,
       "version_minor": 0
      },
      "text/plain": [
       "HBox(children=(IntProgress(value=0, max=9), HTML(value='')))"
      ]
     },
     "metadata": {},
     "output_type": "display_data"
    },
    {
     "name": "stdout",
     "output_type": "stream",
     "text": [
      "Epoch: 20 | Total Loss: 585.47 | Uncertainty Ratio: 0.58\n"
     ]
    },
    {
     "data": {
      "application/vnd.jupyter.widget-view+json": {
       "model_id": "24286c51c3fb4358afc604e18dc7e768",
       "version_major": 2,
       "version_minor": 0
      },
      "text/plain": [
       "HBox(children=(IntProgress(value=0, max=158), HTML(value='')))"
      ]
     },
     "metadata": {},
     "output_type": "display_data"
    },
    {
     "data": {
      "application/vnd.jupyter.widget-view+json": {
       "model_id": "141c7b59a9264f8b8f142b50cc4d682a",
       "version_major": 2,
       "version_minor": 0
      },
      "text/plain": [
       "HBox(children=(IntProgress(value=0, max=9), HTML(value='')))"
      ]
     },
     "metadata": {},
     "output_type": "display_data"
    },
    {
     "name": "stdout",
     "output_type": "stream",
     "text": [
      "Epoch: 21 | Total Loss: 585.28 | Uncertainty Ratio: 0.69\n"
     ]
    },
    {
     "data": {
      "application/vnd.jupyter.widget-view+json": {
       "model_id": "cb2c42058ff4486dad8a9881a5f6fc6c",
       "version_major": 2,
       "version_minor": 0
      },
      "text/plain": [
       "HBox(children=(IntProgress(value=0, max=158), HTML(value='')))"
      ]
     },
     "metadata": {},
     "output_type": "display_data"
    },
    {
     "data": {
      "application/vnd.jupyter.widget-view+json": {
       "model_id": "cb8a84c6701d4dc3be31759c2b1b5115",
       "version_major": 2,
       "version_minor": 0
      },
      "text/plain": [
       "HBox(children=(IntProgress(value=0, max=9), HTML(value='')))"
      ]
     },
     "metadata": {},
     "output_type": "display_data"
    },
    {
     "name": "stdout",
     "output_type": "stream",
     "text": [
      "Epoch: 22 | Total Loss: 571.85 | Uncertainty Ratio: 0.67\n"
     ]
    },
    {
     "data": {
      "application/vnd.jupyter.widget-view+json": {
       "model_id": "a6dbeae1d3df4ff59825cc1fdff046c6",
       "version_major": 2,
       "version_minor": 0
      },
      "text/plain": [
       "HBox(children=(IntProgress(value=0, max=158), HTML(value='')))"
      ]
     },
     "metadata": {},
     "output_type": "display_data"
    },
    {
     "data": {
      "application/vnd.jupyter.widget-view+json": {
       "model_id": "2b000363b45b47b988be5d541fc1a02a",
       "version_major": 2,
       "version_minor": 0
      },
      "text/plain": [
       "HBox(children=(IntProgress(value=0, max=9), HTML(value='')))"
      ]
     },
     "metadata": {},
     "output_type": "display_data"
    },
    {
     "name": "stdout",
     "output_type": "stream",
     "text": [
      "Epoch: 23 | Total Loss: 569.35 | Uncertainty Ratio: 0.66\n"
     ]
    },
    {
     "data": {
      "application/vnd.jupyter.widget-view+json": {
       "model_id": "514662e292764cfba3b8c3a0d25dc258",
       "version_major": 2,
       "version_minor": 0
      },
      "text/plain": [
       "HBox(children=(IntProgress(value=0, max=158), HTML(value='')))"
      ]
     },
     "metadata": {},
     "output_type": "display_data"
    },
    {
     "data": {
      "application/vnd.jupyter.widget-view+json": {
       "model_id": "e7e29187b3bc46f8876a266933cf48b4",
       "version_major": 2,
       "version_minor": 0
      },
      "text/plain": [
       "HBox(children=(IntProgress(value=0, max=9), HTML(value='')))"
      ]
     },
     "metadata": {},
     "output_type": "display_data"
    },
    {
     "name": "stdout",
     "output_type": "stream",
     "text": [
      "Epoch: 24 | Total Loss: 576.26 | Uncertainty Ratio: 0.78\n"
     ]
    },
    {
     "data": {
      "application/vnd.jupyter.widget-view+json": {
       "model_id": "87ce6e0f84c94d9a9ae095bfec5eb291",
       "version_major": 2,
       "version_minor": 0
      },
      "text/plain": [
       "HBox(children=(IntProgress(value=0, max=158), HTML(value='')))"
      ]
     },
     "metadata": {},
     "output_type": "display_data"
    },
    {
     "data": {
      "application/vnd.jupyter.widget-view+json": {
       "model_id": "d5050e0f5933424788eb85f16d062e21",
       "version_major": 2,
       "version_minor": 0
      },
      "text/plain": [
       "HBox(children=(IntProgress(value=0, max=9), HTML(value='')))"
      ]
     },
     "metadata": {},
     "output_type": "display_data"
    },
    {
     "name": "stdout",
     "output_type": "stream",
     "text": [
      "Epoch: 25 | Total Loss: 565.94 | Uncertainty Ratio: 0.77\n"
     ]
    },
    {
     "data": {
      "application/vnd.jupyter.widget-view+json": {
       "model_id": "5bb2c91d4d4146cf8d03ed3c8444d6e0",
       "version_major": 2,
       "version_minor": 0
      },
      "text/plain": [
       "HBox(children=(IntProgress(value=0, max=158), HTML(value='')))"
      ]
     },
     "metadata": {},
     "output_type": "display_data"
    },
    {
     "data": {
      "application/vnd.jupyter.widget-view+json": {
       "model_id": "5cfbc848b6704bed9c78402029c45916",
       "version_major": 2,
       "version_minor": 0
      },
      "text/plain": [
       "HBox(children=(IntProgress(value=0, max=9), HTML(value='')))"
      ]
     },
     "metadata": {},
     "output_type": "display_data"
    },
    {
     "name": "stdout",
     "output_type": "stream",
     "text": [
      "Epoch: 26 | Total Loss: 610.31 | Uncertainty Ratio: 0.9\n"
     ]
    },
    {
     "data": {
      "application/vnd.jupyter.widget-view+json": {
       "model_id": "2e1f4236c45d408c94af84fb278df4c5",
       "version_major": 2,
       "version_minor": 0
      },
      "text/plain": [
       "HBox(children=(IntProgress(value=0, max=158), HTML(value='')))"
      ]
     },
     "metadata": {},
     "output_type": "display_data"
    },
    {
     "data": {
      "application/vnd.jupyter.widget-view+json": {
       "model_id": "490f81f58a394af782ee464c287203fc",
       "version_major": 2,
       "version_minor": 0
      },
      "text/plain": [
       "HBox(children=(IntProgress(value=0, max=9), HTML(value='')))"
      ]
     },
     "metadata": {},
     "output_type": "display_data"
    },
    {
     "name": "stdout",
     "output_type": "stream",
     "text": [
      "Epoch: 27 | Total Loss: 558.29 | Uncertainty Ratio: 0.79\n"
     ]
    },
    {
     "data": {
      "application/vnd.jupyter.widget-view+json": {
       "model_id": "5298f80362364f29b7f13fe29c8b7516",
       "version_major": 2,
       "version_minor": 0
      },
      "text/plain": [
       "HBox(children=(IntProgress(value=0, max=158), HTML(value='')))"
      ]
     },
     "metadata": {},
     "output_type": "display_data"
    },
    {
     "data": {
      "application/vnd.jupyter.widget-view+json": {
       "model_id": "b79da9e8c82d4939afc5cf09e5e68269",
       "version_major": 2,
       "version_minor": 0
      },
      "text/plain": [
       "HBox(children=(IntProgress(value=0, max=9), HTML(value='')))"
      ]
     },
     "metadata": {},
     "output_type": "display_data"
    },
    {
     "name": "stdout",
     "output_type": "stream",
     "text": [
      "Epoch: 28 | Total Loss: 573.17 | Uncertainty Ratio: 0.8\n"
     ]
    },
    {
     "data": {
      "application/vnd.jupyter.widget-view+json": {
       "model_id": "fe5ac534f5324f658339005d1a1ce179",
       "version_major": 2,
       "version_minor": 0
      },
      "text/plain": [
       "HBox(children=(IntProgress(value=0, max=158), HTML(value='')))"
      ]
     },
     "metadata": {},
     "output_type": "display_data"
    },
    {
     "data": {
      "application/vnd.jupyter.widget-view+json": {
       "model_id": "793e0a0394d744d8bc64505445428081",
       "version_major": 2,
       "version_minor": 0
      },
      "text/plain": [
       "HBox(children=(IntProgress(value=0, max=9), HTML(value='')))"
      ]
     },
     "metadata": {},
     "output_type": "display_data"
    },
    {
     "name": "stdout",
     "output_type": "stream",
     "text": [
      "Epoch: 29 | Total Loss: 571.56 | Uncertainty Ratio: 0.85\n"
     ]
    },
    {
     "data": {
      "application/vnd.jupyter.widget-view+json": {
       "model_id": "889c571f03494d29b32bc033032d399a",
       "version_major": 2,
       "version_minor": 0
      },
      "text/plain": [
       "HBox(children=(IntProgress(value=0, max=158), HTML(value='')))"
      ]
     },
     "metadata": {},
     "output_type": "display_data"
    },
    {
     "data": {
      "application/vnd.jupyter.widget-view+json": {
       "model_id": "5b00266dcc05440c96b8fb0cc3eb097b",
       "version_major": 2,
       "version_minor": 0
      },
      "text/plain": [
       "HBox(children=(IntProgress(value=0, max=9), HTML(value='')))"
      ]
     },
     "metadata": {},
     "output_type": "display_data"
    },
    {
     "name": "stdout",
     "output_type": "stream",
     "text": [
      "Epoch: 30 | Total Loss: 584.32 | Uncertainty Ratio: 0.91\n"
     ]
    },
    {
     "data": {
      "application/vnd.jupyter.widget-view+json": {
       "model_id": "3f6056f0389547f485ed04b8fdbc512e",
       "version_major": 2,
       "version_minor": 0
      },
      "text/plain": [
       "HBox(children=(IntProgress(value=0, max=158), HTML(value='')))"
      ]
     },
     "metadata": {},
     "output_type": "display_data"
    },
    {
     "data": {
      "application/vnd.jupyter.widget-view+json": {
       "model_id": "bf85fd33860b4268a72e22d54ac7bdfe",
       "version_major": 2,
       "version_minor": 0
      },
      "text/plain": [
       "HBox(children=(IntProgress(value=0, max=9), HTML(value='')))"
      ]
     },
     "metadata": {},
     "output_type": "display_data"
    },
    {
     "name": "stdout",
     "output_type": "stream",
     "text": [
      "Epoch: 31 | Total Loss: 584.31 | Uncertainty Ratio: 0.99\n"
     ]
    },
    {
     "data": {
      "application/vnd.jupyter.widget-view+json": {
       "model_id": "e618abdc149b43d88109208f8b2191b3",
       "version_major": 2,
       "version_minor": 0
      },
      "text/plain": [
       "HBox(children=(IntProgress(value=0, max=158), HTML(value='')))"
      ]
     },
     "metadata": {},
     "output_type": "display_data"
    },
    {
     "data": {
      "application/vnd.jupyter.widget-view+json": {
       "model_id": "35470ab112f942088e3927ec0237b0bb",
       "version_major": 2,
       "version_minor": 0
      },
      "text/plain": [
       "HBox(children=(IntProgress(value=0, max=9), HTML(value='')))"
      ]
     },
     "metadata": {},
     "output_type": "display_data"
    },
    {
     "name": "stdout",
     "output_type": "stream",
     "text": [
      "Epoch: 32 | Total Loss: 582.19 | Uncertainty Ratio: 1.04\n"
     ]
    },
    {
     "data": {
      "application/vnd.jupyter.widget-view+json": {
       "model_id": "4b506c218d1c493188cdad27e64dba05",
       "version_major": 2,
       "version_minor": 0
      },
      "text/plain": [
       "HBox(children=(IntProgress(value=0, max=158), HTML(value='')))"
      ]
     },
     "metadata": {},
     "output_type": "display_data"
    },
    {
     "data": {
      "application/vnd.jupyter.widget-view+json": {
       "model_id": "530525426c674abdb4c5f07be392b350",
       "version_major": 2,
       "version_minor": 0
      },
      "text/plain": [
       "HBox(children=(IntProgress(value=0, max=9), HTML(value='')))"
      ]
     },
     "metadata": {},
     "output_type": "display_data"
    },
    {
     "name": "stdout",
     "output_type": "stream",
     "text": [
      "Epoch: 33 | Total Loss: 574.44 | Uncertainty Ratio: 1.1\n"
     ]
    },
    {
     "data": {
      "application/vnd.jupyter.widget-view+json": {
       "model_id": "d201c915249841789d66e488090e033c",
       "version_major": 2,
       "version_minor": 0
      },
      "text/plain": [
       "HBox(children=(IntProgress(value=0, max=158), HTML(value='')))"
      ]
     },
     "metadata": {},
     "output_type": "display_data"
    },
    {
     "data": {
      "application/vnd.jupyter.widget-view+json": {
       "model_id": "57f0feafed114566a9c15826c4e81514",
       "version_major": 2,
       "version_minor": 0
      },
      "text/plain": [
       "HBox(children=(IntProgress(value=0, max=9), HTML(value='')))"
      ]
     },
     "metadata": {},
     "output_type": "display_data"
    },
    {
     "name": "stdout",
     "output_type": "stream",
     "text": [
      "Epoch: 34 | Total Loss: 590.33 | Uncertainty Ratio: 0.91\n"
     ]
    },
    {
     "data": {
      "application/vnd.jupyter.widget-view+json": {
       "model_id": "d22bfc486d3e4df79b20f6281b803c9e",
       "version_major": 2,
       "version_minor": 0
      },
      "text/plain": [
       "HBox(children=(IntProgress(value=0, max=158), HTML(value='')))"
      ]
     },
     "metadata": {},
     "output_type": "display_data"
    },
    {
     "data": {
      "application/vnd.jupyter.widget-view+json": {
       "model_id": "00646d2d26d34c85a93994c2bc3b1dcc",
       "version_major": 2,
       "version_minor": 0
      },
      "text/plain": [
       "HBox(children=(IntProgress(value=0, max=9), HTML(value='')))"
      ]
     },
     "metadata": {},
     "output_type": "display_data"
    },
    {
     "name": "stdout",
     "output_type": "stream",
     "text": [
      "Epoch: 35 | Total Loss: 564.23 | Uncertainty Ratio: 1.09\n"
     ]
    },
    {
     "data": {
      "application/vnd.jupyter.widget-view+json": {
       "model_id": "7a68f8fc3f7d42479e187c4e03844b00",
       "version_major": 2,
       "version_minor": 0
      },
      "text/plain": [
       "HBox(children=(IntProgress(value=0, max=158), HTML(value='')))"
      ]
     },
     "metadata": {},
     "output_type": "display_data"
    },
    {
     "data": {
      "application/vnd.jupyter.widget-view+json": {
       "model_id": "4bd44cccb92c46689e4494572d6dd3fd",
       "version_major": 2,
       "version_minor": 0
      },
      "text/plain": [
       "HBox(children=(IntProgress(value=0, max=9), HTML(value='')))"
      ]
     },
     "metadata": {},
     "output_type": "display_data"
    },
    {
     "name": "stdout",
     "output_type": "stream",
     "text": [
      "Epoch: 36 | Total Loss: 574.26 | Uncertainty Ratio: 1.25\n"
     ]
    },
    {
     "data": {
      "application/vnd.jupyter.widget-view+json": {
       "model_id": "c7bc9ecf82494091937a83c0ab754597",
       "version_major": 2,
       "version_minor": 0
      },
      "text/plain": [
       "HBox(children=(IntProgress(value=0, max=158), HTML(value='')))"
      ]
     },
     "metadata": {},
     "output_type": "display_data"
    },
    {
     "data": {
      "application/vnd.jupyter.widget-view+json": {
       "model_id": "eeff091512a64e2bb0f76fe560d43ada",
       "version_major": 2,
       "version_minor": 0
      },
      "text/plain": [
       "HBox(children=(IntProgress(value=0, max=9), HTML(value='')))"
      ]
     },
     "metadata": {},
     "output_type": "display_data"
    },
    {
     "name": "stdout",
     "output_type": "stream",
     "text": [
      "Epoch: 37 | Total Loss: 567.12 | Uncertainty Ratio: 1.26\n"
     ]
    },
    {
     "data": {
      "application/vnd.jupyter.widget-view+json": {
       "model_id": "0dd0bec5e5ea40eeb6c7ec5ef619e540",
       "version_major": 2,
       "version_minor": 0
      },
      "text/plain": [
       "HBox(children=(IntProgress(value=0, max=158), HTML(value='')))"
      ]
     },
     "metadata": {},
     "output_type": "display_data"
    },
    {
     "data": {
      "application/vnd.jupyter.widget-view+json": {
       "model_id": "3ffac692c6664668b3d4bf676de1eb8b",
       "version_major": 2,
       "version_minor": 0
      },
      "text/plain": [
       "HBox(children=(IntProgress(value=0, max=9), HTML(value='')))"
      ]
     },
     "metadata": {},
     "output_type": "display_data"
    },
    {
     "name": "stdout",
     "output_type": "stream",
     "text": [
      "Epoch: 38 | Total Loss: 552.83 | Uncertainty Ratio: 1.22\n"
     ]
    },
    {
     "data": {
      "application/vnd.jupyter.widget-view+json": {
       "model_id": "8c25af1b911c4ca997209f779c35c529",
       "version_major": 2,
       "version_minor": 0
      },
      "text/plain": [
       "HBox(children=(IntProgress(value=0, max=158), HTML(value='')))"
      ]
     },
     "metadata": {},
     "output_type": "display_data"
    },
    {
     "data": {
      "application/vnd.jupyter.widget-view+json": {
       "model_id": "5e8af20e6ccb449e91d11cd66b73b204",
       "version_major": 2,
       "version_minor": 0
      },
      "text/plain": [
       "HBox(children=(IntProgress(value=0, max=9), HTML(value='')))"
      ]
     },
     "metadata": {},
     "output_type": "display_data"
    },
    {
     "name": "stdout",
     "output_type": "stream",
     "text": [
      "Epoch: 39 | Total Loss: 577.29 | Uncertainty Ratio: 1.35\n"
     ]
    },
    {
     "data": {
      "application/vnd.jupyter.widget-view+json": {
       "model_id": "2d7a71618e514124ac345d53d6bd42a4",
       "version_major": 2,
       "version_minor": 0
      },
      "text/plain": [
       "HBox(children=(IntProgress(value=0, max=158), HTML(value='')))"
      ]
     },
     "metadata": {},
     "output_type": "display_data"
    },
    {
     "data": {
      "application/vnd.jupyter.widget-view+json": {
       "model_id": "30dd71bd6b1547248fa1d3783d4fc452",
       "version_major": 2,
       "version_minor": 0
      },
      "text/plain": [
       "HBox(children=(IntProgress(value=0, max=9), HTML(value='')))"
      ]
     },
     "metadata": {},
     "output_type": "display_data"
    },
    {
     "name": "stdout",
     "output_type": "stream",
     "text": [
      "Epoch: 40 | Total Loss: 575.49 | Uncertainty Ratio: 1.35\n"
     ]
    },
    {
     "data": {
      "application/vnd.jupyter.widget-view+json": {
       "model_id": "d794960e1de14dfabb3ac6a83f9873f9",
       "version_major": 2,
       "version_minor": 0
      },
      "text/plain": [
       "HBox(children=(IntProgress(value=0, max=158), HTML(value='')))"
      ]
     },
     "metadata": {},
     "output_type": "display_data"
    },
    {
     "data": {
      "application/vnd.jupyter.widget-view+json": {
       "model_id": "5242574bacd1433fbf768a624c8c91d2",
       "version_major": 2,
       "version_minor": 0
      },
      "text/plain": [
       "HBox(children=(IntProgress(value=0, max=9), HTML(value='')))"
      ]
     },
     "metadata": {},
     "output_type": "display_data"
    },
    {
     "name": "stdout",
     "output_type": "stream",
     "text": [
      "Epoch: 41 | Total Loss: 602.94 | Uncertainty Ratio: 1.28\n"
     ]
    },
    {
     "data": {
      "application/vnd.jupyter.widget-view+json": {
       "model_id": "d3f3d045821346b59add5e036d045a65",
       "version_major": 2,
       "version_minor": 0
      },
      "text/plain": [
       "HBox(children=(IntProgress(value=0, max=158), HTML(value='')))"
      ]
     },
     "metadata": {},
     "output_type": "display_data"
    },
    {
     "data": {
      "application/vnd.jupyter.widget-view+json": {
       "model_id": "43911068aa2640a4b81004f64df5c692",
       "version_major": 2,
       "version_minor": 0
      },
      "text/plain": [
       "HBox(children=(IntProgress(value=0, max=9), HTML(value='')))"
      ]
     },
     "metadata": {},
     "output_type": "display_data"
    },
    {
     "name": "stdout",
     "output_type": "stream",
     "text": [
      "Epoch: 42 | Total Loss: 567.0 | Uncertainty Ratio: 1.25\n"
     ]
    },
    {
     "data": {
      "application/vnd.jupyter.widget-view+json": {
       "model_id": "fd78c3058d98475abddcfb491c1f0a97",
       "version_major": 2,
       "version_minor": 0
      },
      "text/plain": [
       "HBox(children=(IntProgress(value=0, max=158), HTML(value='')))"
      ]
     },
     "metadata": {},
     "output_type": "display_data"
    },
    {
     "data": {
      "application/vnd.jupyter.widget-view+json": {
       "model_id": "77ea90a59085445789acbe499c1cc509",
       "version_major": 2,
       "version_minor": 0
      },
      "text/plain": [
       "HBox(children=(IntProgress(value=0, max=9), HTML(value='')))"
      ]
     },
     "metadata": {},
     "output_type": "display_data"
    },
    {
     "name": "stdout",
     "output_type": "stream",
     "text": [
      "Epoch: 43 | Total Loss: 607.6 | Uncertainty Ratio: 1.41\n"
     ]
    },
    {
     "data": {
      "application/vnd.jupyter.widget-view+json": {
       "model_id": "cd1489175f0d4634aacf1460ae22a8f9",
       "version_major": 2,
       "version_minor": 0
      },
      "text/plain": [
       "HBox(children=(IntProgress(value=0, max=158), HTML(value='')))"
      ]
     },
     "metadata": {},
     "output_type": "display_data"
    },
    {
     "data": {
      "application/vnd.jupyter.widget-view+json": {
       "model_id": "e0d6b529fa144f3ebfe1de6580d22d50",
       "version_major": 2,
       "version_minor": 0
      },
      "text/plain": [
       "HBox(children=(IntProgress(value=0, max=9), HTML(value='')))"
      ]
     },
     "metadata": {},
     "output_type": "display_data"
    },
    {
     "name": "stdout",
     "output_type": "stream",
     "text": [
      "Epoch: 44 | Total Loss: 606.89 | Uncertainty Ratio: 1.44\n"
     ]
    },
    {
     "data": {
      "application/vnd.jupyter.widget-view+json": {
       "model_id": "eb5d1492e1584a70a8fb76d535a8e1a7",
       "version_major": 2,
       "version_minor": 0
      },
      "text/plain": [
       "HBox(children=(IntProgress(value=0, max=158), HTML(value='')))"
      ]
     },
     "metadata": {},
     "output_type": "display_data"
    },
    {
     "data": {
      "application/vnd.jupyter.widget-view+json": {
       "model_id": "0c76961d6a8942cc8478bc6deec34f10",
       "version_major": 2,
       "version_minor": 0
      },
      "text/plain": [
       "HBox(children=(IntProgress(value=0, max=9), HTML(value='')))"
      ]
     },
     "metadata": {},
     "output_type": "display_data"
    },
    {
     "name": "stdout",
     "output_type": "stream",
     "text": [
      "Epoch: 45 | Total Loss: 630.68 | Uncertainty Ratio: 1.49\n"
     ]
    },
    {
     "data": {
      "application/vnd.jupyter.widget-view+json": {
       "model_id": "0eef70fb3eeb4704b0741bac9087aa88",
       "version_major": 2,
       "version_minor": 0
      },
      "text/plain": [
       "HBox(children=(IntProgress(value=0, max=158), HTML(value='')))"
      ]
     },
     "metadata": {},
     "output_type": "display_data"
    },
    {
     "data": {
      "application/vnd.jupyter.widget-view+json": {
       "model_id": "e71986a9069746a7a99e86731a65ef31",
       "version_major": 2,
       "version_minor": 0
      },
      "text/plain": [
       "HBox(children=(IntProgress(value=0, max=9), HTML(value='')))"
      ]
     },
     "metadata": {},
     "output_type": "display_data"
    },
    {
     "name": "stdout",
     "output_type": "stream",
     "text": [
      "Epoch: 46 | Total Loss: 582.14 | Uncertainty Ratio: 1.55\n"
     ]
    },
    {
     "data": {
      "application/vnd.jupyter.widget-view+json": {
       "model_id": "0085c6e6f1de49c5afd59e9b28297e0f",
       "version_major": 2,
       "version_minor": 0
      },
      "text/plain": [
       "HBox(children=(IntProgress(value=0, max=158), HTML(value='')))"
      ]
     },
     "metadata": {},
     "output_type": "display_data"
    },
    {
     "data": {
      "application/vnd.jupyter.widget-view+json": {
       "model_id": "ea2a4929325e49bbab9d37ec6784950a",
       "version_major": 2,
       "version_minor": 0
      },
      "text/plain": [
       "HBox(children=(IntProgress(value=0, max=9), HTML(value='')))"
      ]
     },
     "metadata": {},
     "output_type": "display_data"
    },
    {
     "name": "stdout",
     "output_type": "stream",
     "text": [
      "Epoch: 47 | Total Loss: 588.64 | Uncertainty Ratio: 1.5\n"
     ]
    },
    {
     "data": {
      "application/vnd.jupyter.widget-view+json": {
       "model_id": "dca2cf431642434590e4d7effd3c467f",
       "version_major": 2,
       "version_minor": 0
      },
      "text/plain": [
       "HBox(children=(IntProgress(value=0, max=158), HTML(value='')))"
      ]
     },
     "metadata": {},
     "output_type": "display_data"
    },
    {
     "data": {
      "application/vnd.jupyter.widget-view+json": {
       "model_id": "6a6e2e30bd5c4df8b780ddf46b4b44c9",
       "version_major": 2,
       "version_minor": 0
      },
      "text/plain": [
       "HBox(children=(IntProgress(value=0, max=9), HTML(value='')))"
      ]
     },
     "metadata": {},
     "output_type": "display_data"
    },
    {
     "name": "stdout",
     "output_type": "stream",
     "text": [
      "Epoch: 48 | Total Loss: 618.79 | Uncertainty Ratio: 1.71\n"
     ]
    },
    {
     "data": {
      "application/vnd.jupyter.widget-view+json": {
       "model_id": "4e14bc33737f4dee8522e4b36e227f99",
       "version_major": 2,
       "version_minor": 0
      },
      "text/plain": [
       "HBox(children=(IntProgress(value=0, max=158), HTML(value='')))"
      ]
     },
     "metadata": {},
     "output_type": "display_data"
    },
    {
     "data": {
      "application/vnd.jupyter.widget-view+json": {
       "model_id": "54487490fdef402da60b56118027b1fa",
       "version_major": 2,
       "version_minor": 0
      },
      "text/plain": [
       "HBox(children=(IntProgress(value=0, max=9), HTML(value='')))"
      ]
     },
     "metadata": {},
     "output_type": "display_data"
    },
    {
     "name": "stdout",
     "output_type": "stream",
     "text": [
      "Epoch: 49 | Total Loss: 560.23 | Uncertainty Ratio: 1.36\n"
     ]
    },
    {
     "data": {
      "application/vnd.jupyter.widget-view+json": {
       "model_id": "7fd113e664c845a7920731daad7aebe4",
       "version_major": 2,
       "version_minor": 0
      },
      "text/plain": [
       "HBox(children=(IntProgress(value=0, max=158), HTML(value='')))"
      ]
     },
     "metadata": {},
     "output_type": "display_data"
    },
    {
     "data": {
      "application/vnd.jupyter.widget-view+json": {
       "model_id": "5b2b0c530ddd47b6bdc689b79f2e85fd",
       "version_major": 2,
       "version_minor": 0
      },
      "text/plain": [
       "HBox(children=(IntProgress(value=0, max=9), HTML(value='')))"
      ]
     },
     "metadata": {},
     "output_type": "display_data"
    },
    {
     "name": "stdout",
     "output_type": "stream",
     "text": [
      "Epoch: 50 | Total Loss: 598.4 | Uncertainty Ratio: 1.58\n"
     ]
    },
    {
     "data": {
      "application/vnd.jupyter.widget-view+json": {
       "model_id": "79277266d7c741a89c76c5f3b114b12f",
       "version_major": 2,
       "version_minor": 0
      },
      "text/plain": [
       "HBox(children=(IntProgress(value=0, max=158), HTML(value='')))"
      ]
     },
     "metadata": {},
     "output_type": "display_data"
    },
    {
     "data": {
      "application/vnd.jupyter.widget-view+json": {
       "model_id": "f3dadca7d56447259436c47a59dc6056",
       "version_major": 2,
       "version_minor": 0
      },
      "text/plain": [
       "HBox(children=(IntProgress(value=0, max=9), HTML(value='')))"
      ]
     },
     "metadata": {},
     "output_type": "display_data"
    },
    {
     "name": "stdout",
     "output_type": "stream",
     "text": [
      "Epoch: 51 | Total Loss: 708.89 | Uncertainty Ratio: 1.9\n"
     ]
    },
    {
     "data": {
      "application/vnd.jupyter.widget-view+json": {
       "model_id": "f5aaaa46005e4c27b17047e30f8742d6",
       "version_major": 2,
       "version_minor": 0
      },
      "text/plain": [
       "HBox(children=(IntProgress(value=0, max=158), HTML(value='')))"
      ]
     },
     "metadata": {},
     "output_type": "display_data"
    },
    {
     "data": {
      "application/vnd.jupyter.widget-view+json": {
       "model_id": "1e0582b002cc46d5a2bf95aa42afaed7",
       "version_major": 2,
       "version_minor": 0
      },
      "text/plain": [
       "HBox(children=(IntProgress(value=0, max=9), HTML(value='')))"
      ]
     },
     "metadata": {},
     "output_type": "display_data"
    },
    {
     "name": "stdout",
     "output_type": "stream",
     "text": [
      "Epoch: 52 | Total Loss: 613.86 | Uncertainty Ratio: 1.76\n"
     ]
    },
    {
     "data": {
      "application/vnd.jupyter.widget-view+json": {
       "model_id": "2635eea2e64f485b9b8069d4a08e7750",
       "version_major": 2,
       "version_minor": 0
      },
      "text/plain": [
       "HBox(children=(IntProgress(value=0, max=158), HTML(value='')))"
      ]
     },
     "metadata": {},
     "output_type": "display_data"
    },
    {
     "data": {
      "application/vnd.jupyter.widget-view+json": {
       "model_id": "c74c912b8a8f430bbeafaeac9f86fcd8",
       "version_major": 2,
       "version_minor": 0
      },
      "text/plain": [
       "HBox(children=(IntProgress(value=0, max=9), HTML(value='')))"
      ]
     },
     "metadata": {},
     "output_type": "display_data"
    },
    {
     "name": "stdout",
     "output_type": "stream",
     "text": [
      "Epoch: 53 | Total Loss: 577.49 | Uncertainty Ratio: 1.37\n"
     ]
    },
    {
     "data": {
      "application/vnd.jupyter.widget-view+json": {
       "model_id": "88c227e398eb47c386ad8e14ef84ca8e",
       "version_major": 2,
       "version_minor": 0
      },
      "text/plain": [
       "HBox(children=(IntProgress(value=0, max=158), HTML(value='')))"
      ]
     },
     "metadata": {},
     "output_type": "display_data"
    },
    {
     "data": {
      "application/vnd.jupyter.widget-view+json": {
       "model_id": "b7bcab106c2945a3aa7a0e6140a05ac3",
       "version_major": 2,
       "version_minor": 0
      },
      "text/plain": [
       "HBox(children=(IntProgress(value=0, max=9), HTML(value='')))"
      ]
     },
     "metadata": {},
     "output_type": "display_data"
    },
    {
     "name": "stdout",
     "output_type": "stream",
     "text": [
      "Epoch: 54 | Total Loss: 651.19 | Uncertainty Ratio: 1.84\n",
      "Loading saved parameters..\n",
      "DropoutNet(\n",
      "  (f): Sequential(\n",
      "    (0): Linear(in_features=44, out_features=128, bias=True)\n",
      "    (1): ReLU()\n",
      "    (2): Dropout(p=0.1)\n",
      "    (3): Linear(in_features=128, out_features=128, bias=True)\n",
      "    (4): ReLU()\n",
      "    (5): Dropout(p=0.1)\n",
      "    (6): Linear(in_features=128, out_features=1, bias=True)\n",
      "  )\n",
      "  (nll): BCEWithLogitsLoss()\n",
      ")\n"
     ]
    },
    {
     "data": {
      "application/vnd.jupyter.widget-view+json": {
       "model_id": "6f33722db81e4eac885c87754f08fc42",
       "version_major": 2,
       "version_minor": 0
      },
      "text/plain": [
       "HBox(children=(IntProgress(value=0, max=256), HTML(value='')))"
      ]
     },
     "metadata": {},
     "output_type": "display_data"
    },
    {
     "data": {
      "application/vnd.jupyter.widget-view+json": {
       "model_id": "9a8edfa0c580447f943b6435ba20bee9",
       "version_major": 2,
       "version_minor": 0
      },
      "text/plain": [
       "HBox(children=(IntProgress(value=0, max=158), HTML(value='')))"
      ]
     },
     "metadata": {},
     "output_type": "display_data"
    },
    {
     "data": {
      "application/vnd.jupyter.widget-view+json": {
       "model_id": "6d75d006e370471f84800a52b2b6f4a1",
       "version_major": 2,
       "version_minor": 0
      },
      "text/plain": [
       "HBox(children=(IntProgress(value=0, max=9), HTML(value='')))"
      ]
     },
     "metadata": {},
     "output_type": "display_data"
    },
    {
     "name": "stdout",
     "output_type": "stream",
     "text": [
      "Epoch: 0 | Total Loss: 247.29 | Uncertainty Ratio: 1.02\n"
     ]
    },
    {
     "data": {
      "application/vnd.jupyter.widget-view+json": {
       "model_id": "9197b14a8b304918b9aeaa2e43088fa4",
       "version_major": 2,
       "version_minor": 0
      },
      "text/plain": [
       "HBox(children=(IntProgress(value=0, max=158), HTML(value='')))"
      ]
     },
     "metadata": {},
     "output_type": "display_data"
    },
    {
     "data": {
      "application/vnd.jupyter.widget-view+json": {
       "model_id": "43b02daafb5b47d38699cdc73e11ddf1",
       "version_major": 2,
       "version_minor": 0
      },
      "text/plain": [
       "HBox(children=(IntProgress(value=0, max=9), HTML(value='')))"
      ]
     },
     "metadata": {},
     "output_type": "display_data"
    },
    {
     "name": "stdout",
     "output_type": "stream",
     "text": [
      "Epoch: 1 | Total Loss: 219.33 | Uncertainty Ratio: 1.66\n"
     ]
    },
    {
     "data": {
      "application/vnd.jupyter.widget-view+json": {
       "model_id": "e2ee903d83f74effaeccab9eebec3d83",
       "version_major": 2,
       "version_minor": 0
      },
      "text/plain": [
       "HBox(children=(IntProgress(value=0, max=158), HTML(value='')))"
      ]
     },
     "metadata": {},
     "output_type": "display_data"
    },
    {
     "data": {
      "application/vnd.jupyter.widget-view+json": {
       "model_id": "7652b709d2b44697b6ebc41b1be3beba",
       "version_major": 2,
       "version_minor": 0
      },
      "text/plain": [
       "HBox(children=(IntProgress(value=0, max=9), HTML(value='')))"
      ]
     },
     "metadata": {},
     "output_type": "display_data"
    },
    {
     "name": "stdout",
     "output_type": "stream",
     "text": [
      "Epoch: 2 | Total Loss: 221.81 | Uncertainty Ratio: 2.03\n"
     ]
    },
    {
     "data": {
      "application/vnd.jupyter.widget-view+json": {
       "model_id": "e92cd99f52e34e54a660ebcc80d175ce",
       "version_major": 2,
       "version_minor": 0
      },
      "text/plain": [
       "HBox(children=(IntProgress(value=0, max=158), HTML(value='')))"
      ]
     },
     "metadata": {},
     "output_type": "display_data"
    },
    {
     "data": {
      "application/vnd.jupyter.widget-view+json": {
       "model_id": "7a59b1b502e04370b4613203cd9b54d1",
       "version_major": 2,
       "version_minor": 0
      },
      "text/plain": [
       "HBox(children=(IntProgress(value=0, max=9), HTML(value='')))"
      ]
     },
     "metadata": {},
     "output_type": "display_data"
    },
    {
     "name": "stdout",
     "output_type": "stream",
     "text": [
      "Epoch: 3 | Total Loss: 213.87 | Uncertainty Ratio: 2.24\n"
     ]
    },
    {
     "data": {
      "application/vnd.jupyter.widget-view+json": {
       "model_id": "e430b05ac12d408aa5fa398c04a91c78",
       "version_major": 2,
       "version_minor": 0
      },
      "text/plain": [
       "HBox(children=(IntProgress(value=0, max=158), HTML(value='')))"
      ]
     },
     "metadata": {},
     "output_type": "display_data"
    },
    {
     "data": {
      "application/vnd.jupyter.widget-view+json": {
       "model_id": "effbd4f866c44fb7a405124668c45b60",
       "version_major": 2,
       "version_minor": 0
      },
      "text/plain": [
       "HBox(children=(IntProgress(value=0, max=9), HTML(value='')))"
      ]
     },
     "metadata": {},
     "output_type": "display_data"
    },
    {
     "name": "stdout",
     "output_type": "stream",
     "text": [
      "Epoch: 4 | Total Loss: 213.22 | Uncertainty Ratio: 2.5\n"
     ]
    },
    {
     "data": {
      "application/vnd.jupyter.widget-view+json": {
       "model_id": "6459da9debf243c789970415f7785388",
       "version_major": 2,
       "version_minor": 0
      },
      "text/plain": [
       "HBox(children=(IntProgress(value=0, max=158), HTML(value='')))"
      ]
     },
     "metadata": {},
     "output_type": "display_data"
    },
    {
     "data": {
      "application/vnd.jupyter.widget-view+json": {
       "model_id": "f20479d732b1449cbe7beb97eef33b41",
       "version_major": 2,
       "version_minor": 0
      },
      "text/plain": [
       "HBox(children=(IntProgress(value=0, max=9), HTML(value='')))"
      ]
     },
     "metadata": {},
     "output_type": "display_data"
    },
    {
     "name": "stdout",
     "output_type": "stream",
     "text": [
      "Epoch: 5 | Total Loss: 207.96 | Uncertainty Ratio: 2.04\n"
     ]
    },
    {
     "data": {
      "application/vnd.jupyter.widget-view+json": {
       "model_id": "4bda39135eb14d028db0b2ed4fa0a01d",
       "version_major": 2,
       "version_minor": 0
      },
      "text/plain": [
       "HBox(children=(IntProgress(value=0, max=158), HTML(value='')))"
      ]
     },
     "metadata": {},
     "output_type": "display_data"
    },
    {
     "data": {
      "application/vnd.jupyter.widget-view+json": {
       "model_id": "e49b62e54d1d4a64a7db173ca658f9d2",
       "version_major": 2,
       "version_minor": 0
      },
      "text/plain": [
       "HBox(children=(IntProgress(value=0, max=9), HTML(value='')))"
      ]
     },
     "metadata": {},
     "output_type": "display_data"
    },
    {
     "name": "stdout",
     "output_type": "stream",
     "text": [
      "Epoch: 6 | Total Loss: 207.21 | Uncertainty Ratio: 2.12\n"
     ]
    },
    {
     "data": {
      "application/vnd.jupyter.widget-view+json": {
       "model_id": "11c6ff9c5dc84350ac5bea513a0d0940",
       "version_major": 2,
       "version_minor": 0
      },
      "text/plain": [
       "HBox(children=(IntProgress(value=0, max=158), HTML(value='')))"
      ]
     },
     "metadata": {},
     "output_type": "display_data"
    },
    {
     "data": {
      "application/vnd.jupyter.widget-view+json": {
       "model_id": "583189997fa04601b5bd29fe8b4de3f4",
       "version_major": 2,
       "version_minor": 0
      },
      "text/plain": [
       "HBox(children=(IntProgress(value=0, max=9), HTML(value='')))"
      ]
     },
     "metadata": {},
     "output_type": "display_data"
    },
    {
     "name": "stdout",
     "output_type": "stream",
     "text": [
      "Epoch: 7 | Total Loss: 202.04 | Uncertainty Ratio: 3.04\n"
     ]
    },
    {
     "data": {
      "application/vnd.jupyter.widget-view+json": {
       "model_id": "d473bef35e7e42efbfc1bdc6c1fff84a",
       "version_major": 2,
       "version_minor": 0
      },
      "text/plain": [
       "HBox(children=(IntProgress(value=0, max=158), HTML(value='')))"
      ]
     },
     "metadata": {},
     "output_type": "display_data"
    },
    {
     "data": {
      "application/vnd.jupyter.widget-view+json": {
       "model_id": "9279ab8acc9844c88675dddabb52c8b5",
       "version_major": 2,
       "version_minor": 0
      },
      "text/plain": [
       "HBox(children=(IntProgress(value=0, max=9), HTML(value='')))"
      ]
     },
     "metadata": {},
     "output_type": "display_data"
    },
    {
     "name": "stdout",
     "output_type": "stream",
     "text": [
      "Epoch: 8 | Total Loss: 199.37 | Uncertainty Ratio: 2.88\n"
     ]
    },
    {
     "data": {
      "application/vnd.jupyter.widget-view+json": {
       "model_id": "61192aa188bf4a8da12e0633f9ffff6d",
       "version_major": 2,
       "version_minor": 0
      },
      "text/plain": [
       "HBox(children=(IntProgress(value=0, max=158), HTML(value='')))"
      ]
     },
     "metadata": {},
     "output_type": "display_data"
    },
    {
     "data": {
      "application/vnd.jupyter.widget-view+json": {
       "model_id": "b034ff91ca6a43dcbe11134cab7b0868",
       "version_major": 2,
       "version_minor": 0
      },
      "text/plain": [
       "HBox(children=(IntProgress(value=0, max=9), HTML(value='')))"
      ]
     },
     "metadata": {},
     "output_type": "display_data"
    },
    {
     "name": "stdout",
     "output_type": "stream",
     "text": [
      "Epoch: 9 | Total Loss: 197.15 | Uncertainty Ratio: 2.41\n"
     ]
    },
    {
     "data": {
      "application/vnd.jupyter.widget-view+json": {
       "model_id": "7a9ea2c319ee45828ee31d9ba2ed3f7f",
       "version_major": 2,
       "version_minor": 0
      },
      "text/plain": [
       "HBox(children=(IntProgress(value=0, max=158), HTML(value='')))"
      ]
     },
     "metadata": {},
     "output_type": "display_data"
    },
    {
     "data": {
      "application/vnd.jupyter.widget-view+json": {
       "model_id": "d55367a1243a44dcb83a1fa58eaa4cba",
       "version_major": 2,
       "version_minor": 0
      },
      "text/plain": [
       "HBox(children=(IntProgress(value=0, max=9), HTML(value='')))"
      ]
     },
     "metadata": {},
     "output_type": "display_data"
    },
    {
     "name": "stdout",
     "output_type": "stream",
     "text": [
      "Epoch: 10 | Total Loss: 194.03 | Uncertainty Ratio: 2.85\n"
     ]
    },
    {
     "data": {
      "application/vnd.jupyter.widget-view+json": {
       "model_id": "a0106440b9c140d89066334d0453c0f1",
       "version_major": 2,
       "version_minor": 0
      },
      "text/plain": [
       "HBox(children=(IntProgress(value=0, max=158), HTML(value='')))"
      ]
     },
     "metadata": {},
     "output_type": "display_data"
    },
    {
     "data": {
      "application/vnd.jupyter.widget-view+json": {
       "model_id": "1add85ca1aba4a06b2dc4de4959d612e",
       "version_major": 2,
       "version_minor": 0
      },
      "text/plain": [
       "HBox(children=(IntProgress(value=0, max=9), HTML(value='')))"
      ]
     },
     "metadata": {},
     "output_type": "display_data"
    },
    {
     "name": "stdout",
     "output_type": "stream",
     "text": [
      "Epoch: 11 | Total Loss: 194.95 | Uncertainty Ratio: 3.01\n"
     ]
    },
    {
     "data": {
      "application/vnd.jupyter.widget-view+json": {
       "model_id": "d53b1c7d4b804bc49faec5efa688ae4f",
       "version_major": 2,
       "version_minor": 0
      },
      "text/plain": [
       "HBox(children=(IntProgress(value=0, max=158), HTML(value='')))"
      ]
     },
     "metadata": {},
     "output_type": "display_data"
    },
    {
     "data": {
      "application/vnd.jupyter.widget-view+json": {
       "model_id": "da2bdedc6ae84c6b97653218d7e3d279",
       "version_major": 2,
       "version_minor": 0
      },
      "text/plain": [
       "HBox(children=(IntProgress(value=0, max=9), HTML(value='')))"
      ]
     },
     "metadata": {},
     "output_type": "display_data"
    },
    {
     "name": "stdout",
     "output_type": "stream",
     "text": [
      "Epoch: 12 | Total Loss: 194.54 | Uncertainty Ratio: 2.78\n"
     ]
    },
    {
     "data": {
      "application/vnd.jupyter.widget-view+json": {
       "model_id": "b419b1cbdbad43d4982a394cffad1ffb",
       "version_major": 2,
       "version_minor": 0
      },
      "text/plain": [
       "HBox(children=(IntProgress(value=0, max=158), HTML(value='')))"
      ]
     },
     "metadata": {},
     "output_type": "display_data"
    },
    {
     "data": {
      "application/vnd.jupyter.widget-view+json": {
       "model_id": "5d2221d71fab4d30844d0641497c772d",
       "version_major": 2,
       "version_minor": 0
      },
      "text/plain": [
       "HBox(children=(IntProgress(value=0, max=9), HTML(value='')))"
      ]
     },
     "metadata": {},
     "output_type": "display_data"
    },
    {
     "name": "stdout",
     "output_type": "stream",
     "text": [
      "Epoch: 13 | Total Loss: 191.88 | Uncertainty Ratio: 3.0\n"
     ]
    },
    {
     "data": {
      "application/vnd.jupyter.widget-view+json": {
       "model_id": "618e09bedc70471f9a5c40b042e12886",
       "version_major": 2,
       "version_minor": 0
      },
      "text/plain": [
       "HBox(children=(IntProgress(value=0, max=158), HTML(value='')))"
      ]
     },
     "metadata": {},
     "output_type": "display_data"
    },
    {
     "data": {
      "application/vnd.jupyter.widget-view+json": {
       "model_id": "24ea6ce0d7db420f9b865f03bc6b68af",
       "version_major": 2,
       "version_minor": 0
      },
      "text/plain": [
       "HBox(children=(IntProgress(value=0, max=9), HTML(value='')))"
      ]
     },
     "metadata": {},
     "output_type": "display_data"
    },
    {
     "name": "stdout",
     "output_type": "stream",
     "text": [
      "Epoch: 14 | Total Loss: 192.39 | Uncertainty Ratio: 2.49\n"
     ]
    },
    {
     "data": {
      "application/vnd.jupyter.widget-view+json": {
       "model_id": "65a20bd8462b4b568ea98817d3efe6ad",
       "version_major": 2,
       "version_minor": 0
      },
      "text/plain": [
       "HBox(children=(IntProgress(value=0, max=158), HTML(value='')))"
      ]
     },
     "metadata": {},
     "output_type": "display_data"
    },
    {
     "data": {
      "application/vnd.jupyter.widget-view+json": {
       "model_id": "06c8f615e98d40ccb036be3663b58d2e",
       "version_major": 2,
       "version_minor": 0
      },
      "text/plain": [
       "HBox(children=(IntProgress(value=0, max=9), HTML(value='')))"
      ]
     },
     "metadata": {},
     "output_type": "display_data"
    },
    {
     "name": "stdout",
     "output_type": "stream",
     "text": [
      "Epoch: 15 | Total Loss: 200.24 | Uncertainty Ratio: 2.51\n"
     ]
    },
    {
     "data": {
      "application/vnd.jupyter.widget-view+json": {
       "model_id": "c40c95bed24f46f3a68644792b1910e7",
       "version_major": 2,
       "version_minor": 0
      },
      "text/plain": [
       "HBox(children=(IntProgress(value=0, max=158), HTML(value='')))"
      ]
     },
     "metadata": {},
     "output_type": "display_data"
    },
    {
     "data": {
      "application/vnd.jupyter.widget-view+json": {
       "model_id": "545f7e198b6a43e3939eb7f38a75aece",
       "version_major": 2,
       "version_minor": 0
      },
      "text/plain": [
       "HBox(children=(IntProgress(value=0, max=9), HTML(value='')))"
      ]
     },
     "metadata": {},
     "output_type": "display_data"
    },
    {
     "name": "stdout",
     "output_type": "stream",
     "text": [
      "Epoch: 16 | Total Loss: 191.66 | Uncertainty Ratio: 2.74\n"
     ]
    },
    {
     "data": {
      "application/vnd.jupyter.widget-view+json": {
       "model_id": "24416be9a3ac48b3a1e760991128c6cd",
       "version_major": 2,
       "version_minor": 0
      },
      "text/plain": [
       "HBox(children=(IntProgress(value=0, max=158), HTML(value='')))"
      ]
     },
     "metadata": {},
     "output_type": "display_data"
    },
    {
     "data": {
      "application/vnd.jupyter.widget-view+json": {
       "model_id": "f98dfbe369e946c3aaed0622cdf92405",
       "version_major": 2,
       "version_minor": 0
      },
      "text/plain": [
       "HBox(children=(IntProgress(value=0, max=9), HTML(value='')))"
      ]
     },
     "metadata": {},
     "output_type": "display_data"
    },
    {
     "name": "stdout",
     "output_type": "stream",
     "text": [
      "Epoch: 17 | Total Loss: 189.47 | Uncertainty Ratio: 2.94\n"
     ]
    },
    {
     "data": {
      "application/vnd.jupyter.widget-view+json": {
       "model_id": "0a25f0d878cb4050ac0a0d28f03b8769",
       "version_major": 2,
       "version_minor": 0
      },
      "text/plain": [
       "HBox(children=(IntProgress(value=0, max=158), HTML(value='')))"
      ]
     },
     "metadata": {},
     "output_type": "display_data"
    },
    {
     "data": {
      "application/vnd.jupyter.widget-view+json": {
       "model_id": "65667bc1aed3495db0b07339c2b41ab9",
       "version_major": 2,
       "version_minor": 0
      },
      "text/plain": [
       "HBox(children=(IntProgress(value=0, max=9), HTML(value='')))"
      ]
     },
     "metadata": {},
     "output_type": "display_data"
    },
    {
     "name": "stdout",
     "output_type": "stream",
     "text": [
      "Epoch: 18 | Total Loss: 205.58 | Uncertainty Ratio: 4.06\n"
     ]
    },
    {
     "data": {
      "application/vnd.jupyter.widget-view+json": {
       "model_id": "7183bdbb0da14df18846227ed91e744a",
       "version_major": 2,
       "version_minor": 0
      },
      "text/plain": [
       "HBox(children=(IntProgress(value=0, max=158), HTML(value='')))"
      ]
     },
     "metadata": {},
     "output_type": "display_data"
    },
    {
     "data": {
      "application/vnd.jupyter.widget-view+json": {
       "model_id": "50e37f7f8a414daaa0b30d2a475395a5",
       "version_major": 2,
       "version_minor": 0
      },
      "text/plain": [
       "HBox(children=(IntProgress(value=0, max=9), HTML(value='')))"
      ]
     },
     "metadata": {},
     "output_type": "display_data"
    },
    {
     "name": "stdout",
     "output_type": "stream",
     "text": [
      "Epoch: 19 | Total Loss: 193.74 | Uncertainty Ratio: 3.7\n"
     ]
    },
    {
     "data": {
      "application/vnd.jupyter.widget-view+json": {
       "model_id": "789ebe21b5fc4795807c251f7cf10dec",
       "version_major": 2,
       "version_minor": 0
      },
      "text/plain": [
       "HBox(children=(IntProgress(value=0, max=158), HTML(value='')))"
      ]
     },
     "metadata": {},
     "output_type": "display_data"
    },
    {
     "data": {
      "application/vnd.jupyter.widget-view+json": {
       "model_id": "a669a5ffb432457fa6afd43a2fe1d057",
       "version_major": 2,
       "version_minor": 0
      },
      "text/plain": [
       "HBox(children=(IntProgress(value=0, max=9), HTML(value='')))"
      ]
     },
     "metadata": {},
     "output_type": "display_data"
    },
    {
     "name": "stdout",
     "output_type": "stream",
     "text": [
      "Epoch: 20 | Total Loss: 185.31 | Uncertainty Ratio: 2.78\n"
     ]
    },
    {
     "data": {
      "application/vnd.jupyter.widget-view+json": {
       "model_id": "da9f3e7d582d4e9f99386526a7acd9ff",
       "version_major": 2,
       "version_minor": 0
      },
      "text/plain": [
       "HBox(children=(IntProgress(value=0, max=158), HTML(value='')))"
      ]
     },
     "metadata": {},
     "output_type": "display_data"
    },
    {
     "data": {
      "application/vnd.jupyter.widget-view+json": {
       "model_id": "3aa2ed0d1f5342639a2b8285721a0deb",
       "version_major": 2,
       "version_minor": 0
      },
      "text/plain": [
       "HBox(children=(IntProgress(value=0, max=9), HTML(value='')))"
      ]
     },
     "metadata": {},
     "output_type": "display_data"
    },
    {
     "name": "stdout",
     "output_type": "stream",
     "text": [
      "Epoch: 21 | Total Loss: 184.14 | Uncertainty Ratio: 2.89\n"
     ]
    },
    {
     "data": {
      "application/vnd.jupyter.widget-view+json": {
       "model_id": "42ac247921644a3ba1c5817994768dbd",
       "version_major": 2,
       "version_minor": 0
      },
      "text/plain": [
       "HBox(children=(IntProgress(value=0, max=158), HTML(value='')))"
      ]
     },
     "metadata": {},
     "output_type": "display_data"
    },
    {
     "data": {
      "application/vnd.jupyter.widget-view+json": {
       "model_id": "167f6ae733854270a78431de8ec66802",
       "version_major": 2,
       "version_minor": 0
      },
      "text/plain": [
       "HBox(children=(IntProgress(value=0, max=9), HTML(value='')))"
      ]
     },
     "metadata": {},
     "output_type": "display_data"
    },
    {
     "name": "stdout",
     "output_type": "stream",
     "text": [
      "Epoch: 22 | Total Loss: 190.58 | Uncertainty Ratio: 2.12\n"
     ]
    },
    {
     "data": {
      "application/vnd.jupyter.widget-view+json": {
       "model_id": "758fa50a34e0437185089382454e9188",
       "version_major": 2,
       "version_minor": 0
      },
      "text/plain": [
       "HBox(children=(IntProgress(value=0, max=158), HTML(value='')))"
      ]
     },
     "metadata": {},
     "output_type": "display_data"
    },
    {
     "data": {
      "application/vnd.jupyter.widget-view+json": {
       "model_id": "44b0c3d187d54cbcaac2ebae84358642",
       "version_major": 2,
       "version_minor": 0
      },
      "text/plain": [
       "HBox(children=(IntProgress(value=0, max=9), HTML(value='')))"
      ]
     },
     "metadata": {},
     "output_type": "display_data"
    },
    {
     "name": "stdout",
     "output_type": "stream",
     "text": [
      "Epoch: 23 | Total Loss: 183.96 | Uncertainty Ratio: 3.05\n"
     ]
    },
    {
     "data": {
      "application/vnd.jupyter.widget-view+json": {
       "model_id": "e1c0a4bb401947b8bf40cb06a7681366",
       "version_major": 2,
       "version_minor": 0
      },
      "text/plain": [
       "HBox(children=(IntProgress(value=0, max=158), HTML(value='')))"
      ]
     },
     "metadata": {},
     "output_type": "display_data"
    },
    {
     "data": {
      "application/vnd.jupyter.widget-view+json": {
       "model_id": "a6d46b27403040409c35e573f3173f05",
       "version_major": 2,
       "version_minor": 0
      },
      "text/plain": [
       "HBox(children=(IntProgress(value=0, max=9), HTML(value='')))"
      ]
     },
     "metadata": {},
     "output_type": "display_data"
    },
    {
     "name": "stdout",
     "output_type": "stream",
     "text": [
      "Epoch: 24 | Total Loss: 192.05 | Uncertainty Ratio: 2.32\n"
     ]
    },
    {
     "data": {
      "application/vnd.jupyter.widget-view+json": {
       "model_id": "6aa25e44e23a47ed8b044dc3332646c4",
       "version_major": 2,
       "version_minor": 0
      },
      "text/plain": [
       "HBox(children=(IntProgress(value=0, max=158), HTML(value='')))"
      ]
     },
     "metadata": {},
     "output_type": "display_data"
    },
    {
     "data": {
      "application/vnd.jupyter.widget-view+json": {
       "model_id": "1f6d6d625c234ea898a7959531a87e4e",
       "version_major": 2,
       "version_minor": 0
      },
      "text/plain": [
       "HBox(children=(IntProgress(value=0, max=9), HTML(value='')))"
      ]
     },
     "metadata": {},
     "output_type": "display_data"
    },
    {
     "name": "stdout",
     "output_type": "stream",
     "text": [
      "Epoch: 25 | Total Loss: 190.53 | Uncertainty Ratio: 2.53\n"
     ]
    },
    {
     "data": {
      "application/vnd.jupyter.widget-view+json": {
       "model_id": "d9658bf8a9e74050a0b6219baa9c97bd",
       "version_major": 2,
       "version_minor": 0
      },
      "text/plain": [
       "HBox(children=(IntProgress(value=0, max=158), HTML(value='')))"
      ]
     },
     "metadata": {},
     "output_type": "display_data"
    },
    {
     "data": {
      "application/vnd.jupyter.widget-view+json": {
       "model_id": "47252ed33a2e4ad798e16fc26a3aa54a",
       "version_major": 2,
       "version_minor": 0
      },
      "text/plain": [
       "HBox(children=(IntProgress(value=0, max=9), HTML(value='')))"
      ]
     },
     "metadata": {},
     "output_type": "display_data"
    },
    {
     "name": "stdout",
     "output_type": "stream",
     "text": [
      "Epoch: 26 | Total Loss: 183.34 | Uncertainty Ratio: 2.56\n"
     ]
    },
    {
     "data": {
      "application/vnd.jupyter.widget-view+json": {
       "model_id": "7ee655276cd640398107cf4db5294866",
       "version_major": 2,
       "version_minor": 0
      },
      "text/plain": [
       "HBox(children=(IntProgress(value=0, max=158), HTML(value='')))"
      ]
     },
     "metadata": {},
     "output_type": "display_data"
    },
    {
     "data": {
      "application/vnd.jupyter.widget-view+json": {
       "model_id": "72ff76ae4e384993b80fa4db85dff6a6",
       "version_major": 2,
       "version_minor": 0
      },
      "text/plain": [
       "HBox(children=(IntProgress(value=0, max=9), HTML(value='')))"
      ]
     },
     "metadata": {},
     "output_type": "display_data"
    },
    {
     "name": "stdout",
     "output_type": "stream",
     "text": [
      "Epoch: 27 | Total Loss: 184.44 | Uncertainty Ratio: 2.98\n"
     ]
    },
    {
     "data": {
      "application/vnd.jupyter.widget-view+json": {
       "model_id": "ae40c5c29e364307a029d879d62e773d",
       "version_major": 2,
       "version_minor": 0
      },
      "text/plain": [
       "HBox(children=(IntProgress(value=0, max=158), HTML(value='')))"
      ]
     },
     "metadata": {},
     "output_type": "display_data"
    },
    {
     "data": {
      "application/vnd.jupyter.widget-view+json": {
       "model_id": "ace7471dc1344dde8b117710c8e43b0a",
       "version_major": 2,
       "version_minor": 0
      },
      "text/plain": [
       "HBox(children=(IntProgress(value=0, max=9), HTML(value='')))"
      ]
     },
     "metadata": {},
     "output_type": "display_data"
    },
    {
     "name": "stdout",
     "output_type": "stream",
     "text": [
      "Epoch: 28 | Total Loss: 184.16 | Uncertainty Ratio: 2.33\n"
     ]
    },
    {
     "data": {
      "application/vnd.jupyter.widget-view+json": {
       "model_id": "64eb61d1eff84f33a1a57e77370504c2",
       "version_major": 2,
       "version_minor": 0
      },
      "text/plain": [
       "HBox(children=(IntProgress(value=0, max=158), HTML(value='')))"
      ]
     },
     "metadata": {},
     "output_type": "display_data"
    },
    {
     "data": {
      "application/vnd.jupyter.widget-view+json": {
       "model_id": "ba7638ee79574342ae3db61d8cf41d0f",
       "version_major": 2,
       "version_minor": 0
      },
      "text/plain": [
       "HBox(children=(IntProgress(value=0, max=9), HTML(value='')))"
      ]
     },
     "metadata": {},
     "output_type": "display_data"
    },
    {
     "name": "stdout",
     "output_type": "stream",
     "text": [
      "Epoch: 29 | Total Loss: 179.82 | Uncertainty Ratio: 2.91\n"
     ]
    },
    {
     "data": {
      "application/vnd.jupyter.widget-view+json": {
       "model_id": "7a5509a215894dd780d7722750716215",
       "version_major": 2,
       "version_minor": 0
      },
      "text/plain": [
       "HBox(children=(IntProgress(value=0, max=158), HTML(value='')))"
      ]
     },
     "metadata": {},
     "output_type": "display_data"
    },
    {
     "data": {
      "application/vnd.jupyter.widget-view+json": {
       "model_id": "2f057c716d7844319245873d2fb264ef",
       "version_major": 2,
       "version_minor": 0
      },
      "text/plain": [
       "HBox(children=(IntProgress(value=0, max=9), HTML(value='')))"
      ]
     },
     "metadata": {},
     "output_type": "display_data"
    },
    {
     "name": "stdout",
     "output_type": "stream",
     "text": [
      "Epoch: 30 | Total Loss: 183.69 | Uncertainty Ratio: 2.42\n"
     ]
    },
    {
     "data": {
      "application/vnd.jupyter.widget-view+json": {
       "model_id": "a4a45bb638a84839bdff819ef06212e0",
       "version_major": 2,
       "version_minor": 0
      },
      "text/plain": [
       "HBox(children=(IntProgress(value=0, max=158), HTML(value='')))"
      ]
     },
     "metadata": {},
     "output_type": "display_data"
    },
    {
     "data": {
      "application/vnd.jupyter.widget-view+json": {
       "model_id": "9278a18d1a054c738ea122f578397ef8",
       "version_major": 2,
       "version_minor": 0
      },
      "text/plain": [
       "HBox(children=(IntProgress(value=0, max=9), HTML(value='')))"
      ]
     },
     "metadata": {},
     "output_type": "display_data"
    },
    {
     "name": "stdout",
     "output_type": "stream",
     "text": [
      "Epoch: 31 | Total Loss: 185.72 | Uncertainty Ratio: 3.09\n"
     ]
    },
    {
     "data": {
      "application/vnd.jupyter.widget-view+json": {
       "model_id": "79dfef333ad7461a84d8ad66a5742764",
       "version_major": 2,
       "version_minor": 0
      },
      "text/plain": [
       "HBox(children=(IntProgress(value=0, max=158), HTML(value='')))"
      ]
     },
     "metadata": {},
     "output_type": "display_data"
    },
    {
     "data": {
      "application/vnd.jupyter.widget-view+json": {
       "model_id": "51ee97dba3b04dbd8c5851e9cb9c41db",
       "version_major": 2,
       "version_minor": 0
      },
      "text/plain": [
       "HBox(children=(IntProgress(value=0, max=9), HTML(value='')))"
      ]
     },
     "metadata": {},
     "output_type": "display_data"
    },
    {
     "name": "stdout",
     "output_type": "stream",
     "text": [
      "Epoch: 32 | Total Loss: 180.75 | Uncertainty Ratio: 2.35\n"
     ]
    },
    {
     "data": {
      "application/vnd.jupyter.widget-view+json": {
       "model_id": "19cd66c37f814738b32775bcc4f7c5db",
       "version_major": 2,
       "version_minor": 0
      },
      "text/plain": [
       "HBox(children=(IntProgress(value=0, max=158), HTML(value='')))"
      ]
     },
     "metadata": {},
     "output_type": "display_data"
    },
    {
     "data": {
      "application/vnd.jupyter.widget-view+json": {
       "model_id": "c7764cf162714fc8b0b508f6d934e477",
       "version_major": 2,
       "version_minor": 0
      },
      "text/plain": [
       "HBox(children=(IntProgress(value=0, max=9), HTML(value='')))"
      ]
     },
     "metadata": {},
     "output_type": "display_data"
    },
    {
     "name": "stdout",
     "output_type": "stream",
     "text": [
      "Epoch: 33 | Total Loss: 178.75 | Uncertainty Ratio: 2.76\n"
     ]
    },
    {
     "data": {
      "application/vnd.jupyter.widget-view+json": {
       "model_id": "ba65d3d63cb44a3cac4b51ec6db64d88",
       "version_major": 2,
       "version_minor": 0
      },
      "text/plain": [
       "HBox(children=(IntProgress(value=0, max=158), HTML(value='')))"
      ]
     },
     "metadata": {},
     "output_type": "display_data"
    },
    {
     "data": {
      "application/vnd.jupyter.widget-view+json": {
       "model_id": "722ca45ba1a84cd79642d9dd6fa06b78",
       "version_major": 2,
       "version_minor": 0
      },
      "text/plain": [
       "HBox(children=(IntProgress(value=0, max=9), HTML(value='')))"
      ]
     },
     "metadata": {},
     "output_type": "display_data"
    },
    {
     "name": "stdout",
     "output_type": "stream",
     "text": [
      "Epoch: 34 | Total Loss: 180.07 | Uncertainty Ratio: 2.76\n"
     ]
    },
    {
     "data": {
      "application/vnd.jupyter.widget-view+json": {
       "model_id": "11f1270477e84b299242a51ef4e917e1",
       "version_major": 2,
       "version_minor": 0
      },
      "text/plain": [
       "HBox(children=(IntProgress(value=0, max=158), HTML(value='')))"
      ]
     },
     "metadata": {},
     "output_type": "display_data"
    },
    {
     "data": {
      "application/vnd.jupyter.widget-view+json": {
       "model_id": "5c8881bbe6eb4fbe94491dcb002e8d21",
       "version_major": 2,
       "version_minor": 0
      },
      "text/plain": [
       "HBox(children=(IntProgress(value=0, max=9), HTML(value='')))"
      ]
     },
     "metadata": {},
     "output_type": "display_data"
    },
    {
     "name": "stdout",
     "output_type": "stream",
     "text": [
      "Epoch: 35 | Total Loss: 181.75 | Uncertainty Ratio: 2.58\n"
     ]
    },
    {
     "data": {
      "application/vnd.jupyter.widget-view+json": {
       "model_id": "292624f21235486db85c091b8e241b39",
       "version_major": 2,
       "version_minor": 0
      },
      "text/plain": [
       "HBox(children=(IntProgress(value=0, max=158), HTML(value='')))"
      ]
     },
     "metadata": {},
     "output_type": "display_data"
    },
    {
     "data": {
      "application/vnd.jupyter.widget-view+json": {
       "model_id": "bc42ede009ef4d7ab0d36b7ec9c9e79f",
       "version_major": 2,
       "version_minor": 0
      },
      "text/plain": [
       "HBox(children=(IntProgress(value=0, max=9), HTML(value='')))"
      ]
     },
     "metadata": {},
     "output_type": "display_data"
    },
    {
     "name": "stdout",
     "output_type": "stream",
     "text": [
      "Epoch: 36 | Total Loss: 179.97 | Uncertainty Ratio: 2.22\n"
     ]
    },
    {
     "data": {
      "application/vnd.jupyter.widget-view+json": {
       "model_id": "fe3c0858ec564fc8a6e6b85505f0b0e0",
       "version_major": 2,
       "version_minor": 0
      },
      "text/plain": [
       "HBox(children=(IntProgress(value=0, max=158), HTML(value='')))"
      ]
     },
     "metadata": {},
     "output_type": "display_data"
    },
    {
     "data": {
      "application/vnd.jupyter.widget-view+json": {
       "model_id": "a647023a38784e83b4f2068ee53f8079",
       "version_major": 2,
       "version_minor": 0
      },
      "text/plain": [
       "HBox(children=(IntProgress(value=0, max=9), HTML(value='')))"
      ]
     },
     "metadata": {},
     "output_type": "display_data"
    },
    {
     "name": "stdout",
     "output_type": "stream",
     "text": [
      "Epoch: 37 | Total Loss: 177.44 | Uncertainty Ratio: 2.92\n"
     ]
    },
    {
     "data": {
      "application/vnd.jupyter.widget-view+json": {
       "model_id": "bc37ad0214124a41978a449f1015afe3",
       "version_major": 2,
       "version_minor": 0
      },
      "text/plain": [
       "HBox(children=(IntProgress(value=0, max=158), HTML(value='')))"
      ]
     },
     "metadata": {},
     "output_type": "display_data"
    },
    {
     "data": {
      "application/vnd.jupyter.widget-view+json": {
       "model_id": "c650eb9f8ef744b480fa18b2f57aa6a0",
       "version_major": 2,
       "version_minor": 0
      },
      "text/plain": [
       "HBox(children=(IntProgress(value=0, max=9), HTML(value='')))"
      ]
     },
     "metadata": {},
     "output_type": "display_data"
    },
    {
     "name": "stdout",
     "output_type": "stream",
     "text": [
      "Epoch: 38 | Total Loss: 183.54 | Uncertainty Ratio: 2.18\n"
     ]
    },
    {
     "data": {
      "application/vnd.jupyter.widget-view+json": {
       "model_id": "b0141682854f405db180d7cf08a14b99",
       "version_major": 2,
       "version_minor": 0
      },
      "text/plain": [
       "HBox(children=(IntProgress(value=0, max=158), HTML(value='')))"
      ]
     },
     "metadata": {},
     "output_type": "display_data"
    },
    {
     "data": {
      "application/vnd.jupyter.widget-view+json": {
       "model_id": "bda07abbc2944899a07995e2e3bec31a",
       "version_major": 2,
       "version_minor": 0
      },
      "text/plain": [
       "HBox(children=(IntProgress(value=0, max=9), HTML(value='')))"
      ]
     },
     "metadata": {},
     "output_type": "display_data"
    },
    {
     "name": "stdout",
     "output_type": "stream",
     "text": [
      "Epoch: 39 | Total Loss: 181.47 | Uncertainty Ratio: 3.24\n"
     ]
    },
    {
     "data": {
      "application/vnd.jupyter.widget-view+json": {
       "model_id": "0e10bd39f8314f179f1ca3b8f8c470ad",
       "version_major": 2,
       "version_minor": 0
      },
      "text/plain": [
       "HBox(children=(IntProgress(value=0, max=158), HTML(value='')))"
      ]
     },
     "metadata": {},
     "output_type": "display_data"
    },
    {
     "data": {
      "application/vnd.jupyter.widget-view+json": {
       "model_id": "99c4a4570a2c47c49428793f5a43973d",
       "version_major": 2,
       "version_minor": 0
      },
      "text/plain": [
       "HBox(children=(IntProgress(value=0, max=9), HTML(value='')))"
      ]
     },
     "metadata": {},
     "output_type": "display_data"
    },
    {
     "name": "stdout",
     "output_type": "stream",
     "text": [
      "Epoch: 40 | Total Loss: 178.23 | Uncertainty Ratio: 2.49\n"
     ]
    },
    {
     "data": {
      "application/vnd.jupyter.widget-view+json": {
       "model_id": "b441fe742ca549929c24e64514e6d5ef",
       "version_major": 2,
       "version_minor": 0
      },
      "text/plain": [
       "HBox(children=(IntProgress(value=0, max=158), HTML(value='')))"
      ]
     },
     "metadata": {},
     "output_type": "display_data"
    },
    {
     "data": {
      "application/vnd.jupyter.widget-view+json": {
       "model_id": "7f92e0d3bfd14a26a0365f16b1cbbacf",
       "version_major": 2,
       "version_minor": 0
      },
      "text/plain": [
       "HBox(children=(IntProgress(value=0, max=9), HTML(value='')))"
      ]
     },
     "metadata": {},
     "output_type": "display_data"
    },
    {
     "name": "stdout",
     "output_type": "stream",
     "text": [
      "Epoch: 41 | Total Loss: 174.64 | Uncertainty Ratio: 2.54\n"
     ]
    },
    {
     "data": {
      "application/vnd.jupyter.widget-view+json": {
       "model_id": "99778c7ca1a54d59b82c5fdf631431f5",
       "version_major": 2,
       "version_minor": 0
      },
      "text/plain": [
       "HBox(children=(IntProgress(value=0, max=158), HTML(value='')))"
      ]
     },
     "metadata": {},
     "output_type": "display_data"
    },
    {
     "data": {
      "application/vnd.jupyter.widget-view+json": {
       "model_id": "5a34aa97912c47d699c912b2cb95e9f7",
       "version_major": 2,
       "version_minor": 0
      },
      "text/plain": [
       "HBox(children=(IntProgress(value=0, max=9), HTML(value='')))"
      ]
     },
     "metadata": {},
     "output_type": "display_data"
    },
    {
     "name": "stdout",
     "output_type": "stream",
     "text": [
      "Epoch: 42 | Total Loss: 177.14 | Uncertainty Ratio: 2.82\n"
     ]
    },
    {
     "data": {
      "application/vnd.jupyter.widget-view+json": {
       "model_id": "b6e7e17cde2a4646aaac067c2b268dba",
       "version_major": 2,
       "version_minor": 0
      },
      "text/plain": [
       "HBox(children=(IntProgress(value=0, max=158), HTML(value='')))"
      ]
     },
     "metadata": {},
     "output_type": "display_data"
    },
    {
     "data": {
      "application/vnd.jupyter.widget-view+json": {
       "model_id": "a643a374ed6448f0887d484e76c06175",
       "version_major": 2,
       "version_minor": 0
      },
      "text/plain": [
       "HBox(children=(IntProgress(value=0, max=9), HTML(value='')))"
      ]
     },
     "metadata": {},
     "output_type": "display_data"
    },
    {
     "name": "stdout",
     "output_type": "stream",
     "text": [
      "Epoch: 43 | Total Loss: 176.34 | Uncertainty Ratio: 2.68\n"
     ]
    },
    {
     "data": {
      "application/vnd.jupyter.widget-view+json": {
       "model_id": "0c529c9dd5bf4b729a2c621642b43ce1",
       "version_major": 2,
       "version_minor": 0
      },
      "text/plain": [
       "HBox(children=(IntProgress(value=0, max=158), HTML(value='')))"
      ]
     },
     "metadata": {},
     "output_type": "display_data"
    },
    {
     "data": {
      "application/vnd.jupyter.widget-view+json": {
       "model_id": "966ee78378a74398a4d99ef8da4b6278",
       "version_major": 2,
       "version_minor": 0
      },
      "text/plain": [
       "HBox(children=(IntProgress(value=0, max=9), HTML(value='')))"
      ]
     },
     "metadata": {},
     "output_type": "display_data"
    },
    {
     "name": "stdout",
     "output_type": "stream",
     "text": [
      "Epoch: 44 | Total Loss: 176.55 | Uncertainty Ratio: 2.51\n"
     ]
    },
    {
     "data": {
      "application/vnd.jupyter.widget-view+json": {
       "model_id": "f7537e2bc7be4358b55bb524647656fb",
       "version_major": 2,
       "version_minor": 0
      },
      "text/plain": [
       "HBox(children=(IntProgress(value=0, max=158), HTML(value='')))"
      ]
     },
     "metadata": {},
     "output_type": "display_data"
    },
    {
     "data": {
      "application/vnd.jupyter.widget-view+json": {
       "model_id": "4d28e8d9f2f84aaebd3decb80f69fa4a",
       "version_major": 2,
       "version_minor": 0
      },
      "text/plain": [
       "HBox(children=(IntProgress(value=0, max=9), HTML(value='')))"
      ]
     },
     "metadata": {},
     "output_type": "display_data"
    },
    {
     "name": "stdout",
     "output_type": "stream",
     "text": [
      "Epoch: 45 | Total Loss: 175.81 | Uncertainty Ratio: 2.91\n"
     ]
    },
    {
     "data": {
      "application/vnd.jupyter.widget-view+json": {
       "model_id": "1beab60afcad43f9a17cecec5ff692fb",
       "version_major": 2,
       "version_minor": 0
      },
      "text/plain": [
       "HBox(children=(IntProgress(value=0, max=158), HTML(value='')))"
      ]
     },
     "metadata": {},
     "output_type": "display_data"
    },
    {
     "data": {
      "application/vnd.jupyter.widget-view+json": {
       "model_id": "40cc278203304d6280aaff8862472fd8",
       "version_major": 2,
       "version_minor": 0
      },
      "text/plain": [
       "HBox(children=(IntProgress(value=0, max=9), HTML(value='')))"
      ]
     },
     "metadata": {},
     "output_type": "display_data"
    },
    {
     "name": "stdout",
     "output_type": "stream",
     "text": [
      "Epoch: 46 | Total Loss: 178.8 | Uncertainty Ratio: 2.93\n"
     ]
    },
    {
     "data": {
      "application/vnd.jupyter.widget-view+json": {
       "model_id": "8fd62f6c07ba477ebdbca9783d7535d3",
       "version_major": 2,
       "version_minor": 0
      },
      "text/plain": [
       "HBox(children=(IntProgress(value=0, max=158), HTML(value='')))"
      ]
     },
     "metadata": {},
     "output_type": "display_data"
    },
    {
     "data": {
      "application/vnd.jupyter.widget-view+json": {
       "model_id": "eb58569d8e8b491ca9573677ddffca14",
       "version_major": 2,
       "version_minor": 0
      },
      "text/plain": [
       "HBox(children=(IntProgress(value=0, max=9), HTML(value='')))"
      ]
     },
     "metadata": {},
     "output_type": "display_data"
    },
    {
     "name": "stdout",
     "output_type": "stream",
     "text": [
      "Epoch: 47 | Total Loss: 175.57 | Uncertainty Ratio: 3.06\n"
     ]
    },
    {
     "data": {
      "application/vnd.jupyter.widget-view+json": {
       "model_id": "bad82ffe175c473a84992520b3df7560",
       "version_major": 2,
       "version_minor": 0
      },
      "text/plain": [
       "HBox(children=(IntProgress(value=0, max=158), HTML(value='')))"
      ]
     },
     "metadata": {},
     "output_type": "display_data"
    },
    {
     "data": {
      "application/vnd.jupyter.widget-view+json": {
       "model_id": "8ccb8ccc916f438594562dc7b7f62686",
       "version_major": 2,
       "version_minor": 0
      },
      "text/plain": [
       "HBox(children=(IntProgress(value=0, max=9), HTML(value='')))"
      ]
     },
     "metadata": {},
     "output_type": "display_data"
    },
    {
     "name": "stdout",
     "output_type": "stream",
     "text": [
      "Epoch: 48 | Total Loss: 171.62 | Uncertainty Ratio: 2.58\n"
     ]
    },
    {
     "data": {
      "application/vnd.jupyter.widget-view+json": {
       "model_id": "00359d16c55e462f943950d3ba234c77",
       "version_major": 2,
       "version_minor": 0
      },
      "text/plain": [
       "HBox(children=(IntProgress(value=0, max=158), HTML(value='')))"
      ]
     },
     "metadata": {},
     "output_type": "display_data"
    },
    {
     "data": {
      "application/vnd.jupyter.widget-view+json": {
       "model_id": "c63d7452f1484d20a871b66b97e7defe",
       "version_major": 2,
       "version_minor": 0
      },
      "text/plain": [
       "HBox(children=(IntProgress(value=0, max=9), HTML(value='')))"
      ]
     },
     "metadata": {},
     "output_type": "display_data"
    },
    {
     "name": "stdout",
     "output_type": "stream",
     "text": [
      "Epoch: 49 | Total Loss: 176.66 | Uncertainty Ratio: 2.51\n"
     ]
    },
    {
     "data": {
      "application/vnd.jupyter.widget-view+json": {
       "model_id": "e5f8c2f71b1a4b50a3658b8318d1b348",
       "version_major": 2,
       "version_minor": 0
      },
      "text/plain": [
       "HBox(children=(IntProgress(value=0, max=158), HTML(value='')))"
      ]
     },
     "metadata": {},
     "output_type": "display_data"
    },
    {
     "data": {
      "application/vnd.jupyter.widget-view+json": {
       "model_id": "466f23facfee411e81b11ddc4ec295e3",
       "version_major": 2,
       "version_minor": 0
      },
      "text/plain": [
       "HBox(children=(IntProgress(value=0, max=9), HTML(value='')))"
      ]
     },
     "metadata": {},
     "output_type": "display_data"
    },
    {
     "name": "stdout",
     "output_type": "stream",
     "text": [
      "Epoch: 50 | Total Loss: 183.16 | Uncertainty Ratio: 3.14\n"
     ]
    },
    {
     "data": {
      "application/vnd.jupyter.widget-view+json": {
       "model_id": "e7f2526ac68544b28621a3fe1bfc8b4e",
       "version_major": 2,
       "version_minor": 0
      },
      "text/plain": [
       "HBox(children=(IntProgress(value=0, max=158), HTML(value='')))"
      ]
     },
     "metadata": {},
     "output_type": "display_data"
    },
    {
     "data": {
      "application/vnd.jupyter.widget-view+json": {
       "model_id": "76b36a9eaad84e3581954418148b5458",
       "version_major": 2,
       "version_minor": 0
      },
      "text/plain": [
       "HBox(children=(IntProgress(value=0, max=9), HTML(value='')))"
      ]
     },
     "metadata": {},
     "output_type": "display_data"
    },
    {
     "name": "stdout",
     "output_type": "stream",
     "text": [
      "Epoch: 51 | Total Loss: 178.21 | Uncertainty Ratio: 2.75\n"
     ]
    },
    {
     "data": {
      "application/vnd.jupyter.widget-view+json": {
       "model_id": "d964bc9f19634a99b5ba7a9103b64ec5",
       "version_major": 2,
       "version_minor": 0
      },
      "text/plain": [
       "HBox(children=(IntProgress(value=0, max=158), HTML(value='')))"
      ]
     },
     "metadata": {},
     "output_type": "display_data"
    },
    {
     "data": {
      "application/vnd.jupyter.widget-view+json": {
       "model_id": "f32e6c6963bd458c8f5b77e8d0514986",
       "version_major": 2,
       "version_minor": 0
      },
      "text/plain": [
       "HBox(children=(IntProgress(value=0, max=9), HTML(value='')))"
      ]
     },
     "metadata": {},
     "output_type": "display_data"
    },
    {
     "name": "stdout",
     "output_type": "stream",
     "text": [
      "Epoch: 52 | Total Loss: 175.86 | Uncertainty Ratio: 2.47\n"
     ]
    },
    {
     "data": {
      "application/vnd.jupyter.widget-view+json": {
       "model_id": "5c97f2c0c9e64334869d4efd5eb24fdd",
       "version_major": 2,
       "version_minor": 0
      },
      "text/plain": [
       "HBox(children=(IntProgress(value=0, max=158), HTML(value='')))"
      ]
     },
     "metadata": {},
     "output_type": "display_data"
    },
    {
     "data": {
      "application/vnd.jupyter.widget-view+json": {
       "model_id": "beaed7ce6cab451d9b92e0da389a21e6",
       "version_major": 2,
       "version_minor": 0
      },
      "text/plain": [
       "HBox(children=(IntProgress(value=0, max=9), HTML(value='')))"
      ]
     },
     "metadata": {},
     "output_type": "display_data"
    },
    {
     "name": "stdout",
     "output_type": "stream",
     "text": [
      "Epoch: 53 | Total Loss: 182.31 | Uncertainty Ratio: 3.23\n"
     ]
    },
    {
     "data": {
      "application/vnd.jupyter.widget-view+json": {
       "model_id": "a4edb6713fd54b8885b10fc8165e854d",
       "version_major": 2,
       "version_minor": 0
      },
      "text/plain": [
       "HBox(children=(IntProgress(value=0, max=158), HTML(value='')))"
      ]
     },
     "metadata": {},
     "output_type": "display_data"
    },
    {
     "data": {
      "application/vnd.jupyter.widget-view+json": {
       "model_id": "3c15f049b2f540da805131c2a678d772",
       "version_major": 2,
       "version_minor": 0
      },
      "text/plain": [
       "HBox(children=(IntProgress(value=0, max=9), HTML(value='')))"
      ]
     },
     "metadata": {},
     "output_type": "display_data"
    },
    {
     "name": "stdout",
     "output_type": "stream",
     "text": [
      "Epoch: 54 | Total Loss: 176.81 | Uncertainty Ratio: 2.31\n"
     ]
    },
    {
     "data": {
      "application/vnd.jupyter.widget-view+json": {
       "model_id": "9161d23567e343c788e3bcb00b088723",
       "version_major": 2,
       "version_minor": 0
      },
      "text/plain": [
       "HBox(children=(IntProgress(value=0, max=158), HTML(value='')))"
      ]
     },
     "metadata": {},
     "output_type": "display_data"
    },
    {
     "data": {
      "application/vnd.jupyter.widget-view+json": {
       "model_id": "44ec836e94e8408d81e75c6cf2f54c9c",
       "version_major": 2,
       "version_minor": 0
      },
      "text/plain": [
       "HBox(children=(IntProgress(value=0, max=9), HTML(value='')))"
      ]
     },
     "metadata": {},
     "output_type": "display_data"
    },
    {
     "name": "stdout",
     "output_type": "stream",
     "text": [
      "Epoch: 55 | Total Loss: 177.24 | Uncertainty Ratio: 2.58\n"
     ]
    },
    {
     "data": {
      "application/vnd.jupyter.widget-view+json": {
       "model_id": "d145e8fe6a3c455e9c3ac52f199d705a",
       "version_major": 2,
       "version_minor": 0
      },
      "text/plain": [
       "HBox(children=(IntProgress(value=0, max=158), HTML(value='')))"
      ]
     },
     "metadata": {},
     "output_type": "display_data"
    },
    {
     "data": {
      "application/vnd.jupyter.widget-view+json": {
       "model_id": "c32632df130a48f9ad441495185f0e64",
       "version_major": 2,
       "version_minor": 0
      },
      "text/plain": [
       "HBox(children=(IntProgress(value=0, max=9), HTML(value='')))"
      ]
     },
     "metadata": {},
     "output_type": "display_data"
    },
    {
     "name": "stdout",
     "output_type": "stream",
     "text": [
      "Epoch: 56 | Total Loss: 173.98 | Uncertainty Ratio: 2.48\n"
     ]
    },
    {
     "data": {
      "application/vnd.jupyter.widget-view+json": {
       "model_id": "d6c5dd5fb2b742078ce20bf38c122faa",
       "version_major": 2,
       "version_minor": 0
      },
      "text/plain": [
       "HBox(children=(IntProgress(value=0, max=158), HTML(value='')))"
      ]
     },
     "metadata": {},
     "output_type": "display_data"
    },
    {
     "data": {
      "application/vnd.jupyter.widget-view+json": {
       "model_id": "d839b20fec6649a69efc2086d16499a4",
       "version_major": 2,
       "version_minor": 0
      },
      "text/plain": [
       "HBox(children=(IntProgress(value=0, max=9), HTML(value='')))"
      ]
     },
     "metadata": {},
     "output_type": "display_data"
    },
    {
     "name": "stdout",
     "output_type": "stream",
     "text": [
      "Epoch: 57 | Total Loss: 172.66 | Uncertainty Ratio: 2.4\n"
     ]
    },
    {
     "data": {
      "application/vnd.jupyter.widget-view+json": {
       "model_id": "dfeac30f99194475819dc017858a2c93",
       "version_major": 2,
       "version_minor": 0
      },
      "text/plain": [
       "HBox(children=(IntProgress(value=0, max=158), HTML(value='')))"
      ]
     },
     "metadata": {},
     "output_type": "display_data"
    },
    {
     "data": {
      "application/vnd.jupyter.widget-view+json": {
       "model_id": "e534b6d6b54340acad23bb1abe4566de",
       "version_major": 2,
       "version_minor": 0
      },
      "text/plain": [
       "HBox(children=(IntProgress(value=0, max=9), HTML(value='')))"
      ]
     },
     "metadata": {},
     "output_type": "display_data"
    },
    {
     "name": "stdout",
     "output_type": "stream",
     "text": [
      "Epoch: 58 | Total Loss: 177.51 | Uncertainty Ratio: 2.48\n"
     ]
    },
    {
     "data": {
      "application/vnd.jupyter.widget-view+json": {
       "model_id": "b4cbfef625a848d2af56aa7972e9d052",
       "version_major": 2,
       "version_minor": 0
      },
      "text/plain": [
       "HBox(children=(IntProgress(value=0, max=158), HTML(value='')))"
      ]
     },
     "metadata": {},
     "output_type": "display_data"
    },
    {
     "data": {
      "application/vnd.jupyter.widget-view+json": {
       "model_id": "1a2492345ea644be8d5c29f97b70f702",
       "version_major": 2,
       "version_minor": 0
      },
      "text/plain": [
       "HBox(children=(IntProgress(value=0, max=9), HTML(value='')))"
      ]
     },
     "metadata": {},
     "output_type": "display_data"
    },
    {
     "name": "stdout",
     "output_type": "stream",
     "text": [
      "Epoch: 59 | Total Loss: 190.47 | Uncertainty Ratio: 3.49\n"
     ]
    },
    {
     "data": {
      "application/vnd.jupyter.widget-view+json": {
       "model_id": "317de5b8d0164d5181f890e859042408",
       "version_major": 2,
       "version_minor": 0
      },
      "text/plain": [
       "HBox(children=(IntProgress(value=0, max=158), HTML(value='')))"
      ]
     },
     "metadata": {},
     "output_type": "display_data"
    },
    {
     "data": {
      "application/vnd.jupyter.widget-view+json": {
       "model_id": "837c3a468d7b4cae9d45a12b4c7e7507",
       "version_major": 2,
       "version_minor": 0
      },
      "text/plain": [
       "HBox(children=(IntProgress(value=0, max=9), HTML(value='')))"
      ]
     },
     "metadata": {},
     "output_type": "display_data"
    },
    {
     "name": "stdout",
     "output_type": "stream",
     "text": [
      "Epoch: 60 | Total Loss: 181.71 | Uncertainty Ratio: 2.33\n"
     ]
    },
    {
     "data": {
      "application/vnd.jupyter.widget-view+json": {
       "model_id": "8fb87dcc0d0345e48d267079a5821a0c",
       "version_major": 2,
       "version_minor": 0
      },
      "text/plain": [
       "HBox(children=(IntProgress(value=0, max=158), HTML(value='')))"
      ]
     },
     "metadata": {},
     "output_type": "display_data"
    },
    {
     "data": {
      "application/vnd.jupyter.widget-view+json": {
       "model_id": "713b9fe25a9f4f16953be7b361d94fc1",
       "version_major": 2,
       "version_minor": 0
      },
      "text/plain": [
       "HBox(children=(IntProgress(value=0, max=9), HTML(value='')))"
      ]
     },
     "metadata": {},
     "output_type": "display_data"
    },
    {
     "name": "stdout",
     "output_type": "stream",
     "text": [
      "Epoch: 61 | Total Loss: 175.78 | Uncertainty Ratio: 2.84\n"
     ]
    },
    {
     "data": {
      "application/vnd.jupyter.widget-view+json": {
       "model_id": "1426dfd8171c4ca3b80d02b0a4375baa",
       "version_major": 2,
       "version_minor": 0
      },
      "text/plain": [
       "HBox(children=(IntProgress(value=0, max=158), HTML(value='')))"
      ]
     },
     "metadata": {},
     "output_type": "display_data"
    },
    {
     "data": {
      "application/vnd.jupyter.widget-view+json": {
       "model_id": "c8efdbdcd0774ad0a55edd47eb432425",
       "version_major": 2,
       "version_minor": 0
      },
      "text/plain": [
       "HBox(children=(IntProgress(value=0, max=9), HTML(value='')))"
      ]
     },
     "metadata": {},
     "output_type": "display_data"
    },
    {
     "name": "stdout",
     "output_type": "stream",
     "text": [
      "Epoch: 62 | Total Loss: 188.78 | Uncertainty Ratio: 3.31\n"
     ]
    },
    {
     "data": {
      "application/vnd.jupyter.widget-view+json": {
       "model_id": "d69e64457532406ead43c22b9c9f0a54",
       "version_major": 2,
       "version_minor": 0
      },
      "text/plain": [
       "HBox(children=(IntProgress(value=0, max=158), HTML(value='')))"
      ]
     },
     "metadata": {},
     "output_type": "display_data"
    },
    {
     "data": {
      "application/vnd.jupyter.widget-view+json": {
       "model_id": "acf525d5dab746618a77d4bf5ea8af35",
       "version_major": 2,
       "version_minor": 0
      },
      "text/plain": [
       "HBox(children=(IntProgress(value=0, max=9), HTML(value='')))"
      ]
     },
     "metadata": {},
     "output_type": "display_data"
    },
    {
     "name": "stdout",
     "output_type": "stream",
     "text": [
      "Epoch: 63 | Total Loss: 181.63 | Uncertainty Ratio: 3.09\n"
     ]
    },
    {
     "data": {
      "application/vnd.jupyter.widget-view+json": {
       "model_id": "917644f520aa41799d7205f1e9b060fb",
       "version_major": 2,
       "version_minor": 0
      },
      "text/plain": [
       "HBox(children=(IntProgress(value=0, max=158), HTML(value='')))"
      ]
     },
     "metadata": {},
     "output_type": "display_data"
    },
    {
     "data": {
      "application/vnd.jupyter.widget-view+json": {
       "model_id": "f724abc98c8c49c0aa1b8d2fe6b0db34",
       "version_major": 2,
       "version_minor": 0
      },
      "text/plain": [
       "HBox(children=(IntProgress(value=0, max=9), HTML(value='')))"
      ]
     },
     "metadata": {},
     "output_type": "display_data"
    },
    {
     "name": "stdout",
     "output_type": "stream",
     "text": [
      "Epoch: 64 | Total Loss: 176.64 | Uncertainty Ratio: 2.36\n",
      "Loading saved parameters..\n"
     ]
    },
    {
     "data": {
      "text/plain": [
       "DropoutNet(\n",
       "  (f): Sequential(\n",
       "    (0): Linear(in_features=44, out_features=128, bias=True)\n",
       "    (1): ReLU()\n",
       "    (2): Dropout(p=0.1)\n",
       "    (3): Linear(in_features=128, out_features=128, bias=True)\n",
       "    (4): ReLU()\n",
       "    (5): Dropout(p=0.1)\n",
       "    (6): Linear(in_features=128, out_features=1, bias=True)\n",
       "  )\n",
       "  (nll): BCEWithLogitsLoss()\n",
       ")"
      ]
     },
     "execution_count": 43,
     "metadata": {},
     "output_type": "execute_result"
    }
   ],
   "source": [
    "bnn_confident.fit(X_train_processed, y_train, validate=True, X_val=X_test_processed, y_val = y_test)\n",
    "bnn_diffident.fit(X_train_processed, y_train, validate=True, X_val=X_test_processed, y_val = y_test)"
   ]
  },
  {
   "cell_type": "code",
   "execution_count": 44,
   "metadata": {},
   "outputs": [
    {
     "name": "stdout",
     "output_type": "stream",
     "text": [
      "\u001b[32m2019-07-06 14:03:23:\u001b[0m \u001b[34mpacmagic_deeplearning.modeling.classifiers.bayesian.bnn_classifier\u001b[0m - get_raw_outputs - \u001b[1;30mINFO\u001b[0m - Forwarding with 64 samples.\n"
     ]
    }
   ],
   "source": [
    "preds = bnn.predict_proba(X_test_processed)[:, 1]"
   ]
  },
  {
   "cell_type": "code",
   "execution_count": 45,
   "metadata": {
    "scrolled": true
   },
   "outputs": [
    {
     "name": "stdout",
     "output_type": "stream",
     "text": [
      "\u001b[32m2019-07-06 14:03:23:\u001b[0m \u001b[34mpacmagic_deeplearning.modeling.classifiers.bayesian.bnn_classifier\u001b[0m - get_raw_outputs - \u001b[1;30mINFO\u001b[0m - Forwarding with 64 samples.\n",
      "\u001b[32m2019-07-06 14:03:24:\u001b[0m \u001b[34mpacmagic_deeplearning.modeling.classifiers.bayesian.bnn_classifier\u001b[0m - get_raw_outputs - \u001b[1;30mINFO\u001b[0m - Forwarding with 64 samples.\n"
     ]
    }
   ],
   "source": [
    "uncertainties = bnn_confident.predict_proba(X_test_processed)[:, 1] - bnn_diffident.predict_proba(X_test_processed)[:, 1]"
   ]
  },
  {
   "cell_type": "code",
   "execution_count": 46,
   "metadata": {
    "scrolled": false
   },
   "outputs": [
    {
     "data": {
      "text/plain": [
       "Text(0.5, 0, 'Prediction')"
      ]
     },
     "execution_count": 46,
     "metadata": {},
     "output_type": "execute_result"
    },
    {
     "data": {
      "image/png": "[encoded data removed]",
      "text/plain": [
       "<Figure size 432x288 with 1 Axes>"
      ]
     },
     "metadata": {
      "needs_background": "light"
     },
     "output_type": "display_data"
    }
   ],
   "source": [
    "plt.scatter(preds, uncertainties, marker='.')\n",
    "plt.ylabel('Uncertainty')\n",
    "plt.xlabel('Prediction')"
   ]
  },
  {
   "cell_type": "code",
   "execution_count": 47,
   "metadata": {
    "scrolled": false
   },
   "outputs": [
    {
     "data": {
      "image/png": "[encoded data removed]",
      "text/plain": [
       "<Figure size 432x288 with 1 Axes>"
      ]
     },
     "execution_count": 47,
     "metadata": {},
     "output_type": "execute_result"
    },
    {
     "data": {
      "image/png": "[encoded data removed]",
      "text/plain": [
       "<Figure size 432x288 with 1 Axes>"
      ]
     },
     "metadata": {
      "needs_background": "light"
     },
     "output_type": "display_data"
    }
   ],
   "source": [
    "make_performance_uncertainty_plot(y_test.values.astype(int), preds, uncertainties, 'Loss', performance_fn_args={'reduction': 'sum'})"
   ]
  },
  {
   "cell_type": "code",
   "execution_count": 48,
   "metadata": {},
   "outputs": [
    {
     "data": {
      "image/png": "[encoded data removed]",
      "text/plain": [
       "<Figure size 432x288 with 1 Axes>"
      ]
     },
     "execution_count": 48,
     "metadata": {},
     "output_type": "execute_result"
    },
    {
     "data": {
      "image/png": "[encoded data removed]",
      "text/plain": [
       "<Figure size 432x288 with 1 Axes>"
      ]
     },
     "metadata": {
      "needs_background": "light"
     },
     "output_type": "display_data"
    }
   ],
   "source": [
    "make_performance_uncertainty_plot(y_test.values.astype(int), preds, uncertainties, 'AUC', performance_fn=roc_auc_score)"
   ]
  },
  {
   "cell_type": "code",
   "execution_count": 49,
   "metadata": {},
   "outputs": [
    {
     "data": {
      "text/plain": [
       "array([0., 0., 0., ..., 0., 0., 0.], dtype=float32)"
      ]
     },
     "execution_count": 49,
     "metadata": {},
     "output_type": "execute_result"
    }
   ],
   "source": [
    "from scipy.stats import entropy\n",
    "\n",
    "entropy(preds[None, :])"
   ]
  },
  {
   "cell_type": "code",
   "execution_count": 34,
   "metadata": {},
   "outputs": [],
   "source": [
    "uncertainty_entropy = -1 * (preds * np.log(preds) + (1-preds) * np.log(1-preds))"
   ]
  },
  {
   "cell_type": "code",
   "execution_count": 36,
   "metadata": {
    "scrolled": true
   },
   "outputs": [
    {
     "name": "stdout",
     "output_type": "stream",
     "text": [
      "\u001b[32m2019-07-06 13:42:50:\u001b[0m \u001b[34mmatplotlib.font_manager\u001b[0m - _findfont_cached - \u001b[1;30mDEBUG\u001b[0m - \u001b[32mfindfont: Matching :family=sans-serif:style=normal:variant=normal:weight=normal:stretch=normal:size=11.0.\u001b[0m\n",
      "\u001b[32m2019-07-06 13:42:50:\u001b[0m \u001b[34mmatplotlib.font_manager\u001b[0m - _findfont_cached - \u001b[1;30mDEBUG\u001b[0m - \u001b[32mfindfont: score(<Font 'STIXGeneral' (STIXGeneralBol.ttf) normal normal bold normal>) = 10.335\u001b[0m\n",
      "\u001b[32m2019-07-06 13:42:50:\u001b[0m \u001b[34mmatplotlib.font_manager\u001b[0m - _findfont_cached - \u001b[1;30mDEBUG\u001b[0m - \u001b[32mfindfont: score(<Font 'DejaVu Serif Display' (DejaVuSerifDisplay.ttf) normal normal 400 normal>) = 10.05\u001b[0m\n",
      "\u001b[32m2019-07-06 13:42:50:\u001b[0m \u001b[34mmatplotlib.font_manager\u001b[0m - _findfont_cached - \u001b[1;30mDEBUG\u001b[0m - \u001b[32mfindfont: score(<Font 'DejaVu Sans Display' (DejaVuSansDisplay.ttf) normal normal 400 normal>) = 10.05\u001b[0m\n",
      "\u001b[32m2019-07-06 13:42:50:\u001b[0m \u001b[34mmatplotlib.font_manager\u001b[0m - _findfont_cached - \u001b[1;30mDEBUG\u001b[0m - \u001b[32mfindfont: score(<Font 'cmsy10' (cmsy10.ttf) normal normal 400 normal>) = 10.05\u001b[0m\n",
      "\u001b[32m2019-07-06 13:42:50:\u001b[0m \u001b[34mmatplotlib.font_manager\u001b[0m - _findfont_cached - \u001b[1;30mDEBUG\u001b[0m - \u001b[32mfindfont: score(<Font 'cmtt10' (cmtt10.ttf) normal normal 400 normal>) = 10.05\u001b[0m\n",
      "\u001b[32m2019-07-06 13:42:50:\u001b[0m \u001b[34mmatplotlib.font_manager\u001b[0m - _findfont_cached - \u001b[1;30mDEBUG\u001b[0m - \u001b[32mfindfont: score(<Font 'STIXSizeFourSym' (STIXSizFourSymBol.ttf) normal normal bold normal>) = 10.335\u001b[0m\n",
      "\u001b[32m2019-07-06 13:42:50:\u001b[0m \u001b[34mmatplotlib.font_manager\u001b[0m - _findfont_cached - \u001b[1;30mDEBUG\u001b[0m - \u001b[32mfindfont: score(<Font 'STIXNonUnicode' (STIXNonUniBol.ttf) normal normal bold normal>) = 10.335\u001b[0m\n",
      "\u001b[32m2019-07-06 13:42:50:\u001b[0m \u001b[34mmatplotlib.font_manager\u001b[0m - _findfont_cached - \u001b[1;30mDEBUG\u001b[0m - \u001b[32mfindfont: score(<Font 'STIXSizeOneSym' (STIXSizOneSymReg.ttf) normal normal regular normal>) = 10.05\u001b[0m\n",
      "\u001b[32m2019-07-06 13:42:50:\u001b[0m \u001b[34mmatplotlib.font_manager\u001b[0m - _findfont_cached - \u001b[1;30mDEBUG\u001b[0m - \u001b[32mfindfont: score(<Font 'STIXGeneral' (STIXGeneralBolIta.ttf) italic normal bold normal>) = 11.335\u001b[0m\n",
      "\u001b[32m2019-07-06 13:42:50:\u001b[0m \u001b[34mmatplotlib.font_manager\u001b[0m - _findfont_cached - \u001b[1;30mDEBUG\u001b[0m - \u001b[32mfindfont: score(<Font 'DejaVu Serif' (DejaVuSerif-Italic.ttf) italic normal 400 normal>) = 11.05\u001b[0m\n",
      "\u001b[32m2019-07-06 13:42:50:\u001b[0m \u001b[34mmatplotlib.font_manager\u001b[0m - _findfont_cached - \u001b[1;30mDEBUG\u001b[0m - \u001b[32mfindfont: score(<Font 'STIXGeneral' (STIXGeneralItalic.ttf) italic normal 400 normal>) = 11.05\u001b[0m\n",
      "\u001b[32m2019-07-06 13:42:50:\u001b[0m \u001b[34mmatplotlib.font_manager\u001b[0m - _findfont_cached - \u001b[1;30mDEBUG\u001b[0m - \u001b[32mfindfont: score(<Font 'DejaVu Sans Mono' (DejaVuSansMono.ttf) normal normal 400 normal>) = 10.05\u001b[0m\n",
      "\u001b[32m2019-07-06 13:42:50:\u001b[0m \u001b[34mmatplotlib.font_manager\u001b[0m - _findfont_cached - \u001b[1;30mDEBUG\u001b[0m - \u001b[32mfindfont: score(<Font 'STIXSizeTwoSym' (STIXSizTwoSymReg.ttf) normal normal regular normal>) = 10.05\u001b[0m\n",
      "\u001b[32m2019-07-06 13:42:50:\u001b[0m \u001b[34mmatplotlib.font_manager\u001b[0m - _findfont_cached - \u001b[1;30mDEBUG\u001b[0m - \u001b[32mfindfont: score(<Font 'DejaVu Sans' (DejaVuSans-Oblique.ttf) oblique normal 400 normal>) = 3.05\u001b[0m\n",
      "\u001b[32m2019-07-06 13:42:50:\u001b[0m \u001b[34mmatplotlib.font_manager\u001b[0m - _findfont_cached - \u001b[1;30mDEBUG\u001b[0m - \u001b[32mfindfont: score(<Font 'DejaVu Sans' (DejaVuSans-BoldOblique.ttf) oblique normal bold normal>) = 3.335\u001b[0m\n",
      "\u001b[32m2019-07-06 13:42:50:\u001b[0m \u001b[34mmatplotlib.font_manager\u001b[0m - _findfont_cached - \u001b[1;30mDEBUG\u001b[0m - \u001b[32mfindfont: score(<Font 'STIXNonUnicode' (STIXNonUniBolIta.ttf) italic normal bold normal>) = 11.335\u001b[0m\n",
      "\u001b[32m2019-07-06 13:42:50:\u001b[0m \u001b[34mmatplotlib.font_manager\u001b[0m - _findfont_cached - \u001b[1;30mDEBUG\u001b[0m - \u001b[32mfindfont: score(<Font 'cmss10' (cmss10.ttf) normal normal 400 normal>) = 10.05\u001b[0m\n",
      "\u001b[32m2019-07-06 13:42:50:\u001b[0m \u001b[34mmatplotlib.font_manager\u001b[0m - _findfont_cached - \u001b[1;30mDEBUG\u001b[0m - \u001b[32mfindfont: score(<Font 'DejaVu Sans Mono' (DejaVuSansMono-BoldOblique.ttf) oblique normal bold normal>) = 11.335\u001b[0m\n",
      "\u001b[32m2019-07-06 13:42:50:\u001b[0m \u001b[34mmatplotlib.font_manager\u001b[0m - _findfont_cached - \u001b[1;30mDEBUG\u001b[0m - \u001b[32mfindfont: score(<Font 'DejaVu Sans Mono' (DejaVuSansMono-Bold.ttf) normal normal bold normal>) = 10.335\u001b[0m\n",
      "\u001b[32m2019-07-06 13:42:50:\u001b[0m \u001b[34mmatplotlib.font_manager\u001b[0m - _findfont_cached - \u001b[1;30mDEBUG\u001b[0m - \u001b[32mfindfont: score(<Font 'DejaVu Sans' (DejaVuSans.ttf) normal normal 400 normal>) = 2.05\u001b[0m\n",
      "\u001b[32m2019-07-06 13:42:50:\u001b[0m \u001b[34mmatplotlib.font_manager\u001b[0m - _findfont_cached - \u001b[1;30mDEBUG\u001b[0m - \u001b[32mfindfont: score(<Font 'DejaVu Sans' (DejaVuSans-Bold.ttf) normal normal bold normal>) = 2.335\u001b[0m\n",
      "\u001b[32m2019-07-06 13:42:50:\u001b[0m \u001b[34mmatplotlib.font_manager\u001b[0m - _findfont_cached - \u001b[1;30mDEBUG\u001b[0m - \u001b[32mfindfont: score(<Font 'cmr10' (cmr10.ttf) normal normal 400 normal>) = 10.05\u001b[0m\n",
      "\u001b[32m2019-07-06 13:42:50:\u001b[0m \u001b[34mmatplotlib.font_manager\u001b[0m - _findfont_cached - \u001b[1;30mDEBUG\u001b[0m - \u001b[32mfindfont: score(<Font 'DejaVu Serif' (DejaVuSerif-Bold.ttf) normal normal bold normal>) = 10.335\u001b[0m\n",
      "\u001b[32m2019-07-06 13:42:50:\u001b[0m \u001b[34mmatplotlib.font_manager\u001b[0m - _findfont_cached - \u001b[1;30mDEBUG\u001b[0m - \u001b[32mfindfont: score(<Font 'STIXSizeOneSym' (STIXSizOneSymBol.ttf) normal normal bold normal>) = 10.335\u001b[0m\n",
      "\u001b[32m2019-07-06 13:42:50:\u001b[0m \u001b[34mmatplotlib.font_manager\u001b[0m - _findfont_cached - \u001b[1;30mDEBUG\u001b[0m - \u001b[32mfindfont: score(<Font 'STIXSizeThreeSym' (STIXSizThreeSymReg.ttf) normal normal regular normal>) = 10.05\u001b[0m\n",
      "\u001b[32m2019-07-06 13:42:50:\u001b[0m \u001b[34mmatplotlib.font_manager\u001b[0m - _findfont_cached - \u001b[1;30mDEBUG\u001b[0m - \u001b[32mfindfont: score(<Font 'cmb10' (cmb10.ttf) normal normal 400 normal>) = 10.05\u001b[0m\n",
      "\u001b[32m2019-07-06 13:42:50:\u001b[0m \u001b[34mmatplotlib.font_manager\u001b[0m - _findfont_cached - \u001b[1;30mDEBUG\u001b[0m - \u001b[32mfindfont: score(<Font 'cmex10' (cmex10.ttf) normal normal 400 normal>) = 10.05\u001b[0m\n",
      "\u001b[32m2019-07-06 13:42:50:\u001b[0m \u001b[34mmatplotlib.font_manager\u001b[0m - _findfont_cached - \u001b[1;30mDEBUG\u001b[0m - \u001b[32mfindfont: score(<Font 'cmmi10' (cmmi10.ttf) normal normal 400 normal>) = 10.05\u001b[0m\n",
      "\u001b[32m2019-07-06 13:42:50:\u001b[0m \u001b[34mmatplotlib.font_manager\u001b[0m - _findfont_cached - \u001b[1;30mDEBUG\u001b[0m - \u001b[32mfindfont: score(<Font 'DejaVu Sans Mono' (DejaVuSansMono-Oblique.ttf) oblique normal 400 normal>) = 11.05\u001b[0m\n",
      "\u001b[32m2019-07-06 13:42:50:\u001b[0m \u001b[34mmatplotlib.font_manager\u001b[0m - _findfont_cached - \u001b[1;30mDEBUG\u001b[0m - \u001b[32mfindfont: score(<Font 'STIXNonUnicode' (STIXNonUni.ttf) normal normal regular normal>) = 10.05\u001b[0m\n",
      "\u001b[32m2019-07-06 13:42:50:\u001b[0m \u001b[34mmatplotlib.font_manager\u001b[0m - _findfont_cached - \u001b[1;30mDEBUG\u001b[0m - \u001b[32mfindfont: score(<Font 'STIXSizeFourSym' (STIXSizFourSymReg.ttf) normal normal regular normal>) = 10.05\u001b[0m\n",
      "\u001b[32m2019-07-06 13:42:50:\u001b[0m \u001b[34mmatplotlib.font_manager\u001b[0m - _findfont_cached - \u001b[1;30mDEBUG\u001b[0m - \u001b[32mfindfont: score(<Font 'STIXSizeThreeSym' (STIXSizThreeSymBol.ttf) normal normal bold normal>) = 10.335\u001b[0m\n",
      "\u001b[32m2019-07-06 13:42:50:\u001b[0m \u001b[34mmatplotlib.font_manager\u001b[0m - _findfont_cached - \u001b[1;30mDEBUG\u001b[0m - \u001b[32mfindfont: score(<Font 'STIXSizeFiveSym' (STIXSizFiveSymReg.ttf) normal normal regular normal>) = 10.05\u001b[0m\n",
      "\u001b[32m2019-07-06 13:42:50:\u001b[0m \u001b[34mmatplotlib.font_manager\u001b[0m - _findfont_cached - \u001b[1;30mDEBUG\u001b[0m - \u001b[32mfindfont: score(<Font 'STIXNonUnicode' (STIXNonUniIta.ttf) italic normal 400 normal>) = 11.05\u001b[0m\n",
      "\u001b[32m2019-07-06 13:42:50:\u001b[0m \u001b[34mmatplotlib.font_manager\u001b[0m - _findfont_cached - \u001b[1;30mDEBUG\u001b[0m - \u001b[32mfindfont: score(<Font 'DejaVu Serif' (DejaVuSerif-BoldItalic.ttf) italic normal bold normal>) = 11.335\u001b[0m\n",
      "\u001b[32m2019-07-06 13:42:50:\u001b[0m \u001b[34mmatplotlib.font_manager\u001b[0m - _findfont_cached - \u001b[1;30mDEBUG\u001b[0m - \u001b[32mfindfont: score(<Font 'STIXSizeTwoSym' (STIXSizTwoSymBol.ttf) normal normal bold normal>) = 10.335\u001b[0m\n",
      "\u001b[32m2019-07-06 13:42:50:\u001b[0m \u001b[34mmatplotlib.font_manager\u001b[0m - _findfont_cached - \u001b[1;30mDEBUG\u001b[0m - \u001b[32mfindfont: score(<Font 'STIXGeneral' (STIXGeneral.ttf) normal normal regular normal>) = 10.05\u001b[0m\n",
      "\u001b[32m2019-07-06 13:42:50:\u001b[0m \u001b[34mmatplotlib.font_manager\u001b[0m - _findfont_cached - \u001b[1;30mDEBUG\u001b[0m - \u001b[32mfindfont: score(<Font 'DejaVu Serif' (DejaVuSerif.ttf) normal normal 400 normal>) = 10.05\u001b[0m\n",
      "\u001b[32m2019-07-06 13:42:50:\u001b[0m \u001b[34mmatplotlib.font_manager\u001b[0m - _findfont_cached - \u001b[1;30mDEBUG\u001b[0m - \u001b[32mfindfont: score(<Font 'STIXIntegralsUpSm' (STIXIntUpSmBol.otf) normal normal bold normal>) = 10.335\u001b[0m\n"
     ]
    },
    {
     "name": "stdout",
     "output_type": "stream",
     "text": [
      "\u001b[32m2019-07-06 13:42:50:\u001b[0m \u001b[34mmatplotlib.font_manager\u001b[0m - _findfont_cached - \u001b[1;30mDEBUG\u001b[0m - \u001b[32mfindfont: score(<Font 'Luxi Serif' (luxirr.ttf) normal normal regular normal>) = 10.05\u001b[0m\n",
      "\u001b[32m2019-07-06 13:42:50:\u001b[0m \u001b[34mmatplotlib.font_manager\u001b[0m - _findfont_cached - \u001b[1;30mDEBUG\u001b[0m - \u001b[32mfindfont: score(<Font 'Gurmukhi MN' (Gurmukhi MN.ttc) normal normal 400 normal>) = 10.05\u001b[0m\n",
      "\u001b[32m2019-07-06 13:42:50:\u001b[0m \u001b[34mmatplotlib.font_manager\u001b[0m - _findfont_cached - \u001b[1;30mDEBUG\u001b[0m - \u001b[32mfindfont: score(<Font 'Luxi Mono' (luximr.ttf) normal normal regular normal>) = 10.05\u001b[0m\n",
      "\u001b[32m2019-07-06 13:42:50:\u001b[0m \u001b[34mmatplotlib.font_manager\u001b[0m - _findfont_cached - \u001b[1;30mDEBUG\u001b[0m - \u001b[32mfindfont: score(<Font 'LingWai SC' (LingWaiSC-Medium.otf) normal normal medium normal>) = 10.145\u001b[0m\n",
      "\u001b[32m2019-07-06 13:42:50:\u001b[0m \u001b[34mmatplotlib.font_manager\u001b[0m - _findfont_cached - \u001b[1;30mDEBUG\u001b[0m - \u001b[32mfindfont: score(<Font 'Sinhala Sangam MN' (Sinhala Sangam MN.ttc) normal normal 400 normal>) = 10.05\u001b[0m\n",
      "\u001b[32m2019-07-06 13:42:50:\u001b[0m \u001b[34mmatplotlib.font_manager\u001b[0m - _findfont_cached - \u001b[1;30mDEBUG\u001b[0m - \u001b[32mfindfont: score(<Font 'Montserrat ExtraBold' (Montserrat-ExtraBold.ttf) normal normal bold normal>) = 10.335\u001b[0m\n",
      "\u001b[32m2019-07-06 13:42:50:\u001b[0m \u001b[34mmatplotlib.font_manager\u001b[0m - _findfont_cached - \u001b[1;30mDEBUG\u001b[0m - \u001b[32mfindfont: score(<Font 'Bitstream Vera Sans Mono' (VeraMono.ttf) normal normal 400 normal>) = 10.05\u001b[0m\n",
      "\u001b[32m2019-07-06 13:42:50:\u001b[0m \u001b[34mmatplotlib.font_manager\u001b[0m - _findfont_cached - \u001b[1;30mDEBUG\u001b[0m - \u001b[32mfindfont: score(<Font 'Montserrat Light' (Montserrat-LightItalic.ttf) italic normal light normal>) = 11.24\u001b[0m\n",
      "\u001b[32m2019-07-06 13:42:50:\u001b[0m \u001b[34mmatplotlib.font_manager\u001b[0m - _findfont_cached - \u001b[1;30mDEBUG\u001b[0m - \u001b[32mfindfont: score(<Font 'Montserrat ExtraLight' (Montserrat-ExtraLight.ttf) normal normal light normal>) = 10.24\u001b[0m\n",
      "\u001b[32m2019-07-06 13:42:50:\u001b[0m \u001b[34mmatplotlib.font_manager\u001b[0m - _findfont_cached - \u001b[1;30mDEBUG\u001b[0m - \u001b[32mfindfont: score(<Font '.SF NS Display Condensed' (SFNSDisplayCondensed-Medium.otf) normal normal medium condensed>) = 10.344999999999999\u001b[0m\n",
      "\u001b[32m2019-07-06 13:42:50:\u001b[0m \u001b[34mmatplotlib.font_manager\u001b[0m - _findfont_cached - \u001b[1;30mDEBUG\u001b[0m - \u001b[32mfindfont: score(<Font 'Plantagenet Cherokee' (PlantagenetCherokee.ttf) normal normal 400 normal>) = 10.05\u001b[0m\n",
      "\u001b[32m2019-07-06 13:42:50:\u001b[0m \u001b[34mmatplotlib.font_manager\u001b[0m - _findfont_cached - \u001b[1;30mDEBUG\u001b[0m - \u001b[32mfindfont: score(<Font 'Chalkboard' (Chalkboard.ttc) normal normal 400 normal>) = 10.05\u001b[0m\n",
      "\u001b[32m2019-07-06 13:42:50:\u001b[0m \u001b[34mmatplotlib.font_manager\u001b[0m - _findfont_cached - \u001b[1;30mDEBUG\u001b[0m - \u001b[32mfindfont: score(<Font 'Myanmar MN' (Myanmar MN.ttc) normal normal 400 normal>) = 10.05\u001b[0m\n",
      "\u001b[32m2019-07-06 13:42:50:\u001b[0m \u001b[34mmatplotlib.font_manager\u001b[0m - _findfont_cached - \u001b[1;30mDEBUG\u001b[0m - \u001b[32mfindfont: score(<Font 'Menlo' (Menlo.ttc) normal normal regular normal>) = 10.05\u001b[0m\n",
      "\u001b[32m2019-07-06 13:42:50:\u001b[0m \u001b[34mmatplotlib.font_manager\u001b[0m - _findfont_cached - \u001b[1;30mDEBUG\u001b[0m - \u001b[32mfindfont: score(<Font 'Luxi Sans' (luxisbi.ttf) oblique normal bold normal>) = 11.335\u001b[0m\n",
      "\u001b[32m2019-07-06 13:42:50:\u001b[0m \u001b[34mmatplotlib.font_manager\u001b[0m - _findfont_cached - \u001b[1;30mDEBUG\u001b[0m - \u001b[32mfindfont: score(<Font 'Bitstream Vera Sans Mono' (VeraMoBI.ttf) oblique normal bold normal>) = 11.335\u001b[0m\n",
      "\u001b[32m2019-07-06 13:42:50:\u001b[0m \u001b[34mmatplotlib.font_manager\u001b[0m - _findfont_cached - \u001b[1;30mDEBUG\u001b[0m - \u001b[32mfindfont: score(<Font '.SF Compact Text' (SFCompactText-RegularItalic.otf) italic normal 400 normal>) = 11.05\u001b[0m\n",
      "\u001b[32m2019-07-06 13:42:50:\u001b[0m \u001b[34mmatplotlib.font_manager\u001b[0m - _findfont_cached - \u001b[1;30mDEBUG\u001b[0m - \u001b[32mfindfont: score(<Font 'Farah' (Farah.ttc) normal normal regular normal>) = 10.05\u001b[0m\n",
      "\u001b[32m2019-07-06 13:42:50:\u001b[0m \u001b[34mmatplotlib.font_manager\u001b[0m - _findfont_cached - \u001b[1;30mDEBUG\u001b[0m - \u001b[32mfindfont: score(<Font 'Heiti TC' (STHeiti Light.ttc) normal normal light normal>) = 10.24\u001b[0m\n",
      "\u001b[32m2019-07-06 13:42:50:\u001b[0m \u001b[34mmatplotlib.font_manager\u001b[0m - _findfont_cached - \u001b[1;30mDEBUG\u001b[0m - \u001b[32mfindfont: score(<Font 'Impact' (Impact.ttf) normal normal 400 normal>) = 10.05\u001b[0m\n",
      "\u001b[32m2019-07-06 13:42:50:\u001b[0m \u001b[34mmatplotlib.font_manager\u001b[0m - _findfont_cached - \u001b[1;30mDEBUG\u001b[0m - \u001b[32mfindfont: score(<Font 'Serto Mardin' (SyrCOMMardin.otf) normal normal 400 normal>) = 10.05\u001b[0m\n",
      "\u001b[32m2019-07-06 13:42:50:\u001b[0m \u001b[34mmatplotlib.font_manager\u001b[0m - _findfont_cached - \u001b[1;30mDEBUG\u001b[0m - \u001b[32mfindfont: score(<Font 'AppleGothic' (AppleGothic.ttf) normal normal regular normal>) = 10.05\u001b[0m\n",
      "\u001b[32m2019-07-06 13:42:50:\u001b[0m \u001b[34mmatplotlib.font_manager\u001b[0m - _findfont_cached - \u001b[1;30mDEBUG\u001b[0m - \u001b[32mfindfont: score(<Font 'Bitstream Vera Serif' (VeraSe.ttf) normal normal 400 normal>) = 10.05\u001b[0m\n",
      "\u001b[32m2019-07-06 13:42:50:\u001b[0m \u001b[34mmatplotlib.font_manager\u001b[0m - _findfont_cached - \u001b[1;30mDEBUG\u001b[0m - \u001b[32mfindfont: score(<Font 'Diwan Kufi' (Diwan Kufi.ttc) normal normal regular normal>) = 10.05\u001b[0m\n",
      "\u001b[32m2019-07-06 13:42:50:\u001b[0m \u001b[34mmatplotlib.font_manager\u001b[0m - _findfont_cached - \u001b[1;30mDEBUG\u001b[0m - \u001b[32mfindfont: score(<Font 'Myanmar Sangam MN' (Myanmar Sangam MN.ttc) normal normal 400 normal>) = 10.05\u001b[0m\n",
      "\u001b[32m2019-07-06 13:42:50:\u001b[0m \u001b[34mmatplotlib.font_manager\u001b[0m - _findfont_cached - \u001b[1;30mDEBUG\u001b[0m - \u001b[32mfindfont: score(<Font 'Roboto Medium' (Roboto-Medium.ttf) normal normal medium normal>) = 10.145\u001b[0m\n",
      "\u001b[32m2019-07-06 13:42:50:\u001b[0m \u001b[34mmatplotlib.font_manager\u001b[0m - _findfont_cached - \u001b[1;30mDEBUG\u001b[0m - \u001b[32mfindfont: score(<Font 'Apple Braille' (Apple Braille.ttf) normal normal 400 normal>) = 10.05\u001b[0m\n",
      "\u001b[32m2019-07-06 13:42:50:\u001b[0m \u001b[34mmatplotlib.font_manager\u001b[0m - _findfont_cached - \u001b[1;30mDEBUG\u001b[0m - \u001b[32mfindfont: score(<Font 'STIXIntegralsUpSm' (STIXIntUpSmReg.otf) normal normal regular normal>) = 10.05\u001b[0m\n",
      "\u001b[32m2019-07-06 13:42:50:\u001b[0m \u001b[34mmatplotlib.font_manager\u001b[0m - _findfont_cached - \u001b[1;30mDEBUG\u001b[0m - \u001b[32mfindfont: score(<Font 'STIXIntegralsUp' (STIXIntUpReg.otf) normal normal regular normal>) = 10.05\u001b[0m\n",
      "\u001b[32m2019-07-06 13:42:50:\u001b[0m \u001b[34mmatplotlib.font_manager\u001b[0m - _findfont_cached - \u001b[1;30mDEBUG\u001b[0m - \u001b[32mfindfont: score(<Font 'Serto Malankara' (SyrCOMMalankara.otf) normal normal 400 normal>) = 10.05\u001b[0m\n",
      "\u001b[32m2019-07-06 13:42:50:\u001b[0m \u001b[34mmatplotlib.font_manager\u001b[0m - _findfont_cached - \u001b[1;30mDEBUG\u001b[0m - \u001b[32mfindfont: score(<Font 'Al Nile' (Al Nile.ttc) normal normal 400 normal>) = 10.05\u001b[0m\n",
      "\u001b[32m2019-07-06 13:42:50:\u001b[0m \u001b[34mmatplotlib.font_manager\u001b[0m - _findfont_cached - \u001b[1;30mDEBUG\u001b[0m - \u001b[32mfindfont: score(<Font 'STIXNonUnicode' (STIXNonUniIta.otf) italic normal 400 normal>) = 11.05\u001b[0m\n",
      "\u001b[32m2019-07-06 13:42:50:\u001b[0m \u001b[34mmatplotlib.font_manager\u001b[0m - _findfont_cached - \u001b[1;30mDEBUG\u001b[0m - \u001b[32mfindfont: score(<Font '.SF NS Display Condensed' (SFNSDisplayCondensed-Regular.otf) normal normal regular condensed>) = 10.25\u001b[0m\n",
      "\u001b[32m2019-07-06 13:42:50:\u001b[0m \u001b[34mmatplotlib.font_manager\u001b[0m - _findfont_cached - \u001b[1;30mDEBUG\u001b[0m - \u001b[32mfindfont: score(<Font '.SF Compact Rounded' (SFCompactRounded-Semibold.otf) normal normal semibold normal>) = 10.24\u001b[0m\n",
      "\u001b[32m2019-07-06 13:42:50:\u001b[0m \u001b[34mmatplotlib.font_manager\u001b[0m - _findfont_cached - \u001b[1;30mDEBUG\u001b[0m - \u001b[32mfindfont: score(<Font 'Weibei SC' (WeibeiSC-Bold.otf) normal normal bold normal>) = 10.335\u001b[0m\n",
      "\u001b[32m2019-07-06 13:42:50:\u001b[0m \u001b[34mmatplotlib.font_manager\u001b[0m - _findfont_cached - \u001b[1;30mDEBUG\u001b[0m - \u001b[32mfindfont: score(<Font 'Waseem' (Waseem.ttc) normal normal regular normal>) = 10.05\u001b[0m\n",
      "\u001b[32m2019-07-06 13:42:50:\u001b[0m \u001b[34mmatplotlib.font_manager\u001b[0m - _findfont_cached - \u001b[1;30mDEBUG\u001b[0m - \u001b[32mfindfont: score(<Font 'Sukhumvit Set' (SukhumvitSet.ttc) normal normal 400 normal>) = 10.05\u001b[0m\n",
      "\u001b[32m2019-07-06 13:42:50:\u001b[0m \u001b[34mmatplotlib.font_manager\u001b[0m - _findfont_cached - \u001b[1;30mDEBUG\u001b[0m - \u001b[32mfindfont: score(<Font 'PingFang HK' (PingFang.ttc) normal normal regular normal>) = 10.05\u001b[0m\n",
      "\u001b[32m2019-07-06 13:42:50:\u001b[0m \u001b[34mmatplotlib.font_manager\u001b[0m - _findfont_cached - \u001b[1;30mDEBUG\u001b[0m - \u001b[32mfindfont: score(<Font 'Noteworthy' (Noteworthy.ttc) normal normal light normal>) = 10.24\u001b[0m\n",
      "\u001b[32m2019-07-06 13:42:50:\u001b[0m \u001b[34mmatplotlib.font_manager\u001b[0m - _findfont_cached - \u001b[1;30mDEBUG\u001b[0m - \u001b[32mfindfont: score(<Font 'STIXSizeFourSym' (STIXSizFourSymReg.otf) normal normal regular normal>) = 10.05\u001b[0m\n"
     ]
    },
    {
     "name": "stdout",
     "output_type": "stream",
     "text": [
      "\u001b[32m2019-07-06 13:42:50:\u001b[0m \u001b[34mmatplotlib.font_manager\u001b[0m - _findfont_cached - \u001b[1;30mDEBUG\u001b[0m - \u001b[32mfindfont: score(<Font 'PCMyungjo' (PCmyoungjo.ttf) normal normal regular normal>) = 10.05\u001b[0m\n",
      "\u001b[32m2019-07-06 13:42:50:\u001b[0m \u001b[34mmatplotlib.font_manager\u001b[0m - _findfont_cached - \u001b[1;30mDEBUG\u001b[0m - \u001b[32mfindfont: score(<Font 'Trebuchet MS' (Trebuchet MS Italic.ttf) italic normal 400 normal>) = 11.05\u001b[0m\n",
      "\u001b[32m2019-07-06 13:42:50:\u001b[0m \u001b[34mmatplotlib.font_manager\u001b[0m - _findfont_cached - \u001b[1;30mDEBUG\u001b[0m - \u001b[32mfindfont: score(<Font '.SF Compact Rounded' (SFCompactRounded-Regular.otf) normal normal regular normal>) = 10.05\u001b[0m\n",
      "\u001b[32m2019-07-06 13:42:50:\u001b[0m \u001b[34mmatplotlib.font_manager\u001b[0m - _findfont_cached - \u001b[1;30mDEBUG\u001b[0m - \u001b[32mfindfont: score(<Font 'Telugu Sangam MN' (Telugu Sangam MN.ttc) normal normal 400 normal>) = 10.05\u001b[0m\n",
      "\u001b[32m2019-07-06 13:42:50:\u001b[0m \u001b[34mmatplotlib.font_manager\u001b[0m - _findfont_cached - \u001b[1;30mDEBUG\u001b[0m - \u001b[32mfindfont: score(<Font 'Apple SD Gothic Neo' (AppleSDGothicNeo.ttc) normal normal regular normal>) = 10.05\u001b[0m\n",
      "\u001b[32m2019-07-06 13:42:50:\u001b[0m \u001b[34mmatplotlib.font_manager\u001b[0m - _findfont_cached - \u001b[1;30mDEBUG\u001b[0m - \u001b[32mfindfont: score(<Font '.SF Compact Text' (SFCompactText-LightItalic.otf) italic normal light normal>) = 11.24\u001b[0m\n",
      "\u001b[32m2019-07-06 13:42:50:\u001b[0m \u001b[34mmatplotlib.font_manager\u001b[0m - _findfont_cached - \u001b[1;30mDEBUG\u001b[0m - \u001b[32mfindfont: score(<Font 'Mishafi Gold' (Mishafi Gold.ttf) normal normal regular normal>) = 10.05\u001b[0m\n",
      "\u001b[32m2019-07-06 13:42:50:\u001b[0m \u001b[34mmatplotlib.font_manager\u001b[0m - _findfont_cached - \u001b[1;30mDEBUG\u001b[0m - \u001b[32mfindfont: score(<Font '.SF Compact Text' (SFCompactText-Medium.otf) normal normal medium normal>) = 10.145\u001b[0m\n",
      "\u001b[32m2019-07-06 13:42:50:\u001b[0m \u001b[34mmatplotlib.font_manager\u001b[0m - _findfont_cached - \u001b[1;30mDEBUG\u001b[0m - \u001b[32mfindfont: score(<Font 'Kai' (Kai.ttf) normal normal regular normal>) = 10.05\u001b[0m\n",
      "\u001b[32m2019-07-06 13:42:50:\u001b[0m \u001b[34mmatplotlib.font_manager\u001b[0m - _findfont_cached - \u001b[1;30mDEBUG\u001b[0m - \u001b[32mfindfont: score(<Font 'Wingdings 3' (Wingdings 3.ttf) normal normal 400 normal>) = 10.05\u001b[0m\n",
      "\u001b[32m2019-07-06 13:42:50:\u001b[0m \u001b[34mmatplotlib.font_manager\u001b[0m - _findfont_cached - \u001b[1;30mDEBUG\u001b[0m - \u001b[32mfindfont: score(<Font '.SF Compact Display' (SFCompactDisplay-Regular.otf) normal normal regular normal>) = 10.05\u001b[0m\n",
      "\u001b[32m2019-07-06 13:42:50:\u001b[0m \u001b[34mmatplotlib.font_manager\u001b[0m - _findfont_cached - \u001b[1;30mDEBUG\u001b[0m - \u001b[32mfindfont: score(<Font 'Futura' (Futura.ttc) normal normal medium normal>) = 10.145\u001b[0m\n",
      "\u001b[32m2019-07-06 13:42:50:\u001b[0m \u001b[34mmatplotlib.font_manager\u001b[0m - _findfont_cached - \u001b[1;30mDEBUG\u001b[0m - \u001b[32mfindfont: score(<Font 'LiHei Pro' (LiHeiPro.ttf) normal normal 400 normal>) = 10.05\u001b[0m\n",
      "\u001b[32m2019-07-06 13:42:50:\u001b[0m \u001b[34mmatplotlib.font_manager\u001b[0m - _findfont_cached - \u001b[1;30mDEBUG\u001b[0m - \u001b[32mfindfont: score(<Font 'STIXIntegralsSm' (STIXIntSmBol.otf) normal normal bold normal>) = 10.335\u001b[0m\n",
      "\u001b[32m2019-07-06 13:42:50:\u001b[0m \u001b[34mmatplotlib.font_manager\u001b[0m - _findfont_cached - \u001b[1;30mDEBUG\u001b[0m - \u001b[32mfindfont: score(<Font 'Estrangelo Nisibin' (SyrCOMNisibin.otf) normal normal 400 normal>) = 10.05\u001b[0m\n",
      "\u001b[32m2019-07-06 13:42:50:\u001b[0m \u001b[34mmatplotlib.font_manager\u001b[0m - _findfont_cached - \u001b[1;30mDEBUG\u001b[0m - \u001b[32mfindfont: score(<Font 'Hiragino Mincho ProN' (ヒラギノ明朝 ProN.ttc) normal normal 400 normal>) = 10.05\u001b[0m\n",
      "\u001b[32m2019-07-06 13:42:50:\u001b[0m \u001b[34mmatplotlib.font_manager\u001b[0m - _findfont_cached - \u001b[1;30mDEBUG\u001b[0m - \u001b[32mfindfont: score(<Font 'Hiragino Sans' (ヒラギノ角ゴシック W3.ttc) normal normal 400 normal>) = 10.05\u001b[0m\n",
      "\u001b[32m2019-07-06 13:42:50:\u001b[0m \u001b[34mmatplotlib.font_manager\u001b[0m - _findfont_cached - \u001b[1;30mDEBUG\u001b[0m - \u001b[32mfindfont: score(<Font 'Arial' (Arial.ttf) normal normal 400 normal>) = 0.05\u001b[0m\n",
      "\u001b[32m2019-07-06 13:42:50:\u001b[0m \u001b[34mmatplotlib.font_manager\u001b[0m - _findfont_cached - \u001b[1;30mDEBUG\u001b[0m - \u001b[32mfindfont: score(<Font 'Farisi' (Farisi.ttf) normal normal regular normal>) = 10.05\u001b[0m\n",
      "\u001b[32m2019-07-06 13:42:50:\u001b[0m \u001b[34mmatplotlib.font_manager\u001b[0m - _findfont_cached - \u001b[1;30mDEBUG\u001b[0m - \u001b[32mfindfont: score(<Font '.SF NS Text Condensed' (SFNSTextCondensed-Light.otf) normal normal light condensed>) = 10.44\u001b[0m\n",
      "\u001b[32m2019-07-06 13:42:50:\u001b[0m \u001b[34mmatplotlib.font_manager\u001b[0m - _findfont_cached - \u001b[1;30mDEBUG\u001b[0m - \u001b[32mfindfont: score(<Font 'DIN Alternate' (DIN Alternate Bold.ttf) normal normal bold normal>) = 10.335\u001b[0m\n",
      "\u001b[32m2019-07-06 13:42:50:\u001b[0m \u001b[34mmatplotlib.font_manager\u001b[0m - _findfont_cached - \u001b[1;30mDEBUG\u001b[0m - \u001b[32mfindfont: score(<Font '.SF NS Text Condensed' (SFNSTextCondensed-Bold.otf) normal normal bold condensed>) = 10.535\u001b[0m\n",
      "\u001b[32m2019-07-06 13:42:50:\u001b[0m \u001b[34mmatplotlib.font_manager\u001b[0m - _findfont_cached - \u001b[1;30mDEBUG\u001b[0m - \u001b[32mfindfont: score(<Font '.LastResort' (LastResort.otf) normal normal 400 normal>) = 10.05\u001b[0m\n",
      "\u001b[32m2019-07-06 13:42:50:\u001b[0m \u001b[34mmatplotlib.font_manager\u001b[0m - _findfont_cached - \u001b[1;30mDEBUG\u001b[0m - \u001b[32mfindfont: score(<Font 'Bitstream Vera Sans' (VeraIt.ttf) oblique normal 400 normal>) = 7.05\u001b[0m\n",
      "\u001b[32m2019-07-06 13:42:50:\u001b[0m \u001b[34mmatplotlib.font_manager\u001b[0m - _findfont_cached - \u001b[1;30mDEBUG\u001b[0m - \u001b[32mfindfont: score(<Font 'STFangsong' (STFANGSO.ttf) normal normal 400 normal>) = 10.05\u001b[0m\n",
      "\u001b[32m2019-07-06 13:42:50:\u001b[0m \u001b[34mmatplotlib.font_manager\u001b[0m - _findfont_cached - \u001b[1;30mDEBUG\u001b[0m - \u001b[32mfindfont: score(<Font 'Montserrat SemiBold' (Montserrat-SemiBoldItalic.ttf) italic normal semibold normal>) = 11.24\u001b[0m\n",
      "\u001b[32m2019-07-06 13:42:50:\u001b[0m \u001b[34mmatplotlib.font_manager\u001b[0m - _findfont_cached - \u001b[1;30mDEBUG\u001b[0m - \u001b[32mfindfont: score(<Font 'Nanum Brush Script' (NanumScript.ttc) normal normal 400 normal>) = 10.05\u001b[0m\n",
      "\u001b[32m2019-07-06 13:42:50:\u001b[0m \u001b[34mmatplotlib.font_manager\u001b[0m - _findfont_cached - \u001b[1;30mDEBUG\u001b[0m - \u001b[32mfindfont: score(<Font 'YuGothic' (YuGothic-Bold.otf) normal normal bold normal>) = 10.335\u001b[0m\n",
      "\u001b[32m2019-07-06 13:42:50:\u001b[0m \u001b[34mmatplotlib.font_manager\u001b[0m - _findfont_cached - \u001b[1;30mDEBUG\u001b[0m - \u001b[32mfindfont: score(<Font '.SF Compact Rounded' (SFCompactRounded-Ultralight.otf) normal normal ultralight normal>) = 10.335\u001b[0m\n",
      "\u001b[32m2019-07-06 13:42:50:\u001b[0m \u001b[34mmatplotlib.font_manager\u001b[0m - _findfont_cached - \u001b[1;30mDEBUG\u001b[0m - \u001b[32mfindfont: score(<Font 'Hiragino Maru Gothic Pro' (ヒラギノ丸ゴ ProN W4.ttc) normal normal 400 normal>) = 10.05\u001b[0m\n",
      "\u001b[32m2019-07-06 13:42:50:\u001b[0m \u001b[34mmatplotlib.font_manager\u001b[0m - _findfont_cached - \u001b[1;30mDEBUG\u001b[0m - \u001b[32mfindfont: score(<Font '.SF NS Display Condensed' (SFNSDisplayCondensed-Light.otf) normal normal light condensed>) = 10.44\u001b[0m\n",
      "\u001b[32m2019-07-06 13:42:50:\u001b[0m \u001b[34mmatplotlib.font_manager\u001b[0m - _findfont_cached - \u001b[1;30mDEBUG\u001b[0m - \u001b[32mfindfont: score(<Font 'Savoye LET' (Savoye LET.ttc) normal normal 400 normal>) = 10.05\u001b[0m\n",
      "\u001b[32m2019-07-06 13:42:50:\u001b[0m \u001b[34mmatplotlib.font_manager\u001b[0m - _findfont_cached - \u001b[1;30mDEBUG\u001b[0m - \u001b[32mfindfont: score(<Font 'Helvetica' (Helvetica.ttc) normal normal 400 normal>) = 10.05\u001b[0m\n",
      "\u001b[32m2019-07-06 13:42:50:\u001b[0m \u001b[34mmatplotlib.font_manager\u001b[0m - _findfont_cached - \u001b[1;30mDEBUG\u001b[0m - \u001b[32mfindfont: score(<Font 'Luxi Sans' (luxisr.ttf) normal normal regular normal>) = 10.05\u001b[0m\n",
      "\u001b[32m2019-07-06 13:42:50:\u001b[0m \u001b[34mmatplotlib.font_manager\u001b[0m - _findfont_cached - \u001b[1;30mDEBUG\u001b[0m - \u001b[32mfindfont: score(<Font 'Estrangelo Talada' (SyrCOMTalada.otf) normal normal 400 normal>) = 10.05\u001b[0m\n",
      "\u001b[32m2019-07-06 13:42:50:\u001b[0m \u001b[34mmatplotlib.font_manager\u001b[0m - _findfont_cached - \u001b[1;30mDEBUG\u001b[0m - \u001b[32mfindfont: score(<Font 'Montserrat Medium' (Montserrat-Medium.ttf) normal normal medium normal>) = 10.145\u001b[0m\n",
      "\u001b[32m2019-07-06 13:42:50:\u001b[0m \u001b[34mmatplotlib.font_manager\u001b[0m - _findfont_cached - \u001b[1;30mDEBUG\u001b[0m - \u001b[32mfindfont: score(<Font 'System Font' (SFNSDisplay-ThinG2.otf) normal normal 400 normal>) = 10.05\u001b[0m\n",
      "\u001b[32m2019-07-06 13:42:50:\u001b[0m \u001b[34mmatplotlib.font_manager\u001b[0m - _findfont_cached - \u001b[1;30mDEBUG\u001b[0m - \u001b[32mfindfont: score(<Font 'Avenir Next' (Avenir Next.ttc) normal normal bold normal>) = 10.335\u001b[0m\n",
      "\u001b[32m2019-07-06 13:42:50:\u001b[0m \u001b[34mmatplotlib.font_manager\u001b[0m - _findfont_cached - \u001b[1;30mDEBUG\u001b[0m - \u001b[32mfindfont: score(<Font 'Kohinoor Devanagari' (Kohinoor.ttc) normal normal regular normal>) = 10.05\u001b[0m\n",
      "\u001b[32m2019-07-06 13:42:50:\u001b[0m \u001b[34mmatplotlib.font_manager\u001b[0m - _findfont_cached - \u001b[1;30mDEBUG\u001b[0m - \u001b[32mfindfont: score(<Font 'Geeza Pro' (GeezaPro.ttc) normal normal regular normal>) = 10.05\u001b[0m\n"
     ]
    },
    {
     "name": "stdout",
     "output_type": "stream",
     "text": [
      "\u001b[32m2019-07-06 13:42:50:\u001b[0m \u001b[34mmatplotlib.font_manager\u001b[0m - _findfont_cached - \u001b[1;30mDEBUG\u001b[0m - \u001b[32mfindfont: score(<Font 'Sathu' (Sathu.ttf) normal normal 400 normal>) = 10.05\u001b[0m\n",
      "\u001b[32m2019-07-06 13:42:50:\u001b[0m \u001b[34mmatplotlib.font_manager\u001b[0m - _findfont_cached - \u001b[1;30mDEBUG\u001b[0m - \u001b[32mfindfont: score(<Font 'Comic Sans MS' (Comic Sans MS.ttf) normal normal 400 normal>) = 10.05\u001b[0m\n",
      "\u001b[32m2019-07-06 13:42:50:\u001b[0m \u001b[34mmatplotlib.font_manager\u001b[0m - _findfont_cached - \u001b[1;30mDEBUG\u001b[0m - \u001b[32mfindfont: score(<Font 'System Font' (SFNSDisplay-HeavyItalic.otf) italic normal heavy normal>) = 11.43\u001b[0m\n",
      "\u001b[32m2019-07-06 13:42:50:\u001b[0m \u001b[34mmatplotlib.font_manager\u001b[0m - _findfont_cached - \u001b[1;30mDEBUG\u001b[0m - \u001b[32mfindfont: score(<Font 'Avenir' (Avenir.ttc) normal normal book normal>) = 10.05\u001b[0m\n",
      "\u001b[32m2019-07-06 13:42:50:\u001b[0m \u001b[34mmatplotlib.font_manager\u001b[0m - _findfont_cached - \u001b[1;30mDEBUG\u001b[0m - \u001b[32mfindfont: score(<Font 'Songti SC' (Songti.ttc) normal normal black normal>) = 10.525\u001b[0m\n",
      "\u001b[32m2019-07-06 13:42:50:\u001b[0m \u001b[34mmatplotlib.font_manager\u001b[0m - _findfont_cached - \u001b[1;30mDEBUG\u001b[0m - \u001b[32mfindfont: score(<Font 'Al Tarikh' (Al Tarikh.ttc) normal normal regular normal>) = 10.05\u001b[0m\n",
      "\u001b[32m2019-07-06 13:42:50:\u001b[0m \u001b[34mmatplotlib.font_manager\u001b[0m - _findfont_cached - \u001b[1;30mDEBUG\u001b[0m - \u001b[32mfindfont: score(<Font '.SF Compact Text' (SFCompactText-SemiboldItalic.otf) italic normal semibold normal>) = 11.24\u001b[0m\n",
      "\u001b[32m2019-07-06 13:42:50:\u001b[0m \u001b[34mmatplotlib.font_manager\u001b[0m - _findfont_cached - \u001b[1;30mDEBUG\u001b[0m - \u001b[32mfindfont: score(<Font 'Phosphate' (Phosphate.ttc) normal normal 400 normal>) = 10.05\u001b[0m\n",
      "\u001b[32m2019-07-06 13:42:50:\u001b[0m \u001b[34mmatplotlib.font_manager\u001b[0m - _findfont_cached - \u001b[1;30mDEBUG\u001b[0m - \u001b[32mfindfont: score(<Font 'Bangla MN' (Bangla MN.ttc) normal normal 400 normal>) = 10.05\u001b[0m\n",
      "\u001b[32m2019-07-06 13:42:50:\u001b[0m \u001b[34mmatplotlib.font_manager\u001b[0m - _findfont_cached - \u001b[1;30mDEBUG\u001b[0m - \u001b[32mfindfont: score(<Font 'STIXIntegralsSm' (STIXIntSmReg.otf) normal normal regular normal>) = 10.05\u001b[0m\n",
      "\u001b[32m2019-07-06 13:42:50:\u001b[0m \u001b[34mmatplotlib.font_manager\u001b[0m - _findfont_cached - \u001b[1;30mDEBUG\u001b[0m - \u001b[32mfindfont: score(<Font 'Optima' (Optima.ttc) normal normal regular normal>) = 10.05\u001b[0m\n",
      "\u001b[32m2019-07-06 13:42:50:\u001b[0m \u001b[34mmatplotlib.font_manager\u001b[0m - _findfont_cached - \u001b[1;30mDEBUG\u001b[0m - \u001b[32mfindfont: score(<Font 'Roboto Black' (Roboto-BlackItalic.ttf) italic normal black normal>) = 11.525\u001b[0m\n",
      "\u001b[32m2019-07-06 13:42:50:\u001b[0m \u001b[34mmatplotlib.font_manager\u001b[0m - _findfont_cached - \u001b[1;30mDEBUG\u001b[0m - \u001b[32mfindfont: score(<Font 'Hannotate SC' (Hannotate.ttc) normal normal regular normal>) = 10.05\u001b[0m\n",
      "\u001b[32m2019-07-06 13:42:50:\u001b[0m \u001b[34mmatplotlib.font_manager\u001b[0m - _findfont_cached - \u001b[1;30mDEBUG\u001b[0m - \u001b[32mfindfont: score(<Font 'Lao Sangam MN' (Lao Sangam MN.ttf) normal normal 400 normal>) = 10.05\u001b[0m\n",
      "\u001b[32m2019-07-06 13:42:50:\u001b[0m \u001b[34mmatplotlib.font_manager\u001b[0m - _findfont_cached - \u001b[1;30mDEBUG\u001b[0m - \u001b[32mfindfont: score(<Font '.SF NS Symbols' (SFNSSymbols-Bold.otf) normal normal bold normal>) = 10.335\u001b[0m\n",
      "\u001b[32m2019-07-06 13:42:50:\u001b[0m \u001b[34mmatplotlib.font_manager\u001b[0m - _findfont_cached - \u001b[1;30mDEBUG\u001b[0m - \u001b[32mfindfont: score(<Font 'Khmer Sangam MN' (Khmer Sangam MN.ttf) normal normal 400 normal>) = 10.05\u001b[0m\n",
      "\u001b[32m2019-07-06 13:42:50:\u001b[0m \u001b[34mmatplotlib.font_manager\u001b[0m - _findfont_cached - \u001b[1;30mDEBUG\u001b[0m - \u001b[32mfindfont: score(<Font 'System Font' (SFNSDisplay-UltralightItalic.otf) italic normal ultralight normal>) = 11.335\u001b[0m\n",
      "\u001b[32m2019-07-06 13:42:50:\u001b[0m \u001b[34mmatplotlib.font_manager\u001b[0m - _findfont_cached - \u001b[1;30mDEBUG\u001b[0m - \u001b[32mfindfont: score(<Font 'System Font' (SFNSDisplay-SemiboldItalic.otf) italic normal semibold normal>) = 11.24\u001b[0m\n",
      "\u001b[32m2019-07-06 13:42:50:\u001b[0m \u001b[34mmatplotlib.font_manager\u001b[0m - _findfont_cached - \u001b[1;30mDEBUG\u001b[0m - \u001b[32mfindfont: score(<Font 'Montserrat' (Montserrat-Bold.ttf) normal normal bold normal>) = 10.335\u001b[0m\n",
      "\u001b[32m2019-07-06 13:42:50:\u001b[0m \u001b[34mmatplotlib.font_manager\u001b[0m - _findfont_cached - \u001b[1;30mDEBUG\u001b[0m - \u001b[32mfindfont: score(<Font 'STIXSizeTwoSym' (STIXSizTwoSymReg.otf) normal normal regular normal>) = 10.05\u001b[0m\n",
      "\u001b[32m2019-07-06 13:42:50:\u001b[0m \u001b[34mmatplotlib.font_manager\u001b[0m - _findfont_cached - \u001b[1;30mDEBUG\u001b[0m - \u001b[32mfindfont: score(<Font 'LingWai TC' (LingWaiTC-Medium.otf) normal normal medium normal>) = 10.145\u001b[0m\n",
      "\u001b[32m2019-07-06 13:42:50:\u001b[0m \u001b[34mmatplotlib.font_manager\u001b[0m - _findfont_cached - \u001b[1;30mDEBUG\u001b[0m - \u001b[32mfindfont: score(<Font 'STIXIntegralsUpD' (STIXIntUpDBol.otf) normal normal bold normal>) = 10.335\u001b[0m\n",
      "\u001b[32m2019-07-06 13:42:50:\u001b[0m \u001b[34mmatplotlib.font_manager\u001b[0m - _findfont_cached - \u001b[1;30mDEBUG\u001b[0m - \u001b[32mfindfont: score(<Font 'Tahoma' (Tahoma Bold.ttf) normal normal bold normal>) = 10.335\u001b[0m\n",
      "\u001b[32m2019-07-06 13:42:50:\u001b[0m \u001b[34mmatplotlib.font_manager\u001b[0m - _findfont_cached - \u001b[1;30mDEBUG\u001b[0m - \u001b[32mfindfont: score(<Font 'System Font' (SFNSDisplay-ThinG3.otf) normal normal 400 normal>) = 10.05\u001b[0m\n",
      "\u001b[32m2019-07-06 13:42:50:\u001b[0m \u001b[34mmatplotlib.font_manager\u001b[0m - _findfont_cached - \u001b[1;30mDEBUG\u001b[0m - \u001b[32mfindfont: score(<Font 'Goha-Tibeb Zemen' (GohaTibebZemen.otf) normal normal 400 normal>) = 10.05\u001b[0m\n",
      "\u001b[32m2019-07-06 13:42:50:\u001b[0m \u001b[34mmatplotlib.font_manager\u001b[0m - _findfont_cached - \u001b[1;30mDEBUG\u001b[0m - \u001b[32mfindfont: score(<Font 'Trebuchet MS' (Trebuchet MS Bold.ttf) normal normal bold normal>) = 10.335\u001b[0m\n",
      "\u001b[32m2019-07-06 13:42:50:\u001b[0m \u001b[34mmatplotlib.font_manager\u001b[0m - _findfont_cached - \u001b[1;30mDEBUG\u001b[0m - \u001b[32mfindfont: score(<Font '.SF NS Text Condensed' (SFNSTextCondensed-Semibold.otf) normal normal semibold condensed>) = 10.44\u001b[0m\n",
      "\u001b[32m2019-07-06 13:42:50:\u001b[0m \u001b[34mmatplotlib.font_manager\u001b[0m - _findfont_cached - \u001b[1;30mDEBUG\u001b[0m - \u001b[32mfindfont: score(<Font 'STIXSizeFiveSym' (STIXSizFiveSymReg.otf) normal normal regular normal>) = 10.05\u001b[0m\n",
      "\u001b[32m2019-07-06 13:42:50:\u001b[0m \u001b[34mmatplotlib.font_manager\u001b[0m - _findfont_cached - \u001b[1;30mDEBUG\u001b[0m - \u001b[32mfindfont: score(<Font 'Gurmukhi MT' (Gurmukhi.ttf) normal normal 400 normal>) = 10.05\u001b[0m\n",
      "\u001b[32m2019-07-06 13:42:50:\u001b[0m \u001b[34mmatplotlib.font_manager\u001b[0m - _findfont_cached - \u001b[1;30mDEBUG\u001b[0m - \u001b[32mfindfont: score(<Font 'Papyrus' (Papyrus.ttc) normal normal 400 condensed>) = 10.25\u001b[0m\n",
      "\u001b[32m2019-07-06 13:42:50:\u001b[0m \u001b[34mmatplotlib.font_manager\u001b[0m - _findfont_cached - \u001b[1;30mDEBUG\u001b[0m - \u001b[32mfindfont: score(<Font 'Devanagari MT' (DevanagariMT.ttc) normal normal 400 normal>) = 10.05\u001b[0m\n",
      "\u001b[32m2019-07-06 13:42:50:\u001b[0m \u001b[34mmatplotlib.font_manager\u001b[0m - _findfont_cached - \u001b[1;30mDEBUG\u001b[0m - \u001b[32mfindfont: score(<Font '.SF Compact Rounded' (SFCompactRounded-Light.otf) normal normal light normal>) = 10.24\u001b[0m\n",
      "\u001b[32m2019-07-06 13:42:50:\u001b[0m \u001b[34mmatplotlib.font_manager\u001b[0m - _findfont_cached - \u001b[1;30mDEBUG\u001b[0m - \u001b[32mfindfont: score(<Font 'Wawati SC' (WawaSC-Regular.otf) normal normal regular normal>) = 10.05\u001b[0m\n",
      "\u001b[32m2019-07-06 13:42:50:\u001b[0m \u001b[34mmatplotlib.font_manager\u001b[0m - _findfont_cached - \u001b[1;30mDEBUG\u001b[0m - \u001b[32mfindfont: score(<Font '.SF Compact Display' (SFCompactDisplay-Black.otf) normal normal black normal>) = 10.525\u001b[0m\n",
      "\u001b[32m2019-07-06 13:42:50:\u001b[0m \u001b[34mmatplotlib.font_manager\u001b[0m - _findfont_cached - \u001b[1;30mDEBUG\u001b[0m - \u001b[32mfindfont: score(<Font 'Bitstream Vera Sans Mono' (VeraMoBd.ttf) normal normal bold normal>) = 10.335\u001b[0m\n",
      "\u001b[32m2019-07-06 13:42:50:\u001b[0m \u001b[34mmatplotlib.font_manager\u001b[0m - _findfont_cached - \u001b[1;30mDEBUG\u001b[0m - \u001b[32mfindfont: score(<Font 'Times New Roman' (Times New Roman Bold.ttf) normal normal roman normal>) = 10.145\u001b[0m\n",
      "\u001b[32m2019-07-06 13:42:50:\u001b[0m \u001b[34mmatplotlib.font_manager\u001b[0m - _findfont_cached - \u001b[1;30mDEBUG\u001b[0m - \u001b[32mfindfont: score(<Font 'Marion' (Marion.ttc) normal normal regular normal>) = 10.05\u001b[0m\n",
      "\u001b[32m2019-07-06 13:42:50:\u001b[0m \u001b[34mmatplotlib.font_manager\u001b[0m - _findfont_cached - \u001b[1;30mDEBUG\u001b[0m - \u001b[32mfindfont: score(<Font 'Luxi Mono' (luximbi.ttf) oblique normal bold normal>) = 11.335\u001b[0m\n",
      "\u001b[32m2019-07-06 13:42:50:\u001b[0m \u001b[34mmatplotlib.font_manager\u001b[0m - _findfont_cached - \u001b[1;30mDEBUG\u001b[0m - \u001b[32mfindfont: score(<Font 'Cochin' (Cochin.ttc) normal normal 400 normal>) = 10.05\u001b[0m\n",
      "\u001b[32m2019-07-06 13:42:50:\u001b[0m \u001b[34mmatplotlib.font_manager\u001b[0m - _findfont_cached - \u001b[1;30mDEBUG\u001b[0m - \u001b[32mfindfont: score(<Font '.SF Compact Rounded' (SFCompactRounded-Heavy.otf) normal normal heavy normal>) = 10.43\u001b[0m\n"
     ]
    },
    {
     "name": "stdout",
     "output_type": "stream",
     "text": [
      "\u001b[32m2019-07-06 13:42:50:\u001b[0m \u001b[34mmatplotlib.font_manager\u001b[0m - _findfont_cached - \u001b[1;30mDEBUG\u001b[0m - \u001b[32mfindfont: score(<Font 'Montserrat ExtraLight' (Montserrat-ExtraLightItalic.ttf) italic normal light normal>) = 11.24\u001b[0m\n",
      "\u001b[32m2019-07-06 13:42:50:\u001b[0m \u001b[34mmatplotlib.font_manager\u001b[0m - _findfont_cached - \u001b[1;30mDEBUG\u001b[0m - \u001b[32mfindfont: score(<Font 'System Font' (SFNSText.ttf) normal normal 400 normal>) = 10.05\u001b[0m\n",
      "\u001b[32m2019-07-06 13:42:50:\u001b[0m \u001b[34mmatplotlib.font_manager\u001b[0m - _findfont_cached - \u001b[1;30mDEBUG\u001b[0m - \u001b[32mfindfont: score(<Font 'Chalkboard SE' (ChalkboardSE.ttc) normal normal light normal>) = 10.24\u001b[0m\n",
      "\u001b[32m2019-07-06 13:42:50:\u001b[0m \u001b[34mmatplotlib.font_manager\u001b[0m - _findfont_cached - \u001b[1;30mDEBUG\u001b[0m - \u001b[32mfindfont: score(<Font 'Serto Batnan' (SyrCOMBatnan.otf) normal normal 400 normal>) = 10.05\u001b[0m\n",
      "\u001b[32m2019-07-06 13:42:50:\u001b[0m \u001b[34mmatplotlib.font_manager\u001b[0m - _findfont_cached - \u001b[1;30mDEBUG\u001b[0m - \u001b[32mfindfont: score(<Font 'PT Serif' (PTSerif.ttc) normal normal 400 normal>) = 10.05\u001b[0m\n",
      "\u001b[32m2019-07-06 13:42:50:\u001b[0m \u001b[34mmatplotlib.font_manager\u001b[0m - _findfont_cached - \u001b[1;30mDEBUG\u001b[0m - \u001b[32mfindfont: score(<Font 'Iowan Old Style' (Iowan Old Style.ttc) normal normal roman normal>) = 10.145\u001b[0m\n",
      "\u001b[32m2019-07-06 13:42:50:\u001b[0m \u001b[34mmatplotlib.font_manager\u001b[0m - _findfont_cached - \u001b[1;30mDEBUG\u001b[0m - \u001b[32mfindfont: score(<Font 'Roboto' (Roboto-Regular.ttf) normal normal 400 normal>) = 10.05\u001b[0m\n",
      "\u001b[32m2019-07-06 13:42:50:\u001b[0m \u001b[34mmatplotlib.font_manager\u001b[0m - _findfont_cached - \u001b[1;30mDEBUG\u001b[0m - \u001b[32mfindfont: score(<Font 'Arial Narrow' (Arial Narrow Bold.ttf) normal normal bold condensed>) = 10.535\u001b[0m\n",
      "\u001b[32m2019-07-06 13:42:50:\u001b[0m \u001b[34mmatplotlib.font_manager\u001b[0m - _findfont_cached - \u001b[1;30mDEBUG\u001b[0m - \u001b[32mfindfont: score(<Font '.Keyboard' (Keyboard.ttf) normal normal 400 normal>) = 10.05\u001b[0m\n",
      "\u001b[32m2019-07-06 13:42:50:\u001b[0m \u001b[34mmatplotlib.font_manager\u001b[0m - _findfont_cached - \u001b[1;30mDEBUG\u001b[0m - \u001b[32mfindfont: score(<Font 'Gujarati MT' (GujaratiMT.ttc) normal normal 400 normal>) = 10.05\u001b[0m\n",
      "\u001b[32m2019-07-06 13:42:50:\u001b[0m \u001b[34mmatplotlib.font_manager\u001b[0m - _findfont_cached - \u001b[1;30mDEBUG\u001b[0m - \u001b[32mfindfont: score(<Font 'Superclarendon' (SuperClarendon.ttc) normal normal regular normal>) = 10.05\u001b[0m\n",
      "\u001b[32m2019-07-06 13:42:50:\u001b[0m \u001b[34mmatplotlib.font_manager\u001b[0m - _findfont_cached - \u001b[1;30mDEBUG\u001b[0m - \u001b[32mfindfont: score(<Font 'Montserrat' (Montserrat-Regular.ttf) normal normal regular normal>) = 10.05\u001b[0m\n",
      "\u001b[32m2019-07-06 13:42:50:\u001b[0m \u001b[34mmatplotlib.font_manager\u001b[0m - _findfont_cached - \u001b[1;30mDEBUG\u001b[0m - \u001b[32mfindfont: score(<Font 'Chalkduster' (Chalkduster.ttf) normal normal 400 normal>) = 10.05\u001b[0m\n",
      "\u001b[32m2019-07-06 13:42:50:\u001b[0m \u001b[34mmatplotlib.font_manager\u001b[0m - _findfont_cached - \u001b[1;30mDEBUG\u001b[0m - \u001b[32mfindfont: score(<Font '.SF Compact Text' (SFCompactText-Bold.otf) normal normal bold normal>) = 10.335\u001b[0m\n",
      "\u001b[32m2019-07-06 13:42:50:\u001b[0m \u001b[34mmatplotlib.font_manager\u001b[0m - _findfont_cached - \u001b[1;30mDEBUG\u001b[0m - \u001b[32mfindfont: score(<Font 'Times New Roman' (Times New Roman.ttf) normal normal roman normal>) = 10.145\u001b[0m\n",
      "\u001b[32m2019-07-06 13:42:50:\u001b[0m \u001b[34mmatplotlib.font_manager\u001b[0m - _findfont_cached - \u001b[1;30mDEBUG\u001b[0m - \u001b[32mfindfont: score(<Font 'STIXNonUnicode' (STIXNonUniBol.otf) normal normal bold normal>) = 10.335\u001b[0m\n",
      "\u001b[32m2019-07-06 13:42:50:\u001b[0m \u001b[34mmatplotlib.font_manager\u001b[0m - _findfont_cached - \u001b[1;30mDEBUG\u001b[0m - \u001b[32mfindfont: score(<Font 'YuGothic' (YuGothic-Medium.otf) normal normal medium normal>) = 10.145\u001b[0m\n",
      "\u001b[32m2019-07-06 13:42:50:\u001b[0m \u001b[34mmatplotlib.font_manager\u001b[0m - _findfont_cached - \u001b[1;30mDEBUG\u001b[0m - \u001b[32mfindfont: score(<Font 'Arial' (Arial Italic.ttf) italic normal 400 normal>) = 1.05\u001b[0m\n",
      "\u001b[32m2019-07-06 13:42:50:\u001b[0m \u001b[34mmatplotlib.font_manager\u001b[0m - _findfont_cached - \u001b[1;30mDEBUG\u001b[0m - \u001b[32mfindfont: score(<Font 'Montserrat Thin' (Montserrat-Thin.ttf) normal normal 400 normal>) = 10.05\u001b[0m\n",
      "\u001b[32m2019-07-06 13:42:50:\u001b[0m \u001b[34mmatplotlib.font_manager\u001b[0m - _findfont_cached - \u001b[1;30mDEBUG\u001b[0m - \u001b[32mfindfont: score(<Font 'System Font' (SFNSTextItalic.ttf) italic normal 400 normal>) = 11.05\u001b[0m\n",
      "\u001b[32m2019-07-06 13:42:50:\u001b[0m \u001b[34mmatplotlib.font_manager\u001b[0m - _findfont_cached - \u001b[1;30mDEBUG\u001b[0m - \u001b[32mfindfont: score(<Font '.SF NS Symbols' (SFNSSymbols-Semibold.otf) normal normal semibold normal>) = 10.24\u001b[0m\n",
      "\u001b[32m2019-07-06 13:42:50:\u001b[0m \u001b[34mmatplotlib.font_manager\u001b[0m - _findfont_cached - \u001b[1;30mDEBUG\u001b[0m - \u001b[32mfindfont: score(<Font 'HanziPen SC' (Hanzipen.ttc) normal normal regular normal>) = 10.05\u001b[0m\n",
      "\u001b[32m2019-07-06 13:42:50:\u001b[0m \u001b[34mmatplotlib.font_manager\u001b[0m - _findfont_cached - \u001b[1;30mDEBUG\u001b[0m - \u001b[32mfindfont: score(<Font 'Symbol' (Symbol.ttf) normal normal 400 normal>) = 10.05\u001b[0m\n",
      "\u001b[32m2019-07-06 13:42:50:\u001b[0m \u001b[34mmatplotlib.font_manager\u001b[0m - _findfont_cached - \u001b[1;30mDEBUG\u001b[0m - \u001b[32mfindfont: score(<Font 'Arial Unicode MS' (Arial Unicode.ttf) normal normal 400 normal>) = 10.05\u001b[0m\n",
      "\u001b[32m2019-07-06 13:42:50:\u001b[0m \u001b[34mmatplotlib.font_manager\u001b[0m - _findfont_cached - \u001b[1;30mDEBUG\u001b[0m - \u001b[32mfindfont: score(<Font 'STIXSizeFourSym' (STIXSizFourSymBol.otf) normal normal bold normal>) = 10.335\u001b[0m\n",
      "\u001b[32m2019-07-06 13:42:50:\u001b[0m \u001b[34mmatplotlib.font_manager\u001b[0m - _findfont_cached - \u001b[1;30mDEBUG\u001b[0m - \u001b[32mfindfont: score(<Font 'Bitstream Vera Sans' (Vera.ttf) normal normal 400 normal>) = 6.05\u001b[0m\n",
      "\u001b[32m2019-07-06 13:42:50:\u001b[0m \u001b[34mmatplotlib.font_manager\u001b[0m - _findfont_cached - \u001b[1;30mDEBUG\u001b[0m - \u001b[32mfindfont: score(<Font 'Athelas' (Athelas.ttc) normal normal regular normal>) = 10.05\u001b[0m\n",
      "\u001b[32m2019-07-06 13:42:50:\u001b[0m \u001b[34mmatplotlib.font_manager\u001b[0m - _findfont_cached - \u001b[1;30mDEBUG\u001b[0m - \u001b[32mfindfont: score(<Font '.SF Compact Text' (SFCompactText-BoldItalic.otf) italic normal bold normal>) = 11.335\u001b[0m\n",
      "\u001b[32m2019-07-06 13:42:50:\u001b[0m \u001b[34mmatplotlib.font_manager\u001b[0m - _findfont_cached - \u001b[1;30mDEBUG\u001b[0m - \u001b[32mfindfont: score(<Font 'Luxi Mono' (luximri.ttf) oblique normal 400 normal>) = 11.05\u001b[0m\n",
      "\u001b[32m2019-07-06 13:42:50:\u001b[0m \u001b[34mmatplotlib.font_manager\u001b[0m - _findfont_cached - \u001b[1;30mDEBUG\u001b[0m - \u001b[32mfindfont: score(<Font 'Corsiva Hebrew' (Corsiva.ttc) normal normal 400 normal>) = 10.05\u001b[0m\n",
      "\u001b[32m2019-07-06 13:42:50:\u001b[0m \u001b[34mmatplotlib.font_manager\u001b[0m - _findfont_cached - \u001b[1;30mDEBUG\u001b[0m - \u001b[32mfindfont: score(<Font 'Montserrat Black' (Montserrat-Black.ttf) normal normal black normal>) = 10.525\u001b[0m\n",
      "\u001b[32m2019-07-06 13:42:50:\u001b[0m \u001b[34mmatplotlib.font_manager\u001b[0m - _findfont_cached - \u001b[1;30mDEBUG\u001b[0m - \u001b[32mfindfont: score(<Font 'Hoefler Text' (Hoefler Text Ornaments.ttf) normal normal 400 normal>) = 10.05\u001b[0m\n",
      "\u001b[32m2019-07-06 13:42:50:\u001b[0m \u001b[34mmatplotlib.font_manager\u001b[0m - _findfont_cached - \u001b[1;30mDEBUG\u001b[0m - \u001b[32mfindfont: score(<Font 'East Syriac Adiabene' (SyrCOMAdiabene.otf) normal normal 400 normal>) = 10.05\u001b[0m\n",
      "\u001b[32m2019-07-06 13:42:50:\u001b[0m \u001b[34mmatplotlib.font_manager\u001b[0m - _findfont_cached - \u001b[1;30mDEBUG\u001b[0m - \u001b[32mfindfont: score(<Font 'Noto Nastaliq Urdu' (NotoNastaliq.ttc) normal normal 400 normal>) = 10.05\u001b[0m\n",
      "\u001b[32m2019-07-06 13:42:50:\u001b[0m \u001b[34mmatplotlib.font_manager\u001b[0m - _findfont_cached - \u001b[1;30mDEBUG\u001b[0m - \u001b[32mfindfont: score(<Font 'Serto Jerusalem' (SyrCOMJerusalemItalic.otf) italic normal 400 normal>) = 11.05\u001b[0m\n",
      "\u001b[32m2019-07-06 13:42:50:\u001b[0m \u001b[34mmatplotlib.font_manager\u001b[0m - _findfont_cached - \u001b[1;30mDEBUG\u001b[0m - \u001b[32mfindfont: score(<Font '.SF NS Symbols' (SFNSSymbols-Heavy.otf) normal normal heavy normal>) = 10.43\u001b[0m\n",
      "\u001b[32m2019-07-06 13:42:50:\u001b[0m \u001b[34mmatplotlib.font_manager\u001b[0m - _findfont_cached - \u001b[1;30mDEBUG\u001b[0m - \u001b[32mfindfont: score(<Font 'Apple Braille' (Apple Braille Pinpoint 8 Dot.ttf) normal normal 400 normal>) = 10.05\u001b[0m\n",
      "\u001b[32m2019-07-06 13:42:50:\u001b[0m \u001b[34mmatplotlib.font_manager\u001b[0m - _findfont_cached - \u001b[1;30mDEBUG\u001b[0m - \u001b[32mfindfont: score(<Font 'ITF Devanagari' (ITFDevanagari.ttc) normal normal book normal>) = 10.05\u001b[0m\n",
      "\u001b[32m2019-07-06 13:42:50:\u001b[0m \u001b[34mmatplotlib.font_manager\u001b[0m - _findfont_cached - \u001b[1;30mDEBUG\u001b[0m - \u001b[32mfindfont: score(<Font 'Gujarati Sangam MN' (Gujarati Sangam MN.ttc) normal normal 400 normal>) = 10.05\u001b[0m\n",
      "\u001b[32m2019-07-06 13:42:50:\u001b[0m \u001b[34mmatplotlib.font_manager\u001b[0m - _findfont_cached - \u001b[1;30mDEBUG\u001b[0m - \u001b[32mfindfont: score(<Font 'Nanum Myeongjo' (NanumMyeongjo.ttc) normal normal 400 normal>) = 10.05\u001b[0m\n"
     ]
    },
    {
     "name": "stdout",
     "output_type": "stream",
     "text": [
      "\u001b[32m2019-07-06 13:42:50:\u001b[0m \u001b[34mmatplotlib.font_manager\u001b[0m - _findfont_cached - \u001b[1;30mDEBUG\u001b[0m - \u001b[32mfindfont: score(<Font 'Kailasa' (Kailasa.ttc) normal normal regular normal>) = 10.05\u001b[0m\n",
      "\u001b[32m2019-07-06 13:42:50:\u001b[0m \u001b[34mmatplotlib.font_manager\u001b[0m - _findfont_cached - \u001b[1;30mDEBUG\u001b[0m - \u001b[32mfindfont: score(<Font 'Bitstream Vera Serif' (VeraSeBd.ttf) normal normal bold normal>) = 10.335\u001b[0m\n",
      "\u001b[32m2019-07-06 13:42:50:\u001b[0m \u001b[34mmatplotlib.font_manager\u001b[0m - _findfont_cached - \u001b[1;30mDEBUG\u001b[0m - \u001b[32mfindfont: score(<Font '.SF Compact Text' (SFCompactText-MediumItalic.otf) italic normal medium normal>) = 11.145\u001b[0m\n",
      "\u001b[32m2019-07-06 13:42:50:\u001b[0m \u001b[34mmatplotlib.font_manager\u001b[0m - _findfont_cached - \u001b[1;30mDEBUG\u001b[0m - \u001b[32mfindfont: score(<Font 'Hiragino Sans' (ヒラギノ角ゴシック W5.ttc) normal normal 700 normal>) = 10.335\u001b[0m\n",
      "\u001b[32m2019-07-06 13:42:50:\u001b[0m \u001b[34mmatplotlib.font_manager\u001b[0m - _findfont_cached - \u001b[1;30mDEBUG\u001b[0m - \u001b[32mfindfont: score(<Font 'Times New Roman' (Times New Roman Bold Italic.ttf) italic normal roman normal>) = 11.145\u001b[0m\n",
      "\u001b[32m2019-07-06 13:42:50:\u001b[0m \u001b[34mmatplotlib.font_manager\u001b[0m - _findfont_cached - \u001b[1;30mDEBUG\u001b[0m - \u001b[32mfindfont: score(<Font 'Webdings' (Webdings.ttf) normal normal 400 normal>) = 10.05\u001b[0m\n",
      "\u001b[32m2019-07-06 13:42:50:\u001b[0m \u001b[34mmatplotlib.font_manager\u001b[0m - _findfont_cached - \u001b[1;30mDEBUG\u001b[0m - \u001b[32mfindfont: score(<Font '.SF Compact Rounded' (SFCompactRounded-Bold.otf) normal normal bold normal>) = 10.335\u001b[0m\n",
      "\u001b[32m2019-07-06 13:42:50:\u001b[0m \u001b[34mmatplotlib.font_manager\u001b[0m - _findfont_cached - \u001b[1;30mDEBUG\u001b[0m - \u001b[32mfindfont: score(<Font '.SF Compact Text' (SFCompactText-Regular.otf) normal normal regular normal>) = 10.05\u001b[0m\n",
      "\u001b[32m2019-07-06 13:42:50:\u001b[0m \u001b[34mmatplotlib.font_manager\u001b[0m - _findfont_cached - \u001b[1;30mDEBUG\u001b[0m - \u001b[32mfindfont: score(<Font 'Montserrat ExtraBold' (Montserrat-ExtraBoldItalic.ttf) italic normal bold normal>) = 11.335\u001b[0m\n",
      "\u001b[32m2019-07-06 13:42:50:\u001b[0m \u001b[34mmatplotlib.font_manager\u001b[0m - _findfont_cached - \u001b[1;30mDEBUG\u001b[0m - \u001b[32mfindfont: score(<Font 'Euphemia UCAS' (EuphemiaCAS.ttc) normal normal 400 normal>) = 10.05\u001b[0m\n",
      "\u001b[32m2019-07-06 13:42:50:\u001b[0m \u001b[34mmatplotlib.font_manager\u001b[0m - _findfont_cached - \u001b[1;30mDEBUG\u001b[0m - \u001b[32mfindfont: score(<Font 'Georgia' (Georgia Italic.ttf) italic normal 400 normal>) = 11.05\u001b[0m\n",
      "\u001b[32m2019-07-06 13:42:50:\u001b[0m \u001b[34mmatplotlib.font_manager\u001b[0m - _findfont_cached - \u001b[1;30mDEBUG\u001b[0m - \u001b[32mfindfont: score(<Font 'System Font' (SFNSDisplay.ttf) normal normal 400 normal>) = 10.05\u001b[0m\n",
      "\u001b[32m2019-07-06 13:42:50:\u001b[0m \u001b[34mmatplotlib.font_manager\u001b[0m - _findfont_cached - \u001b[1;30mDEBUG\u001b[0m - \u001b[32mfindfont: score(<Font '.SF NS Symbols' (SFNSSymbols-Medium.otf) normal normal medium normal>) = 10.145\u001b[0m\n",
      "\u001b[32m2019-07-06 13:42:50:\u001b[0m \u001b[34mmatplotlib.font_manager\u001b[0m - _findfont_cached - \u001b[1;30mDEBUG\u001b[0m - \u001b[32mfindfont: score(<Font 'System Font' (SFNSDisplay-ThinG1.otf) normal normal 400 normal>) = 10.05\u001b[0m\n",
      "\u001b[32m2019-07-06 13:42:50:\u001b[0m \u001b[34mmatplotlib.font_manager\u001b[0m - _findfont_cached - \u001b[1;30mDEBUG\u001b[0m - \u001b[32mfindfont: score(<Font 'Tamil Sangam MN' (Tamil Sangam MN.ttc) normal normal 400 normal>) = 10.05\u001b[0m\n",
      "\u001b[32m2019-07-06 13:42:50:\u001b[0m \u001b[34mmatplotlib.font_manager\u001b[0m - _findfont_cached - \u001b[1;30mDEBUG\u001b[0m - \u001b[32mfindfont: score(<Font 'Mishafi' (Mishafi.ttf) normal normal regular normal>) = 10.05\u001b[0m\n",
      "\u001b[32m2019-07-06 13:42:50:\u001b[0m \u001b[34mmatplotlib.font_manager\u001b[0m - _findfont_cached - \u001b[1;30mDEBUG\u001b[0m - \u001b[32mfindfont: score(<Font 'Toppan Bunkyu Midashi Gothic' (ToppanBunkyuMidashiGothicStdN-ExtraBold.otf) normal normal bold normal>) = 10.335\u001b[0m\n",
      "\u001b[32m2019-07-06 13:42:50:\u001b[0m \u001b[34mmatplotlib.font_manager\u001b[0m - _findfont_cached - \u001b[1;30mDEBUG\u001b[0m - \u001b[32mfindfont: score(<Font '.Arabic UI Text' (ArabicUIText.ttc) normal normal regular normal>) = 10.05\u001b[0m\n",
      "\u001b[32m2019-07-06 13:42:50:\u001b[0m \u001b[34mmatplotlib.font_manager\u001b[0m - _findfont_cached - \u001b[1;30mDEBUG\u001b[0m - \u001b[32mfindfont: score(<Font 'BiauKai' (BiauKai.ttf) normal normal 400 normal>) = 10.05\u001b[0m\n",
      "\u001b[32m2019-07-06 13:42:50:\u001b[0m \u001b[34mmatplotlib.font_manager\u001b[0m - _findfont_cached - \u001b[1;30mDEBUG\u001b[0m - \u001b[32mfindfont: score(<Font 'STIXGeneral' (STIXGeneralBol.otf) normal normal bold normal>) = 10.335\u001b[0m\n",
      "\u001b[32m2019-07-06 13:42:50:\u001b[0m \u001b[34mmatplotlib.font_manager\u001b[0m - _findfont_cached - \u001b[1;30mDEBUG\u001b[0m - \u001b[32mfindfont: score(<Font 'Arial Hebrew' (ArialHB.ttc) normal normal 400 normal>) = 10.05\u001b[0m\n",
      "\u001b[32m2019-07-06 13:42:50:\u001b[0m \u001b[34mmatplotlib.font_manager\u001b[0m - _findfont_cached - \u001b[1;30mDEBUG\u001b[0m - \u001b[32mfindfont: score(<Font 'STIXSizeTwoSym' (STIXSizTwoSymBol.otf) normal normal bold normal>) = 10.335\u001b[0m\n",
      "\u001b[32m2019-07-06 13:42:50:\u001b[0m \u001b[34mmatplotlib.font_manager\u001b[0m - _findfont_cached - \u001b[1;30mDEBUG\u001b[0m - \u001b[32mfindfont: score(<Font 'STIXVariants' (STIXVarBol.otf) normal normal bold normal>) = 10.335\u001b[0m\n",
      "\u001b[32m2019-07-06 13:42:50:\u001b[0m \u001b[34mmatplotlib.font_manager\u001b[0m - _findfont_cached - \u001b[1;30mDEBUG\u001b[0m - \u001b[32mfindfont: score(<Font 'DecoType Naskh' (DecoTypeNaskh.ttc) normal normal regular normal>) = 10.05\u001b[0m\n",
      "\u001b[32m2019-07-06 13:42:50:\u001b[0m \u001b[34mmatplotlib.font_manager\u001b[0m - _findfont_cached - \u001b[1;30mDEBUG\u001b[0m - \u001b[32mfindfont: score(<Font '.Arabic UI Display' (ArabicUIDisplay.ttc) normal normal black normal>) = 10.525\u001b[0m\n",
      "\u001b[32m2019-07-06 13:42:50:\u001b[0m \u001b[34mmatplotlib.font_manager\u001b[0m - _findfont_cached - \u001b[1;30mDEBUG\u001b[0m - \u001b[32mfindfont: score(<Font 'Al Bayan' (AlBayan.ttc) normal normal 400 normal>) = 10.05\u001b[0m\n",
      "\u001b[32m2019-07-06 13:42:50:\u001b[0m \u001b[34mmatplotlib.font_manager\u001b[0m - _findfont_cached - \u001b[1;30mDEBUG\u001b[0m - \u001b[32mfindfont: score(<Font 'STIXGeneral' (STIXGeneralItalic.otf) italic normal 400 normal>) = 11.05\u001b[0m\n",
      "\u001b[32m2019-07-06 13:42:50:\u001b[0m \u001b[34mmatplotlib.font_manager\u001b[0m - _findfont_cached - \u001b[1;30mDEBUG\u001b[0m - \u001b[32mfindfont: score(<Font 'Skia' (Skia.ttf) normal normal 400 normal>) = 10.05\u001b[0m\n",
      "\u001b[32m2019-07-06 13:42:50:\u001b[0m \u001b[34mmatplotlib.font_manager\u001b[0m - _findfont_cached - \u001b[1;30mDEBUG\u001b[0m - \u001b[32mfindfont: score(<Font 'Shree Devanagari 714' (Shree714.ttc) normal normal 400 normal>) = 10.05\u001b[0m\n",
      "\u001b[32m2019-07-06 13:42:50:\u001b[0m \u001b[34mmatplotlib.font_manager\u001b[0m - _findfont_cached - \u001b[1;30mDEBUG\u001b[0m - \u001b[32mfindfont: score(<Font '.SF NS Display Condensed' (SFNSDisplayCondensed-Thin.otf) normal normal 400 condensed>) = 10.25\u001b[0m\n",
      "\u001b[32m2019-07-06 13:42:50:\u001b[0m \u001b[34mmatplotlib.font_manager\u001b[0m - _findfont_cached - \u001b[1;30mDEBUG\u001b[0m - \u001b[32mfindfont: score(<Font 'Times New Roman' (Times New Roman Italic.ttf) italic normal roman normal>) = 11.145\u001b[0m\n",
      "\u001b[32m2019-07-06 13:42:50:\u001b[0m \u001b[34mmatplotlib.font_manager\u001b[0m - _findfont_cached - \u001b[1;30mDEBUG\u001b[0m - \u001b[32mfindfont: score(<Font 'Herculanum' (Herculanum.ttf) normal normal 400 normal>) = 10.05\u001b[0m\n",
      "\u001b[32m2019-07-06 13:42:50:\u001b[0m \u001b[34mmatplotlib.font_manager\u001b[0m - _findfont_cached - \u001b[1;30mDEBUG\u001b[0m - \u001b[32mfindfont: score(<Font '.SF Compact Display' (SFCompactDisplay-Heavy.otf) normal normal heavy normal>) = 10.43\u001b[0m\n",
      "\u001b[32m2019-07-06 13:42:50:\u001b[0m \u001b[34mmatplotlib.font_manager\u001b[0m - _findfont_cached - \u001b[1;30mDEBUG\u001b[0m - \u001b[32mfindfont: score(<Font 'Roboto Black' (Roboto-Black.ttf) normal normal black normal>) = 10.525\u001b[0m\n",
      "\u001b[32m2019-07-06 13:42:50:\u001b[0m \u001b[34mmatplotlib.font_manager\u001b[0m - _findfont_cached - \u001b[1;30mDEBUG\u001b[0m - \u001b[32mfindfont: score(<Font 'Krungthep' (Krungthep.ttf) normal normal 400 normal>) = 10.05\u001b[0m\n",
      "\u001b[32m2019-07-06 13:42:50:\u001b[0m \u001b[34mmatplotlib.font_manager\u001b[0m - _findfont_cached - \u001b[1;30mDEBUG\u001b[0m - \u001b[32mfindfont: score(<Font 'LiSong Pro' (LiSongPro.ttf) normal normal 400 normal>) = 10.05\u001b[0m\n",
      "\u001b[32m2019-07-06 13:42:50:\u001b[0m \u001b[34mmatplotlib.font_manager\u001b[0m - _findfont_cached - \u001b[1;30mDEBUG\u001b[0m - \u001b[32mfindfont: score(<Font 'Malayalam Sangam MN' (Malayalam Sangam MN.ttc) normal normal 400 normal>) = 10.05\u001b[0m\n",
      "\u001b[32m2019-07-06 13:42:50:\u001b[0m \u001b[34mmatplotlib.font_manager\u001b[0m - _findfont_cached - \u001b[1;30mDEBUG\u001b[0m - \u001b[32mfindfont: score(<Font 'STIXSizeOneSym' (STIXSizOneSymBol.otf) normal normal bold normal>) = 10.335\u001b[0m\n",
      "\u001b[32m2019-07-06 13:42:50:\u001b[0m \u001b[34mmatplotlib.font_manager\u001b[0m - _findfont_cached - \u001b[1;30mDEBUG\u001b[0m - \u001b[32mfindfont: score(<Font 'Osaka' (OsakaMono.ttf) normal normal 400 normal>) = 10.05\u001b[0m\n",
      "\u001b[32m2019-07-06 13:42:50:\u001b[0m \u001b[34mmatplotlib.font_manager\u001b[0m - _findfont_cached - \u001b[1;30mDEBUG\u001b[0m - \u001b[32mfindfont: score(<Font 'Charter' (Charter.ttc) normal normal roman normal>) = 10.145\u001b[0m\n"
     ]
    },
    {
     "name": "stdout",
     "output_type": "stream",
     "text": [
      "\u001b[32m2019-07-06 13:42:50:\u001b[0m \u001b[34mmatplotlib.font_manager\u001b[0m - _findfont_cached - \u001b[1;30mDEBUG\u001b[0m - \u001b[32mfindfont: score(<Font 'Hiragino Sans' (ヒラギノ角ゴシック W6.ttc) normal normal 700 normal>) = 10.335\u001b[0m\n",
      "\u001b[32m2019-07-06 13:42:50:\u001b[0m \u001b[34mmatplotlib.font_manager\u001b[0m - _findfont_cached - \u001b[1;30mDEBUG\u001b[0m - \u001b[32mfindfont: score(<Font '.SF Compact Rounded' (SFCompactRounded-Medium.otf) normal normal medium normal>) = 10.145\u001b[0m\n",
      "\u001b[32m2019-07-06 13:42:50:\u001b[0m \u001b[34mmatplotlib.font_manager\u001b[0m - _findfont_cached - \u001b[1;30mDEBUG\u001b[0m - \u001b[32mfindfont: score(<Font 'Damascus' (Damascus.ttc) normal normal regular normal>) = 10.05\u001b[0m\n",
      "\u001b[32m2019-07-06 13:42:50:\u001b[0m \u001b[34mmatplotlib.font_manager\u001b[0m - _findfont_cached - \u001b[1;30mDEBUG\u001b[0m - \u001b[32mfindfont: score(<Font 'Apple Chancery' (Apple Chancery.ttf) normal normal 400 normal>) = 10.05\u001b[0m\n",
      "\u001b[32m2019-07-06 13:42:50:\u001b[0m \u001b[34mmatplotlib.font_manager\u001b[0m - _findfont_cached - \u001b[1;30mDEBUG\u001b[0m - \u001b[32mfindfont: score(<Font 'YuKyokasho Yoko' (Kyokasho.ttc) normal normal medium normal>) = 10.145\u001b[0m\n",
      "\u001b[32m2019-07-06 13:42:50:\u001b[0m \u001b[34mmatplotlib.font_manager\u001b[0m - _findfont_cached - \u001b[1;30mDEBUG\u001b[0m - \u001b[32mfindfont: score(<Font 'Bitstream Vera Sans Mono' (VeraMoIt.ttf) oblique normal 400 normal>) = 11.05\u001b[0m\n",
      "\u001b[32m2019-07-06 13:42:50:\u001b[0m \u001b[34mmatplotlib.font_manager\u001b[0m - _findfont_cached - \u001b[1;30mDEBUG\u001b[0m - \u001b[32mfindfont: score(<Font 'System Font' (SFNSDisplay-ThinItalic.otf) italic normal 400 normal>) = 11.05\u001b[0m\n",
      "\u001b[32m2019-07-06 13:42:50:\u001b[0m \u001b[34mmatplotlib.font_manager\u001b[0m - _findfont_cached - \u001b[1;30mDEBUG\u001b[0m - \u001b[32mfindfont: score(<Font '.SF Compact Text' (SFCompactText-HeavyItalic.otf) italic normal heavy normal>) = 11.43\u001b[0m\n",
      "\u001b[32m2019-07-06 13:42:50:\u001b[0m \u001b[34mmatplotlib.font_manager\u001b[0m - _findfont_cached - \u001b[1;30mDEBUG\u001b[0m - \u001b[32mfindfont: score(<Font 'Silom' (Silom.ttf) normal normal 400 normal>) = 10.05\u001b[0m\n",
      "\u001b[32m2019-07-06 13:42:50:\u001b[0m \u001b[34mmatplotlib.font_manager\u001b[0m - _findfont_cached - \u001b[1;30mDEBUG\u001b[0m - \u001b[32mfindfont: score(<Font 'Bangla Sangam MN' (Bangla Sangam MN.ttc) normal normal 400 normal>) = 10.05\u001b[0m\n",
      "\u001b[32m2019-07-06 13:42:50:\u001b[0m \u001b[34mmatplotlib.font_manager\u001b[0m - _findfont_cached - \u001b[1;30mDEBUG\u001b[0m - \u001b[32mfindfont: score(<Font '.SF NS Display Condensed' (SFNSDisplayCondensed-Heavy.otf) normal normal heavy condensed>) = 10.629999999999999\u001b[0m\n",
      "\u001b[32m2019-07-06 13:42:50:\u001b[0m \u001b[34mmatplotlib.font_manager\u001b[0m - _findfont_cached - \u001b[1;30mDEBUG\u001b[0m - \u001b[32mfindfont: score(<Font 'Nanum Gothic' (NanumGothic.ttc) normal normal 400 normal>) = 10.05\u001b[0m\n",
      "\u001b[32m2019-07-06 13:42:50:\u001b[0m \u001b[34mmatplotlib.font_manager\u001b[0m - _findfont_cached - \u001b[1;30mDEBUG\u001b[0m - \u001b[32mfindfont: score(<Font 'Verdana' (Verdana.ttf) normal normal 400 normal>) = 10.05\u001b[0m\n",
      "\u001b[32m2019-07-06 13:42:50:\u001b[0m \u001b[34mmatplotlib.font_manager\u001b[0m - _findfont_cached - \u001b[1;30mDEBUG\u001b[0m - \u001b[32mfindfont: score(<Font 'Courier New' (Courier New Bold Italic.ttf) italic normal bold normal>) = 11.335\u001b[0m\n",
      "\u001b[32m2019-07-06 13:42:50:\u001b[0m \u001b[34mmatplotlib.font_manager\u001b[0m - _findfont_cached - \u001b[1;30mDEBUG\u001b[0m - \u001b[32mfindfont: score(<Font 'Georgia' (Georgia.ttf) normal normal 400 normal>) = 10.05\u001b[0m\n",
      "\u001b[32m2019-07-06 13:42:50:\u001b[0m \u001b[34mmatplotlib.font_manager\u001b[0m - _findfont_cached - \u001b[1;30mDEBUG\u001b[0m - \u001b[32mfindfont: score(<Font 'Verdana' (Verdana Italic.ttf) italic normal 400 normal>) = 11.05\u001b[0m\n",
      "\u001b[32m2019-07-06 13:42:50:\u001b[0m \u001b[34mmatplotlib.font_manager\u001b[0m - _findfont_cached - \u001b[1;30mDEBUG\u001b[0m - \u001b[32mfindfont: score(<Font '.SF NS Rounded' (SFNSRounded.ttf) normal normal 400 normal>) = 10.05\u001b[0m\n",
      "\u001b[32m2019-07-06 13:42:50:\u001b[0m \u001b[34mmatplotlib.font_manager\u001b[0m - _findfont_cached - \u001b[1;30mDEBUG\u001b[0m - \u001b[32mfindfont: score(<Font 'Comic Sans MS' (Comic Sans MS Bold.ttf) normal normal bold normal>) = 10.335\u001b[0m\n",
      "\u001b[32m2019-07-06 13:42:50:\u001b[0m \u001b[34mmatplotlib.font_manager\u001b[0m - _findfont_cached - \u001b[1;30mDEBUG\u001b[0m - \u001b[32mfindfont: score(<Font 'STIXNonUnicode' (STIXNonUni.otf) normal normal regular normal>) = 10.05\u001b[0m\n",
      "\u001b[32m2019-07-06 13:42:50:\u001b[0m \u001b[34mmatplotlib.font_manager\u001b[0m - _findfont_cached - \u001b[1;30mDEBUG\u001b[0m - \u001b[32mfindfont: score(<Font 'STIXIntegralsD' (STIXIntDBol.otf) normal normal bold normal>) = 10.335\u001b[0m\n",
      "\u001b[32m2019-07-06 13:42:50:\u001b[0m \u001b[34mmatplotlib.font_manager\u001b[0m - _findfont_cached - \u001b[1;30mDEBUG\u001b[0m - \u001b[32mfindfont: score(<Font 'Arial Narrow' (Arial Narrow Bold Italic.ttf) italic normal bold condensed>) = 11.535\u001b[0m\n",
      "\u001b[32m2019-07-06 13:42:50:\u001b[0m \u001b[34mmatplotlib.font_manager\u001b[0m - _findfont_cached - \u001b[1;30mDEBUG\u001b[0m - \u001b[32mfindfont: score(<Font '.SF Compact Display' (SFCompactDisplay-Ultralight.otf) normal normal ultralight normal>) = 10.335\u001b[0m\n",
      "\u001b[32m2019-07-06 13:42:50:\u001b[0m \u001b[34mmatplotlib.font_manager\u001b[0m - _findfont_cached - \u001b[1;30mDEBUG\u001b[0m - \u001b[32mfindfont: score(<Font 'Malayalam MN' (Malayalam MN.ttc) normal normal 400 normal>) = 10.05\u001b[0m\n",
      "\u001b[32m2019-07-06 13:42:50:\u001b[0m \u001b[34mmatplotlib.font_manager\u001b[0m - _findfont_cached - \u001b[1;30mDEBUG\u001b[0m - \u001b[32mfindfont: score(<Font 'Arial Black' (Arial Black.ttf) normal normal black normal>) = 10.525\u001b[0m\n",
      "\u001b[32m2019-07-06 13:42:50:\u001b[0m \u001b[34mmatplotlib.font_manager\u001b[0m - _findfont_cached - \u001b[1;30mDEBUG\u001b[0m - \u001b[32mfindfont: score(<Font 'Times' (Times.ttc) normal normal roman normal>) = 10.145\u001b[0m\n",
      "\u001b[32m2019-07-06 13:42:50:\u001b[0m \u001b[34mmatplotlib.font_manager\u001b[0m - _findfont_cached - \u001b[1;30mDEBUG\u001b[0m - \u001b[32mfindfont: score(<Font 'Montserrat Thin' (Montserrat-ThinItalic.ttf) italic normal 400 normal>) = 11.05\u001b[0m\n",
      "\u001b[32m2019-07-06 13:42:50:\u001b[0m \u001b[34mmatplotlib.font_manager\u001b[0m - _findfont_cached - \u001b[1;30mDEBUG\u001b[0m - \u001b[32mfindfont: score(<Font 'Arial Rounded MT Bold' (Arial Rounded Bold.ttf) normal normal bold normal>) = 10.335\u001b[0m\n",
      "\u001b[32m2019-07-06 13:42:50:\u001b[0m \u001b[34mmatplotlib.font_manager\u001b[0m - _findfont_cached - \u001b[1;30mDEBUG\u001b[0m - \u001b[32mfindfont: score(<Font '.SF NS Display Condensed' (SFNSDisplayCondensed-Bold.otf) normal normal bold condensed>) = 10.535\u001b[0m\n",
      "\u001b[32m2019-07-06 13:42:50:\u001b[0m \u001b[34mmatplotlib.font_manager\u001b[0m - _findfont_cached - \u001b[1;30mDEBUG\u001b[0m - \u001b[32mfindfont: score(<Font 'Kohinoor Telugu' (KohinoorTelugu.ttc) normal normal 400 normal>) = 10.05\u001b[0m\n",
      "\u001b[32m2019-07-06 13:42:50:\u001b[0m \u001b[34mmatplotlib.font_manager\u001b[0m - _findfont_cached - \u001b[1;30mDEBUG\u001b[0m - \u001b[32mfindfont: score(<Font 'Big Caslon' (BigCaslon.ttf) normal normal medium normal>) = 10.145\u001b[0m\n",
      "\u001b[32m2019-07-06 13:42:50:\u001b[0m \u001b[34mmatplotlib.font_manager\u001b[0m - _findfont_cached - \u001b[1;30mDEBUG\u001b[0m - \u001b[32mfindfont: score(<Font 'STIXGeneral' (STIXGeneral.otf) normal normal regular normal>) = 10.05\u001b[0m\n",
      "\u001b[32m2019-07-06 13:42:50:\u001b[0m \u001b[34mmatplotlib.font_manager\u001b[0m - _findfont_cached - \u001b[1;30mDEBUG\u001b[0m - \u001b[32mfindfont: score(<Font 'Bitstream Vera Sans' (VeraBI.ttf) oblique normal bold normal>) = 7.335\u001b[0m\n",
      "\u001b[32m2019-07-06 13:42:50:\u001b[0m \u001b[34mmatplotlib.font_manager\u001b[0m - _findfont_cached - \u001b[1;30mDEBUG\u001b[0m - \u001b[32mfindfont: score(<Font 'Serto Jerusalem' (SyrCOMJerusalemBold.otf) normal normal bold normal>) = 10.335\u001b[0m\n",
      "\u001b[32m2019-07-06 13:42:50:\u001b[0m \u001b[34mmatplotlib.font_manager\u001b[0m - _findfont_cached - \u001b[1;30mDEBUG\u001b[0m - \u001b[32mfindfont: score(<Font 'System Font' (SFNSDisplay-RegularItalic.otf) italic normal 400 normal>) = 11.05\u001b[0m\n",
      "\u001b[32m2019-07-06 13:42:50:\u001b[0m \u001b[34mmatplotlib.font_manager\u001b[0m - _findfont_cached - \u001b[1;30mDEBUG\u001b[0m - \u001b[32mfindfont: score(<Font 'Apple Braille' (Apple Braille Outline 8 Dot.ttf) normal normal 400 normal>) = 10.05\u001b[0m\n",
      "\u001b[32m2019-07-06 13:42:50:\u001b[0m \u001b[34mmatplotlib.font_manager\u001b[0m - _findfont_cached - \u001b[1;30mDEBUG\u001b[0m - \u001b[32mfindfont: score(<Font 'System Font' (SFNSDisplay-BlackItalic.otf) italic normal black normal>) = 11.525\u001b[0m\n",
      "\u001b[32m2019-07-06 13:42:50:\u001b[0m \u001b[34mmatplotlib.font_manager\u001b[0m - _findfont_cached - \u001b[1;30mDEBUG\u001b[0m - \u001b[32mfindfont: score(<Font 'Devanagari Sangam MN' (Devanagari Sangam MN.ttc) normal normal 400 normal>) = 10.05\u001b[0m\n",
      "\u001b[32m2019-07-06 13:42:50:\u001b[0m \u001b[34mmatplotlib.font_manager\u001b[0m - _findfont_cached - \u001b[1;30mDEBUG\u001b[0m - \u001b[32mfindfont: score(<Font 'Estrangelo Antioch' (SyrCOMAntioch.otf) normal normal 400 normal>) = 10.05\u001b[0m\n",
      "\u001b[32m2019-07-06 13:42:50:\u001b[0m \u001b[34mmatplotlib.font_manager\u001b[0m - _findfont_cached - \u001b[1;30mDEBUG\u001b[0m - \u001b[32mfindfont: score(<Font 'Bodoni 72 Oldstyle' (Bodoni 72 OS.ttc) normal normal book normal>) = 10.05\u001b[0m\n"
     ]
    },
    {
     "name": "stdout",
     "output_type": "stream",
     "text": [
      "\u001b[32m2019-07-06 13:42:50:\u001b[0m \u001b[34mmatplotlib.font_manager\u001b[0m - _findfont_cached - \u001b[1;30mDEBUG\u001b[0m - \u001b[32mfindfont: score(<Font 'Bodoni 72 Smallcaps' (Bodoni 72 Smallcaps Book.ttf) normal normal book normal>) = 10.05\u001b[0m\n",
      "\u001b[32m2019-07-06 13:42:50:\u001b[0m \u001b[34mmatplotlib.font_manager\u001b[0m - _findfont_cached - \u001b[1;30mDEBUG\u001b[0m - \u001b[32mfindfont: score(<Font 'Avenir Next Condensed' (Avenir Next Condensed.ttc) normal normal bold condensed>) = 10.535\u001b[0m\n",
      "\u001b[32m2019-07-06 13:42:50:\u001b[0m \u001b[34mmatplotlib.font_manager\u001b[0m - _findfont_cached - \u001b[1;30mDEBUG\u001b[0m - \u001b[32mfindfont: score(<Font 'Hiragino Sans' (ヒラギノ角ゴシック W7.ttc) normal normal 700 normal>) = 10.335\u001b[0m\n",
      "\u001b[32m2019-07-06 13:42:50:\u001b[0m \u001b[34mmatplotlib.font_manager\u001b[0m - _findfont_cached - \u001b[1;30mDEBUG\u001b[0m - \u001b[32mfindfont: score(<Font 'SignPainter' (SignPainter.ttc) normal normal 400 normal>) = 10.05\u001b[0m\n",
      "\u001b[32m2019-07-06 13:42:50:\u001b[0m \u001b[34mmatplotlib.font_manager\u001b[0m - _findfont_cached - \u001b[1;30mDEBUG\u001b[0m - \u001b[32mfindfont: score(<Font 'Montserrat Medium' (Montserrat-MediumItalic.ttf) italic normal medium normal>) = 11.145\u001b[0m\n",
      "\u001b[32m2019-07-06 13:42:50:\u001b[0m \u001b[34mmatplotlib.font_manager\u001b[0m - _findfont_cached - \u001b[1;30mDEBUG\u001b[0m - \u001b[32mfindfont: score(<Font 'Oriya MN' (Oriya MN.ttc) normal normal 400 normal>) = 10.05\u001b[0m\n",
      "\u001b[32m2019-07-06 13:42:50:\u001b[0m \u001b[34mmatplotlib.font_manager\u001b[0m - _findfont_cached - \u001b[1;30mDEBUG\u001b[0m - \u001b[32mfindfont: score(<Font 'System Font' (SFNSDisplay-MediumItalic.otf) italic normal medium normal>) = 11.145\u001b[0m\n",
      "\u001b[32m2019-07-06 13:42:50:\u001b[0m \u001b[34mmatplotlib.font_manager\u001b[0m - _findfont_cached - \u001b[1;30mDEBUG\u001b[0m - \u001b[32mfindfont: score(<Font 'Luxi Serif' (luxirb.ttf) normal normal bold normal>) = 10.335\u001b[0m\n",
      "\u001b[32m2019-07-06 13:42:50:\u001b[0m \u001b[34mmatplotlib.font_manager\u001b[0m - _findfont_cached - \u001b[1;30mDEBUG\u001b[0m - \u001b[32mfindfont: score(<Font 'Brush Script MT' (Brush Script.ttf) italic normal 400 normal>) = 11.05\u001b[0m\n",
      "\u001b[32m2019-07-06 13:42:50:\u001b[0m \u001b[34mmatplotlib.font_manager\u001b[0m - _findfont_cached - \u001b[1;30mDEBUG\u001b[0m - \u001b[32mfindfont: score(<Font 'Apple LiSung' (AppleLiSung-Light.ttf) normal normal light normal>) = 10.24\u001b[0m\n",
      "\u001b[32m2019-07-06 13:42:50:\u001b[0m \u001b[34mmatplotlib.font_manager\u001b[0m - _findfont_cached - \u001b[1;30mDEBUG\u001b[0m - \u001b[32mfindfont: score(<Font 'STIXIntegralsUp' (STIXIntUpBol.otf) normal normal bold normal>) = 10.335\u001b[0m\n",
      "\u001b[32m2019-07-06 13:42:50:\u001b[0m \u001b[34mmatplotlib.font_manager\u001b[0m - _findfont_cached - \u001b[1;30mDEBUG\u001b[0m - \u001b[32mfindfont: score(<Font '.SF Compact Display' (SFCompactDisplay-Semibold.otf) normal normal semibold normal>) = 10.24\u001b[0m\n",
      "\u001b[32m2019-07-06 13:42:50:\u001b[0m \u001b[34mmatplotlib.font_manager\u001b[0m - _findfont_cached - \u001b[1;30mDEBUG\u001b[0m - \u001b[32mfindfont: score(<Font '.SF Compact Display' (SFCompactDisplay-Medium.otf) normal normal medium normal>) = 10.145\u001b[0m\n",
      "\u001b[32m2019-07-06 13:42:50:\u001b[0m \u001b[34mmatplotlib.font_manager\u001b[0m - _findfont_cached - \u001b[1;30mDEBUG\u001b[0m - \u001b[32mfindfont: score(<Font 'STIXSizeThreeSym' (STIXSizThreeSymReg.otf) normal normal regular normal>) = 10.05\u001b[0m\n",
      "\u001b[32m2019-07-06 13:42:50:\u001b[0m \u001b[34mmatplotlib.font_manager\u001b[0m - _findfont_cached - \u001b[1;30mDEBUG\u001b[0m - \u001b[32mfindfont: score(<Font 'Sana' (Sana.ttc) normal normal regular normal>) = 10.05\u001b[0m\n",
      "\u001b[32m2019-07-06 13:42:50:\u001b[0m \u001b[34mmatplotlib.font_manager\u001b[0m - _findfont_cached - \u001b[1;30mDEBUG\u001b[0m - \u001b[32mfindfont: score(<Font 'Andale Mono' (Andale Mono.ttf) normal normal 400 normal>) = 10.05\u001b[0m\n",
      "\u001b[32m2019-07-06 13:42:50:\u001b[0m \u001b[34mmatplotlib.font_manager\u001b[0m - _findfont_cached - \u001b[1;30mDEBUG\u001b[0m - \u001b[32mfindfont: score(<Font 'HeadLineA' (HeadlineA.ttf) normal normal regular normal>) = 10.05\u001b[0m\n",
      "\u001b[32m2019-07-06 13:42:50:\u001b[0m \u001b[34mmatplotlib.font_manager\u001b[0m - _findfont_cached - \u001b[1;30mDEBUG\u001b[0m - \u001b[32mfindfont: score(<Font 'STIXSizeThreeSym' (STIXSizThreeSymBol.otf) normal normal bold normal>) = 10.335\u001b[0m\n",
      "\u001b[32m2019-07-06 13:42:50:\u001b[0m \u001b[34mmatplotlib.font_manager\u001b[0m - _findfont_cached - \u001b[1;30mDEBUG\u001b[0m - \u001b[32mfindfont: score(<Font 'Roboto Thin' (Roboto-Thin.ttf) normal normal 400 normal>) = 10.05\u001b[0m\n",
      "\u001b[32m2019-07-06 13:42:50:\u001b[0m \u001b[34mmatplotlib.font_manager\u001b[0m - _findfont_cached - \u001b[1;30mDEBUG\u001b[0m - \u001b[32mfindfont: score(<Font '.SF Compact Text' (SFCompactText-Light.otf) normal normal light normal>) = 10.24\u001b[0m\n",
      "\u001b[32m2019-07-06 13:42:50:\u001b[0m \u001b[34mmatplotlib.font_manager\u001b[0m - _findfont_cached - \u001b[1;30mDEBUG\u001b[0m - \u001b[32mfindfont: score(<Font 'Roboto Thin' (Roboto-ThinItalic.ttf) italic normal 400 normal>) = 11.05\u001b[0m\n",
      "\u001b[32m2019-07-06 13:42:50:\u001b[0m \u001b[34mmatplotlib.font_manager\u001b[0m - _findfont_cached - \u001b[1;30mDEBUG\u001b[0m - \u001b[32mfindfont: score(<Font 'STHeiti' (STXIHEI.ttf) normal normal 400 normal>) = 10.05\u001b[0m\n",
      "\u001b[32m2019-07-06 13:42:50:\u001b[0m \u001b[34mmatplotlib.font_manager\u001b[0m - _findfont_cached - \u001b[1;30mDEBUG\u001b[0m - \u001b[32mfindfont: score(<Font 'Arial' (Arial Bold.ttf) normal normal bold normal>) = 0.33499999999999996\u001b[0m\n",
      "\u001b[32m2019-07-06 13:42:50:\u001b[0m \u001b[34mmatplotlib.font_manager\u001b[0m - _findfont_cached - \u001b[1;30mDEBUG\u001b[0m - \u001b[32mfindfont: score(<Font '.SF NS Symbols' (SFNSSymbols-Ultralight.otf) normal normal ultralight normal>) = 10.335\u001b[0m\n",
      "\u001b[32m2019-07-06 13:42:50:\u001b[0m \u001b[34mmatplotlib.font_manager\u001b[0m - _findfont_cached - \u001b[1;30mDEBUG\u001b[0m - \u001b[32mfindfont: score(<Font 'Didot' (Didot.ttc) normal normal 400 normal>) = 10.05\u001b[0m\n",
      "\u001b[32m2019-07-06 13:42:50:\u001b[0m \u001b[34mmatplotlib.font_manager\u001b[0m - _findfont_cached - \u001b[1;30mDEBUG\u001b[0m - \u001b[32mfindfont: score(<Font 'Arial Narrow' (Arial Narrow.ttf) normal normal 400 condensed>) = 10.25\u001b[0m\n",
      "\u001b[32m2019-07-06 13:42:50:\u001b[0m \u001b[34mmatplotlib.font_manager\u001b[0m - _findfont_cached - \u001b[1;30mDEBUG\u001b[0m - \u001b[32mfindfont: score(<Font 'Roboto' (Roboto-BoldItalic.ttf) italic normal bold normal>) = 11.335\u001b[0m\n",
      "\u001b[32m2019-07-06 13:42:50:\u001b[0m \u001b[34mmatplotlib.font_manager\u001b[0m - _findfont_cached - \u001b[1;30mDEBUG\u001b[0m - \u001b[32mfindfont: score(<Font 'Estrangelo Quenneshrin' (SyrCOMQenNeshrin.otf) normal normal 400 normal>) = 10.05\u001b[0m\n",
      "\u001b[32m2019-07-06 13:42:50:\u001b[0m \u001b[34mmatplotlib.font_manager\u001b[0m - _findfont_cached - \u001b[1;30mDEBUG\u001b[0m - \u001b[32mfindfont: score(<Font '.SF Compact Text' (SFCompactText-Heavy.otf) normal normal heavy normal>) = 10.43\u001b[0m\n",
      "\u001b[32m2019-07-06 13:42:50:\u001b[0m \u001b[34mmatplotlib.font_manager\u001b[0m - _findfont_cached - \u001b[1;30mDEBUG\u001b[0m - \u001b[32mfindfont: score(<Font 'Lantinghei SC' (Lantinghei.ttc) normal normal demibold normal>) = 10.24\u001b[0m\n",
      "\u001b[32m2019-07-06 13:42:50:\u001b[0m \u001b[34mmatplotlib.font_manager\u001b[0m - _findfont_cached - \u001b[1;30mDEBUG\u001b[0m - \u001b[32mfindfont: score(<Font 'Toppan Bunkyu Midashi Mincho' (ToppanBunkyuMidashiMinchoStdN-ExtraBold.otf) normal normal bold normal>) = 10.335\u001b[0m\n",
      "\u001b[32m2019-07-06 13:42:50:\u001b[0m \u001b[34mmatplotlib.font_manager\u001b[0m - _findfont_cached - \u001b[1;30mDEBUG\u001b[0m - \u001b[32mfindfont: score(<Font '.SF NS Symbols' (SFNSSymbols-Black.otf) normal normal black normal>) = 10.525\u001b[0m\n",
      "\u001b[32m2019-07-06 13:42:50:\u001b[0m \u001b[34mmatplotlib.font_manager\u001b[0m - _findfont_cached - \u001b[1;30mDEBUG\u001b[0m - \u001b[32mfindfont: score(<Font 'Hiragino Sans CNS' (Hiragino_Sans_CNS.ttc) normal normal 400 normal>) = 10.05\u001b[0m\n",
      "\u001b[32m2019-07-06 13:42:50:\u001b[0m \u001b[34mmatplotlib.font_manager\u001b[0m - _findfont_cached - \u001b[1;30mDEBUG\u001b[0m - \u001b[32mfindfont: score(<Font 'Osaka' (Osaka.ttf) normal normal 400 normal>) = 10.05\u001b[0m\n",
      "\u001b[32m2019-07-06 13:42:50:\u001b[0m \u001b[34mmatplotlib.font_manager\u001b[0m - _findfont_cached - \u001b[1;30mDEBUG\u001b[0m - \u001b[32mfindfont: score(<Font 'Thonburi' (Thonburi.ttc) normal normal 400 normal>) = 10.05\u001b[0m\n",
      "\u001b[32m2019-07-06 13:42:50:\u001b[0m \u001b[34mmatplotlib.font_manager\u001b[0m - _findfont_cached - \u001b[1;30mDEBUG\u001b[0m - \u001b[32mfindfont: score(<Font '.SF Compact Text' (SFCompactText-Semibold.otf) normal normal semibold normal>) = 10.24\u001b[0m\n",
      "\u001b[32m2019-07-06 13:42:50:\u001b[0m \u001b[34mmatplotlib.font_manager\u001b[0m - _findfont_cached - \u001b[1;30mDEBUG\u001b[0m - \u001b[32mfindfont: score(<Font '.SF Compact Display' (SFCompactDisplay-Light.otf) normal normal light normal>) = 10.24\u001b[0m\n",
      "\u001b[32m2019-07-06 13:42:50:\u001b[0m \u001b[34mmatplotlib.font_manager\u001b[0m - _findfont_cached - \u001b[1;30mDEBUG\u001b[0m - \u001b[32mfindfont: score(<Font 'Serto Urhoy' (SyrCOMUrhoyBold.otf) normal normal bold normal>) = 10.335\u001b[0m\n",
      "\u001b[32m2019-07-06 13:42:50:\u001b[0m \u001b[34mmatplotlib.font_manager\u001b[0m - _findfont_cached - \u001b[1;30mDEBUG\u001b[0m - \u001b[32mfindfont: score(<Font '.SF NS Symbols' (SFNSSymbols-Regular.otf) normal normal regular normal>) = 10.05\u001b[0m\n"
     ]
    },
    {
     "name": "stdout",
     "output_type": "stream",
     "text": [
      "\u001b[32m2019-07-06 13:42:50:\u001b[0m \u001b[34mmatplotlib.font_manager\u001b[0m - _findfont_cached - \u001b[1;30mDEBUG\u001b[0m - \u001b[32mfindfont: score(<Font 'STHeiti' (STHEITI.ttf) normal normal 400 normal>) = 10.05\u001b[0m\n",
      "\u001b[32m2019-07-06 13:42:50:\u001b[0m \u001b[34mmatplotlib.font_manager\u001b[0m - _findfont_cached - \u001b[1;30mDEBUG\u001b[0m - \u001b[32mfindfont: score(<Font 'Tsukushi B Round Gothic' (TsukushiBMaruGothic.ttc) normal normal regular normal>) = 10.05\u001b[0m\n",
      "\u001b[32m2019-07-06 13:42:50:\u001b[0m \u001b[34mmatplotlib.font_manager\u001b[0m - _findfont_cached - \u001b[1;30mDEBUG\u001b[0m - \u001b[32mfindfont: score(<Font 'Bodoni 72' (Bodoni 72.ttc) normal normal book normal>) = 10.05\u001b[0m\n",
      "\u001b[32m2019-07-06 13:42:50:\u001b[0m \u001b[34mmatplotlib.font_manager\u001b[0m - _findfont_cached - \u001b[1;30mDEBUG\u001b[0m - \u001b[32mfindfont: score(<Font 'Roboto Light' (Roboto-LightItalic.ttf) italic normal light normal>) = 11.24\u001b[0m\n",
      "\u001b[32m2019-07-06 13:42:50:\u001b[0m \u001b[34mmatplotlib.font_manager\u001b[0m - _findfont_cached - \u001b[1;30mDEBUG\u001b[0m - \u001b[32mfindfont: score(<Font '.SF NS Display Condensed' (SFNSDisplayCondensed-Semibold.otf) normal normal semibold condensed>) = 10.44\u001b[0m\n",
      "\u001b[32m2019-07-06 13:42:50:\u001b[0m \u001b[34mmatplotlib.font_manager\u001b[0m - _findfont_cached - \u001b[1;30mDEBUG\u001b[0m - \u001b[32mfindfont: score(<Font 'Ayuthaya' (Ayuthaya.ttf) normal normal 400 normal>) = 10.05\u001b[0m\n",
      "\u001b[32m2019-07-06 13:42:50:\u001b[0m \u001b[34mmatplotlib.font_manager\u001b[0m - _findfont_cached - \u001b[1;30mDEBUG\u001b[0m - \u001b[32mfindfont: score(<Font 'Trebuchet MS' (Trebuchet MS Bold Italic.ttf) italic normal bold normal>) = 11.335\u001b[0m\n",
      "\u001b[32m2019-07-06 13:42:50:\u001b[0m \u001b[34mmatplotlib.font_manager\u001b[0m - _findfont_cached - \u001b[1;30mDEBUG\u001b[0m - \u001b[32mfindfont: score(<Font 'Apple Braille' (Apple Braille Outline 6 Dot.ttf) normal normal 400 normal>) = 10.05\u001b[0m\n",
      "\u001b[32m2019-07-06 13:42:50:\u001b[0m \u001b[34mmatplotlib.font_manager\u001b[0m - _findfont_cached - \u001b[1;30mDEBUG\u001b[0m - \u001b[32mfindfont: score(<Font 'Serto Kharput' (SyrCOMKharput.otf) normal normal 400 normal>) = 10.05\u001b[0m\n",
      "\u001b[32m2019-07-06 13:42:50:\u001b[0m \u001b[34mmatplotlib.font_manager\u001b[0m - _findfont_cached - \u001b[1;30mDEBUG\u001b[0m - \u001b[32mfindfont: score(<Font 'Serto Urhoy' (SyrCOMUrhoy.otf) normal normal 400 normal>) = 10.05\u001b[0m\n",
      "\u001b[32m2019-07-06 13:42:50:\u001b[0m \u001b[34mmatplotlib.font_manager\u001b[0m - _findfont_cached - \u001b[1;30mDEBUG\u001b[0m - \u001b[32mfindfont: score(<Font 'System Font' (SFNSDisplay-LightItalic.otf) italic normal light normal>) = 11.24\u001b[0m\n",
      "\u001b[32m2019-07-06 13:42:50:\u001b[0m \u001b[34mmatplotlib.font_manager\u001b[0m - _findfont_cached - \u001b[1;30mDEBUG\u001b[0m - \u001b[32mfindfont: score(<Font 'Baskerville' (Baskerville.ttc) normal normal 400 normal>) = 10.05\u001b[0m\n",
      "\u001b[32m2019-07-06 13:42:50:\u001b[0m \u001b[34mmatplotlib.font_manager\u001b[0m - _findfont_cached - \u001b[1;30mDEBUG\u001b[0m - \u001b[32mfindfont: score(<Font 'Courier New' (Courier New Bold.ttf) normal normal bold normal>) = 10.335\u001b[0m\n",
      "\u001b[32m2019-07-06 13:42:50:\u001b[0m \u001b[34mmatplotlib.font_manager\u001b[0m - _findfont_cached - \u001b[1;30mDEBUG\u001b[0m - \u001b[32mfindfont: score(<Font 'STIXNonUnicode' (STIXNonUniBolIta.otf) italic normal bold normal>) = 11.335\u001b[0m\n",
      "\u001b[32m2019-07-06 13:42:50:\u001b[0m \u001b[34mmatplotlib.font_manager\u001b[0m - _findfont_cached - \u001b[1;30mDEBUG\u001b[0m - \u001b[32mfindfont: score(<Font 'Roboto Light' (Roboto-Light.ttf) normal normal light normal>) = 10.24\u001b[0m\n",
      "\u001b[32m2019-07-06 13:42:50:\u001b[0m \u001b[34mmatplotlib.font_manager\u001b[0m - _findfont_cached - \u001b[1;30mDEBUG\u001b[0m - \u001b[32mfindfont: score(<Font '.SF Compact Rounded' (SFCompactRounded-Black.otf) normal normal black normal>) = 10.525\u001b[0m\n",
      "\u001b[32m2019-07-06 13:42:50:\u001b[0m \u001b[34mmatplotlib.font_manager\u001b[0m - _findfont_cached - \u001b[1;30mDEBUG\u001b[0m - \u001b[32mfindfont: score(<Font '.SF NS Display Condensed' (SFNSDisplayCondensed-Black.otf) normal normal black condensed>) = 10.725\u001b[0m\n",
      "\u001b[32m2019-07-06 13:42:50:\u001b[0m \u001b[34mmatplotlib.font_manager\u001b[0m - _findfont_cached - \u001b[1;30mDEBUG\u001b[0m - \u001b[32mfindfont: score(<Font 'Courier New' (Courier New Italic.ttf) italic normal 400 normal>) = 11.05\u001b[0m\n",
      "\u001b[32m2019-07-06 13:42:50:\u001b[0m \u001b[34mmatplotlib.font_manager\u001b[0m - _findfont_cached - \u001b[1;30mDEBUG\u001b[0m - \u001b[32mfindfont: score(<Font 'Bradley Hand' (Bradley Hand Bold.ttf) normal normal bold normal>) = 10.335\u001b[0m\n",
      "\u001b[32m2019-07-06 13:42:50:\u001b[0m \u001b[34mmatplotlib.font_manager\u001b[0m - _findfont_cached - \u001b[1;30mDEBUG\u001b[0m - \u001b[32mfindfont: score(<Font 'Tahoma' (Tahoma.ttf) normal normal 400 normal>) = 10.05\u001b[0m\n",
      "\u001b[32m2019-07-06 13:42:50:\u001b[0m \u001b[34mmatplotlib.font_manager\u001b[0m - _findfont_cached - \u001b[1;30mDEBUG\u001b[0m - \u001b[32mfindfont: score(<Font 'Hei' (Hei.ttf) normal normal regular normal>) = 10.05\u001b[0m\n",
      "\u001b[32m2019-07-06 13:42:50:\u001b[0m \u001b[34mmatplotlib.font_manager\u001b[0m - _findfont_cached - \u001b[1;30mDEBUG\u001b[0m - \u001b[32mfindfont: score(<Font '.SF NS Symbols' (SFNSSymbols-Light.otf) normal normal light normal>) = 10.24\u001b[0m\n",
      "\u001b[32m2019-07-06 13:42:50:\u001b[0m \u001b[34mmatplotlib.font_manager\u001b[0m - _findfont_cached - \u001b[1;30mDEBUG\u001b[0m - \u001b[32mfindfont: score(<Font 'Kefa' (Kefa.ttc) normal normal regular normal>) = 10.05\u001b[0m\n",
      "\u001b[32m2019-07-06 13:42:50:\u001b[0m \u001b[34mmatplotlib.font_manager\u001b[0m - _findfont_cached - \u001b[1;30mDEBUG\u001b[0m - \u001b[32mfindfont: score(<Font 'Kannada Sangam MN' (Kannada Sangam MN.ttc) normal normal 400 normal>) = 10.05\u001b[0m\n",
      "\u001b[32m2019-07-06 13:42:50:\u001b[0m \u001b[34mmatplotlib.font_manager\u001b[0m - _findfont_cached - \u001b[1;30mDEBUG\u001b[0m - \u001b[32mfindfont: score(<Font 'Hiragino Sans' (ヒラギノ角ゴシック W2.ttc) normal normal 400 normal>) = 10.05\u001b[0m\n",
      "\u001b[32m2019-07-06 13:42:50:\u001b[0m \u001b[34mmatplotlib.font_manager\u001b[0m - _findfont_cached - \u001b[1;30mDEBUG\u001b[0m - \u001b[32mfindfont: score(<Font 'STIXVariants' (STIXVar.otf) normal normal regular normal>) = 10.05\u001b[0m\n",
      "\u001b[32m2019-07-06 13:42:50:\u001b[0m \u001b[34mmatplotlib.font_manager\u001b[0m - _findfont_cached - \u001b[1;30mDEBUG\u001b[0m - \u001b[32mfindfont: score(<Font 'Muna' (Muna.ttc) normal normal regular normal>) = 10.05\u001b[0m\n",
      "\u001b[32m2019-07-06 13:42:50:\u001b[0m \u001b[34mmatplotlib.font_manager\u001b[0m - _findfont_cached - \u001b[1;30mDEBUG\u001b[0m - \u001b[32mfindfont: score(<Font 'Estrangelo TurAbdin' (SyrCOMTurAbdin.otf) normal normal 400 normal>) = 10.05\u001b[0m\n",
      "\u001b[32m2019-07-06 13:42:50:\u001b[0m \u001b[34mmatplotlib.font_manager\u001b[0m - _findfont_cached - \u001b[1;30mDEBUG\u001b[0m - \u001b[32mfindfont: score(<Font 'Luxi Mono' (luximb.ttf) normal normal bold normal>) = 10.335\u001b[0m\n",
      "\u001b[32m2019-07-06 13:42:50:\u001b[0m \u001b[34mmatplotlib.font_manager\u001b[0m - _findfont_cached - \u001b[1;30mDEBUG\u001b[0m - \u001b[32mfindfont: score(<Font 'Luminari' (Luminari.ttf) normal normal 400 normal>) = 10.05\u001b[0m\n",
      "\u001b[32m2019-07-06 13:42:50:\u001b[0m \u001b[34mmatplotlib.font_manager\u001b[0m - _findfont_cached - \u001b[1;30mDEBUG\u001b[0m - \u001b[32mfindfont: score(<Font 'PT Serif Caption' (PTSerifCaption.ttc) normal normal 400 normal>) = 10.05\u001b[0m\n",
      "\u001b[32m2019-07-06 13:42:50:\u001b[0m \u001b[34mmatplotlib.font_manager\u001b[0m - _findfont_cached - \u001b[1;30mDEBUG\u001b[0m - \u001b[32mfindfont: score(<Font 'Serto Jerusalem Outline' (SyrCOMJerusalemOutline.otf) normal normal 400 normal>) = 10.05\u001b[0m\n",
      "\u001b[32m2019-07-06 13:42:50:\u001b[0m \u001b[34mmatplotlib.font_manager\u001b[0m - _findfont_cached - \u001b[1;30mDEBUG\u001b[0m - \u001b[32mfindfont: score(<Font 'Toppan Bunkyu Mincho' (ToppanBunkyuMinchoPr6N-Regular.otf) normal normal regular normal>) = 10.05\u001b[0m\n",
      "\u001b[32m2019-07-06 13:42:50:\u001b[0m \u001b[34mmatplotlib.font_manager\u001b[0m - _findfont_cached - \u001b[1;30mDEBUG\u001b[0m - \u001b[32mfindfont: score(<Font '.Helvetica Neue DeskInterface' (HelveticaNeueDeskInterface.ttc) normal normal regular normal>) = 10.05\u001b[0m\n",
      "\u001b[32m2019-07-06 13:42:50:\u001b[0m \u001b[34mmatplotlib.font_manager\u001b[0m - _findfont_cached - \u001b[1;30mDEBUG\u001b[0m - \u001b[32mfindfont: score(<Font 'Hiragino Sans' (ヒラギノ角ゴシック W8.ttc) normal normal 700 normal>) = 10.335\u001b[0m\n",
      "\u001b[32m2019-07-06 13:42:50:\u001b[0m \u001b[34mmatplotlib.font_manager\u001b[0m - _findfont_cached - \u001b[1;30mDEBUG\u001b[0m - \u001b[32mfindfont: score(<Font 'Tsukushi A Round Gothic' (TsukushiAMaruGothic.ttc) normal normal regular normal>) = 10.05\u001b[0m\n",
      "\u001b[32m2019-07-06 13:42:50:\u001b[0m \u001b[34mmatplotlib.font_manager\u001b[0m - _findfont_cached - \u001b[1;30mDEBUG\u001b[0m - \u001b[32mfindfont: score(<Font 'Libian SC' (Libian.ttc) normal normal regular normal>) = 10.05\u001b[0m\n",
      "\u001b[32m2019-07-06 13:42:50:\u001b[0m \u001b[34mmatplotlib.font_manager\u001b[0m - _findfont_cached - \u001b[1;30mDEBUG\u001b[0m - \u001b[32mfindfont: score(<Font 'Baghdad' (Baghdad.ttc) normal normal regular normal>) = 10.05\u001b[0m\n",
      "\u001b[32m2019-07-06 13:42:50:\u001b[0m \u001b[34mmatplotlib.font_manager\u001b[0m - _findfont_cached - \u001b[1;30mDEBUG\u001b[0m - \u001b[32mfindfont: score(<Font 'Klee' (Klee.ttc) normal normal demibold normal>) = 10.24\u001b[0m\n",
      "\u001b[32m2019-07-06 13:42:50:\u001b[0m \u001b[34mmatplotlib.font_manager\u001b[0m - _findfont_cached - \u001b[1;30mDEBUG\u001b[0m - \u001b[32mfindfont: score(<Font 'Khmer MN' (Khmer MN.ttc) normal normal 400 normal>) = 10.05\u001b[0m\n"
     ]
    },
    {
     "name": "stdout",
     "output_type": "stream",
     "text": [
      "\u001b[32m2019-07-06 13:42:50:\u001b[0m \u001b[34mmatplotlib.font_manager\u001b[0m - _findfont_cached - \u001b[1;30mDEBUG\u001b[0m - \u001b[32mfindfont: score(<Font 'Bodoni Ornaments' (Bodoni Ornaments.ttf) normal normal 400 normal>) = 10.05\u001b[0m\n",
      "\u001b[32m2019-07-06 13:42:50:\u001b[0m \u001b[34mmatplotlib.font_manager\u001b[0m - _findfont_cached - \u001b[1;30mDEBUG\u001b[0m - \u001b[32mfindfont: score(<Font 'AppleMyungjo' (AppleMyungjo.ttf) normal normal regular normal>) = 10.05\u001b[0m\n",
      "\u001b[32m2019-07-06 13:42:50:\u001b[0m \u001b[34mmatplotlib.font_manager\u001b[0m - _findfont_cached - \u001b[1;30mDEBUG\u001b[0m - \u001b[32mfindfont: score(<Font 'Microsoft Sans Serif' (Microsoft Sans Serif.ttf) normal normal 400 normal>) = 10.05\u001b[0m\n",
      "\u001b[32m2019-07-06 13:42:50:\u001b[0m \u001b[34mmatplotlib.font_manager\u001b[0m - _findfont_cached - \u001b[1;30mDEBUG\u001b[0m - \u001b[32mfindfont: score(<Font 'Luxi Serif' (luxirri.ttf) oblique normal 400 normal>) = 11.05\u001b[0m\n",
      "\u001b[32m2019-07-06 13:42:50:\u001b[0m \u001b[34mmatplotlib.font_manager\u001b[0m - _findfont_cached - \u001b[1;30mDEBUG\u001b[0m - \u001b[32mfindfont: score(<Font '.Aqua Kana' (AquaKana.ttc) normal normal 400 normal>) = 10.05\u001b[0m\n",
      "\u001b[32m2019-07-06 13:42:50:\u001b[0m \u001b[34mmatplotlib.font_manager\u001b[0m - _findfont_cached - \u001b[1;30mDEBUG\u001b[0m - \u001b[32mfindfont: score(<Font 'Baoli SC' (Baoli.ttc) normal normal regular normal>) = 10.05\u001b[0m\n",
      "\u001b[32m2019-07-06 13:42:50:\u001b[0m \u001b[34mmatplotlib.font_manager\u001b[0m - _findfont_cached - \u001b[1;30mDEBUG\u001b[0m - \u001b[32mfindfont: score(<Font 'Goha-Tibeb Zemen' (GohaTibebZemen.ttf) normal normal 400 normal>) = 10.05\u001b[0m\n",
      "\u001b[32m2019-07-06 13:42:50:\u001b[0m \u001b[34mmatplotlib.font_manager\u001b[0m - _findfont_cached - \u001b[1;30mDEBUG\u001b[0m - \u001b[32mfindfont: score(<Font 'Rockwell' (Rockwell.ttc) normal normal 400 normal>) = 10.05\u001b[0m\n",
      "\u001b[32m2019-07-06 13:42:50:\u001b[0m \u001b[34mmatplotlib.font_manager\u001b[0m - _findfont_cached - \u001b[1;30mDEBUG\u001b[0m - \u001b[32mfindfont: score(<Font 'Snell Roundhand' (SnellRoundhand.ttc) normal normal 400 normal>) = 10.05\u001b[0m\n",
      "\u001b[32m2019-07-06 13:42:50:\u001b[0m \u001b[34mmatplotlib.font_manager\u001b[0m - _findfont_cached - \u001b[1;30mDEBUG\u001b[0m - \u001b[32mfindfont: score(<Font 'Sinhala MN' (Sinhala MN.ttc) normal normal 400 normal>) = 10.05\u001b[0m\n",
      "\u001b[32m2019-07-06 13:42:50:\u001b[0m \u001b[34mmatplotlib.font_manager\u001b[0m - _findfont_cached - \u001b[1;30mDEBUG\u001b[0m - \u001b[32mfindfont: score(<Font 'Estrangelo Edessa' (SyrCOMEdessa.otf) normal normal 400 normal>) = 10.05\u001b[0m\n",
      "\u001b[32m2019-07-06 13:42:50:\u001b[0m \u001b[34mmatplotlib.font_manager\u001b[0m - _findfont_cached - \u001b[1;30mDEBUG\u001b[0m - \u001b[32mfindfont: score(<Font 'Gill Sans' (GillSans.ttc) normal normal 400 normal>) = 10.05\u001b[0m\n",
      "\u001b[32m2019-07-06 13:42:50:\u001b[0m \u001b[34mmatplotlib.font_manager\u001b[0m - _findfont_cached - \u001b[1;30mDEBUG\u001b[0m - \u001b[32mfindfont: score(<Font 'Courier New' (Courier New.ttf) normal normal 400 normal>) = 10.05\u001b[0m\n",
      "\u001b[32m2019-07-06 13:42:50:\u001b[0m \u001b[34mmatplotlib.font_manager\u001b[0m - _findfont_cached - \u001b[1;30mDEBUG\u001b[0m - \u001b[32mfindfont: score(<Font 'Wawati TC' (WawaTC-Regular.otf) normal normal regular normal>) = 10.05\u001b[0m\n",
      "\u001b[32m2019-07-06 13:42:50:\u001b[0m \u001b[34mmatplotlib.font_manager\u001b[0m - _findfont_cached - \u001b[1;30mDEBUG\u001b[0m - \u001b[32mfindfont: score(<Font 'STIXGeneral' (STIXGeneralBolIta.otf) italic normal bold normal>) = 11.335\u001b[0m\n",
      "\u001b[32m2019-07-06 13:42:50:\u001b[0m \u001b[34mmatplotlib.font_manager\u001b[0m - _findfont_cached - \u001b[1;30mDEBUG\u001b[0m - \u001b[32mfindfont: score(<Font 'Apple LiGothic' (AppleLiGothic-Medium.ttf) normal normal medium normal>) = 10.145\u001b[0m\n",
      "\u001b[32m2019-07-06 13:42:50:\u001b[0m \u001b[34mmatplotlib.font_manager\u001b[0m - _findfont_cached - \u001b[1;30mDEBUG\u001b[0m - \u001b[32mfindfont: score(<Font 'Yuanti SC' (Yuanti.ttc) normal normal regular normal>) = 10.05\u001b[0m\n",
      "\u001b[32m2019-07-06 13:42:50:\u001b[0m \u001b[34mmatplotlib.font_manager\u001b[0m - _findfont_cached - \u001b[1;30mDEBUG\u001b[0m - \u001b[32mfindfont: score(<Font 'Hiragino Sans GB' (Hiragino Sans GB.ttc) normal normal 400 normal>) = 10.05\u001b[0m\n",
      "\u001b[32m2019-07-06 13:42:50:\u001b[0m \u001b[34mmatplotlib.font_manager\u001b[0m - _findfont_cached - \u001b[1;30mDEBUG\u001b[0m - \u001b[32mfindfont: score(<Font 'Hiragino Sans' (ヒラギノ角ゴシック W0.ttc) normal normal 400 normal>) = 10.05\u001b[0m\n",
      "\u001b[32m2019-07-06 13:42:50:\u001b[0m \u001b[34mmatplotlib.font_manager\u001b[0m - _findfont_cached - \u001b[1;30mDEBUG\u001b[0m - \u001b[32mfindfont: score(<Font 'Trebuchet MS' (Trebuchet MS.ttf) normal normal 400 normal>) = 10.05\u001b[0m\n",
      "\u001b[32m2019-07-06 13:42:50:\u001b[0m \u001b[34mmatplotlib.font_manager\u001b[0m - _findfont_cached - \u001b[1;30mDEBUG\u001b[0m - \u001b[32mfindfont: score(<Font 'Bitstream Vera Sans' (VeraBd.ttf) normal normal bold normal>) = 6.335\u001b[0m\n",
      "\u001b[32m2019-07-06 13:42:50:\u001b[0m \u001b[34mmatplotlib.font_manager\u001b[0m - _findfont_cached - \u001b[1;30mDEBUG\u001b[0m - \u001b[32mfindfont: score(<Font '.SF NS Text Condensed' (SFNSTextCondensed-Medium.otf) normal normal medium condensed>) = 10.344999999999999\u001b[0m\n",
      "\u001b[32m2019-07-06 13:42:50:\u001b[0m \u001b[34mmatplotlib.font_manager\u001b[0m - _findfont_cached - \u001b[1;30mDEBUG\u001b[0m - \u001b[32mfindfont: score(<Font '.SF Compact Rounded' (SFCompactRounded-Thin.otf) normal normal 400 normal>) = 10.05\u001b[0m\n",
      "\u001b[32m2019-07-06 13:42:50:\u001b[0m \u001b[34mmatplotlib.font_manager\u001b[0m - _findfont_cached - \u001b[1;30mDEBUG\u001b[0m - \u001b[32mfindfont: score(<Font 'Montserrat SemiBold' (Montserrat-SemiBold.ttf) normal normal semibold normal>) = 10.24\u001b[0m\n",
      "\u001b[32m2019-07-06 13:42:50:\u001b[0m \u001b[34mmatplotlib.font_manager\u001b[0m - _findfont_cached - \u001b[1;30mDEBUG\u001b[0m - \u001b[32mfindfont: score(<Font 'Hiragino Sans' (ヒラギノ角ゴシック W1.ttc) normal normal 400 normal>) = 10.05\u001b[0m\n",
      "\u001b[32m2019-07-06 13:42:50:\u001b[0m \u001b[34mmatplotlib.font_manager\u001b[0m - _findfont_cached - \u001b[1;30mDEBUG\u001b[0m - \u001b[32mfindfont: score(<Font 'Tamil MN' (Tamil MN.ttc) normal normal 400 normal>) = 10.05\u001b[0m\n",
      "\u001b[32m2019-07-06 13:42:50:\u001b[0m \u001b[34mmatplotlib.font_manager\u001b[0m - _findfont_cached - \u001b[1;30mDEBUG\u001b[0m - \u001b[32mfindfont: score(<Font '.SF NS Text Condensed' (SFNSTextCondensed-Regular.otf) normal normal regular condensed>) = 10.25\u001b[0m\n",
      "\u001b[32m2019-07-06 13:42:50:\u001b[0m \u001b[34mmatplotlib.font_manager\u001b[0m - _findfont_cached - \u001b[1;30mDEBUG\u001b[0m - \u001b[32mfindfont: score(<Font 'Raanana' (Raanana.ttc) normal normal 400 normal>) = 10.05\u001b[0m\n",
      "\u001b[32m2019-07-06 13:42:50:\u001b[0m \u001b[34mmatplotlib.font_manager\u001b[0m - _findfont_cached - \u001b[1;30mDEBUG\u001b[0m - \u001b[32mfindfont: score(<Font 'Zapfino' (Zapfino.ttf) normal normal 400 normal>) = 10.05\u001b[0m\n",
      "\u001b[32m2019-07-06 13:42:50:\u001b[0m \u001b[34mmatplotlib.font_manager\u001b[0m - _findfont_cached - \u001b[1;30mDEBUG\u001b[0m - \u001b[32mfindfont: score(<Font 'Heiti TC' (STHeiti Medium.ttc) normal normal medium normal>) = 10.145\u001b[0m\n",
      "\u001b[32m2019-07-06 13:42:50:\u001b[0m \u001b[34mmatplotlib.font_manager\u001b[0m - _findfont_cached - \u001b[1;30mDEBUG\u001b[0m - \u001b[32mfindfont: score(<Font 'Palatino' (Palatino.ttc) normal normal 400 normal>) = 10.05\u001b[0m\n",
      "\u001b[32m2019-07-06 13:42:50:\u001b[0m \u001b[34mmatplotlib.font_manager\u001b[0m - _findfont_cached - \u001b[1;30mDEBUG\u001b[0m - \u001b[32mfindfont: score(<Font 'Wingdings' (Wingdings.ttf) normal normal 400 normal>) = 10.05\u001b[0m\n",
      "\u001b[32m2019-07-06 13:42:50:\u001b[0m \u001b[34mmatplotlib.font_manager\u001b[0m - _findfont_cached - \u001b[1;30mDEBUG\u001b[0m - \u001b[32mfindfont: score(<Font 'Luxi Sans' (luxisb.ttf) normal normal bold normal>) = 10.335\u001b[0m\n",
      "\u001b[32m2019-07-06 13:42:50:\u001b[0m \u001b[34mmatplotlib.font_manager\u001b[0m - _findfont_cached - \u001b[1;30mDEBUG\u001b[0m - \u001b[32mfindfont: score(<Font 'Lucida Grande' (LucidaGrande.ttc) normal normal 400 normal>) = 10.05\u001b[0m\n",
      "\u001b[32m2019-07-06 13:42:50:\u001b[0m \u001b[34mmatplotlib.font_manager\u001b[0m - _findfont_cached - \u001b[1;30mDEBUG\u001b[0m - \u001b[32mfindfont: score(<Font '.SF NS Display Condensed' (SFNSDisplayCondensed-Ultralight.otf) normal normal ultralight condensed>) = 10.535\u001b[0m\n",
      "\u001b[32m2019-07-06 13:42:50:\u001b[0m \u001b[34mmatplotlib.font_manager\u001b[0m - _findfont_cached - \u001b[1;30mDEBUG\u001b[0m - \u001b[32mfindfont: score(<Font 'Gurmukhi Sangam MN' (Gurmukhi Sangam MN.ttc) normal normal 400 normal>) = 10.05\u001b[0m\n",
      "\u001b[32m2019-07-06 13:42:50:\u001b[0m \u001b[34mmatplotlib.font_manager\u001b[0m - _findfont_cached - \u001b[1;30mDEBUG\u001b[0m - \u001b[32mfindfont: score(<Font 'Roboto' (Roboto-Italic.ttf) italic normal 400 normal>) = 11.05\u001b[0m\n",
      "\u001b[32m2019-07-06 13:42:50:\u001b[0m \u001b[34mmatplotlib.font_manager\u001b[0m - _findfont_cached - \u001b[1;30mDEBUG\u001b[0m - \u001b[32mfindfont: score(<Font 'System Font' (SFNSDisplay-ThinG4.otf) normal normal 400 normal>) = 10.05\u001b[0m\n",
      "\u001b[32m2019-07-06 13:42:50:\u001b[0m \u001b[34mmatplotlib.font_manager\u001b[0m - _findfont_cached - \u001b[1;30mDEBUG\u001b[0m - \u001b[32mfindfont: score(<Font 'Diwan Thuluth' (Diwan Thuluth.ttf) normal normal regular normal>) = 10.05\u001b[0m\n",
      "\u001b[32m2019-07-06 13:42:50:\u001b[0m \u001b[34mmatplotlib.font_manager\u001b[0m - _findfont_cached - \u001b[1;30mDEBUG\u001b[0m - \u001b[32mfindfont: score(<Font 'Arial Narrow' (Arial Narrow Italic.ttf) italic normal 400 condensed>) = 11.25\u001b[0m\n"
     ]
    },
    {
     "name": "stdout",
     "output_type": "stream",
     "text": [
      "\u001b[32m2019-07-06 13:42:50:\u001b[0m \u001b[34mmatplotlib.font_manager\u001b[0m - _findfont_cached - \u001b[1;30mDEBUG\u001b[0m - \u001b[32mfindfont: score(<Font 'American Typewriter' (AmericanTypewriter.ttc) normal normal 400 normal>) = 10.05\u001b[0m\n",
      "\u001b[32m2019-07-06 13:42:50:\u001b[0m \u001b[34mmatplotlib.font_manager\u001b[0m - _findfont_cached - \u001b[1;30mDEBUG\u001b[0m - \u001b[32mfindfont: score(<Font 'Arial' (Arial Bold Italic.ttf) italic normal bold normal>) = 1.335\u001b[0m\n",
      "\u001b[32m2019-07-06 13:42:50:\u001b[0m \u001b[34mmatplotlib.font_manager\u001b[0m - _findfont_cached - \u001b[1;30mDEBUG\u001b[0m - \u001b[32mfindfont: score(<Font 'Hiragino Sans' (ヒラギノ角ゴシック W9.ttc) normal normal 700 normal>) = 10.335\u001b[0m\n",
      "\u001b[32m2019-07-06 13:42:50:\u001b[0m \u001b[34mmatplotlib.font_manager\u001b[0m - _findfont_cached - \u001b[1;30mDEBUG\u001b[0m - \u001b[32mfindfont: score(<Font 'New Peninim MT' (NewPeninimMT.ttc) normal normal 400 normal>) = 10.05\u001b[0m\n",
      "\u001b[32m2019-07-06 13:42:50:\u001b[0m \u001b[34mmatplotlib.font_manager\u001b[0m - _findfont_cached - \u001b[1;30mDEBUG\u001b[0m - \u001b[32mfindfont: score(<Font 'Kaiti SC' (Kaiti.ttc) normal normal regular normal>) = 10.05\u001b[0m\n",
      "\u001b[32m2019-07-06 13:42:50:\u001b[0m \u001b[34mmatplotlib.font_manager\u001b[0m - _findfont_cached - \u001b[1;30mDEBUG\u001b[0m - \u001b[32mfindfont: score(<Font 'Hoefler Text' (Hoefler Text.ttc) normal normal 400 normal>) = 10.05\u001b[0m\n",
      "\u001b[32m2019-07-06 13:42:50:\u001b[0m \u001b[34mmatplotlib.font_manager\u001b[0m - _findfont_cached - \u001b[1;30mDEBUG\u001b[0m - \u001b[32mfindfont: score(<Font 'Apple Symbols' (Apple Symbols.ttf) normal normal 400 normal>) = 10.05\u001b[0m\n",
      "\u001b[32m2019-07-06 13:42:50:\u001b[0m \u001b[34mmatplotlib.font_manager\u001b[0m - _findfont_cached - \u001b[1;30mDEBUG\u001b[0m - \u001b[32mfindfont: score(<Font '.SF NS Symbols' (SFNSSymbols-Thin.otf) normal normal 400 normal>) = 10.05\u001b[0m\n",
      "\u001b[32m2019-07-06 13:42:50:\u001b[0m \u001b[34mmatplotlib.font_manager\u001b[0m - _findfont_cached - \u001b[1;30mDEBUG\u001b[0m - \u001b[32mfindfont: score(<Font 'Copperplate' (Copperplate.ttc) normal normal 400 normal>) = 10.05\u001b[0m\n",
      "\u001b[32m2019-07-06 13:42:50:\u001b[0m \u001b[34mmatplotlib.font_manager\u001b[0m - _findfont_cached - \u001b[1;30mDEBUG\u001b[0m - \u001b[32mfindfont: score(<Font '.SF Compact Display' (SFCompactDisplay-Bold.otf) normal normal bold normal>) = 10.335\u001b[0m\n",
      "\u001b[32m2019-07-06 13:42:50:\u001b[0m \u001b[34mmatplotlib.font_manager\u001b[0m - _findfont_cached - \u001b[1;30mDEBUG\u001b[0m - \u001b[32mfindfont: score(<Font 'Seravek' (Seravek.ttc) normal normal 400 normal>) = 10.05\u001b[0m\n",
      "\u001b[32m2019-07-06 13:42:50:\u001b[0m \u001b[34mmatplotlib.font_manager\u001b[0m - _findfont_cached - \u001b[1;30mDEBUG\u001b[0m - \u001b[32mfindfont: score(<Font 'Kokonor' (Kokonor.ttf) normal normal regular normal>) = 10.05\u001b[0m\n",
      "\u001b[32m2019-07-06 13:42:50:\u001b[0m \u001b[34mmatplotlib.font_manager\u001b[0m - _findfont_cached - \u001b[1;30mDEBUG\u001b[0m - \u001b[32mfindfont: score(<Font 'Trattatello' (Trattatello.ttf) normal normal 400 normal>) = 10.05\u001b[0m\n",
      "\u001b[32m2019-07-06 13:42:50:\u001b[0m \u001b[34mmatplotlib.font_manager\u001b[0m - _findfont_cached - \u001b[1;30mDEBUG\u001b[0m - \u001b[32mfindfont: score(<Font 'STIXSizeOneSym' (STIXSizOneSymReg.otf) normal normal regular normal>) = 10.05\u001b[0m\n",
      "\u001b[32m2019-07-06 13:42:50:\u001b[0m \u001b[34mmatplotlib.font_manager\u001b[0m - _findfont_cached - \u001b[1;30mDEBUG\u001b[0m - \u001b[32mfindfont: score(<Font 'Georgia' (Georgia Bold.ttf) normal normal bold normal>) = 10.335\u001b[0m\n",
      "\u001b[32m2019-07-06 13:42:50:\u001b[0m \u001b[34mmatplotlib.font_manager\u001b[0m - _findfont_cached - \u001b[1;30mDEBUG\u001b[0m - \u001b[32mfindfont: score(<Font '.SF NS Text Condensed' (SFNSTextCondensed-Heavy.otf) normal normal heavy condensed>) = 10.629999999999999\u001b[0m\n",
      "\u001b[32m2019-07-06 13:42:50:\u001b[0m \u001b[34mmatplotlib.font_manager\u001b[0m - _findfont_cached - \u001b[1;30mDEBUG\u001b[0m - \u001b[32mfindfont: score(<Font 'Montserrat' (Montserrat-Italic.ttf) italic normal 400 normal>) = 11.05\u001b[0m\n",
      "\u001b[32m2019-07-06 13:42:50:\u001b[0m \u001b[34mmatplotlib.font_manager\u001b[0m - _findfont_cached - \u001b[1;30mDEBUG\u001b[0m - \u001b[32mfindfont: score(<Font 'Luxi Serif' (luxirbi.ttf) oblique normal bold normal>) = 11.335\u001b[0m\n",
      "\u001b[32m2019-07-06 13:42:50:\u001b[0m \u001b[34mmatplotlib.font_manager\u001b[0m - _findfont_cached - \u001b[1;30mDEBUG\u001b[0m - \u001b[32mfindfont: score(<Font 'Nadeem' (Nadeem.ttc) normal normal regular normal>) = 10.05\u001b[0m\n",
      "\u001b[32m2019-07-06 13:42:50:\u001b[0m \u001b[34mmatplotlib.font_manager\u001b[0m - _findfont_cached - \u001b[1;30mDEBUG\u001b[0m - \u001b[32mfindfont: score(<Font 'Weibei TC' (WeibeiTC-Bold.otf) normal normal bold normal>) = 10.335\u001b[0m\n",
      "\u001b[32m2019-07-06 13:42:50:\u001b[0m \u001b[34mmatplotlib.font_manager\u001b[0m - _findfont_cached - \u001b[1;30mDEBUG\u001b[0m - \u001b[32mfindfont: score(<Font 'Montserrat' (Montserrat-BoldItalic.ttf) italic normal bold normal>) = 11.335\u001b[0m\n",
      "\u001b[32m2019-07-06 13:42:50:\u001b[0m \u001b[34mmatplotlib.font_manager\u001b[0m - _findfont_cached - \u001b[1;30mDEBUG\u001b[0m - \u001b[32mfindfont: score(<Font 'Marker Felt' (MarkerFelt.ttc) normal normal 400 normal>) = 10.05\u001b[0m\n",
      "\u001b[32m2019-07-06 13:42:50:\u001b[0m \u001b[34mmatplotlib.font_manager\u001b[0m - _findfont_cached - \u001b[1;30mDEBUG\u001b[0m - \u001b[32mfindfont: score(<Font 'Helvetica Neue' (HelveticaNeue.ttc) normal normal 400 normal>) = 10.05\u001b[0m\n",
      "\u001b[32m2019-07-06 13:42:50:\u001b[0m \u001b[34mmatplotlib.font_manager\u001b[0m - _findfont_cached - \u001b[1;30mDEBUG\u001b[0m - \u001b[32mfindfont: score(<Font 'PT Mono' (PTMono.ttc) normal normal bold normal>) = 10.335\u001b[0m\n",
      "\u001b[32m2019-07-06 13:42:50:\u001b[0m \u001b[34mmatplotlib.font_manager\u001b[0m - _findfont_cached - \u001b[1;30mDEBUG\u001b[0m - \u001b[32mfindfont: score(<Font 'Verdana' (Verdana Bold.ttf) normal normal bold normal>) = 10.335\u001b[0m\n",
      "\u001b[32m2019-07-06 13:42:50:\u001b[0m \u001b[34mmatplotlib.font_manager\u001b[0m - _findfont_cached - \u001b[1;30mDEBUG\u001b[0m - \u001b[32mfindfont: score(<Font 'PT Sans' (PTSans.ttc) normal normal 400 normal>) = 10.05\u001b[0m\n",
      "\u001b[32m2019-07-06 13:42:50:\u001b[0m \u001b[34mmatplotlib.font_manager\u001b[0m - _findfont_cached - \u001b[1;30mDEBUG\u001b[0m - \u001b[32mfindfont: score(<Font 'Kohinoor Bangla' (KohinoorBangla.ttc) normal normal 400 normal>) = 10.05\u001b[0m\n",
      "\u001b[32m2019-07-06 13:42:50:\u001b[0m \u001b[34mmatplotlib.font_manager\u001b[0m - _findfont_cached - \u001b[1;30mDEBUG\u001b[0m - \u001b[32mfindfont: score(<Font 'Wingdings 2' (Wingdings 2.ttf) normal normal 400 normal>) = 10.05\u001b[0m\n",
      "\u001b[32m2019-07-06 13:42:50:\u001b[0m \u001b[34mmatplotlib.font_manager\u001b[0m - _findfont_cached - \u001b[1;30mDEBUG\u001b[0m - \u001b[32mfindfont: score(<Font 'Montserrat Black' (Montserrat-BlackItalic.ttf) italic normal black normal>) = 11.525\u001b[0m\n",
      "\u001b[32m2019-07-06 13:42:50:\u001b[0m \u001b[34mmatplotlib.font_manager\u001b[0m - _findfont_cached - \u001b[1;30mDEBUG\u001b[0m - \u001b[32mfindfont: score(<Font 'Telugu MN' (Telugu MN.ttc) normal normal 400 normal>) = 10.05\u001b[0m\n",
      "\u001b[32m2019-07-06 13:42:50:\u001b[0m \u001b[34mmatplotlib.font_manager\u001b[0m - _findfont_cached - \u001b[1;30mDEBUG\u001b[0m - \u001b[32mfindfont: score(<Font 'Yuppy TC' (YuppyTC-Regular.otf) normal normal regular normal>) = 10.05\u001b[0m\n",
      "\u001b[32m2019-07-06 13:42:50:\u001b[0m \u001b[34mmatplotlib.font_manager\u001b[0m - _findfont_cached - \u001b[1;30mDEBUG\u001b[0m - \u001b[32mfindfont: score(<Font 'Estrangelo Midyat' (SyrCOMMidyat.otf) normal normal 400 normal>) = 10.05\u001b[0m\n",
      "\u001b[32m2019-07-06 13:42:50:\u001b[0m \u001b[34mmatplotlib.font_manager\u001b[0m - _findfont_cached - \u001b[1;30mDEBUG\u001b[0m - \u001b[32mfindfont: score(<Font 'Xingkai SC' (Xingkai.ttc) normal normal bold normal>) = 10.335\u001b[0m\n",
      "\u001b[32m2019-07-06 13:42:50:\u001b[0m \u001b[34mmatplotlib.font_manager\u001b[0m - _findfont_cached - \u001b[1;30mDEBUG\u001b[0m - \u001b[32mfindfont: score(<Font 'Hiragino Sans' (ヒラギノ角ゴシック W4.ttc) normal normal 400 normal>) = 10.05\u001b[0m\n",
      "\u001b[32m2019-07-06 13:42:50:\u001b[0m \u001b[34mmatplotlib.font_manager\u001b[0m - _findfont_cached - \u001b[1;30mDEBUG\u001b[0m - \u001b[32mfindfont: score(<Font 'Kannada MN' (Kannada MN.ttc) normal normal 400 normal>) = 10.05\u001b[0m\n",
      "\u001b[32m2019-07-06 13:42:50:\u001b[0m \u001b[34mmatplotlib.font_manager\u001b[0m - _findfont_cached - \u001b[1;30mDEBUG\u001b[0m - \u001b[32mfindfont: score(<Font 'Mshtakan' (Mshtakan.ttc) normal normal 400 normal>) = 10.05\u001b[0m\n",
      "\u001b[32m2019-07-06 13:42:50:\u001b[0m \u001b[34mmatplotlib.font_manager\u001b[0m - _findfont_cached - \u001b[1;30mDEBUG\u001b[0m - \u001b[32mfindfont: score(<Font 'Apple Braille' (Apple Braille Pinpoint 6 Dot.ttf) normal normal 400 normal>) = 10.05\u001b[0m\n",
      "\u001b[32m2019-07-06 13:42:50:\u001b[0m \u001b[34mmatplotlib.font_manager\u001b[0m - _findfont_cached - \u001b[1;30mDEBUG\u001b[0m - \u001b[32mfindfont: score(<Font 'InaiMathi' (InaiMathi-MN.ttc) normal normal 400 normal>) = 10.05\u001b[0m\n",
      "\u001b[32m2019-07-06 13:42:50:\u001b[0m \u001b[34mmatplotlib.font_manager\u001b[0m - _findfont_cached - \u001b[1;30mDEBUG\u001b[0m - \u001b[32mfindfont: score(<Font 'STIXIntegralsD' (STIXIntDReg.otf) normal normal regular normal>) = 10.05\u001b[0m\n",
      "\u001b[32m2019-07-06 13:42:50:\u001b[0m \u001b[34mmatplotlib.font_manager\u001b[0m - _findfont_cached - \u001b[1;30mDEBUG\u001b[0m - \u001b[32mfindfont: score(<Font 'System Font' (SFNSDisplay-BoldItalic.otf) italic normal bold normal>) = 11.335\u001b[0m\n"
     ]
    },
    {
     "name": "stdout",
     "output_type": "stream",
     "text": [
      "\u001b[32m2019-07-06 13:42:50:\u001b[0m \u001b[34mmatplotlib.font_manager\u001b[0m - _findfont_cached - \u001b[1;30mDEBUG\u001b[0m - \u001b[32mfindfont: score(<Font 'Montserrat Light' (Montserrat-Light.ttf) normal normal light normal>) = 10.24\u001b[0m\n",
      "\u001b[32m2019-07-06 13:42:50:\u001b[0m \u001b[34mmatplotlib.font_manager\u001b[0m - _findfont_cached - \u001b[1;30mDEBUG\u001b[0m - \u001b[32mfindfont: score(<Font 'STIXIntegralsUpD' (STIXIntUpDReg.otf) normal normal regular normal>) = 10.05\u001b[0m\n",
      "\u001b[32m2019-07-06 13:42:50:\u001b[0m \u001b[34mmatplotlib.font_manager\u001b[0m - _findfont_cached - \u001b[1;30mDEBUG\u001b[0m - \u001b[32mfindfont: score(<Font 'Oriya Sangam MN' (Oriya Sangam MN.ttc) normal normal 400 normal>) = 10.05\u001b[0m\n",
      "\u001b[32m2019-07-06 13:42:50:\u001b[0m \u001b[34mmatplotlib.font_manager\u001b[0m - _findfont_cached - \u001b[1;30mDEBUG\u001b[0m - \u001b[32mfindfont: score(<Font 'Luxi Sans' (luxisri.ttf) oblique normal 400 normal>) = 11.05\u001b[0m\n",
      "\u001b[32m2019-07-06 13:42:50:\u001b[0m \u001b[34mmatplotlib.font_manager\u001b[0m - _findfont_cached - \u001b[1;30mDEBUG\u001b[0m - \u001b[32mfindfont: score(<Font 'East Syriac Ctesiphon' (SyrCOMCtesiphon.otf) normal normal 400 normal>) = 10.05\u001b[0m\n",
      "\u001b[32m2019-07-06 13:42:50:\u001b[0m \u001b[34mmatplotlib.font_manager\u001b[0m - _findfont_cached - \u001b[1;30mDEBUG\u001b[0m - \u001b[32mfindfont: score(<Font 'Yuppy SC' (YuppySC-Regular.otf) normal normal regular normal>) = 10.05\u001b[0m\n",
      "\u001b[32m2019-07-06 13:42:50:\u001b[0m \u001b[34mmatplotlib.font_manager\u001b[0m - _findfont_cached - \u001b[1;30mDEBUG\u001b[0m - \u001b[32mfindfont: score(<Font 'Serto Batnan' (SyrCOMBatnanBold.otf) normal normal bold normal>) = 10.335\u001b[0m\n",
      "\u001b[32m2019-07-06 13:42:50:\u001b[0m \u001b[34mmatplotlib.font_manager\u001b[0m - _findfont_cached - \u001b[1;30mDEBUG\u001b[0m - \u001b[32mfindfont: score(<Font 'Verdana' (Verdana Bold Italic.ttf) italic normal bold normal>) = 11.335\u001b[0m\n",
      "\u001b[32m2019-07-06 13:42:50:\u001b[0m \u001b[34mmatplotlib.font_manager\u001b[0m - _findfont_cached - \u001b[1;30mDEBUG\u001b[0m - \u001b[32mfindfont: score(<Font 'Georgia' (Georgia Bold Italic.ttf) italic normal bold normal>) = 11.335\u001b[0m\n",
      "\u001b[32m2019-07-06 13:42:50:\u001b[0m \u001b[34mmatplotlib.font_manager\u001b[0m - _findfont_cached - \u001b[1;30mDEBUG\u001b[0m - \u001b[32mfindfont: score(<Font 'Serto Mardin' (SyrCOMMardinBold.otf) normal normal bold normal>) = 10.335\u001b[0m\n",
      "\u001b[32m2019-07-06 13:42:50:\u001b[0m \u001b[34mmatplotlib.font_manager\u001b[0m - _findfont_cached - \u001b[1;30mDEBUG\u001b[0m - \u001b[32mfindfont: score(<Font 'Zapf Dingbats' (ZapfDingbats.ttf) normal normal 400 normal>) = 10.05\u001b[0m\n",
      "\u001b[32m2019-07-06 13:42:50:\u001b[0m \u001b[34mmatplotlib.font_manager\u001b[0m - _findfont_cached - \u001b[1;30mDEBUG\u001b[0m - \u001b[32mfindfont: score(<Font 'GungSeo' (Gungseouche.ttf) normal normal regular normal>) = 10.05\u001b[0m\n",
      "\u001b[32m2019-07-06 13:42:50:\u001b[0m \u001b[34mmatplotlib.font_manager\u001b[0m - _findfont_cached - \u001b[1;30mDEBUG\u001b[0m - \u001b[32mfindfont: score(<Font 'Estrangelo Nisibin Outline' (SyrCOMNisibinOutline.otf) normal normal 400 normal>) = 10.05\u001b[0m\n",
      "\u001b[32m2019-07-06 13:42:50:\u001b[0m \u001b[34mmatplotlib.font_manager\u001b[0m - _findfont_cached - \u001b[1;30mDEBUG\u001b[0m - \u001b[32mfindfont: score(<Font 'PilGi' (Pilgiche.ttf) normal normal regular normal>) = 10.05\u001b[0m\n",
      "\u001b[32m2019-07-06 13:42:50:\u001b[0m \u001b[34mmatplotlib.font_manager\u001b[0m - _findfont_cached - \u001b[1;30mDEBUG\u001b[0m - \u001b[32mfindfont: score(<Font 'Roboto' (Roboto-Bold.ttf) normal normal bold normal>) = 10.335\u001b[0m\n",
      "\u001b[32m2019-07-06 13:42:50:\u001b[0m \u001b[34mmatplotlib.font_manager\u001b[0m - _findfont_cached - \u001b[1;30mDEBUG\u001b[0m - \u001b[32mfindfont: score(<Font 'Beirut' (Beirut.ttc) normal normal regular normal>) = 10.05\u001b[0m\n",
      "\u001b[32m2019-07-06 13:42:50:\u001b[0m \u001b[34mmatplotlib.font_manager\u001b[0m - _findfont_cached - \u001b[1;30mDEBUG\u001b[0m - \u001b[32mfindfont: score(<Font 'Lao MN' (Lao MN.ttc) normal normal 400 normal>) = 10.05\u001b[0m\n",
      "\u001b[32m2019-07-06 13:42:50:\u001b[0m \u001b[34mmatplotlib.font_manager\u001b[0m - _findfont_cached - \u001b[1;30mDEBUG\u001b[0m - \u001b[32mfindfont: score(<Font 'KufiStandardGK' (KufiStandardGK.ttc) normal normal regular normal>) = 10.05\u001b[0m\n",
      "\u001b[32m2019-07-06 13:42:50:\u001b[0m \u001b[34mmatplotlib.font_manager\u001b[0m - _findfont_cached - \u001b[1;30mDEBUG\u001b[0m - \u001b[32mfindfont: score(<Font '.SF Compact Display' (SFCompactDisplay-Thin.otf) normal normal 400 normal>) = 10.05\u001b[0m\n",
      "\u001b[32m2019-07-06 13:42:50:\u001b[0m \u001b[34mmatplotlib.font_manager\u001b[0m - _findfont_cached - \u001b[1;30mDEBUG\u001b[0m - \u001b[32mfindfont: score(<Font 'Serto Jerusalem' (SyrCOMJerusalem.otf) normal normal 400 normal>) = 10.05\u001b[0m\n",
      "\u001b[32m2019-07-06 13:42:50:\u001b[0m \u001b[34mmatplotlib.font_manager\u001b[0m - _findfont_cached - \u001b[1;30mDEBUG\u001b[0m - \u001b[32mfindfont: score(<Font 'Roboto Medium' (Roboto-MediumItalic.ttf) italic normal medium normal>) = 11.145\u001b[0m\n",
      "\u001b[32m2019-07-06 13:42:50:\u001b[0m \u001b[34mmatplotlib.font_manager\u001b[0m - _findfont_cached - \u001b[1;30mDEBUG\u001b[0m - \u001b[32mfindfont: score(<Font 'Toppan Bunkyu Gothic' (ToppanBunkyuGothicPr6N.ttc) normal normal demibold normal>) = 10.24\u001b[0m\n",
      "\u001b[32m2019-07-06 13:42:50:\u001b[0m \u001b[34mmatplotlib.font_manager\u001b[0m - _findfont_cached - \u001b[1;30mDEBUG\u001b[0m - \u001b[32mfindfont: score(<Font 'DIN Condensed' (DIN Condensed Bold.ttf) normal normal bold condensed>) = 10.535\u001b[0m\n",
      "\u001b[32m2019-07-06 13:42:50:\u001b[0m \u001b[34mmatplotlib.font_manager\u001b[0m - _findfont_cached - \u001b[1;30mDEBUG\u001b[0m - \u001b[32mfindfont: score(<Font 'YuMincho' (YuMincho.ttc) normal normal medium normal>) = 10.145\u001b[0m\n",
      "\u001b[32m2019-07-06 13:42:50:\u001b[0m \u001b[34mmatplotlib.font_manager\u001b[0m - _findfont_cached - \u001b[1;30mDEBUG\u001b[0m - \u001b[32mfindfont: Matching :family=sans-serif:style=normal:variant=normal:weight=normal:stretch=normal:size=11.0 to Arial ('/Library/Fonts/Arial.ttf') with score of 0.050000.\u001b[0m\n",
      "\u001b[32m2019-07-06 13:42:50:\u001b[0m \u001b[34mmatplotlib.font_manager\u001b[0m - _findfont_cached - \u001b[1;30mDEBUG\u001b[0m - \u001b[32mfindfont: Matching :family=sans-serif:style=normal:variant=normal:weight=normal:stretch=normal:size=12.0.\u001b[0m\n",
      "\u001b[32m2019-07-06 13:42:50:\u001b[0m \u001b[34mmatplotlib.font_manager\u001b[0m - _findfont_cached - \u001b[1;30mDEBUG\u001b[0m - \u001b[32mfindfont: score(<Font 'STIXGeneral' (STIXGeneralBol.ttf) normal normal bold normal>) = 10.335\u001b[0m\n",
      "\u001b[32m2019-07-06 13:42:50:\u001b[0m \u001b[34mmatplotlib.font_manager\u001b[0m - _findfont_cached - \u001b[1;30mDEBUG\u001b[0m - \u001b[32mfindfont: score(<Font 'DejaVu Serif Display' (DejaVuSerifDisplay.ttf) normal normal 400 normal>) = 10.05\u001b[0m\n",
      "\u001b[32m2019-07-06 13:42:50:\u001b[0m \u001b[34mmatplotlib.font_manager\u001b[0m - _findfont_cached - \u001b[1;30mDEBUG\u001b[0m - \u001b[32mfindfont: score(<Font 'DejaVu Sans Display' (DejaVuSansDisplay.ttf) normal normal 400 normal>) = 10.05\u001b[0m\n",
      "\u001b[32m2019-07-06 13:42:50:\u001b[0m \u001b[34mmatplotlib.font_manager\u001b[0m - _findfont_cached - \u001b[1;30mDEBUG\u001b[0m - \u001b[32mfindfont: score(<Font 'cmsy10' (cmsy10.ttf) normal normal 400 normal>) = 10.05\u001b[0m\n",
      "\u001b[32m2019-07-06 13:42:50:\u001b[0m \u001b[34mmatplotlib.font_manager\u001b[0m - _findfont_cached - \u001b[1;30mDEBUG\u001b[0m - \u001b[32mfindfont: score(<Font 'cmtt10' (cmtt10.ttf) normal normal 400 normal>) = 10.05\u001b[0m\n",
      "\u001b[32m2019-07-06 13:42:50:\u001b[0m \u001b[34mmatplotlib.font_manager\u001b[0m - _findfont_cached - \u001b[1;30mDEBUG\u001b[0m - \u001b[32mfindfont: score(<Font 'STIXSizeFourSym' (STIXSizFourSymBol.ttf) normal normal bold normal>) = 10.335\u001b[0m\n",
      "\u001b[32m2019-07-06 13:42:50:\u001b[0m \u001b[34mmatplotlib.font_manager\u001b[0m - _findfont_cached - \u001b[1;30mDEBUG\u001b[0m - \u001b[32mfindfont: score(<Font 'STIXNonUnicode' (STIXNonUniBol.ttf) normal normal bold normal>) = 10.335\u001b[0m\n",
      "\u001b[32m2019-07-06 13:42:50:\u001b[0m \u001b[34mmatplotlib.font_manager\u001b[0m - _findfont_cached - \u001b[1;30mDEBUG\u001b[0m - \u001b[32mfindfont: score(<Font 'STIXSizeOneSym' (STIXSizOneSymReg.ttf) normal normal regular normal>) = 10.05\u001b[0m\n",
      "\u001b[32m2019-07-06 13:42:50:\u001b[0m \u001b[34mmatplotlib.font_manager\u001b[0m - _findfont_cached - \u001b[1;30mDEBUG\u001b[0m - \u001b[32mfindfont: score(<Font 'STIXGeneral' (STIXGeneralBolIta.ttf) italic normal bold normal>) = 11.335\u001b[0m\n",
      "\u001b[32m2019-07-06 13:42:50:\u001b[0m \u001b[34mmatplotlib.font_manager\u001b[0m - _findfont_cached - \u001b[1;30mDEBUG\u001b[0m - \u001b[32mfindfont: score(<Font 'DejaVu Serif' (DejaVuSerif-Italic.ttf) italic normal 400 normal>) = 11.05\u001b[0m\n",
      "\u001b[32m2019-07-06 13:42:50:\u001b[0m \u001b[34mmatplotlib.font_manager\u001b[0m - _findfont_cached - \u001b[1;30mDEBUG\u001b[0m - \u001b[32mfindfont: score(<Font 'STIXGeneral' (STIXGeneralItalic.ttf) italic normal 400 normal>) = 11.05\u001b[0m\n",
      "\u001b[32m2019-07-06 13:42:50:\u001b[0m \u001b[34mmatplotlib.font_manager\u001b[0m - _findfont_cached - \u001b[1;30mDEBUG\u001b[0m - \u001b[32mfindfont: score(<Font 'DejaVu Sans Mono' (DejaVuSansMono.ttf) normal normal 400 normal>) = 10.05\u001b[0m\n",
      "\u001b[32m2019-07-06 13:42:50:\u001b[0m \u001b[34mmatplotlib.font_manager\u001b[0m - _findfont_cached - \u001b[1;30mDEBUG\u001b[0m - \u001b[32mfindfont: score(<Font 'STIXSizeTwoSym' (STIXSizTwoSymReg.ttf) normal normal regular normal>) = 10.05\u001b[0m\n",
      "\u001b[32m2019-07-06 13:42:50:\u001b[0m \u001b[34mmatplotlib.font_manager\u001b[0m - _findfont_cached - \u001b[1;30mDEBUG\u001b[0m - \u001b[32mfindfont: score(<Font 'DejaVu Sans' (DejaVuSans-Oblique.ttf) oblique normal 400 normal>) = 3.05\u001b[0m\n"
     ]
    },
    {
     "name": "stdout",
     "output_type": "stream",
     "text": [
      "\u001b[32m2019-07-06 13:42:50:\u001b[0m \u001b[34mmatplotlib.font_manager\u001b[0m - _findfont_cached - \u001b[1;30mDEBUG\u001b[0m - \u001b[32mfindfont: score(<Font 'DejaVu Sans' (DejaVuSans-BoldOblique.ttf) oblique normal bold normal>) = 3.335\u001b[0m\n",
      "\u001b[32m2019-07-06 13:42:50:\u001b[0m \u001b[34mmatplotlib.font_manager\u001b[0m - _findfont_cached - \u001b[1;30mDEBUG\u001b[0m - \u001b[32mfindfont: score(<Font 'STIXNonUnicode' (STIXNonUniBolIta.ttf) italic normal bold normal>) = 11.335\u001b[0m\n",
      "\u001b[32m2019-07-06 13:42:50:\u001b[0m \u001b[34mmatplotlib.font_manager\u001b[0m - _findfont_cached - \u001b[1;30mDEBUG\u001b[0m - \u001b[32mfindfont: score(<Font 'cmss10' (cmss10.ttf) normal normal 400 normal>) = 10.05\u001b[0m\n",
      "\u001b[32m2019-07-06 13:42:50:\u001b[0m \u001b[34mmatplotlib.font_manager\u001b[0m - _findfont_cached - \u001b[1;30mDEBUG\u001b[0m - \u001b[32mfindfont: score(<Font 'DejaVu Sans Mono' (DejaVuSansMono-BoldOblique.ttf) oblique normal bold normal>) = 11.335\u001b[0m\n",
      "\u001b[32m2019-07-06 13:42:50:\u001b[0m \u001b[34mmatplotlib.font_manager\u001b[0m - _findfont_cached - \u001b[1;30mDEBUG\u001b[0m - \u001b[32mfindfont: score(<Font 'DejaVu Sans Mono' (DejaVuSansMono-Bold.ttf) normal normal bold normal>) = 10.335\u001b[0m\n",
      "\u001b[32m2019-07-06 13:42:50:\u001b[0m \u001b[34mmatplotlib.font_manager\u001b[0m - _findfont_cached - \u001b[1;30mDEBUG\u001b[0m - \u001b[32mfindfont: score(<Font 'DejaVu Sans' (DejaVuSans.ttf) normal normal 400 normal>) = 2.05\u001b[0m\n",
      "\u001b[32m2019-07-06 13:42:50:\u001b[0m \u001b[34mmatplotlib.font_manager\u001b[0m - _findfont_cached - \u001b[1;30mDEBUG\u001b[0m - \u001b[32mfindfont: score(<Font 'DejaVu Sans' (DejaVuSans-Bold.ttf) normal normal bold normal>) = 2.335\u001b[0m\n",
      "\u001b[32m2019-07-06 13:42:50:\u001b[0m \u001b[34mmatplotlib.font_manager\u001b[0m - _findfont_cached - \u001b[1;30mDEBUG\u001b[0m - \u001b[32mfindfont: score(<Font 'cmr10' (cmr10.ttf) normal normal 400 normal>) = 10.05\u001b[0m\n",
      "\u001b[32m2019-07-06 13:42:50:\u001b[0m \u001b[34mmatplotlib.font_manager\u001b[0m - _findfont_cached - \u001b[1;30mDEBUG\u001b[0m - \u001b[32mfindfont: score(<Font 'DejaVu Serif' (DejaVuSerif-Bold.ttf) normal normal bold normal>) = 10.335\u001b[0m\n",
      "\u001b[32m2019-07-06 13:42:50:\u001b[0m \u001b[34mmatplotlib.font_manager\u001b[0m - _findfont_cached - \u001b[1;30mDEBUG\u001b[0m - \u001b[32mfindfont: score(<Font 'STIXSizeOneSym' (STIXSizOneSymBol.ttf) normal normal bold normal>) = 10.335\u001b[0m\n",
      "\u001b[32m2019-07-06 13:42:50:\u001b[0m \u001b[34mmatplotlib.font_manager\u001b[0m - _findfont_cached - \u001b[1;30mDEBUG\u001b[0m - \u001b[32mfindfont: score(<Font 'STIXSizeThreeSym' (STIXSizThreeSymReg.ttf) normal normal regular normal>) = 10.05\u001b[0m\n",
      "\u001b[32m2019-07-06 13:42:50:\u001b[0m \u001b[34mmatplotlib.font_manager\u001b[0m - _findfont_cached - \u001b[1;30mDEBUG\u001b[0m - \u001b[32mfindfont: score(<Font 'cmb10' (cmb10.ttf) normal normal 400 normal>) = 10.05\u001b[0m\n",
      "\u001b[32m2019-07-06 13:42:50:\u001b[0m \u001b[34mmatplotlib.font_manager\u001b[0m - _findfont_cached - \u001b[1;30mDEBUG\u001b[0m - \u001b[32mfindfont: score(<Font 'cmex10' (cmex10.ttf) normal normal 400 normal>) = 10.05\u001b[0m\n",
      "\u001b[32m2019-07-06 13:42:50:\u001b[0m \u001b[34mmatplotlib.font_manager\u001b[0m - _findfont_cached - \u001b[1;30mDEBUG\u001b[0m - \u001b[32mfindfont: score(<Font 'cmmi10' (cmmi10.ttf) normal normal 400 normal>) = 10.05\u001b[0m\n",
      "\u001b[32m2019-07-06 13:42:50:\u001b[0m \u001b[34mmatplotlib.font_manager\u001b[0m - _findfont_cached - \u001b[1;30mDEBUG\u001b[0m - \u001b[32mfindfont: score(<Font 'DejaVu Sans Mono' (DejaVuSansMono-Oblique.ttf) oblique normal 400 normal>) = 11.05\u001b[0m\n",
      "\u001b[32m2019-07-06 13:42:50:\u001b[0m \u001b[34mmatplotlib.font_manager\u001b[0m - _findfont_cached - \u001b[1;30mDEBUG\u001b[0m - \u001b[32mfindfont: score(<Font 'STIXNonUnicode' (STIXNonUni.ttf) normal normal regular normal>) = 10.05\u001b[0m\n",
      "\u001b[32m2019-07-06 13:42:50:\u001b[0m \u001b[34mmatplotlib.font_manager\u001b[0m - _findfont_cached - \u001b[1;30mDEBUG\u001b[0m - \u001b[32mfindfont: score(<Font 'STIXSizeFourSym' (STIXSizFourSymReg.ttf) normal normal regular normal>) = 10.05\u001b[0m\n",
      "\u001b[32m2019-07-06 13:42:50:\u001b[0m \u001b[34mmatplotlib.font_manager\u001b[0m - _findfont_cached - \u001b[1;30mDEBUG\u001b[0m - \u001b[32mfindfont: score(<Font 'STIXSizeThreeSym' (STIXSizThreeSymBol.ttf) normal normal bold normal>) = 10.335\u001b[0m\n",
      "\u001b[32m2019-07-06 13:42:50:\u001b[0m \u001b[34mmatplotlib.font_manager\u001b[0m - _findfont_cached - \u001b[1;30mDEBUG\u001b[0m - \u001b[32mfindfont: score(<Font 'STIXSizeFiveSym' (STIXSizFiveSymReg.ttf) normal normal regular normal>) = 10.05\u001b[0m\n",
      "\u001b[32m2019-07-06 13:42:50:\u001b[0m \u001b[34mmatplotlib.font_manager\u001b[0m - _findfont_cached - \u001b[1;30mDEBUG\u001b[0m - \u001b[32mfindfont: score(<Font 'STIXNonUnicode' (STIXNonUniIta.ttf) italic normal 400 normal>) = 11.05\u001b[0m\n",
      "\u001b[32m2019-07-06 13:42:50:\u001b[0m \u001b[34mmatplotlib.font_manager\u001b[0m - _findfont_cached - \u001b[1;30mDEBUG\u001b[0m - \u001b[32mfindfont: score(<Font 'DejaVu Serif' (DejaVuSerif-BoldItalic.ttf) italic normal bold normal>) = 11.335\u001b[0m\n",
      "\u001b[32m2019-07-06 13:42:50:\u001b[0m \u001b[34mmatplotlib.font_manager\u001b[0m - _findfont_cached - \u001b[1;30mDEBUG\u001b[0m - \u001b[32mfindfont: score(<Font 'STIXSizeTwoSym' (STIXSizTwoSymBol.ttf) normal normal bold normal>) = 10.335\u001b[0m\n",
      "\u001b[32m2019-07-06 13:42:50:\u001b[0m \u001b[34mmatplotlib.font_manager\u001b[0m - _findfont_cached - \u001b[1;30mDEBUG\u001b[0m - \u001b[32mfindfont: score(<Font 'STIXGeneral' (STIXGeneral.ttf) normal normal regular normal>) = 10.05\u001b[0m\n",
      "\u001b[32m2019-07-06 13:42:50:\u001b[0m \u001b[34mmatplotlib.font_manager\u001b[0m - _findfont_cached - \u001b[1;30mDEBUG\u001b[0m - \u001b[32mfindfont: score(<Font 'DejaVu Serif' (DejaVuSerif.ttf) normal normal 400 normal>) = 10.05\u001b[0m\n",
      "\u001b[32m2019-07-06 13:42:50:\u001b[0m \u001b[34mmatplotlib.font_manager\u001b[0m - _findfont_cached - \u001b[1;30mDEBUG\u001b[0m - \u001b[32mfindfont: score(<Font 'STIXIntegralsUpSm' (STIXIntUpSmBol.otf) normal normal bold normal>) = 10.335\u001b[0m\n",
      "\u001b[32m2019-07-06 13:42:50:\u001b[0m \u001b[34mmatplotlib.font_manager\u001b[0m - _findfont_cached - \u001b[1;30mDEBUG\u001b[0m - \u001b[32mfindfont: score(<Font 'Luxi Serif' (luxirr.ttf) normal normal regular normal>) = 10.05\u001b[0m\n",
      "\u001b[32m2019-07-06 13:42:50:\u001b[0m \u001b[34mmatplotlib.font_manager\u001b[0m - _findfont_cached - \u001b[1;30mDEBUG\u001b[0m - \u001b[32mfindfont: score(<Font 'Gurmukhi MN' (Gurmukhi MN.ttc) normal normal 400 normal>) = 10.05\u001b[0m\n",
      "\u001b[32m2019-07-06 13:42:50:\u001b[0m \u001b[34mmatplotlib.font_manager\u001b[0m - _findfont_cached - \u001b[1;30mDEBUG\u001b[0m - \u001b[32mfindfont: score(<Font 'Luxi Mono' (luximr.ttf) normal normal regular normal>) = 10.05\u001b[0m\n",
      "\u001b[32m2019-07-06 13:42:50:\u001b[0m \u001b[34mmatplotlib.font_manager\u001b[0m - _findfont_cached - \u001b[1;30mDEBUG\u001b[0m - \u001b[32mfindfont: score(<Font 'LingWai SC' (LingWaiSC-Medium.otf) normal normal medium normal>) = 10.145\u001b[0m\n",
      "\u001b[32m2019-07-06 13:42:50:\u001b[0m \u001b[34mmatplotlib.font_manager\u001b[0m - _findfont_cached - \u001b[1;30mDEBUG\u001b[0m - \u001b[32mfindfont: score(<Font 'Sinhala Sangam MN' (Sinhala Sangam MN.ttc) normal normal 400 normal>) = 10.05\u001b[0m\n",
      "\u001b[32m2019-07-06 13:42:50:\u001b[0m \u001b[34mmatplotlib.font_manager\u001b[0m - _findfont_cached - \u001b[1;30mDEBUG\u001b[0m - \u001b[32mfindfont: score(<Font 'Montserrat ExtraBold' (Montserrat-ExtraBold.ttf) normal normal bold normal>) = 10.335\u001b[0m\n",
      "\u001b[32m2019-07-06 13:42:50:\u001b[0m \u001b[34mmatplotlib.font_manager\u001b[0m - _findfont_cached - \u001b[1;30mDEBUG\u001b[0m - \u001b[32mfindfont: score(<Font 'Bitstream Vera Sans Mono' (VeraMono.ttf) normal normal 400 normal>) = 10.05\u001b[0m\n",
      "\u001b[32m2019-07-06 13:42:50:\u001b[0m \u001b[34mmatplotlib.font_manager\u001b[0m - _findfont_cached - \u001b[1;30mDEBUG\u001b[0m - \u001b[32mfindfont: score(<Font 'Montserrat Light' (Montserrat-LightItalic.ttf) italic normal light normal>) = 11.24\u001b[0m\n",
      "\u001b[32m2019-07-06 13:42:50:\u001b[0m \u001b[34mmatplotlib.font_manager\u001b[0m - _findfont_cached - \u001b[1;30mDEBUG\u001b[0m - \u001b[32mfindfont: score(<Font 'Montserrat ExtraLight' (Montserrat-ExtraLight.ttf) normal normal light normal>) = 10.24\u001b[0m\n",
      "\u001b[32m2019-07-06 13:42:50:\u001b[0m \u001b[34mmatplotlib.font_manager\u001b[0m - _findfont_cached - \u001b[1;30mDEBUG\u001b[0m - \u001b[32mfindfont: score(<Font '.SF NS Display Condensed' (SFNSDisplayCondensed-Medium.otf) normal normal medium condensed>) = 10.344999999999999\u001b[0m\n",
      "\u001b[32m2019-07-06 13:42:50:\u001b[0m \u001b[34mmatplotlib.font_manager\u001b[0m - _findfont_cached - \u001b[1;30mDEBUG\u001b[0m - \u001b[32mfindfont: score(<Font 'Plantagenet Cherokee' (PlantagenetCherokee.ttf) normal normal 400 normal>) = 10.05\u001b[0m\n",
      "\u001b[32m2019-07-06 13:42:50:\u001b[0m \u001b[34mmatplotlib.font_manager\u001b[0m - _findfont_cached - \u001b[1;30mDEBUG\u001b[0m - \u001b[32mfindfont: score(<Font 'Chalkboard' (Chalkboard.ttc) normal normal 400 normal>) = 10.05\u001b[0m\n",
      "\u001b[32m2019-07-06 13:42:50:\u001b[0m \u001b[34mmatplotlib.font_manager\u001b[0m - _findfont_cached - \u001b[1;30mDEBUG\u001b[0m - \u001b[32mfindfont: score(<Font 'Myanmar MN' (Myanmar MN.ttc) normal normal 400 normal>) = 10.05\u001b[0m\n",
      "\u001b[32m2019-07-06 13:42:50:\u001b[0m \u001b[34mmatplotlib.font_manager\u001b[0m - _findfont_cached - \u001b[1;30mDEBUG\u001b[0m - \u001b[32mfindfont: score(<Font 'Menlo' (Menlo.ttc) normal normal regular normal>) = 10.05\u001b[0m\n",
      "\u001b[32m2019-07-06 13:42:50:\u001b[0m \u001b[34mmatplotlib.font_manager\u001b[0m - _findfont_cached - \u001b[1;30mDEBUG\u001b[0m - \u001b[32mfindfont: score(<Font 'Luxi Sans' (luxisbi.ttf) oblique normal bold normal>) = 11.335\u001b[0m\n"
     ]
    },
    {
     "name": "stdout",
     "output_type": "stream",
     "text": [
      "\u001b[32m2019-07-06 13:42:50:\u001b[0m \u001b[34mmatplotlib.font_manager\u001b[0m - _findfont_cached - \u001b[1;30mDEBUG\u001b[0m - \u001b[32mfindfont: score(<Font 'Bitstream Vera Sans Mono' (VeraMoBI.ttf) oblique normal bold normal>) = 11.335\u001b[0m\n",
      "\u001b[32m2019-07-06 13:42:50:\u001b[0m \u001b[34mmatplotlib.font_manager\u001b[0m - _findfont_cached - \u001b[1;30mDEBUG\u001b[0m - \u001b[32mfindfont: score(<Font '.SF Compact Text' (SFCompactText-RegularItalic.otf) italic normal 400 normal>) = 11.05\u001b[0m\n",
      "\u001b[32m2019-07-06 13:42:50:\u001b[0m \u001b[34mmatplotlib.font_manager\u001b[0m - _findfont_cached - \u001b[1;30mDEBUG\u001b[0m - \u001b[32mfindfont: score(<Font 'Farah' (Farah.ttc) normal normal regular normal>) = 10.05\u001b[0m\n",
      "\u001b[32m2019-07-06 13:42:50:\u001b[0m \u001b[34mmatplotlib.font_manager\u001b[0m - _findfont_cached - \u001b[1;30mDEBUG\u001b[0m - \u001b[32mfindfont: score(<Font 'Heiti TC' (STHeiti Light.ttc) normal normal light normal>) = 10.24\u001b[0m\n",
      "\u001b[32m2019-07-06 13:42:50:\u001b[0m \u001b[34mmatplotlib.font_manager\u001b[0m - _findfont_cached - \u001b[1;30mDEBUG\u001b[0m - \u001b[32mfindfont: score(<Font 'Impact' (Impact.ttf) normal normal 400 normal>) = 10.05\u001b[0m\n",
      "\u001b[32m2019-07-06 13:42:51:\u001b[0m \u001b[34mmatplotlib.font_manager\u001b[0m - _findfont_cached - \u001b[1;30mDEBUG\u001b[0m - \u001b[32mfindfont: score(<Font 'Serto Mardin' (SyrCOMMardin.otf) normal normal 400 normal>) = 10.05\u001b[0m\n",
      "\u001b[32m2019-07-06 13:42:51:\u001b[0m \u001b[34mmatplotlib.font_manager\u001b[0m - _findfont_cached - \u001b[1;30mDEBUG\u001b[0m - \u001b[32mfindfont: score(<Font 'AppleGothic' (AppleGothic.ttf) normal normal regular normal>) = 10.05\u001b[0m\n",
      "\u001b[32m2019-07-06 13:42:51:\u001b[0m \u001b[34mmatplotlib.font_manager\u001b[0m - _findfont_cached - \u001b[1;30mDEBUG\u001b[0m - \u001b[32mfindfont: score(<Font 'Bitstream Vera Serif' (VeraSe.ttf) normal normal 400 normal>) = 10.05\u001b[0m\n",
      "\u001b[32m2019-07-06 13:42:51:\u001b[0m \u001b[34mmatplotlib.font_manager\u001b[0m - _findfont_cached - \u001b[1;30mDEBUG\u001b[0m - \u001b[32mfindfont: score(<Font 'Diwan Kufi' (Diwan Kufi.ttc) normal normal regular normal>) = 10.05\u001b[0m\n",
      "\u001b[32m2019-07-06 13:42:51:\u001b[0m \u001b[34mmatplotlib.font_manager\u001b[0m - _findfont_cached - \u001b[1;30mDEBUG\u001b[0m - \u001b[32mfindfont: score(<Font 'Myanmar Sangam MN' (Myanmar Sangam MN.ttc) normal normal 400 normal>) = 10.05\u001b[0m\n",
      "\u001b[32m2019-07-06 13:42:51:\u001b[0m \u001b[34mmatplotlib.font_manager\u001b[0m - _findfont_cached - \u001b[1;30mDEBUG\u001b[0m - \u001b[32mfindfont: score(<Font 'Roboto Medium' (Roboto-Medium.ttf) normal normal medium normal>) = 10.145\u001b[0m\n",
      "\u001b[32m2019-07-06 13:42:51:\u001b[0m \u001b[34mmatplotlib.font_manager\u001b[0m - _findfont_cached - \u001b[1;30mDEBUG\u001b[0m - \u001b[32mfindfont: score(<Font 'Apple Braille' (Apple Braille.ttf) normal normal 400 normal>) = 10.05\u001b[0m\n",
      "\u001b[32m2019-07-06 13:42:51:\u001b[0m \u001b[34mmatplotlib.font_manager\u001b[0m - _findfont_cached - \u001b[1;30mDEBUG\u001b[0m - \u001b[32mfindfont: score(<Font 'STIXIntegralsUpSm' (STIXIntUpSmReg.otf) normal normal regular normal>) = 10.05\u001b[0m\n",
      "\u001b[32m2019-07-06 13:42:51:\u001b[0m \u001b[34mmatplotlib.font_manager\u001b[0m - _findfont_cached - \u001b[1;30mDEBUG\u001b[0m - \u001b[32mfindfont: score(<Font 'STIXIntegralsUp' (STIXIntUpReg.otf) normal normal regular normal>) = 10.05\u001b[0m\n",
      "\u001b[32m2019-07-06 13:42:51:\u001b[0m \u001b[34mmatplotlib.font_manager\u001b[0m - _findfont_cached - \u001b[1;30mDEBUG\u001b[0m - \u001b[32mfindfont: score(<Font 'Serto Malankara' (SyrCOMMalankara.otf) normal normal 400 normal>) = 10.05\u001b[0m\n",
      "\u001b[32m2019-07-06 13:42:51:\u001b[0m \u001b[34mmatplotlib.font_manager\u001b[0m - _findfont_cached - \u001b[1;30mDEBUG\u001b[0m - \u001b[32mfindfont: score(<Font 'Al Nile' (Al Nile.ttc) normal normal 400 normal>) = 10.05\u001b[0m\n",
      "\u001b[32m2019-07-06 13:42:51:\u001b[0m \u001b[34mmatplotlib.font_manager\u001b[0m - _findfont_cached - \u001b[1;30mDEBUG\u001b[0m - \u001b[32mfindfont: score(<Font 'STIXNonUnicode' (STIXNonUniIta.otf) italic normal 400 normal>) = 11.05\u001b[0m\n",
      "\u001b[32m2019-07-06 13:42:51:\u001b[0m \u001b[34mmatplotlib.font_manager\u001b[0m - _findfont_cached - \u001b[1;30mDEBUG\u001b[0m - \u001b[32mfindfont: score(<Font '.SF NS Display Condensed' (SFNSDisplayCondensed-Regular.otf) normal normal regular condensed>) = 10.25\u001b[0m\n",
      "\u001b[32m2019-07-06 13:42:51:\u001b[0m \u001b[34mmatplotlib.font_manager\u001b[0m - _findfont_cached - \u001b[1;30mDEBUG\u001b[0m - \u001b[32mfindfont: score(<Font '.SF Compact Rounded' (SFCompactRounded-Semibold.otf) normal normal semibold normal>) = 10.24\u001b[0m\n",
      "\u001b[32m2019-07-06 13:42:51:\u001b[0m \u001b[34mmatplotlib.font_manager\u001b[0m - _findfont_cached - \u001b[1;30mDEBUG\u001b[0m - \u001b[32mfindfont: score(<Font 'Weibei SC' (WeibeiSC-Bold.otf) normal normal bold normal>) = 10.335\u001b[0m\n",
      "\u001b[32m2019-07-06 13:42:51:\u001b[0m \u001b[34mmatplotlib.font_manager\u001b[0m - _findfont_cached - \u001b[1;30mDEBUG\u001b[0m - \u001b[32mfindfont: score(<Font 'Waseem' (Waseem.ttc) normal normal regular normal>) = 10.05\u001b[0m\n",
      "\u001b[32m2019-07-06 13:42:51:\u001b[0m \u001b[34mmatplotlib.font_manager\u001b[0m - _findfont_cached - \u001b[1;30mDEBUG\u001b[0m - \u001b[32mfindfont: score(<Font 'Sukhumvit Set' (SukhumvitSet.ttc) normal normal 400 normal>) = 10.05\u001b[0m\n",
      "\u001b[32m2019-07-06 13:42:51:\u001b[0m \u001b[34mmatplotlib.font_manager\u001b[0m - _findfont_cached - \u001b[1;30mDEBUG\u001b[0m - \u001b[32mfindfont: score(<Font 'PingFang HK' (PingFang.ttc) normal normal regular normal>) = 10.05\u001b[0m\n",
      "\u001b[32m2019-07-06 13:42:51:\u001b[0m \u001b[34mmatplotlib.font_manager\u001b[0m - _findfont_cached - \u001b[1;30mDEBUG\u001b[0m - \u001b[32mfindfont: score(<Font 'Noteworthy' (Noteworthy.ttc) normal normal light normal>) = 10.24\u001b[0m\n",
      "\u001b[32m2019-07-06 13:42:51:\u001b[0m \u001b[34mmatplotlib.font_manager\u001b[0m - _findfont_cached - \u001b[1;30mDEBUG\u001b[0m - \u001b[32mfindfont: score(<Font 'STIXSizeFourSym' (STIXSizFourSymReg.otf) normal normal regular normal>) = 10.05\u001b[0m\n",
      "\u001b[32m2019-07-06 13:42:51:\u001b[0m \u001b[34mmatplotlib.font_manager\u001b[0m - _findfont_cached - \u001b[1;30mDEBUG\u001b[0m - \u001b[32mfindfont: score(<Font 'PCMyungjo' (PCmyoungjo.ttf) normal normal regular normal>) = 10.05\u001b[0m\n",
      "\u001b[32m2019-07-06 13:42:51:\u001b[0m \u001b[34mmatplotlib.font_manager\u001b[0m - _findfont_cached - \u001b[1;30mDEBUG\u001b[0m - \u001b[32mfindfont: score(<Font 'Trebuchet MS' (Trebuchet MS Italic.ttf) italic normal 400 normal>) = 11.05\u001b[0m\n",
      "\u001b[32m2019-07-06 13:42:51:\u001b[0m \u001b[34mmatplotlib.font_manager\u001b[0m - _findfont_cached - \u001b[1;30mDEBUG\u001b[0m - \u001b[32mfindfont: score(<Font '.SF Compact Rounded' (SFCompactRounded-Regular.otf) normal normal regular normal>) = 10.05\u001b[0m\n",
      "\u001b[32m2019-07-06 13:42:51:\u001b[0m \u001b[34mmatplotlib.font_manager\u001b[0m - _findfont_cached - \u001b[1;30mDEBUG\u001b[0m - \u001b[32mfindfont: score(<Font 'Telugu Sangam MN' (Telugu Sangam MN.ttc) normal normal 400 normal>) = 10.05\u001b[0m\n",
      "\u001b[32m2019-07-06 13:42:51:\u001b[0m \u001b[34mmatplotlib.font_manager\u001b[0m - _findfont_cached - \u001b[1;30mDEBUG\u001b[0m - \u001b[32mfindfont: score(<Font 'Apple SD Gothic Neo' (AppleSDGothicNeo.ttc) normal normal regular normal>) = 10.05\u001b[0m\n",
      "\u001b[32m2019-07-06 13:42:51:\u001b[0m \u001b[34mmatplotlib.font_manager\u001b[0m - _findfont_cached - \u001b[1;30mDEBUG\u001b[0m - \u001b[32mfindfont: score(<Font '.SF Compact Text' (SFCompactText-LightItalic.otf) italic normal light normal>) = 11.24\u001b[0m\n",
      "\u001b[32m2019-07-06 13:42:51:\u001b[0m \u001b[34mmatplotlib.font_manager\u001b[0m - _findfont_cached - \u001b[1;30mDEBUG\u001b[0m - \u001b[32mfindfont: score(<Font 'Mishafi Gold' (Mishafi Gold.ttf) normal normal regular normal>) = 10.05\u001b[0m\n",
      "\u001b[32m2019-07-06 13:42:51:\u001b[0m \u001b[34mmatplotlib.font_manager\u001b[0m - _findfont_cached - \u001b[1;30mDEBUG\u001b[0m - \u001b[32mfindfont: score(<Font '.SF Compact Text' (SFCompactText-Medium.otf) normal normal medium normal>) = 10.145\u001b[0m\n",
      "\u001b[32m2019-07-06 13:42:51:\u001b[0m \u001b[34mmatplotlib.font_manager\u001b[0m - _findfont_cached - \u001b[1;30mDEBUG\u001b[0m - \u001b[32mfindfont: score(<Font 'Kai' (Kai.ttf) normal normal regular normal>) = 10.05\u001b[0m\n",
      "\u001b[32m2019-07-06 13:42:51:\u001b[0m \u001b[34mmatplotlib.font_manager\u001b[0m - _findfont_cached - \u001b[1;30mDEBUG\u001b[0m - \u001b[32mfindfont: score(<Font 'Wingdings 3' (Wingdings 3.ttf) normal normal 400 normal>) = 10.05\u001b[0m\n",
      "\u001b[32m2019-07-06 13:42:51:\u001b[0m \u001b[34mmatplotlib.font_manager\u001b[0m - _findfont_cached - \u001b[1;30mDEBUG\u001b[0m - \u001b[32mfindfont: score(<Font '.SF Compact Display' (SFCompactDisplay-Regular.otf) normal normal regular normal>) = 10.05\u001b[0m\n",
      "\u001b[32m2019-07-06 13:42:51:\u001b[0m \u001b[34mmatplotlib.font_manager\u001b[0m - _findfont_cached - \u001b[1;30mDEBUG\u001b[0m - \u001b[32mfindfont: score(<Font 'Futura' (Futura.ttc) normal normal medium normal>) = 10.145\u001b[0m\n",
      "\u001b[32m2019-07-06 13:42:51:\u001b[0m \u001b[34mmatplotlib.font_manager\u001b[0m - _findfont_cached - \u001b[1;30mDEBUG\u001b[0m - \u001b[32mfindfont: score(<Font 'LiHei Pro' (LiHeiPro.ttf) normal normal 400 normal>) = 10.05\u001b[0m\n",
      "\u001b[32m2019-07-06 13:42:51:\u001b[0m \u001b[34mmatplotlib.font_manager\u001b[0m - _findfont_cached - \u001b[1;30mDEBUG\u001b[0m - \u001b[32mfindfont: score(<Font 'STIXIntegralsSm' (STIXIntSmBol.otf) normal normal bold normal>) = 10.335\u001b[0m\n",
      "\u001b[32m2019-07-06 13:42:51:\u001b[0m \u001b[34mmatplotlib.font_manager\u001b[0m - _findfont_cached - \u001b[1;30mDEBUG\u001b[0m - \u001b[32mfindfont: score(<Font 'Estrangelo Nisibin' (SyrCOMNisibin.otf) normal normal 400 normal>) = 10.05\u001b[0m\n"
     ]
    },
    {
     "name": "stdout",
     "output_type": "stream",
     "text": [
      "\u001b[32m2019-07-06 13:42:51:\u001b[0m \u001b[34mmatplotlib.font_manager\u001b[0m - _findfont_cached - \u001b[1;30mDEBUG\u001b[0m - \u001b[32mfindfont: score(<Font 'Hiragino Mincho ProN' (ヒラギノ明朝 ProN.ttc) normal normal 400 normal>) = 10.05\u001b[0m\n",
      "\u001b[32m2019-07-06 13:42:51:\u001b[0m \u001b[34mmatplotlib.font_manager\u001b[0m - _findfont_cached - \u001b[1;30mDEBUG\u001b[0m - \u001b[32mfindfont: score(<Font 'Hiragino Sans' (ヒラギノ角ゴシック W3.ttc) normal normal 400 normal>) = 10.05\u001b[0m\n",
      "\u001b[32m2019-07-06 13:42:51:\u001b[0m \u001b[34mmatplotlib.font_manager\u001b[0m - _findfont_cached - \u001b[1;30mDEBUG\u001b[0m - \u001b[32mfindfont: score(<Font 'Arial' (Arial.ttf) normal normal 400 normal>) = 0.05\u001b[0m\n",
      "\u001b[32m2019-07-06 13:42:51:\u001b[0m \u001b[34mmatplotlib.font_manager\u001b[0m - _findfont_cached - \u001b[1;30mDEBUG\u001b[0m - \u001b[32mfindfont: score(<Font 'Farisi' (Farisi.ttf) normal normal regular normal>) = 10.05\u001b[0m\n",
      "\u001b[32m2019-07-06 13:42:51:\u001b[0m \u001b[34mmatplotlib.font_manager\u001b[0m - _findfont_cached - \u001b[1;30mDEBUG\u001b[0m - \u001b[32mfindfont: score(<Font '.SF NS Text Condensed' (SFNSTextCondensed-Light.otf) normal normal light condensed>) = 10.44\u001b[0m\n",
      "\u001b[32m2019-07-06 13:42:51:\u001b[0m \u001b[34mmatplotlib.font_manager\u001b[0m - _findfont_cached - \u001b[1;30mDEBUG\u001b[0m - \u001b[32mfindfont: score(<Font 'DIN Alternate' (DIN Alternate Bold.ttf) normal normal bold normal>) = 10.335\u001b[0m\n",
      "\u001b[32m2019-07-06 13:42:51:\u001b[0m \u001b[34mmatplotlib.font_manager\u001b[0m - _findfont_cached - \u001b[1;30mDEBUG\u001b[0m - \u001b[32mfindfont: score(<Font '.SF NS Text Condensed' (SFNSTextCondensed-Bold.otf) normal normal bold condensed>) = 10.535\u001b[0m\n",
      "\u001b[32m2019-07-06 13:42:51:\u001b[0m \u001b[34mmatplotlib.font_manager\u001b[0m - _findfont_cached - \u001b[1;30mDEBUG\u001b[0m - \u001b[32mfindfont: score(<Font '.LastResort' (LastResort.otf) normal normal 400 normal>) = 10.05\u001b[0m\n",
      "\u001b[32m2019-07-06 13:42:51:\u001b[0m \u001b[34mmatplotlib.font_manager\u001b[0m - _findfont_cached - \u001b[1;30mDEBUG\u001b[0m - \u001b[32mfindfont: score(<Font 'Bitstream Vera Sans' (VeraIt.ttf) oblique normal 400 normal>) = 7.05\u001b[0m\n",
      "\u001b[32m2019-07-06 13:42:51:\u001b[0m \u001b[34mmatplotlib.font_manager\u001b[0m - _findfont_cached - \u001b[1;30mDEBUG\u001b[0m - \u001b[32mfindfont: score(<Font 'STFangsong' (STFANGSO.ttf) normal normal 400 normal>) = 10.05\u001b[0m\n",
      "\u001b[32m2019-07-06 13:42:51:\u001b[0m \u001b[34mmatplotlib.font_manager\u001b[0m - _findfont_cached - \u001b[1;30mDEBUG\u001b[0m - \u001b[32mfindfont: score(<Font 'Montserrat SemiBold' (Montserrat-SemiBoldItalic.ttf) italic normal semibold normal>) = 11.24\u001b[0m\n",
      "\u001b[32m2019-07-06 13:42:51:\u001b[0m \u001b[34mmatplotlib.font_manager\u001b[0m - _findfont_cached - \u001b[1;30mDEBUG\u001b[0m - \u001b[32mfindfont: score(<Font 'Nanum Brush Script' (NanumScript.ttc) normal normal 400 normal>) = 10.05\u001b[0m\n",
      "\u001b[32m2019-07-06 13:42:51:\u001b[0m \u001b[34mmatplotlib.font_manager\u001b[0m - _findfont_cached - \u001b[1;30mDEBUG\u001b[0m - \u001b[32mfindfont: score(<Font 'YuGothic' (YuGothic-Bold.otf) normal normal bold normal>) = 10.335\u001b[0m\n",
      "\u001b[32m2019-07-06 13:42:51:\u001b[0m \u001b[34mmatplotlib.font_manager\u001b[0m - _findfont_cached - \u001b[1;30mDEBUG\u001b[0m - \u001b[32mfindfont: score(<Font '.SF Compact Rounded' (SFCompactRounded-Ultralight.otf) normal normal ultralight normal>) = 10.335\u001b[0m\n",
      "\u001b[32m2019-07-06 13:42:51:\u001b[0m \u001b[34mmatplotlib.font_manager\u001b[0m - _findfont_cached - \u001b[1;30mDEBUG\u001b[0m - \u001b[32mfindfont: score(<Font 'Hiragino Maru Gothic Pro' (ヒラギノ丸ゴ ProN W4.ttc) normal normal 400 normal>) = 10.05\u001b[0m\n",
      "\u001b[32m2019-07-06 13:42:51:\u001b[0m \u001b[34mmatplotlib.font_manager\u001b[0m - _findfont_cached - \u001b[1;30mDEBUG\u001b[0m - \u001b[32mfindfont: score(<Font '.SF NS Display Condensed' (SFNSDisplayCondensed-Light.otf) normal normal light condensed>) = 10.44\u001b[0m\n",
      "\u001b[32m2019-07-06 13:42:51:\u001b[0m \u001b[34mmatplotlib.font_manager\u001b[0m - _findfont_cached - \u001b[1;30mDEBUG\u001b[0m - \u001b[32mfindfont: score(<Font 'Savoye LET' (Savoye LET.ttc) normal normal 400 normal>) = 10.05\u001b[0m\n",
      "\u001b[32m2019-07-06 13:42:51:\u001b[0m \u001b[34mmatplotlib.font_manager\u001b[0m - _findfont_cached - \u001b[1;30mDEBUG\u001b[0m - \u001b[32mfindfont: score(<Font 'Helvetica' (Helvetica.ttc) normal normal 400 normal>) = 10.05\u001b[0m\n",
      "\u001b[32m2019-07-06 13:42:51:\u001b[0m \u001b[34mmatplotlib.font_manager\u001b[0m - _findfont_cached - \u001b[1;30mDEBUG\u001b[0m - \u001b[32mfindfont: score(<Font 'Luxi Sans' (luxisr.ttf) normal normal regular normal>) = 10.05\u001b[0m\n",
      "\u001b[32m2019-07-06 13:42:51:\u001b[0m \u001b[34mmatplotlib.font_manager\u001b[0m - _findfont_cached - \u001b[1;30mDEBUG\u001b[0m - \u001b[32mfindfont: score(<Font 'Estrangelo Talada' (SyrCOMTalada.otf) normal normal 400 normal>) = 10.05\u001b[0m\n",
      "\u001b[32m2019-07-06 13:42:51:\u001b[0m \u001b[34mmatplotlib.font_manager\u001b[0m - _findfont_cached - \u001b[1;30mDEBUG\u001b[0m - \u001b[32mfindfont: score(<Font 'Montserrat Medium' (Montserrat-Medium.ttf) normal normal medium normal>) = 10.145\u001b[0m\n",
      "\u001b[32m2019-07-06 13:42:51:\u001b[0m \u001b[34mmatplotlib.font_manager\u001b[0m - _findfont_cached - \u001b[1;30mDEBUG\u001b[0m - \u001b[32mfindfont: score(<Font 'System Font' (SFNSDisplay-ThinG2.otf) normal normal 400 normal>) = 10.05\u001b[0m\n",
      "\u001b[32m2019-07-06 13:42:51:\u001b[0m \u001b[34mmatplotlib.font_manager\u001b[0m - _findfont_cached - \u001b[1;30mDEBUG\u001b[0m - \u001b[32mfindfont: score(<Font 'Avenir Next' (Avenir Next.ttc) normal normal bold normal>) = 10.335\u001b[0m\n",
      "\u001b[32m2019-07-06 13:42:51:\u001b[0m \u001b[34mmatplotlib.font_manager\u001b[0m - _findfont_cached - \u001b[1;30mDEBUG\u001b[0m - \u001b[32mfindfont: score(<Font 'Kohinoor Devanagari' (Kohinoor.ttc) normal normal regular normal>) = 10.05\u001b[0m\n",
      "\u001b[32m2019-07-06 13:42:51:\u001b[0m \u001b[34mmatplotlib.font_manager\u001b[0m - _findfont_cached - \u001b[1;30mDEBUG\u001b[0m - \u001b[32mfindfont: score(<Font 'Geeza Pro' (GeezaPro.ttc) normal normal regular normal>) = 10.05\u001b[0m\n",
      "\u001b[32m2019-07-06 13:42:51:\u001b[0m \u001b[34mmatplotlib.font_manager\u001b[0m - _findfont_cached - \u001b[1;30mDEBUG\u001b[0m - \u001b[32mfindfont: score(<Font 'Sathu' (Sathu.ttf) normal normal 400 normal>) = 10.05\u001b[0m\n",
      "\u001b[32m2019-07-06 13:42:51:\u001b[0m \u001b[34mmatplotlib.font_manager\u001b[0m - _findfont_cached - \u001b[1;30mDEBUG\u001b[0m - \u001b[32mfindfont: score(<Font 'Comic Sans MS' (Comic Sans MS.ttf) normal normal 400 normal>) = 10.05\u001b[0m\n",
      "\u001b[32m2019-07-06 13:42:51:\u001b[0m \u001b[34mmatplotlib.font_manager\u001b[0m - _findfont_cached - \u001b[1;30mDEBUG\u001b[0m - \u001b[32mfindfont: score(<Font 'System Font' (SFNSDisplay-HeavyItalic.otf) italic normal heavy normal>) = 11.43\u001b[0m\n",
      "\u001b[32m2019-07-06 13:42:51:\u001b[0m \u001b[34mmatplotlib.font_manager\u001b[0m - _findfont_cached - \u001b[1;30mDEBUG\u001b[0m - \u001b[32mfindfont: score(<Font 'Avenir' (Avenir.ttc) normal normal book normal>) = 10.05\u001b[0m\n",
      "\u001b[32m2019-07-06 13:42:51:\u001b[0m \u001b[34mmatplotlib.font_manager\u001b[0m - _findfont_cached - \u001b[1;30mDEBUG\u001b[0m - \u001b[32mfindfont: score(<Font 'Songti SC' (Songti.ttc) normal normal black normal>) = 10.525\u001b[0m\n",
      "\u001b[32m2019-07-06 13:42:51:\u001b[0m \u001b[34mmatplotlib.font_manager\u001b[0m - _findfont_cached - \u001b[1;30mDEBUG\u001b[0m - \u001b[32mfindfont: score(<Font 'Al Tarikh' (Al Tarikh.ttc) normal normal regular normal>) = 10.05\u001b[0m\n",
      "\u001b[32m2019-07-06 13:42:51:\u001b[0m \u001b[34mmatplotlib.font_manager\u001b[0m - _findfont_cached - \u001b[1;30mDEBUG\u001b[0m - \u001b[32mfindfont: score(<Font '.SF Compact Text' (SFCompactText-SemiboldItalic.otf) italic normal semibold normal>) = 11.24\u001b[0m\n",
      "\u001b[32m2019-07-06 13:42:51:\u001b[0m \u001b[34mmatplotlib.font_manager\u001b[0m - _findfont_cached - \u001b[1;30mDEBUG\u001b[0m - \u001b[32mfindfont: score(<Font 'Phosphate' (Phosphate.ttc) normal normal 400 normal>) = 10.05\u001b[0m\n",
      "\u001b[32m2019-07-06 13:42:51:\u001b[0m \u001b[34mmatplotlib.font_manager\u001b[0m - _findfont_cached - \u001b[1;30mDEBUG\u001b[0m - \u001b[32mfindfont: score(<Font 'Bangla MN' (Bangla MN.ttc) normal normal 400 normal>) = 10.05\u001b[0m\n",
      "\u001b[32m2019-07-06 13:42:51:\u001b[0m \u001b[34mmatplotlib.font_manager\u001b[0m - _findfont_cached - \u001b[1;30mDEBUG\u001b[0m - \u001b[32mfindfont: score(<Font 'STIXIntegralsSm' (STIXIntSmReg.otf) normal normal regular normal>) = 10.05\u001b[0m\n",
      "\u001b[32m2019-07-06 13:42:51:\u001b[0m \u001b[34mmatplotlib.font_manager\u001b[0m - _findfont_cached - \u001b[1;30mDEBUG\u001b[0m - \u001b[32mfindfont: score(<Font 'Optima' (Optima.ttc) normal normal regular normal>) = 10.05\u001b[0m\n",
      "\u001b[32m2019-07-06 13:42:51:\u001b[0m \u001b[34mmatplotlib.font_manager\u001b[0m - _findfont_cached - \u001b[1;30mDEBUG\u001b[0m - \u001b[32mfindfont: score(<Font 'Roboto Black' (Roboto-BlackItalic.ttf) italic normal black normal>) = 11.525\u001b[0m\n",
      "\u001b[32m2019-07-06 13:42:51:\u001b[0m \u001b[34mmatplotlib.font_manager\u001b[0m - _findfont_cached - \u001b[1;30mDEBUG\u001b[0m - \u001b[32mfindfont: score(<Font 'Hannotate SC' (Hannotate.ttc) normal normal regular normal>) = 10.05\u001b[0m\n",
      "\u001b[32m2019-07-06 13:42:51:\u001b[0m \u001b[34mmatplotlib.font_manager\u001b[0m - _findfont_cached - \u001b[1;30mDEBUG\u001b[0m - \u001b[32mfindfont: score(<Font 'Lao Sangam MN' (Lao Sangam MN.ttf) normal normal 400 normal>) = 10.05\u001b[0m\n",
      "\u001b[32m2019-07-06 13:42:51:\u001b[0m \u001b[34mmatplotlib.font_manager\u001b[0m - _findfont_cached - \u001b[1;30mDEBUG\u001b[0m - \u001b[32mfindfont: score(<Font '.SF NS Symbols' (SFNSSymbols-Bold.otf) normal normal bold normal>) = 10.335\u001b[0m\n"
     ]
    },
    {
     "name": "stdout",
     "output_type": "stream",
     "text": [
      "\u001b[32m2019-07-06 13:42:51:\u001b[0m \u001b[34mmatplotlib.font_manager\u001b[0m - _findfont_cached - \u001b[1;30mDEBUG\u001b[0m - \u001b[32mfindfont: score(<Font 'Khmer Sangam MN' (Khmer Sangam MN.ttf) normal normal 400 normal>) = 10.05\u001b[0m\n",
      "\u001b[32m2019-07-06 13:42:51:\u001b[0m \u001b[34mmatplotlib.font_manager\u001b[0m - _findfont_cached - \u001b[1;30mDEBUG\u001b[0m - \u001b[32mfindfont: score(<Font 'System Font' (SFNSDisplay-UltralightItalic.otf) italic normal ultralight normal>) = 11.335\u001b[0m\n",
      "\u001b[32m2019-07-06 13:42:51:\u001b[0m \u001b[34mmatplotlib.font_manager\u001b[0m - _findfont_cached - \u001b[1;30mDEBUG\u001b[0m - \u001b[32mfindfont: score(<Font 'System Font' (SFNSDisplay-SemiboldItalic.otf) italic normal semibold normal>) = 11.24\u001b[0m\n",
      "\u001b[32m2019-07-06 13:42:51:\u001b[0m \u001b[34mmatplotlib.font_manager\u001b[0m - _findfont_cached - \u001b[1;30mDEBUG\u001b[0m - \u001b[32mfindfont: score(<Font 'Montserrat' (Montserrat-Bold.ttf) normal normal bold normal>) = 10.335\u001b[0m\n",
      "\u001b[32m2019-07-06 13:42:51:\u001b[0m \u001b[34mmatplotlib.font_manager\u001b[0m - _findfont_cached - \u001b[1;30mDEBUG\u001b[0m - \u001b[32mfindfont: score(<Font 'STIXSizeTwoSym' (STIXSizTwoSymReg.otf) normal normal regular normal>) = 10.05\u001b[0m\n",
      "\u001b[32m2019-07-06 13:42:51:\u001b[0m \u001b[34mmatplotlib.font_manager\u001b[0m - _findfont_cached - \u001b[1;30mDEBUG\u001b[0m - \u001b[32mfindfont: score(<Font 'LingWai TC' (LingWaiTC-Medium.otf) normal normal medium normal>) = 10.145\u001b[0m\n",
      "\u001b[32m2019-07-06 13:42:51:\u001b[0m \u001b[34mmatplotlib.font_manager\u001b[0m - _findfont_cached - \u001b[1;30mDEBUG\u001b[0m - \u001b[32mfindfont: score(<Font 'STIXIntegralsUpD' (STIXIntUpDBol.otf) normal normal bold normal>) = 10.335\u001b[0m\n",
      "\u001b[32m2019-07-06 13:42:51:\u001b[0m \u001b[34mmatplotlib.font_manager\u001b[0m - _findfont_cached - \u001b[1;30mDEBUG\u001b[0m - \u001b[32mfindfont: score(<Font 'Tahoma' (Tahoma Bold.ttf) normal normal bold normal>) = 10.335\u001b[0m\n",
      "\u001b[32m2019-07-06 13:42:51:\u001b[0m \u001b[34mmatplotlib.font_manager\u001b[0m - _findfont_cached - \u001b[1;30mDEBUG\u001b[0m - \u001b[32mfindfont: score(<Font 'System Font' (SFNSDisplay-ThinG3.otf) normal normal 400 normal>) = 10.05\u001b[0m\n",
      "\u001b[32m2019-07-06 13:42:51:\u001b[0m \u001b[34mmatplotlib.font_manager\u001b[0m - _findfont_cached - \u001b[1;30mDEBUG\u001b[0m - \u001b[32mfindfont: score(<Font 'Goha-Tibeb Zemen' (GohaTibebZemen.otf) normal normal 400 normal>) = 10.05\u001b[0m\n",
      "\u001b[32m2019-07-06 13:42:51:\u001b[0m \u001b[34mmatplotlib.font_manager\u001b[0m - _findfont_cached - \u001b[1;30mDEBUG\u001b[0m - \u001b[32mfindfont: score(<Font 'Trebuchet MS' (Trebuchet MS Bold.ttf) normal normal bold normal>) = 10.335\u001b[0m\n",
      "\u001b[32m2019-07-06 13:42:51:\u001b[0m \u001b[34mmatplotlib.font_manager\u001b[0m - _findfont_cached - \u001b[1;30mDEBUG\u001b[0m - \u001b[32mfindfont: score(<Font '.SF NS Text Condensed' (SFNSTextCondensed-Semibold.otf) normal normal semibold condensed>) = 10.44\u001b[0m\n",
      "\u001b[32m2019-07-06 13:42:51:\u001b[0m \u001b[34mmatplotlib.font_manager\u001b[0m - _findfont_cached - \u001b[1;30mDEBUG\u001b[0m - \u001b[32mfindfont: score(<Font 'STIXSizeFiveSym' (STIXSizFiveSymReg.otf) normal normal regular normal>) = 10.05\u001b[0m\n",
      "\u001b[32m2019-07-06 13:42:51:\u001b[0m \u001b[34mmatplotlib.font_manager\u001b[0m - _findfont_cached - \u001b[1;30mDEBUG\u001b[0m - \u001b[32mfindfont: score(<Font 'Gurmukhi MT' (Gurmukhi.ttf) normal normal 400 normal>) = 10.05\u001b[0m\n",
      "\u001b[32m2019-07-06 13:42:51:\u001b[0m \u001b[34mmatplotlib.font_manager\u001b[0m - _findfont_cached - \u001b[1;30mDEBUG\u001b[0m - \u001b[32mfindfont: score(<Font 'Papyrus' (Papyrus.ttc) normal normal 400 condensed>) = 10.25\u001b[0m\n",
      "\u001b[32m2019-07-06 13:42:51:\u001b[0m \u001b[34mmatplotlib.font_manager\u001b[0m - _findfont_cached - \u001b[1;30mDEBUG\u001b[0m - \u001b[32mfindfont: score(<Font 'Devanagari MT' (DevanagariMT.ttc) normal normal 400 normal>) = 10.05\u001b[0m\n",
      "\u001b[32m2019-07-06 13:42:51:\u001b[0m \u001b[34mmatplotlib.font_manager\u001b[0m - _findfont_cached - \u001b[1;30mDEBUG\u001b[0m - \u001b[32mfindfont: score(<Font '.SF Compact Rounded' (SFCompactRounded-Light.otf) normal normal light normal>) = 10.24\u001b[0m\n",
      "\u001b[32m2019-07-06 13:42:51:\u001b[0m \u001b[34mmatplotlib.font_manager\u001b[0m - _findfont_cached - \u001b[1;30mDEBUG\u001b[0m - \u001b[32mfindfont: score(<Font 'Wawati SC' (WawaSC-Regular.otf) normal normal regular normal>) = 10.05\u001b[0m\n",
      "\u001b[32m2019-07-06 13:42:51:\u001b[0m \u001b[34mmatplotlib.font_manager\u001b[0m - _findfont_cached - \u001b[1;30mDEBUG\u001b[0m - \u001b[32mfindfont: score(<Font '.SF Compact Display' (SFCompactDisplay-Black.otf) normal normal black normal>) = 10.525\u001b[0m\n",
      "\u001b[32m2019-07-06 13:42:51:\u001b[0m \u001b[34mmatplotlib.font_manager\u001b[0m - _findfont_cached - \u001b[1;30mDEBUG\u001b[0m - \u001b[32mfindfont: score(<Font 'Bitstream Vera Sans Mono' (VeraMoBd.ttf) normal normal bold normal>) = 10.335\u001b[0m\n",
      "\u001b[32m2019-07-06 13:42:51:\u001b[0m \u001b[34mmatplotlib.font_manager\u001b[0m - _findfont_cached - \u001b[1;30mDEBUG\u001b[0m - \u001b[32mfindfont: score(<Font 'Times New Roman' (Times New Roman Bold.ttf) normal normal roman normal>) = 10.145\u001b[0m\n",
      "\u001b[32m2019-07-06 13:42:51:\u001b[0m \u001b[34mmatplotlib.font_manager\u001b[0m - _findfont_cached - \u001b[1;30mDEBUG\u001b[0m - \u001b[32mfindfont: score(<Font 'Marion' (Marion.ttc) normal normal regular normal>) = 10.05\u001b[0m\n",
      "\u001b[32m2019-07-06 13:42:51:\u001b[0m \u001b[34mmatplotlib.font_manager\u001b[0m - _findfont_cached - \u001b[1;30mDEBUG\u001b[0m - \u001b[32mfindfont: score(<Font 'Luxi Mono' (luximbi.ttf) oblique normal bold normal>) = 11.335\u001b[0m\n",
      "\u001b[32m2019-07-06 13:42:51:\u001b[0m \u001b[34mmatplotlib.font_manager\u001b[0m - _findfont_cached - \u001b[1;30mDEBUG\u001b[0m - \u001b[32mfindfont: score(<Font 'Cochin' (Cochin.ttc) normal normal 400 normal>) = 10.05\u001b[0m\n",
      "\u001b[32m2019-07-06 13:42:51:\u001b[0m \u001b[34mmatplotlib.font_manager\u001b[0m - _findfont_cached - \u001b[1;30mDEBUG\u001b[0m - \u001b[32mfindfont: score(<Font '.SF Compact Rounded' (SFCompactRounded-Heavy.otf) normal normal heavy normal>) = 10.43\u001b[0m\n",
      "\u001b[32m2019-07-06 13:42:51:\u001b[0m \u001b[34mmatplotlib.font_manager\u001b[0m - _findfont_cached - \u001b[1;30mDEBUG\u001b[0m - \u001b[32mfindfont: score(<Font 'Montserrat ExtraLight' (Montserrat-ExtraLightItalic.ttf) italic normal light normal>) = 11.24\u001b[0m\n",
      "\u001b[32m2019-07-06 13:42:51:\u001b[0m \u001b[34mmatplotlib.font_manager\u001b[0m - _findfont_cached - \u001b[1;30mDEBUG\u001b[0m - \u001b[32mfindfont: score(<Font 'System Font' (SFNSText.ttf) normal normal 400 normal>) = 10.05\u001b[0m\n",
      "\u001b[32m2019-07-06 13:42:51:\u001b[0m \u001b[34mmatplotlib.font_manager\u001b[0m - _findfont_cached - \u001b[1;30mDEBUG\u001b[0m - \u001b[32mfindfont: score(<Font 'Chalkboard SE' (ChalkboardSE.ttc) normal normal light normal>) = 10.24\u001b[0m\n",
      "\u001b[32m2019-07-06 13:42:51:\u001b[0m \u001b[34mmatplotlib.font_manager\u001b[0m - _findfont_cached - \u001b[1;30mDEBUG\u001b[0m - \u001b[32mfindfont: score(<Font 'Serto Batnan' (SyrCOMBatnan.otf) normal normal 400 normal>) = 10.05\u001b[0m\n",
      "\u001b[32m2019-07-06 13:42:51:\u001b[0m \u001b[34mmatplotlib.font_manager\u001b[0m - _findfont_cached - \u001b[1;30mDEBUG\u001b[0m - \u001b[32mfindfont: score(<Font 'PT Serif' (PTSerif.ttc) normal normal 400 normal>) = 10.05\u001b[0m\n",
      "\u001b[32m2019-07-06 13:42:51:\u001b[0m \u001b[34mmatplotlib.font_manager\u001b[0m - _findfont_cached - \u001b[1;30mDEBUG\u001b[0m - \u001b[32mfindfont: score(<Font 'Iowan Old Style' (Iowan Old Style.ttc) normal normal roman normal>) = 10.145\u001b[0m\n",
      "\u001b[32m2019-07-06 13:42:51:\u001b[0m \u001b[34mmatplotlib.font_manager\u001b[0m - _findfont_cached - \u001b[1;30mDEBUG\u001b[0m - \u001b[32mfindfont: score(<Font 'Roboto' (Roboto-Regular.ttf) normal normal 400 normal>) = 10.05\u001b[0m\n",
      "\u001b[32m2019-07-06 13:42:51:\u001b[0m \u001b[34mmatplotlib.font_manager\u001b[0m - _findfont_cached - \u001b[1;30mDEBUG\u001b[0m - \u001b[32mfindfont: score(<Font 'Arial Narrow' (Arial Narrow Bold.ttf) normal normal bold condensed>) = 10.535\u001b[0m\n",
      "\u001b[32m2019-07-06 13:42:51:\u001b[0m \u001b[34mmatplotlib.font_manager\u001b[0m - _findfont_cached - \u001b[1;30mDEBUG\u001b[0m - \u001b[32mfindfont: score(<Font '.Keyboard' (Keyboard.ttf) normal normal 400 normal>) = 10.05\u001b[0m\n",
      "\u001b[32m2019-07-06 13:42:51:\u001b[0m \u001b[34mmatplotlib.font_manager\u001b[0m - _findfont_cached - \u001b[1;30mDEBUG\u001b[0m - \u001b[32mfindfont: score(<Font 'Gujarati MT' (GujaratiMT.ttc) normal normal 400 normal>) = 10.05\u001b[0m\n",
      "\u001b[32m2019-07-06 13:42:51:\u001b[0m \u001b[34mmatplotlib.font_manager\u001b[0m - _findfont_cached - \u001b[1;30mDEBUG\u001b[0m - \u001b[32mfindfont: score(<Font 'Superclarendon' (SuperClarendon.ttc) normal normal regular normal>) = 10.05\u001b[0m\n",
      "\u001b[32m2019-07-06 13:42:51:\u001b[0m \u001b[34mmatplotlib.font_manager\u001b[0m - _findfont_cached - \u001b[1;30mDEBUG\u001b[0m - \u001b[32mfindfont: score(<Font 'Montserrat' (Montserrat-Regular.ttf) normal normal regular normal>) = 10.05\u001b[0m\n",
      "\u001b[32m2019-07-06 13:42:51:\u001b[0m \u001b[34mmatplotlib.font_manager\u001b[0m - _findfont_cached - \u001b[1;30mDEBUG\u001b[0m - \u001b[32mfindfont: score(<Font 'Chalkduster' (Chalkduster.ttf) normal normal 400 normal>) = 10.05\u001b[0m\n",
      "\u001b[32m2019-07-06 13:42:51:\u001b[0m \u001b[34mmatplotlib.font_manager\u001b[0m - _findfont_cached - \u001b[1;30mDEBUG\u001b[0m - \u001b[32mfindfont: score(<Font '.SF Compact Text' (SFCompactText-Bold.otf) normal normal bold normal>) = 10.335\u001b[0m\n",
      "\u001b[32m2019-07-06 13:42:51:\u001b[0m \u001b[34mmatplotlib.font_manager\u001b[0m - _findfont_cached - \u001b[1;30mDEBUG\u001b[0m - \u001b[32mfindfont: score(<Font 'Times New Roman' (Times New Roman.ttf) normal normal roman normal>) = 10.145\u001b[0m\n"
     ]
    },
    {
     "name": "stdout",
     "output_type": "stream",
     "text": [
      "\u001b[32m2019-07-06 13:42:51:\u001b[0m \u001b[34mmatplotlib.font_manager\u001b[0m - _findfont_cached - \u001b[1;30mDEBUG\u001b[0m - \u001b[32mfindfont: score(<Font 'STIXNonUnicode' (STIXNonUniBol.otf) normal normal bold normal>) = 10.335\u001b[0m\n",
      "\u001b[32m2019-07-06 13:42:51:\u001b[0m \u001b[34mmatplotlib.font_manager\u001b[0m - _findfont_cached - \u001b[1;30mDEBUG\u001b[0m - \u001b[32mfindfont: score(<Font 'YuGothic' (YuGothic-Medium.otf) normal normal medium normal>) = 10.145\u001b[0m\n",
      "\u001b[32m2019-07-06 13:42:51:\u001b[0m \u001b[34mmatplotlib.font_manager\u001b[0m - _findfont_cached - \u001b[1;30mDEBUG\u001b[0m - \u001b[32mfindfont: score(<Font 'Arial' (Arial Italic.ttf) italic normal 400 normal>) = 1.05\u001b[0m\n",
      "\u001b[32m2019-07-06 13:42:51:\u001b[0m \u001b[34mmatplotlib.font_manager\u001b[0m - _findfont_cached - \u001b[1;30mDEBUG\u001b[0m - \u001b[32mfindfont: score(<Font 'Montserrat Thin' (Montserrat-Thin.ttf) normal normal 400 normal>) = 10.05\u001b[0m\n",
      "\u001b[32m2019-07-06 13:42:51:\u001b[0m \u001b[34mmatplotlib.font_manager\u001b[0m - _findfont_cached - \u001b[1;30mDEBUG\u001b[0m - \u001b[32mfindfont: score(<Font 'System Font' (SFNSTextItalic.ttf) italic normal 400 normal>) = 11.05\u001b[0m\n",
      "\u001b[32m2019-07-06 13:42:51:\u001b[0m \u001b[34mmatplotlib.font_manager\u001b[0m - _findfont_cached - \u001b[1;30mDEBUG\u001b[0m - \u001b[32mfindfont: score(<Font '.SF NS Symbols' (SFNSSymbols-Semibold.otf) normal normal semibold normal>) = 10.24\u001b[0m\n",
      "\u001b[32m2019-07-06 13:42:51:\u001b[0m \u001b[34mmatplotlib.font_manager\u001b[0m - _findfont_cached - \u001b[1;30mDEBUG\u001b[0m - \u001b[32mfindfont: score(<Font 'HanziPen SC' (Hanzipen.ttc) normal normal regular normal>) = 10.05\u001b[0m\n",
      "\u001b[32m2019-07-06 13:42:51:\u001b[0m \u001b[34mmatplotlib.font_manager\u001b[0m - _findfont_cached - \u001b[1;30mDEBUG\u001b[0m - \u001b[32mfindfont: score(<Font 'Symbol' (Symbol.ttf) normal normal 400 normal>) = 10.05\u001b[0m\n",
      "\u001b[32m2019-07-06 13:42:51:\u001b[0m \u001b[34mmatplotlib.font_manager\u001b[0m - _findfont_cached - \u001b[1;30mDEBUG\u001b[0m - \u001b[32mfindfont: score(<Font 'Arial Unicode MS' (Arial Unicode.ttf) normal normal 400 normal>) = 10.05\u001b[0m\n",
      "\u001b[32m2019-07-06 13:42:51:\u001b[0m \u001b[34mmatplotlib.font_manager\u001b[0m - _findfont_cached - \u001b[1;30mDEBUG\u001b[0m - \u001b[32mfindfont: score(<Font 'STIXSizeFourSym' (STIXSizFourSymBol.otf) normal normal bold normal>) = 10.335\u001b[0m\n",
      "\u001b[32m2019-07-06 13:42:51:\u001b[0m \u001b[34mmatplotlib.font_manager\u001b[0m - _findfont_cached - \u001b[1;30mDEBUG\u001b[0m - \u001b[32mfindfont: score(<Font 'Bitstream Vera Sans' (Vera.ttf) normal normal 400 normal>) = 6.05\u001b[0m\n",
      "\u001b[32m2019-07-06 13:42:51:\u001b[0m \u001b[34mmatplotlib.font_manager\u001b[0m - _findfont_cached - \u001b[1;30mDEBUG\u001b[0m - \u001b[32mfindfont: score(<Font 'Athelas' (Athelas.ttc) normal normal regular normal>) = 10.05\u001b[0m\n",
      "\u001b[32m2019-07-06 13:42:51:\u001b[0m \u001b[34mmatplotlib.font_manager\u001b[0m - _findfont_cached - \u001b[1;30mDEBUG\u001b[0m - \u001b[32mfindfont: score(<Font '.SF Compact Text' (SFCompactText-BoldItalic.otf) italic normal bold normal>) = 11.335\u001b[0m\n",
      "\u001b[32m2019-07-06 13:42:51:\u001b[0m \u001b[34mmatplotlib.font_manager\u001b[0m - _findfont_cached - \u001b[1;30mDEBUG\u001b[0m - \u001b[32mfindfont: score(<Font 'Luxi Mono' (luximri.ttf) oblique normal 400 normal>) = 11.05\u001b[0m\n",
      "\u001b[32m2019-07-06 13:42:51:\u001b[0m \u001b[34mmatplotlib.font_manager\u001b[0m - _findfont_cached - \u001b[1;30mDEBUG\u001b[0m - \u001b[32mfindfont: score(<Font 'Corsiva Hebrew' (Corsiva.ttc) normal normal 400 normal>) = 10.05\u001b[0m\n",
      "\u001b[32m2019-07-06 13:42:51:\u001b[0m \u001b[34mmatplotlib.font_manager\u001b[0m - _findfont_cached - \u001b[1;30mDEBUG\u001b[0m - \u001b[32mfindfont: score(<Font 'Montserrat Black' (Montserrat-Black.ttf) normal normal black normal>) = 10.525\u001b[0m\n",
      "\u001b[32m2019-07-06 13:42:51:\u001b[0m \u001b[34mmatplotlib.font_manager\u001b[0m - _findfont_cached - \u001b[1;30mDEBUG\u001b[0m - \u001b[32mfindfont: score(<Font 'Hoefler Text' (Hoefler Text Ornaments.ttf) normal normal 400 normal>) = 10.05\u001b[0m\n",
      "\u001b[32m2019-07-06 13:42:51:\u001b[0m \u001b[34mmatplotlib.font_manager\u001b[0m - _findfont_cached - \u001b[1;30mDEBUG\u001b[0m - \u001b[32mfindfont: score(<Font 'East Syriac Adiabene' (SyrCOMAdiabene.otf) normal normal 400 normal>) = 10.05\u001b[0m\n",
      "\u001b[32m2019-07-06 13:42:51:\u001b[0m \u001b[34mmatplotlib.font_manager\u001b[0m - _findfont_cached - \u001b[1;30mDEBUG\u001b[0m - \u001b[32mfindfont: score(<Font 'Noto Nastaliq Urdu' (NotoNastaliq.ttc) normal normal 400 normal>) = 10.05\u001b[0m\n",
      "\u001b[32m2019-07-06 13:42:51:\u001b[0m \u001b[34mmatplotlib.font_manager\u001b[0m - _findfont_cached - \u001b[1;30mDEBUG\u001b[0m - \u001b[32mfindfont: score(<Font 'Serto Jerusalem' (SyrCOMJerusalemItalic.otf) italic normal 400 normal>) = 11.05\u001b[0m\n",
      "\u001b[32m2019-07-06 13:42:51:\u001b[0m \u001b[34mmatplotlib.font_manager\u001b[0m - _findfont_cached - \u001b[1;30mDEBUG\u001b[0m - \u001b[32mfindfont: score(<Font '.SF NS Symbols' (SFNSSymbols-Heavy.otf) normal normal heavy normal>) = 10.43\u001b[0m\n",
      "\u001b[32m2019-07-06 13:42:51:\u001b[0m \u001b[34mmatplotlib.font_manager\u001b[0m - _findfont_cached - \u001b[1;30mDEBUG\u001b[0m - \u001b[32mfindfont: score(<Font 'Apple Braille' (Apple Braille Pinpoint 8 Dot.ttf) normal normal 400 normal>) = 10.05\u001b[0m\n",
      "\u001b[32m2019-07-06 13:42:51:\u001b[0m \u001b[34mmatplotlib.font_manager\u001b[0m - _findfont_cached - \u001b[1;30mDEBUG\u001b[0m - \u001b[32mfindfont: score(<Font 'ITF Devanagari' (ITFDevanagari.ttc) normal normal book normal>) = 10.05\u001b[0m\n",
      "\u001b[32m2019-07-06 13:42:51:\u001b[0m \u001b[34mmatplotlib.font_manager\u001b[0m - _findfont_cached - \u001b[1;30mDEBUG\u001b[0m - \u001b[32mfindfont: score(<Font 'Gujarati Sangam MN' (Gujarati Sangam MN.ttc) normal normal 400 normal>) = 10.05\u001b[0m\n",
      "\u001b[32m2019-07-06 13:42:51:\u001b[0m \u001b[34mmatplotlib.font_manager\u001b[0m - _findfont_cached - \u001b[1;30mDEBUG\u001b[0m - \u001b[32mfindfont: score(<Font 'Nanum Myeongjo' (NanumMyeongjo.ttc) normal normal 400 normal>) = 10.05\u001b[0m\n",
      "\u001b[32m2019-07-06 13:42:51:\u001b[0m \u001b[34mmatplotlib.font_manager\u001b[0m - _findfont_cached - \u001b[1;30mDEBUG\u001b[0m - \u001b[32mfindfont: score(<Font 'Kailasa' (Kailasa.ttc) normal normal regular normal>) = 10.05\u001b[0m\n",
      "\u001b[32m2019-07-06 13:42:51:\u001b[0m \u001b[34mmatplotlib.font_manager\u001b[0m - _findfont_cached - \u001b[1;30mDEBUG\u001b[0m - \u001b[32mfindfont: score(<Font 'Bitstream Vera Serif' (VeraSeBd.ttf) normal normal bold normal>) = 10.335\u001b[0m\n",
      "\u001b[32m2019-07-06 13:42:51:\u001b[0m \u001b[34mmatplotlib.font_manager\u001b[0m - _findfont_cached - \u001b[1;30mDEBUG\u001b[0m - \u001b[32mfindfont: score(<Font '.SF Compact Text' (SFCompactText-MediumItalic.otf) italic normal medium normal>) = 11.145\u001b[0m\n",
      "\u001b[32m2019-07-06 13:42:51:\u001b[0m \u001b[34mmatplotlib.font_manager\u001b[0m - _findfont_cached - \u001b[1;30mDEBUG\u001b[0m - \u001b[32mfindfont: score(<Font 'Hiragino Sans' (ヒラギノ角ゴシック W5.ttc) normal normal 700 normal>) = 10.335\u001b[0m\n",
      "\u001b[32m2019-07-06 13:42:51:\u001b[0m \u001b[34mmatplotlib.font_manager\u001b[0m - _findfont_cached - \u001b[1;30mDEBUG\u001b[0m - \u001b[32mfindfont: score(<Font 'Times New Roman' (Times New Roman Bold Italic.ttf) italic normal roman normal>) = 11.145\u001b[0m\n",
      "\u001b[32m2019-07-06 13:42:51:\u001b[0m \u001b[34mmatplotlib.font_manager\u001b[0m - _findfont_cached - \u001b[1;30mDEBUG\u001b[0m - \u001b[32mfindfont: score(<Font 'Webdings' (Webdings.ttf) normal normal 400 normal>) = 10.05\u001b[0m\n",
      "\u001b[32m2019-07-06 13:42:51:\u001b[0m \u001b[34mmatplotlib.font_manager\u001b[0m - _findfont_cached - \u001b[1;30mDEBUG\u001b[0m - \u001b[32mfindfont: score(<Font '.SF Compact Rounded' (SFCompactRounded-Bold.otf) normal normal bold normal>) = 10.335\u001b[0m\n",
      "\u001b[32m2019-07-06 13:42:51:\u001b[0m \u001b[34mmatplotlib.font_manager\u001b[0m - _findfont_cached - \u001b[1;30mDEBUG\u001b[0m - \u001b[32mfindfont: score(<Font '.SF Compact Text' (SFCompactText-Regular.otf) normal normal regular normal>) = 10.05\u001b[0m\n",
      "\u001b[32m2019-07-06 13:42:51:\u001b[0m \u001b[34mmatplotlib.font_manager\u001b[0m - _findfont_cached - \u001b[1;30mDEBUG\u001b[0m - \u001b[32mfindfont: score(<Font 'Montserrat ExtraBold' (Montserrat-ExtraBoldItalic.ttf) italic normal bold normal>) = 11.335\u001b[0m\n",
      "\u001b[32m2019-07-06 13:42:51:\u001b[0m \u001b[34mmatplotlib.font_manager\u001b[0m - _findfont_cached - \u001b[1;30mDEBUG\u001b[0m - \u001b[32mfindfont: score(<Font 'Euphemia UCAS' (EuphemiaCAS.ttc) normal normal 400 normal>) = 10.05\u001b[0m\n",
      "\u001b[32m2019-07-06 13:42:51:\u001b[0m \u001b[34mmatplotlib.font_manager\u001b[0m - _findfont_cached - \u001b[1;30mDEBUG\u001b[0m - \u001b[32mfindfont: score(<Font 'Georgia' (Georgia Italic.ttf) italic normal 400 normal>) = 11.05\u001b[0m\n",
      "\u001b[32m2019-07-06 13:42:51:\u001b[0m \u001b[34mmatplotlib.font_manager\u001b[0m - _findfont_cached - \u001b[1;30mDEBUG\u001b[0m - \u001b[32mfindfont: score(<Font 'System Font' (SFNSDisplay.ttf) normal normal 400 normal>) = 10.05\u001b[0m\n",
      "\u001b[32m2019-07-06 13:42:51:\u001b[0m \u001b[34mmatplotlib.font_manager\u001b[0m - _findfont_cached - \u001b[1;30mDEBUG\u001b[0m - \u001b[32mfindfont: score(<Font '.SF NS Symbols' (SFNSSymbols-Medium.otf) normal normal medium normal>) = 10.145\u001b[0m\n",
      "\u001b[32m2019-07-06 13:42:51:\u001b[0m \u001b[34mmatplotlib.font_manager\u001b[0m - _findfont_cached - \u001b[1;30mDEBUG\u001b[0m - \u001b[32mfindfont: score(<Font 'System Font' (SFNSDisplay-ThinG1.otf) normal normal 400 normal>) = 10.05\u001b[0m\n",
      "\u001b[32m2019-07-06 13:42:51:\u001b[0m \u001b[34mmatplotlib.font_manager\u001b[0m - _findfont_cached - \u001b[1;30mDEBUG\u001b[0m - \u001b[32mfindfont: score(<Font 'Tamil Sangam MN' (Tamil Sangam MN.ttc) normal normal 400 normal>) = 10.05\u001b[0m\n"
     ]
    },
    {
     "name": "stdout",
     "output_type": "stream",
     "text": [
      "\u001b[32m2019-07-06 13:42:51:\u001b[0m \u001b[34mmatplotlib.font_manager\u001b[0m - _findfont_cached - \u001b[1;30mDEBUG\u001b[0m - \u001b[32mfindfont: score(<Font 'Mishafi' (Mishafi.ttf) normal normal regular normal>) = 10.05\u001b[0m\n",
      "\u001b[32m2019-07-06 13:42:51:\u001b[0m \u001b[34mmatplotlib.font_manager\u001b[0m - _findfont_cached - \u001b[1;30mDEBUG\u001b[0m - \u001b[32mfindfont: score(<Font 'Toppan Bunkyu Midashi Gothic' (ToppanBunkyuMidashiGothicStdN-ExtraBold.otf) normal normal bold normal>) = 10.335\u001b[0m\n",
      "\u001b[32m2019-07-06 13:42:51:\u001b[0m \u001b[34mmatplotlib.font_manager\u001b[0m - _findfont_cached - \u001b[1;30mDEBUG\u001b[0m - \u001b[32mfindfont: score(<Font '.Arabic UI Text' (ArabicUIText.ttc) normal normal regular normal>) = 10.05\u001b[0m\n",
      "\u001b[32m2019-07-06 13:42:51:\u001b[0m \u001b[34mmatplotlib.font_manager\u001b[0m - _findfont_cached - \u001b[1;30mDEBUG\u001b[0m - \u001b[32mfindfont: score(<Font 'BiauKai' (BiauKai.ttf) normal normal 400 normal>) = 10.05\u001b[0m\n",
      "\u001b[32m2019-07-06 13:42:51:\u001b[0m \u001b[34mmatplotlib.font_manager\u001b[0m - _findfont_cached - \u001b[1;30mDEBUG\u001b[0m - \u001b[32mfindfont: score(<Font 'STIXGeneral' (STIXGeneralBol.otf) normal normal bold normal>) = 10.335\u001b[0m\n",
      "\u001b[32m2019-07-06 13:42:51:\u001b[0m \u001b[34mmatplotlib.font_manager\u001b[0m - _findfont_cached - \u001b[1;30mDEBUG\u001b[0m - \u001b[32mfindfont: score(<Font 'Arial Hebrew' (ArialHB.ttc) normal normal 400 normal>) = 10.05\u001b[0m\n",
      "\u001b[32m2019-07-06 13:42:51:\u001b[0m \u001b[34mmatplotlib.font_manager\u001b[0m - _findfont_cached - \u001b[1;30mDEBUG\u001b[0m - \u001b[32mfindfont: score(<Font 'STIXSizeTwoSym' (STIXSizTwoSymBol.otf) normal normal bold normal>) = 10.335\u001b[0m\n",
      "\u001b[32m2019-07-06 13:42:51:\u001b[0m \u001b[34mmatplotlib.font_manager\u001b[0m - _findfont_cached - \u001b[1;30mDEBUG\u001b[0m - \u001b[32mfindfont: score(<Font 'STIXVariants' (STIXVarBol.otf) normal normal bold normal>) = 10.335\u001b[0m\n",
      "\u001b[32m2019-07-06 13:42:51:\u001b[0m \u001b[34mmatplotlib.font_manager\u001b[0m - _findfont_cached - \u001b[1;30mDEBUG\u001b[0m - \u001b[32mfindfont: score(<Font 'DecoType Naskh' (DecoTypeNaskh.ttc) normal normal regular normal>) = 10.05\u001b[0m\n",
      "\u001b[32m2019-07-06 13:42:51:\u001b[0m \u001b[34mmatplotlib.font_manager\u001b[0m - _findfont_cached - \u001b[1;30mDEBUG\u001b[0m - \u001b[32mfindfont: score(<Font '.Arabic UI Display' (ArabicUIDisplay.ttc) normal normal black normal>) = 10.525\u001b[0m\n",
      "\u001b[32m2019-07-06 13:42:51:\u001b[0m \u001b[34mmatplotlib.font_manager\u001b[0m - _findfont_cached - \u001b[1;30mDEBUG\u001b[0m - \u001b[32mfindfont: score(<Font 'Al Bayan' (AlBayan.ttc) normal normal 400 normal>) = 10.05\u001b[0m\n",
      "\u001b[32m2019-07-06 13:42:51:\u001b[0m \u001b[34mmatplotlib.font_manager\u001b[0m - _findfont_cached - \u001b[1;30mDEBUG\u001b[0m - \u001b[32mfindfont: score(<Font 'STIXGeneral' (STIXGeneralItalic.otf) italic normal 400 normal>) = 11.05\u001b[0m\n",
      "\u001b[32m2019-07-06 13:42:51:\u001b[0m \u001b[34mmatplotlib.font_manager\u001b[0m - _findfont_cached - \u001b[1;30mDEBUG\u001b[0m - \u001b[32mfindfont: score(<Font 'Skia' (Skia.ttf) normal normal 400 normal>) = 10.05\u001b[0m\n",
      "\u001b[32m2019-07-06 13:42:51:\u001b[0m \u001b[34mmatplotlib.font_manager\u001b[0m - _findfont_cached - \u001b[1;30mDEBUG\u001b[0m - \u001b[32mfindfont: score(<Font 'Shree Devanagari 714' (Shree714.ttc) normal normal 400 normal>) = 10.05\u001b[0m\n",
      "\u001b[32m2019-07-06 13:42:51:\u001b[0m \u001b[34mmatplotlib.font_manager\u001b[0m - _findfont_cached - \u001b[1;30mDEBUG\u001b[0m - \u001b[32mfindfont: score(<Font '.SF NS Display Condensed' (SFNSDisplayCondensed-Thin.otf) normal normal 400 condensed>) = 10.25\u001b[0m\n",
      "\u001b[32m2019-07-06 13:42:51:\u001b[0m \u001b[34mmatplotlib.font_manager\u001b[0m - _findfont_cached - \u001b[1;30mDEBUG\u001b[0m - \u001b[32mfindfont: score(<Font 'Times New Roman' (Times New Roman Italic.ttf) italic normal roman normal>) = 11.145\u001b[0m\n",
      "\u001b[32m2019-07-06 13:42:51:\u001b[0m \u001b[34mmatplotlib.font_manager\u001b[0m - _findfont_cached - \u001b[1;30mDEBUG\u001b[0m - \u001b[32mfindfont: score(<Font 'Herculanum' (Herculanum.ttf) normal normal 400 normal>) = 10.05\u001b[0m\n",
      "\u001b[32m2019-07-06 13:42:51:\u001b[0m \u001b[34mmatplotlib.font_manager\u001b[0m - _findfont_cached - \u001b[1;30mDEBUG\u001b[0m - \u001b[32mfindfont: score(<Font '.SF Compact Display' (SFCompactDisplay-Heavy.otf) normal normal heavy normal>) = 10.43\u001b[0m\n",
      "\u001b[32m2019-07-06 13:42:51:\u001b[0m \u001b[34mmatplotlib.font_manager\u001b[0m - _findfont_cached - \u001b[1;30mDEBUG\u001b[0m - \u001b[32mfindfont: score(<Font 'Roboto Black' (Roboto-Black.ttf) normal normal black normal>) = 10.525\u001b[0m\n",
      "\u001b[32m2019-07-06 13:42:51:\u001b[0m \u001b[34mmatplotlib.font_manager\u001b[0m - _findfont_cached - \u001b[1;30mDEBUG\u001b[0m - \u001b[32mfindfont: score(<Font 'Krungthep' (Krungthep.ttf) normal normal 400 normal>) = 10.05\u001b[0m\n",
      "\u001b[32m2019-07-06 13:42:51:\u001b[0m \u001b[34mmatplotlib.font_manager\u001b[0m - _findfont_cached - \u001b[1;30mDEBUG\u001b[0m - \u001b[32mfindfont: score(<Font 'LiSong Pro' (LiSongPro.ttf) normal normal 400 normal>) = 10.05\u001b[0m\n",
      "\u001b[32m2019-07-06 13:42:51:\u001b[0m \u001b[34mmatplotlib.font_manager\u001b[0m - _findfont_cached - \u001b[1;30mDEBUG\u001b[0m - \u001b[32mfindfont: score(<Font 'Malayalam Sangam MN' (Malayalam Sangam MN.ttc) normal normal 400 normal>) = 10.05\u001b[0m\n",
      "\u001b[32m2019-07-06 13:42:51:\u001b[0m \u001b[34mmatplotlib.font_manager\u001b[0m - _findfont_cached - \u001b[1;30mDEBUG\u001b[0m - \u001b[32mfindfont: score(<Font 'STIXSizeOneSym' (STIXSizOneSymBol.otf) normal normal bold normal>) = 10.335\u001b[0m\n",
      "\u001b[32m2019-07-06 13:42:51:\u001b[0m \u001b[34mmatplotlib.font_manager\u001b[0m - _findfont_cached - \u001b[1;30mDEBUG\u001b[0m - \u001b[32mfindfont: score(<Font 'Osaka' (OsakaMono.ttf) normal normal 400 normal>) = 10.05\u001b[0m\n",
      "\u001b[32m2019-07-06 13:42:51:\u001b[0m \u001b[34mmatplotlib.font_manager\u001b[0m - _findfont_cached - \u001b[1;30mDEBUG\u001b[0m - \u001b[32mfindfont: score(<Font 'Charter' (Charter.ttc) normal normal roman normal>) = 10.145\u001b[0m\n",
      "\u001b[32m2019-07-06 13:42:51:\u001b[0m \u001b[34mmatplotlib.font_manager\u001b[0m - _findfont_cached - \u001b[1;30mDEBUG\u001b[0m - \u001b[32mfindfont: score(<Font 'Hiragino Sans' (ヒラギノ角ゴシック W6.ttc) normal normal 700 normal>) = 10.335\u001b[0m\n",
      "\u001b[32m2019-07-06 13:42:51:\u001b[0m \u001b[34mmatplotlib.font_manager\u001b[0m - _findfont_cached - \u001b[1;30mDEBUG\u001b[0m - \u001b[32mfindfont: score(<Font '.SF Compact Rounded' (SFCompactRounded-Medium.otf) normal normal medium normal>) = 10.145\u001b[0m\n",
      "\u001b[32m2019-07-06 13:42:51:\u001b[0m \u001b[34mmatplotlib.font_manager\u001b[0m - _findfont_cached - \u001b[1;30mDEBUG\u001b[0m - \u001b[32mfindfont: score(<Font 'Damascus' (Damascus.ttc) normal normal regular normal>) = 10.05\u001b[0m\n",
      "\u001b[32m2019-07-06 13:42:51:\u001b[0m \u001b[34mmatplotlib.font_manager\u001b[0m - _findfont_cached - \u001b[1;30mDEBUG\u001b[0m - \u001b[32mfindfont: score(<Font 'Apple Chancery' (Apple Chancery.ttf) normal normal 400 normal>) = 10.05\u001b[0m\n",
      "\u001b[32m2019-07-06 13:42:51:\u001b[0m \u001b[34mmatplotlib.font_manager\u001b[0m - _findfont_cached - \u001b[1;30mDEBUG\u001b[0m - \u001b[32mfindfont: score(<Font 'YuKyokasho Yoko' (Kyokasho.ttc) normal normal medium normal>) = 10.145\u001b[0m\n",
      "\u001b[32m2019-07-06 13:42:51:\u001b[0m \u001b[34mmatplotlib.font_manager\u001b[0m - _findfont_cached - \u001b[1;30mDEBUG\u001b[0m - \u001b[32mfindfont: score(<Font 'Bitstream Vera Sans Mono' (VeraMoIt.ttf) oblique normal 400 normal>) = 11.05\u001b[0m\n",
      "\u001b[32m2019-07-06 13:42:51:\u001b[0m \u001b[34mmatplotlib.font_manager\u001b[0m - _findfont_cached - \u001b[1;30mDEBUG\u001b[0m - \u001b[32mfindfont: score(<Font 'System Font' (SFNSDisplay-ThinItalic.otf) italic normal 400 normal>) = 11.05\u001b[0m\n",
      "\u001b[32m2019-07-06 13:42:51:\u001b[0m \u001b[34mmatplotlib.font_manager\u001b[0m - _findfont_cached - \u001b[1;30mDEBUG\u001b[0m - \u001b[32mfindfont: score(<Font '.SF Compact Text' (SFCompactText-HeavyItalic.otf) italic normal heavy normal>) = 11.43\u001b[0m\n",
      "\u001b[32m2019-07-06 13:42:51:\u001b[0m \u001b[34mmatplotlib.font_manager\u001b[0m - _findfont_cached - \u001b[1;30mDEBUG\u001b[0m - \u001b[32mfindfont: score(<Font 'Silom' (Silom.ttf) normal normal 400 normal>) = 10.05\u001b[0m\n",
      "\u001b[32m2019-07-06 13:42:51:\u001b[0m \u001b[34mmatplotlib.font_manager\u001b[0m - _findfont_cached - \u001b[1;30mDEBUG\u001b[0m - \u001b[32mfindfont: score(<Font 'Bangla Sangam MN' (Bangla Sangam MN.ttc) normal normal 400 normal>) = 10.05\u001b[0m\n",
      "\u001b[32m2019-07-06 13:42:51:\u001b[0m \u001b[34mmatplotlib.font_manager\u001b[0m - _findfont_cached - \u001b[1;30mDEBUG\u001b[0m - \u001b[32mfindfont: score(<Font '.SF NS Display Condensed' (SFNSDisplayCondensed-Heavy.otf) normal normal heavy condensed>) = 10.629999999999999\u001b[0m\n",
      "\u001b[32m2019-07-06 13:42:51:\u001b[0m \u001b[34mmatplotlib.font_manager\u001b[0m - _findfont_cached - \u001b[1;30mDEBUG\u001b[0m - \u001b[32mfindfont: score(<Font 'Nanum Gothic' (NanumGothic.ttc) normal normal 400 normal>) = 10.05\u001b[0m\n",
      "\u001b[32m2019-07-06 13:42:51:\u001b[0m \u001b[34mmatplotlib.font_manager\u001b[0m - _findfont_cached - \u001b[1;30mDEBUG\u001b[0m - \u001b[32mfindfont: score(<Font 'Verdana' (Verdana.ttf) normal normal 400 normal>) = 10.05\u001b[0m\n",
      "\u001b[32m2019-07-06 13:42:51:\u001b[0m \u001b[34mmatplotlib.font_manager\u001b[0m - _findfont_cached - \u001b[1;30mDEBUG\u001b[0m - \u001b[32mfindfont: score(<Font 'Courier New' (Courier New Bold Italic.ttf) italic normal bold normal>) = 11.335\u001b[0m\n",
      "\u001b[32m2019-07-06 13:42:51:\u001b[0m \u001b[34mmatplotlib.font_manager\u001b[0m - _findfont_cached - \u001b[1;30mDEBUG\u001b[0m - \u001b[32mfindfont: score(<Font 'Georgia' (Georgia.ttf) normal normal 400 normal>) = 10.05\u001b[0m\n"
     ]
    },
    {
     "name": "stdout",
     "output_type": "stream",
     "text": [
      "\u001b[32m2019-07-06 13:42:51:\u001b[0m \u001b[34mmatplotlib.font_manager\u001b[0m - _findfont_cached - \u001b[1;30mDEBUG\u001b[0m - \u001b[32mfindfont: score(<Font 'Verdana' (Verdana Italic.ttf) italic normal 400 normal>) = 11.05\u001b[0m\n",
      "\u001b[32m2019-07-06 13:42:51:\u001b[0m \u001b[34mmatplotlib.font_manager\u001b[0m - _findfont_cached - \u001b[1;30mDEBUG\u001b[0m - \u001b[32mfindfont: score(<Font '.SF NS Rounded' (SFNSRounded.ttf) normal normal 400 normal>) = 10.05\u001b[0m\n",
      "\u001b[32m2019-07-06 13:42:51:\u001b[0m \u001b[34mmatplotlib.font_manager\u001b[0m - _findfont_cached - \u001b[1;30mDEBUG\u001b[0m - \u001b[32mfindfont: score(<Font 'Comic Sans MS' (Comic Sans MS Bold.ttf) normal normal bold normal>) = 10.335\u001b[0m\n",
      "\u001b[32m2019-07-06 13:42:51:\u001b[0m \u001b[34mmatplotlib.font_manager\u001b[0m - _findfont_cached - \u001b[1;30mDEBUG\u001b[0m - \u001b[32mfindfont: score(<Font 'STIXNonUnicode' (STIXNonUni.otf) normal normal regular normal>) = 10.05\u001b[0m\n",
      "\u001b[32m2019-07-06 13:42:51:\u001b[0m \u001b[34mmatplotlib.font_manager\u001b[0m - _findfont_cached - \u001b[1;30mDEBUG\u001b[0m - \u001b[32mfindfont: score(<Font 'STIXIntegralsD' (STIXIntDBol.otf) normal normal bold normal>) = 10.335\u001b[0m\n",
      "\u001b[32m2019-07-06 13:42:51:\u001b[0m \u001b[34mmatplotlib.font_manager\u001b[0m - _findfont_cached - \u001b[1;30mDEBUG\u001b[0m - \u001b[32mfindfont: score(<Font 'Arial Narrow' (Arial Narrow Bold Italic.ttf) italic normal bold condensed>) = 11.535\u001b[0m\n",
      "\u001b[32m2019-07-06 13:42:51:\u001b[0m \u001b[34mmatplotlib.font_manager\u001b[0m - _findfont_cached - \u001b[1;30mDEBUG\u001b[0m - \u001b[32mfindfont: score(<Font '.SF Compact Display' (SFCompactDisplay-Ultralight.otf) normal normal ultralight normal>) = 10.335\u001b[0m\n",
      "\u001b[32m2019-07-06 13:42:51:\u001b[0m \u001b[34mmatplotlib.font_manager\u001b[0m - _findfont_cached - \u001b[1;30mDEBUG\u001b[0m - \u001b[32mfindfont: score(<Font 'Malayalam MN' (Malayalam MN.ttc) normal normal 400 normal>) = 10.05\u001b[0m\n",
      "\u001b[32m2019-07-06 13:42:51:\u001b[0m \u001b[34mmatplotlib.font_manager\u001b[0m - _findfont_cached - \u001b[1;30mDEBUG\u001b[0m - \u001b[32mfindfont: score(<Font 'Arial Black' (Arial Black.ttf) normal normal black normal>) = 10.525\u001b[0m\n",
      "\u001b[32m2019-07-06 13:42:51:\u001b[0m \u001b[34mmatplotlib.font_manager\u001b[0m - _findfont_cached - \u001b[1;30mDEBUG\u001b[0m - \u001b[32mfindfont: score(<Font 'Times' (Times.ttc) normal normal roman normal>) = 10.145\u001b[0m\n",
      "\u001b[32m2019-07-06 13:42:51:\u001b[0m \u001b[34mmatplotlib.font_manager\u001b[0m - _findfont_cached - \u001b[1;30mDEBUG\u001b[0m - \u001b[32mfindfont: score(<Font 'Montserrat Thin' (Montserrat-ThinItalic.ttf) italic normal 400 normal>) = 11.05\u001b[0m\n",
      "\u001b[32m2019-07-06 13:42:51:\u001b[0m \u001b[34mmatplotlib.font_manager\u001b[0m - _findfont_cached - \u001b[1;30mDEBUG\u001b[0m - \u001b[32mfindfont: score(<Font 'Arial Rounded MT Bold' (Arial Rounded Bold.ttf) normal normal bold normal>) = 10.335\u001b[0m\n",
      "\u001b[32m2019-07-06 13:42:51:\u001b[0m \u001b[34mmatplotlib.font_manager\u001b[0m - _findfont_cached - \u001b[1;30mDEBUG\u001b[0m - \u001b[32mfindfont: score(<Font '.SF NS Display Condensed' (SFNSDisplayCondensed-Bold.otf) normal normal bold condensed>) = 10.535\u001b[0m\n",
      "\u001b[32m2019-07-06 13:42:51:\u001b[0m \u001b[34mmatplotlib.font_manager\u001b[0m - _findfont_cached - \u001b[1;30mDEBUG\u001b[0m - \u001b[32mfindfont: score(<Font 'Kohinoor Telugu' (KohinoorTelugu.ttc) normal normal 400 normal>) = 10.05\u001b[0m\n",
      "\u001b[32m2019-07-06 13:42:51:\u001b[0m \u001b[34mmatplotlib.font_manager\u001b[0m - _findfont_cached - \u001b[1;30mDEBUG\u001b[0m - \u001b[32mfindfont: score(<Font 'Big Caslon' (BigCaslon.ttf) normal normal medium normal>) = 10.145\u001b[0m\n",
      "\u001b[32m2019-07-06 13:42:51:\u001b[0m \u001b[34mmatplotlib.font_manager\u001b[0m - _findfont_cached - \u001b[1;30mDEBUG\u001b[0m - \u001b[32mfindfont: score(<Font 'STIXGeneral' (STIXGeneral.otf) normal normal regular normal>) = 10.05\u001b[0m\n",
      "\u001b[32m2019-07-06 13:42:51:\u001b[0m \u001b[34mmatplotlib.font_manager\u001b[0m - _findfont_cached - \u001b[1;30mDEBUG\u001b[0m - \u001b[32mfindfont: score(<Font 'Bitstream Vera Sans' (VeraBI.ttf) oblique normal bold normal>) = 7.335\u001b[0m\n",
      "\u001b[32m2019-07-06 13:42:51:\u001b[0m \u001b[34mmatplotlib.font_manager\u001b[0m - _findfont_cached - \u001b[1;30mDEBUG\u001b[0m - \u001b[32mfindfont: score(<Font 'Serto Jerusalem' (SyrCOMJerusalemBold.otf) normal normal bold normal>) = 10.335\u001b[0m\n",
      "\u001b[32m2019-07-06 13:42:51:\u001b[0m \u001b[34mmatplotlib.font_manager\u001b[0m - _findfont_cached - \u001b[1;30mDEBUG\u001b[0m - \u001b[32mfindfont: score(<Font 'System Font' (SFNSDisplay-RegularItalic.otf) italic normal 400 normal>) = 11.05\u001b[0m\n",
      "\u001b[32m2019-07-06 13:42:51:\u001b[0m \u001b[34mmatplotlib.font_manager\u001b[0m - _findfont_cached - \u001b[1;30mDEBUG\u001b[0m - \u001b[32mfindfont: score(<Font 'Apple Braille' (Apple Braille Outline 8 Dot.ttf) normal normal 400 normal>) = 10.05\u001b[0m\n",
      "\u001b[32m2019-07-06 13:42:51:\u001b[0m \u001b[34mmatplotlib.font_manager\u001b[0m - _findfont_cached - \u001b[1;30mDEBUG\u001b[0m - \u001b[32mfindfont: score(<Font 'System Font' (SFNSDisplay-BlackItalic.otf) italic normal black normal>) = 11.525\u001b[0m\n",
      "\u001b[32m2019-07-06 13:42:51:\u001b[0m \u001b[34mmatplotlib.font_manager\u001b[0m - _findfont_cached - \u001b[1;30mDEBUG\u001b[0m - \u001b[32mfindfont: score(<Font 'Devanagari Sangam MN' (Devanagari Sangam MN.ttc) normal normal 400 normal>) = 10.05\u001b[0m\n",
      "\u001b[32m2019-07-06 13:42:51:\u001b[0m \u001b[34mmatplotlib.font_manager\u001b[0m - _findfont_cached - \u001b[1;30mDEBUG\u001b[0m - \u001b[32mfindfont: score(<Font 'Estrangelo Antioch' (SyrCOMAntioch.otf) normal normal 400 normal>) = 10.05\u001b[0m\n",
      "\u001b[32m2019-07-06 13:42:51:\u001b[0m \u001b[34mmatplotlib.font_manager\u001b[0m - _findfont_cached - \u001b[1;30mDEBUG\u001b[0m - \u001b[32mfindfont: score(<Font 'Bodoni 72 Oldstyle' (Bodoni 72 OS.ttc) normal normal book normal>) = 10.05\u001b[0m\n",
      "\u001b[32m2019-07-06 13:42:51:\u001b[0m \u001b[34mmatplotlib.font_manager\u001b[0m - _findfont_cached - \u001b[1;30mDEBUG\u001b[0m - \u001b[32mfindfont: score(<Font 'Bodoni 72 Smallcaps' (Bodoni 72 Smallcaps Book.ttf) normal normal book normal>) = 10.05\u001b[0m\n",
      "\u001b[32m2019-07-06 13:42:51:\u001b[0m \u001b[34mmatplotlib.font_manager\u001b[0m - _findfont_cached - \u001b[1;30mDEBUG\u001b[0m - \u001b[32mfindfont: score(<Font 'Avenir Next Condensed' (Avenir Next Condensed.ttc) normal normal bold condensed>) = 10.535\u001b[0m\n",
      "\u001b[32m2019-07-06 13:42:51:\u001b[0m \u001b[34mmatplotlib.font_manager\u001b[0m - _findfont_cached - \u001b[1;30mDEBUG\u001b[0m - \u001b[32mfindfont: score(<Font 'Hiragino Sans' (ヒラギノ角ゴシック W7.ttc) normal normal 700 normal>) = 10.335\u001b[0m\n",
      "\u001b[32m2019-07-06 13:42:51:\u001b[0m \u001b[34mmatplotlib.font_manager\u001b[0m - _findfont_cached - \u001b[1;30mDEBUG\u001b[0m - \u001b[32mfindfont: score(<Font 'SignPainter' (SignPainter.ttc) normal normal 400 normal>) = 10.05\u001b[0m\n",
      "\u001b[32m2019-07-06 13:42:51:\u001b[0m \u001b[34mmatplotlib.font_manager\u001b[0m - _findfont_cached - \u001b[1;30mDEBUG\u001b[0m - \u001b[32mfindfont: score(<Font 'Montserrat Medium' (Montserrat-MediumItalic.ttf) italic normal medium normal>) = 11.145\u001b[0m\n",
      "\u001b[32m2019-07-06 13:42:51:\u001b[0m \u001b[34mmatplotlib.font_manager\u001b[0m - _findfont_cached - \u001b[1;30mDEBUG\u001b[0m - \u001b[32mfindfont: score(<Font 'Oriya MN' (Oriya MN.ttc) normal normal 400 normal>) = 10.05\u001b[0m\n",
      "\u001b[32m2019-07-06 13:42:51:\u001b[0m \u001b[34mmatplotlib.font_manager\u001b[0m - _findfont_cached - \u001b[1;30mDEBUG\u001b[0m - \u001b[32mfindfont: score(<Font 'System Font' (SFNSDisplay-MediumItalic.otf) italic normal medium normal>) = 11.145\u001b[0m\n",
      "\u001b[32m2019-07-06 13:42:51:\u001b[0m \u001b[34mmatplotlib.font_manager\u001b[0m - _findfont_cached - \u001b[1;30mDEBUG\u001b[0m - \u001b[32mfindfont: score(<Font 'Luxi Serif' (luxirb.ttf) normal normal bold normal>) = 10.335\u001b[0m\n",
      "\u001b[32m2019-07-06 13:42:51:\u001b[0m \u001b[34mmatplotlib.font_manager\u001b[0m - _findfont_cached - \u001b[1;30mDEBUG\u001b[0m - \u001b[32mfindfont: score(<Font 'Brush Script MT' (Brush Script.ttf) italic normal 400 normal>) = 11.05\u001b[0m\n",
      "\u001b[32m2019-07-06 13:42:51:\u001b[0m \u001b[34mmatplotlib.font_manager\u001b[0m - _findfont_cached - \u001b[1;30mDEBUG\u001b[0m - \u001b[32mfindfont: score(<Font 'Apple LiSung' (AppleLiSung-Light.ttf) normal normal light normal>) = 10.24\u001b[0m\n",
      "\u001b[32m2019-07-06 13:42:51:\u001b[0m \u001b[34mmatplotlib.font_manager\u001b[0m - _findfont_cached - \u001b[1;30mDEBUG\u001b[0m - \u001b[32mfindfont: score(<Font 'STIXIntegralsUp' (STIXIntUpBol.otf) normal normal bold normal>) = 10.335\u001b[0m\n",
      "\u001b[32m2019-07-06 13:42:51:\u001b[0m \u001b[34mmatplotlib.font_manager\u001b[0m - _findfont_cached - \u001b[1;30mDEBUG\u001b[0m - \u001b[32mfindfont: score(<Font '.SF Compact Display' (SFCompactDisplay-Semibold.otf) normal normal semibold normal>) = 10.24\u001b[0m\n",
      "\u001b[32m2019-07-06 13:42:51:\u001b[0m \u001b[34mmatplotlib.font_manager\u001b[0m - _findfont_cached - \u001b[1;30mDEBUG\u001b[0m - \u001b[32mfindfont: score(<Font '.SF Compact Display' (SFCompactDisplay-Medium.otf) normal normal medium normal>) = 10.145\u001b[0m\n",
      "\u001b[32m2019-07-06 13:42:51:\u001b[0m \u001b[34mmatplotlib.font_manager\u001b[0m - _findfont_cached - \u001b[1;30mDEBUG\u001b[0m - \u001b[32mfindfont: score(<Font 'STIXSizeThreeSym' (STIXSizThreeSymReg.otf) normal normal regular normal>) = 10.05\u001b[0m\n",
      "\u001b[32m2019-07-06 13:42:51:\u001b[0m \u001b[34mmatplotlib.font_manager\u001b[0m - _findfont_cached - \u001b[1;30mDEBUG\u001b[0m - \u001b[32mfindfont: score(<Font 'Sana' (Sana.ttc) normal normal regular normal>) = 10.05\u001b[0m\n"
     ]
    },
    {
     "name": "stdout",
     "output_type": "stream",
     "text": [
      "\u001b[32m2019-07-06 13:42:51:\u001b[0m \u001b[34mmatplotlib.font_manager\u001b[0m - _findfont_cached - \u001b[1;30mDEBUG\u001b[0m - \u001b[32mfindfont: score(<Font 'Andale Mono' (Andale Mono.ttf) normal normal 400 normal>) = 10.05\u001b[0m\n",
      "\u001b[32m2019-07-06 13:42:51:\u001b[0m \u001b[34mmatplotlib.font_manager\u001b[0m - _findfont_cached - \u001b[1;30mDEBUG\u001b[0m - \u001b[32mfindfont: score(<Font 'HeadLineA' (HeadlineA.ttf) normal normal regular normal>) = 10.05\u001b[0m\n",
      "\u001b[32m2019-07-06 13:42:51:\u001b[0m \u001b[34mmatplotlib.font_manager\u001b[0m - _findfont_cached - \u001b[1;30mDEBUG\u001b[0m - \u001b[32mfindfont: score(<Font 'STIXSizeThreeSym' (STIXSizThreeSymBol.otf) normal normal bold normal>) = 10.335\u001b[0m\n",
      "\u001b[32m2019-07-06 13:42:51:\u001b[0m \u001b[34mmatplotlib.font_manager\u001b[0m - _findfont_cached - \u001b[1;30mDEBUG\u001b[0m - \u001b[32mfindfont: score(<Font 'Roboto Thin' (Roboto-Thin.ttf) normal normal 400 normal>) = 10.05\u001b[0m\n",
      "\u001b[32m2019-07-06 13:42:51:\u001b[0m \u001b[34mmatplotlib.font_manager\u001b[0m - _findfont_cached - \u001b[1;30mDEBUG\u001b[0m - \u001b[32mfindfont: score(<Font '.SF Compact Text' (SFCompactText-Light.otf) normal normal light normal>) = 10.24\u001b[0m\n",
      "\u001b[32m2019-07-06 13:42:51:\u001b[0m \u001b[34mmatplotlib.font_manager\u001b[0m - _findfont_cached - \u001b[1;30mDEBUG\u001b[0m - \u001b[32mfindfont: score(<Font 'Roboto Thin' (Roboto-ThinItalic.ttf) italic normal 400 normal>) = 11.05\u001b[0m\n",
      "\u001b[32m2019-07-06 13:42:51:\u001b[0m \u001b[34mmatplotlib.font_manager\u001b[0m - _findfont_cached - \u001b[1;30mDEBUG\u001b[0m - \u001b[32mfindfont: score(<Font 'STHeiti' (STXIHEI.ttf) normal normal 400 normal>) = 10.05\u001b[0m\n",
      "\u001b[32m2019-07-06 13:42:51:\u001b[0m \u001b[34mmatplotlib.font_manager\u001b[0m - _findfont_cached - \u001b[1;30mDEBUG\u001b[0m - \u001b[32mfindfont: score(<Font 'Arial' (Arial Bold.ttf) normal normal bold normal>) = 0.33499999999999996\u001b[0m\n",
      "\u001b[32m2019-07-06 13:42:51:\u001b[0m \u001b[34mmatplotlib.font_manager\u001b[0m - _findfont_cached - \u001b[1;30mDEBUG\u001b[0m - \u001b[32mfindfont: score(<Font '.SF NS Symbols' (SFNSSymbols-Ultralight.otf) normal normal ultralight normal>) = 10.335\u001b[0m\n",
      "\u001b[32m2019-07-06 13:42:51:\u001b[0m \u001b[34mmatplotlib.font_manager\u001b[0m - _findfont_cached - \u001b[1;30mDEBUG\u001b[0m - \u001b[32mfindfont: score(<Font 'Didot' (Didot.ttc) normal normal 400 normal>) = 10.05\u001b[0m\n",
      "\u001b[32m2019-07-06 13:42:51:\u001b[0m \u001b[34mmatplotlib.font_manager\u001b[0m - _findfont_cached - \u001b[1;30mDEBUG\u001b[0m - \u001b[32mfindfont: score(<Font 'Arial Narrow' (Arial Narrow.ttf) normal normal 400 condensed>) = 10.25\u001b[0m\n",
      "\u001b[32m2019-07-06 13:42:51:\u001b[0m \u001b[34mmatplotlib.font_manager\u001b[0m - _findfont_cached - \u001b[1;30mDEBUG\u001b[0m - \u001b[32mfindfont: score(<Font 'Roboto' (Roboto-BoldItalic.ttf) italic normal bold normal>) = 11.335\u001b[0m\n",
      "\u001b[32m2019-07-06 13:42:51:\u001b[0m \u001b[34mmatplotlib.font_manager\u001b[0m - _findfont_cached - \u001b[1;30mDEBUG\u001b[0m - \u001b[32mfindfont: score(<Font 'Estrangelo Quenneshrin' (SyrCOMQenNeshrin.otf) normal normal 400 normal>) = 10.05\u001b[0m\n",
      "\u001b[32m2019-07-06 13:42:51:\u001b[0m \u001b[34mmatplotlib.font_manager\u001b[0m - _findfont_cached - \u001b[1;30mDEBUG\u001b[0m - \u001b[32mfindfont: score(<Font '.SF Compact Text' (SFCompactText-Heavy.otf) normal normal heavy normal>) = 10.43\u001b[0m\n",
      "\u001b[32m2019-07-06 13:42:51:\u001b[0m \u001b[34mmatplotlib.font_manager\u001b[0m - _findfont_cached - \u001b[1;30mDEBUG\u001b[0m - \u001b[32mfindfont: score(<Font 'Lantinghei SC' (Lantinghei.ttc) normal normal demibold normal>) = 10.24\u001b[0m\n",
      "\u001b[32m2019-07-06 13:42:51:\u001b[0m \u001b[34mmatplotlib.font_manager\u001b[0m - _findfont_cached - \u001b[1;30mDEBUG\u001b[0m - \u001b[32mfindfont: score(<Font 'Toppan Bunkyu Midashi Mincho' (ToppanBunkyuMidashiMinchoStdN-ExtraBold.otf) normal normal bold normal>) = 10.335\u001b[0m\n",
      "\u001b[32m2019-07-06 13:42:51:\u001b[0m \u001b[34mmatplotlib.font_manager\u001b[0m - _findfont_cached - \u001b[1;30mDEBUG\u001b[0m - \u001b[32mfindfont: score(<Font '.SF NS Symbols' (SFNSSymbols-Black.otf) normal normal black normal>) = 10.525\u001b[0m\n",
      "\u001b[32m2019-07-06 13:42:51:\u001b[0m \u001b[34mmatplotlib.font_manager\u001b[0m - _findfont_cached - \u001b[1;30mDEBUG\u001b[0m - \u001b[32mfindfont: score(<Font 'Hiragino Sans CNS' (Hiragino_Sans_CNS.ttc) normal normal 400 normal>) = 10.05\u001b[0m\n",
      "\u001b[32m2019-07-06 13:42:51:\u001b[0m \u001b[34mmatplotlib.font_manager\u001b[0m - _findfont_cached - \u001b[1;30mDEBUG\u001b[0m - \u001b[32mfindfont: score(<Font 'Osaka' (Osaka.ttf) normal normal 400 normal>) = 10.05\u001b[0m\n",
      "\u001b[32m2019-07-06 13:42:51:\u001b[0m \u001b[34mmatplotlib.font_manager\u001b[0m - _findfont_cached - \u001b[1;30mDEBUG\u001b[0m - \u001b[32mfindfont: score(<Font 'Thonburi' (Thonburi.ttc) normal normal 400 normal>) = 10.05\u001b[0m\n",
      "\u001b[32m2019-07-06 13:42:51:\u001b[0m \u001b[34mmatplotlib.font_manager\u001b[0m - _findfont_cached - \u001b[1;30mDEBUG\u001b[0m - \u001b[32mfindfont: score(<Font '.SF Compact Text' (SFCompactText-Semibold.otf) normal normal semibold normal>) = 10.24\u001b[0m\n",
      "\u001b[32m2019-07-06 13:42:51:\u001b[0m \u001b[34mmatplotlib.font_manager\u001b[0m - _findfont_cached - \u001b[1;30mDEBUG\u001b[0m - \u001b[32mfindfont: score(<Font '.SF Compact Display' (SFCompactDisplay-Light.otf) normal normal light normal>) = 10.24\u001b[0m\n",
      "\u001b[32m2019-07-06 13:42:51:\u001b[0m \u001b[34mmatplotlib.font_manager\u001b[0m - _findfont_cached - \u001b[1;30mDEBUG\u001b[0m - \u001b[32mfindfont: score(<Font 'Serto Urhoy' (SyrCOMUrhoyBold.otf) normal normal bold normal>) = 10.335\u001b[0m\n",
      "\u001b[32m2019-07-06 13:42:51:\u001b[0m \u001b[34mmatplotlib.font_manager\u001b[0m - _findfont_cached - \u001b[1;30mDEBUG\u001b[0m - \u001b[32mfindfont: score(<Font '.SF NS Symbols' (SFNSSymbols-Regular.otf) normal normal regular normal>) = 10.05\u001b[0m\n",
      "\u001b[32m2019-07-06 13:42:51:\u001b[0m \u001b[34mmatplotlib.font_manager\u001b[0m - _findfont_cached - \u001b[1;30mDEBUG\u001b[0m - \u001b[32mfindfont: score(<Font 'STHeiti' (STHEITI.ttf) normal normal 400 normal>) = 10.05\u001b[0m\n",
      "\u001b[32m2019-07-06 13:42:51:\u001b[0m \u001b[34mmatplotlib.font_manager\u001b[0m - _findfont_cached - \u001b[1;30mDEBUG\u001b[0m - \u001b[32mfindfont: score(<Font 'Tsukushi B Round Gothic' (TsukushiBMaruGothic.ttc) normal normal regular normal>) = 10.05\u001b[0m\n",
      "\u001b[32m2019-07-06 13:42:51:\u001b[0m \u001b[34mmatplotlib.font_manager\u001b[0m - _findfont_cached - \u001b[1;30mDEBUG\u001b[0m - \u001b[32mfindfont: score(<Font 'Bodoni 72' (Bodoni 72.ttc) normal normal book normal>) = 10.05\u001b[0m\n",
      "\u001b[32m2019-07-06 13:42:51:\u001b[0m \u001b[34mmatplotlib.font_manager\u001b[0m - _findfont_cached - \u001b[1;30mDEBUG\u001b[0m - \u001b[32mfindfont: score(<Font 'Roboto Light' (Roboto-LightItalic.ttf) italic normal light normal>) = 11.24\u001b[0m\n",
      "\u001b[32m2019-07-06 13:42:51:\u001b[0m \u001b[34mmatplotlib.font_manager\u001b[0m - _findfont_cached - \u001b[1;30mDEBUG\u001b[0m - \u001b[32mfindfont: score(<Font '.SF NS Display Condensed' (SFNSDisplayCondensed-Semibold.otf) normal normal semibold condensed>) = 10.44\u001b[0m\n",
      "\u001b[32m2019-07-06 13:42:51:\u001b[0m \u001b[34mmatplotlib.font_manager\u001b[0m - _findfont_cached - \u001b[1;30mDEBUG\u001b[0m - \u001b[32mfindfont: score(<Font 'Ayuthaya' (Ayuthaya.ttf) normal normal 400 normal>) = 10.05\u001b[0m\n",
      "\u001b[32m2019-07-06 13:42:51:\u001b[0m \u001b[34mmatplotlib.font_manager\u001b[0m - _findfont_cached - \u001b[1;30mDEBUG\u001b[0m - \u001b[32mfindfont: score(<Font 'Trebuchet MS' (Trebuchet MS Bold Italic.ttf) italic normal bold normal>) = 11.335\u001b[0m\n",
      "\u001b[32m2019-07-06 13:42:51:\u001b[0m \u001b[34mmatplotlib.font_manager\u001b[0m - _findfont_cached - \u001b[1;30mDEBUG\u001b[0m - \u001b[32mfindfont: score(<Font 'Apple Braille' (Apple Braille Outline 6 Dot.ttf) normal normal 400 normal>) = 10.05\u001b[0m\n",
      "\u001b[32m2019-07-06 13:42:51:\u001b[0m \u001b[34mmatplotlib.font_manager\u001b[0m - _findfont_cached - \u001b[1;30mDEBUG\u001b[0m - \u001b[32mfindfont: score(<Font 'Serto Kharput' (SyrCOMKharput.otf) normal normal 400 normal>) = 10.05\u001b[0m\n",
      "\u001b[32m2019-07-06 13:42:51:\u001b[0m \u001b[34mmatplotlib.font_manager\u001b[0m - _findfont_cached - \u001b[1;30mDEBUG\u001b[0m - \u001b[32mfindfont: score(<Font 'Serto Urhoy' (SyrCOMUrhoy.otf) normal normal 400 normal>) = 10.05\u001b[0m\n",
      "\u001b[32m2019-07-06 13:42:51:\u001b[0m \u001b[34mmatplotlib.font_manager\u001b[0m - _findfont_cached - \u001b[1;30mDEBUG\u001b[0m - \u001b[32mfindfont: score(<Font 'System Font' (SFNSDisplay-LightItalic.otf) italic normal light normal>) = 11.24\u001b[0m\n",
      "\u001b[32m2019-07-06 13:42:51:\u001b[0m \u001b[34mmatplotlib.font_manager\u001b[0m - _findfont_cached - \u001b[1;30mDEBUG\u001b[0m - \u001b[32mfindfont: score(<Font 'Baskerville' (Baskerville.ttc) normal normal 400 normal>) = 10.05\u001b[0m\n",
      "\u001b[32m2019-07-06 13:42:51:\u001b[0m \u001b[34mmatplotlib.font_manager\u001b[0m - _findfont_cached - \u001b[1;30mDEBUG\u001b[0m - \u001b[32mfindfont: score(<Font 'Courier New' (Courier New Bold.ttf) normal normal bold normal>) = 10.335\u001b[0m\n",
      "\u001b[32m2019-07-06 13:42:51:\u001b[0m \u001b[34mmatplotlib.font_manager\u001b[0m - _findfont_cached - \u001b[1;30mDEBUG\u001b[0m - \u001b[32mfindfont: score(<Font 'STIXNonUnicode' (STIXNonUniBolIta.otf) italic normal bold normal>) = 11.335\u001b[0m\n",
      "\u001b[32m2019-07-06 13:42:51:\u001b[0m \u001b[34mmatplotlib.font_manager\u001b[0m - _findfont_cached - \u001b[1;30mDEBUG\u001b[0m - \u001b[32mfindfont: score(<Font 'Roboto Light' (Roboto-Light.ttf) normal normal light normal>) = 10.24\u001b[0m\n",
      "\u001b[32m2019-07-06 13:42:51:\u001b[0m \u001b[34mmatplotlib.font_manager\u001b[0m - _findfont_cached - \u001b[1;30mDEBUG\u001b[0m - \u001b[32mfindfont: score(<Font '.SF Compact Rounded' (SFCompactRounded-Black.otf) normal normal black normal>) = 10.525\u001b[0m\n"
     ]
    },
    {
     "name": "stdout",
     "output_type": "stream",
     "text": [
      "\u001b[32m2019-07-06 13:42:51:\u001b[0m \u001b[34mmatplotlib.font_manager\u001b[0m - _findfont_cached - \u001b[1;30mDEBUG\u001b[0m - \u001b[32mfindfont: score(<Font '.SF NS Display Condensed' (SFNSDisplayCondensed-Black.otf) normal normal black condensed>) = 10.725\u001b[0m\n",
      "\u001b[32m2019-07-06 13:42:51:\u001b[0m \u001b[34mmatplotlib.font_manager\u001b[0m - _findfont_cached - \u001b[1;30mDEBUG\u001b[0m - \u001b[32mfindfont: score(<Font 'Courier New' (Courier New Italic.ttf) italic normal 400 normal>) = 11.05\u001b[0m\n",
      "\u001b[32m2019-07-06 13:42:51:\u001b[0m \u001b[34mmatplotlib.font_manager\u001b[0m - _findfont_cached - \u001b[1;30mDEBUG\u001b[0m - \u001b[32mfindfont: score(<Font 'Bradley Hand' (Bradley Hand Bold.ttf) normal normal bold normal>) = 10.335\u001b[0m\n",
      "\u001b[32m2019-07-06 13:42:51:\u001b[0m \u001b[34mmatplotlib.font_manager\u001b[0m - _findfont_cached - \u001b[1;30mDEBUG\u001b[0m - \u001b[32mfindfont: score(<Font 'Tahoma' (Tahoma.ttf) normal normal 400 normal>) = 10.05\u001b[0m\n",
      "\u001b[32m2019-07-06 13:42:51:\u001b[0m \u001b[34mmatplotlib.font_manager\u001b[0m - _findfont_cached - \u001b[1;30mDEBUG\u001b[0m - \u001b[32mfindfont: score(<Font 'Hei' (Hei.ttf) normal normal regular normal>) = 10.05\u001b[0m\n",
      "\u001b[32m2019-07-06 13:42:51:\u001b[0m \u001b[34mmatplotlib.font_manager\u001b[0m - _findfont_cached - \u001b[1;30mDEBUG\u001b[0m - \u001b[32mfindfont: score(<Font '.SF NS Symbols' (SFNSSymbols-Light.otf) normal normal light normal>) = 10.24\u001b[0m\n",
      "\u001b[32m2019-07-06 13:42:51:\u001b[0m \u001b[34mmatplotlib.font_manager\u001b[0m - _findfont_cached - \u001b[1;30mDEBUG\u001b[0m - \u001b[32mfindfont: score(<Font 'Kefa' (Kefa.ttc) normal normal regular normal>) = 10.05\u001b[0m\n",
      "\u001b[32m2019-07-06 13:42:51:\u001b[0m \u001b[34mmatplotlib.font_manager\u001b[0m - _findfont_cached - \u001b[1;30mDEBUG\u001b[0m - \u001b[32mfindfont: score(<Font 'Kannada Sangam MN' (Kannada Sangam MN.ttc) normal normal 400 normal>) = 10.05\u001b[0m\n",
      "\u001b[32m2019-07-06 13:42:51:\u001b[0m \u001b[34mmatplotlib.font_manager\u001b[0m - _findfont_cached - \u001b[1;30mDEBUG\u001b[0m - \u001b[32mfindfont: score(<Font 'Hiragino Sans' (ヒラギノ角ゴシック W2.ttc) normal normal 400 normal>) = 10.05\u001b[0m\n",
      "\u001b[32m2019-07-06 13:42:51:\u001b[0m \u001b[34mmatplotlib.font_manager\u001b[0m - _findfont_cached - \u001b[1;30mDEBUG\u001b[0m - \u001b[32mfindfont: score(<Font 'STIXVariants' (STIXVar.otf) normal normal regular normal>) = 10.05\u001b[0m\n",
      "\u001b[32m2019-07-06 13:42:51:\u001b[0m \u001b[34mmatplotlib.font_manager\u001b[0m - _findfont_cached - \u001b[1;30mDEBUG\u001b[0m - \u001b[32mfindfont: score(<Font 'Muna' (Muna.ttc) normal normal regular normal>) = 10.05\u001b[0m\n",
      "\u001b[32m2019-07-06 13:42:51:\u001b[0m \u001b[34mmatplotlib.font_manager\u001b[0m - _findfont_cached - \u001b[1;30mDEBUG\u001b[0m - \u001b[32mfindfont: score(<Font 'Estrangelo TurAbdin' (SyrCOMTurAbdin.otf) normal normal 400 normal>) = 10.05\u001b[0m\n",
      "\u001b[32m2019-07-06 13:42:51:\u001b[0m \u001b[34mmatplotlib.font_manager\u001b[0m - _findfont_cached - \u001b[1;30mDEBUG\u001b[0m - \u001b[32mfindfont: score(<Font 'Luxi Mono' (luximb.ttf) normal normal bold normal>) = 10.335\u001b[0m\n",
      "\u001b[32m2019-07-06 13:42:51:\u001b[0m \u001b[34mmatplotlib.font_manager\u001b[0m - _findfont_cached - \u001b[1;30mDEBUG\u001b[0m - \u001b[32mfindfont: score(<Font 'Luminari' (Luminari.ttf) normal normal 400 normal>) = 10.05\u001b[0m\n",
      "\u001b[32m2019-07-06 13:42:51:\u001b[0m \u001b[34mmatplotlib.font_manager\u001b[0m - _findfont_cached - \u001b[1;30mDEBUG\u001b[0m - \u001b[32mfindfont: score(<Font 'PT Serif Caption' (PTSerifCaption.ttc) normal normal 400 normal>) = 10.05\u001b[0m\n",
      "\u001b[32m2019-07-06 13:42:51:\u001b[0m \u001b[34mmatplotlib.font_manager\u001b[0m - _findfont_cached - \u001b[1;30mDEBUG\u001b[0m - \u001b[32mfindfont: score(<Font 'Serto Jerusalem Outline' (SyrCOMJerusalemOutline.otf) normal normal 400 normal>) = 10.05\u001b[0m\n",
      "\u001b[32m2019-07-06 13:42:51:\u001b[0m \u001b[34mmatplotlib.font_manager\u001b[0m - _findfont_cached - \u001b[1;30mDEBUG\u001b[0m - \u001b[32mfindfont: score(<Font 'Toppan Bunkyu Mincho' (ToppanBunkyuMinchoPr6N-Regular.otf) normal normal regular normal>) = 10.05\u001b[0m\n",
      "\u001b[32m2019-07-06 13:42:51:\u001b[0m \u001b[34mmatplotlib.font_manager\u001b[0m - _findfont_cached - \u001b[1;30mDEBUG\u001b[0m - \u001b[32mfindfont: score(<Font '.Helvetica Neue DeskInterface' (HelveticaNeueDeskInterface.ttc) normal normal regular normal>) = 10.05\u001b[0m\n",
      "\u001b[32m2019-07-06 13:42:51:\u001b[0m \u001b[34mmatplotlib.font_manager\u001b[0m - _findfont_cached - \u001b[1;30mDEBUG\u001b[0m - \u001b[32mfindfont: score(<Font 'Hiragino Sans' (ヒラギノ角ゴシック W8.ttc) normal normal 700 normal>) = 10.335\u001b[0m\n",
      "\u001b[32m2019-07-06 13:42:51:\u001b[0m \u001b[34mmatplotlib.font_manager\u001b[0m - _findfont_cached - \u001b[1;30mDEBUG\u001b[0m - \u001b[32mfindfont: score(<Font 'Tsukushi A Round Gothic' (TsukushiAMaruGothic.ttc) normal normal regular normal>) = 10.05\u001b[0m\n",
      "\u001b[32m2019-07-06 13:42:51:\u001b[0m \u001b[34mmatplotlib.font_manager\u001b[0m - _findfont_cached - \u001b[1;30mDEBUG\u001b[0m - \u001b[32mfindfont: score(<Font 'Libian SC' (Libian.ttc) normal normal regular normal>) = 10.05\u001b[0m\n",
      "\u001b[32m2019-07-06 13:42:51:\u001b[0m \u001b[34mmatplotlib.font_manager\u001b[0m - _findfont_cached - \u001b[1;30mDEBUG\u001b[0m - \u001b[32mfindfont: score(<Font 'Baghdad' (Baghdad.ttc) normal normal regular normal>) = 10.05\u001b[0m\n",
      "\u001b[32m2019-07-06 13:42:51:\u001b[0m \u001b[34mmatplotlib.font_manager\u001b[0m - _findfont_cached - \u001b[1;30mDEBUG\u001b[0m - \u001b[32mfindfont: score(<Font 'Klee' (Klee.ttc) normal normal demibold normal>) = 10.24\u001b[0m\n",
      "\u001b[32m2019-07-06 13:42:51:\u001b[0m \u001b[34mmatplotlib.font_manager\u001b[0m - _findfont_cached - \u001b[1;30mDEBUG\u001b[0m - \u001b[32mfindfont: score(<Font 'Khmer MN' (Khmer MN.ttc) normal normal 400 normal>) = 10.05\u001b[0m\n",
      "\u001b[32m2019-07-06 13:42:51:\u001b[0m \u001b[34mmatplotlib.font_manager\u001b[0m - _findfont_cached - \u001b[1;30mDEBUG\u001b[0m - \u001b[32mfindfont: score(<Font 'Bodoni Ornaments' (Bodoni Ornaments.ttf) normal normal 400 normal>) = 10.05\u001b[0m\n",
      "\u001b[32m2019-07-06 13:42:51:\u001b[0m \u001b[34mmatplotlib.font_manager\u001b[0m - _findfont_cached - \u001b[1;30mDEBUG\u001b[0m - \u001b[32mfindfont: score(<Font 'AppleMyungjo' (AppleMyungjo.ttf) normal normal regular normal>) = 10.05\u001b[0m\n",
      "\u001b[32m2019-07-06 13:42:51:\u001b[0m \u001b[34mmatplotlib.font_manager\u001b[0m - _findfont_cached - \u001b[1;30mDEBUG\u001b[0m - \u001b[32mfindfont: score(<Font 'Microsoft Sans Serif' (Microsoft Sans Serif.ttf) normal normal 400 normal>) = 10.05\u001b[0m\n",
      "\u001b[32m2019-07-06 13:42:51:\u001b[0m \u001b[34mmatplotlib.font_manager\u001b[0m - _findfont_cached - \u001b[1;30mDEBUG\u001b[0m - \u001b[32mfindfont: score(<Font 'Luxi Serif' (luxirri.ttf) oblique normal 400 normal>) = 11.05\u001b[0m\n",
      "\u001b[32m2019-07-06 13:42:51:\u001b[0m \u001b[34mmatplotlib.font_manager\u001b[0m - _findfont_cached - \u001b[1;30mDEBUG\u001b[0m - \u001b[32mfindfont: score(<Font '.Aqua Kana' (AquaKana.ttc) normal normal 400 normal>) = 10.05\u001b[0m\n",
      "\u001b[32m2019-07-06 13:42:51:\u001b[0m \u001b[34mmatplotlib.font_manager\u001b[0m - _findfont_cached - \u001b[1;30mDEBUG\u001b[0m - \u001b[32mfindfont: score(<Font 'Baoli SC' (Baoli.ttc) normal normal regular normal>) = 10.05\u001b[0m\n",
      "\u001b[32m2019-07-06 13:42:51:\u001b[0m \u001b[34mmatplotlib.font_manager\u001b[0m - _findfont_cached - \u001b[1;30mDEBUG\u001b[0m - \u001b[32mfindfont: score(<Font 'Goha-Tibeb Zemen' (GohaTibebZemen.ttf) normal normal 400 normal>) = 10.05\u001b[0m\n",
      "\u001b[32m2019-07-06 13:42:51:\u001b[0m \u001b[34mmatplotlib.font_manager\u001b[0m - _findfont_cached - \u001b[1;30mDEBUG\u001b[0m - \u001b[32mfindfont: score(<Font 'Rockwell' (Rockwell.ttc) normal normal 400 normal>) = 10.05\u001b[0m\n",
      "\u001b[32m2019-07-06 13:42:51:\u001b[0m \u001b[34mmatplotlib.font_manager\u001b[0m - _findfont_cached - \u001b[1;30mDEBUG\u001b[0m - \u001b[32mfindfont: score(<Font 'Snell Roundhand' (SnellRoundhand.ttc) normal normal 400 normal>) = 10.05\u001b[0m\n",
      "\u001b[32m2019-07-06 13:42:51:\u001b[0m \u001b[34mmatplotlib.font_manager\u001b[0m - _findfont_cached - \u001b[1;30mDEBUG\u001b[0m - \u001b[32mfindfont: score(<Font 'Sinhala MN' (Sinhala MN.ttc) normal normal 400 normal>) = 10.05\u001b[0m\n",
      "\u001b[32m2019-07-06 13:42:51:\u001b[0m \u001b[34mmatplotlib.font_manager\u001b[0m - _findfont_cached - \u001b[1;30mDEBUG\u001b[0m - \u001b[32mfindfont: score(<Font 'Estrangelo Edessa' (SyrCOMEdessa.otf) normal normal 400 normal>) = 10.05\u001b[0m\n",
      "\u001b[32m2019-07-06 13:42:51:\u001b[0m \u001b[34mmatplotlib.font_manager\u001b[0m - _findfont_cached - \u001b[1;30mDEBUG\u001b[0m - \u001b[32mfindfont: score(<Font 'Gill Sans' (GillSans.ttc) normal normal 400 normal>) = 10.05\u001b[0m\n",
      "\u001b[32m2019-07-06 13:42:51:\u001b[0m \u001b[34mmatplotlib.font_manager\u001b[0m - _findfont_cached - \u001b[1;30mDEBUG\u001b[0m - \u001b[32mfindfont: score(<Font 'Courier New' (Courier New.ttf) normal normal 400 normal>) = 10.05\u001b[0m\n",
      "\u001b[32m2019-07-06 13:42:51:\u001b[0m \u001b[34mmatplotlib.font_manager\u001b[0m - _findfont_cached - \u001b[1;30mDEBUG\u001b[0m - \u001b[32mfindfont: score(<Font 'Wawati TC' (WawaTC-Regular.otf) normal normal regular normal>) = 10.05\u001b[0m\n",
      "\u001b[32m2019-07-06 13:42:51:\u001b[0m \u001b[34mmatplotlib.font_manager\u001b[0m - _findfont_cached - \u001b[1;30mDEBUG\u001b[0m - \u001b[32mfindfont: score(<Font 'STIXGeneral' (STIXGeneralBolIta.otf) italic normal bold normal>) = 11.335\u001b[0m\n",
      "\u001b[32m2019-07-06 13:42:51:\u001b[0m \u001b[34mmatplotlib.font_manager\u001b[0m - _findfont_cached - \u001b[1;30mDEBUG\u001b[0m - \u001b[32mfindfont: score(<Font 'Apple LiGothic' (AppleLiGothic-Medium.ttf) normal normal medium normal>) = 10.145\u001b[0m\n"
     ]
    },
    {
     "name": "stdout",
     "output_type": "stream",
     "text": [
      "\u001b[32m2019-07-06 13:42:51:\u001b[0m \u001b[34mmatplotlib.font_manager\u001b[0m - _findfont_cached - \u001b[1;30mDEBUG\u001b[0m - \u001b[32mfindfont: score(<Font 'Yuanti SC' (Yuanti.ttc) normal normal regular normal>) = 10.05\u001b[0m\n",
      "\u001b[32m2019-07-06 13:42:51:\u001b[0m \u001b[34mmatplotlib.font_manager\u001b[0m - _findfont_cached - \u001b[1;30mDEBUG\u001b[0m - \u001b[32mfindfont: score(<Font 'Hiragino Sans GB' (Hiragino Sans GB.ttc) normal normal 400 normal>) = 10.05\u001b[0m\n",
      "\u001b[32m2019-07-06 13:42:51:\u001b[0m \u001b[34mmatplotlib.font_manager\u001b[0m - _findfont_cached - \u001b[1;30mDEBUG\u001b[0m - \u001b[32mfindfont: score(<Font 'Hiragino Sans' (ヒラギノ角ゴシック W0.ttc) normal normal 400 normal>) = 10.05\u001b[0m\n",
      "\u001b[32m2019-07-06 13:42:51:\u001b[0m \u001b[34mmatplotlib.font_manager\u001b[0m - _findfont_cached - \u001b[1;30mDEBUG\u001b[0m - \u001b[32mfindfont: score(<Font 'Trebuchet MS' (Trebuchet MS.ttf) normal normal 400 normal>) = 10.05\u001b[0m\n",
      "\u001b[32m2019-07-06 13:42:51:\u001b[0m \u001b[34mmatplotlib.font_manager\u001b[0m - _findfont_cached - \u001b[1;30mDEBUG\u001b[0m - \u001b[32mfindfont: score(<Font 'Bitstream Vera Sans' (VeraBd.ttf) normal normal bold normal>) = 6.335\u001b[0m\n",
      "\u001b[32m2019-07-06 13:42:51:\u001b[0m \u001b[34mmatplotlib.font_manager\u001b[0m - _findfont_cached - \u001b[1;30mDEBUG\u001b[0m - \u001b[32mfindfont: score(<Font '.SF NS Text Condensed' (SFNSTextCondensed-Medium.otf) normal normal medium condensed>) = 10.344999999999999\u001b[0m\n",
      "\u001b[32m2019-07-06 13:42:51:\u001b[0m \u001b[34mmatplotlib.font_manager\u001b[0m - _findfont_cached - \u001b[1;30mDEBUG\u001b[0m - \u001b[32mfindfont: score(<Font '.SF Compact Rounded' (SFCompactRounded-Thin.otf) normal normal 400 normal>) = 10.05\u001b[0m\n",
      "\u001b[32m2019-07-06 13:42:51:\u001b[0m \u001b[34mmatplotlib.font_manager\u001b[0m - _findfont_cached - \u001b[1;30mDEBUG\u001b[0m - \u001b[32mfindfont: score(<Font 'Montserrat SemiBold' (Montserrat-SemiBold.ttf) normal normal semibold normal>) = 10.24\u001b[0m\n",
      "\u001b[32m2019-07-06 13:42:51:\u001b[0m \u001b[34mmatplotlib.font_manager\u001b[0m - _findfont_cached - \u001b[1;30mDEBUG\u001b[0m - \u001b[32mfindfont: score(<Font 'Hiragino Sans' (ヒラギノ角ゴシック W1.ttc) normal normal 400 normal>) = 10.05\u001b[0m\n",
      "\u001b[32m2019-07-06 13:42:51:\u001b[0m \u001b[34mmatplotlib.font_manager\u001b[0m - _findfont_cached - \u001b[1;30mDEBUG\u001b[0m - \u001b[32mfindfont: score(<Font 'Tamil MN' (Tamil MN.ttc) normal normal 400 normal>) = 10.05\u001b[0m\n",
      "\u001b[32m2019-07-06 13:42:51:\u001b[0m \u001b[34mmatplotlib.font_manager\u001b[0m - _findfont_cached - \u001b[1;30mDEBUG\u001b[0m - \u001b[32mfindfont: score(<Font '.SF NS Text Condensed' (SFNSTextCondensed-Regular.otf) normal normal regular condensed>) = 10.25\u001b[0m\n",
      "\u001b[32m2019-07-06 13:42:51:\u001b[0m \u001b[34mmatplotlib.font_manager\u001b[0m - _findfont_cached - \u001b[1;30mDEBUG\u001b[0m - \u001b[32mfindfont: score(<Font 'Raanana' (Raanana.ttc) normal normal 400 normal>) = 10.05\u001b[0m\n",
      "\u001b[32m2019-07-06 13:42:51:\u001b[0m \u001b[34mmatplotlib.font_manager\u001b[0m - _findfont_cached - \u001b[1;30mDEBUG\u001b[0m - \u001b[32mfindfont: score(<Font 'Zapfino' (Zapfino.ttf) normal normal 400 normal>) = 10.05\u001b[0m\n",
      "\u001b[32m2019-07-06 13:42:51:\u001b[0m \u001b[34mmatplotlib.font_manager\u001b[0m - _findfont_cached - \u001b[1;30mDEBUG\u001b[0m - \u001b[32mfindfont: score(<Font 'Heiti TC' (STHeiti Medium.ttc) normal normal medium normal>) = 10.145\u001b[0m\n",
      "\u001b[32m2019-07-06 13:42:51:\u001b[0m \u001b[34mmatplotlib.font_manager\u001b[0m - _findfont_cached - \u001b[1;30mDEBUG\u001b[0m - \u001b[32mfindfont: score(<Font 'Palatino' (Palatino.ttc) normal normal 400 normal>) = 10.05\u001b[0m\n",
      "\u001b[32m2019-07-06 13:42:51:\u001b[0m \u001b[34mmatplotlib.font_manager\u001b[0m - _findfont_cached - \u001b[1;30mDEBUG\u001b[0m - \u001b[32mfindfont: score(<Font 'Wingdings' (Wingdings.ttf) normal normal 400 normal>) = 10.05\u001b[0m\n",
      "\u001b[32m2019-07-06 13:42:51:\u001b[0m \u001b[34mmatplotlib.font_manager\u001b[0m - _findfont_cached - \u001b[1;30mDEBUG\u001b[0m - \u001b[32mfindfont: score(<Font 'Luxi Sans' (luxisb.ttf) normal normal bold normal>) = 10.335\u001b[0m\n",
      "\u001b[32m2019-07-06 13:42:51:\u001b[0m \u001b[34mmatplotlib.font_manager\u001b[0m - _findfont_cached - \u001b[1;30mDEBUG\u001b[0m - \u001b[32mfindfont: score(<Font 'Lucida Grande' (LucidaGrande.ttc) normal normal 400 normal>) = 10.05\u001b[0m\n",
      "\u001b[32m2019-07-06 13:42:51:\u001b[0m \u001b[34mmatplotlib.font_manager\u001b[0m - _findfont_cached - \u001b[1;30mDEBUG\u001b[0m - \u001b[32mfindfont: score(<Font '.SF NS Display Condensed' (SFNSDisplayCondensed-Ultralight.otf) normal normal ultralight condensed>) = 10.535\u001b[0m\n",
      "\u001b[32m2019-07-06 13:42:51:\u001b[0m \u001b[34mmatplotlib.font_manager\u001b[0m - _findfont_cached - \u001b[1;30mDEBUG\u001b[0m - \u001b[32mfindfont: score(<Font 'Gurmukhi Sangam MN' (Gurmukhi Sangam MN.ttc) normal normal 400 normal>) = 10.05\u001b[0m\n",
      "\u001b[32m2019-07-06 13:42:51:\u001b[0m \u001b[34mmatplotlib.font_manager\u001b[0m - _findfont_cached - \u001b[1;30mDEBUG\u001b[0m - \u001b[32mfindfont: score(<Font 'Roboto' (Roboto-Italic.ttf) italic normal 400 normal>) = 11.05\u001b[0m\n",
      "\u001b[32m2019-07-06 13:42:51:\u001b[0m \u001b[34mmatplotlib.font_manager\u001b[0m - _findfont_cached - \u001b[1;30mDEBUG\u001b[0m - \u001b[32mfindfont: score(<Font 'System Font' (SFNSDisplay-ThinG4.otf) normal normal 400 normal>) = 10.05\u001b[0m\n",
      "\u001b[32m2019-07-06 13:42:51:\u001b[0m \u001b[34mmatplotlib.font_manager\u001b[0m - _findfont_cached - \u001b[1;30mDEBUG\u001b[0m - \u001b[32mfindfont: score(<Font 'Diwan Thuluth' (Diwan Thuluth.ttf) normal normal regular normal>) = 10.05\u001b[0m\n",
      "\u001b[32m2019-07-06 13:42:51:\u001b[0m \u001b[34mmatplotlib.font_manager\u001b[0m - _findfont_cached - \u001b[1;30mDEBUG\u001b[0m - \u001b[32mfindfont: score(<Font 'Arial Narrow' (Arial Narrow Italic.ttf) italic normal 400 condensed>) = 11.25\u001b[0m\n",
      "\u001b[32m2019-07-06 13:42:51:\u001b[0m \u001b[34mmatplotlib.font_manager\u001b[0m - _findfont_cached - \u001b[1;30mDEBUG\u001b[0m - \u001b[32mfindfont: score(<Font 'American Typewriter' (AmericanTypewriter.ttc) normal normal 400 normal>) = 10.05\u001b[0m\n",
      "\u001b[32m2019-07-06 13:42:51:\u001b[0m \u001b[34mmatplotlib.font_manager\u001b[0m - _findfont_cached - \u001b[1;30mDEBUG\u001b[0m - \u001b[32mfindfont: score(<Font 'Arial' (Arial Bold Italic.ttf) italic normal bold normal>) = 1.335\u001b[0m\n",
      "\u001b[32m2019-07-06 13:42:51:\u001b[0m \u001b[34mmatplotlib.font_manager\u001b[0m - _findfont_cached - \u001b[1;30mDEBUG\u001b[0m - \u001b[32mfindfont: score(<Font 'Hiragino Sans' (ヒラギノ角ゴシック W9.ttc) normal normal 700 normal>) = 10.335\u001b[0m\n",
      "\u001b[32m2019-07-06 13:42:51:\u001b[0m \u001b[34mmatplotlib.font_manager\u001b[0m - _findfont_cached - \u001b[1;30mDEBUG\u001b[0m - \u001b[32mfindfont: score(<Font 'New Peninim MT' (NewPeninimMT.ttc) normal normal 400 normal>) = 10.05\u001b[0m\n",
      "\u001b[32m2019-07-06 13:42:51:\u001b[0m \u001b[34mmatplotlib.font_manager\u001b[0m - _findfont_cached - \u001b[1;30mDEBUG\u001b[0m - \u001b[32mfindfont: score(<Font 'Kaiti SC' (Kaiti.ttc) normal normal regular normal>) = 10.05\u001b[0m\n",
      "\u001b[32m2019-07-06 13:42:51:\u001b[0m \u001b[34mmatplotlib.font_manager\u001b[0m - _findfont_cached - \u001b[1;30mDEBUG\u001b[0m - \u001b[32mfindfont: score(<Font 'Hoefler Text' (Hoefler Text.ttc) normal normal 400 normal>) = 10.05\u001b[0m\n",
      "\u001b[32m2019-07-06 13:42:51:\u001b[0m \u001b[34mmatplotlib.font_manager\u001b[0m - _findfont_cached - \u001b[1;30mDEBUG\u001b[0m - \u001b[32mfindfont: score(<Font 'Apple Symbols' (Apple Symbols.ttf) normal normal 400 normal>) = 10.05\u001b[0m\n",
      "\u001b[32m2019-07-06 13:42:51:\u001b[0m \u001b[34mmatplotlib.font_manager\u001b[0m - _findfont_cached - \u001b[1;30mDEBUG\u001b[0m - \u001b[32mfindfont: score(<Font '.SF NS Symbols' (SFNSSymbols-Thin.otf) normal normal 400 normal>) = 10.05\u001b[0m\n",
      "\u001b[32m2019-07-06 13:42:51:\u001b[0m \u001b[34mmatplotlib.font_manager\u001b[0m - _findfont_cached - \u001b[1;30mDEBUG\u001b[0m - \u001b[32mfindfont: score(<Font 'Copperplate' (Copperplate.ttc) normal normal 400 normal>) = 10.05\u001b[0m\n",
      "\u001b[32m2019-07-06 13:42:51:\u001b[0m \u001b[34mmatplotlib.font_manager\u001b[0m - _findfont_cached - \u001b[1;30mDEBUG\u001b[0m - \u001b[32mfindfont: score(<Font '.SF Compact Display' (SFCompactDisplay-Bold.otf) normal normal bold normal>) = 10.335\u001b[0m\n",
      "\u001b[32m2019-07-06 13:42:51:\u001b[0m \u001b[34mmatplotlib.font_manager\u001b[0m - _findfont_cached - \u001b[1;30mDEBUG\u001b[0m - \u001b[32mfindfont: score(<Font 'Seravek' (Seravek.ttc) normal normal 400 normal>) = 10.05\u001b[0m\n",
      "\u001b[32m2019-07-06 13:42:51:\u001b[0m \u001b[34mmatplotlib.font_manager\u001b[0m - _findfont_cached - \u001b[1;30mDEBUG\u001b[0m - \u001b[32mfindfont: score(<Font 'Kokonor' (Kokonor.ttf) normal normal regular normal>) = 10.05\u001b[0m\n",
      "\u001b[32m2019-07-06 13:42:51:\u001b[0m \u001b[34mmatplotlib.font_manager\u001b[0m - _findfont_cached - \u001b[1;30mDEBUG\u001b[0m - \u001b[32mfindfont: score(<Font 'Trattatello' (Trattatello.ttf) normal normal 400 normal>) = 10.05\u001b[0m\n",
      "\u001b[32m2019-07-06 13:42:51:\u001b[0m \u001b[34mmatplotlib.font_manager\u001b[0m - _findfont_cached - \u001b[1;30mDEBUG\u001b[0m - \u001b[32mfindfont: score(<Font 'STIXSizeOneSym' (STIXSizOneSymReg.otf) normal normal regular normal>) = 10.05\u001b[0m\n",
      "\u001b[32m2019-07-06 13:42:51:\u001b[0m \u001b[34mmatplotlib.font_manager\u001b[0m - _findfont_cached - \u001b[1;30mDEBUG\u001b[0m - \u001b[32mfindfont: score(<Font 'Georgia' (Georgia Bold.ttf) normal normal bold normal>) = 10.335\u001b[0m\n",
      "\u001b[32m2019-07-06 13:42:51:\u001b[0m \u001b[34mmatplotlib.font_manager\u001b[0m - _findfont_cached - \u001b[1;30mDEBUG\u001b[0m - \u001b[32mfindfont: score(<Font '.SF NS Text Condensed' (SFNSTextCondensed-Heavy.otf) normal normal heavy condensed>) = 10.629999999999999\u001b[0m\n"
     ]
    },
    {
     "name": "stdout",
     "output_type": "stream",
     "text": [
      "\u001b[32m2019-07-06 13:42:51:\u001b[0m \u001b[34mmatplotlib.font_manager\u001b[0m - _findfont_cached - \u001b[1;30mDEBUG\u001b[0m - \u001b[32mfindfont: score(<Font 'Montserrat' (Montserrat-Italic.ttf) italic normal 400 normal>) = 11.05\u001b[0m\n",
      "\u001b[32m2019-07-06 13:42:51:\u001b[0m \u001b[34mmatplotlib.font_manager\u001b[0m - _findfont_cached - \u001b[1;30mDEBUG\u001b[0m - \u001b[32mfindfont: score(<Font 'Luxi Serif' (luxirbi.ttf) oblique normal bold normal>) = 11.335\u001b[0m\n",
      "\u001b[32m2019-07-06 13:42:51:\u001b[0m \u001b[34mmatplotlib.font_manager\u001b[0m - _findfont_cached - \u001b[1;30mDEBUG\u001b[0m - \u001b[32mfindfont: score(<Font 'Nadeem' (Nadeem.ttc) normal normal regular normal>) = 10.05\u001b[0m\n",
      "\u001b[32m2019-07-06 13:42:51:\u001b[0m \u001b[34mmatplotlib.font_manager\u001b[0m - _findfont_cached - \u001b[1;30mDEBUG\u001b[0m - \u001b[32mfindfont: score(<Font 'Weibei TC' (WeibeiTC-Bold.otf) normal normal bold normal>) = 10.335\u001b[0m\n",
      "\u001b[32m2019-07-06 13:42:51:\u001b[0m \u001b[34mmatplotlib.font_manager\u001b[0m - _findfont_cached - \u001b[1;30mDEBUG\u001b[0m - \u001b[32mfindfont: score(<Font 'Montserrat' (Montserrat-BoldItalic.ttf) italic normal bold normal>) = 11.335\u001b[0m\n",
      "\u001b[32m2019-07-06 13:42:51:\u001b[0m \u001b[34mmatplotlib.font_manager\u001b[0m - _findfont_cached - \u001b[1;30mDEBUG\u001b[0m - \u001b[32mfindfont: score(<Font 'Marker Felt' (MarkerFelt.ttc) normal normal 400 normal>) = 10.05\u001b[0m\n",
      "\u001b[32m2019-07-06 13:42:51:\u001b[0m \u001b[34mmatplotlib.font_manager\u001b[0m - _findfont_cached - \u001b[1;30mDEBUG\u001b[0m - \u001b[32mfindfont: score(<Font 'Helvetica Neue' (HelveticaNeue.ttc) normal normal 400 normal>) = 10.05\u001b[0m\n",
      "\u001b[32m2019-07-06 13:42:51:\u001b[0m \u001b[34mmatplotlib.font_manager\u001b[0m - _findfont_cached - \u001b[1;30mDEBUG\u001b[0m - \u001b[32mfindfont: score(<Font 'PT Mono' (PTMono.ttc) normal normal bold normal>) = 10.335\u001b[0m\n",
      "\u001b[32m2019-07-06 13:42:51:\u001b[0m \u001b[34mmatplotlib.font_manager\u001b[0m - _findfont_cached - \u001b[1;30mDEBUG\u001b[0m - \u001b[32mfindfont: score(<Font 'Verdana' (Verdana Bold.ttf) normal normal bold normal>) = 10.335\u001b[0m\n",
      "\u001b[32m2019-07-06 13:42:51:\u001b[0m \u001b[34mmatplotlib.font_manager\u001b[0m - _findfont_cached - \u001b[1;30mDEBUG\u001b[0m - \u001b[32mfindfont: score(<Font 'PT Sans' (PTSans.ttc) normal normal 400 normal>) = 10.05\u001b[0m\n",
      "\u001b[32m2019-07-06 13:42:51:\u001b[0m \u001b[34mmatplotlib.font_manager\u001b[0m - _findfont_cached - \u001b[1;30mDEBUG\u001b[0m - \u001b[32mfindfont: score(<Font 'Kohinoor Bangla' (KohinoorBangla.ttc) normal normal 400 normal>) = 10.05\u001b[0m\n",
      "\u001b[32m2019-07-06 13:42:51:\u001b[0m \u001b[34mmatplotlib.font_manager\u001b[0m - _findfont_cached - \u001b[1;30mDEBUG\u001b[0m - \u001b[32mfindfont: score(<Font 'Wingdings 2' (Wingdings 2.ttf) normal normal 400 normal>) = 10.05\u001b[0m\n",
      "\u001b[32m2019-07-06 13:42:51:\u001b[0m \u001b[34mmatplotlib.font_manager\u001b[0m - _findfont_cached - \u001b[1;30mDEBUG\u001b[0m - \u001b[32mfindfont: score(<Font 'Montserrat Black' (Montserrat-BlackItalic.ttf) italic normal black normal>) = 11.525\u001b[0m\n",
      "\u001b[32m2019-07-06 13:42:51:\u001b[0m \u001b[34mmatplotlib.font_manager\u001b[0m - _findfont_cached - \u001b[1;30mDEBUG\u001b[0m - \u001b[32mfindfont: score(<Font 'Telugu MN' (Telugu MN.ttc) normal normal 400 normal>) = 10.05\u001b[0m\n",
      "\u001b[32m2019-07-06 13:42:51:\u001b[0m \u001b[34mmatplotlib.font_manager\u001b[0m - _findfont_cached - \u001b[1;30mDEBUG\u001b[0m - \u001b[32mfindfont: score(<Font 'Yuppy TC' (YuppyTC-Regular.otf) normal normal regular normal>) = 10.05\u001b[0m\n",
      "\u001b[32m2019-07-06 13:42:51:\u001b[0m \u001b[34mmatplotlib.font_manager\u001b[0m - _findfont_cached - \u001b[1;30mDEBUG\u001b[0m - \u001b[32mfindfont: score(<Font 'Estrangelo Midyat' (SyrCOMMidyat.otf) normal normal 400 normal>) = 10.05\u001b[0m\n",
      "\u001b[32m2019-07-06 13:42:51:\u001b[0m \u001b[34mmatplotlib.font_manager\u001b[0m - _findfont_cached - \u001b[1;30mDEBUG\u001b[0m - \u001b[32mfindfont: score(<Font 'Xingkai SC' (Xingkai.ttc) normal normal bold normal>) = 10.335\u001b[0m\n",
      "\u001b[32m2019-07-06 13:42:51:\u001b[0m \u001b[34mmatplotlib.font_manager\u001b[0m - _findfont_cached - \u001b[1;30mDEBUG\u001b[0m - \u001b[32mfindfont: score(<Font 'Hiragino Sans' (ヒラギノ角ゴシック W4.ttc) normal normal 400 normal>) = 10.05\u001b[0m\n",
      "\u001b[32m2019-07-06 13:42:51:\u001b[0m \u001b[34mmatplotlib.font_manager\u001b[0m - _findfont_cached - \u001b[1;30mDEBUG\u001b[0m - \u001b[32mfindfont: score(<Font 'Kannada MN' (Kannada MN.ttc) normal normal 400 normal>) = 10.05\u001b[0m\n",
      "\u001b[32m2019-07-06 13:42:51:\u001b[0m \u001b[34mmatplotlib.font_manager\u001b[0m - _findfont_cached - \u001b[1;30mDEBUG\u001b[0m - \u001b[32mfindfont: score(<Font 'Mshtakan' (Mshtakan.ttc) normal normal 400 normal>) = 10.05\u001b[0m\n",
      "\u001b[32m2019-07-06 13:42:51:\u001b[0m \u001b[34mmatplotlib.font_manager\u001b[0m - _findfont_cached - \u001b[1;30mDEBUG\u001b[0m - \u001b[32mfindfont: score(<Font 'Apple Braille' (Apple Braille Pinpoint 6 Dot.ttf) normal normal 400 normal>) = 10.05\u001b[0m\n",
      "\u001b[32m2019-07-06 13:42:51:\u001b[0m \u001b[34mmatplotlib.font_manager\u001b[0m - _findfont_cached - \u001b[1;30mDEBUG\u001b[0m - \u001b[32mfindfont: score(<Font 'InaiMathi' (InaiMathi-MN.ttc) normal normal 400 normal>) = 10.05\u001b[0m\n",
      "\u001b[32m2019-07-06 13:42:51:\u001b[0m \u001b[34mmatplotlib.font_manager\u001b[0m - _findfont_cached - \u001b[1;30mDEBUG\u001b[0m - \u001b[32mfindfont: score(<Font 'STIXIntegralsD' (STIXIntDReg.otf) normal normal regular normal>) = 10.05\u001b[0m\n",
      "\u001b[32m2019-07-06 13:42:51:\u001b[0m \u001b[34mmatplotlib.font_manager\u001b[0m - _findfont_cached - \u001b[1;30mDEBUG\u001b[0m - \u001b[32mfindfont: score(<Font 'System Font' (SFNSDisplay-BoldItalic.otf) italic normal bold normal>) = 11.335\u001b[0m\n",
      "\u001b[32m2019-07-06 13:42:51:\u001b[0m \u001b[34mmatplotlib.font_manager\u001b[0m - _findfont_cached - \u001b[1;30mDEBUG\u001b[0m - \u001b[32mfindfont: score(<Font 'Montserrat Light' (Montserrat-Light.ttf) normal normal light normal>) = 10.24\u001b[0m\n",
      "\u001b[32m2019-07-06 13:42:51:\u001b[0m \u001b[34mmatplotlib.font_manager\u001b[0m - _findfont_cached - \u001b[1;30mDEBUG\u001b[0m - \u001b[32mfindfont: score(<Font 'STIXIntegralsUpD' (STIXIntUpDReg.otf) normal normal regular normal>) = 10.05\u001b[0m\n",
      "\u001b[32m2019-07-06 13:42:51:\u001b[0m \u001b[34mmatplotlib.font_manager\u001b[0m - _findfont_cached - \u001b[1;30mDEBUG\u001b[0m - \u001b[32mfindfont: score(<Font 'Oriya Sangam MN' (Oriya Sangam MN.ttc) normal normal 400 normal>) = 10.05\u001b[0m\n",
      "\u001b[32m2019-07-06 13:42:51:\u001b[0m \u001b[34mmatplotlib.font_manager\u001b[0m - _findfont_cached - \u001b[1;30mDEBUG\u001b[0m - \u001b[32mfindfont: score(<Font 'Luxi Sans' (luxisri.ttf) oblique normal 400 normal>) = 11.05\u001b[0m\n",
      "\u001b[32m2019-07-06 13:42:51:\u001b[0m \u001b[34mmatplotlib.font_manager\u001b[0m - _findfont_cached - \u001b[1;30mDEBUG\u001b[0m - \u001b[32mfindfont: score(<Font 'East Syriac Ctesiphon' (SyrCOMCtesiphon.otf) normal normal 400 normal>) = 10.05\u001b[0m\n",
      "\u001b[32m2019-07-06 13:42:51:\u001b[0m \u001b[34mmatplotlib.font_manager\u001b[0m - _findfont_cached - \u001b[1;30mDEBUG\u001b[0m - \u001b[32mfindfont: score(<Font 'Yuppy SC' (YuppySC-Regular.otf) normal normal regular normal>) = 10.05\u001b[0m\n",
      "\u001b[32m2019-07-06 13:42:51:\u001b[0m \u001b[34mmatplotlib.font_manager\u001b[0m - _findfont_cached - \u001b[1;30mDEBUG\u001b[0m - \u001b[32mfindfont: score(<Font 'Serto Batnan' (SyrCOMBatnanBold.otf) normal normal bold normal>) = 10.335\u001b[0m\n",
      "\u001b[32m2019-07-06 13:42:51:\u001b[0m \u001b[34mmatplotlib.font_manager\u001b[0m - _findfont_cached - \u001b[1;30mDEBUG\u001b[0m - \u001b[32mfindfont: score(<Font 'Verdana' (Verdana Bold Italic.ttf) italic normal bold normal>) = 11.335\u001b[0m\n",
      "\u001b[32m2019-07-06 13:42:51:\u001b[0m \u001b[34mmatplotlib.font_manager\u001b[0m - _findfont_cached - \u001b[1;30mDEBUG\u001b[0m - \u001b[32mfindfont: score(<Font 'Georgia' (Georgia Bold Italic.ttf) italic normal bold normal>) = 11.335\u001b[0m\n",
      "\u001b[32m2019-07-06 13:42:51:\u001b[0m \u001b[34mmatplotlib.font_manager\u001b[0m - _findfont_cached - \u001b[1;30mDEBUG\u001b[0m - \u001b[32mfindfont: score(<Font 'Serto Mardin' (SyrCOMMardinBold.otf) normal normal bold normal>) = 10.335\u001b[0m\n",
      "\u001b[32m2019-07-06 13:42:51:\u001b[0m \u001b[34mmatplotlib.font_manager\u001b[0m - _findfont_cached - \u001b[1;30mDEBUG\u001b[0m - \u001b[32mfindfont: score(<Font 'Zapf Dingbats' (ZapfDingbats.ttf) normal normal 400 normal>) = 10.05\u001b[0m\n",
      "\u001b[32m2019-07-06 13:42:51:\u001b[0m \u001b[34mmatplotlib.font_manager\u001b[0m - _findfont_cached - \u001b[1;30mDEBUG\u001b[0m - \u001b[32mfindfont: score(<Font 'GungSeo' (Gungseouche.ttf) normal normal regular normal>) = 10.05\u001b[0m\n",
      "\u001b[32m2019-07-06 13:42:51:\u001b[0m \u001b[34mmatplotlib.font_manager\u001b[0m - _findfont_cached - \u001b[1;30mDEBUG\u001b[0m - \u001b[32mfindfont: score(<Font 'Estrangelo Nisibin Outline' (SyrCOMNisibinOutline.otf) normal normal 400 normal>) = 10.05\u001b[0m\n",
      "\u001b[32m2019-07-06 13:42:51:\u001b[0m \u001b[34mmatplotlib.font_manager\u001b[0m - _findfont_cached - \u001b[1;30mDEBUG\u001b[0m - \u001b[32mfindfont: score(<Font 'PilGi' (Pilgiche.ttf) normal normal regular normal>) = 10.05\u001b[0m\n",
      "\u001b[32m2019-07-06 13:42:51:\u001b[0m \u001b[34mmatplotlib.font_manager\u001b[0m - _findfont_cached - \u001b[1;30mDEBUG\u001b[0m - \u001b[32mfindfont: score(<Font 'Roboto' (Roboto-Bold.ttf) normal normal bold normal>) = 10.335\u001b[0m\n",
      "\u001b[32m2019-07-06 13:42:51:\u001b[0m \u001b[34mmatplotlib.font_manager\u001b[0m - _findfont_cached - \u001b[1;30mDEBUG\u001b[0m - \u001b[32mfindfont: score(<Font 'Beirut' (Beirut.ttc) normal normal regular normal>) = 10.05\u001b[0m\n",
      "\u001b[32m2019-07-06 13:42:51:\u001b[0m \u001b[34mmatplotlib.font_manager\u001b[0m - _findfont_cached - \u001b[1;30mDEBUG\u001b[0m - \u001b[32mfindfont: score(<Font 'Lao MN' (Lao MN.ttc) normal normal 400 normal>) = 10.05\u001b[0m\n"
     ]
    },
    {
     "name": "stdout",
     "output_type": "stream",
     "text": [
      "\u001b[32m2019-07-06 13:42:51:\u001b[0m \u001b[34mmatplotlib.font_manager\u001b[0m - _findfont_cached - \u001b[1;30mDEBUG\u001b[0m - \u001b[32mfindfont: score(<Font 'KufiStandardGK' (KufiStandardGK.ttc) normal normal regular normal>) = 10.05\u001b[0m\n",
      "\u001b[32m2019-07-06 13:42:51:\u001b[0m \u001b[34mmatplotlib.font_manager\u001b[0m - _findfont_cached - \u001b[1;30mDEBUG\u001b[0m - \u001b[32mfindfont: score(<Font '.SF Compact Display' (SFCompactDisplay-Thin.otf) normal normal 400 normal>) = 10.05\u001b[0m\n",
      "\u001b[32m2019-07-06 13:42:51:\u001b[0m \u001b[34mmatplotlib.font_manager\u001b[0m - _findfont_cached - \u001b[1;30mDEBUG\u001b[0m - \u001b[32mfindfont: score(<Font 'Serto Jerusalem' (SyrCOMJerusalem.otf) normal normal 400 normal>) = 10.05\u001b[0m\n",
      "\u001b[32m2019-07-06 13:42:51:\u001b[0m \u001b[34mmatplotlib.font_manager\u001b[0m - _findfont_cached - \u001b[1;30mDEBUG\u001b[0m - \u001b[32mfindfont: score(<Font 'Roboto Medium' (Roboto-MediumItalic.ttf) italic normal medium normal>) = 11.145\u001b[0m\n",
      "\u001b[32m2019-07-06 13:42:51:\u001b[0m \u001b[34mmatplotlib.font_manager\u001b[0m - _findfont_cached - \u001b[1;30mDEBUG\u001b[0m - \u001b[32mfindfont: score(<Font 'Toppan Bunkyu Gothic' (ToppanBunkyuGothicPr6N.ttc) normal normal demibold normal>) = 10.24\u001b[0m\n",
      "\u001b[32m2019-07-06 13:42:51:\u001b[0m \u001b[34mmatplotlib.font_manager\u001b[0m - _findfont_cached - \u001b[1;30mDEBUG\u001b[0m - \u001b[32mfindfont: score(<Font 'DIN Condensed' (DIN Condensed Bold.ttf) normal normal bold condensed>) = 10.535\u001b[0m\n",
      "\u001b[32m2019-07-06 13:42:51:\u001b[0m \u001b[34mmatplotlib.font_manager\u001b[0m - _findfont_cached - \u001b[1;30mDEBUG\u001b[0m - \u001b[32mfindfont: score(<Font 'YuMincho' (YuMincho.ttc) normal normal medium normal>) = 10.145\u001b[0m\n",
      "\u001b[32m2019-07-06 13:42:51:\u001b[0m \u001b[34mmatplotlib.font_manager\u001b[0m - _findfont_cached - \u001b[1;30mDEBUG\u001b[0m - \u001b[32mfindfont: Matching :family=sans-serif:style=normal:variant=normal:weight=normal:stretch=normal:size=12.0 to Arial ('/Library/Fonts/Arial.ttf') with score of 0.050000.\u001b[0m\n"
     ]
    },
    {
     "data": {
      "image/png": "[encoded data removed]",
      "text/plain": [
       "<Figure size 432x288 with 1 Axes>"
      ]
     },
     "execution_count": 36,
     "metadata": {},
     "output_type": "execute_result"
    },
    {
     "data": {
      "image/png": "[encoded data removed]",
      "text/plain": [
       "<Figure size 432x288 with 1 Axes>"
      ]
     },
     "metadata": {},
     "output_type": "display_data"
    }
   ],
   "source": [
    "make_performance_uncertainty_plot(y_test.values.astype(int), preds, uncertainty_entropy, 'AUC', performance_fn=roc_auc_score)"
   ]
  },
  {
   "cell_type": "code",
   "execution_count": 20,
   "metadata": {},
   "outputs": [],
   "source": [
    "\n",
    "from typing import List, Tuple\n",
    "\n",
    "import matplotlib.pyplot as plt\n",
    "import numpy as np\n",
    "import pandas as pd\n",
    "import seaborn as sns\n",
    "from matplotlib.figure import Figure\n",
    "from matplotlib.lines import Line2D\n",
    "from sklearn.metrics import roc_curve, auc\n",
    "from sklearn.model_selection import learning_curve\n",
    "\n",
    "from pacmagic.general_utils.constants import *\n",
    "from pacmagic.modeling.survival_models.kaplan_meier import get_and_fit_kaplan_meier\n",
    "from pacmagic.visualizing.visualization_settings import *\n",
    "from pacmagic.visualizing.visualization_utils import set_default_style\n",
    "\n",
    "# Calibration curve\n",
    "COLOR_TRAIN_ROC = 'b'\n",
    "STD_AUC_FIELD = 'std_auc'\n",
    "MEAN_FPR_FIELD = 'mean_fpr'\n",
    "MEAN_TPR_FIELD = 'mean_tpr'\n",
    "COLOR_TEST_ROC = 'orange'\n",
    "LINE_WIDTH = 2\n",
    "COLOR_PREDICTIONS = 'green'\n",
    "PREDICTED_DIST_BINS = 40\n",
    "\n",
    "LABEL_PERFECTLY_CALIBRATED = 'Perfectly calibrated'\n",
    "LABEL_PREDICTIONS = 'Predictions'\n",
    "LABEL_CI = 'Confidence Interval'\n",
    "\n",
    "Y_PROB_COL = 'y_prob'\n",
    "Y_TRUE_COL = 'y_true'\n",
    "Y_CI_UPPER_COL = 'y_ci_upper'\n",
    "Y_CI_LOWER_COL = 'y_ci_lower'\n",
    "GROUP_COL = 'group'\n",
    "\n",
    "set_default_style()\n",
    "\n",
    "LEGEND_LOCATION_BEST = 'best'\n",
    "HAZARD_PLOT_X_LABEL = 'time $t$'\n",
    "HAZARD_PLOT_Y_LABEL = 'Est. probability of survival at t'\n",
    "STEP_PLACEMENT = 'post'\n",
    "\n",
    "ACTUAL_END_SCATTER_SIZE = 80\n",
    "ORDER_IN_FRONT = 1\n",
    "\n",
    "MARKER_CENSORING = 'o'\n",
    "MARKER_EVENT = 'D'\n",
    "SURVIVAL_MARKERSIZE = 10\n",
    "SURVIVAL_MARKERFACECOLOR = 'grey'\n",
    "SURVIVAL_LEGEND_COLOR = 'w'\n",
    "\n",
    "def plot_calibration_curve(y_true, y_prob,\n",
    "                           y_min: float = 0,\n",
    "                           y_max: float = 1,\n",
    "                           n_bins: int = 5,\n",
    "                           n_std: int = 4,\n",
    "                           y_std=None,\n",
    "                           n: int = None,\n",
    "                           z: float = 1.645,\n",
    "                           ) -> Figure:\n",
    "    \"\"\"Plot the calibration curve. This curve shows if predicted probabilities and observed\n",
    "    frequencies are inline. For example, if well calibrated 100 observations with y_pred = 0.1\n",
    "    should contain 10 observation with y_true = 1\n",
    "\n",
    "    Parameters\n",
    "    ----------\n",
    "    y_true : array-like\n",
    "        Target value of y.\n",
    "    y_prob : array-like\n",
    "        Predicted probability values of y.\n",
    "    y_min : float, optional\n",
    "        Minimum value of the value axis.\n",
    "    y_max : float, optional\n",
    "        Maximum value of the value axis, y_pred > y_max will be maximized to y_max.\n",
    "    n_bins : int, optional\n",
    "        Number of bins of the histograms.\n",
    "    n_std : int, optional\n",
    "        Number of standard deviations to include.\n",
    "    y_std: array-like, optional\n",
    "        If you have a Bayesian standard deviation around your predictions\n",
    "    n: int, optional\n",
    "        Number of samples taken (in Bayesian Case)\n",
    "    z: float, optional\n",
    "        Z value for confidence interval.\n",
    "\n",
    "    Returns\n",
    "    -------\n",
    "    type: matplotlib.figure.Figure\n",
    "        A plot\n",
    "\n",
    "    \"\"\"\n",
    "\n",
    "    # Make dataframe with y_true and y_pred\n",
    "    df_plot = pd.DataFrame(y_prob)\n",
    "    df_plot.columns = [Y_PROB_COL]\n",
    "    df_plot[Y_TRUE_COL] = y_true\n",
    "    if y_std is not None:\n",
    "        df_plot[Y_CI_UPPER_COL] = y_prob + z * (y_std / n ** 0.5)\n",
    "        df_plot[Y_CI_LOWER_COL] = y_prob - z * (y_std / n ** 0.5)\n",
    "\n",
    "    # Initialize plot\n",
    "#     # Make histogram of predicted probabilities\n",
    "#     x = df_plot[Y_PROB_COL].values\n",
    "#     x = np.maximum(np.minimum(x, y_max), y_min)\n",
    "#     ax1.hist(x, bins=n_bins, color=SKYBLUE_COLOR)\n",
    "\n",
    "    # Overlay the calibration curve\n",
    "    mean = df_plot[Y_PROB_COL].mean()\n",
    "    std = df_plot[Y_PROB_COL].std()\n",
    "\n",
    "    # Make bins for the calibration\n",
    "    df_plot[GROUP_COL] = df_plot[Y_PROB_COL].apply(lambda a: np.round((a - mean) / std))\n",
    "    df_plot[GROUP_COL] = np.minimum(np.maximum(df_plot[GROUP_COL], -n_std), n_std)\n",
    "    df_plot[GROUP_COL] = df_plot[GROUP_COL].apply(lambda a: mean + std * a)\n",
    "    df_plot[GROUP_COL] = np.maximum(np.minimum(df_plot[GROUP_COL], y_max), y_min)\n",
    "\n",
    "    \n",
    "    df_agg = df_plot.groupby(GROUP_COL)[Y_TRUE_COL, Y_PROB_COL].mean().reset_index()\n",
    "\n",
    "    y_u = None\n",
    "    y_l = None\n",
    "\n",
    "    x = df_agg[Y_PROB_COL]\n",
    "    y = df_agg[Y_TRUE_COL]\n",
    "\n",
    "    # Plot the calibration curve\n",
    "    return x, y\n",
    "#     plt.plot(x, x, DOT_LINE_STYLE, color=COLOR_NEUTRAL, label=LABEL_PERFECTLY_CALIBRATED)\n",
    "    \n",
    "    return fig\n"
   ]
  },
  {
   "cell_type": "code",
   "execution_count": 23,
   "metadata": {},
   "outputs": [],
   "source": [
    "coords = [plot_calibration_curve(y_test, preds) for pred in preds]"
   ]
  },
  {
   "cell_type": "code",
   "execution_count": null,
   "metadata": {},
   "outputs": [],
   "source": [
    "plt.figure(figsize=(20, 20))\n",
    "\n",
    "for coord in coords:\n",
    "    \n",
    "    \n",
    "    plt.plot(coord[0], coord[1])\n",
    "\n",
    "plt.plot(coords[0][0], coords[0][0])\n"
   ]
  },
  {
   "cell_type": "code",
   "execution_count": null,
   "metadata": {},
   "outputs": [],
   "source": [
    "uncertainties = bnn.get_uncertainties(X_test_processed)\n",
    "probabilities = bnn.predict_proba(X_test_processed)[:, 1]\n",
    "labels = y_test.values"
   ]
  },
  {
   "cell_type": "code",
   "execution_count": null,
   "metadata": {
    "scrolled": true
   },
   "outputs": [],
   "source": [
    "outputs = bnn.get_raw_outputs(X_test_processed)"
   ]
  },
  {
   "cell_type": "code",
   "execution_count": null,
   "metadata": {},
   "outputs": [],
   "source": [
    "roc_auc_score(labels, probabilities)"
   ]
  },
  {
   "cell_type": "code",
   "execution_count": null,
   "metadata": {},
   "outputs": [],
   "source": [
    "sns.distplot(uncertainties)"
   ]
  },
  {
   "cell_type": "code",
   "execution_count": null,
   "metadata": {},
   "outputs": [],
   "source": [
    "import matplotlib.pyplot as plt\n",
    "\n",
    "plt.scatter(probabilities[labels == 1], uncertainties[labels == 1], label='Readmissions', c='red', marker='.')\n",
    "plt.scatter(probabilities[labels == 0], uncertainties[labels == 0], label='No Readmissions', c='blue', \n",
    "            marker='.', alpha=.1)\n",
    "\n",
    "plt.legend()\n",
    "plt.ylabel('STD')\n",
    "plt.xlabel('Prediction')"
   ]
  },
  {
   "cell_type": "code",
   "execution_count": null,
   "metadata": {
    "scrolled": false
   },
   "outputs": [],
   "source": [
    "make_performance_uncertainty_plot(labels, probabilities, uncertainties, 'AUC', performance_fn=roc_auc_score)"
   ]
  },
  {
   "cell_type": "code",
   "execution_count": 72,
   "metadata": {},
   "outputs": [],
   "source": [
    "\n",
    "\n",
    "p = np.random.rand(10)"
   ]
  },
  {
   "cell_type": "code",
   "execution_count": 73,
   "metadata": {},
   "outputs": [],
   "source": [
    "y = np.random.randint(0, 2, 10)"
   ]
  },
  {
   "cell_type": "code",
   "execution_count": 74,
   "metadata": {},
   "outputs": [
    {
     "data": {
      "text/plain": [
       "array([0, 1, 0, 1, 1, 1, 0, 1, 0, 0])"
      ]
     },
     "execution_count": 74,
     "metadata": {},
     "output_type": "execute_result"
    }
   ],
   "source": [
    "y"
   ]
  },
  {
   "cell_type": "code",
   "execution_count": 75,
   "metadata": {},
   "outputs": [
    {
     "data": {
      "text/plain": [
       "array([0.10830973, 0.2336022 , 0.74683317, 0.94531852, 0.194421  ,\n",
       "       0.39262395, 0.18811409, 0.197653  , 0.30757639, 0.98352207])"
      ]
     },
     "execution_count": 75,
     "metadata": {},
     "output_type": "execute_result"
    }
   ],
   "source": [
    "p"
   ]
  },
  {
   "cell_type": "code",
   "execution_count": 76,
   "metadata": {},
   "outputs": [
    {
     "data": {
      "text/plain": [
       "array([0.2336022 , 0.74683317, 0.94531852, 0.194421  , 0.39262395,\n",
       "       0.18811409, 0.197653  , 0.30757639, 0.98352207])"
      ]
     },
     "execution_count": 76,
     "metadata": {},
     "output_type": "execute_result"
    }
   ],
   "source": [
    "p[p > p[0]]"
   ]
  },
  {
   "cell_type": "code",
   "execution_count": 77,
   "metadata": {
    "scrolled": true
   },
   "outputs": [],
   "source": [
    "y_ = y[p < p[0]].sum() / len(y)"
   ]
  },
  {
   "cell_type": "code",
   "execution_count": 83,
   "metadata": {},
   "outputs": [],
   "source": [
    "def bce(y, p):\n",
    "    return -1 * (y * np.log(p) + (1-y) * np.log(1-p))"
   ]
  },
  {
   "cell_type": "code",
   "execution_count": 85,
   "metadata": {},
   "outputs": [
    {
     "data": {
      "text/plain": [
       "0.9835220727859519"
      ]
     },
     "execution_count": 85,
     "metadata": {},
     "output_type": "execute_result"
    }
   ],
   "source": [
    "p[-1]"
   ]
  },
  {
   "cell_type": "code",
   "execution_count": 90,
   "metadata": {},
   "outputs": [
    {
     "data": {
      "text/plain": [
       "0.6931471805599453"
      ]
     },
     "execution_count": 90,
     "metadata": {},
     "output_type": "execute_result"
    }
   ],
   "source": [
    "y[p < p[-1]].sum() / len(y)\n",
    "\n",
    "bce(y[p < p[-1]].sum() / len(y), 0.5)"
   ]
  },
  {
   "cell_type": "code",
   "execution_count": 89,
   "metadata": {},
   "outputs": [
    {
     "data": {
      "text/plain": [
       "0.9835220727859519"
      ]
     },
     "execution_count": 89,
     "metadata": {},
     "output_type": "execute_result"
    }
   ],
   "source": [
    "p[-1]"
   ]
  },
  {
   "cell_type": "code",
   "execution_count": 535,
   "metadata": {},
   "outputs": [],
   "source": [
    "from sklearn.datasets import make_moons"
   ]
  },
  {
   "cell_type": "code",
   "execution_count": 573,
   "metadata": {},
   "outputs": [],
   "source": [
    "x, y = make_moons(n_samples=5000)"
   ]
  },
  {
   "cell_type": "code",
   "execution_count": 574,
   "metadata": {},
   "outputs": [],
   "source": [
    "x = torch.from_numpy(x).float()\n",
    "y = torch.from_numpy(y).float()"
   ]
  },
  {
   "cell_type": "code",
   "execution_count": 668,
   "metadata": {},
   "outputs": [],
   "source": [
    "class NN(nn.Module):\n",
    "    def __init__(self):\n",
    "        super(NN, self).__init__()\n",
    "        self.linear1 = nn.Linear(2, 64)\n",
    "        self.linear_conf = nn.Linear(64, 1)\n",
    "        self.linear = nn.Linear(64, 1)\n",
    "        \n",
    "    def forward(self, x):\n",
    "        x = self.linear1(x)\n",
    "        \n",
    "        y_conf = torch.sigmoid(self.linear_conf(x))\n",
    "        y = torch.sigmoid(self.linear(x))\n",
    "        return y"
   ]
  },
  {
   "cell_type": "code",
   "execution_count": 689,
   "metadata": {},
   "outputs": [],
   "source": [
    "model = NN()"
   ]
  },
  {
   "cell_type": "code",
   "execution_count": 733,
   "metadata": {},
   "outputs": [],
   "source": [
    "class QLC(nn.Module):\n",
    "    def __init__(self):\n",
    "        super(QLC, self).__init__()\n",
    "    \n",
    "    def forward(self, y_score, y):\n",
    "        mask = y_score < y_score.unsqueeze(-1)\n",
    "#         mask_over = y_score > y_score.unsqueeze(-1)\n",
    "        \n",
    "#         for i in range(len(mask)):\n",
    "#             print(y[mask[i]])\n",
    "        \n",
    "#     print(y_score.shape,)\n",
    "        means = torch.Tensor([y[mask[i]].mean() for i in range(len(mask))])\n",
    "        \n",
    "#         means = torch.Tensor([y[mask[i]].sum() / mask.shape[1] for i in range(len(mask))])\n",
    "\n",
    "        \n",
    "                \n",
    "#         print(means)\n",
    "#         print(y_score)\n",
    "        print((y_score < y_score.max()).float().mean() - y_score.max())\n",
    "        print((y_score < y_score.median()).float().mean() - y_score.median())\n",
    "\n",
    "        \n",
    "        ls = torch.nn.functional.mse_loss(y_score[~torch.isnan(means)], means[~torch.isnan(means)], reduction='none')\n",
    "                \n",
    "        return (0.01 * ls).sum(), 0"
   ]
  },
  {
   "cell_type": "code",
   "execution_count": 734,
   "metadata": {},
   "outputs": [],
   "source": [
    "loss_fn = QLC()"
   ]
  },
  {
   "cell_type": "code",
   "execution_count": 735,
   "metadata": {},
   "outputs": [],
   "source": [
    "y_ = model(x).squeeze(-1)"
   ]
  },
  {
   "cell_type": "code",
   "execution_count": 736,
   "metadata": {},
   "outputs": [
    {
     "data": {
      "text/plain": [
       "torch.Size([5000])"
      ]
     },
     "execution_count": 736,
     "metadata": {},
     "output_type": "execute_result"
    }
   ],
   "source": [
    "y.shape"
   ]
  },
  {
   "cell_type": "code",
   "execution_count": 737,
   "metadata": {
    "scrolled": true
   },
   "outputs": [
    {
     "name": "stdout",
     "output_type": "stream",
     "text": [
      "tensor(0.5506, grad_fn=<SubBackward0>)\n",
      "tensor(0.4071, grad_fn=<SubBackward0>)\n"
     ]
    }
   ],
   "source": [
    "loss = loss_fn(y_, y)"
   ]
  },
  {
   "cell_type": "code",
   "execution_count": 738,
   "metadata": {},
   "outputs": [
    {
     "name": "stdout",
     "output_type": "stream",
     "text": [
      "(tensor(0.0406, grad_fn=<SumBackward0>), 0)\n"
     ]
    }
   ],
   "source": [
    "print(loss)"
   ]
  },
  {
   "cell_type": "code",
   "execution_count": 739,
   "metadata": {},
   "outputs": [
    {
     "ename": "AttributeError",
     "evalue": "'tuple' object has no attribute 'backward'",
     "output_type": "error",
     "traceback": [
      "\u001b[0;31m---------------------------------------------------------------------------\u001b[0m",
      "\u001b[0;31mAttributeError\u001b[0m                            Traceback (most recent call last)",
      "\u001b[0;32m<ipython-input-739-52a0569421b1>\u001b[0m in \u001b[0;36m<module>\u001b[0;34m\u001b[0m\n\u001b[0;32m----> 1\u001b[0;31m \u001b[0mloss\u001b[0m\u001b[0;34m.\u001b[0m\u001b[0mbackward\u001b[0m\u001b[0;34m(\u001b[0m\u001b[0;34m)\u001b[0m\u001b[0;34m\u001b[0m\u001b[0;34m\u001b[0m\u001b[0m\n\u001b[0m",
      "\u001b[0;31mAttributeError\u001b[0m: 'tuple' object has no attribute 'backward'"
     ]
    }
   ],
   "source": [
    "loss.backward()"
   ]
  },
  {
   "cell_type": "code",
   "execution_count": 740,
   "metadata": {},
   "outputs": [],
   "source": [
    "optimizer = torch.optim.Adam(model.parameters(), lr=1e-2)"
   ]
  },
  {
   "cell_type": "code",
   "execution_count": 741,
   "metadata": {},
   "outputs": [
    {
     "name": "stdout",
     "output_type": "stream",
     "text": [
      "tensor(0.5506, grad_fn=<SubBackward0>)\n",
      "tensor(0.4071, grad_fn=<SubBackward0>)\n",
      "0\n",
      "tensor(0.0406, grad_fn=<AddBackward0>)\n",
      "tensor(0.4386, grad_fn=<SubBackward0>)\n",
      "tensor(0.3776, grad_fn=<SubBackward0>)\n",
      "tensor(0.4864, grad_fn=<SubBackward0>)\n",
      "tensor(0.3856, grad_fn=<SubBackward0>)\n",
      "tensor(0.5433, grad_fn=<SubBackward0>)\n",
      "tensor(0.3974, grad_fn=<SubBackward0>)\n",
      "tensor(0.5701, grad_fn=<SubBackward0>)\n",
      "tensor(0.4032, grad_fn=<SubBackward0>)\n"
     ]
    },
    {
     "ename": "KeyboardInterrupt",
     "evalue": "",
     "output_type": "error",
     "traceback": [
      "\u001b[0;31m---------------------------------------------------------------------------\u001b[0m",
      "\u001b[0;31mKeyboardInterrupt\u001b[0m                         Traceback (most recent call last)",
      "\u001b[0;32m<ipython-input-741-9b6b539c5d1d>\u001b[0m in \u001b[0;36m<module>\u001b[0;34m\u001b[0m\n\u001b[1;32m      1\u001b[0m \u001b[0;32mfor\u001b[0m \u001b[0mi\u001b[0m \u001b[0;32min\u001b[0m \u001b[0mrange\u001b[0m\u001b[0;34m(\u001b[0m\u001b[0;36m1000\u001b[0m\u001b[0;34m)\u001b[0m\u001b[0;34m:\u001b[0m\u001b[0;34m\u001b[0m\u001b[0;34m\u001b[0m\u001b[0m\n\u001b[1;32m      2\u001b[0m     \u001b[0my_\u001b[0m \u001b[0;34m=\u001b[0m \u001b[0mmodel\u001b[0m\u001b[0;34m(\u001b[0m\u001b[0mx\u001b[0m\u001b[0;34m)\u001b[0m\u001b[0;34m.\u001b[0m\u001b[0msqueeze\u001b[0m\u001b[0;34m(\u001b[0m\u001b[0;34m-\u001b[0m\u001b[0;36m1\u001b[0m\u001b[0;34m)\u001b[0m\u001b[0;34m\u001b[0m\u001b[0;34m\u001b[0m\u001b[0m\n\u001b[0;32m----> 3\u001b[0;31m     \u001b[0mc_loss\u001b[0m\u001b[0;34m,\u001b[0m \u001b[0mbce_loss\u001b[0m \u001b[0;34m=\u001b[0m \u001b[0mloss_fn\u001b[0m\u001b[0;34m(\u001b[0m\u001b[0my_\u001b[0m\u001b[0;34m,\u001b[0m \u001b[0my\u001b[0m\u001b[0;34m)\u001b[0m\u001b[0;34m\u001b[0m\u001b[0;34m\u001b[0m\u001b[0m\n\u001b[0m\u001b[1;32m      4\u001b[0m \u001b[0;34m\u001b[0m\u001b[0m\n\u001b[1;32m      5\u001b[0m \u001b[0;31m#     print(c_loss, bce_loss)\u001b[0m\u001b[0;34m\u001b[0m\u001b[0;34m\u001b[0m\u001b[0;34m\u001b[0m\u001b[0m\n",
      "\u001b[0;32m~/miniconda3/envs/py37/lib/python3.7/site-packages/torch/nn/modules/module.py\u001b[0m in \u001b[0;36m__call__\u001b[0;34m(self, *input, **kwargs)\u001b[0m\n\u001b[1;32m    491\u001b[0m             \u001b[0mresult\u001b[0m \u001b[0;34m=\u001b[0m \u001b[0mself\u001b[0m\u001b[0;34m.\u001b[0m\u001b[0m_slow_forward\u001b[0m\u001b[0;34m(\u001b[0m\u001b[0;34m*\u001b[0m\u001b[0minput\u001b[0m\u001b[0;34m,\u001b[0m \u001b[0;34m**\u001b[0m\u001b[0mkwargs\u001b[0m\u001b[0;34m)\u001b[0m\u001b[0;34m\u001b[0m\u001b[0;34m\u001b[0m\u001b[0m\n\u001b[1;32m    492\u001b[0m         \u001b[0;32melse\u001b[0m\u001b[0;34m:\u001b[0m\u001b[0;34m\u001b[0m\u001b[0;34m\u001b[0m\u001b[0m\n\u001b[0;32m--> 493\u001b[0;31m             \u001b[0mresult\u001b[0m \u001b[0;34m=\u001b[0m \u001b[0mself\u001b[0m\u001b[0;34m.\u001b[0m\u001b[0mforward\u001b[0m\u001b[0;34m(\u001b[0m\u001b[0;34m*\u001b[0m\u001b[0minput\u001b[0m\u001b[0;34m,\u001b[0m \u001b[0;34m**\u001b[0m\u001b[0mkwargs\u001b[0m\u001b[0;34m)\u001b[0m\u001b[0;34m\u001b[0m\u001b[0;34m\u001b[0m\u001b[0m\n\u001b[0m\u001b[1;32m    494\u001b[0m         \u001b[0;32mfor\u001b[0m \u001b[0mhook\u001b[0m \u001b[0;32min\u001b[0m \u001b[0mself\u001b[0m\u001b[0;34m.\u001b[0m\u001b[0m_forward_hooks\u001b[0m\u001b[0;34m.\u001b[0m\u001b[0mvalues\u001b[0m\u001b[0;34m(\u001b[0m\u001b[0;34m)\u001b[0m\u001b[0;34m:\u001b[0m\u001b[0;34m\u001b[0m\u001b[0;34m\u001b[0m\u001b[0m\n\u001b[1;32m    495\u001b[0m             \u001b[0mhook_result\u001b[0m \u001b[0;34m=\u001b[0m \u001b[0mhook\u001b[0m\u001b[0;34m(\u001b[0m\u001b[0mself\u001b[0m\u001b[0;34m,\u001b[0m \u001b[0minput\u001b[0m\u001b[0;34m,\u001b[0m \u001b[0mresult\u001b[0m\u001b[0;34m)\u001b[0m\u001b[0;34m\u001b[0m\u001b[0;34m\u001b[0m\u001b[0m\n",
      "\u001b[0;32m<ipython-input-733-bcd724d5c8ac>\u001b[0m in \u001b[0;36mforward\u001b[0;34m(self, y_score, y)\u001b[0m\n\u001b[1;32m     11\u001b[0m \u001b[0;34m\u001b[0m\u001b[0m\n\u001b[1;32m     12\u001b[0m \u001b[0;31m#     print(y_score.shape,)\u001b[0m\u001b[0;34m\u001b[0m\u001b[0;34m\u001b[0m\u001b[0;34m\u001b[0m\u001b[0m\n\u001b[0;32m---> 13\u001b[0;31m         \u001b[0mmeans\u001b[0m \u001b[0;34m=\u001b[0m \u001b[0mtorch\u001b[0m\u001b[0;34m.\u001b[0m\u001b[0mTensor\u001b[0m\u001b[0;34m(\u001b[0m\u001b[0;34m[\u001b[0m\u001b[0my\u001b[0m\u001b[0;34m[\u001b[0m\u001b[0mmask\u001b[0m\u001b[0;34m[\u001b[0m\u001b[0mi\u001b[0m\u001b[0;34m]\u001b[0m\u001b[0;34m]\u001b[0m\u001b[0;34m.\u001b[0m\u001b[0mmean\u001b[0m\u001b[0;34m(\u001b[0m\u001b[0;34m)\u001b[0m \u001b[0;32mfor\u001b[0m \u001b[0mi\u001b[0m \u001b[0;32min\u001b[0m \u001b[0mrange\u001b[0m\u001b[0;34m(\u001b[0m\u001b[0mlen\u001b[0m\u001b[0;34m(\u001b[0m\u001b[0mmask\u001b[0m\u001b[0;34m)\u001b[0m\u001b[0;34m)\u001b[0m\u001b[0;34m]\u001b[0m\u001b[0;34m)\u001b[0m\u001b[0;34m\u001b[0m\u001b[0;34m\u001b[0m\u001b[0m\n\u001b[0m\u001b[1;32m     14\u001b[0m \u001b[0;34m\u001b[0m\u001b[0m\n\u001b[1;32m     15\u001b[0m \u001b[0;31m#         means = torch.Tensor([y[mask[i]].sum() / mask.shape[1] for i in range(len(mask))])\u001b[0m\u001b[0;34m\u001b[0m\u001b[0;34m\u001b[0m\u001b[0;34m\u001b[0m\u001b[0m\n",
      "\u001b[0;32m<ipython-input-733-bcd724d5c8ac>\u001b[0m in \u001b[0;36m<listcomp>\u001b[0;34m(.0)\u001b[0m\n\u001b[1;32m     11\u001b[0m \u001b[0;34m\u001b[0m\u001b[0m\n\u001b[1;32m     12\u001b[0m \u001b[0;31m#     print(y_score.shape,)\u001b[0m\u001b[0;34m\u001b[0m\u001b[0;34m\u001b[0m\u001b[0;34m\u001b[0m\u001b[0m\n\u001b[0;32m---> 13\u001b[0;31m         \u001b[0mmeans\u001b[0m \u001b[0;34m=\u001b[0m \u001b[0mtorch\u001b[0m\u001b[0;34m.\u001b[0m\u001b[0mTensor\u001b[0m\u001b[0;34m(\u001b[0m\u001b[0;34m[\u001b[0m\u001b[0my\u001b[0m\u001b[0;34m[\u001b[0m\u001b[0mmask\u001b[0m\u001b[0;34m[\u001b[0m\u001b[0mi\u001b[0m\u001b[0;34m]\u001b[0m\u001b[0;34m]\u001b[0m\u001b[0;34m.\u001b[0m\u001b[0mmean\u001b[0m\u001b[0;34m(\u001b[0m\u001b[0;34m)\u001b[0m \u001b[0;32mfor\u001b[0m \u001b[0mi\u001b[0m \u001b[0;32min\u001b[0m \u001b[0mrange\u001b[0m\u001b[0;34m(\u001b[0m\u001b[0mlen\u001b[0m\u001b[0;34m(\u001b[0m\u001b[0mmask\u001b[0m\u001b[0;34m)\u001b[0m\u001b[0;34m)\u001b[0m\u001b[0;34m]\u001b[0m\u001b[0;34m)\u001b[0m\u001b[0;34m\u001b[0m\u001b[0;34m\u001b[0m\u001b[0m\n\u001b[0m\u001b[1;32m     14\u001b[0m \u001b[0;34m\u001b[0m\u001b[0m\n\u001b[1;32m     15\u001b[0m \u001b[0;31m#         means = torch.Tensor([y[mask[i]].sum() / mask.shape[1] for i in range(len(mask))])\u001b[0m\u001b[0;34m\u001b[0m\u001b[0;34m\u001b[0m\u001b[0;34m\u001b[0m\u001b[0m\n",
      "\u001b[0;31mKeyboardInterrupt\u001b[0m: "
     ]
    }
   ],
   "source": [
    "for i in range(1000):\n",
    "    y_ = model(x).squeeze(-1)\n",
    "    c_loss, bce_loss = loss_fn(y_, y)\n",
    "    \n",
    "#     print(c_loss, bce_loss)\n",
    "    loss = c_loss + 0.1 * bce_loss\n",
    "    optimizer.zero_grad()\n",
    "    loss.backward()\n",
    "    optimizer.step()\n",
    "    \n",
    "    if i % 10 == 0:\n",
    "        print(i)\n",
    "        print(loss)"
   ]
  },
  {
   "cell_type": "code",
   "execution_count": null,
   "metadata": {},
   "outputs": [],
   "source": [
    "for i in range(len(y_)):\n",
    "    print(y_[i])\n",
    "    print(y[y_ < y[i]].sum() / len(y) - y[i])"
   ]
  },
  {
   "cell_type": "code",
   "execution_count": 563,
   "metadata": {},
   "outputs": [
    {
     "data": {
      "text/plain": [
       "tensor(-0.4363, grad_fn=<SubBackward0>)"
      ]
     },
     "execution_count": 563,
     "metadata": {},
     "output_type": "execute_result"
    }
   ],
   "source": [
    "y[y_ < y_.max()].sum() / len(y) - y_.max()"
   ]
  },
  {
   "cell_type": "code",
   "execution_count": 586,
   "metadata": {},
   "outputs": [
    {
     "data": {
      "text/plain": [
       "0.94865248"
      ]
     },
     "execution_count": 586,
     "metadata": {},
     "output_type": "execute_result"
    }
   ],
   "source": [
    "roc_auc_score(y.detach().numpy(), y_.detach().numpy())"
   ]
  },
  {
   "cell_type": "code",
   "execution_count": 587,
   "metadata": {},
   "outputs": [],
   "source": [
    "from pacmagic.visualizing.model_plots import plot_calibration_curve"
   ]
  },
  {
   "cell_type": "code",
   "execution_count": 588,
   "metadata": {},
   "outputs": [
    {
     "data": {
      "image/png": "[encoded data removed]",
      "text/plain": [
       "<Figure size 1296x864 with 2 Axes>"
      ]
     },
     "metadata": {},
     "output_type": "display_data"
    }
   ],
   "source": [
    "plot_calibration_curve(y,  y_.detach().numpy())"
   ]
  },
  {
   "cell_type": "code",
   "execution_count": 389,
   "metadata": {},
   "outputs": [
    {
     "data": {
      "text/plain": [
       "tensor(0.0539, grad_fn=<SubBackward0>)"
      ]
     },
     "execution_count": 389,
     "metadata": {},
     "output_type": "execute_result"
    }
   ],
   "source": [
    "y[y_ < y_.max()].mean() - y_.max()"
   ]
  },
  {
   "cell_type": "code",
   "execution_count": 331,
   "metadata": {},
   "outputs": [
    {
     "data": {
      "text/plain": [
       "tensor(0.4949)"
      ]
     },
     "execution_count": 331,
     "metadata": {},
     "output_type": "execute_result"
    }
   ],
   "source": [
    "y[y_ < y_.max()]"
   ]
  },
  {
   "cell_type": "code",
   "execution_count": 172,
   "metadata": {},
   "outputs": [
    {
     "data": {
      "text/plain": [
       "tensor([0, 0, 1, 0, 0, 1, 1, 1, 1, 0, 0, 0, 1, 0, 1, 1, 0, 0, 1, 0, 1, 1, 1, 1,\n",
       "        1, 0, 1, 0, 0, 0, 1, 1, 0, 0, 0, 1, 1, 1, 0, 1, 0, 1, 1, 1, 1, 0, 0, 0,\n",
       "        1, 1, 1, 0, 1, 0, 0, 1, 0, 0, 0, 0, 1, 1, 0, 0, 0, 1, 0, 1, 0, 1, 1, 1,\n",
       "        1, 1, 1, 0, 0, 1, 1, 0, 0, 1, 0, 0, 0, 0, 0, 1, 1, 0, 1, 0, 1, 1, 0, 1,\n",
       "        0, 0, 1, 1], dtype=torch.uint8)"
      ]
     },
     "execution_count": 172,
     "metadata": {},
     "output_type": "execute_result"
    }
   ],
   "source": [
    "y_ < y_[0]"
   ]
  },
  {
   "cell_type": "code",
   "execution_count": 175,
   "metadata": {},
   "outputs": [
    {
     "data": {
      "text/plain": [
       "tensor([0.5100, 0.6000, 0.5000, 0.7200, 0.7800, 0.2400, 0.4000, 0.1800, 0.4400,\n",
       "        0.8300, 0.7300, 0.5200, 0.0400, 0.9000, 0.0200, 0.2700, 0.9200, 0.8200,\n",
       "        0.4900, 0.7900, 0.2900, 0.1600, 0.1100, 0.3800, 0.0100, 0.8500, 0.4300,\n",
       "        0.8900, 0.9900, 0.7000, 0.2600, 0.0500, 0.7400, 0.6800, 0.5800, 0.1900,\n",
       "        0.1400, 0.2000, 0.8800, 0.3400, 0.6100, 0.0600, 0.4100, 0.2500, 0.3200,\n",
       "        0.5600, 0.5500, 0.6500, 0.1200, 0.1500, 0.0000, 0.6700, 0.3000, 0.6400,\n",
       "        0.8700, 0.3300, 0.9400, 0.7100, 0.6200, 0.8000, 0.2200, 0.1000, 0.5300,\n",
       "        0.9300, 0.6900, 0.4800, 0.5400, 0.2800, 0.8400, 0.4200, 0.2300, 0.4600,\n",
       "        0.3600, 0.3500, 0.0900, 0.5900, 0.7500, 0.0700, 0.1700, 0.9600, 0.6600,\n",
       "        0.2100, 0.7700, 0.9100, 0.7600, 0.9700, 0.9800, 0.0300, 0.0800, 0.5700,\n",
       "        0.1300, 0.9500, 0.3900, 0.3100, 0.6300, 0.4500, 0.8600, 0.8100, 0.3700,\n",
       "        0.4700])"
      ]
     },
     "execution_count": 175,
     "metadata": {},
     "output_type": "execute_result"
    }
   ],
   "source": [
    "(y_ < y_.unsqueeze(-1)).float().mean(-1)"
   ]
  },
  {
   "cell_type": "code",
   "execution_count": 168,
   "metadata": {},
   "outputs": [
    {
     "data": {
      "text/plain": [
       "tensor(0.5100)"
      ]
     },
     "execution_count": 168,
     "metadata": {},
     "output_type": "execute_result"
    }
   ],
   "source": [
    "(y_ < y_[0]).float().mean()"
   ]
  },
  {
   "cell_type": "code",
   "execution_count": 180,
   "metadata": {},
   "outputs": [
    {
     "data": {
      "text/plain": [
       "tensor([1., 0., 1., 0., 1., 0., 0., 0., 0., 0., 0., 0., 1., 0., 0., 0., 0., 0.,\n",
       "        0., 0., 0., 0., 0., 0., 0., 0., 0., 0., 1., 1., 0., 0., 1., 0., 1., 0.,\n",
       "        1., 1., 1., 0., 0., 0., 0., 0., 0., 0., 0., 1., 0., 0., 0.])"
      ]
     },
     "execution_count": 180,
     "metadata": {},
     "output_type": "execute_result"
    }
   ],
   "source": [
    "y[(y_ < y_[0])]"
   ]
  },
  {
   "cell_type": "code",
   "execution_count": 332,
   "metadata": {},
   "outputs": [
    {
     "ename": "IndexError",
     "evalue": "too many indices for tensor of dimension 1",
     "output_type": "error",
     "traceback": [
      "\u001b[0;31m---------------------------------------------------------------------------\u001b[0m",
      "\u001b[0;31mIndexError\u001b[0m                                Traceback (most recent call last)",
      "\u001b[0;32m<ipython-input-332-4b0d14fc852c>\u001b[0m in \u001b[0;36m<module>\u001b[0;34m\u001b[0m\n\u001b[0;32m----> 1\u001b[0;31m \u001b[0my\u001b[0m\u001b[0;34m[\u001b[0m\u001b[0;34m(\u001b[0m\u001b[0my_\u001b[0m \u001b[0;34m<\u001b[0m \u001b[0my_\u001b[0m\u001b[0;34m.\u001b[0m\u001b[0munsqueeze\u001b[0m\u001b[0;34m(\u001b[0m\u001b[0;34m-\u001b[0m\u001b[0;36m1\u001b[0m\u001b[0;34m)\u001b[0m\u001b[0;34m)\u001b[0m\u001b[0;34m]\u001b[0m \u001b[0;34m-\u001b[0m \u001b[0my_\u001b[0m\u001b[0;34m\u001b[0m\u001b[0;34m\u001b[0m\u001b[0m\n\u001b[0m",
      "\u001b[0;31mIndexError\u001b[0m: too many indices for tensor of dimension 1"
     ]
    }
   ],
   "source": [
    "y[(y_ < y_.unsqueeze(-1))] - y_"
   ]
  },
  {
   "cell_type": "code",
   "execution_count": 191,
   "metadata": {},
   "outputs": [
    {
     "ename": "IndexError",
     "evalue": "too many indices for tensor of dimension 1",
     "output_type": "error",
     "traceback": [
      "\u001b[0;31m---------------------------------------------------------------------------\u001b[0m",
      "\u001b[0;31mIndexError\u001b[0m                                Traceback (most recent call last)",
      "\u001b[0;32m<ipython-input-191-33a072085aef>\u001b[0m in \u001b[0;36m<module>\u001b[0;34m\u001b[0m\n\u001b[0;32m----> 1\u001b[0;31m \u001b[0my\u001b[0m\u001b[0;34m[\u001b[0m\u001b[0;34m(\u001b[0m\u001b[0my_\u001b[0m \u001b[0;34m<\u001b[0m \u001b[0;34m(\u001b[0m\u001b[0my_\u001b[0m \u001b[0;34m<\u001b[0m \u001b[0my_\u001b[0m\u001b[0;34m.\u001b[0m\u001b[0munsqueeze\u001b[0m\u001b[0;34m(\u001b[0m\u001b[0;34m-\u001b[0m\u001b[0;36m1\u001b[0m\u001b[0;34m)\u001b[0m\u001b[0;34m)\u001b[0m\u001b[0;34m.\u001b[0m\u001b[0mfloat\u001b[0m\u001b[0;34m(\u001b[0m\u001b[0;34m)\u001b[0m\u001b[0;34m.\u001b[0m\u001b[0mmean\u001b[0m\u001b[0;34m(\u001b[0m\u001b[0;34m-\u001b[0m\u001b[0;36m1\u001b[0m\u001b[0;34m)\u001b[0m\u001b[0;34m)\u001b[0m\u001b[0;34m.\u001b[0m\u001b[0munsqueeze\u001b[0m\u001b[0;34m(\u001b[0m\u001b[0;34m-\u001b[0m\u001b[0;36m1\u001b[0m\u001b[0;34m)\u001b[0m\u001b[0;34m]\u001b[0m\u001b[0;34m\u001b[0m\u001b[0;34m\u001b[0m\u001b[0m\n\u001b[0m",
      "\u001b[0;31mIndexError\u001b[0m: too many indices for tensor of dimension 1"
     ]
    }
   ],
   "source": [
    "y[(y_ < (y_ < y_.unsqueeze(-1)).float().mean(-1)).unsqueeze(-1)]"
   ]
  },
  {
   "cell_type": "code",
   "execution_count": 194,
   "metadata": {},
   "outputs": [
    {
     "data": {
      "text/plain": [
       "(torch.Size([100]), torch.Size([100, 1]))"
      ]
     },
     "execution_count": 194,
     "metadata": {},
     "output_type": "execute_result"
    }
   ],
   "source": [
    "y_.shape, y_.unsqueeze(-1).shape"
   ]
  },
  {
   "cell_type": "code",
   "execution_count": 201,
   "metadata": {},
   "outputs": [
    {
     "data": {
      "text/plain": [
       "tensor([0.5100, 0.6000, 0.5000, 0.7200, 0.7800, 0.2400, 0.4000, 0.1800, 0.4400,\n",
       "        0.8300, 0.7300, 0.5200, 0.0400, 0.9000, 0.0200, 0.2700, 0.9200, 0.8200,\n",
       "        0.4900, 0.7900, 0.2900, 0.1600, 0.1100, 0.3800, 0.0100, 0.8500, 0.4300,\n",
       "        0.8900, 0.9900, 0.7000, 0.2600, 0.0500, 0.7400, 0.6800, 0.5800, 0.1900,\n",
       "        0.1400, 0.2000, 0.8800, 0.3400, 0.6100, 0.0600, 0.4100, 0.2500, 0.3200,\n",
       "        0.5600, 0.5500, 0.6500, 0.1200, 0.1500, 0.0000, 0.6700, 0.3000, 0.6400,\n",
       "        0.8700, 0.3300, 0.9400, 0.7100, 0.6200, 0.8000, 0.2200, 0.1000, 0.5300,\n",
       "        0.9300, 0.6900, 0.4800, 0.5400, 0.2800, 0.8400, 0.4200, 0.2300, 0.4600,\n",
       "        0.3600, 0.3500, 0.0900, 0.5900, 0.7500, 0.0700, 0.1700, 0.9600, 0.6600,\n",
       "        0.2100, 0.7700, 0.9100, 0.7600, 0.9700, 0.9800, 0.0300, 0.0800, 0.5700,\n",
       "        0.1300, 0.9500, 0.3900, 0.3100, 0.6300, 0.4500, 0.8600, 0.8100, 0.3700,\n",
       "        0.4700])"
      ]
     },
     "execution_count": 201,
     "metadata": {},
     "output_type": "execute_result"
    }
   ],
   "source": [
    "(y_ < y_.unsqueeze(-1)).float().mean(-1)"
   ]
  },
  {
   "cell_type": "code",
   "execution_count": 204,
   "metadata": {},
   "outputs": [
    {
     "data": {
      "text/plain": [
       "tensor([1., 0., 1., 0., 1., 0., 0., 0., 0., 0., 0., 0., 1., 0., 0., 0., 0., 0.,\n",
       "        0., 0., 0., 0., 0., 0., 0., 0., 0., 0., 1., 1., 0., 0., 1., 0., 1., 0.,\n",
       "        1., 1., 1., 0., 0., 0., 0., 0., 0., 0., 0., 1., 0., 0., 0.])"
      ]
     },
     "execution_count": 204,
     "metadata": {},
     "output_type": "execute_result"
    }
   ],
   "source": [
    "y[(y_ < y_[0])]"
   ]
  },
  {
   "cell_type": "code",
   "execution_count": 216,
   "metadata": {},
   "outputs": [
    {
     "data": {
      "text/plain": [
       "tensor([0., 0., 0.,  ..., 0., 0., 0.])"
      ]
     },
     "execution_count": 216,
     "metadata": {},
     "output_type": "execute_result"
    }
   ],
   "source": [
    "y.unsqueeze(-1).repeat(1, 100)[y_ < y_.unsqueeze(-1)]"
   ]
  },
  {
   "cell_type": "code",
   "execution_count": 208,
   "metadata": {},
   "outputs": [
    {
     "data": {
      "text/plain": [
       "torch.Size([100, 100])"
      ]
     },
     "execution_count": 208,
     "metadata": {},
     "output_type": "execute_result"
    }
   ],
   "source": [
    "(y_ < y_.unsqueeze(-1)).shape"
   ]
  },
  {
   "cell_type": "code",
   "execution_count": 211,
   "metadata": {},
   "outputs": [
    {
     "data": {
      "text/plain": [
       "tensor([[0., 0., 0.,  ..., 0., 0., 0.],\n",
       "        [1., 1., 1.,  ..., 1., 1., 1.],\n",
       "        [1., 1., 1.,  ..., 1., 1., 1.],\n",
       "        ...,\n",
       "        [1., 1., 1.,  ..., 1., 1., 1.],\n",
       "        [0., 0., 0.,  ..., 0., 0., 0.],\n",
       "        [0., 0., 0.,  ..., 0., 0., 0.]])"
      ]
     },
     "execution_count": 211,
     "metadata": {},
     "output_type": "execute_result"
    }
   ],
   "source": [
    "y.unsqueeze(-1).repeat(1, 100)"
   ]
  },
  {
   "cell_type": "code",
   "execution_count": 219,
   "metadata": {},
   "outputs": [
    {
     "data": {
      "text/plain": [
       "torch.Size([100, 100])"
      ]
     },
     "execution_count": 219,
     "metadata": {},
     "output_type": "execute_result"
    }
   ],
   "source": [
    "y.unsqueeze(-1).repeat(1, 100).shape"
   ]
  },
  {
   "cell_type": "code",
   "execution_count": 221,
   "metadata": {},
   "outputs": [
    {
     "data": {
      "text/plain": [
       "torch.Size([100, 100])"
      ]
     },
     "execution_count": 221,
     "metadata": {},
     "output_type": "execute_result"
    }
   ],
   "source": [
    "(y_ < y_.unsqueeze(-1)).shape"
   ]
  },
  {
   "cell_type": "code",
   "execution_count": 224,
   "metadata": {},
   "outputs": [
    {
     "data": {
      "text/plain": [
       "tensor([0., 0., 0.,  ..., 0., 0., 0.])"
      ]
     },
     "execution_count": 224,
     "metadata": {},
     "output_type": "execute_result"
    }
   ],
   "source": [
    "y.unsqueeze(-1).repeat(1, 100)[(y_ < y_.unsqueeze(-1))]"
   ]
  },
  {
   "cell_type": "code",
   "execution_count": 226,
   "metadata": {},
   "outputs": [
    {
     "data": {
      "text/plain": [
       "tensor([0, 0, 1, 0, 0, 1, 1, 1, 1, 0, 0, 0, 1, 0, 1, 1, 0, 0, 1, 0, 1, 1, 1, 1,\n",
       "        1, 0, 1, 0, 0, 0, 1, 1, 0, 0, 0, 1, 1, 1, 0, 1, 0, 1, 1, 1, 1, 0, 0, 0,\n",
       "        1, 1, 1, 0, 1, 0, 0, 1, 0, 0, 0, 0, 1, 1, 0, 0, 0, 1, 0, 1, 0, 1, 1, 1,\n",
       "        1, 1, 1, 0, 0, 1, 1, 0, 0, 1, 0, 0, 0, 0, 0, 1, 1, 0, 1, 0, 1, 1, 0, 1,\n",
       "        0, 0, 1, 1], dtype=torch.uint8)"
      ]
     },
     "execution_count": 226,
     "metadata": {},
     "output_type": "execute_result"
    }
   ],
   "source": [
    "(y_ < y_.unsqueeze(-1))[0]"
   ]
  },
  {
   "cell_type": "code",
   "execution_count": 227,
   "metadata": {},
   "outputs": [
    {
     "data": {
      "text/plain": [
       "tensor([0, 0, 1, 0, 0, 1, 1, 1, 1, 0, 0, 0, 1, 0, 1, 1, 0, 0, 1, 0, 1, 1, 1, 1,\n",
       "        1, 0, 1, 0, 0, 0, 1, 1, 0, 0, 0, 1, 1, 1, 0, 1, 0, 1, 1, 1, 1, 0, 0, 0,\n",
       "        1, 1, 1, 0, 1, 0, 0, 1, 0, 0, 0, 0, 1, 1, 0, 0, 0, 1, 0, 1, 0, 1, 1, 1,\n",
       "        1, 1, 1, 0, 0, 1, 1, 0, 0, 1, 0, 0, 0, 0, 0, 1, 1, 0, 1, 0, 1, 1, 0, 1,\n",
       "        0, 0, 1, 1], dtype=torch.uint8)"
      ]
     },
     "execution_count": 227,
     "metadata": {},
     "output_type": "execute_result"
    }
   ],
   "source": [
    "y_ < y_[0]"
   ]
  },
  {
   "cell_type": "code",
   "execution_count": 228,
   "metadata": {},
   "outputs": [
    {
     "data": {
      "text/plain": [
       "tensor([[0., 1., 1.,  ..., 1., 0., 0.]])"
      ]
     },
     "execution_count": 228,
     "metadata": {},
     "output_type": "execute_result"
    }
   ],
   "source": [
    "y.unsqueeze(0).repeat(1, 100)"
   ]
  },
  {
   "cell_type": "code",
   "execution_count": 236,
   "metadata": {},
   "outputs": [],
   "source": [
    "mask = y_ < y_.unsqueeze(-1)\n",
    "\n",
    "means = torch.Tensor([y[mask[i]].mean() for i in range(len(mask))])"
   ]
  },
  {
   "cell_type": "code",
   "execution_count": 250,
   "metadata": {},
   "outputs": [
    {
     "data": {
      "text/plain": [
       "tensor([0.2353, 0.2667, 0.2200, 0.3056, 0.3590, 0.0000, 0.1500, 0.0000, 0.1818,\n",
       "        0.3976, 0.3151, 0.2308, 0.0000, 0.4444, 0.0000, 0.0000, 0.4565, 0.3902,\n",
       "        0.2245, 0.3671, 0.0000, 0.0000, 0.0000, 0.1316, 0.0000, 0.4118, 0.1860,\n",
       "        0.4382, 0.4949, 0.2857, 0.0000, 0.0000, 0.3243, 0.2941, 0.2586, 0.0000,\n",
       "        0.0000, 0.0000, 0.4318, 0.0882, 0.2787, 0.0000, 0.1707, 0.0000, 0.0625,\n",
       "        0.2500, 0.2545, 0.2769, 0.0000, 0.0000,    nan, 0.2836, 0.0000, 0.2812,\n",
       "        0.4253, 0.0606, 0.4681, 0.2958, 0.2742, 0.3750, 0.0000, 0.0000, 0.2453,\n",
       "        0.4624, 0.2899, 0.2083, 0.2407, 0.0000, 0.4048, 0.1667, 0.0000, 0.1957,\n",
       "        0.1111, 0.0857, 0.0000, 0.2712, 0.3333, 0.0000, 0.0000, 0.4792, 0.2879,\n",
       "        0.0000, 0.3506, 0.4505, 0.3421, 0.4845, 0.4898, 0.0000, 0.0000, 0.2632,\n",
       "        0.0000, 0.4737, 0.1538, 0.0323, 0.2857, 0.2000, 0.4186, 0.3827, 0.1351,\n",
       "        0.2128])"
      ]
     },
     "execution_count": 250,
     "metadata": {},
     "output_type": "execute_result"
    }
   ],
   "source": [
    "means"
   ]
  },
  {
   "cell_type": "code",
   "execution_count": 431,
   "metadata": {},
   "outputs": [
    {
     "data": {
      "text/plain": [
       "tensor([0.2845, 0.2016, 0.0843,  ..., 0.1151, 0.0414, 0.3620],\n",
       "       grad_fn=<SqueezeBackward1>)"
      ]
     },
     "execution_count": 431,
     "metadata": {},
     "output_type": "execute_result"
    }
   ],
   "source": [
    "y_"
   ]
  },
  {
   "cell_type": "code",
   "execution_count": 433,
   "metadata": {},
   "outputs": [
    {
     "data": {
      "text/plain": [
       "tensor([1, 0, 0,  ..., 1, 0, 1], dtype=torch.uint8)"
      ]
     },
     "execution_count": 433,
     "metadata": {},
     "output_type": "execute_result"
    }
   ],
   "source": [
    "y > y_.max()"
   ]
  },
  {
   "cell_type": "code",
   "execution_count": 441,
   "metadata": {},
   "outputs": [
    {
     "data": {
      "text/plain": [
       "tensor(0.)"
      ]
     },
     "execution_count": 441,
     "metadata": {},
     "output_type": "execute_result"
    }
   ],
   "source": [
    "y[(y_ > y_.max())].sum()"
   ]
  },
  {
   "cell_type": "code",
   "execution_count": 589,
   "metadata": {},
   "outputs": [
    {
     "data": {
      "text/plain": [
       "tensor(0.5390, grad_fn=<MaxBackward1>)"
      ]
     },
     "execution_count": 589,
     "metadata": {},
     "output_type": "execute_result"
    }
   ],
   "source": [
    "y_.max()"
   ]
  },
  {
   "cell_type": "code",
   "execution_count": 593,
   "metadata": {},
   "outputs": [
    {
     "data": {
      "text/plain": [
       "tensor(0.4606, grad_fn=<SubBackward0>)"
      ]
     },
     "execution_count": 593,
     "metadata": {},
     "output_type": "execute_result"
    }
   ],
   "source": [
    "(y_ < y_.max()).float().mean() - y_.max()"
   ]
  },
  {
   "cell_type": "code",
   "execution_count": null,
   "metadata": {},
   "outputs": [],
   "source": []
  }
 ],
 "metadata": {
  "kernelspec": {
   "display_name": "Python 3",
   "language": "python",
   "name": "python3"
  },
  "language_info": {
   "codemirror_mode": {
    "name": "ipython",
    "version": 3
   },
   "file_extension": ".py",
   "mimetype": "text/x-python",
   "name": "python",
   "nbconvert_exporter": "python",
   "pygments_lexer": "ipython3",
   "version": "3.7.3"
  },
  "pycharm": {
   "stem_cell": {
    "cell_type": "raw",
    "metadata": {
     "collapsed": false
    },
    "source": []
   }
  }
 },
 "nbformat": 4,
 "nbformat_minor": 2
}
