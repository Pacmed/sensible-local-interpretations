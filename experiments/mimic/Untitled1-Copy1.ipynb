{
 "cells": [
  {
   "cell_type": "code",
   "execution_count": 1,
   "metadata": {},
   "outputs": [],
   "source": [
    "import torch\n",
    "from torch import nn\n",
    "import pandas as pd\n",
    "import numpy as np\n",
    "from pacmagic_deeplearning.modeling.classifiers.bayesian.train_utils import make_performance_uncertainty_plot"
   ]
  },
  {
   "cell_type": "code",
   "execution_count": 2,
   "metadata": {},
   "outputs": [],
   "source": [
    "class MLP(nn.Module):\n",
    "    \"\"\"Simple MLP with dropout option.\n",
    "\n",
    "    Parameters\n",
    "    ----------\n",
    "    in_dim: int\n",
    "        Number of features in\n",
    "    n_classes: int\n",
    "        Number of classes\n",
    "    p: float\n",
    "        Dropout probability.\n",
    "    \"\"\"\n",
    "\n",
    "    def __init__(self,\n",
    "                 in_dim: int,\n",
    "                 n_classes: int,\n",
    "                 hidden_dims: tuple = (32, 32),\n",
    "                 p: float = 0.1,\n",
    "                 class_weights: list = None):\n",
    "        super(MLP, self).__init__()\n",
    "        self.dropout_p: float = p\n",
    "\n",
    "        self.architecture: list = [in_dim] + [dim for dim in hidden_dims] + [n_classes]\n",
    "\n",
    "        self.layers: list = []\n",
    "\n",
    "        # Add linear combinations to the forward function. So iterating up to the n-1th layer and\n",
    "        # adding combinations up to the nth layer.\n",
    "        for i in range(len(self.architecture) - 1):\n",
    "            self.layers.append(nn.Linear(self.architecture[i], self.architecture[i + 1]))\n",
    "\n",
    "            # Don't add these in the final linear combination.\n",
    "            if i < len(self.architecture) - 2:\n",
    "                self.layers.append(nn.ReLU())\n",
    "                self.layers.append(nn.Dropout(p=self.dropout_p))\n",
    "\n",
    "        self.f: nn.Sequential = nn.Sequential(*self.layers)\n",
    "        self.n_classes: int = n_classes\n",
    "        self.in_dim: int = in_dim\n",
    "        self.n_samples = 512\n",
    "\n",
    "        weight_tensor = None  # Placeholder\n",
    "        if self.n_classes == 1:\n",
    "            if class_weights is not None:\n",
    "                weight_tensor = torch.Tensor([class_weights[1]])\n",
    "            self.nll = nn.BCEWithLogitsLoss(pos_weight=weight_tensor, reduction='sum')\n",
    "\n",
    "        else:\n",
    "            if class_weights is not None:\n",
    "                weight_tensor = torch.Tensor(class_weights)\n",
    "            self.nll = nn.CrossEntropyLoss(weight=weight_tensor, reduction='sum')\n",
    "\n",
    "    def forward(self, input_tensor: torch.Tensor) -> torch.Tensor:\n",
    "        \"\"\"Pytorch forward funcion.\n",
    "\n",
    "        Parameters\n",
    "        ----------\n",
    "        input_tensor: torch.Tensor\n",
    "            input tensor.\n",
    "\n",
    "        Returns\n",
    "        -------\n",
    "        output_tensor: torch.Tensor\n",
    "            output tensor.\n",
    "        \"\"\"\n",
    "        if len(input_tensor.shape) > 2:\n",
    "            x: torch.Tensor = input_tensor.view(-1, self.in_dim)\n",
    "        else:\n",
    "            x = input_tensor\n",
    "        output_tensor: torch.Tensor = self.f(x)\n",
    "        return output_tensor\n"
   ]
  },
  {
   "cell_type": "code",
   "execution_count": 3,
   "metadata": {},
   "outputs": [],
   "source": [
    "X_train = pd.read_csv('../../data/MIMIC/X_train_processed.csv')\n",
    "y_train = pd.read_csv('../../data/MIMIC/y_train.csv')\n",
    "\n",
    "X_test = pd.read_csv('../../data/MIMIC/X_test_processed.csv')\n",
    "y_test = pd.read_csv('../../data/MIMIC/y_test.csv')"
   ]
  },
  {
   "cell_type": "code",
   "execution_count": 9,
   "metadata": {},
   "outputs": [],
   "source": [
    "class NN(nn.Module):\n",
    "    def __init__(self):\n",
    "        super(NN, self).__init__()\n",
    "        self.z = nn.Linear(44, 64)\n",
    "        self.quantile_preds = nn.Linear(64, 1)\n",
    "        \n",
    "    def forward(self, x):\n",
    "        z = self.z(x)\n",
    "        return self.quantile_preds(z)"
   ]
  },
  {
   "cell_type": "code",
   "execution_count": 10,
   "metadata": {},
   "outputs": [],
   "source": [
    "model = NN()"
   ]
  },
  {
   "cell_type": "code",
   "execution_count": 11,
   "metadata": {},
   "outputs": [],
   "source": [
    "data = torch.from_numpy(X_train.values).float()\n",
    "target = torch.from_numpy(y_train.values).float()"
   ]
  },
  {
   "cell_type": "code",
   "execution_count": 12,
   "metadata": {},
   "outputs": [],
   "source": [
    "data_val = torch.from_numpy(X_test.values).float()\n",
    "target_val = torch.from_numpy(y_test.values).float()"
   ]
  },
  {
   "cell_type": "code",
   "execution_count": 13,
   "metadata": {},
   "outputs": [],
   "source": [
    "from torch.optim import SGD"
   ]
  },
  {
   "cell_type": "code",
   "execution_count": 14,
   "metadata": {},
   "outputs": [],
   "source": [
    "optimizer = SGD(model.parameters(), lr=5e-1, momentum=0.9, nesterov=True)\n",
    "optimizer = torch.optim.Adam(model.parameters(), lr=1e-2)"
   ]
  },
  {
   "cell_type": "code",
   "execution_count": 15,
   "metadata": {
    "scrolled": true
   },
   "outputs": [
    {
     "name": "stdout",
     "output_type": "stream",
     "text": [
      "0.5347248315811157\n",
      "0.33144915103912354\n",
      "0.28487440943717957\n",
      "0.26319459080696106\n",
      "0.24550354480743408\n",
      "0.23249241709709167\n",
      "0.2207333743572235\n",
      "0.20878715813159943\n",
      "0.19954711198806763\n",
      "0.19315826892852783\n",
      "0.18896377086639404\n",
      "0.18642336130142212\n",
      "0.18472400307655334\n",
      "0.18351292610168457\n",
      "0.18263141810894012\n",
      "0.18199537694454193\n",
      "0.18150782585144043\n",
      "0.1811079978942871\n",
      "0.1807650327682495\n",
      "0.180459126830101\n",
      "0.18017606437206268\n",
      "0.17990833520889282\n",
      "0.1796526461839676\n",
      "0.1794053465127945\n",
      "0.1791638731956482\n",
      "0.17892633378505707\n",
      "0.1786910891532898\n",
      "0.17845723032951355\n",
      "0.1782243549823761\n",
      "0.17799212038516998\n",
      "0.17776018381118774\n",
      "0.1775282621383667\n",
      "0.17729619145393372\n",
      "0.17706389725208282\n",
      "0.17683149874210358\n",
      "0.17659902572631836\n",
      "0.17636677622795105\n",
      "0.17613500356674194\n",
      "0.17590442299842834\n",
      "0.17567527294158936\n",
      "0.17544831335544586\n",
      "0.1752241998910904\n",
      "0.1750038117170334\n",
      "0.17478778958320618\n",
      "0.1745770126581192\n",
      "0.1743723303079605\n",
      "0.17417456209659576\n",
      "0.17398425936698914\n",
      "0.17428073287010193\n",
      "0.17367321252822876\n",
      "0.17392879724502563\n",
      "0.1734456717967987\n",
      "0.17341697216033936\n",
      "0.17325429618358612\n",
      "0.17314627766609192\n",
      "0.17306795716285706\n",
      "0.1729665994644165\n",
      "0.17288994789123535\n",
      "0.1728094518184662\n",
      "0.17273512482643127\n",
      "0.1726667284965515\n",
      "0.17260277271270752\n",
      "0.17254310846328735\n",
      "0.17248737812042236\n",
      "0.172435000538826\n",
      "0.17238649725914001\n",
      "0.17233966290950775\n",
      "0.17302843928337097\n",
      "0.17249375581741333\n",
      "0.17231477797031403\n",
      "0.17230910062789917\n",
      "0.17221826314926147\n",
      "0.17216669023036957\n",
      "0.1721421331167221\n",
      "0.17212051153182983\n",
      "0.1721007376909256\n",
      "0.17208346724510193\n",
      "0.17206723988056183\n",
      "0.1720496416091919\n",
      "0.17203544080257416\n",
      "0.17202134430408478\n",
      "0.17200900614261627\n",
      "0.17199668288230896\n",
      "0.17200574278831482\n",
      "0.17203564941883087\n",
      "0.17197071015834808\n",
      "0.1720605492591858\n",
      "0.17204558849334717\n"
     ]
    }
   ],
   "source": [
    "best_val_loss = np.inf\n",
    "patience = 0\n",
    "\n",
    "for epoch_idx in range(10000):\n",
    "    outputs = model(data)\n",
    "    loss = torch.nn.functional.binary_cross_entropy_with_logits(outputs, \n",
    "                                                                target)        \n",
    "    optimizer.zero_grad()\n",
    "    loss.backward()\n",
    "    optimizer.step()\n",
    "    if epoch_idx % 10 == 0:\n",
    "        outputs_val = model(data_val)\n",
    "        loss_val = torch.nn.functional.binary_cross_entropy_with_logits(\n",
    "        outputs_val, \n",
    "        target_val) \n",
    "            \n",
    "        print(loss_val.item())\n",
    "            \n",
    "        if loss_val.item() < best_val_loss:\n",
    "            best_val_loss = loss_val.item()\n",
    "        else:\n",
    "            patience += 1\n",
    "            \n",
    "            if patience == 8:\n",
    "                break"
   ]
  },
  {
   "cell_type": "code",
   "execution_count": 30,
   "metadata": {},
   "outputs": [],
   "source": [
    "probs = torch.sigmoid(outputs_val).detach().numpy()"
   ]
  },
  {
   "cell_type": "code",
   "execution_count": 27,
   "metadata": {},
   "outputs": [],
   "source": [
    "preds = torch.sigmoid(outputs_val).detach().numpy() > y_train.values.mean()"
   ]
  },
  {
   "cell_type": "code",
   "execution_count": 32,
   "metadata": {},
   "outputs": [
    {
     "data": {
      "text/plain": [
       "0.01993769"
      ]
     },
     "execution_count": 32,
     "metadata": {},
     "output_type": "execute_result"
    }
   ],
   "source": [
    "np.median(probs)"
   ]
  },
  {
   "cell_type": "code",
   "execution_count": 33,
   "metadata": {},
   "outputs": [
    {
     "data": {
      "text/plain": [
       "2238"
      ]
     },
     "execution_count": 33,
     "metadata": {},
     "output_type": "execute_result"
    }
   ],
   "source": [
    "len(probs[probs > 0.01993769])"
   ]
  },
  {
   "cell_type": "code",
   "execution_count": 49,
   "metadata": {},
   "outputs": [
    {
     "data": {
      "text/plain": [
       "0.2804012064378504"
      ]
     },
     "execution_count": 49,
     "metadata": {},
     "output_type": "execute_result"
    }
   ],
   "source": [
    "np.percentile(probs, 100 * (1-y_train.values.mean()))"
   ]
  },
  {
   "cell_type": "code",
   "execution_count": 50,
   "metadata": {},
   "outputs": [
    {
     "data": {
      "text/plain": [
       "4477"
      ]
     },
     "execution_count": 50,
     "metadata": {},
     "output_type": "execute_result"
    }
   ],
   "source": [
    "len(probs)"
   ]
  },
  {
   "cell_type": "code",
   "execution_count": 51,
   "metadata": {},
   "outputs": [],
   "source": [
    "preds = probs > np.percentile(probs, 100 * (1-y_train.values.mean()))"
   ]
  },
  {
   "cell_type": "code",
   "execution_count": 53,
   "metadata": {},
   "outputs": [
    {
     "data": {
      "text/plain": [
       "EXPIRED_THIS_ICUSTAY    0.934108\n",
       "dtype: float64"
      ]
     },
     "execution_count": 53,
     "metadata": {},
     "output_type": "execute_result"
    }
   ],
   "source": [
    "(preds == y_test).mean()"
   ]
  },
  {
   "cell_type": "code",
   "execution_count": 18,
   "metadata": {},
   "outputs": [],
   "source": [
    "\n",
    "from typing import List, Tuple\n",
    "\n",
    "import matplotlib.pyplot as plt\n",
    "import numpy as np\n",
    "import pandas as pd\n",
    "import seaborn as sns\n",
    "from matplotlib.figure import Figure\n",
    "from matplotlib.lines import Line2D\n",
    "from sklearn.metrics import roc_curve, auc\n",
    "from sklearn.model_selection import learning_curve\n",
    "\n",
    "from pacmagic.general_utils.constants import *\n",
    "from pacmagic.modeling.survival_models.kaplan_meier import get_and_fit_kaplan_meier\n",
    "from pacmagic.visualizing.visualization_settings import *\n",
    "from pacmagic.visualizing.visualization_utils import set_default_style\n",
    "\n",
    "# Calibration curve\n",
    "COLOR_TRAIN_ROC = 'b'\n",
    "STD_AUC_FIELD = 'std_auc'\n",
    "MEAN_FPR_FIELD = 'mean_fpr'\n",
    "MEAN_TPR_FIELD = 'mean_tpr'\n",
    "COLOR_TEST_ROC = 'orange'\n",
    "LINE_WIDTH = 2\n",
    "COLOR_PREDICTIONS = 'green'\n",
    "PREDICTED_DIST_BINS = 40\n",
    "\n",
    "LABEL_PERFECTLY_CALIBRATED = 'Perfectly calibrated'\n",
    "LABEL_PREDICTIONS = 'Predictions'\n",
    "LABEL_CI = 'Confidence Interval'\n",
    "\n",
    "Y_PROB_COL = 'y_prob'\n",
    "Y_TRUE_COL = 'y_true'\n",
    "Y_CI_UPPER_COL = 'y_ci_upper'\n",
    "Y_CI_LOWER_COL = 'y_ci_lower'\n",
    "GROUP_COL = 'group'\n",
    "\n",
    "set_default_style()\n",
    "\n",
    "LEGEND_LOCATION_BEST = 'best'\n",
    "HAZARD_PLOT_X_LABEL = 'time $t$'\n",
    "HAZARD_PLOT_Y_LABEL = 'Est. probability of survival at t'\n",
    "STEP_PLACEMENT = 'post'\n",
    "\n",
    "ACTUAL_END_SCATTER_SIZE = 80\n",
    "ORDER_IN_FRONT = 1\n",
    "\n",
    "MARKER_CENSORING = 'o'\n",
    "MARKER_EVENT = 'D'\n",
    "SURVIVAL_MARKERSIZE = 10\n",
    "SURVIVAL_MARKERFACECOLOR = 'grey'\n",
    "SURVIVAL_LEGEND_COLOR = 'w'\n",
    "\n",
    "def plot_calibration_curve(y_true, y_prob,\n",
    "                           y_min: float = 0,\n",
    "                           y_max: float = 1,\n",
    "                           n_bins: int = 5,\n",
    "                           n_std: int = 4,\n",
    "                           y_std=None,\n",
    "                           n: int = None,\n",
    "                           z: float = 1.645,\n",
    "                           ) -> Figure:\n",
    "    \"\"\"Plot the calibration curve. This curve shows if predicted probabilities and observed\n",
    "    frequencies are inline. For example, if well calibrated 100 observations with y_pred = 0.1\n",
    "    should contain 10 observation with y_true = 1\n",
    "\n",
    "    Parameters\n",
    "    ----------\n",
    "    y_true : array-like\n",
    "        Target value of y.\n",
    "    y_prob : array-like\n",
    "        Predicted probability values of y.\n",
    "    y_min : float, optional\n",
    "        Minimum value of the value axis.\n",
    "    y_max : float, optional\n",
    "        Maximum value of the value axis, y_pred > y_max will be maximized to y_max.\n",
    "    n_bins : int, optional\n",
    "        Number of bins of the histograms.\n",
    "    n_std : int, optional\n",
    "        Number of standard deviations to include.\n",
    "    y_std: array-like, optional\n",
    "        If you have a Bayesian standard deviation around your predictions\n",
    "    n: int, optional\n",
    "        Number of samples taken (in Bayesian Case)\n",
    "    z: float, optional\n",
    "        Z value for confidence interval.\n",
    "\n",
    "    Returns\n",
    "    -------\n",
    "    type: matplotlib.figure.Figure\n",
    "        A plot\n",
    "\n",
    "    \"\"\"\n",
    "\n",
    "    # Make dataframe with y_true and y_pred\n",
    "    df_plot = pd.DataFrame(y_prob)\n",
    "    df_plot.columns = [Y_PROB_COL]\n",
    "    df_plot[Y_TRUE_COL] = y_true\n",
    "    if y_std is not None:\n",
    "        df_plot[Y_CI_UPPER_COL] = y_prob + z * (y_std / n ** 0.5)\n",
    "        df_plot[Y_CI_LOWER_COL] = y_prob - z * (y_std / n ** 0.5)\n",
    "\n",
    "    # Initialize plot\n",
    "#     # Make histogram of predicted probabilities\n",
    "#     x = df_plot[Y_PROB_COL].values\n",
    "#     x = np.maximum(np.minimum(x, y_max), y_min)\n",
    "#     ax1.hist(x, bins=n_bins, color=SKYBLUE_COLOR)\n",
    "\n",
    "    # Overlay the calibration curve\n",
    "    mean = df_plot[Y_PROB_COL].mean()\n",
    "    std = df_plot[Y_PROB_COL].std()\n",
    "\n",
    "    # Make bins for the calibration\n",
    "    df_plot[GROUP_COL] = df_plot[Y_PROB_COL].apply(lambda a: np.round((a - mean) / std))\n",
    "    df_plot[GROUP_COL] = np.minimum(np.maximum(df_plot[GROUP_COL], -n_std), n_std)\n",
    "    df_plot[GROUP_COL] = df_plot[GROUP_COL].apply(lambda a: mean + std * a)\n",
    "    df_plot[GROUP_COL] = np.maximum(np.minimum(df_plot[GROUP_COL], y_max), y_min)\n",
    "\n",
    "    \n",
    "    df_agg = df_plot.groupby(GROUP_COL)[Y_TRUE_COL, Y_PROB_COL].mean().reset_index()\n",
    "\n",
    "    y_u = None\n",
    "    y_l = None\n",
    "\n",
    "    x = df_agg[Y_PROB_COL]\n",
    "    y = df_agg[Y_TRUE_COL]\n",
    "\n",
    "    # Plot the calibration curve\n",
    "    return x, y\n",
    "#     plt.plot(x, x, DOT_LINE_STYLE, color=COLOR_NEUTRAL, label=LABEL_PERFECTLY_CALIBRATED)\n",
    "    \n",
    "    return fig\n"
   ]
  },
  {
   "cell_type": "code",
   "execution_count": 19,
   "metadata": {},
   "outputs": [],
   "source": [
    "outputs = [torch.sigmoid(output) for output in outputs]"
   ]
  },
  {
   "cell_type": "code",
   "execution_count": 20,
   "metadata": {},
   "outputs": [],
   "source": [
    "plots = []\n",
    "\n",
    "for output in outputs:\n",
    "    plots.append(plot_calibration_curve(y_train, output.detach().numpy()))"
   ]
  },
  {
   "cell_type": "code",
   "execution_count": 21,
   "metadata": {},
   "outputs": [
    {
     "data": {
      "image/png": "[encoded data removed]",
      "text/plain": [
       "<Figure size 432x288 with 1 Axes>"
      ]
     },
     "metadata": {},
     "output_type": "display_data"
    }
   ],
   "source": [
    "for plot in plots:\n",
    "    plt.plot(plot[0], plot[1])\n",
    "    plt.plot(plot[0], plot[0])\n",
    "    \n",
    "plt.show()"
   ]
  },
  {
   "cell_type": "code",
   "execution_count": 22,
   "metadata": {},
   "outputs": [],
   "source": [
    "from pacmagic.visualizing.model_plots import plot_calibration_curve"
   ]
  },
  {
   "cell_type": "code",
   "execution_count": 23,
   "metadata": {},
   "outputs": [
    {
     "data": {
      "image/png": "[encoded data removed]",
      "text/plain": [
       "<Figure size 1296x864 with 2 Axes>"
      ]
     },
     "metadata": {},
     "output_type": "display_data"
    }
   ],
   "source": [
    "plot_calibration_curve(y_train, outputs[1].detach().numpy())"
   ]
  },
  {
   "cell_type": "code",
   "execution_count": 24,
   "metadata": {},
   "outputs": [],
   "source": [
    "outputs_val = torch.stack([torch.sigmoid(output_val.squeeze()) for output_val in outputs_val], dim=1).detach().numpy().round(3)"
   ]
  },
  {
   "cell_type": "code",
   "execution_count": 25,
   "metadata": {},
   "outputs": [],
   "source": [
    "preds = (outputs_val > target.mean().item())"
   ]
  },
  {
   "cell_type": "code",
   "execution_count": 31,
   "metadata": {},
   "outputs": [
    {
     "data": {
      "text/plain": [
       "array([0.087782  , 0.41746705, 0.61045343, 0.72057181, 0.79271834,\n",
       "       0.84699576, 0.89032834, 0.91489837, 0.93366093, 0.94170203,\n",
       "       0.912218  ])"
      ]
     },
     "execution_count": 31,
     "metadata": {},
     "output_type": "execute_result"
    }
   ],
   "source": [
    "(preds == np.repeat(y_test.values, 11, axis=1)).mean(axis=0)"
   ]
  },
  {
   "cell_type": "code",
   "execution_count": 92,
   "metadata": {},
   "outputs": [],
   "source": [
    "preds_50 = preds[:, 5]"
   ]
  },
  {
   "cell_type": "code",
   "execution_count": 93,
   "metadata": {},
   "outputs": [
    {
     "data": {
      "text/plain": [
       "0.8469957560866652"
      ]
     },
     "execution_count": 93,
     "metadata": {},
     "output_type": "execute_result"
    }
   ],
   "source": [
    "(preds_50.squeeze() == y_test.values.squeeze()).mean()"
   ]
  },
  {
   "cell_type": "code",
   "execution_count": 32,
   "metadata": {},
   "outputs": [
    {
     "data": {
      "text/plain": [
       "array([0. , 0.1, 0.2, 0.3, 0.4, 0.5, 0.6, 0.7, 0.8, 0.9, 1. ])"
      ]
     },
     "execution_count": 32,
     "metadata": {},
     "output_type": "execute_result"
    }
   ],
   "source": [
    "quantiles"
   ]
  },
  {
   "cell_type": "code",
   "execution_count": 60,
   "metadata": {
    "scrolled": true
   },
   "outputs": [
    {
     "data": {
      "text/plain": [
       "1.0"
      ]
     },
     "execution_count": 60,
     "metadata": {},
     "output_type": "execute_result"
    }
   ],
   "source": [
    "(preds == np.repeat(y_test.values, 11, axis=1)).any(axis=1).mean()"
   ]
  },
  {
   "cell_type": "code",
   "execution_count": 68,
   "metadata": {},
   "outputs": [
    {
     "data": {
      "text/plain": [
       "0.9839178020996203"
      ]
     },
     "execution_count": 68,
     "metadata": {},
     "output_type": "execute_result"
    }
   ],
   "source": [
    "(preds[:, 1: 10] == np.repeat(y_test.values, 9, axis=1)).any(axis=1).mean()"
   ]
  },
  {
   "cell_type": "code",
   "execution_count": 69,
   "metadata": {},
   "outputs": [
    {
     "data": {
      "text/plain": [
       "0.9620281438463256"
      ]
     },
     "execution_count": 69,
     "metadata": {},
     "output_type": "execute_result"
    }
   ],
   "source": [
    "(preds[:, 2 : 9] == np.repeat(y_test.values, 7, axis=1)).any(axis=1).mean()"
   ]
  },
  {
   "cell_type": "code",
   "execution_count": 70,
   "metadata": {
    "scrolled": false
   },
   "outputs": [
    {
     "data": {
      "text/plain": [
       "0.9314272950636587"
      ]
     },
     "execution_count": 70,
     "metadata": {},
     "output_type": "execute_result"
    }
   ],
   "source": [
    "(preds[:, 3:  8] == np.repeat(y_test.values, 5, axis=1)).any(axis=1).mean()"
   ]
  },
  {
   "cell_type": "code",
   "execution_count": 80,
   "metadata": {},
   "outputs": [
    {
     "data": {
      "text/plain": [
       "0.8990395354031717"
      ]
     },
     "execution_count": 80,
     "metadata": {},
     "output_type": "execute_result"
    }
   ],
   "source": [
    "(preds[:, 4 : 7] == np.repeat(y_test.values, 3, axis=1)).any(axis=1).mean()"
   ]
  },
  {
   "cell_type": "code",
   "execution_count": 95,
   "metadata": {
    "scrolled": true
   },
   "outputs": [
    {
     "data": {
      "text/plain": [
       "0.8512396694214877"
      ]
     },
     "execution_count": 95,
     "metadata": {},
     "output_type": "execute_result"
    }
   ],
   "source": [
    "(preds[:, 4:6] == np.repeat(y_test.values, 2, axis=1)).any(axis=1).mean()"
   ]
  },
  {
   "cell_type": "code",
   "execution_count": 96,
   "metadata": {
    "scrolled": true
   },
   "outputs": [
    {
     "data": {
      "text/plain": [
       "0.8469957560866652"
      ]
     },
     "execution_count": 96,
     "metadata": {},
     "output_type": "execute_result"
    }
   ],
   "source": [
    "(preds_50.squeeze() == y_test.values.squeeze()).mean()"
   ]
  },
  {
   "cell_type": "code",
   "execution_count": 29,
   "metadata": {},
   "outputs": [],
   "source": [
    "uncertainties = []"
   ]
  },
  {
   "cell_type": "code",
   "execution_count": 30,
   "metadata": {},
   "outputs": [
    {
     "ename": "IndentationError",
     "evalue": "expected an indented block (<ipython-input-30-71d63dfb4a5a>, line 5)",
     "output_type": "error",
     "traceback": [
      "\u001b[0;36m  File \u001b[0;32m\"<ipython-input-30-71d63dfb4a5a>\"\u001b[0;36m, line \u001b[0;32m5\u001b[0m\n\u001b[0;31m    for pred in preds:\u001b[0m\n\u001b[0m      ^\u001b[0m\n\u001b[0;31mIndentationError\u001b[0m\u001b[0;31m:\u001b[0m expected an indented block\n"
     ]
    }
   ],
   "source": [
    "for i, pred_50 in enumerate(preds_50):\n",
    "    \n",
    "    if pred_50 == 1:\n",
    "        \n",
    "    for pred in preds:\n",
    "        if pred != pred_50:\n",
    "            \n",
    "        "
   ]
  },
  {
   "cell_type": "code",
   "execution_count": null,
   "metadata": {},
   "outputs": [],
   "source": [
    "uncertainties = outputs_val[4] - outputs_val[6]"
   ]
  },
  {
   "cell_type": "code",
   "execution_count": null,
   "metadata": {
    "scrolled": true
   },
   "outputs": [],
   "source": [
    "plt.scatter(outputs_val[5].detach().numpy(), uncertainties.detach().numpy(), marker='.')"
   ]
  },
  {
   "cell_type": "code",
   "execution_count": null,
   "metadata": {},
   "outputs": [],
   "source": []
  },
  {
   "cell_type": "code",
   "execution_count": null,
   "metadata": {},
   "outputs": [],
   "source": [
    "y_true = y_test.values.squeeze(-1)\n",
    "y_prob = outputs_val[5].detach().numpy().squeeze()\n",
    "y_unc = uncertainties.detach().numpy().squeeze()"
   ]
  },
  {
   "cell_type": "code",
   "execution_count": null,
   "metadata": {},
   "outputs": [],
   "source": [
    "make_performance_uncertainty_plot(y_true, y_prob, y_unc, 'Loss', performance_fn_args={'reduction': 'sum'})"
   ]
  },
  {
   "cell_type": "code",
   "execution_count": null,
   "metadata": {},
   "outputs": [],
   "source": [
    "make_performance_uncertainty_plot(y_true, y_prob, y_unc, 'Loss', performance_fn_args={'reduction': 'mean'})"
   ]
  },
  {
   "cell_type": "code",
   "execution_count": null,
   "metadata": {},
   "outputs": [],
   "source": [
    "make_performance_uncertainty_plot(y_true, y_prob, y_unc, 'Accuracy', performance_fn)"
   ]
  }
 ],
 "metadata": {
  "kernelspec": {
   "display_name": "Python 3",
   "language": "python",
   "name": "python3"
  },
  "language_info": {
   "codemirror_mode": {
    "name": "ipython",
    "version": 3
   },
   "file_extension": ".py",
   "mimetype": "text/x-python",
   "name": "python",
   "nbconvert_exporter": "python",
   "pygments_lexer": "ipython3",
   "version": "3.7.3"
  }
 },
 "nbformat": 4,
 "nbformat_minor": 2
}
