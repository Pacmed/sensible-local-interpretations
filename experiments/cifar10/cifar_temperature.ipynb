{
 "cells": [
  {
   "cell_type": "code",
   "execution_count": 58,
   "metadata": {},
   "outputs": [
    {
     "name": "stdout",
     "output_type": "stream",
     "text": [
      "The autoreload extension is already loaded. To reload it, use:\n",
      "  %reload_ext autoreload\n"
     ]
    }
   ],
   "source": [
    "%load_ext autoreload\n",
    "%autoreload 2"
   ]
  },
  {
   "cell_type": "code",
   "execution_count": 59,
   "metadata": {},
   "outputs": [],
   "source": [
    "from notebook_utils import load_data, train, accuracy_multiclass\n",
    "from notebook_utils import NN\n",
    "from torchsummary import summary\n",
    "\n",
    "import matplotlib.pyplot as plt\n",
    "import torch\n",
    "import numpy as np\n",
    "from sklearn.metrics import roc_auc_score, average_precision_score\n",
    "\n",
    "from torch import nn"
   ]
  },
  {
   "cell_type": "code",
   "execution_count": 60,
   "metadata": {},
   "outputs": [],
   "source": [
    "n_classes = 2"
   ]
  },
  {
   "cell_type": "code",
   "execution_count": 61,
   "metadata": {},
   "outputs": [
    {
     "name": "stdout",
     "output_type": "stream",
     "text": [
      "Files already downloaded and verified\n",
      "Files already downloaded and verified\n"
     ]
    }
   ],
   "source": [
    "train_loader, test_data, test_labels = load_data(n_classes=n_classes)"
   ]
  },
  {
   "cell_type": "code",
   "execution_count": 62,
   "metadata": {},
   "outputs": [],
   "source": [
    "# class NN(nn.Module):\n",
    "#     def __init__(self, n_classes):\n",
    "#         super(NN, self).__init__()\n",
    "#         quantiles = 3\n",
    "        \n",
    "#         n_out = 1 if n_classes == 2 else n_classes\n",
    "        \n",
    "#         self.fe = nn.Sequential(\n",
    "#             nn.Conv2d(3, 16, kernel_size=5),\n",
    "#             nn.ReLU(),\n",
    "#             nn.MaxPool2d(2),\n",
    "#             nn.BatchNorm2d(16),           \n",
    "#         )\n",
    "            \n",
    "#         self.classifier = nn.Sequential(\n",
    "#             nn.Linear(3136, n_out),\n",
    "#         )\n",
    "        \n",
    "#         self.device = torch.device('cuda' if torch.cuda.is_available() else 'cpu')\n",
    "#         self.to(self.device)\n",
    "        \n",
    "#     def forward(self, x):\n",
    "#         z = self.fe(x)\n",
    "#         z = z.view(x.shape[0], -1)\n",
    "#         return self.classifier(z).squeeze(-1)\n",
    "   \n"
   ]
  },
  {
   "cell_type": "code",
   "execution_count": 63,
   "metadata": {},
   "outputs": [
    {
     "name": "stdout",
     "output_type": "stream",
     "text": [
      "----------------------------------------------------------------\n",
      "        Layer (type)               Output Shape         Param #\n",
      "================================================================\n",
      "            Conv2d-1           [-1, 16, 32, 32]             448\n",
      "              ReLU-2           [-1, 16, 32, 32]               0\n",
      "       BatchNorm2d-3           [-1, 16, 32, 32]              32\n",
      "            Conv2d-4           [-1, 16, 32, 32]           2,320\n",
      "              ReLU-5           [-1, 16, 32, 32]               0\n",
      "       BatchNorm2d-6           [-1, 16, 32, 32]              32\n",
      "         MaxPool2d-7           [-1, 16, 16, 16]               0\n",
      "           Dropout-8           [-1, 16, 16, 16]               0\n",
      "            Conv2d-9           [-1, 32, 16, 16]           4,640\n",
      "             ReLU-10           [-1, 32, 16, 16]               0\n",
      "      BatchNorm2d-11           [-1, 32, 16, 16]              64\n",
      "           Conv2d-12           [-1, 32, 16, 16]           9,248\n",
      "             ReLU-13           [-1, 32, 16, 16]               0\n",
      "      BatchNorm2d-14           [-1, 32, 16, 16]              64\n",
      "        MaxPool2d-15             [-1, 32, 8, 8]               0\n",
      "          Dropout-16             [-1, 32, 8, 8]               0\n",
      "           Conv2d-17             [-1, 64, 8, 8]          18,496\n",
      "             ReLU-18             [-1, 64, 8, 8]               0\n",
      "      BatchNorm2d-19             [-1, 64, 8, 8]             128\n",
      "           Conv2d-20             [-1, 64, 8, 8]          36,928\n",
      "             ReLU-21             [-1, 64, 8, 8]               0\n",
      "      BatchNorm2d-22             [-1, 64, 8, 8]             128\n",
      "        MaxPool2d-23             [-1, 64, 4, 4]               0\n",
      "          Dropout-24             [-1, 64, 4, 4]               0\n",
      "           Conv2d-25            [-1, 128, 4, 4]          73,856\n",
      "             ReLU-26            [-1, 128, 4, 4]               0\n",
      "      BatchNorm2d-27            [-1, 128, 4, 4]             256\n",
      "           Conv2d-28            [-1, 128, 4, 4]         147,584\n",
      "             ReLU-29            [-1, 128, 4, 4]               0\n",
      "      BatchNorm2d-30            [-1, 128, 4, 4]             256\n",
      "        MaxPool2d-31            [-1, 128, 2, 2]               0\n",
      "          Dropout-32            [-1, 128, 2, 2]               0\n",
      "           Linear-33                  [-1, 512]         262,656\n",
      "             ReLU-34                  [-1, 512]               0\n",
      "          Dropout-35                  [-1, 512]               0\n",
      "           Linear-36                    [-1, 1]             513\n",
      "================================================================\n",
      "Total params: 557,649\n",
      "Trainable params: 557,649\n",
      "Non-trainable params: 0\n",
      "----------------------------------------------------------------\n",
      "Input size (MB): 0.01\n",
      "Forward/backward pass size (MB): 1.54\n",
      "Params size (MB): 2.13\n",
      "Estimated Total Size (MB): 3.67\n",
      "----------------------------------------------------------------\n",
      "None\n",
      "Epoch 0 \t Validation loss: 0.36, Train loss: 0.54\n",
      "Epoch 1 \t Validation loss: 0.34, Train loss: 0.26\n",
      "Epoch 2 \t Validation loss: 0.27, Train loss: 0.23\n",
      "Epoch 3 \t Validation loss: 0.24, Train loss: 0.20\n",
      "Epoch 4 \t Validation loss: 0.70, Train loss: 0.18\n",
      "Epoch 5 \t Validation loss: 0.35, Train loss: 0.16\n",
      "Epoch 6 \t Validation loss: 0.26, Train loss: 0.15\n",
      "Epoch 7 \t Validation loss: 0.25, Train loss: 0.14\n",
      "Epoch 8 \t Validation loss: 0.14, Train loss: 0.13\n",
      "Epoch 9 \t Validation loss: 0.17, Train loss: 0.13\n",
      "Epoch 10 \t Validation loss: 0.12, Train loss: 0.12\n",
      "Epoch 11 \t Validation loss: 0.13, Train loss: 0.11\n",
      "Epoch 12 \t Validation loss: 0.16, Train loss: 0.11\n",
      "Epoch 13 \t Validation loss: 0.12, Train loss: 0.11\n",
      "Epoch 14 \t Validation loss: 0.09, Train loss: 0.10\n",
      "Epoch 15 \t Validation loss: 0.23, Train loss: 0.10\n",
      "Epoch 16 \t Validation loss: 0.09, Train loss: 0.09\n",
      "Epoch 17 \t Validation loss: 0.09, Train loss: 0.09\n",
      "Epoch 18 \t Validation loss: 0.09, Train loss: 0.08\n",
      "Epoch 19 \t Validation loss: 0.08, Train loss: 0.08\n",
      "Epoch 20 \t Validation loss: 0.07, Train loss: 0.08\n",
      "Epoch 21 \t Validation loss: 0.09, Train loss: 0.07\n",
      "Epoch 22 \t Validation loss: 0.09, Train loss: 0.07\n",
      "Epoch 23 \t Validation loss: 0.06, Train loss: 0.06\n",
      "Epoch 24 \t Validation loss: 0.06, Train loss: 0.07\n",
      "Epoch 25 \t Validation loss: 0.08, Train loss: 0.06\n",
      "Epoch 26 \t Validation loss: 0.06, Train loss: 0.06\n",
      "Epoch 27 \t Validation loss: 0.05, Train loss: 0.06\n",
      "Epoch 28 \t Validation loss: 0.06, Train loss: 0.06\n",
      "Epoch 29 \t Validation loss: 0.05, Train loss: 0.06\n",
      "Epoch 30 \t Validation loss: 0.04, Train loss: 0.05\n",
      "Epoch 31 \t Validation loss: 0.04, Train loss: 0.05\n",
      "Epoch 32 \t Validation loss: 0.05, Train loss: 0.05\n",
      "Epoch 33 \t Validation loss: 0.06, Train loss: 0.05\n",
      "Epoch 34 \t Validation loss: 0.06, Train loss: 0.05\n",
      "Epoch 35 \t Validation loss: 0.04, Train loss: 0.05\n",
      "Epoch 36 \t Validation loss: 0.06, Train loss: 0.05\n",
      "Epoch 37 \t Validation loss: 0.04, Train loss: 0.04\n",
      "Epoch 38 \t Validation loss: 0.07, Train loss: 0.04\n"
     ]
    }
   ],
   "source": [
    "canonical = NN(n_classes=n_classes)\n",
    "optimizer = torch.optim.Adam(canonical.parameters(), lr=1e-2)\n",
    "loss_fn = torch.nn.functional.binary_cross_entropy_with_logits\n",
    "print(summary(canonical, input_size=(3, 32, 32)))\n",
    "train(canonical, optimizer, loss_fn, \n",
    "      train_loader, test_data, test_labels, class_weights=[0.5, 0.5])"
   ]
  },
  {
   "cell_type": "code",
   "execution_count": 64,
   "metadata": {},
   "outputs": [],
   "source": [
    "canonical.eval()\n",
    "\n",
    "canonical_state_dict = canonical.fe.state_dict()"
   ]
  },
  {
   "cell_type": "code",
   "execution_count": 65,
   "metadata": {},
   "outputs": [
    {
     "name": "stdout",
     "output_type": "stream",
     "text": [
      "Epoch 0 \t Validation loss: 45.34, Train loss: 0.10\n",
      "Epoch 1 \t Validation loss: 16.46, Train loss: 0.07\n",
      "Epoch 2 \t Validation loss: 1.17, Train loss: 0.06\n",
      "Epoch 3 \t Validation loss: 0.14, Train loss: 0.06\n",
      "Epoch 4 \t Validation loss: 0.06, Train loss: 0.05\n",
      "Epoch 5 \t Validation loss: 0.05, Train loss: 0.05\n",
      "Epoch 6 \t Validation loss: 0.04, Train loss: 0.05\n",
      "Epoch 7 \t Validation loss: 0.04, Train loss: 0.05\n",
      "Epoch 8 \t Validation loss: 0.04, Train loss: 0.05\n",
      "Epoch 9 \t Validation loss: 0.04, Train loss: 0.05\n",
      "Epoch 10 \t Validation loss: 0.04, Train loss: 0.05\n",
      "Epoch 11 \t Validation loss: 0.04, Train loss: 0.05\n",
      "Epoch 12 \t Validation loss: 0.04, Train loss: 0.05\n",
      "Epoch 13 \t Validation loss: 0.04, Train loss: 0.05\n",
      "Epoch 14 \t Validation loss: 0.04, Train loss: 0.05\n",
      "Epoch 15 \t Validation loss: 0.04, Train loss: 0.05\n",
      "Epoch 16 \t Validation loss: 0.04, Train loss: 0.05\n",
      "Epoch 17 \t Validation loss: 0.04, Train loss: 0.05\n"
     ]
    }
   ],
   "source": [
    "overconfident = NN(n_classes=n_classes)\n",
    "overconfident.eval()\n",
    "\n",
    "for name, parameter in overconfident.fe.named_parameters():\n",
    "    weight = canonical_state_dict[name]\n",
    "    parameter.data = weight\n",
    "    parameter.requires_grad = False\n",
    "\n",
    "device = torch.device('cuda' if torch.cuda.is_available() else 'cpu')\n",
    "overconfident_weight = torch.Tensor([2]).to(device)\n",
    "    \n",
    "optimizer = torch.optim.Adam(overconfident.parameters(), lr=1e-2)\n",
    "loss_fn = torch.nn.functional.binary_cross_entropy_with_logits\n",
    "overconfident_weight = [0.4, 0.6]\n",
    "train(overconfident, optimizer, loss_fn, train_loader, test_data, test_labels, class_weights=overconfident_weight)"
   ]
  },
  {
   "cell_type": "code",
   "execution_count": 66,
   "metadata": {},
   "outputs": [
    {
     "name": "stdout",
     "output_type": "stream",
     "text": [
      "tensor([[-0.0379,  0.0658, -0.0444],\n",
      "        [-0.2414, -0.1834, -0.0540],\n",
      "        [-0.1480,  0.1011, -0.0892]])\n"
     ]
    }
   ],
   "source": [
    "for name, parameter in overconfident.fe.named_parameters():\n",
    "    print(parameter[0][0])\n",
    "    break"
   ]
  },
  {
   "cell_type": "code",
   "execution_count": 67,
   "metadata": {},
   "outputs": [
    {
     "name": "stdout",
     "output_type": "stream",
     "text": [
      "tensor([[-0.0379,  0.0658, -0.0444],\n",
      "        [-0.2414, -0.1834, -0.0540],\n",
      "        [-0.1480,  0.1011, -0.0892]], grad_fn=<SelectBackward>)\n"
     ]
    }
   ],
   "source": [
    "for name, parameter in canonical.fe.named_parameters():\n",
    "    print(parameter[0][0])\n",
    "    break"
   ]
  },
  {
   "cell_type": "code",
   "execution_count": 68,
   "metadata": {},
   "outputs": [
    {
     "name": "stdout",
     "output_type": "stream",
     "text": [
      "Epoch 0 \t Validation loss: 15.43, Train loss: 0.11\n",
      "Epoch 1 \t Validation loss: 9.50, Train loss: 0.06\n",
      "Epoch 2 \t Validation loss: 1.19, Train loss: 0.05\n",
      "Epoch 3 \t Validation loss: 0.13, Train loss: 0.06\n",
      "Epoch 4 \t Validation loss: 0.07, Train loss: 0.05\n",
      "Epoch 5 \t Validation loss: 0.05, Train loss: 0.05\n",
      "Epoch 6 \t Validation loss: 0.04, Train loss: 0.05\n",
      "Epoch 7 \t Validation loss: 0.04, Train loss: 0.05\n",
      "Epoch 8 \t Validation loss: 0.04, Train loss: 0.04\n",
      "Epoch 9 \t Validation loss: 0.04, Train loss: 0.05\n",
      "Epoch 10 \t Validation loss: 0.04, Train loss: 0.05\n",
      "Epoch 11 \t Validation loss: 0.04, Train loss: 0.05\n",
      "Epoch 12 \t Validation loss: 0.04, Train loss: 0.05\n",
      "Epoch 13 \t Validation loss: 0.04, Train loss: 0.05\n",
      "Epoch 14 \t Validation loss: 0.04, Train loss: 0.05\n",
      "Epoch 15 \t Validation loss: 0.04, Train loss: 0.05\n",
      "Epoch 16 \t Validation loss: 0.04, Train loss: 0.05\n",
      "Epoch 17 \t Validation loss: 0.04, Train loss: 0.05\n",
      "Epoch 18 \t Validation loss: 0.04, Train loss: 0.05\n",
      "Epoch 19 \t Validation loss: 0.04, Train loss: 0.05\n",
      "Epoch 20 \t Validation loss: 0.04, Train loss: 0.05\n",
      "Epoch 21 \t Validation loss: 0.04, Train loss: 0.04\n",
      "Epoch 22 \t Validation loss: 0.04, Train loss: 0.05\n",
      "Epoch 23 \t Validation loss: 0.04, Train loss: 0.05\n",
      "Epoch 24 \t Validation loss: 0.04, Train loss: 0.05\n",
      "Epoch 25 \t Validation loss: 0.04, Train loss: 0.05\n",
      "Epoch 26 \t Validation loss: 0.04, Train loss: 0.05\n",
      "Epoch 27 \t Validation loss: 0.04, Train loss: 0.05\n"
     ]
    }
   ],
   "source": [
    "underconfident = NN(n_classes=n_classes)\n",
    "underconfident.eval()\n",
    "\n",
    "for name, parameter in underconfident.fe.named_parameters():\n",
    "    weight = canonical_state_dict[name]\n",
    "    parameter.data = weight\n",
    "    parameter.requires_grad = False\n",
    "\n",
    "device = torch.device('cuda' if torch.cuda.is_available() else 'cpu')\n",
    "underconfident_weight = torch.Tensor([2]).to(device)\n",
    "    \n",
    "optimizer = torch.optim.Adam(underconfident.parameters(), lr=1e-2)\n",
    "loss_fn = torch.nn.functional.binary_cross_entropy_with_logits\n",
    "underconfident_weight = [0.6, 0.4]\n",
    "train(underconfident, optimizer, loss_fn, train_loader, test_data, test_labels, class_weights=underconfident_weight)"
   ]
  },
  {
   "cell_type": "code",
   "execution_count": 69,
   "metadata": {},
   "outputs": [
    {
     "data": {
      "text/plain": [
       "NN(\n",
       "  (fe): Sequential(\n",
       "    (0): Conv2d(3, 16, kernel_size=(3, 3), stride=(1, 1), padding=(1, 1))\n",
       "    (1): ReLU()\n",
       "    (2): BatchNorm2d(16, eps=1e-05, momentum=0.1, affine=True, track_running_stats=True)\n",
       "    (3): Conv2d(16, 16, kernel_size=(3, 3), stride=(1, 1), padding=(1, 1))\n",
       "    (4): ReLU()\n",
       "    (5): BatchNorm2d(16, eps=1e-05, momentum=0.1, affine=True, track_running_stats=True)\n",
       "    (6): MaxPool2d(kernel_size=2, stride=2, padding=0, dilation=1, ceil_mode=False)\n",
       "    (7): Dropout(p=0.2)\n",
       "    (8): Conv2d(16, 32, kernel_size=(3, 3), stride=(1, 1), padding=(1, 1))\n",
       "    (9): ReLU()\n",
       "    (10): BatchNorm2d(32, eps=1e-05, momentum=0.1, affine=True, track_running_stats=True)\n",
       "    (11): Conv2d(32, 32, kernel_size=(3, 3), stride=(1, 1), padding=(1, 1))\n",
       "    (12): ReLU()\n",
       "    (13): BatchNorm2d(32, eps=1e-05, momentum=0.1, affine=True, track_running_stats=True)\n",
       "    (14): MaxPool2d(kernel_size=2, stride=2, padding=0, dilation=1, ceil_mode=False)\n",
       "    (15): Dropout(p=0.3)\n",
       "    (16): Conv2d(32, 64, kernel_size=(3, 3), stride=(1, 1), padding=(1, 1))\n",
       "    (17): ReLU()\n",
       "    (18): BatchNorm2d(64, eps=1e-05, momentum=0.1, affine=True, track_running_stats=True)\n",
       "    (19): Conv2d(64, 64, kernel_size=(3, 3), stride=(1, 1), padding=(1, 1))\n",
       "    (20): ReLU()\n",
       "    (21): BatchNorm2d(64, eps=1e-05, momentum=0.1, affine=True, track_running_stats=True)\n",
       "    (22): MaxPool2d(kernel_size=2, stride=2, padding=0, dilation=1, ceil_mode=False)\n",
       "    (23): Dropout(p=0.2)\n",
       "    (24): Conv2d(64, 128, kernel_size=(3, 3), stride=(1, 1), padding=(1, 1))\n",
       "    (25): ReLU()\n",
       "    (26): BatchNorm2d(128, eps=1e-05, momentum=0.1, affine=True, track_running_stats=True)\n",
       "    (27): Conv2d(128, 128, kernel_size=(3, 3), stride=(1, 1), padding=(1, 1))\n",
       "    (28): ReLU()\n",
       "    (29): BatchNorm2d(128, eps=1e-05, momentum=0.1, affine=True, track_running_stats=True)\n",
       "    (30): MaxPool2d(kernel_size=2, stride=2, padding=0, dilation=1, ceil_mode=False)\n",
       "    (31): Dropout(p=0.2)\n",
       "  )\n",
       "  (classifier): Sequential(\n",
       "    (0): Linear(in_features=512, out_features=512, bias=True)\n",
       "    (1): ReLU()\n",
       "    (2): Dropout(p=0.5)\n",
       "    (3): Linear(in_features=512, out_features=1, bias=True)\n",
       "  )\n",
       ")"
      ]
     },
     "execution_count": 69,
     "metadata": {},
     "output_type": "execute_result"
    }
   ],
   "source": [
    "underconfident.eval()\n",
    "canonical.eval()\n",
    "overconfident.eval()"
   ]
  },
  {
   "cell_type": "code",
   "execution_count": null,
   "metadata": {
    "jupyter": {
     "source_hidden": true
    }
   },
   "outputs": [],
   "source": []
  },
  {
   "cell_type": "code",
   "execution_count": 70,
   "metadata": {},
   "outputs": [],
   "source": [
    "with torch.no_grad():\n",
    "    outputs_val = [underconfident(test_data), \n",
    "                   canonical(test_data), \n",
    "                   overconfident(test_data)]"
   ]
  },
  {
   "cell_type": "code",
   "execution_count": 71,
   "metadata": {},
   "outputs": [],
   "source": [
    "outputs_val = torch.stack([torch.sigmoid(output) for output in outputs_val], dim=-1)"
   ]
  },
  {
   "cell_type": "code",
   "execution_count": 72,
   "metadata": {},
   "outputs": [
    {
     "data": {
      "text/plain": [
       "0.996012"
      ]
     },
     "execution_count": 72,
     "metadata": {},
     "output_type": "execute_result"
    }
   ],
   "source": [
    "roc_auc_score(test_labels, outputs_val[:, 1])"
   ]
  },
  {
   "cell_type": "code",
   "execution_count": 73,
   "metadata": {},
   "outputs": [],
   "source": [
    "uncertainties = outputs_val[:, 2] - outputs_val[:, 0]"
   ]
  },
  {
   "cell_type": "code",
   "execution_count": 74,
   "metadata": {},
   "outputs": [
    {
     "data": {
      "text/plain": [
       "Text(0, 0.5, 'Uncertainty')"
      ]
     },
     "execution_count": 74,
     "metadata": {},
     "output_type": "execute_result"
    },
    {
     "data": {
      "image/png": "[encoded data removed]",
      "text/plain": [
       "<Figure size 432x288 with 1 Axes>"
      ]
     },
     "metadata": {
      "needs_background": "light"
     },
     "output_type": "display_data"
    }
   ],
   "source": [
    "plt.scatter(outputs_val[:, 1], uncertainties, marker='.')\n",
    "plt.xlabel('Probability')\n",
    "plt.ylabel('Uncertainty')\n"
   ]
  },
  {
   "cell_type": "code",
   "execution_count": 75,
   "metadata": {},
   "outputs": [
    {
     "data": {
      "text/plain": [
       "torch.Size([2000, 3])"
      ]
     },
     "execution_count": 75,
     "metadata": {},
     "output_type": "execute_result"
    }
   ],
   "source": [
    "outputs_val.shape"
   ]
  },
  {
   "cell_type": "code",
   "execution_count": 76,
   "metadata": {},
   "outputs": [
    {
     "data": {
      "text/plain": [
       "(tensor(0.4943), tensor(0.4933), tensor(0.5113))"
      ]
     },
     "execution_count": 76,
     "metadata": {},
     "output_type": "execute_result"
    }
   ],
   "source": [
    "outputs_val[:, 0].mean(), outputs_val[:, 1].mean(), outputs_val[:, 2].mean()"
   ]
  },
  {
   "cell_type": "code",
   "execution_count": 77,
   "metadata": {},
   "outputs": [],
   "source": [
    "test_labels = test_labels.numpy()"
   ]
  },
  {
   "cell_type": "code",
   "execution_count": 78,
   "metadata": {},
   "outputs": [
    {
     "data": {
      "text/plain": [
       "0.4139768034219742"
      ]
     },
     "execution_count": 78,
     "metadata": {},
     "output_type": "execute_result"
    }
   ],
   "source": [
    "cutoff = np.percentile(outputs_val[:, 1], 100 * (1-test_labels.mean()))\n",
    "cutoff"
   ]
  },
  {
   "cell_type": "code",
   "execution_count": 79,
   "metadata": {},
   "outputs": [],
   "source": [
    "preds = outputs_val[:, 1] > cutoff"
   ]
  },
  {
   "cell_type": "code",
   "execution_count": 80,
   "metadata": {},
   "outputs": [],
   "source": [
    "wrong_preds = (preds.numpy() != test_labels)"
   ]
  },
  {
   "cell_type": "code",
   "execution_count": 81,
   "metadata": {},
   "outputs": [
    {
     "data": {
      "text/plain": [
       "0.9336190108759552"
      ]
     },
     "execution_count": 81,
     "metadata": {},
     "output_type": "execute_result"
    }
   ],
   "source": [
    "roc_auc_score(wrong_preds, uncertainties)"
   ]
  },
  {
   "cell_type": "code",
   "execution_count": 82,
   "metadata": {},
   "outputs": [
    {
     "data": {
      "text/plain": [
       "0.32629227779118375"
      ]
     },
     "execution_count": 82,
     "metadata": {},
     "output_type": "execute_result"
    }
   ],
   "source": [
    "average_precision_score(wrong_preds, uncertainties)"
   ]
  },
  {
   "cell_type": "code",
   "execution_count": 83,
   "metadata": {},
   "outputs": [],
   "source": [
    "def asymmetric_entropy(p, w):\n",
    "    return (p * (1 - p)) / ((-2 * w + 1) * p + w ** 2)\n",
    "\n",
    "\n",
    "# uncertainties = asymmetric_entropy(outputs_val[:, 5], y_train.values.mean())\n",
    "uncertainties = asymmetric_entropy(outputs_val[:, 1], cutoff)"
   ]
  },
  {
   "cell_type": "code",
   "execution_count": 84,
   "metadata": {},
   "outputs": [
    {
     "data": {
      "text/plain": [
       "0.9384277630805409"
      ]
     },
     "execution_count": 84,
     "metadata": {},
     "output_type": "execute_result"
    }
   ],
   "source": [
    "roc_auc_score(wrong_preds, uncertainties)"
   ]
  },
  {
   "cell_type": "code",
   "execution_count": 85,
   "metadata": {},
   "outputs": [
    {
     "data": {
      "text/plain": [
       "0.3400862561692614"
      ]
     },
     "execution_count": 85,
     "metadata": {},
     "output_type": "execute_result"
    }
   ],
   "source": [
    "average_precision_score(wrong_preds, uncertainties)"
   ]
  },
  {
   "cell_type": "code",
   "execution_count": null,
   "metadata": {},
   "outputs": [],
   "source": []
  }
 ],
 "metadata": {
  "kernelspec": {
   "display_name": "Python 3",
   "language": "python",
   "name": "python3"
  },
  "language_info": {
   "codemirror_mode": {
    "name": "ipython",
    "version": 3
   },
   "file_extension": ".py",
   "mimetype": "text/x-python",
   "name": "python",
   "nbconvert_exporter": "python",
   "pygments_lexer": "ipython3",
   "version": "3.6.8"
  }
 },
 "nbformat": 4,
 "nbformat_minor": 4
}
