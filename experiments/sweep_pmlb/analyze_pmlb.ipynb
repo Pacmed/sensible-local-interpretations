{
 "cells": [
  {
   "cell_type": "code",
   "execution_count": 1,
   "metadata": {},
   "outputs": [],
   "source": [
    "%load_ext autoreload\n",
    "%autoreload 2\n",
    "import sys\n",
    "import pandas as pd\n",
    "import matplotlib.pyplot as plt\n",
    "import numpy as np\n",
    "import pickle as pkl\n",
    "from os.path import join as oj\n",
    "import seaborn as sns\n",
    "from tqdm import tqdm"
   ]
  },
  {
   "cell_type": "code",
   "execution_count": 18,
   "metadata": {},
   "outputs": [
    {
     "name": "stderr",
     "output_type": "stream",
     "text": [
      "100%|██████████| 74/74 [00:00<00:00, 454.59it/s]\n"
     ]
    }
   ],
   "source": [
    "results_dir = '/accounts/projects/vision/chandan/class-weight-uncertainty/results/pmlb'\n",
    "os.makedirs(results_dir, exist_ok=True)\n",
    "# depending on how much is saved, this may take a while\n",
    "# out_dir = '/scratch/users/vision/chandan/pacmed/with_flips/logistic'\n",
    "# out_dir = '/scratch/users/vision/chandan/pacmed/with_flips/rf'\n",
    "out_dir = '/scratch/users/vision/chandan/pacmed/with_flips/gb'\n",
    "# out_dir = '/scratch/users/vision/chandan/pacmed/with_flips/mlp_sweep'\n",
    "fnames = sorted([fname for fname in os.listdir(out_dir)])\n",
    "results_list = [pd.Series(pkl.load(open(oj(out_dir, fname), \"rb\"))) for fname in tqdm(fnames)]\n",
    "results = pd.concat(results_list, axis=1).T.infer_objects()"
   ]
  },
  {
   "cell_type": "markdown",
   "metadata": {},
   "source": [
    "**note - cw is class-weight an pe is predictive-entropy**"
   ]
  },
  {
   "cell_type": "code",
   "execution_count": null,
   "metadata": {},
   "outputs": [],
   "source": [
    "# results.describe()"
   ]
  },
  {
   "cell_type": "markdown",
   "metadata": {},
   "source": [
    "# compare statistics"
   ]
  },
  {
   "cell_type": "code",
   "execution_count": 20,
   "metadata": {},
   "outputs": [
    {
     "data": {
      "image/png": "[encoded data removed]",
      "text/plain": [
       "<Figure size 432x288 with 4 Axes>"
      ]
     },
     "metadata": {
      "needs_background": "light"
     },
     "output_type": "display_data"
    }
   ],
   "source": [
    "r = results\n",
    "\n",
    "R, C = 2, 2\n",
    "plt.subplot(R, C, 1)\n",
    "plt.title('auc auc')\n",
    "plt.plot(r.cw_auc_auc_test, r.pe_auc_auc_test, 'o')\n",
    "plt.xlabel('ours')\n",
    "plt.ylabel('baseline')\n",
    "\n",
    "\n",
    "plt.subplot(R, C, 2)\n",
    "plt.title('flipped_diff')\n",
    "plt.plot(r.cw_flipped_diff_test, r.pe_flipped_diff_test, 'o')\n",
    "plt.xlabel('ours')\n",
    "plt.ylabel('baseline')\n",
    "\n",
    "plt.subplot(R, C, 3)\n",
    "plt.title('calibration rmse')\n",
    "plt.plot(r.cw_calibration_rmse_test, r.pe_calibration_rmse_test, 'o')\n",
    "plt.xlabel('ours')\n",
    "plt.ylabel('baseline')\n",
    "\n",
    "plt.subplot(R, C, 4)\n",
    "plt.title('loss auc')\n",
    "plt.plot(r.cw_loss_auc_test, r.pe_loss_auc_test, 'o')\n",
    "plt.xscale('log')\n",
    "plt.yscale('log')\n",
    "plt.xlabel('ours')\n",
    "plt.ylabel('baseline')\n",
    "\n",
    "plt.tight_layout()\n",
    "plt.savefig(oj(results_dir, 'pmlb_results.pdf'))\n",
    "plt.show()"
   ]
  },
  {
   "cell_type": "markdown",
   "metadata": {},
   "source": [
    "# look at best dsets"
   ]
  },
  {
   "cell_type": "code",
   "execution_count": 26,
   "metadata": {},
   "outputs": [],
   "source": [
    "r['auc_auc_diff'] = r.cw_auc_auc_test - r.pe_auc_auc_test\n",
    "r['calibration_diff'] = r.cw_calibration_rmse_test - r.pe_calibration_rmse_test"
   ]
  },
  {
   "cell_type": "code",
   "execution_count": null,
   "metadata": {},
   "outputs": [],
   "source": [
    "r2 = r\n",
    "r2 = r2.sort_values(by='calibration_diff', ascending=False)\n",
    "r2[['auc_auc_diff', 'calibration_diff']]"
   ]
  },
  {
   "cell_type": "code",
   "execution_count": 23,
   "metadata": {},
   "outputs": [
    {
     "name": "stdout",
     "output_type": "stream",
     "text": [
      "\\begin{tabular}{l c c}\n",
      "Dataset\t&\tClass-weight uncertainty AUC\t&\tUncertainty entropy AUC \\\\\n",
      "\\hline\n",
      "dis\t&\t84.37\t&\t26.96\\\\\n",
      "hypothyroid\t&\t77.93\t&\t68.45\\\\\n",
      "churn\t&\t84.17\t&\t75.02\\\\\n",
      "phoneme\t&\t83.47\t&\t75.71\\\\\n",
      "flare\t&\t54.03\t&\t48.07\\\\\n",
      "Hill\\_Valley\\_without\\_noise\t&\t42.20\t&\t40.09\\\\\n",
      "monk2\t&\t39.07\t&\t37.37\\\\\n",
      "GAMETES\\_Epistasis\\_3-Way\\_20atts\\_0.2H\\_EDM-1\\_1\t&\t45.12\t&\t43.57\\\\\n",
      "coil2000\t&\t63.36\t&\t62.58\\\\\n",
      "GAMETES\\_Epistasis\\_2-Way\\_1000atts\\_0.4H\\_EDM-1\\_EDM-1\\_1\t&\t36.70\t&\t36.04\\\\\n",
      "\\end{tabular}\n"
     ]
    }
   ],
   "source": [
    "print('\\\\begin{tabular}{l c c}')\n",
    "print('Dataset\\t&\\tClass-weight uncertainty AUC\\t&\\tPredictive entropy AUC \\\\\\\\')\n",
    "print('\\hline')\n",
    "for i in range(10):\n",
    "    row = r2.iloc[i]\n",
    "    name = row.dset_name.replace(\"_\", \"\\_\")\n",
    "    print(f'{name}\\t&\\t{row.cw_auc_auc_test:0.2f}\\t&\\t{row.pe_auc_auc_test:0.2f}\\\\\\\\')\n",
    "print('\\end{tabular}')"
   ]
  }
 ],
 "metadata": {
  "kernelspec": {
   "display_name": "Python 3",
   "language": "python",
   "name": "python3"
  },
  "language_info": {
   "codemirror_mode": {
    "name": "ipython",
    "version": 3
   },
   "file_extension": ".py",
   "mimetype": "text/x-python",
   "name": "python",
   "nbconvert_exporter": "python",
   "pygments_lexer": "ipython3",
   "version": "3.7.0"
  }
 },
 "nbformat": 4,
 "nbformat_minor": 4
}
