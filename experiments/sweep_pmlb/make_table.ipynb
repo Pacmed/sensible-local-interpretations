{
 "cells": [
  {
   "cell_type": "code",
   "execution_count": 11,
   "metadata": {},
   "outputs": [
    {
     "name": "stdout",
     "output_type": "stream",
     "text": [
      "The autoreload extension is already loaded. To reload it, use:\n",
      "  %reload_ext autoreload\n"
     ]
    }
   ],
   "source": [
    "%load_ext autoreload\n",
    "%autoreload 2\n",
    "import sys\n",
    "import pandas as pd\n",
    "import matplotlib.pyplot as plt\n",
    "import numpy as np\n",
    "import pickle as pkl\n",
    "from os.path import join as oj\n",
    "import seaborn as sns\n",
    "from tqdm import tqdm"
   ]
  },
  {
   "cell_type": "code",
   "execution_count": 12,
   "metadata": {},
   "outputs": [
    {
     "name": "stderr",
     "output_type": "stream",
     "text": [
      "100%|██████████| 94/94 [00:00<00:00, 309.26it/s]\n"
     ]
    }
   ],
   "source": [
    "results_dir = '/accounts/projects/vision/chandan/class-weight-uncertainty/results/pmlb'\n",
    "os.makedirs(results_dir, exist_ok=True)\n",
    "# depending on how much is saved, this may take a while\n",
    "# out_dir = '/scratch/users/vision/chandan/pacmed/with_flips_bugs/logistic'\n",
    "# out_dir = '/scratch/users/vision/chandan/pacmed/with_flips_bugs/rf'\n",
    "# out_dir = '/scratch/users/vision/chandan/pacmed/with_flips_bugs/gb'\n",
    "# out_dir = '/scratch/users/vision/chandan/pacmed/with_flips_bugs/mlp_sweep'\n",
    "out_dir = '/scratch/users/vision/chandan/pacmed/no_flips/mlp2'\n",
    "fnames = sorted([fname for fname in os.listdir(out_dir)])\n",
    "results_list = [pd.Series(pkl.load(open(oj(out_dir, fname), \"rb\"))) for fname in tqdm(fnames)]\n",
    "results = pd.concat(results_list, axis=1).T.infer_objects()"
   ]
  },
  {
   "cell_type": "markdown",
   "metadata": {},
   "source": [
    "**note - cw is class-weight an pe is predictive-entropy**"
   ]
  },
  {
   "cell_type": "code",
   "execution_count": 13,
   "metadata": {},
   "outputs": [],
   "source": [
    "# results.describe()"
   ]
  },
  {
   "cell_type": "markdown",
   "metadata": {},
   "source": [
    "# compare statistics"
   ]
  },
  {
   "cell_type": "code",
   "execution_count": 14,
   "metadata": {},
   "outputs": [
    {
     "data": {
      "image/png": "[encoded data removed]",
      "text/plain": [
       "<Figure size 432x288 with 4 Axes>"
      ]
     },
     "metadata": {
      "needs_background": "light"
     },
     "output_type": "display_data"
    }
   ],
   "source": [
    "r = results\n",
    "\n",
    "R, C = 2, 2\n",
    "plt.subplot(R, C, 1)\n",
    "plt.title('auc auc')\n",
    "plt.plot(r.cw_auc_auc_test, r.pe_auc_auc_test, 'o')\n",
    "plt.xlabel('ours')\n",
    "plt.ylabel('baseline')\n",
    "\n",
    "\n",
    "plt.subplot(R, C, 2)\n",
    "plt.title('flipped_diff')\n",
    "plt.plot(r.cw_flipped_diff_test, r.pe_flipped_diff_test, 'o')\n",
    "plt.xlabel('ours')\n",
    "plt.ylabel('baseline')\n",
    "\n",
    "plt.subplot(R, C, 3)\n",
    "plt.title('calibration rmse')\n",
    "plt.plot(r.cw_calibration_rmse_test, r.pe_calibration_rmse_test, 'o')\n",
    "plt.xlabel('ours')\n",
    "plt.ylabel('baseline')\n",
    "\n",
    "plt.subplot(R, C, 4)\n",
    "plt.title('loss auc')\n",
    "plt.plot(r.cw_loss_auc_test, r.pe_loss_auc_test, 'o')\n",
    "plt.xscale('log')\n",
    "plt.yscale('log')\n",
    "plt.xlabel('ours')\n",
    "plt.ylabel('baseline')\n",
    "\n",
    "plt.tight_layout()\n",
    "plt.savefig(oj(results_dir, 'pmlb_results.pdf'))\n",
    "plt.show()"
   ]
  },
  {
   "cell_type": "code",
   "execution_count": null,
   "metadata": {},
   "outputs": [],
   "source": []
  },
  {
   "cell_type": "code",
   "execution_count": null,
   "metadata": {},
   "outputs": [],
   "source": []
  }
 ],
 "metadata": {
  "kernelspec": {
   "display_name": "Python 3",
   "language": "python",
   "name": "python3"
  },
  "language_info": {
   "codemirror_mode": {
    "name": "ipython",
    "version": 3
   },
   "file_extension": ".py",
   "mimetype": "text/x-python",
   "name": "python",
   "nbconvert_exporter": "python",
   "pygments_lexer": "ipython3",
   "version": "3.7.0"
  }
 },
 "nbformat": 4,
 "nbformat_minor": 4
}
