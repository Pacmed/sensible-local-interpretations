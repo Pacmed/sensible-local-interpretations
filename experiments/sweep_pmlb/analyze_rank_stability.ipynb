{
 "cells": [
  {
   "cell_type": "code",
   "execution_count": 81,
   "metadata": {},
   "outputs": [
    {
     "name": "stdout",
     "output_type": "stream",
     "text": [
      "The autoreload extension is already loaded. To reload it, use:\n",
      "  %reload_ext autoreload\n"
     ]
    }
   ],
   "source": [
    "%load_ext autoreload\n",
    "%autoreload 2\n",
    "import sys\n",
    "import pandas as pd\n",
    "import matplotlib.pyplot as plt\n",
    "import numpy as np\n",
    "import pickle as pkl\n",
    "from os.path import join as oj\n",
    "import seaborn as sns\n",
    "from tqdm import tqdm\n",
    "from copy import deepcopy"
   ]
  },
  {
   "cell_type": "code",
   "execution_count": 82,
   "metadata": {},
   "outputs": [
    {
     "name": "stderr",
     "output_type": "stream",
     "text": [
      "100%|██████████| 296/296 [00:00<00:00, 321.77it/s]\n"
     ]
    }
   ],
   "source": [
    "results_dir = '/accounts/projects/vision/chandan/class-weight-uncertainty/results/pmlb'\n",
    "os.makedirs(results_dir, exist_ok=True)\n",
    "out_dir = '/scratch/users/vision/chandan/pacmed/flips/logistic_stability'\n",
    "fnames = sorted([fname for fname in os.listdir(out_dir)])\n",
    "results_list = [pd.Series(pkl.load(open(oj(out_dir, fname), \"rb\"))) for fname in tqdm(fnames)]\n",
    "results = pd.concat(results_list, axis=1).T.infer_objects()"
   ]
  },
  {
   "cell_type": "markdown",
   "metadata": {},
   "source": [
    "**note - cw is class-weight an pe is predictive-entropy**"
   ]
  },
  {
   "cell_type": "code",
   "execution_count": 83,
   "metadata": {},
   "outputs": [],
   "source": [
    "# results.describe()"
   ]
  },
  {
   "cell_type": "markdown",
   "metadata": {},
   "source": [
    "# compare different class weights"
   ]
  },
  {
   "cell_type": "code",
   "execution_count": 84,
   "metadata": {},
   "outputs": [],
   "source": [
    "r = results"
   ]
  },
  {
   "cell_type": "code",
   "execution_count": 85,
   "metadata": {},
   "outputs": [],
   "source": [
    "def plot_corr(corr):\n",
    "    # Generate a mask for the upper triangle\n",
    "    mask = np.zeros_like(corr, dtype=np.bool)\n",
    "    mask[np.triu_indices_from(mask)] = True\n",
    "\n",
    "    # Set up the matplotlib figure\n",
    "    f, ax = plt.subplots(figsize=(11, 9))\n",
    "\n",
    "    # Generate a custom diverging colormap\n",
    "    cmap = sns.diverging_palette(10, 220, as_cmap=True)\n",
    "\n",
    "    # Draw the heatmap with the mask and correct aspect ratio\n",
    "    sns.heatmap(corr, mask=mask, cmap=cmap, vmax=0.2, center=0,\n",
    "                square=True, linewidths=.5, annot=True, \n",
    "                cbar_kws={\"shrink\": .5})"
   ]
  },
  {
   "cell_type": "code",
   "execution_count": 119,
   "metadata": {},
   "outputs": [],
   "source": [
    "r = results\n",
    "mean_corrs = []\n",
    "dset_names = []\n",
    "for d in np.unique(r.dset_name):\n",
    "    r_d = r[r.dset_name == d].sort_values(by='class_weight')['cw_ranks_test'].values\n",
    "    ranks = np.array([np.array(arr) for arr in r_d]) # num class_weights x n\n",
    "    ranks_df = pd.DataFrame(ranks).transpose()\n",
    "    corr = ranks_df.corr()\n",
    "    mean_corr = (np.sum(corr.values[0]) - 1) / (corr.shape[0] - 1)\n",
    "    mean_corrs.append(mean_corr)\n",
    "    dset_names.append(d.replace(\"_\", \"\\_\"))\n",
    "    \n",
    "out_df = pd.DataFrame({'mean_corr': mean_corrs, 'dset_name': pd.Series(dset_names).str.lower()})\n",
    "out_df = out_df.sort_values(by='dset_name') #, ascending=False)\n",
    "# out_df = out_df.sort_values(by='mean_corr', ascending=False)"
   ]
  },
  {
   "cell_type": "code",
   "execution_count": 122,
   "metadata": {},
   "outputs": [
    {
     "name": "stdout",
     "output_type": "stream",
     "text": [
      "adult\t&\t-0.00 \\\\\n",
      "agaricus-lepiota\t&\t 0.02 \\\\\n",
      "analcatdata\\_asbestos\t&\t 0.23 \\\\\n",
      "analcatdata\\_bankruptcy\t&\t 0.17 \\\\\n",
      "analcatdata\\_boxing1\t&\t 0.76 \\\\\n",
      "analcatdata\\_boxing2\t&\t 0.34 \\\\\n",
      "analcatdata\\_creditscore\t&\t 0.71 \\\\\n",
      "analcatdata\\_cyyoung8092\t&\t 0.45 \\\\\n",
      "analcatdata\\_cyyoung9302\t&\t-0.05 \\\\\n",
      "analcatdata\\_fraud\t&\t 0.17 \\\\\n",
      "analcatdata\\_japansolvent\t&\t 0.19 \\\\\n",
      "analcatdata\\_lawsuit\t&\t 0.24 \\\\\n",
      "appendicitis\t&\t 0.49 \\\\\n",
      "australian\t&\t 0.01 \\\\\n",
      "backache\t&\t 0.15 \\\\\n",
      "banana\t&\t 0.05 \\\\\n",
      "biomed\t&\t 0.21 \\\\\n",
      "breast\t&\t 0.00 \\\\\n",
      "breast-cancer\t&\t 0.17 \\\\\n",
      "breast-cancer-wisconsin\t&\t 0.08 \\\\\n",
      "breast-w\t&\t 0.11 \\\\\n",
      "buggycrx\t&\t-0.02 \\\\\n",
      "bupa\t&\t 0.28 \\\\\n",
      "chess\t&\t-0.02 \\\\\n",
      "churn\t&\t 0.02 \\\\\n",
      "clean1\t&\t 0.21 \\\\\n",
      "clean2\t&\t-0.02 \\\\\n",
      "cleve\t&\t 0.10 \\\\\n",
      "coil2000\t&\t 0.02 \\\\\n",
      "colic\t&\t 0.06 \\\\\n",
      "corral\t&\t 0.13 \\\\\n",
      "credit-a\t&\t-0.02 \\\\\n",
      "credit-g\t&\t 0.10 \\\\\n",
      "crx\t&\t 0.05 \\\\\n",
      "diabetes\t&\t 0.14 \\\\\n",
      "dis\t&\t 0.02 \\\\\n",
      "flare\t&\t 0.13 \\\\\n",
      "gametes\\_epistasis\\_2-way\\_1000atts\\_0.4h\\_edm-1\\_edm-1\\_1\t&\t 0.01 \\\\\n",
      "gametes\\_epistasis\\_2-way\\_20atts\\_0.1h\\_edm-1\\_1\t&\t 0.02 \\\\\n",
      "gametes\\_epistasis\\_2-way\\_20atts\\_0.4h\\_edm-1\\_1\t&\t 0.14 \\\\\n",
      "gametes\\_epistasis\\_3-way\\_20atts\\_0.2h\\_edm-1\\_1\t&\t 0.08 \\\\\n",
      "gametes\\_heterogeneity\\_20atts\\_1600\\_het\\_0.4\\_0.2\\_50\\_edm-2\\_001\t&\t 0.11 \\\\\n",
      "gametes\\_heterogeneity\\_20atts\\_1600\\_het\\_0.4\\_0.2\\_75\\_edm-2\\_001\t&\t 0.06 \\\\\n",
      "german\t&\t-0.03 \\\\\n",
      "glass2\t&\t 0.19 \\\\\n",
      "haberman\t&\t 0.24 \\\\\n",
      "heart-c\t&\t 0.00 \\\\\n",
      "heart-h\t&\t 0.11 \\\\\n",
      "heart-statlog\t&\t 0.17 \\\\\n",
      "hepatitis\t&\t 0.30 \\\\\n",
      "hill\\_valley\\_with\\_noise\t&\t 0.07 \\\\\n",
      "hill\\_valley\\_without\\_noise\t&\t 0.11 \\\\\n",
      "horse-colic\t&\t 0.10 \\\\\n",
      "house-votes-84\t&\t 0.08 \\\\\n",
      "hungarian\t&\t 0.05 \\\\\n",
      "hypothyroid\t&\t-0.00 \\\\\n",
      "ionosphere\t&\t 0.13 \\\\\n",
      "irish\t&\t 0.37 \\\\\n",
      "kr-vs-kp\t&\t 0.00 \\\\\n",
      "labor\t&\t 0.50 \\\\\n",
      "liver-disorder\t&\t 0.23 \\\\\n",
      "lupus\t&\t 0.63 \\\\\n",
      "magic\t&\t-0.00 \\\\\n",
      "mofn-3-7-10\t&\t 0.23 \\\\\n",
      "molecular-biology\\_promoters\t&\t 0.28 \\\\\n",
      "monk1\t&\t 0.10 \\\\\n",
      "monk2\t&\t 0.22 \\\\\n",
      "monk3\t&\t 0.02 \\\\\n",
      "mushroom\t&\t-0.01 \\\\\n",
      "mux6\t&\t 0.12 \\\\\n",
      "parity5\t&\t 1.00 \\\\\n",
      "parity5+5\t&\t 0.06 \\\\\n",
      "phoneme\t&\t 0.00 \\\\\n",
      "pima\t&\t 0.06 \\\\\n"
     ]
    }
   ],
   "source": [
    "for i, r in out_df.iterrows():\n",
    "    print(f'{r.dset_name}\\t&\\t{r.mean_corr: 0.2f} \\\\\\\\')"
   ]
  },
  {
   "cell_type": "code",
   "execution_count": 110,
   "metadata": {},
   "outputs": [
    {
     "data": {
      "text/plain": [
       "(array([26., 22., 14.,  4.,  2.,  2.,  1.,  2.,  0.,  1.]),\n",
       " array([-0.04874835,  0.05612648,  0.16100132,  0.26587615,  0.37075099,\n",
       "         0.47562582,  0.58050066,  0.68537549,  0.79025033,  0.89512516,\n",
       "         1.        ]),\n",
       " <a list of 10 Patch objects>)"
      ]
     },
     "execution_count": 110,
     "metadata": {},
     "output_type": "execute_result"
    },
    {
     "data": {
      "image/png": "[encoded data removed]",
      "text/plain": [
       "<Figure size 432x288 with 1 Axes>"
      ]
     },
     "metadata": {
      "needs_background": "light"
     },
     "output_type": "display_data"
    }
   ],
   "source": [
    "plt.hist(out_df.mean_corr)"
   ]
  },
  {
   "cell_type": "code",
   "execution_count": null,
   "metadata": {},
   "outputs": [],
   "source": []
  },
  {
   "cell_type": "code",
   "execution_count": null,
   "metadata": {},
   "outputs": [],
   "source": []
  },
  {
   "cell_type": "code",
   "execution_count": null,
   "metadata": {},
   "outputs": [],
   "source": []
  }
 ],
 "metadata": {
  "kernelspec": {
   "display_name": "Python 3",
   "language": "python",
   "name": "python3"
  },
  "language_info": {
   "codemirror_mode": {
    "name": "ipython",
    "version": 3
   },
   "file_extension": ".py",
   "mimetype": "text/x-python",
   "name": "python",
   "nbconvert_exporter": "python",
   "pygments_lexer": "ipython3",
   "version": "3.7.0"
  }
 },
 "nbformat": 4,
 "nbformat_minor": 4
}
