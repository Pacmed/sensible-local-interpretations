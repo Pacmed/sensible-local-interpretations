{
 "cells": [
  {
   "cell_type": "code",
   "execution_count": 36,
   "metadata": {},
   "outputs": [
    {
     "name": "stdout",
     "output_type": "stream",
     "text": [
      "The autoreload extension is already loaded. To reload it, use:\n",
      "  %reload_ext autoreload\n"
     ]
    }
   ],
   "source": [
    "%load_ext autoreload\n",
    "%autoreload 2\n",
    "import sys\n",
    "import pandas as pd\n",
    "import matplotlib.pyplot as plt\n",
    "import numpy as np\n",
    "import pickle as pkl\n",
    "from os.path import join as oj\n",
    "import seaborn as sns\n",
    "from tqdm import tqdm\n",
    "from copy import deepcopy"
   ]
  },
  {
   "cell_type": "code",
   "execution_count": 37,
   "metadata": {},
   "outputs": [
    {
     "name": "stderr",
     "output_type": "stream",
     "text": [
      "100%|██████████| 28/28 [00:00<00:00, 215.45it/s]\n"
     ]
    }
   ],
   "source": [
    "results_dir = '/accounts/projects/vision/chandan/class-weight-uncertainty/results/pmlb'\n",
    "os.makedirs(results_dir, exist_ok=True)\n",
    "# out_dir = '/scratch/users/vision/chandan/pacmed/flips/logistic_stability'\n",
    "out_dir = '/scratch/users/vision/chandan/pacmed/flips/mlp2_stability'\n",
    "fnames = sorted([fname for fname in os.listdir(out_dir)])\n",
    "results_list = [pd.Series(pkl.load(open(oj(out_dir, fname), \"rb\"))) for fname in tqdm(fnames)]\n",
    "results = pd.concat(results_list, axis=1).T.infer_objects()"
   ]
  },
  {
   "cell_type": "markdown",
   "metadata": {},
   "source": [
    "**note - cw is class-weight an pe is predictive-entropy**"
   ]
  },
  {
   "cell_type": "code",
   "execution_count": 38,
   "metadata": {},
   "outputs": [],
   "source": [
    "# results.describe()"
   ]
  },
  {
   "cell_type": "markdown",
   "metadata": {},
   "source": [
    "# compare different class weights"
   ]
  },
  {
   "cell_type": "code",
   "execution_count": 39,
   "metadata": {},
   "outputs": [],
   "source": [
    "r = results"
   ]
  },
  {
   "cell_type": "code",
   "execution_count": 40,
   "metadata": {},
   "outputs": [],
   "source": [
    "def plot_corr(corr):\n",
    "    # Generate a mask for the upper triangle\n",
    "    mask = np.zeros_like(corr, dtype=np.bool)\n",
    "    mask[np.triu_indices_from(mask)] = True\n",
    "\n",
    "    # Set up the matplotlib figure\n",
    "    f, ax = plt.subplots(figsize=(11, 9))\n",
    "\n",
    "    # Generate a custom diverging colormap\n",
    "    cmap = sns.diverging_palette(10, 220, as_cmap=True)\n",
    "\n",
    "    # Draw the heatmap with the mask and correct aspect ratio\n",
    "    sns.heatmap(corr, mask=mask, cmap=cmap, vmax=0.2, center=0,\n",
    "                square=True, linewidths=.5, annot=True, \n",
    "                cbar_kws={\"shrink\": .5})"
   ]
  },
  {
   "cell_type": "code",
   "execution_count": 41,
   "metadata": {},
   "outputs": [],
   "source": [
    "r = results\n",
    "mean_corrs = []\n",
    "dset_names = []\n",
    "for d in np.unique(r.dset_name):\n",
    "    r_d = r[r.dset_name == d].sort_values(by='class_weight')['cw_ranks_test'].values\n",
    "    ranks = np.array([np.array(arr) for arr in r_d]) # num class_weights x n\n",
    "    ranks_df = pd.DataFrame(ranks).transpose()\n",
    "    corr = ranks_df.corr()\n",
    "    mean_corr = (np.sum(corr.values[0]) - 1) / (corr.shape[0] - 1)\n",
    "    mean_corrs.append(mean_corr)\n",
    "    dset_names.append(d.replace(\"_\", \"\\_\"))\n",
    "    \n",
    "out_df = pd.DataFrame({'mean_corr': mean_corrs, 'dset_name': pd.Series(dset_names).str.lower()})\n",
    "out_df = out_df.sort_values(by='dset_name') #, ascending=False)\n",
    "# out_df = out_df.sort_values(by='mean_corr', ascending=False)"
   ]
  },
  {
   "cell_type": "code",
   "execution_count": 42,
   "metadata": {},
   "outputs": [
    {
     "name": "stdout",
     "output_type": "stream",
     "text": [
      "agaricus-lepiota\t&\t-0.02 \\\\\n",
      "gametes\\_epistasis\\_2-way\\_1000atts\\_0.4h\\_edm-1\\_edm-1\\_1\t&\t-0.06 \\\\\n",
      "gametes\\_epistasis\\_2-way\\_20atts\\_0.1h\\_edm-1\\_1\t&\t 0.06 \\\\\n",
      "gametes\\_epistasis\\_2-way\\_20atts\\_0.4h\\_edm-1\\_1\t&\t 0.02 \\\\\n",
      "gametes\\_epistasis\\_3-way\\_20atts\\_0.2h\\_edm-1\\_1\t&\t 0.01 \\\\\n",
      "gametes\\_heterogeneity\\_20atts\\_1600\\_het\\_0.4\\_0.2\\_50\\_edm-2\\_001\t&\t 0.04 \\\\\n",
      "gametes\\_heterogeneity\\_20atts\\_1600\\_het\\_0.4\\_0.2\\_75\\_edm-2\\_001\t&\t 0.03 \\\\\n",
      "hill\\_valley\\_with\\_noise\t&\t 0.06 \\\\\n",
      "hill\\_valley\\_without\\_noise\t&\t 0.05 \\\\\n"
     ]
    }
   ],
   "source": [
    "for i, r in out_df.iterrows():\n",
    "    print(f'{r.dset_name}\\t&\\t{r.mean_corr: 0.2f} \\\\\\\\')"
   ]
  },
  {
   "cell_type": "code",
   "execution_count": 43,
   "metadata": {},
   "outputs": [
    {
     "data": {
      "text/plain": [
       "(array([1., 0., 0., 1., 0., 1., 2., 1., 0., 3.]),\n",
       " array([-0.05972512, -0.04742227, -0.03511941, -0.02281655, -0.0105137 ,\n",
       "         0.00178916,  0.01409202,  0.02639487,  0.03869773,  0.05100059,\n",
       "         0.06330344]),\n",
       " <a list of 10 Patch objects>)"
      ]
     },
     "execution_count": 43,
     "metadata": {},
     "output_type": "execute_result"
    },
    {
     "data": {
      "image/png": "[encoded data removed]",
      "text/plain": [
       "<Figure size 432x288 with 1 Axes>"
      ]
     },
     "metadata": {
      "needs_background": "light"
     },
     "output_type": "display_data"
    }
   ],
   "source": [
    "plt.hist(out_df.mean_corr)"
   ]
  }
 ],
 "metadata": {
  "kernelspec": {
   "display_name": "Python 3",
   "language": "python",
   "name": "python3"
  },
  "language_info": {
   "codemirror_mode": {
    "name": "ipython",
    "version": 3
   },
   "file_extension": ".py",
   "mimetype": "text/x-python",
   "name": "python",
   "nbconvert_exporter": "python",
   "pygments_lexer": "ipython3",
   "version": "3.7.0"
  }
 },
 "nbformat": 4,
 "nbformat_minor": 4
}
